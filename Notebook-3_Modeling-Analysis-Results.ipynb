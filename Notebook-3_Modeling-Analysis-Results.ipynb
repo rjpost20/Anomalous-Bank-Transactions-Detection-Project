{
  "nbformat": 4,
  "nbformat_minor": 0,
  "metadata": {
    "colab": {
      "name": "Notebook-3_Modeling-Analysis-Results.ipynb",
      "provenance": [],
      "collapsed_sections": [],
      "machine_shape": "hm",
      "authorship_tag": "ABX9TyPG1QIJsK4HKRf6mid+tPG2"
    },
    "kernelspec": {
      "name": "python3",
      "display_name": "Python 3"
    },
    "language_info": {
      "name": "python"
    },
    "gpuClass": "standard"
  },
  "cells": [
    {
      "cell_type": "markdown",
      "source": [
        "<img src=\"https://github.com/rjpost20/Anomalous-Bank-Transactions-Detection-Project/blob/main/data/AdobeStock_319163865.jpeg?raw=true\">\n",
        "Image by <a href=\"https://stock.adobe.com/contributor/200768506/andsus?load_type=author&prev_url=detail\" >AndSus</a> on Adobe Stock"
      ],
      "metadata": {
        "id": "_6bs9GYKTazR"
      }
    },
    {
      "cell_type": "markdown",
      "source": [
        "# Phase 5 Project: *Detecting Anomalous Financial Transactions*"
      ],
      "metadata": {
        "id": "7VB6bZymTwee"
      }
    },
    {
      "cell_type": "markdown",
      "source": [
        "## Notebook 3: Modeling, Analysis and Results"
      ],
      "metadata": {
        "id": "nCbcIwMIT8L2"
      }
    },
    {
      "cell_type": "markdown",
      "source": [
        "### By Ryan Posternak"
      ],
      "metadata": {
        "id": "xIF5Rp36UDq8"
      }
    },
    {
      "cell_type": "markdown",
      "source": [
        "Flatiron School, Full-Time Live NYC<br>\n",
        "Project Presentation Date: August 25th, 2022<br>\n",
        "Instructor: Joseph Mata"
      ],
      "metadata": {
        "id": "02ym0eygUI_s"
      }
    },
    {
      "cell_type": "markdown",
      "source": [
        "<br>"
      ],
      "metadata": {
        "id": "tITdkCs8UbQf"
      }
    },
    {
      "cell_type": "markdown",
      "source": [
        "# Imports and Reading in Data"
      ],
      "metadata": {
        "id": "YVvo7KHTUQbw"
      }
    },
    {
      "cell_type": "markdown",
      "source": [
        "### Google colab compatibility downloads"
      ],
      "metadata": {
        "id": "xsGuZAD3URpn"
      }
    },
    {
      "cell_type": "code",
      "source": [
        "!sudo apt update\n",
        "!apt-get install openjdk-8-jdk-headless -qq > /dev/null\n",
        "!wget -q https://dlcdn.apache.org/spark/spark-3.3.0/spark-3.3.0-bin-hadoop3.tgz \n",
        "!tar xf spark-3.3.0-bin-hadoop3.tgz\n",
        "import os\n",
        "os.environ[\"JAVA_HOME\"] = \"/usr/lib/jvm/java-8-openjdk-amd64\"\n",
        "os.environ[\"SPARK_HOME\"] = \"/content/spark-3.3.0-bin-hadoop3\"\n",
        "!pip install pyspark==3.3.0\n",
        "!pip install -q findspark\n",
        "import findspark\n",
        "findspark.init()"
      ],
      "metadata": {
        "colab": {
          "base_uri": "https://localhost:8080/"
        },
        "id": "5vbzjcsbUSJ1",
        "outputId": "b8338a2c-4327-4462-a3ae-436b6056ca50"
      },
      "execution_count": 1,
      "outputs": [
        {
          "output_type": "stream",
          "name": "stdout",
          "text": [
            "\u001b[33m\r0% [Working]\u001b[0m\r            \rHit:1 http://archive.ubuntu.com/ubuntu bionic InRelease\n",
            "\u001b[33m\r0% [Waiting for headers] [Connecting to security.ubuntu.com] [Connecting to clo\u001b[0m\r                                                                               \rGet:2 http://archive.ubuntu.com/ubuntu bionic-updates InRelease [88.7 kB]\n",
            "\u001b[33m\r0% [2 InRelease 56.2 kB/88.7 kB 63%] [Connecting to security.ubuntu.com] [Conne\u001b[0m\u001b[33m\r0% [1 InRelease gpgv 242 kB] [2 InRelease 56.2 kB/88.7 kB 63%] [Connecting to s\u001b[0m\r                                                                               \rGet:3 https://cloud.r-project.org/bin/linux/ubuntu bionic-cran40/ InRelease [3,626 B]\n",
            "\u001b[33m\r0% [1 InRelease gpgv 242 kB] [Waiting for headers] [Connecting to security.ubun\u001b[0m\r                                                                               \rGet:4 http://archive.ubuntu.com/ubuntu bionic-backports InRelease [74.6 kB]\n",
            "Get:5 http://ppa.launchpad.net/c2d4u.team/c2d4u4.0+/ubuntu bionic InRelease [15.9 kB]\n",
            "Get:6 http://security.ubuntu.com/ubuntu bionic-security InRelease [88.7 kB]\n",
            "Get:7 http://archive.ubuntu.com/ubuntu bionic-updates/universe amd64 Packages [2,311 kB]\n",
            "Hit:8 http://ppa.launchpad.net/cran/libgit2/ubuntu bionic InRelease\n",
            "Get:9 http://archive.ubuntu.com/ubuntu bionic-updates/main amd64 Packages [3,369 kB]\n",
            "Hit:10 http://ppa.launchpad.net/deadsnakes/ppa/ubuntu bionic InRelease\n",
            "Ign:11 https://developer.download.nvidia.com/compute/machine-learning/repos/ubuntu1804/x86_64  InRelease\n",
            "Get:12 https://developer.download.nvidia.com/compute/cuda/repos/ubuntu1804/x86_64  InRelease [1,581 B]\n",
            "Hit:13 http://ppa.launchpad.net/graphics-drivers/ppa/ubuntu bionic InRelease\n",
            "Hit:14 https://developer.download.nvidia.com/compute/machine-learning/repos/ubuntu1804/x86_64  Release\n",
            "Get:15 http://ppa.launchpad.net/c2d4u.team/c2d4u4.0+/ubuntu bionic/main Sources [2,095 kB]\n",
            "Get:16 http://security.ubuntu.com/ubuntu bionic-security/main amd64 Packages [2,937 kB]\n",
            "Get:17 https://developer.download.nvidia.com/compute/cuda/repos/ubuntu1804/x86_64  Packages [910 kB]\n",
            "Get:19 http://security.ubuntu.com/ubuntu bionic-security/universe amd64 Packages [1,533 kB]\n",
            "Get:20 http://ppa.launchpad.net/c2d4u.team/c2d4u4.0+/ubuntu bionic/main amd64 Packages [1,073 kB]\n",
            "Fetched 14.5 MB in 2s (6,706 kB/s)\n",
            "Reading package lists... Done\n",
            "Building dependency tree       \n",
            "Reading state information... Done\n",
            "25 packages can be upgraded. Run 'apt list --upgradable' to see them.\n",
            "Looking in indexes: https://pypi.org/simple, https://us-python.pkg.dev/colab-wheels/public/simple/\n",
            "Collecting pyspark==3.3.0\n",
            "  Downloading pyspark-3.3.0.tar.gz (281.3 MB)\n",
            "\u001b[K     |████████████████████████████████| 281.3 MB 36 kB/s \n",
            "\u001b[?25hCollecting py4j==0.10.9.5\n",
            "  Downloading py4j-0.10.9.5-py2.py3-none-any.whl (199 kB)\n",
            "\u001b[K     |████████████████████████████████| 199 kB 65.6 MB/s \n",
            "\u001b[?25hBuilding wheels for collected packages: pyspark\n",
            "  Building wheel for pyspark (setup.py) ... \u001b[?25l\u001b[?25hdone\n",
            "  Created wheel for pyspark: filename=pyspark-3.3.0-py2.py3-none-any.whl size=281764026 sha256=d2333b5b4ea89bf7cb4eacb6814e6cfb8e28837859de5c5ca7346557d5fd156d\n",
            "  Stored in directory: /root/.cache/pip/wheels/7a/8e/1b/f73a52650d2e5f337708d9f6a1750d451a7349a867f928b885\n",
            "Successfully built pyspark\n",
            "Installing collected packages: py4j, pyspark\n",
            "Successfully installed py4j-0.10.9.5 pyspark-3.3.0\n"
          ]
        }
      ]
    },
    {
      "cell_type": "code",
      "source": [
        "# Connect to Google drive\n",
        "from google.colab import drive, files\n",
        "drive.mount('/content/drive')\n",
        "drive_path = '/content/drive/MyDrive/Colab Notebooks/'"
      ],
      "metadata": {
        "id": "ZL5VI-6OUSmC",
        "colab": {
          "base_uri": "https://localhost:8080/",
          "height": 35
        },
        "outputId": "7190d570-9bf6-4296-af04-cf9d823685e2"
      },
      "execution_count": 55,
      "outputs": [
        {
          "output_type": "display_data",
          "data": {
            "text/plain": [
              "<IPython.core.display.HTML object>"
            ],
            "text/html": [
              "\n",
              "    <style>\n",
              "      pre {\n",
              "          white-space: pre-wrap;\n",
              "      }\n",
              "    </style>\n",
              "    "
            ]
          },
          "metadata": {}
        },
        {
          "output_type": "stream",
          "name": "stdout",
          "text": [
            "Drive already mounted at /content/drive; to attempt to forcibly remount, call drive.mount(\"/content/drive\", force_remount=True).\n"
          ]
        }
      ]
    },
    {
      "cell_type": "code",
      "source": [
        "import numpy as np\n",
        "import pandas as pd\n",
        "from itertools import chain\n",
        "\n",
        "# from pyspark.ml.feature import StringIndexer, OneHotEncoder, \n",
        "from pyspark.sql import SparkSession\n",
        "import pyspark.sql.functions as F\n",
        "\n",
        "from pyspark.ml.feature import VectorAssembler, StandardScaler\n",
        "from pyspark.ml import Pipeline, PipelineModel\n",
        "from pyspark.ml.classification import LogisticRegression\n",
        "from pyspark.ml.evaluation import BinaryClassificationEvaluator, MulticlassClassificationEvaluator\n",
        "from pyspark.ml.tuning import ParamGridBuilder, TrainValidationSplit, TrainValidationSplitModel\n",
        "\n",
        "from sklearn.metrics import confusion_matrix, ConfusionMatrixDisplay, precision_recall_curve, PrecisionRecallDisplay\n",
        "\n",
        "import matplotlib.pyplot as plt\n",
        "import seaborn as sns\n",
        "from IPython.display import HTML, display\n",
        "%matplotlib inline\n",
        "%config InlineBackend.figure_format='retina'"
      ],
      "metadata": {
        "id": "rKWlJ4EbUTF0",
        "colab": {
          "base_uri": "https://localhost:8080/",
          "height": 17
        },
        "outputId": "38dddb46-97cd-4aaa-d06f-ee252f642918"
      },
      "execution_count": 168,
      "outputs": [
        {
          "output_type": "display_data",
          "data": {
            "text/plain": [
              "<IPython.core.display.HTML object>"
            ],
            "text/html": [
              "\n",
              "    <style>\n",
              "      pre {\n",
              "          white-space: pre-wrap;\n",
              "      }\n",
              "    </style>\n",
              "    "
            ]
          },
          "metadata": {}
        }
      ]
    },
    {
      "cell_type": "code",
      "execution_count": 4,
      "metadata": {
        "id": "vc_V7XVRDx1U",
        "colab": {
          "resources": {
            "http://localhost:8080/nbextensions/google.colab/files.js": {
              "data": "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",
              "ok": true,
              "headers": [
                [
                  "content-type",
                  "application/javascript"
                ]
              ],
              "status": 200,
              "status_text": ""
            }
          },
          "base_uri": "https://localhost:8080/",
          "height": 74
        },
        "outputId": "d99a7926-8f42-4f32-c60c-8b94a678b3d8"
      },
      "outputs": [
        {
          "output_type": "display_data",
          "data": {
            "text/plain": [
              "<IPython.core.display.HTML object>"
            ],
            "text/html": [
              "\n",
              "     <input type=\"file\" id=\"files-547c45b5-5c93-447b-a0df-6ad8e33d0b7a\" name=\"files[]\" multiple disabled\n",
              "        style=\"border:none\" />\n",
              "     <output id=\"result-547c45b5-5c93-447b-a0df-6ad8e33d0b7a\">\n",
              "      Upload widget is only available when the cell has been executed in the\n",
              "      current browser session. Please rerun this cell to enable.\n",
              "      </output>\n",
              "      <script src=\"/nbextensions/google.colab/files.js\"></script> "
            ]
          },
          "metadata": {}
        },
        {
          "output_type": "stream",
          "name": "stdout",
          "text": [
            "Saving helper_functions.py to helper_functions.py\n"
          ]
        }
      ],
      "source": [
        "# Import helper functions\n",
        "helper_functions = files.upload()\n",
        "from helper_functions import set_weight_col"
      ]
    },
    {
      "cell_type": "code",
      "source": [
        "# Check Colab GPU info\n",
        "gpu_info = !nvidia-smi\n",
        "gpu_info = '\\n'.join(gpu_info)\n",
        "if gpu_info.find('failed') >= 0:\n",
        "    print('Not connected to a GPU')\n",
        "else:\n",
        "    print(gpu_info)"
      ],
      "metadata": {
        "id": "meNh4v-1VAPw",
        "colab": {
          "base_uri": "https://localhost:8080/"
        },
        "outputId": "46bd0fd2-e647-4b9f-e148-b77ebd93ea05"
      },
      "execution_count": 5,
      "outputs": [
        {
          "output_type": "stream",
          "name": "stdout",
          "text": [
            "Not connected to a GPU\n"
          ]
        }
      ]
    },
    {
      "cell_type": "code",
      "source": [
        "# Check Colab RAM info\n",
        "from psutil import virtual_memory\n",
        "ram_gb = virtual_memory().total / 1e9\n",
        "print('Your runtime has {:.1f} gigabytes of available RAM\\n'.format(ram_gb))\n",
        "\n",
        "if ram_gb < 20:\n",
        "  print('Not using a high-RAM runtime')\n",
        "else:\n",
        "  print('You are using a high-RAM runtime!')"
      ],
      "metadata": {
        "id": "PE0CcaaTrsP9",
        "colab": {
          "base_uri": "https://localhost:8080/"
        },
        "outputId": "0bac4916-ed94-403c-857c-d65f93b344ca"
      },
      "execution_count": 6,
      "outputs": [
        {
          "output_type": "stream",
          "name": "stdout",
          "text": [
            "Your runtime has 54.8 gigabytes of available RAM\n",
            "\n",
            "You are using a high-RAM runtime!\n"
          ]
        }
      ]
    },
    {
      "cell_type": "code",
      "source": [
        "# Set text to wrap in Google colab notebook\n",
        "def set_css():\n",
        "    display(HTML(\"\"\"\n",
        "    <style>\n",
        "      pre {\n",
        "          white-space: pre-wrap;\n",
        "      }\n",
        "    </style>\n",
        "    \"\"\"))\n",
        "get_ipython().events.register('pre_run_cell', set_css)"
      ],
      "metadata": {
        "id": "7Q03mQqlVAa-"
      },
      "execution_count": 7,
      "outputs": []
    },
    {
      "cell_type": "code",
      "source": [
        "# Initialize Spark Session\n",
        "spark = SparkSession.builder\\\n",
        "        .master(\"local[*]\")\\\n",
        "        .appName(\"Colab\")\\\n",
        "        .config(\"spark.ui.port\", \"4050\")\\\n",
        "        .config(\"spark.driver.memory\", \"15g\")\\\n",
        "        .getOrCreate()\n",
        "\n",
        "spark"
      ],
      "metadata": {
        "id": "NLJkXpZlVAi5",
        "colab": {
          "base_uri": "https://localhost:8080/",
          "height": 221
        },
        "outputId": "d81064fb-eebd-49e9-8622-dfca9e79ab43"
      },
      "execution_count": 8,
      "outputs": [
        {
          "output_type": "display_data",
          "data": {
            "text/plain": [
              "<IPython.core.display.HTML object>"
            ],
            "text/html": [
              "\n",
              "    <style>\n",
              "      pre {\n",
              "          white-space: pre-wrap;\n",
              "      }\n",
              "    </style>\n",
              "    "
            ]
          },
          "metadata": {}
        },
        {
          "output_type": "execute_result",
          "data": {
            "text/plain": [
              "<pyspark.sql.session.SparkSession at 0x7efefdd42590>"
            ],
            "text/html": [
              "\n",
              "            <div>\n",
              "                <p><b>SparkSession - in-memory</b></p>\n",
              "                \n",
              "        <div>\n",
              "            <p><b>SparkContext</b></p>\n",
              "\n",
              "            <p><a href=\"http://cf398c7e330a:4050\">Spark UI</a></p>\n",
              "\n",
              "            <dl>\n",
              "              <dt>Version</dt>\n",
              "                <dd><code>v3.3.0</code></dd>\n",
              "              <dt>Master</dt>\n",
              "                <dd><code>local[*]</code></dd>\n",
              "              <dt>AppName</dt>\n",
              "                <dd><code>Colab</code></dd>\n",
              "            </dl>\n",
              "        </div>\n",
              "        \n",
              "            </div>\n",
              "        "
            ]
          },
          "metadata": {},
          "execution_count": 8
        }
      ]
    },
    {
      "cell_type": "markdown",
      "metadata": {
        "id": "b25f65a8-1444-468f-a5ee-9611e4d794ef"
      },
      "source": [
        "## Read in Data"
      ]
    },
    {
      "cell_type": "code",
      "source": [
        "# Read in weighted_df and resampled_df (training data) and test_df_preprocessed (testing data) data csv files as Spark DataFrames\n",
        "train_df_preprocessed = spark.read.csv('/content/drive/MyDrive/Colab Notebooks/train_df_preprocessed.csv', header=True, inferSchema=True)\n",
        "test_df_preprocessed = spark.read.csv('/content/drive/MyDrive/Colab Notebooks/test_df_preprocessed.csv', header=True, inferSchema=True)"
      ],
      "metadata": {
        "id": "2XuhVucTVAqb",
        "colab": {
          "base_uri": "https://localhost:8080/",
          "height": 17
        },
        "outputId": "124bff64-786f-4c7d-fbcf-797c6916a318"
      },
      "execution_count": 9,
      "outputs": [
        {
          "output_type": "display_data",
          "data": {
            "text/plain": [
              "<IPython.core.display.HTML object>"
            ],
            "text/html": [
              "\n",
              "    <style>\n",
              "      pre {\n",
              "          white-space: pre-wrap;\n",
              "      }\n",
              "    </style>\n",
              "    "
            ]
          },
          "metadata": {}
        }
      ]
    },
    {
      "cell_type": "markdown",
      "source": [
        "<br>"
      ],
      "metadata": {
        "id": "Z9ozj765PqrM"
      }
    },
    {
      "cell_type": "markdown",
      "source": [
        "## Add `Weight` column to dataframe\n",
        "\n",
        "As we've seen, the training dataset is extremely imbalanced in regards to target class distribution. In order to improve modeling performance, we'll add a new column `Weight` to `train_df_preprocessed` specifying the weights to use, which we pass in to PySpark models in the `weightCol` parameter. We'll create the new `Weight` column using the `set_weight_col` function in `helper_functions`.\n",
        "\n",
        "Our initial `Weight` column will specify equal weights across all observations, which is the default in PySpark."
      ],
      "metadata": {
        "id": "09uu3jqXN0D3"
      }
    },
    {
      "cell_type": "code",
      "source": [
        "print(set_weight_col.__doc__)"
      ],
      "metadata": {
        "colab": {
          "base_uri": "https://localhost:8080/",
          "height": 374
        },
        "id": "3uBAlM6OQgyg",
        "outputId": "e16ae3cd-c78f-41a7-ec7f-94a0bb297e26"
      },
      "execution_count": 10,
      "outputs": [
        {
          "output_type": "display_data",
          "data": {
            "text/plain": [
              "<IPython.core.display.HTML object>"
            ],
            "text/html": [
              "\n",
              "    <style>\n",
              "      pre {\n",
              "          white-space: pre-wrap;\n",
              "      }\n",
              "    </style>\n",
              "    "
            ]
          },
          "metadata": {}
        },
        {
          "output_type": "stream",
          "name": "stdout",
          "text": [
            "\n",
            "    Calculates and creates a column of class weights \n",
            "    in a PySpark dataframe with an imbalanced binary \n",
            "    target class distribution.\n",
            "\n",
            "    Parameters\n",
            "    ----------\n",
            "    df : Spark `DataFrame`\n",
            "        The Spark `DataFrame` to assign the \n",
            "        `ClassWeight` column to\n",
            "    label_col : Spark `Column`\n",
            "        Label column name\n",
            "    neg_class_weight : '`float` or 'balanced'\n",
            "        New class weight to assign to negative class \n",
            "        (`0`) in weight column. If 'balanced', assigned \n",
            "        class weights will be equal to 1 - proportion of \n",
            "        class in dataframe. If `float`, negative class \n",
            "        will be assigned `neg_class_weight` and positive \n",
            "        class weights remain at 1.0.\n",
            "    \n"
          ]
        }
      ]
    },
    {
      "cell_type": "code",
      "source": [
        "train_df_preprocessed = set_weight_col(train_df_preprocessed, label_col='Label', neg_class_weight=1.0)"
      ],
      "metadata": {
        "colab": {
          "base_uri": "https://localhost:8080/",
          "height": 17
        },
        "id": "gVqOxSzCP5r8",
        "outputId": "b6e9181e-4be1-410c-d058-f08c5625a95e"
      },
      "execution_count": 11,
      "outputs": [
        {
          "output_type": "display_data",
          "data": {
            "text/plain": [
              "<IPython.core.display.HTML object>"
            ],
            "text/html": [
              "\n",
              "    <style>\n",
              "      pre {\n",
              "          white-space: pre-wrap;\n",
              "      }\n",
              "    </style>\n",
              "    "
            ]
          },
          "metadata": {}
        }
      ]
    },
    {
      "cell_type": "code",
      "source": [
        "# Preview Weight column\n",
        "cols_to_show = ['MessageId', 'Label', 'Weight']\n",
        "train_df_preprocessed.select(cols_to_show).where(train_df_preprocessed.Label == 0).show(1, truncate=False, vertical=True)\n",
        "train_df_preprocessed.select(cols_to_show).where(train_df_preprocessed.Label == 1).show(1, truncate=False, vertical=True)"
      ],
      "metadata": {
        "colab": {
          "base_uri": "https://localhost:8080/",
          "height": 231
        },
        "id": "1yOERTKURGF2",
        "outputId": "c8285508-420a-43db-d0d0-8d6a2622ff92"
      },
      "execution_count": 12,
      "outputs": [
        {
          "output_type": "display_data",
          "data": {
            "text/plain": [
              "<IPython.core.display.HTML object>"
            ],
            "text/html": [
              "\n",
              "    <style>\n",
              "      pre {\n",
              "          white-space: pre-wrap;\n",
              "      }\n",
              "    </style>\n",
              "    "
            ]
          },
          "metadata": {}
        },
        {
          "output_type": "stream",
          "name": "stdout",
          "text": [
            "-RECORD 0---------------\n",
            " MessageId | TRFXV1O7R2 \n",
            " Label     | 0          \n",
            " Weight    | 1.0        \n",
            "only showing top 1 row\n",
            "\n",
            "-RECORD 0---------------\n",
            " MessageId | TR14I40JIT \n",
            " Label     | 1          \n",
            " Weight    | 1.0        \n",
            "only showing top 1 row\n",
            "\n"
          ]
        }
      ]
    },
    {
      "cell_type": "code",
      "source": [
        "# Print shape of dataframes\n",
        "print(f\"train_df_preprocessed:  {train_df_preprocessed.count():,} Rows, {len(train_df_preprocessed.columns)} Columns\")\n",
        "print(f\"test_df_preprocessed:  {test_df_preprocessed.count():,} Rows, {len(test_df_preprocessed.columns)} Columns\")"
      ],
      "metadata": {
        "id": "UcoMf27IVOLC",
        "colab": {
          "base_uri": "https://localhost:8080/",
          "height": 53
        },
        "outputId": "4d2f6284-cddc-48d9-9a28-eeace023a0e3"
      },
      "execution_count": 13,
      "outputs": [
        {
          "output_type": "display_data",
          "data": {
            "text/plain": [
              "<IPython.core.display.HTML object>"
            ],
            "text/html": [
              "\n",
              "    <style>\n",
              "      pre {\n",
              "          white-space: pre-wrap;\n",
              "      }\n",
              "    </style>\n",
              "    "
            ]
          },
          "metadata": {}
        },
        {
          "output_type": "stream",
          "name": "stdout",
          "text": [
            "train_df_preprocessed:  4,691,725 Rows, 15 Columns\n",
            "test_df_preprocessed:  705,108 Rows, 14 Columns\n"
          ]
        }
      ]
    },
    {
      "cell_type": "code",
      "source": [
        "# Print schema of training dataframe\n",
        "print('train_df_preprocessed:')\n",
        "train_df_preprocessed.printSchema()"
      ],
      "metadata": {
        "id": "OWm1UBS1VOSH",
        "colab": {
          "base_uri": "https://localhost:8080/",
          "height": 338
        },
        "outputId": "3cae5045-c685-4896-93c1-8a8c62fe3492"
      },
      "execution_count": 14,
      "outputs": [
        {
          "output_type": "display_data",
          "data": {
            "text/plain": [
              "<IPython.core.display.HTML object>"
            ],
            "text/html": [
              "\n",
              "    <style>\n",
              "      pre {\n",
              "          white-space: pre-wrap;\n",
              "      }\n",
              "    </style>\n",
              "    "
            ]
          },
          "metadata": {}
        },
        {
          "output_type": "stream",
          "name": "stdout",
          "text": [
            "train_df_preprocessed:\n",
            "root\n",
            " |-- MessageId: string (nullable = true)\n",
            " |-- Label: integer (nullable = true)\n",
            " |-- InstructedAmountUSD: integer (nullable = true)\n",
            " |-- IntermediaryTransactions: integer (nullable = true)\n",
            " |-- Flagged: integer (nullable = true)\n",
            " |-- OrderingCountryFreq: integer (nullable = true)\n",
            " |-- BeneficiaryCountryFreq: integer (nullable = true)\n",
            " |-- Hour: integer (nullable = true)\n",
            " |-- SenderHourFreq: integer (nullable = true)\n",
            " |-- SenderCurrencyFreq: integer (nullable = true)\n",
            " |-- SenderCurrencyAmtAvg: integer (nullable = true)\n",
            " |-- SenderFreq: integer (nullable = true)\n",
            " |-- ReceiverFreq: integer (nullable = true)\n",
            " |-- SenderReceiverFreq: integer (nullable = true)\n",
            " |-- Weight: double (nullable = true)\n",
            "\n"
          ]
        }
      ]
    },
    {
      "cell_type": "code",
      "source": [
        "# Print schema of test dataframe\n",
        "print('test_df_preprocessed:')\n",
        "test_df_preprocessed.printSchema()"
      ],
      "metadata": {
        "id": "SAlIlsWPVObJ",
        "colab": {
          "base_uri": "https://localhost:8080/",
          "height": 321
        },
        "outputId": "c9150151-7056-45ef-9449-c75ab14d9a2b"
      },
      "execution_count": 15,
      "outputs": [
        {
          "output_type": "display_data",
          "data": {
            "text/plain": [
              "<IPython.core.display.HTML object>"
            ],
            "text/html": [
              "\n",
              "    <style>\n",
              "      pre {\n",
              "          white-space: pre-wrap;\n",
              "      }\n",
              "    </style>\n",
              "    "
            ]
          },
          "metadata": {}
        },
        {
          "output_type": "stream",
          "name": "stdout",
          "text": [
            "test_df_preprocessed:\n",
            "root\n",
            " |-- MessageId: string (nullable = true)\n",
            " |-- Label: integer (nullable = true)\n",
            " |-- InstructedAmountUSD: integer (nullable = true)\n",
            " |-- IntermediaryTransactions: integer (nullable = true)\n",
            " |-- Flagged: integer (nullable = true)\n",
            " |-- OrderingCountryFreq: integer (nullable = true)\n",
            " |-- BeneficiaryCountryFreq: integer (nullable = true)\n",
            " |-- Hour: integer (nullable = true)\n",
            " |-- SenderHourFreq: integer (nullable = true)\n",
            " |-- SenderCurrencyFreq: integer (nullable = true)\n",
            " |-- SenderCurrencyAmtAvg: integer (nullable = true)\n",
            " |-- SenderFreq: integer (nullable = true)\n",
            " |-- ReceiverFreq: integer (nullable = true)\n",
            " |-- SenderReceiverFreq: integer (nullable = true)\n",
            "\n"
          ]
        }
      ]
    },
    {
      "cell_type": "code",
      "source": [
        "# Drop 'MessageId' individual transaction identifier column - will not be used in modeling\n",
        "train_df_preprocessed = train_df_preprocessed.drop('MessageId')\n",
        "test_df_preprocessed = test_df_preprocessed.drop('MessageId')\n",
        "\n",
        "# Rename target variable 'Label' column to more descriptive 'Anomalous'\n",
        "train_df_preprocessed = train_df_preprocessed.withColumnRenamed('Label', 'Anomalous')\n",
        "test_df_preprocessed = test_df_preprocessed.withColumnRenamed('Label', 'Anomalous')"
      ],
      "metadata": {
        "id": "s7nTo2BMXmWS",
        "colab": {
          "base_uri": "https://localhost:8080/",
          "height": 17
        },
        "outputId": "4f21baa0-5b03-4ecd-d186-8331437136fc"
      },
      "execution_count": 16,
      "outputs": [
        {
          "output_type": "display_data",
          "data": {
            "text/plain": [
              "<IPython.core.display.HTML object>"
            ],
            "text/html": [
              "\n",
              "    <style>\n",
              "      pre {\n",
              "          white-space: pre-wrap;\n",
              "      }\n",
              "    </style>\n",
              "    "
            ]
          },
          "metadata": {}
        }
      ]
    },
    {
      "cell_type": "code",
      "source": [
        "# Display first row of train_df_preprocessed dataframe\n",
        "train_df_preprocessed.show(n=1, truncate=False, vertical=True)"
      ],
      "metadata": {
        "id": "B2jaFCBIwpiM",
        "colab": {
          "base_uri": "https://localhost:8080/",
          "height": 321
        },
        "outputId": "c4a3b1be-ca1f-4b6a-921b-f1c81bc3b4d0"
      },
      "execution_count": 17,
      "outputs": [
        {
          "output_type": "display_data",
          "data": {
            "text/plain": [
              "<IPython.core.display.HTML object>"
            ],
            "text/html": [
              "\n",
              "    <style>\n",
              "      pre {\n",
              "          white-space: pre-wrap;\n",
              "      }\n",
              "    </style>\n",
              "    "
            ]
          },
          "metadata": {}
        },
        {
          "output_type": "stream",
          "name": "stdout",
          "text": [
            "-RECORD 0---------------------------\n",
            " Anomalous                | 0       \n",
            " InstructedAmountUSD      | 519149  \n",
            " IntermediaryTransactions | 0       \n",
            " Flagged                  | 0       \n",
            " OrderingCountryFreq      | 73733   \n",
            " BeneficiaryCountryFreq   | 40984   \n",
            " Hour                     | 8       \n",
            " SenderHourFreq           | 47559   \n",
            " SenderCurrencyFreq       | 73733   \n",
            " SenderCurrencyAmtAvg     | 1906631 \n",
            " SenderFreq               | 73733   \n",
            " ReceiverFreq             | 41012   \n",
            " SenderReceiverFreq       | 40984   \n",
            " Weight                   | 1.0     \n",
            "only showing top 1 row\n",
            "\n"
          ]
        }
      ]
    },
    {
      "cell_type": "code",
      "source": [
        "# Display first row of test_df_preprocessed dataframe\n",
        "test_df_preprocessed.show(n=1, truncate=False, vertical=True)"
      ],
      "metadata": {
        "id": "7WB9ibsFWhC3",
        "colab": {
          "base_uri": "https://localhost:8080/",
          "height": 303
        },
        "outputId": "462ab59b-ea91-4af6-9e1a-a06e6f308936"
      },
      "execution_count": 18,
      "outputs": [
        {
          "output_type": "display_data",
          "data": {
            "text/plain": [
              "<IPython.core.display.HTML object>"
            ],
            "text/html": [
              "\n",
              "    <style>\n",
              "      pre {\n",
              "          white-space: pre-wrap;\n",
              "      }\n",
              "    </style>\n",
              "    "
            ]
          },
          "metadata": {}
        },
        {
          "output_type": "stream",
          "name": "stdout",
          "text": [
            "-RECORD 0---------------------------\n",
            " Anomalous                | 0       \n",
            " InstructedAmountUSD      | 653958  \n",
            " IntermediaryTransactions | 0       \n",
            " Flagged                  | 0       \n",
            " OrderingCountryFreq      | 73733   \n",
            " BeneficiaryCountryFreq   | 40984   \n",
            " Hour                     | 8       \n",
            " SenderHourFreq           | 47559   \n",
            " SenderCurrencyFreq       | 73733   \n",
            " SenderCurrencyAmtAvg     | 1906631 \n",
            " SenderFreq               | 73733   \n",
            " ReceiverFreq             | 41012   \n",
            " SenderReceiverFreq       | 40984   \n",
            "only showing top 1 row\n",
            "\n"
          ]
        }
      ]
    },
    {
      "cell_type": "code",
      "source": [
        "# Display value counts for 'Anomalous' column (classification target)\n",
        "class_counts = train_df_preprocessed.groupBy('Anomalous').count().withColumn('percent', F.col('count')/train_df_preprocessed.count())\n",
        "\n",
        "class_counts.show(truncate=False)"
      ],
      "metadata": {
        "colab": {
          "base_uri": "https://localhost:8080/",
          "height": 142
        },
        "id": "A4NBBo5Z8HcL",
        "outputId": "95428926-15df-4511-9b35-398f59372dd6"
      },
      "execution_count": 35,
      "outputs": [
        {
          "output_type": "display_data",
          "data": {
            "text/plain": [
              "<IPython.core.display.HTML object>"
            ],
            "text/html": [
              "\n",
              "    <style>\n",
              "      pre {\n",
              "          white-space: pre-wrap;\n",
              "      }\n",
              "    </style>\n",
              "    "
            ]
          },
          "metadata": {}
        },
        {
          "output_type": "stream",
          "name": "stdout",
          "text": [
            "+---------+-------+---------------------+\n",
            "|Anomalous|count  |percent              |\n",
            "+---------+-------+---------------------+\n",
            "|1        |4900   |0.0010443919880214632|\n",
            "|0        |4686825|0.9989556080119786   |\n",
            "+---------+-------+---------------------+\n",
            "\n"
          ]
        }
      ]
    },
    {
      "cell_type": "markdown",
      "source": [
        "<br>"
      ],
      "metadata": {
        "id": "jTFLL4FrXelJ"
      }
    },
    {
      "cell_type": "markdown",
      "source": [
        "# Create Pipeline to Preprocess and Model Data"
      ],
      "metadata": {
        "id": "eytS6s3lWXio"
      }
    },
    {
      "cell_type": "markdown",
      "source": [
        "### Index string columns with StringIndexer"
      ],
      "metadata": {
        "id": "ndf2Vu3xWzKy"
      }
    },
    {
      "cell_type": "code",
      "source": [
        "# stages = []\n",
        "\n",
        "# categoricalCols = [item[0] for item in train_df_resampled.dtypes if item[1].startswith('string')]\n",
        "\n",
        "# indexers = []\n",
        "\n",
        "# for col in categoricalCols:\n",
        "#     indexer = StringIndexer(inputCol=col, outputCol=col + '_index', handleInvalid='keep')\n",
        "#     indexers.append(indexer)\n",
        "    \n",
        "# indexed_features = []\n",
        "# for si in indexers:\n",
        "#     indexed_features.append(si.getOutputCol())\n",
        "    \n",
        "# print(f\"Indexed nominal categorical features: \\n{indexed_features}\")"
      ],
      "metadata": {
        "id": "3YdFfLtdWzRd"
      },
      "execution_count": null,
      "outputs": []
    },
    {
      "cell_type": "markdown",
      "source": [
        "### Create a OneHotEncoder to encode the indexed string features"
      ],
      "metadata": {
        "id": "s6X8UUZCWzXN"
      }
    },
    {
      "cell_type": "code",
      "source": [
        "# encoder = OneHotEncoder(inputCols=indexed_features, \n",
        "#                         outputCols=[col + '_ohe' for col in indexed_features], \n",
        "#                         dropLast=True)\n",
        "\n",
        "# print(f\"One hot encoded nominal categorical features: {len(encoder.getOutputCols())}\\n{encoder.getOutputCols()}\")"
      ],
      "metadata": {
        "id": "GEIvAPM5Wzcq"
      },
      "execution_count": null,
      "outputs": []
    },
    {
      "cell_type": "markdown",
      "source": [
        "### Compile numeric features, not including target or class weight columns"
      ],
      "metadata": {
        "id": "8EK2-6LwZa8L"
      }
    },
    {
      "cell_type": "code",
      "source": [
        "numeric_features = []\n",
        "for column in train_df_preprocessed.columns:\n",
        "    if column != 'Anomalous' and column != 'Weight':\n",
        "        numeric_features.append(column)\n",
        "\n",
        "# Confirm equal column counts\n",
        "assert len(train_df_preprocessed.drop('Anomalous', 'Weight').columns) == len(numeric_features)\n",
        "print(f\"Numeric features: {len(numeric_features)}\\n{numeric_features}\")"
      ],
      "metadata": {
        "id": "3s3zpOEkWzhu",
        "colab": {
          "base_uri": "https://localhost:8080/",
          "height": 71
        },
        "outputId": "668c3323-9caf-4b15-86b4-89c9e25920aa"
      },
      "execution_count": 19,
      "outputs": [
        {
          "output_type": "display_data",
          "data": {
            "text/plain": [
              "<IPython.core.display.HTML object>"
            ],
            "text/html": [
              "\n",
              "    <style>\n",
              "      pre {\n",
              "          white-space: pre-wrap;\n",
              "      }\n",
              "    </style>\n",
              "    "
            ]
          },
          "metadata": {}
        },
        {
          "output_type": "stream",
          "name": "stdout",
          "text": [
            "Numeric features: 12\n",
            "['InstructedAmountUSD', 'IntermediaryTransactions', 'Flagged', 'OrderingCountryFreq', 'BeneficiaryCountryFreq', 'Hour', 'SenderHourFreq', 'SenderCurrencyFreq', 'SenderCurrencyAmtAvg', 'SenderFreq', 'ReceiverFreq', 'SenderReceiverFreq']\n"
          ]
        }
      ]
    },
    {
      "cell_type": "code",
      "source": [
        "# Print names of final features going into the model\n",
        "features = numeric_features\n",
        "print(f\"Final features: {len(features)}\\n{features}\")"
      ],
      "metadata": {
        "id": "TJyrAkENWzmR",
        "colab": {
          "base_uri": "https://localhost:8080/",
          "height": 71
        },
        "outputId": "916d7534-18fb-4a9b-83e8-cb0e9178ff25"
      },
      "execution_count": 20,
      "outputs": [
        {
          "output_type": "display_data",
          "data": {
            "text/plain": [
              "<IPython.core.display.HTML object>"
            ],
            "text/html": [
              "\n",
              "    <style>\n",
              "      pre {\n",
              "          white-space: pre-wrap;\n",
              "      }\n",
              "    </style>\n",
              "    "
            ]
          },
          "metadata": {}
        },
        {
          "output_type": "stream",
          "name": "stdout",
          "text": [
            "Final features: 12\n",
            "['InstructedAmountUSD', 'IntermediaryTransactions', 'Flagged', 'OrderingCountryFreq', 'BeneficiaryCountryFreq', 'Hour', 'SenderHourFreq', 'SenderCurrencyFreq', 'SenderCurrencyAmtAvg', 'SenderFreq', 'ReceiverFreq', 'SenderReceiverFreq']\n"
          ]
        }
      ]
    },
    {
      "cell_type": "markdown",
      "source": [
        "### Create a VectorAssembler to combine all features"
      ],
      "metadata": {
        "id": "8Iz7ulwAavec"
      }
    },
    {
      "cell_type": "code",
      "source": [
        "assembler = VectorAssembler(inputCols=features, outputCol='vectorized_features')\n",
        "\n",
        "# Assemble a list of stages that includes the vector assembler and standard scaler\n",
        "scaler = StandardScaler(inputCol='vectorized_features', outputCol='scaled_features')\n",
        "\n",
        "stages = [assembler, scaler]\n",
        "print(\"Stages:\", stages)"
      ],
      "metadata": {
        "id": "27pnqdyva17G",
        "colab": {
          "base_uri": "https://localhost:8080/",
          "height": 35
        },
        "outputId": "f60f7134-7847-41bf-9d05-ad4dcfee4aa0"
      },
      "execution_count": 21,
      "outputs": [
        {
          "output_type": "display_data",
          "data": {
            "text/plain": [
              "<IPython.core.display.HTML object>"
            ],
            "text/html": [
              "\n",
              "    <style>\n",
              "      pre {\n",
              "          white-space: pre-wrap;\n",
              "      }\n",
              "    </style>\n",
              "    "
            ]
          },
          "metadata": {}
        },
        {
          "output_type": "stream",
          "name": "stdout",
          "text": [
            "Stages: [VectorAssembler_ef42969d5727, StandardScaler_f541b8953bb5]\n"
          ]
        }
      ]
    },
    {
      "cell_type": "markdown",
      "source": [
        "### Preview modeling pipeline"
      ],
      "metadata": {
        "id": "ZYwGcc_dbciE"
      }
    },
    {
      "cell_type": "code",
      "source": [
        "pipeline = Pipeline(stages=stages)\n",
        "\n",
        "pipeline_model = pipeline.fit(train_df_preprocessed)\n",
        "\n",
        "pipeline_df = pipeline_model.transform(train_df_preprocessed)"
      ],
      "metadata": {
        "id": "MlwoYrCKbjYB",
        "colab": {
          "base_uri": "https://localhost:8080/",
          "height": 17
        },
        "outputId": "0509de54-bcd5-4be0-e104-e740eaa317db"
      },
      "execution_count": 22,
      "outputs": [
        {
          "output_type": "display_data",
          "data": {
            "text/plain": [
              "<IPython.core.display.HTML object>"
            ],
            "text/html": [
              "\n",
              "    <style>\n",
              "      pre {\n",
              "          white-space: pre-wrap;\n",
              "      }\n",
              "    </style>\n",
              "    "
            ]
          },
          "metadata": {}
        }
      ]
    },
    {
      "cell_type": "code",
      "source": [
        "# Display first row of train_df_preprocessed after running through pipeline\n",
        "pipeline_df.show(1, vertical=True, truncate=False)"
      ],
      "metadata": {
        "id": "STgdImWXbwSl",
        "colab": {
          "base_uri": "https://localhost:8080/",
          "height": 412
        },
        "outputId": "3100f960-e07f-4a0e-e2ee-2b6ac45aaca5"
      },
      "execution_count": 23,
      "outputs": [
        {
          "output_type": "display_data",
          "data": {
            "text/plain": [
              "<IPython.core.display.HTML object>"
            ],
            "text/html": [
              "\n",
              "    <style>\n",
              "      pre {\n",
              "          white-space: pre-wrap;\n",
              "      }\n",
              "    </style>\n",
              "    "
            ]
          },
          "metadata": {}
        },
        {
          "output_type": "stream",
          "name": "stdout",
          "text": [
            "-RECORD 0--------------------------------------------------------------------------------------------------------------------------------------------------------------------------------------------------------------------------------------\n",
            " Anomalous                | 0                                                                                                                                                                                                                  \n",
            " InstructedAmountUSD      | 519149                                                                                                                                                                                                             \n",
            " IntermediaryTransactions | 0                                                                                                                                                                                                                  \n",
            " Flagged                  | 0                                                                                                                                                                                                                  \n",
            " OrderingCountryFreq      | 73733                                                                                                                                                                                                              \n",
            " BeneficiaryCountryFreq   | 40984                                                                                                                                                                                                              \n",
            " Hour                     | 8                                                                                                                                                                                                                  \n",
            " SenderHourFreq           | 47559                                                                                                                                                                                                              \n",
            " SenderCurrencyFreq       | 73733                                                                                                                                                                                                              \n",
            " SenderCurrencyAmtAvg     | 1906631                                                                                                                                                                                                            \n",
            " SenderFreq               | 73733                                                                                                                                                                                                              \n",
            " ReceiverFreq             | 41012                                                                                                                                                                                                              \n",
            " SenderReceiverFreq       | 40984                                                                                                                                                                                                              \n",
            " Weight                   | 1.0                                                                                                                                                                                                                \n",
            " vectorized_features      | [519149.0,0.0,0.0,73733.0,40984.0,8.0,47559.0,73733.0,1906631.0,73733.0,41012.0,40984.0]                                                                                                                           \n",
            " scaled_features          | [0.0016527706896438483,0.0,0.0,0.13872751524523577,0.06111503793353696,1.6209688519496068,0.2977688812686963,0.16018777672814133,0.022806394100742342,0.12929906160159663,0.06163677309549697,0.06264906278885182] \n",
            "only showing top 1 row\n",
            "\n"
          ]
        }
      ]
    },
    {
      "cell_type": "code",
      "source": [
        "pipeline_test = pipeline.fit(test_df_preprocessed)\n",
        "\n",
        "pipeline_df_test = pipeline_model.transform(test_df_preprocessed)\n",
        "\n",
        "pipeline.fit(test_df_preprocessed).transform(test_df_preprocessed).head()['scaled_features'].size"
      ],
      "metadata": {
        "id": "lH2vg1cjbzij",
        "colab": {
          "base_uri": "https://localhost:8080/",
          "height": 35
        },
        "outputId": "4f5ecf80-93a5-4d5f-ad4a-e7f623147e1b"
      },
      "execution_count": 24,
      "outputs": [
        {
          "output_type": "display_data",
          "data": {
            "text/plain": [
              "<IPython.core.display.HTML object>"
            ],
            "text/html": [
              "\n",
              "    <style>\n",
              "      pre {\n",
              "          white-space: pre-wrap;\n",
              "      }\n",
              "    </style>\n",
              "    "
            ]
          },
          "metadata": {}
        },
        {
          "output_type": "execute_result",
          "data": {
            "text/plain": [
              "12"
            ]
          },
          "metadata": {},
          "execution_count": 24
        }
      ]
    },
    {
      "cell_type": "code",
      "source": [
        "# Display first row of test_df_preprocessed after running through pipeline\n",
        "pipeline_df_test.show(1, vertical=True, truncate=False)"
      ],
      "metadata": {
        "id": "1gZDYHp_c2Ea",
        "colab": {
          "base_uri": "https://localhost:8080/",
          "height": 394
        },
        "outputId": "8b630332-295b-4ee5-ee27-d0395d09830b"
      },
      "execution_count": 25,
      "outputs": [
        {
          "output_type": "display_data",
          "data": {
            "text/plain": [
              "<IPython.core.display.HTML object>"
            ],
            "text/html": [
              "\n",
              "    <style>\n",
              "      pre {\n",
              "          white-space: pre-wrap;\n",
              "      }\n",
              "    </style>\n",
              "    "
            ]
          },
          "metadata": {}
        },
        {
          "output_type": "stream",
          "name": "stdout",
          "text": [
            "-RECORD 0--------------------------------------------------------------------------------------------------------------------------------------------------------------------------------------------------------------------------------------\n",
            " Anomalous                | 0                                                                                                                                                                                                                  \n",
            " InstructedAmountUSD      | 653958                                                                                                                                                                                                             \n",
            " IntermediaryTransactions | 0                                                                                                                                                                                                                  \n",
            " Flagged                  | 0                                                                                                                                                                                                                  \n",
            " OrderingCountryFreq      | 73733                                                                                                                                                                                                              \n",
            " BeneficiaryCountryFreq   | 40984                                                                                                                                                                                                              \n",
            " Hour                     | 8                                                                                                                                                                                                                  \n",
            " SenderHourFreq           | 47559                                                                                                                                                                                                              \n",
            " SenderCurrencyFreq       | 73733                                                                                                                                                                                                              \n",
            " SenderCurrencyAmtAvg     | 1906631                                                                                                                                                                                                            \n",
            " SenderFreq               | 73733                                                                                                                                                                                                              \n",
            " ReceiverFreq             | 41012                                                                                                                                                                                                              \n",
            " SenderReceiverFreq       | 40984                                                                                                                                                                                                              \n",
            " vectorized_features      | [653958.0,0.0,0.0,73733.0,40984.0,8.0,47559.0,73733.0,1906631.0,73733.0,41012.0,40984.0]                                                                                                                           \n",
            " scaled_features          | [0.0020819506820934103,0.0,0.0,0.13872751524523577,0.06111503793353696,1.6209688519496068,0.2977688812686963,0.16018777672814133,0.022806394100742342,0.12929906160159663,0.06163677309549697,0.06264906278885182] \n",
            "only showing top 1 row\n",
            "\n"
          ]
        }
      ]
    },
    {
      "cell_type": "markdown",
      "source": [
        "<br>"
      ],
      "metadata": {
        "id": "afadW505c914"
      }
    },
    {
      "cell_type": "code",
      "source": [
        "print(vars(BinaryClassificationEvaluator.metricName))"
      ],
      "metadata": {
        "id": "01pyffODijUe"
      },
      "execution_count": null,
      "outputs": []
    },
    {
      "cell_type": "code",
      "source": [
        "def grid_search(stages_with_classifier, train_df, model_grid, parallelism, seed=42):\n",
        "    pipeline = Pipeline(stages=stages_with_classifier)\n",
        "    # Define evaluator\n",
        "    evaluator = BinaryClassificationEvaluator(labelCol='Anomalous', \n",
        "                                              metricName=\"areaUnderPR\")\n",
        "    # Define train/validation split with pipeline above\n",
        "    tvs = TrainValidationSplit(estimator=pipeline, \n",
        "                               estimatorParamMaps=model_grid, \n",
        "                               evaluator=evaluator, \n",
        "                               parallelism=parallelism, \n",
        "                               seed=seed)\n",
        "    # Fit the tvs model\n",
        "    tvs_model = tvs.fit(train_df)\n",
        "    # Store best model parameters in variable\n",
        "    best_model_parameters = model_grid[np.argmax(tvs_model.validationMetrics)]\n",
        "\n",
        "    # Print best model parameters\n",
        "    print(best_model_parameters)\n",
        "    # Return best model\n",
        "    return tvs_model"
      ],
      "metadata": {
        "colab": {
          "base_uri": "https://localhost:8080/",
          "height": 17
        },
        "id": "4ddTv-G2Wv9t",
        "outputId": "e0fa6d76-8803-4b6e-f7cf-840bb08077b7"
      },
      "execution_count": 71,
      "outputs": [
        {
          "output_type": "display_data",
          "data": {
            "text/plain": [
              "<IPython.core.display.HTML object>"
            ],
            "text/html": [
              "\n",
              "    <style>\n",
              "      pre {\n",
              "          white-space: pre-wrap;\n",
              "      }\n",
              "    </style>\n",
              "    "
            ]
          },
          "metadata": {}
        }
      ]
    },
    {
      "cell_type": "code",
      "source": [
        "def score_model(model, train_df, test_df, preprocessing_stages=stages):\n",
        "    # Define evaluator_1 for areaUnderPR (curve)\n",
        "    evaluator_1 = BinaryClassificationEvaluator(labelCol='Anomalous', \n",
        "                                                metricName=\"areaUnderPR\")\n",
        "    \n",
        "    # Define evaluator_2 for accuracy, precision, recall, and f1 scores\n",
        "    evaluator_2 = MulticlassClassificationEvaluator(labelCol='Anomalous')\n",
        "    # Store train and test dataframes in variables\n",
        "    train_results = model.transform(train_df)\n",
        "    test_results = model.transform(test_df)\n",
        "    # Compute accuracy scores on train and test data\n",
        "    train_acc = evaluator_2.evaluate(train_results, {evaluator_2.metricName: 'accuracy'})\n",
        "    test_acc = evaluator_2.evaluate(test_results, {evaluator_2.metricName: 'accuracy'})\n",
        "    # Compute AUPRC scores on train and test data\n",
        "    train_auprc = evaluator_1.evaluate(train_results)\n",
        "    test_auprc = evaluator_1.evaluate(test_results)\n",
        "    # Compute precision scores on test data\n",
        "    test_precision_0 = evaluator_2.evaluate(test_results, \n",
        "                                            {evaluator_2.metricName: 'precisionByLabel', \n",
        "                                             evaluator_2.metricLabel: 0})\n",
        "    test_precision_1 = evaluator_2.evaluate(test_results, \n",
        "                                            {evaluator_2.metricName: 'precisionByLabel', \n",
        "                                             evaluator_2.metricLabel: 1})\n",
        "    # Compute recall scores on test data\n",
        "    test_recall_0 = evaluator_2.evaluate(test_results, \n",
        "                                         {evaluator_2.metricName: 'recallByLabel', \n",
        "                                          evaluator_2.metricLabel: 0})\n",
        "    test_recall_1 = evaluator_2.evaluate(test_results, \n",
        "                                         {evaluator_2.metricName: 'recallByLabel', \n",
        "                                          evaluator_2.metricLabel: 1})\n",
        "\n",
        "    print(model, '\\n')\n",
        "    print(f\"Training set accuracy: {round(train_acc, 3)}\", end='\\t')\n",
        "    print(f\"Test set accuracy: {round(test_acc, 3)}\")\n",
        "    print('-'*60)\n",
        "    print(f\"Training set AUPRC: {round(train_auprc, 3)}\", end='\\t')\n",
        "    print(f\"Test set AUPRC: {round(test_auprc, 3)}\")\n",
        "    print('-'*60)\n",
        "    print(\"Test set precision\")\n",
        "    print(f\"Non-anomalous {round(test_precision_0, 3)}\", end='\\t')\n",
        "    print(f\"Anomalous: {round(test_precision_1, 3)}\")\n",
        "    print('-'*60)\n",
        "    print(\"Test set recall\")\n",
        "    print(f\"Non-anomalous: {round(test_recall_0, 3)}\", end='\\t')\n",
        "    print(f\"Anomalous: {round(test_recall_1, 3)}\")"
      ],
      "metadata": {
        "id": "nZFa8SGgdI0H",
        "colab": {
          "base_uri": "https://localhost:8080/",
          "height": 17
        },
        "outputId": "3c251dde-92ab-45bd-d9d1-31f8085aae49"
      },
      "execution_count": 74,
      "outputs": [
        {
          "output_type": "display_data",
          "data": {
            "text/plain": [
              "<IPython.core.display.HTML object>"
            ],
            "text/html": [
              "\n",
              "    <style>\n",
              "      pre {\n",
              "          white-space: pre-wrap;\n",
              "      }\n",
              "    </style>\n",
              "    "
            ]
          },
          "metadata": {}
        }
      ]
    },
    {
      "cell_type": "code",
      "source": [
        "def plot_confusion_matrix(model, test_df, preprocessing_stages=stages):\n",
        "    # Convert Anomalous column to array\n",
        "    y_true = np.array(test_df.select('Anomalous').collect())\n",
        "    # Calculate predictions and convert prediction column to array\n",
        "    y_predicted = np.array(model.transform(test_df).select('prediction').collect())\n",
        "\n",
        "    \n",
        "    fig, ax1 = plt.subplots(figsize=(18, 7))\n",
        "\n",
        "    # Plot confusion matrix\n",
        "    labels = ['0: Non-anomalous', '1: Anomalous']\n",
        "    cm = confusion_matrix(y_true, y_predicted)\n",
        "    cm_disp = ConfusionMatrixDisplay(confusion_matrix=cm, display_labels=labels)\n",
        "    cm_disp.plot(cmap='Reds', ax=ax1, values_format='')\n",
        "    ax1.set_title('Confusion Matrix', size=15, fontweight='bold')\n",
        "    ax1.set_xlabel(ax1.get_xlabel(), size=13)\n",
        "    ax1.set_ylabel(ax1.get_ylabel(), size=13)\n",
        "    ax1.tick_params(axis='both', which='both', labelsize=12)\n",
        "    for labels in cm_disp.text_.ravel():\n",
        "        labels.set_fontsize(12)\n",
        "    ax1.grid(False)\n",
        "\n",
        "    # Plot precision-recall curve\n",
        "    # y_true = np.array(test_df.select('Anomalous').collect()).reshape(-1)\n",
        "    # y_scores = np.array(model.transform(test_df).select('prediction').collect()).reshape(-1)\n",
        "    # pr_disp = PrecisionRecallDisplay.from_predictions(y_true, y_scores, ax=ax2)\n",
        "    # pr_disp.plot(ax=ax2)"
      ],
      "metadata": {
        "id": "avPxF4hI4b8I",
        "colab": {
          "base_uri": "https://localhost:8080/",
          "height": 17
        },
        "outputId": "2988a7f8-cd35-49ae-8161-b795124f2409"
      },
      "execution_count": 195,
      "outputs": [
        {
          "output_type": "display_data",
          "data": {
            "text/plain": [
              "<IPython.core.display.HTML object>"
            ],
            "text/html": [
              "\n",
              "    <style>\n",
              "      pre {\n",
              "          white-space: pre-wrap;\n",
              "      }\n",
              "    </style>\n",
              "    "
            ]
          },
          "metadata": {}
        }
      ]
    },
    {
      "cell_type": "markdown",
      "source": [
        "<br>"
      ],
      "metadata": {
        "id": "wgWYH4Ng_9z7"
      }
    },
    {
      "cell_type": "markdown",
      "source": [
        "# Baseline Model: Basic Logistic Regression\n",
        "\n",
        "For our first and baseline model, we'll fit a simple un-tuned logistic regression model."
      ],
      "metadata": {
        "id": "n3nkWqgD7Pss"
      }
    },
    {
      "cell_type": "code",
      "source": [
        "# Set classifier parameters\n",
        "lr_0 = LogisticRegression(\n",
        "    featuresCol='scaled_features',\n",
        "    labelCol='Anomalous',\n",
        "    weightCol='Weight',\n",
        "    standardization=False)"
      ],
      "metadata": {
        "id": "SoNwvO4ndJQu",
        "colab": {
          "base_uri": "https://localhost:8080/",
          "height": 17
        },
        "outputId": "5406611b-8a92-4cd3-e25b-a790b253fd13"
      },
      "execution_count": 62,
      "outputs": [
        {
          "output_type": "display_data",
          "data": {
            "text/plain": [
              "<IPython.core.display.HTML object>"
            ],
            "text/html": [
              "\n",
              "    <style>\n",
              "      pre {\n",
              "          white-space: pre-wrap;\n",
              "      }\n",
              "    </style>\n",
              "    "
            ]
          },
          "metadata": {}
        }
      ]
    },
    {
      "cell_type": "code",
      "source": [
        "# Assign to pipeline\n",
        "lr_0_pipeline = Pipeline(stages=stages + [lr_0])\n",
        "\n",
        "# Fit to training data\n",
        "if not os.path.isdir(drive_path + 'lr_0_model'):\n",
        "    lr_0_model = lr_0_pipeline.fit(train_df_preprocessed)"
      ],
      "metadata": {
        "colab": {
          "base_uri": "https://localhost:8080/",
          "height": 17
        },
        "id": "bJLsvaJE8_2h",
        "outputId": "bcfab40b-d166-4436-a7b1-1325d9148d85"
      },
      "execution_count": 63,
      "outputs": [
        {
          "output_type": "display_data",
          "data": {
            "text/plain": [
              "<IPython.core.display.HTML object>"
            ],
            "text/html": [
              "\n",
              "    <style>\n",
              "      pre {\n",
              "          white-space: pre-wrap;\n",
              "      }\n",
              "    </style>\n",
              "    "
            ]
          },
          "metadata": {}
        }
      ]
    },
    {
      "cell_type": "code",
      "source": [
        "# Save model, or upload if already saved\n",
        "if not os.path.isdir(drive_path + 'lr_0_model'):\n",
        "    lr_0_model.save(drive_path + 'lr_0_model')\n",
        "else:\n",
        "    lr_0_model = PipelineModel.load(drive_path + 'lr_0_model')"
      ],
      "metadata": {
        "colab": {
          "base_uri": "https://localhost:8080/",
          "height": 17
        },
        "id": "nayUX40d98SN",
        "outputId": "6386b411-6096-4e91-bf4e-33b24c0b461d"
      },
      "execution_count": 68,
      "outputs": [
        {
          "output_type": "display_data",
          "data": {
            "text/plain": [
              "<IPython.core.display.HTML object>"
            ],
            "text/html": [
              "\n",
              "    <style>\n",
              "      pre {\n",
              "          white-space: pre-wrap;\n",
              "      }\n",
              "    </style>\n",
              "    "
            ]
          },
          "metadata": {}
        }
      ]
    },
    {
      "cell_type": "code",
      "source": [
        "# Print model scores\n",
        "score_model(model=lr_0_model, train_df=train_df_preprocessed, test_df=test_df_preprocessed)"
      ],
      "metadata": {
        "id": "AFPbdEg3dJYE",
        "colab": {
          "base_uri": "https://localhost:8080/",
          "height": 213
        },
        "outputId": "69d15870-a66f-4204-e778-0e93420c6c3d"
      },
      "execution_count": 66,
      "outputs": [
        {
          "output_type": "display_data",
          "data": {
            "text/plain": [
              "<IPython.core.display.HTML object>"
            ],
            "text/html": [
              "\n",
              "    <style>\n",
              "      pre {\n",
              "          white-space: pre-wrap;\n",
              "      }\n",
              "    </style>\n",
              "    "
            ]
          },
          "metadata": {}
        },
        {
          "output_type": "stream",
          "name": "stdout",
          "text": [
            "PipelineModel_7b8a559d87c5 \n",
            "\n",
            "Training set accuracy: 0.999\tTest set accuracy: 0.967\n",
            "------------------------------------------------------------\n",
            "Training set AUPRC: 0.224\tTest set AUPRC: 0.069\n",
            "------------------------------------------------------------\n",
            "Test set precision\n",
            "Non-anomalous 0.999\tAnomalous: 0.01\n",
            "------------------------------------------------------------\n",
            "Test set recall\n",
            "Non-anomalous: 0.967\tAnomalous: 0.294\n"
          ]
        }
      ]
    },
    {
      "cell_type": "code",
      "source": [
        "# Plot model confusion matrix\n",
        "plot_confusion_matrix(model=lr_0_model, test_df=test_df_preprocessed)"
      ],
      "metadata": {
        "id": "roeqHk9hgPkD",
        "colab": {
          "base_uri": "https://localhost:8080/",
          "height": 465
        },
        "outputId": "89b618e2-18e5-4eea-82e0-4637c7e40bb3"
      },
      "execution_count": 162,
      "outputs": [
        {
          "output_type": "display_data",
          "data": {
            "text/plain": [
              "<IPython.core.display.HTML object>"
            ],
            "text/html": [
              "\n",
              "    <style>\n",
              "      pre {\n",
              "          white-space: pre-wrap;\n",
              "      }\n",
              "    </style>\n",
              "    "
            ]
          },
          "metadata": {}
        },
        {
          "output_type": "display_data",
          "data": {
            "text/plain": [
              "<Figure size 864x504 with 2 Axes>"
            ],
            "image/png": "[encoded data removed]"
          },
          "metadata": {
            "image/png": {
              "width": 626,
              "height": 448
            },
            "needs_background": "light"
          }
        }
      ]
    },
    {
      "cell_type": "markdown",
      "source": [
        "**Remarks:**\n",
        "- With a test set AUPRC of only 0.069, we're not doing too well on the testing data. It looks like we're overfitting to the training data since the AUPRC is significantly better on the training data."
      ],
      "metadata": {
        "id": "MyeAqhWIIDZi"
      }
    },
    {
      "cell_type": "markdown",
      "source": [
        "<br>"
      ],
      "metadata": {
        "id": "jO5h1I9KKfAq"
      }
    },
    {
      "cell_type": "markdown",
      "source": [
        "# Model 1.1: Logistic Regression with Tuned Regularization\n",
        "\n",
        "For our first tuned `LogisticRegression` model, we'll try to address the overfitting by using regularization.\n",
        "\n",
        "The `elasticNetParam` parameter specifies the ElasticNet mixing parameter - 0 = L2, while 1 = L1.<br>\n",
        "The `regParam` parameter specifies the regularization strength."
      ],
      "metadata": {
        "id": "oxzsE3VmKUu7"
      }
    },
    {
      "cell_type": "code",
      "source": [
        "lr_1 = LogisticRegression(\n",
        "    featuresCol='scaled_features',\n",
        "    labelCol='Anomalous',\n",
        "    weightCol='Weight',\n",
        "    standardization=False)\n",
        "\n",
        "lr_1_stages = stages + [lr_1]\n",
        "\n",
        "# Specify parameter grid\n",
        "lr_1_grid = ParamGridBuilder()\\\n",
        "            .addGrid(lr_1.elasticNetParam, [0, 0.25, 0.5, 0.75, 1.0])\\\n",
        "            .addGrid(lr_1.regParam, [0.001, 0.005, 0.01])\\\n",
        "            .build()"
      ],
      "metadata": {
        "colab": {
          "base_uri": "https://localhost:8080/",
          "height": 17
        },
        "id": "iSF5zqvzC9tg",
        "outputId": "e9920712-4136-4c17-950e-290b0ba205c4"
      },
      "execution_count": 149,
      "outputs": [
        {
          "output_type": "display_data",
          "data": {
            "text/plain": [
              "<IPython.core.display.HTML object>"
            ],
            "text/html": [
              "\n",
              "    <style>\n",
              "      pre {\n",
              "          white-space: pre-wrap;\n",
              "      }\n",
              "    </style>\n",
              "    "
            ]
          },
          "metadata": {}
        }
      ]
    },
    {
      "cell_type": "code",
      "source": [
        "# Run grid search\n",
        "%%time\n",
        "if not os.path.isdir(drive_path + 'lr_1_model'):\n",
        "    lr_1_model = grid_search(stages_with_classifier=lr_1_stages, \n",
        "                             train_df=train_df_preprocessed, \n",
        "                             model_grid=lr_1_grid, \n",
        "                             parallelism=15)"
      ],
      "metadata": {
        "colab": {
          "base_uri": "https://localhost:8080/",
          "height": 106
        },
        "id": "ZjdSkKdQo49c",
        "outputId": "7022532c-c925-4f9c-8957-39d05ca1143d"
      },
      "execution_count": 150,
      "outputs": [
        {
          "output_type": "display_data",
          "data": {
            "text/plain": [
              "<IPython.core.display.HTML object>"
            ],
            "text/html": [
              "\n",
              "    <style>\n",
              "      pre {\n",
              "          white-space: pre-wrap;\n",
              "      }\n",
              "    </style>\n",
              "    "
            ]
          },
          "metadata": {}
        },
        {
          "output_type": "stream",
          "name": "stdout",
          "text": [
            "{Param(parent='LogisticRegression_04aae7c6886c', name='elasticNetParam', doc='the ElasticNet mixing parameter, in range [0, 1]. For alpha = 0, the penalty is an L2 penalty. For alpha = 1, it is an L1 penalty.'): 0.25, Param(parent='LogisticRegression_04aae7c6886c', name='regParam', doc='regularization parameter (>= 0).'): 0.005}\n",
            "CPU times: user 18.6 s, sys: 3.11 s, total: 21.7 s\n",
            "Wall time: 17min 58s\n"
          ]
        }
      ]
    },
    {
      "cell_type": "code",
      "source": [
        "# Save model, or upload if already saved\n",
        "if not os.path.isdir(drive_path + 'lr_1_model'):\n",
        "    lr_1_model.save(drive_path + 'lr_1_model')\n",
        "else:\n",
        "    lr_1_model = TrainValidationSplitModel.load(drive_path + 'lr_1_model')\n",
        "    print(lr_1_grid[np.argmax(lr_1_model.validationMetrics)])"
      ],
      "metadata": {
        "colab": {
          "base_uri": "https://localhost:8080/",
          "height": 17
        },
        "id": "IMzLnOFyNViq",
        "outputId": "864853e0-3843-4022-ae13-fbff79d9680c"
      },
      "execution_count": 152,
      "outputs": [
        {
          "output_type": "display_data",
          "data": {
            "text/plain": [
              "<IPython.core.display.HTML object>"
            ],
            "text/html": [
              "\n",
              "    <style>\n",
              "      pre {\n",
              "          white-space: pre-wrap;\n",
              "      }\n",
              "    </style>\n",
              "    "
            ]
          },
          "metadata": {}
        }
      ]
    },
    {
      "cell_type": "code",
      "source": [
        "# Print model scores\n",
        "score_model(lr_1_model, train_df_preprocessed, test_df_preprocessed)"
      ],
      "metadata": {
        "colab": {
          "base_uri": "https://localhost:8080/",
          "height": 213
        },
        "id": "EI7bjv4O_AGK",
        "outputId": "9f284e0a-1dc6-44ab-bdce-e85410912574"
      },
      "execution_count": 153,
      "outputs": [
        {
          "output_type": "display_data",
          "data": {
            "text/plain": [
              "<IPython.core.display.HTML object>"
            ],
            "text/html": [
              "\n",
              "    <style>\n",
              "      pre {\n",
              "          white-space: pre-wrap;\n",
              "      }\n",
              "    </style>\n",
              "    "
            ]
          },
          "metadata": {}
        },
        {
          "output_type": "stream",
          "name": "stdout",
          "text": [
            "TrainValidationSplitModel_d56af3e216dd \n",
            "\n",
            "Training set accuracy: 0.999\tTest set accuracy: 0.999\n",
            "------------------------------------------------------------\n",
            "Training set AUPRC: 0.593\tTest set AUPRC: 0.577\n",
            "------------------------------------------------------------\n",
            "Test set precision\n",
            "Non-anomalous 0.999\tAnomalous: 1.0\n",
            "------------------------------------------------------------\n",
            "Test set recall\n",
            "Non-anomalous: 1.0\tAnomalous: 0.152\n"
          ]
        }
      ]
    },
    {
      "cell_type": "code",
      "source": [
        "# Plot model confusion matrix\n",
        "plot_confusion_matrix(lr_1_model, test_df_preprocessed)"
      ],
      "metadata": {
        "colab": {
          "base_uri": "https://localhost:8080/",
          "height": 465
        },
        "id": "urtLcdfgNICm",
        "outputId": "fa5d76f4-c3cc-4950-d968-a77a28fe6cd2"
      },
      "execution_count": 196,
      "outputs": [
        {
          "output_type": "display_data",
          "data": {
            "text/plain": [
              "<IPython.core.display.HTML object>"
            ],
            "text/html": [
              "\n",
              "    <style>\n",
              "      pre {\n",
              "          white-space: pre-wrap;\n",
              "      }\n",
              "    </style>\n",
              "    "
            ]
          },
          "metadata": {}
        },
        {
          "output_type": "display_data",
          "data": {
            "text/plain": [
              "<Figure size 1296x504 with 2 Axes>"
            ],
            "image/png": "[encoded data removed]"
          },
          "metadata": {
            "image/png": {
              "width": 643,
              "height": 448
            },
            "needs_background": "light"
          }
        }
      ]
    },
    {
      "cell_type": "markdown",
      "source": [
        "**Remarks:**\n",
        "- Applying regularization improved the model tremendously! We had nearly 23k false positives with the baseline model, and now we don't have a single one. Our test set recall decreased a bit, but for perfect precision I'll take that any day. Our AUPRC is now 0.577."
      ],
      "metadata": {
        "id": "KLeCBfTcNIJJ"
      }
    },
    {
      "cell_type": "markdown",
      "source": [
        "<br>"
      ],
      "metadata": {
        "id": "rTGJBZkXfTy0"
      }
    },
    {
      "cell_type": "markdown",
      "source": [
        "# Model 1.2: Logistic Regression with Tuned Threshold\n",
        "\n",
        "For our next tuned model, we'll attempt to optimize the logistic regression classification threshold. Since we didn't have a single false positive in the last model, we might be able to bring the threshold down without incurring too much of a hit to the false positive rate, resulting in a higher overall AUPRC score.\n",
        "\n",
        "We'll grid search over the following thresholds: `[0.25, 0.3, 0.35, 0.4, 0.45, 0.5]`"
      ],
      "metadata": {
        "id": "jdrJKz1BApRM"
      }
    },
    {
      "cell_type": "code",
      "source": [
        "lr_2 = LogisticRegression(\n",
        "    featuresCol='scaled_features',\n",
        "    labelCol='Anomalous',\n",
        "    weightCol='Weight',\n",
        "    standardization=False, \n",
        "    elasticNetParam=0.25, \n",
        "    regParam=0.005)\n",
        "\n",
        "lr_2_stages = stages + [lr_2]\n",
        "\n",
        "# Specify parameter grid\n",
        "lr_2_grid = ParamGridBuilder()\\\n",
        "            .addGrid(lr_2.threshold, list(np.linspace(0.25, 0.5, 6)))\\\n",
        "            .build()"
      ],
      "metadata": {
        "id": "i0_-CzaxgrbH",
        "colab": {
          "base_uri": "https://localhost:8080/",
          "height": 17
        },
        "outputId": "f16468e0-0d5e-4e75-c40e-fabcd17ad00b"
      },
      "execution_count": 229,
      "outputs": [
        {
          "output_type": "display_data",
          "data": {
            "text/plain": [
              "<IPython.core.display.HTML object>"
            ],
            "text/html": [
              "\n",
              "    <style>\n",
              "      pre {\n",
              "          white-space: pre-wrap;\n",
              "      }\n",
              "    </style>\n",
              "    "
            ]
          },
          "metadata": {}
        }
      ]
    },
    {
      "cell_type": "code",
      "source": [
        "# Run grid search using grid_search function\n",
        "%%time\n",
        "if not os.path.isdir(drive_path + 'lr_2_model'):\n",
        "    lr_2_model = grid_search(stages_with_classifier=lr_2_stages, \n",
        "                             train_df=train_df_preprocessed, \n",
        "                             model_grid=lr_2_grid, \n",
        "                             parallelism=6)"
      ],
      "metadata": {
        "id": "SbiNDGEdg1AI",
        "colab": {
          "base_uri": "https://localhost:8080/",
          "height": 88
        },
        "outputId": "a83b8233-0cde-452d-a5c8-d8433850898f"
      },
      "execution_count": 230,
      "outputs": [
        {
          "output_type": "display_data",
          "data": {
            "text/plain": [
              "<IPython.core.display.HTML object>"
            ],
            "text/html": [
              "\n",
              "    <style>\n",
              "      pre {\n",
              "          white-space: pre-wrap;\n",
              "      }\n",
              "    </style>\n",
              "    "
            ]
          },
          "metadata": {}
        },
        {
          "output_type": "stream",
          "name": "stdout",
          "text": [
            "{Param(parent='LogisticRegression_e1940169b460', name='threshold', doc='Threshold in binary classification prediction, in range [0, 1]. If threshold and thresholds are both set, they must match.e.g. if threshold is p, then thresholds must be equal to [1-p, p].'): 0.25}\n",
            "CPU times: user 12.9 s, sys: 2.05 s, total: 14.9 s\n",
            "Wall time: 9min 56s\n"
          ]
        }
      ]
    },
    {
      "cell_type": "code",
      "source": [
        "# Save model, or upload if already saved\n",
        "if not os.path.isdir(drive_path + 'lr_2_model'):\n",
        "    lr_2_model.save(drive_path + 'lr_2_model')\n",
        "else:\n",
        "    lr_2_model = TrainValidationSplitModel.load(drive_path + 'lr_2_model')\n",
        "    print(lr_2_grid[np.argmax(lr_2_model.validationMetrics)])"
      ],
      "metadata": {
        "colab": {
          "base_uri": "https://localhost:8080/",
          "height": 17
        },
        "id": "fRM_UiomDh4w",
        "outputId": "bc627261-e125-4e97-b6f3-e8cb46ce8b48"
      },
      "execution_count": 231,
      "outputs": [
        {
          "output_type": "display_data",
          "data": {
            "text/plain": [
              "<IPython.core.display.HTML object>"
            ],
            "text/html": [
              "\n",
              "    <style>\n",
              "      pre {\n",
              "          white-space: pre-wrap;\n",
              "      }\n",
              "    </style>\n",
              "    "
            ]
          },
          "metadata": {}
        }
      ]
    },
    {
      "cell_type": "code",
      "source": [
        "# Print model scores\n",
        "score_model(lr_2_model, train_df_preprocessed, test_df_preprocessed)"
      ],
      "metadata": {
        "id": "PHx550Oxg45U",
        "colab": {
          "base_uri": "https://localhost:8080/",
          "height": 213
        },
        "outputId": "8a67526c-7a3c-46c3-edce-9c57bccfbcbf"
      },
      "execution_count": 232,
      "outputs": [
        {
          "output_type": "display_data",
          "data": {
            "text/plain": [
              "<IPython.core.display.HTML object>"
            ],
            "text/html": [
              "\n",
              "    <style>\n",
              "      pre {\n",
              "          white-space: pre-wrap;\n",
              "      }\n",
              "    </style>\n",
              "    "
            ]
          },
          "metadata": {}
        },
        {
          "output_type": "stream",
          "name": "stdout",
          "text": [
            "TrainValidationSplitModel_0e657ccba3ea \n",
            "\n",
            "Training set accuracy: 0.999\tTest set accuracy: 0.999\n",
            "------------------------------------------------------------\n",
            "Training set AUPRC: 0.593\tTest set AUPRC: 0.577\n",
            "------------------------------------------------------------\n",
            "Test set precision\n",
            "Non-anomalous 0.999\tAnomalous: 1.0\n",
            "------------------------------------------------------------\n",
            "Test set recall\n",
            "Non-anomalous: 1.0\tAnomalous: 0.152\n"
          ]
        }
      ]
    },
    {
      "cell_type": "code",
      "source": [
        "# Plot model confusion matrix\n",
        "plot_confusion_matrix(lr_2_model, test_df_preprocessed)"
      ],
      "metadata": {
        "id": "lip0jPY2g5l7",
        "colab": {
          "base_uri": "https://localhost:8080/",
          "height": 465
        },
        "outputId": "6a9b5262-730b-4621-8fce-85fd840f092f"
      },
      "execution_count": 233,
      "outputs": [
        {
          "output_type": "display_data",
          "data": {
            "text/plain": [
              "<IPython.core.display.HTML object>"
            ],
            "text/html": [
              "\n",
              "    <style>\n",
              "      pre {\n",
              "          white-space: pre-wrap;\n",
              "      }\n",
              "    </style>\n",
              "    "
            ]
          },
          "metadata": {}
        },
        {
          "output_type": "display_data",
          "data": {
            "text/plain": [
              "<Figure size 1296x504 with 2 Axes>"
            ],
            "image/png": "[encoded data removed]"
          },
          "metadata": {
            "image/png": {
              "width": 643,
              "height": 448
            },
            "needs_background": "light"
          }
        }
      ]
    },
    {
      "cell_type": "markdown",
      "source": [
        "**Remarks:**\n",
        "- Hi"
      ],
      "metadata": {
        "id": "wOyJ8wYAC9cM"
      }
    },
    {
      "cell_type": "code",
      "source": [
        ""
      ],
      "metadata": {
        "id": "9ebpoGY2-Xfk"
      },
      "execution_count": null,
      "outputs": []
    }
  ]
}