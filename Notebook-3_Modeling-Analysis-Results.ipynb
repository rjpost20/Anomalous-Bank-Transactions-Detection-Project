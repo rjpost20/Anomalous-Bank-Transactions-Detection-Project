{
  "nbformat": 4,
  "nbformat_minor": 0,
  "metadata": {
    "colab": {
      "name": "Notebook-3_Modeling-Analysis-Results.ipynb",
      "provenance": [],
      "collapsed_sections": [],
      "machine_shape": "hm",
      "authorship_tag": "ABX9TyMDxX66vqm2r1vAK/dWIv2f"
    },
    "kernelspec": {
      "name": "python3",
      "display_name": "Python 3"
    },
    "language_info": {
      "name": "python"
    },
    "gpuClass": "standard"
  },
  "cells": [
    {
      "cell_type": "markdown",
      "source": [
        "<img src=\"https://github.com/rjpost20/Anomalous-Bank-Transactions-Detection-Project/blob/main/data/AdobeStock_319163865.jpeg?raw=true\">\n",
        "Image by <a href=\"https://stock.adobe.com/contributor/200768506/andsus?load_type=author&prev_url=detail\" >AndSus</a> on Adobe Stock"
      ],
      "metadata": {
        "id": "_6bs9GYKTazR"
      }
    },
    {
      "cell_type": "markdown",
      "source": [
        "# Phase 5 Project: *Detecting Anomalous Financial Transactions*"
      ],
      "metadata": {
        "id": "7VB6bZymTwee"
      }
    },
    {
      "cell_type": "markdown",
      "source": [
        "## Notebook 3: Modeling, Analysis and Results"
      ],
      "metadata": {
        "id": "nCbcIwMIT8L2"
      }
    },
    {
      "cell_type": "markdown",
      "source": [
        "### By Ryan Posternak"
      ],
      "metadata": {
        "id": "xIF5Rp36UDq8"
      }
    },
    {
      "cell_type": "markdown",
      "source": [
        "Flatiron School, Full-Time Live NYC<br>\n",
        "Project Presentation Date: August 25th, 2022<br>\n",
        "Instructor: Joseph Mata"
      ],
      "metadata": {
        "id": "02ym0eygUI_s"
      }
    },
    {
      "cell_type": "markdown",
      "source": [
        "<br>"
      ],
      "metadata": {
        "id": "tITdkCs8UbQf"
      }
    },
    {
      "cell_type": "markdown",
      "source": [
        "# Imports and Reading in Data"
      ],
      "metadata": {
        "id": "YVvo7KHTUQbw"
      }
    },
    {
      "cell_type": "markdown",
      "source": [
        "### Google colab compatibility downloads"
      ],
      "metadata": {
        "id": "xsGuZAD3URpn"
      }
    },
    {
      "cell_type": "code",
      "source": [
        "!sudo apt update\n",
        "!apt-get install openjdk-8-jdk-headless -qq > /dev/null\n",
        "!wget -q https://dlcdn.apache.org/spark/spark-3.3.0/spark-3.3.0-bin-hadoop3.tgz \n",
        "!tar xf spark-3.3.0-bin-hadoop3.tgz\n",
        "import os\n",
        "os.environ[\"JAVA_HOME\"] = \"/usr/lib/jvm/java-8-openjdk-amd64\"\n",
        "os.environ[\"SPARK_HOME\"] = \"/content/spark-3.3.0-bin-hadoop3\"\n",
        "!pip install pyspark==3.3.0\n",
        "!pip install -q findspark\n",
        "import findspark\n",
        "findspark.init()"
      ],
      "metadata": {
        "colab": {
          "base_uri": "https://localhost:8080/"
        },
        "id": "5vbzjcsbUSJ1",
        "outputId": "4363d213-6fa1-4054-ba6a-d443a54582bd"
      },
      "execution_count": 1,
      "outputs": [
        {
          "output_type": "stream",
          "name": "stdout",
          "text": [
            "\u001b[33m\r0% [Working]\u001b[0m\r            \rGet:1 http://security.ubuntu.com/ubuntu bionic-security InRelease [88.7 kB]\n",
            "\u001b[33m\r0% [Connecting to archive.ubuntu.com (185.125.190.39)] [1 InRelease 14.2 kB/88.\u001b[0m\u001b[33m\r0% [Connecting to archive.ubuntu.com (185.125.190.39)] [Connecting to cloud.r-p\u001b[0m\u001b[33m\r0% [1 InRelease gpgv 88.7 kB] [Connecting to archive.ubuntu.com (185.125.190.39\u001b[0m\r                                                                               \rGet:2 https://cloud.r-project.org/bin/linux/ubuntu bionic-cran40/ InRelease [3,626 B]\n",
            "\u001b[33m\r0% [1 InRelease gpgv 88.7 kB] [Waiting for headers] [2 InRelease 0 B/3,626 B 0%\u001b[0m\u001b[33m\r0% [1 InRelease gpgv 88.7 kB] [Waiting for headers] [Waiting for headers] [Wait\u001b[0m\r                                                                               \rHit:3 http://archive.ubuntu.com/ubuntu bionic InRelease\n",
            "Get:4 http://ppa.launchpad.net/c2d4u.team/c2d4u4.0+/ubuntu bionic InRelease [15.9 kB]\n",
            "Get:5 http://archive.ubuntu.com/ubuntu bionic-updates InRelease [88.7 kB]\n",
            "Ign:6 https://developer.download.nvidia.com/compute/machine-learning/repos/ubuntu1804/x86_64  InRelease\n",
            "Get:7 http://security.ubuntu.com/ubuntu bionic-security/universe amd64 Packages [1,533 kB]\n",
            "Get:8 https://developer.download.nvidia.com/compute/cuda/repos/ubuntu1804/x86_64  InRelease [1,581 B]\n",
            "Hit:9 https://developer.download.nvidia.com/compute/machine-learning/repos/ubuntu1804/x86_64  Release\n",
            "Get:10 http://security.ubuntu.com/ubuntu bionic-security/main amd64 Packages [2,937 kB]\n",
            "Hit:11 http://ppa.launchpad.net/cran/libgit2/ubuntu bionic InRelease\n",
            "Get:12 http://archive.ubuntu.com/ubuntu bionic-backports InRelease [74.6 kB]\n",
            "Hit:13 http://ppa.launchpad.net/deadsnakes/ppa/ubuntu bionic InRelease\n",
            "Get:14 https://developer.download.nvidia.com/compute/cuda/repos/ubuntu1804/x86_64  Packages [910 kB]\n",
            "Hit:15 http://ppa.launchpad.net/graphics-drivers/ppa/ubuntu bionic InRelease\n",
            "Get:17 http://ppa.launchpad.net/c2d4u.team/c2d4u4.0+/ubuntu bionic/main Sources [2,095 kB]\n",
            "Get:18 http://archive.ubuntu.com/ubuntu bionic-updates/universe amd64 Packages [2,311 kB]\n",
            "Get:19 http://archive.ubuntu.com/ubuntu bionic-updates/main amd64 Packages [3,369 kB]\n",
            "Get:20 http://ppa.launchpad.net/c2d4u.team/c2d4u4.0+/ubuntu bionic/main amd64 Packages [1,073 kB]\n",
            "Fetched 14.5 MB in 2s (7,074 kB/s)\n",
            "Reading package lists... Done\n",
            "Building dependency tree       \n",
            "Reading state information... Done\n",
            "25 packages can be upgraded. Run 'apt list --upgradable' to see them.\n",
            "Looking in indexes: https://pypi.org/simple, https://us-python.pkg.dev/colab-wheels/public/simple/\n",
            "Collecting pyspark==3.3.0\n",
            "  Downloading pyspark-3.3.0.tar.gz (281.3 MB)\n",
            "\u001b[K     |████████████████████████████████| 281.3 MB 32 kB/s \n",
            "\u001b[?25hCollecting py4j==0.10.9.5\n",
            "  Downloading py4j-0.10.9.5-py2.py3-none-any.whl (199 kB)\n",
            "\u001b[K     |████████████████████████████████| 199 kB 58.0 MB/s \n",
            "\u001b[?25hBuilding wheels for collected packages: pyspark\n",
            "  Building wheel for pyspark (setup.py) ... \u001b[?25l\u001b[?25hdone\n",
            "  Created wheel for pyspark: filename=pyspark-3.3.0-py2.py3-none-any.whl size=281764026 sha256=c0c7241b6761eb848ebf0b090be955307cb2a54425040894098ed5a218bce574\n",
            "  Stored in directory: /root/.cache/pip/wheels/7a/8e/1b/f73a52650d2e5f337708d9f6a1750d451a7349a867f928b885\n",
            "Successfully built pyspark\n",
            "Installing collected packages: py4j, pyspark\n",
            "Successfully installed py4j-0.10.9.5 pyspark-3.3.0\n"
          ]
        }
      ]
    },
    {
      "cell_type": "code",
      "source": [
        "# Connect to Google drive\n",
        "from google.colab import drive, files\n",
        "drive.mount('/content/drive')\n",
        "drive_path = '/content/drive/MyDrive/Colab Notebooks/'"
      ],
      "metadata": {
        "id": "ZL5VI-6OUSmC",
        "colab": {
          "base_uri": "https://localhost:8080/"
        },
        "outputId": "49b39fd0-d92d-4531-c55e-47fa02125bf9"
      },
      "execution_count": 2,
      "outputs": [
        {
          "output_type": "stream",
          "name": "stdout",
          "text": [
            "Mounted at /content/drive\n"
          ]
        }
      ]
    },
    {
      "cell_type": "code",
      "source": [
        "import numpy as np\n",
        "import pandas as pd\n",
        "from itertools import chain\n",
        "\n",
        "from pyspark.sql import SparkSession\n",
        "import pyspark.sql.functions as F\n",
        "\n",
        "from pyspark.ml.feature import VectorAssembler, StandardScaler\n",
        "from pyspark.ml import Pipeline, PipelineModel\n",
        "from pyspark.ml.classification import LogisticRegression, LinearSVC, NaiveBayes, DecisionTreeClassifier\n",
        "from pyspark.ml.evaluation import BinaryClassificationEvaluator\n",
        "from pyspark.ml.tuning import ParamGridBuilder, TrainValidationSplit, TrainValidationSplitModel\n",
        "\n",
        "from sklearn.metrics import classification_report, confusion_matrix, ConfusionMatrixDisplay\n",
        "\n",
        "import matplotlib.pyplot as plt\n",
        "import seaborn as sns\n",
        "from IPython.display import HTML, display\n",
        "%matplotlib inline\n",
        "%config InlineBackend.figure_format='retina'"
      ],
      "metadata": {
        "id": "rKWlJ4EbUTF0",
        "colab": {
          "base_uri": "https://localhost:8080/",
          "height": 17
        },
        "outputId": "c4e3ce2e-de46-4290-c95e-4980147dca8a"
      },
      "execution_count": 114,
      "outputs": [
        {
          "output_type": "display_data",
          "data": {
            "text/plain": [
              "<IPython.core.display.HTML object>"
            ],
            "text/html": [
              "\n",
              "    <style>\n",
              "      pre {\n",
              "          white-space: pre-wrap;\n",
              "      }\n",
              "    </style>\n",
              "    "
            ]
          },
          "metadata": {}
        }
      ]
    },
    {
      "cell_type": "code",
      "execution_count": 4,
      "metadata": {
        "id": "vc_V7XVRDx1U",
        "colab": {
          "resources": {
            "http://localhost:8080/nbextensions/google.colab/files.js": {
              "data": "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",
              "ok": true,
              "headers": [
                [
                  "content-type",
                  "application/javascript"
                ]
              ],
              "status": 200,
              "status_text": ""
            }
          },
          "base_uri": "https://localhost:8080/",
          "height": 74
        },
        "outputId": "2fd9b849-85f9-40f2-b742-a579e152954b"
      },
      "outputs": [
        {
          "output_type": "display_data",
          "data": {
            "text/plain": [
              "<IPython.core.display.HTML object>"
            ],
            "text/html": [
              "\n",
              "     <input type=\"file\" id=\"files-dcb1ed5f-2b6d-49dc-aef6-acf4a3376774\" name=\"files[]\" multiple disabled\n",
              "        style=\"border:none\" />\n",
              "     <output id=\"result-dcb1ed5f-2b6d-49dc-aef6-acf4a3376774\">\n",
              "      Upload widget is only available when the cell has been executed in the\n",
              "      current browser session. Please rerun this cell to enable.\n",
              "      </output>\n",
              "      <script src=\"/nbextensions/google.colab/files.js\"></script> "
            ]
          },
          "metadata": {}
        },
        {
          "output_type": "stream",
          "name": "stdout",
          "text": [
            "Saving helper_functions.py to helper_functions.py\n"
          ]
        }
      ],
      "source": [
        "# Import helper functions\n",
        "helper_functions = files.upload()\n",
        "from helper_functions import set_weight_col"
      ]
    },
    {
      "cell_type": "code",
      "source": [
        "# Check Colab GPU info\n",
        "gpu_info = !nvidia-smi\n",
        "gpu_info = '\\n'.join(gpu_info)\n",
        "if gpu_info.find('failed') >= 0:\n",
        "    print('Not connected to a GPU')\n",
        "else:\n",
        "    print(gpu_info)"
      ],
      "metadata": {
        "id": "meNh4v-1VAPw",
        "colab": {
          "base_uri": "https://localhost:8080/"
        },
        "outputId": "1738b438-b098-457f-d673-727b09baf8d4"
      },
      "execution_count": 5,
      "outputs": [
        {
          "output_type": "stream",
          "name": "stdout",
          "text": [
            "Not connected to a GPU\n"
          ]
        }
      ]
    },
    {
      "cell_type": "code",
      "source": [
        "# Check Colab RAM info\n",
        "from psutil import virtual_memory\n",
        "ram_gb = virtual_memory().total / 1e9\n",
        "print('Your runtime has {:.1f} gigabytes of available RAM\\n'.format(ram_gb))\n",
        "\n",
        "if ram_gb < 20:\n",
        "  print('Not using a high-RAM runtime')\n",
        "else:\n",
        "  print('You are using a high-RAM runtime!')"
      ],
      "metadata": {
        "id": "PE0CcaaTrsP9",
        "colab": {
          "base_uri": "https://localhost:8080/"
        },
        "outputId": "84e70813-9656-46f0-c56e-458d7dba075a"
      },
      "execution_count": 6,
      "outputs": [
        {
          "output_type": "stream",
          "name": "stdout",
          "text": [
            "Your runtime has 54.8 gigabytes of available RAM\n",
            "\n",
            "You are using a high-RAM runtime!\n"
          ]
        }
      ]
    },
    {
      "cell_type": "code",
      "source": [
        "# Set text to wrap in Google colab notebook\n",
        "def set_css():\n",
        "    display(HTML(\"\"\"\n",
        "    <style>\n",
        "      pre {\n",
        "          white-space: pre-wrap;\n",
        "      }\n",
        "    </style>\n",
        "    \"\"\"))\n",
        "get_ipython().events.register('pre_run_cell', set_css)"
      ],
      "metadata": {
        "id": "7Q03mQqlVAa-"
      },
      "execution_count": 7,
      "outputs": []
    },
    {
      "cell_type": "code",
      "source": [
        "# Initialize Spark Session\n",
        "spark = SparkSession.builder\\\n",
        "        .master(\"local[*]\")\\\n",
        "        .appName(\"Colab\")\\\n",
        "        .config(\"spark.ui.port\", \"4050\")\\\n",
        "        .config(\"spark.driver.memory\", \"15g\")\\\n",
        "        .getOrCreate()\n",
        "\n",
        "spark"
      ],
      "metadata": {
        "id": "NLJkXpZlVAi5",
        "colab": {
          "base_uri": "https://localhost:8080/",
          "height": 221
        },
        "outputId": "690d2cdf-317b-47da-d9f5-6cabbcfd1849"
      },
      "execution_count": 8,
      "outputs": [
        {
          "output_type": "display_data",
          "data": {
            "text/plain": [
              "<IPython.core.display.HTML object>"
            ],
            "text/html": [
              "\n",
              "    <style>\n",
              "      pre {\n",
              "          white-space: pre-wrap;\n",
              "      }\n",
              "    </style>\n",
              "    "
            ]
          },
          "metadata": {}
        },
        {
          "output_type": "execute_result",
          "data": {
            "text/plain": [
              "<pyspark.sql.session.SparkSession at 0x7f8fb7e56d90>"
            ],
            "text/html": [
              "\n",
              "            <div>\n",
              "                <p><b>SparkSession - in-memory</b></p>\n",
              "                \n",
              "        <div>\n",
              "            <p><b>SparkContext</b></p>\n",
              "\n",
              "            <p><a href=\"http://3a390fdea5a5:4050\">Spark UI</a></p>\n",
              "\n",
              "            <dl>\n",
              "              <dt>Version</dt>\n",
              "                <dd><code>v3.3.0</code></dd>\n",
              "              <dt>Master</dt>\n",
              "                <dd><code>local[*]</code></dd>\n",
              "              <dt>AppName</dt>\n",
              "                <dd><code>Colab</code></dd>\n",
              "            </dl>\n",
              "        </div>\n",
              "        \n",
              "            </div>\n",
              "        "
            ]
          },
          "metadata": {},
          "execution_count": 8
        }
      ]
    },
    {
      "cell_type": "markdown",
      "metadata": {
        "id": "b25f65a8-1444-468f-a5ee-9611e4d794ef"
      },
      "source": [
        "## Read in Data"
      ]
    },
    {
      "cell_type": "code",
      "source": [
        "# Read in weighted_df and resampled_df (training data) and test_df_preprocessed (testing data) data csv files as Spark DataFrames\n",
        "train_df_preprocessed = spark.read.csv(drive_path + 'train_df_preprocessed.csv', header=True, inferSchema=True)\n",
        "test_df_preprocessed = spark.read.csv(drive_path + 'test_df_preprocessed.csv', header=True, inferSchema=True)"
      ],
      "metadata": {
        "id": "2XuhVucTVAqb",
        "colab": {
          "base_uri": "https://localhost:8080/",
          "height": 17
        },
        "outputId": "e8e8ea50-6bef-44dc-9a61-719eb44aea54"
      },
      "execution_count": 10,
      "outputs": [
        {
          "output_type": "display_data",
          "data": {
            "text/plain": [
              "<IPython.core.display.HTML object>"
            ],
            "text/html": [
              "\n",
              "    <style>\n",
              "      pre {\n",
              "          white-space: pre-wrap;\n",
              "      }\n",
              "    </style>\n",
              "    "
            ]
          },
          "metadata": {}
        }
      ]
    },
    {
      "cell_type": "markdown",
      "source": [
        "<br>"
      ],
      "metadata": {
        "id": "Z9ozj765PqrM"
      }
    },
    {
      "cell_type": "markdown",
      "source": [
        "## Add `Weight` column to dataframe\n",
        "\n",
        "As we've seen, the training dataset is extremely imbalanced in regards to target class distribution. In order to improve modeling performance, we'll add a new column `Weight` to `train_df_preprocessed` specifying the weights to use, which we pass in to PySpark models in the `weightCol` parameter. We'll create the new `Weight` column using the `set_weight_col` function in `helper_functions`.\n",
        "\n",
        "Our initial `Weight` column will specify equal weights across all observations, which is the default in PySpark."
      ],
      "metadata": {
        "id": "09uu3jqXN0D3"
      }
    },
    {
      "cell_type": "code",
      "source": [
        "print(set_weight_col.__doc__)"
      ],
      "metadata": {
        "colab": {
          "base_uri": "https://localhost:8080/",
          "height": 374
        },
        "id": "3uBAlM6OQgyg",
        "outputId": "3de000bf-a64c-4e94-8d70-99c2cdd4d5d0"
      },
      "execution_count": 11,
      "outputs": [
        {
          "output_type": "display_data",
          "data": {
            "text/plain": [
              "<IPython.core.display.HTML object>"
            ],
            "text/html": [
              "\n",
              "    <style>\n",
              "      pre {\n",
              "          white-space: pre-wrap;\n",
              "      }\n",
              "    </style>\n",
              "    "
            ]
          },
          "metadata": {}
        },
        {
          "output_type": "stream",
          "name": "stdout",
          "text": [
            "\n",
            "    Calculates and creates a column of class weights \n",
            "    in a PySpark dataframe with an imbalanced binary \n",
            "    target class distribution.\n",
            "\n",
            "    Parameters\n",
            "    ----------\n",
            "    df : Spark `DataFrame`\n",
            "        The Spark `DataFrame` to assign the \n",
            "        `ClassWeight` column to\n",
            "    label_col : Spark `Column`\n",
            "        Label column name\n",
            "    neg_class_weight : '`float` or 'balanced'\n",
            "        New class weight to assign to negative class \n",
            "        (`0`) in weight column. If 'balanced', assigned \n",
            "        class weights will be equal to 1 - proportion of \n",
            "        class in dataframe. If `float`, negative class \n",
            "        will be assigned `neg_class_weight` and positive \n",
            "        class weights remain at 1.0.\n",
            "    \n"
          ]
        }
      ]
    },
    {
      "cell_type": "code",
      "source": [
        "train_df_preprocessed = set_weight_col(train_df_preprocessed, label_col='Label', neg_class_weight=1.0)"
      ],
      "metadata": {
        "colab": {
          "base_uri": "https://localhost:8080/",
          "height": 17
        },
        "id": "gVqOxSzCP5r8",
        "outputId": "a9584211-52ae-453d-f063-c6b7110c4a02"
      },
      "execution_count": 12,
      "outputs": [
        {
          "output_type": "display_data",
          "data": {
            "text/plain": [
              "<IPython.core.display.HTML object>"
            ],
            "text/html": [
              "\n",
              "    <style>\n",
              "      pre {\n",
              "          white-space: pre-wrap;\n",
              "      }\n",
              "    </style>\n",
              "    "
            ]
          },
          "metadata": {}
        }
      ]
    },
    {
      "cell_type": "code",
      "source": [
        "# Preview Weight column\n",
        "cols_to_show = ['MessageId', 'Label', 'Weight']\n",
        "train_df_preprocessed.select(cols_to_show).where(train_df_preprocessed.Label == 0).show(1, truncate=False, vertical=True)\n",
        "train_df_preprocessed.select(cols_to_show).where(train_df_preprocessed.Label == 1).show(1, truncate=False, vertical=True)"
      ],
      "metadata": {
        "colab": {
          "base_uri": "https://localhost:8080/",
          "height": 231
        },
        "id": "1yOERTKURGF2",
        "outputId": "3000dec7-99f6-4803-f5b9-dcebd83e28cb"
      },
      "execution_count": 13,
      "outputs": [
        {
          "output_type": "display_data",
          "data": {
            "text/plain": [
              "<IPython.core.display.HTML object>"
            ],
            "text/html": [
              "\n",
              "    <style>\n",
              "      pre {\n",
              "          white-space: pre-wrap;\n",
              "      }\n",
              "    </style>\n",
              "    "
            ]
          },
          "metadata": {}
        },
        {
          "output_type": "stream",
          "name": "stdout",
          "text": [
            "-RECORD 0---------------\n",
            " MessageId | TRFXV1O7R2 \n",
            " Label     | 0          \n",
            " Weight    | 1.0        \n",
            "only showing top 1 row\n",
            "\n",
            "-RECORD 0---------------\n",
            " MessageId | TR14I40JIT \n",
            " Label     | 1          \n",
            " Weight    | 1.0        \n",
            "only showing top 1 row\n",
            "\n"
          ]
        }
      ]
    },
    {
      "cell_type": "code",
      "source": [
        "# Print shape of dataframes\n",
        "print(f\"train_df_preprocessed:  {train_df_preprocessed.count():,} Rows, {len(train_df_preprocessed.columns)} Columns\")\n",
        "print(f\"test_df_preprocessed:  {test_df_preprocessed.count():,} Rows, {len(test_df_preprocessed.columns)} Columns\")"
      ],
      "metadata": {
        "id": "UcoMf27IVOLC",
        "colab": {
          "base_uri": "https://localhost:8080/",
          "height": 53
        },
        "outputId": "7bfb3da0-e877-4089-ccf5-3cd2d224aac6"
      },
      "execution_count": 14,
      "outputs": [
        {
          "output_type": "display_data",
          "data": {
            "text/plain": [
              "<IPython.core.display.HTML object>"
            ],
            "text/html": [
              "\n",
              "    <style>\n",
              "      pre {\n",
              "          white-space: pre-wrap;\n",
              "      }\n",
              "    </style>\n",
              "    "
            ]
          },
          "metadata": {}
        },
        {
          "output_type": "stream",
          "name": "stdout",
          "text": [
            "train_df_preprocessed:  4,691,725 Rows, 15 Columns\n",
            "test_df_preprocessed:  705,108 Rows, 14 Columns\n"
          ]
        }
      ]
    },
    {
      "cell_type": "code",
      "source": [
        "# Print schema of training dataframe\n",
        "print('train_df_preprocessed:')\n",
        "train_df_preprocessed.printSchema()"
      ],
      "metadata": {
        "id": "OWm1UBS1VOSH",
        "colab": {
          "base_uri": "https://localhost:8080/",
          "height": 338
        },
        "outputId": "169c6572-8d23-4f8d-c8e9-458182c60c2b"
      },
      "execution_count": 15,
      "outputs": [
        {
          "output_type": "display_data",
          "data": {
            "text/plain": [
              "<IPython.core.display.HTML object>"
            ],
            "text/html": [
              "\n",
              "    <style>\n",
              "      pre {\n",
              "          white-space: pre-wrap;\n",
              "      }\n",
              "    </style>\n",
              "    "
            ]
          },
          "metadata": {}
        },
        {
          "output_type": "stream",
          "name": "stdout",
          "text": [
            "train_df_preprocessed:\n",
            "root\n",
            " |-- MessageId: string (nullable = true)\n",
            " |-- Label: integer (nullable = true)\n",
            " |-- InstructedAmountUSD: integer (nullable = true)\n",
            " |-- IntermediaryTransactions: integer (nullable = true)\n",
            " |-- Flagged: integer (nullable = true)\n",
            " |-- OrderingCountryFreq: integer (nullable = true)\n",
            " |-- BeneficiaryCountryFreq: integer (nullable = true)\n",
            " |-- Hour: integer (nullable = true)\n",
            " |-- SenderHourFreq: integer (nullable = true)\n",
            " |-- SenderCurrencyFreq: integer (nullable = true)\n",
            " |-- SenderCurrencyAmtAvg: integer (nullable = true)\n",
            " |-- SenderFreq: integer (nullable = true)\n",
            " |-- ReceiverFreq: integer (nullable = true)\n",
            " |-- SenderReceiverFreq: integer (nullable = true)\n",
            " |-- Weight: double (nullable = true)\n",
            "\n"
          ]
        }
      ]
    },
    {
      "cell_type": "code",
      "source": [
        "# Print schema of test dataframe\n",
        "print('test_df_preprocessed:')\n",
        "test_df_preprocessed.printSchema()"
      ],
      "metadata": {
        "id": "SAlIlsWPVObJ",
        "colab": {
          "base_uri": "https://localhost:8080/",
          "height": 321
        },
        "outputId": "3da1d0ef-1c94-4ad5-d752-0d04d1c96ced"
      },
      "execution_count": 16,
      "outputs": [
        {
          "output_type": "display_data",
          "data": {
            "text/plain": [
              "<IPython.core.display.HTML object>"
            ],
            "text/html": [
              "\n",
              "    <style>\n",
              "      pre {\n",
              "          white-space: pre-wrap;\n",
              "      }\n",
              "    </style>\n",
              "    "
            ]
          },
          "metadata": {}
        },
        {
          "output_type": "stream",
          "name": "stdout",
          "text": [
            "test_df_preprocessed:\n",
            "root\n",
            " |-- MessageId: string (nullable = true)\n",
            " |-- Label: integer (nullable = true)\n",
            " |-- InstructedAmountUSD: integer (nullable = true)\n",
            " |-- IntermediaryTransactions: integer (nullable = true)\n",
            " |-- Flagged: integer (nullable = true)\n",
            " |-- OrderingCountryFreq: integer (nullable = true)\n",
            " |-- BeneficiaryCountryFreq: integer (nullable = true)\n",
            " |-- Hour: integer (nullable = true)\n",
            " |-- SenderHourFreq: integer (nullable = true)\n",
            " |-- SenderCurrencyFreq: integer (nullable = true)\n",
            " |-- SenderCurrencyAmtAvg: integer (nullable = true)\n",
            " |-- SenderFreq: integer (nullable = true)\n",
            " |-- ReceiverFreq: integer (nullable = true)\n",
            " |-- SenderReceiverFreq: integer (nullable = true)\n",
            "\n"
          ]
        }
      ]
    },
    {
      "cell_type": "code",
      "source": [
        "# Drop 'MessageId' individual transaction identifier column - will not be used in modeling\n",
        "train_df_preprocessed = train_df_preprocessed.drop('MessageId')\n",
        "test_df_preprocessed = test_df_preprocessed.drop('MessageId')\n",
        "\n",
        "# Rename target variable 'Label' column to more descriptive 'Anomalous'\n",
        "train_df_preprocessed = train_df_preprocessed.withColumnRenamed('Label', 'Anomalous')\n",
        "test_df_preprocessed = test_df_preprocessed.withColumnRenamed('Label', 'Anomalous')"
      ],
      "metadata": {
        "id": "s7nTo2BMXmWS",
        "colab": {
          "base_uri": "https://localhost:8080/",
          "height": 17
        },
        "outputId": "156fef0e-7c11-4f8e-f7b7-1fe7c865b99d"
      },
      "execution_count": 17,
      "outputs": [
        {
          "output_type": "display_data",
          "data": {
            "text/plain": [
              "<IPython.core.display.HTML object>"
            ],
            "text/html": [
              "\n",
              "    <style>\n",
              "      pre {\n",
              "          white-space: pre-wrap;\n",
              "      }\n",
              "    </style>\n",
              "    "
            ]
          },
          "metadata": {}
        }
      ]
    },
    {
      "cell_type": "code",
      "source": [
        "# Display first row of train_df_preprocessed dataframe\n",
        "train_df_preprocessed.show(n=1, truncate=False, vertical=True)"
      ],
      "metadata": {
        "id": "B2jaFCBIwpiM",
        "colab": {
          "base_uri": "https://localhost:8080/",
          "height": 321
        },
        "outputId": "fef5b2df-17be-426d-d1c2-cc8e4092c3a8"
      },
      "execution_count": 18,
      "outputs": [
        {
          "output_type": "display_data",
          "data": {
            "text/plain": [
              "<IPython.core.display.HTML object>"
            ],
            "text/html": [
              "\n",
              "    <style>\n",
              "      pre {\n",
              "          white-space: pre-wrap;\n",
              "      }\n",
              "    </style>\n",
              "    "
            ]
          },
          "metadata": {}
        },
        {
          "output_type": "stream",
          "name": "stdout",
          "text": [
            "-RECORD 0---------------------------\n",
            " Anomalous                | 0       \n",
            " InstructedAmountUSD      | 519149  \n",
            " IntermediaryTransactions | 0       \n",
            " Flagged                  | 0       \n",
            " OrderingCountryFreq      | 73733   \n",
            " BeneficiaryCountryFreq   | 40984   \n",
            " Hour                     | 8       \n",
            " SenderHourFreq           | 47559   \n",
            " SenderCurrencyFreq       | 73733   \n",
            " SenderCurrencyAmtAvg     | 1906631 \n",
            " SenderFreq               | 73733   \n",
            " ReceiverFreq             | 41012   \n",
            " SenderReceiverFreq       | 40984   \n",
            " Weight                   | 1.0     \n",
            "only showing top 1 row\n",
            "\n"
          ]
        }
      ]
    },
    {
      "cell_type": "code",
      "source": [
        "# Display first row of test_df_preprocessed dataframe\n",
        "test_df_preprocessed.show(n=1, truncate=False, vertical=True)"
      ],
      "metadata": {
        "id": "7WB9ibsFWhC3",
        "colab": {
          "base_uri": "https://localhost:8080/",
          "height": 303
        },
        "outputId": "e4d4ecfe-abe5-4f92-e9ff-f8da6462a9cc"
      },
      "execution_count": 19,
      "outputs": [
        {
          "output_type": "display_data",
          "data": {
            "text/plain": [
              "<IPython.core.display.HTML object>"
            ],
            "text/html": [
              "\n",
              "    <style>\n",
              "      pre {\n",
              "          white-space: pre-wrap;\n",
              "      }\n",
              "    </style>\n",
              "    "
            ]
          },
          "metadata": {}
        },
        {
          "output_type": "stream",
          "name": "stdout",
          "text": [
            "-RECORD 0---------------------------\n",
            " Anomalous                | 0       \n",
            " InstructedAmountUSD      | 653958  \n",
            " IntermediaryTransactions | 0       \n",
            " Flagged                  | 0       \n",
            " OrderingCountryFreq      | 73733   \n",
            " BeneficiaryCountryFreq   | 40984   \n",
            " Hour                     | 8       \n",
            " SenderHourFreq           | 47559   \n",
            " SenderCurrencyFreq       | 73733   \n",
            " SenderCurrencyAmtAvg     | 1906631 \n",
            " SenderFreq               | 73733   \n",
            " ReceiverFreq             | 41012   \n",
            " SenderReceiverFreq       | 40984   \n",
            "only showing top 1 row\n",
            "\n"
          ]
        }
      ]
    },
    {
      "cell_type": "code",
      "source": [
        "# Display value counts for 'Anomalous' column (classification target)\n",
        "class_counts = train_df_preprocessed.groupBy('Anomalous').count().withColumn('percent', F.col('count')/train_df_preprocessed.count())\n",
        "\n",
        "class_counts.show(truncate=False)"
      ],
      "metadata": {
        "colab": {
          "base_uri": "https://localhost:8080/",
          "height": 142
        },
        "id": "A4NBBo5Z8HcL",
        "outputId": "e588f3b8-82b3-47ae-d4c0-b7ba5ae36343"
      },
      "execution_count": 20,
      "outputs": [
        {
          "output_type": "display_data",
          "data": {
            "text/plain": [
              "<IPython.core.display.HTML object>"
            ],
            "text/html": [
              "\n",
              "    <style>\n",
              "      pre {\n",
              "          white-space: pre-wrap;\n",
              "      }\n",
              "    </style>\n",
              "    "
            ]
          },
          "metadata": {}
        },
        {
          "output_type": "stream",
          "name": "stdout",
          "text": [
            "+---------+-------+---------------------+\n",
            "|Anomalous|count  |percent              |\n",
            "+---------+-------+---------------------+\n",
            "|1        |4900   |0.0010443919880214632|\n",
            "|0        |4686825|0.9989556080119786   |\n",
            "+---------+-------+---------------------+\n",
            "\n"
          ]
        }
      ]
    },
    {
      "cell_type": "markdown",
      "source": [
        "<br>"
      ],
      "metadata": {
        "id": "jTFLL4FrXelJ"
      }
    },
    {
      "cell_type": "markdown",
      "source": [
        "# Create Pipeline to Preprocess and Model Data"
      ],
      "metadata": {
        "id": "eytS6s3lWXio"
      }
    },
    {
      "cell_type": "markdown",
      "source": [
        "### Index string columns with StringIndexer"
      ],
      "metadata": {
        "id": "ndf2Vu3xWzKy"
      }
    },
    {
      "cell_type": "code",
      "source": [
        "# stages = []\n",
        "\n",
        "# categoricalCols = [item[0] for item in train_df_resampled.dtypes if item[1].startswith('string')]\n",
        "\n",
        "# indexers = []\n",
        "\n",
        "# for col in categoricalCols:\n",
        "#     indexer = StringIndexer(inputCol=col, outputCol=col + '_index', handleInvalid='keep')\n",
        "#     indexers.append(indexer)\n",
        "    \n",
        "# indexed_features = []\n",
        "# for si in indexers:\n",
        "#     indexed_features.append(si.getOutputCol())\n",
        "    \n",
        "# print(f\"Indexed nominal categorical features: \\n{indexed_features}\")"
      ],
      "metadata": {
        "id": "3YdFfLtdWzRd"
      },
      "execution_count": null,
      "outputs": []
    },
    {
      "cell_type": "markdown",
      "source": [
        "### Create a OneHotEncoder to encode the indexed string features"
      ],
      "metadata": {
        "id": "s6X8UUZCWzXN"
      }
    },
    {
      "cell_type": "code",
      "source": [
        "# encoder = OneHotEncoder(inputCols=indexed_features, \n",
        "#                         outputCols=[col + '_ohe' for col in indexed_features], \n",
        "#                         dropLast=True)\n",
        "\n",
        "# print(f\"One hot encoded nominal categorical features: {len(encoder.getOutputCols())}\\n{encoder.getOutputCols()}\")"
      ],
      "metadata": {
        "id": "GEIvAPM5Wzcq"
      },
      "execution_count": null,
      "outputs": []
    },
    {
      "cell_type": "markdown",
      "source": [
        "### Compile numeric features, not including target or class weight columns"
      ],
      "metadata": {
        "id": "8EK2-6LwZa8L"
      }
    },
    {
      "cell_type": "code",
      "source": [
        "numeric_features = []\n",
        "for column in train_df_preprocessed.columns:\n",
        "    if column != 'Anomalous' and column != 'Weight':\n",
        "        numeric_features.append(column)\n",
        "\n",
        "# Confirm equal column counts\n",
        "assert len(train_df_preprocessed.drop('Anomalous', 'Weight').columns) == len(numeric_features)\n",
        "print(f\"Numeric features: {len(numeric_features)}\\n{numeric_features}\")"
      ],
      "metadata": {
        "id": "3s3zpOEkWzhu",
        "colab": {
          "base_uri": "https://localhost:8080/",
          "height": 71
        },
        "outputId": "5c0d4e8a-87f9-4791-ccce-0242d5c8e11d"
      },
      "execution_count": 21,
      "outputs": [
        {
          "output_type": "display_data",
          "data": {
            "text/plain": [
              "<IPython.core.display.HTML object>"
            ],
            "text/html": [
              "\n",
              "    <style>\n",
              "      pre {\n",
              "          white-space: pre-wrap;\n",
              "      }\n",
              "    </style>\n",
              "    "
            ]
          },
          "metadata": {}
        },
        {
          "output_type": "stream",
          "name": "stdout",
          "text": [
            "Numeric features: 12\n",
            "['InstructedAmountUSD', 'IntermediaryTransactions', 'Flagged', 'OrderingCountryFreq', 'BeneficiaryCountryFreq', 'Hour', 'SenderHourFreq', 'SenderCurrencyFreq', 'SenderCurrencyAmtAvg', 'SenderFreq', 'ReceiverFreq', 'SenderReceiverFreq']\n"
          ]
        }
      ]
    },
    {
      "cell_type": "code",
      "source": [
        "# Print names of final features going into the model\n",
        "features = numeric_features\n",
        "print(f\"Final features: {len(features)}\\n{features}\")"
      ],
      "metadata": {
        "id": "TJyrAkENWzmR",
        "colab": {
          "base_uri": "https://localhost:8080/",
          "height": 71
        },
        "outputId": "7ebe58e2-6701-46a8-deee-55ad1a19cb5a"
      },
      "execution_count": 22,
      "outputs": [
        {
          "output_type": "display_data",
          "data": {
            "text/plain": [
              "<IPython.core.display.HTML object>"
            ],
            "text/html": [
              "\n",
              "    <style>\n",
              "      pre {\n",
              "          white-space: pre-wrap;\n",
              "      }\n",
              "    </style>\n",
              "    "
            ]
          },
          "metadata": {}
        },
        {
          "output_type": "stream",
          "name": "stdout",
          "text": [
            "Final features: 12\n",
            "['InstructedAmountUSD', 'IntermediaryTransactions', 'Flagged', 'OrderingCountryFreq', 'BeneficiaryCountryFreq', 'Hour', 'SenderHourFreq', 'SenderCurrencyFreq', 'SenderCurrencyAmtAvg', 'SenderFreq', 'ReceiverFreq', 'SenderReceiverFreq']\n"
          ]
        }
      ]
    },
    {
      "cell_type": "markdown",
      "source": [
        "### Create a VectorAssembler to combine all features"
      ],
      "metadata": {
        "id": "8Iz7ulwAavec"
      }
    },
    {
      "cell_type": "code",
      "source": [
        "assembler = VectorAssembler(inputCols=features, outputCol='vectorized_features')\n",
        "\n",
        "# Assemble a list of stages that includes the vector assembler and standard scaler\n",
        "scaler = StandardScaler(inputCol='vectorized_features', outputCol='scaled_features')\n",
        "\n",
        "stages = [assembler, scaler]\n",
        "print(\"Stages:\", stages)"
      ],
      "metadata": {
        "id": "27pnqdyva17G",
        "colab": {
          "base_uri": "https://localhost:8080/",
          "height": 35
        },
        "outputId": "277cb077-dfd1-4e29-e6cb-e088b5268140"
      },
      "execution_count": 23,
      "outputs": [
        {
          "output_type": "display_data",
          "data": {
            "text/plain": [
              "<IPython.core.display.HTML object>"
            ],
            "text/html": [
              "\n",
              "    <style>\n",
              "      pre {\n",
              "          white-space: pre-wrap;\n",
              "      }\n",
              "    </style>\n",
              "    "
            ]
          },
          "metadata": {}
        },
        {
          "output_type": "stream",
          "name": "stdout",
          "text": [
            "Stages: [VectorAssembler_702cf3d668ce, StandardScaler_3db98728e8c8]\n"
          ]
        }
      ]
    },
    {
      "cell_type": "markdown",
      "source": [
        "### Preview modeling pipeline"
      ],
      "metadata": {
        "id": "ZYwGcc_dbciE"
      }
    },
    {
      "cell_type": "code",
      "source": [
        "pipeline = Pipeline(stages=stages)\n",
        "\n",
        "pipeline_model = pipeline.fit(train_df_preprocessed)\n",
        "\n",
        "pipeline_df = pipeline_model.transform(train_df_preprocessed)"
      ],
      "metadata": {
        "id": "MlwoYrCKbjYB",
        "colab": {
          "base_uri": "https://localhost:8080/",
          "height": 17
        },
        "outputId": "532747d8-76d4-4568-c56e-4c92a0bd9c68"
      },
      "execution_count": 24,
      "outputs": [
        {
          "output_type": "display_data",
          "data": {
            "text/plain": [
              "<IPython.core.display.HTML object>"
            ],
            "text/html": [
              "\n",
              "    <style>\n",
              "      pre {\n",
              "          white-space: pre-wrap;\n",
              "      }\n",
              "    </style>\n",
              "    "
            ]
          },
          "metadata": {}
        }
      ]
    },
    {
      "cell_type": "code",
      "source": [
        "# Display first row of train_df_preprocessed after running through pipeline\n",
        "pipeline_df.show(1, vertical=True, truncate=False)"
      ],
      "metadata": {
        "id": "STgdImWXbwSl",
        "colab": {
          "base_uri": "https://localhost:8080/",
          "height": 412
        },
        "outputId": "bc392b8f-d759-4bff-d978-6c5209fe00a2"
      },
      "execution_count": 25,
      "outputs": [
        {
          "output_type": "display_data",
          "data": {
            "text/plain": [
              "<IPython.core.display.HTML object>"
            ],
            "text/html": [
              "\n",
              "    <style>\n",
              "      pre {\n",
              "          white-space: pre-wrap;\n",
              "      }\n",
              "    </style>\n",
              "    "
            ]
          },
          "metadata": {}
        },
        {
          "output_type": "stream",
          "name": "stdout",
          "text": [
            "-RECORD 0--------------------------------------------------------------------------------------------------------------------------------------------------------------------------------------------------------------------------------------\n",
            " Anomalous                | 0                                                                                                                                                                                                                  \n",
            " InstructedAmountUSD      | 519149                                                                                                                                                                                                             \n",
            " IntermediaryTransactions | 0                                                                                                                                                                                                                  \n",
            " Flagged                  | 0                                                                                                                                                                                                                  \n",
            " OrderingCountryFreq      | 73733                                                                                                                                                                                                              \n",
            " BeneficiaryCountryFreq   | 40984                                                                                                                                                                                                              \n",
            " Hour                     | 8                                                                                                                                                                                                                  \n",
            " SenderHourFreq           | 47559                                                                                                                                                                                                              \n",
            " SenderCurrencyFreq       | 73733                                                                                                                                                                                                              \n",
            " SenderCurrencyAmtAvg     | 1906631                                                                                                                                                                                                            \n",
            " SenderFreq               | 73733                                                                                                                                                                                                              \n",
            " ReceiverFreq             | 41012                                                                                                                                                                                                              \n",
            " SenderReceiverFreq       | 40984                                                                                                                                                                                                              \n",
            " Weight                   | 1.0                                                                                                                                                                                                                \n",
            " vectorized_features      | [519149.0,0.0,0.0,73733.0,40984.0,8.0,47559.0,73733.0,1906631.0,73733.0,41012.0,40984.0]                                                                                                                           \n",
            " scaled_features          | [0.0016527706896438483,0.0,0.0,0.13872751524523577,0.06111503793353696,1.6209688519496068,0.2977688812686963,0.16018777672814133,0.022806394100742342,0.12929906160159663,0.06163677309549697,0.06264906278885182] \n",
            "only showing top 1 row\n",
            "\n"
          ]
        }
      ]
    },
    {
      "cell_type": "code",
      "source": [
        "pipeline_test = pipeline.fit(test_df_preprocessed)\n",
        "\n",
        "pipeline_df_test = pipeline_model.transform(test_df_preprocessed)\n",
        "\n",
        "pipeline.fit(test_df_preprocessed).transform(test_df_preprocessed).head()['scaled_features'].size"
      ],
      "metadata": {
        "id": "lH2vg1cjbzij",
        "colab": {
          "base_uri": "https://localhost:8080/",
          "height": 35
        },
        "outputId": "dc7787d3-7e54-4d94-d4de-8cc4b7f5231f"
      },
      "execution_count": 26,
      "outputs": [
        {
          "output_type": "display_data",
          "data": {
            "text/plain": [
              "<IPython.core.display.HTML object>"
            ],
            "text/html": [
              "\n",
              "    <style>\n",
              "      pre {\n",
              "          white-space: pre-wrap;\n",
              "      }\n",
              "    </style>\n",
              "    "
            ]
          },
          "metadata": {}
        },
        {
          "output_type": "execute_result",
          "data": {
            "text/plain": [
              "12"
            ]
          },
          "metadata": {},
          "execution_count": 26
        }
      ]
    },
    {
      "cell_type": "code",
      "source": [
        "# Display first row of test_df_preprocessed after running through pipeline\n",
        "pipeline_df_test.show(1, vertical=True, truncate=False)"
      ],
      "metadata": {
        "id": "1gZDYHp_c2Ea",
        "colab": {
          "base_uri": "https://localhost:8080/",
          "height": 394
        },
        "outputId": "565d6e11-6f0b-4ea0-b68f-5b3dff218e1c"
      },
      "execution_count": 27,
      "outputs": [
        {
          "output_type": "display_data",
          "data": {
            "text/plain": [
              "<IPython.core.display.HTML object>"
            ],
            "text/html": [
              "\n",
              "    <style>\n",
              "      pre {\n",
              "          white-space: pre-wrap;\n",
              "      }\n",
              "    </style>\n",
              "    "
            ]
          },
          "metadata": {}
        },
        {
          "output_type": "stream",
          "name": "stdout",
          "text": [
            "-RECORD 0--------------------------------------------------------------------------------------------------------------------------------------------------------------------------------------------------------------------------------------\n",
            " Anomalous                | 0                                                                                                                                                                                                                  \n",
            " InstructedAmountUSD      | 653958                                                                                                                                                                                                             \n",
            " IntermediaryTransactions | 0                                                                                                                                                                                                                  \n",
            " Flagged                  | 0                                                                                                                                                                                                                  \n",
            " OrderingCountryFreq      | 73733                                                                                                                                                                                                              \n",
            " BeneficiaryCountryFreq   | 40984                                                                                                                                                                                                              \n",
            " Hour                     | 8                                                                                                                                                                                                                  \n",
            " SenderHourFreq           | 47559                                                                                                                                                                                                              \n",
            " SenderCurrencyFreq       | 73733                                                                                                                                                                                                              \n",
            " SenderCurrencyAmtAvg     | 1906631                                                                                                                                                                                                            \n",
            " SenderFreq               | 73733                                                                                                                                                                                                              \n",
            " ReceiverFreq             | 41012                                                                                                                                                                                                              \n",
            " SenderReceiverFreq       | 40984                                                                                                                                                                                                              \n",
            " vectorized_features      | [653958.0,0.0,0.0,73733.0,40984.0,8.0,47559.0,73733.0,1906631.0,73733.0,41012.0,40984.0]                                                                                                                           \n",
            " scaled_features          | [0.0020819506820934103,0.0,0.0,0.13872751524523577,0.06111503793353696,1.6209688519496068,0.2977688812686963,0.16018777672814133,0.022806394100742342,0.12929906160159663,0.06163677309549697,0.06264906278885182] \n",
            "only showing top 1 row\n",
            "\n"
          ]
        }
      ]
    },
    {
      "cell_type": "markdown",
      "source": [
        "<br>"
      ],
      "metadata": {
        "id": "afadW505c914"
      }
    },
    {
      "cell_type": "code",
      "source": [
        "def grid_search(stages_with_classifier, train_df, model_grid, parallelism, seed=42):\n",
        "    pipeline = Pipeline(stages=stages_with_classifier)\n",
        "    # Define evaluator\n",
        "    evaluator = BinaryClassificationEvaluator(labelCol='Anomalous', \n",
        "                                              metricName=\"areaUnderPR\")\n",
        "    # Define train/validation split with pipeline above\n",
        "    tvs = TrainValidationSplit(estimator=pipeline, \n",
        "                               estimatorParamMaps=model_grid, \n",
        "                               evaluator=evaluator, \n",
        "                               parallelism=parallelism, \n",
        "                               seed=seed)\n",
        "    # Fit the tvs model\n",
        "    tvs_model = tvs.fit(train_df)\n",
        "    # Store best model parameters in variable\n",
        "    best_model_parameters = model_grid[np.argmax(tvs_model.validationMetrics)]\n",
        "\n",
        "    # Print best model parameters\n",
        "    print(best_model_parameters)\n",
        "    # Return best model\n",
        "    return tvs_model"
      ],
      "metadata": {
        "colab": {
          "base_uri": "https://localhost:8080/",
          "height": 17
        },
        "id": "4ddTv-G2Wv9t",
        "outputId": "e27ca4f5-3504-4908-d24b-ce9cf35574cb"
      },
      "execution_count": 68,
      "outputs": [
        {
          "output_type": "display_data",
          "data": {
            "text/plain": [
              "<IPython.core.display.HTML object>"
            ],
            "text/html": [
              "\n",
              "    <style>\n",
              "      pre {\n",
              "          white-space: pre-wrap;\n",
              "      }\n",
              "    </style>\n",
              "    "
            ]
          },
          "metadata": {}
        }
      ]
    },
    {
      "cell_type": "code",
      "source": [
        "def score_model(model, train_df, test_df):\n",
        "    # Predict on training and testing data\n",
        "    train_pred = model.transform(train_df)\n",
        "    test_pred = model.transform(test_df)\n",
        "\n",
        "    # Convert target class columns to NumPy arrays for Sklearn\n",
        "    y_true_train = np.array(train_pred.select('Anomalous').collect())\n",
        "    y_true_test = np.array(test_pred.select('Anomalous').collect())\n",
        "\n",
        "    # Convert prediction columns to NumPy arrays for Sklearn\n",
        "    y_predicted_train = np.array(train_pred.select('prediction').collect())\n",
        "    y_predicted_test = np.array(test_pred.select('prediction').collect())\n",
        "\n",
        "    target_names = ['0: Non-anomalous', '1: Anomalous']\n",
        "    # Print training set classification report\n",
        "    print('Training data:\\n')\n",
        "    print(classification_report(y_true_train, \n",
        "                                y_predicted_train, \n",
        "                                target_names=target_names, \n",
        "                                digits=3))\n",
        "    print('-'*60, '\\n')\n",
        "    # Print test set classification report\n",
        "    print('Testing data:\\n')\n",
        "    print(classification_report(y_true_test, \n",
        "                                y_predicted_test, \n",
        "                                target_names=target_names, \n",
        "                                digits=3))"
      ],
      "metadata": {
        "colab": {
          "base_uri": "https://localhost:8080/",
          "height": 17
        },
        "id": "4KLb1sRmHnA9",
        "outputId": "7fb07932-3889-4a5c-e708-99717bd2d1a3"
      },
      "execution_count": 29,
      "outputs": [
        {
          "output_type": "display_data",
          "data": {
            "text/plain": [
              "<IPython.core.display.HTML object>"
            ],
            "text/html": [
              "\n",
              "    <style>\n",
              "      pre {\n",
              "          white-space: pre-wrap;\n",
              "      }\n",
              "    </style>\n",
              "    "
            ]
          },
          "metadata": {}
        }
      ]
    },
    {
      "cell_type": "code",
      "source": [
        "def plot_confusion_matrix(model, test_df, preprocessing_stages=stages):\n",
        "    # Convert Anomalous column to array\n",
        "    y_true = np.array(test_df.select('Anomalous').collect())\n",
        "    # Calculate predictions and convert prediction column to array\n",
        "    y_predicted = np.array(model.transform(test_df).select('prediction').collect())\n",
        "\n",
        "    \n",
        "    fig, ax1 = plt.subplots(figsize=(18, 7))\n",
        "\n",
        "    # Plot confusion matrix\n",
        "    labels = ['0: Non-anomalous', '1: Anomalous']\n",
        "    cm = confusion_matrix(y_true, y_predicted)\n",
        "    cm_disp = ConfusionMatrixDisplay(confusion_matrix=cm, display_labels=labels)\n",
        "    cm_disp.plot(cmap='Reds', ax=ax1, values_format='')\n",
        "    ax1.set_title('Confusion Matrix - Test Data', size=15, fontweight='bold')\n",
        "    ax1.set_xlabel(ax1.get_xlabel(), size=13)\n",
        "    ax1.set_ylabel(ax1.get_ylabel(), size=13)\n",
        "    ax1.tick_params(axis='both', which='both', labelsize=12)\n",
        "    for labels in cm_disp.text_.ravel():\n",
        "        labels.set_fontsize(12)\n",
        "    ax1.grid(False)\n",
        "\n",
        "    # Plot precision-recall curve\n",
        "    # y_true = np.array(test_df.select('Anomalous').collect()).reshape(-1)\n",
        "    # y_scores = np.array(model.transform(test_df).select('prediction').collect()).reshape(-1)\n",
        "    # pr_disp = PrecisionRecallDisplay.from_predictions(y_true, y_scores, ax=ax2)\n",
        "    # pr_disp.plot(ax=ax2)"
      ],
      "metadata": {
        "id": "avPxF4hI4b8I",
        "colab": {
          "base_uri": "https://localhost:8080/",
          "height": 17
        },
        "outputId": "eeb76e73-ef22-43be-8fff-a974706dc264"
      },
      "execution_count": 30,
      "outputs": [
        {
          "output_type": "display_data",
          "data": {
            "text/plain": [
              "<IPython.core.display.HTML object>"
            ],
            "text/html": [
              "\n",
              "    <style>\n",
              "      pre {\n",
              "          white-space: pre-wrap;\n",
              "      }\n",
              "    </style>\n",
              "    "
            ]
          },
          "metadata": {}
        }
      ]
    },
    {
      "cell_type": "markdown",
      "source": [
        "<br>"
      ],
      "metadata": {
        "id": "wgWYH4Ng_9z7"
      }
    },
    {
      "cell_type": "markdown",
      "source": [
        "# **Baseline Model**: Basic Logistic Regression\n",
        "\n",
        "For our first and baseline model, we'll fit a simple un-tuned logistic regression model."
      ],
      "metadata": {
        "id": "n3nkWqgD7Pss"
      }
    },
    {
      "cell_type": "code",
      "source": [
        "# Set classifier parameters\n",
        "lr_0 = LogisticRegression(\n",
        "    featuresCol='scaled_features',\n",
        "    labelCol='Anomalous',\n",
        "    weightCol='Weight',\n",
        "    standardization=False)"
      ],
      "metadata": {
        "id": "SoNwvO4ndJQu",
        "colab": {
          "base_uri": "https://localhost:8080/",
          "height": 17
        },
        "outputId": "8b932836-506f-4fdd-cbcc-b8061afa7415"
      },
      "execution_count": 56,
      "outputs": [
        {
          "output_type": "display_data",
          "data": {
            "text/plain": [
              "<IPython.core.display.HTML object>"
            ],
            "text/html": [
              "\n",
              "    <style>\n",
              "      pre {\n",
              "          white-space: pre-wrap;\n",
              "      }\n",
              "    </style>\n",
              "    "
            ]
          },
          "metadata": {}
        }
      ]
    },
    {
      "cell_type": "code",
      "source": [
        "# Assign to pipeline\n",
        "lr_0_pipeline = Pipeline(stages=stages + [lr_0])\n",
        "\n",
        "# Fit to training data\n",
        "if not os.path.isdir(drive_path + 'lr_0_model'):\n",
        "    lr_0_model = lr_0_pipeline.fit(train_df_preprocessed)"
      ],
      "metadata": {
        "colab": {
          "base_uri": "https://localhost:8080/",
          "height": 17
        },
        "id": "bJLsvaJE8_2h",
        "outputId": "01cbddae-fc10-45a5-bded-0e94030a07cd"
      },
      "execution_count": 32,
      "outputs": [
        {
          "output_type": "display_data",
          "data": {
            "text/plain": [
              "<IPython.core.display.HTML object>"
            ],
            "text/html": [
              "\n",
              "    <style>\n",
              "      pre {\n",
              "          white-space: pre-wrap;\n",
              "      }\n",
              "    </style>\n",
              "    "
            ]
          },
          "metadata": {}
        }
      ]
    },
    {
      "cell_type": "code",
      "source": [
        "# Save model, or upload if already saved\n",
        "if not os.path.isdir(drive_path + 'lr_0_model'):\n",
        "    lr_0_model.save(drive_path + 'lr_0_model')\n",
        "else:\n",
        "    lr_0_model = PipelineModel.load(drive_path + 'lr_0_model')"
      ],
      "metadata": {
        "colab": {
          "base_uri": "https://localhost:8080/",
          "height": 17
        },
        "id": "nayUX40d98SN",
        "outputId": "411b855d-b8bd-4991-dc28-654c09d7563e"
      },
      "execution_count": 33,
      "outputs": [
        {
          "output_type": "display_data",
          "data": {
            "text/plain": [
              "<IPython.core.display.HTML object>"
            ],
            "text/html": [
              "\n",
              "    <style>\n",
              "      pre {\n",
              "          white-space: pre-wrap;\n",
              "      }\n",
              "    </style>\n",
              "    "
            ]
          },
          "metadata": {}
        }
      ]
    },
    {
      "cell_type": "code",
      "source": [
        "# Print model scores\n",
        "score_model(model=lr_0_model, train_df=train_df_preprocessed, test_df=test_df_preprocessed)"
      ],
      "metadata": {
        "id": "AFPbdEg3dJYE",
        "colab": {
          "base_uri": "https://localhost:8080/",
          "height": 446
        },
        "outputId": "b01b1ad1-0139-411f-d03f-5fbaa444d492"
      },
      "execution_count": 35,
      "outputs": [
        {
          "output_type": "display_data",
          "data": {
            "text/plain": [
              "<IPython.core.display.HTML object>"
            ],
            "text/html": [
              "\n",
              "    <style>\n",
              "      pre {\n",
              "          white-space: pre-wrap;\n",
              "      }\n",
              "    </style>\n",
              "    "
            ]
          },
          "metadata": {}
        },
        {
          "output_type": "stream",
          "name": "stdout",
          "text": [
            "Training data:\n",
            "\n",
            "                  precision    recall  f1-score   support\n",
            "\n",
            "0: Non-anomalous      0.999     1.000     1.000   4686825\n",
            "    1: Anomalous      1.000     0.317     0.482      4900\n",
            "\n",
            "        accuracy                          0.999   4691725\n",
            "       macro avg      1.000     0.659     0.741   4691725\n",
            "    weighted avg      0.999     0.999     0.999   4691725\n",
            "\n",
            "------------------------------------------------------------ \n",
            "\n",
            "Testing data:\n",
            "\n",
            "                  precision    recall  f1-score   support\n",
            "\n",
            "0: Non-anomalous      0.999     0.968     0.983    704347\n",
            "    1: Anomalous      0.010     0.294     0.019       761\n",
            "\n",
            "        accuracy                          0.967    705108\n",
            "       macro avg      0.504     0.631     0.501    705108\n",
            "    weighted avg      0.998     0.967     0.982    705108\n",
            "\n"
          ]
        }
      ]
    },
    {
      "cell_type": "code",
      "source": [
        "# Plot model confusion matrix\n",
        "plot_confusion_matrix(model=lr_0_model, test_df=test_df_preprocessed)"
      ],
      "metadata": {
        "id": "roeqHk9hgPkD",
        "colab": {
          "base_uri": "https://localhost:8080/",
          "height": 465
        },
        "outputId": "ae82ef0f-d84e-4ce7-e648-3f40f42a50e6"
      },
      "execution_count": 36,
      "outputs": [
        {
          "output_type": "display_data",
          "data": {
            "text/plain": [
              "<IPython.core.display.HTML object>"
            ],
            "text/html": [
              "\n",
              "    <style>\n",
              "      pre {\n",
              "          white-space: pre-wrap;\n",
              "      }\n",
              "    </style>\n",
              "    "
            ]
          },
          "metadata": {}
        },
        {
          "output_type": "display_data",
          "data": {
            "text/plain": [
              "<Figure size 1296x504 with 2 Axes>"
            ],
            "image/png": "[encoded data removed]"
          },
          "metadata": {
            "image/png": {
              "width": 643,
              "height": 448
            },
            "needs_background": "light"
          }
        }
      ]
    },
    {
      "cell_type": "markdown",
      "source": [
        "**Remarks:**\n",
        "- With a test set F1-score of only 0.019 and nearly 23k false positives, we're not doing too well on the testing data. It looks like we're overfitting to the training data since the F1-score is significantly better on the training data. We'll try to address that in the next model."
      ],
      "metadata": {
        "id": "MyeAqhWIIDZi"
      }
    },
    {
      "cell_type": "markdown",
      "source": [
        "<br>"
      ],
      "metadata": {
        "id": "jO5h1I9KKfAq"
      }
    },
    {
      "cell_type": "markdown",
      "source": [
        "# Model 1.1: **Logistic Regression** with Tuned Regularization\n",
        "\n",
        "For our first tuned `LogisticRegression` model, we'll try to address the overfitting by using regularization.\n",
        "\n",
        "The `elasticNetParam` hyperparameter specifies the ElasticNet mixing parameter - 0 = L2, while 1 = L1.<br>\n",
        "The `regParam` hyperparameter specifies the regularization strength."
      ],
      "metadata": {
        "id": "oxzsE3VmKUu7"
      }
    },
    {
      "cell_type": "code",
      "source": [
        "lr_1 = LogisticRegression(\n",
        "    featuresCol='scaled_features',\n",
        "    labelCol='Anomalous',\n",
        "    weightCol='Weight',\n",
        "    standardization=False)\n",
        "\n",
        "lr_1_stages = stages + [lr_1]\n",
        "\n",
        "# Specify parameter grid\n",
        "lr_1_grid = ParamGridBuilder()\\\n",
        "            .addGrid(lr_1.elasticNetParam, [0, 0.25, 0.5, 0.75, 1.0])\\\n",
        "            .addGrid(lr_1.regParam, [0.001, 0.005, 0.01])\\\n",
        "            .build()"
      ],
      "metadata": {
        "colab": {
          "base_uri": "https://localhost:8080/",
          "height": 17
        },
        "id": "iSF5zqvzC9tg",
        "outputId": "8c8b71e6-63b3-493f-acfa-637b82dd6c33"
      },
      "execution_count": 37,
      "outputs": [
        {
          "output_type": "display_data",
          "data": {
            "text/plain": [
              "<IPython.core.display.HTML object>"
            ],
            "text/html": [
              "\n",
              "    <style>\n",
              "      pre {\n",
              "          white-space: pre-wrap;\n",
              "      }\n",
              "    </style>\n",
              "    "
            ]
          },
          "metadata": {}
        }
      ]
    },
    {
      "cell_type": "code",
      "source": [
        "# Run grid search\n",
        "if not os.path.isdir(drive_path + 'lr_1_model'):\n",
        "    lr_1_model = grid_search(stages_with_classifier=lr_1_stages, \n",
        "                             train_df=train_df_preprocessed, \n",
        "                             model_grid=lr_1_grid, \n",
        "                             parallelism=10)"
      ],
      "metadata": {
        "colab": {
          "base_uri": "https://localhost:8080/",
          "height": 17
        },
        "id": "ZjdSkKdQo49c",
        "outputId": "26cd6b08-b94d-471b-bfc9-a3e1eb7e49b5"
      },
      "execution_count": 39,
      "outputs": [
        {
          "output_type": "display_data",
          "data": {
            "text/plain": [
              "<IPython.core.display.HTML object>"
            ],
            "text/html": [
              "\n",
              "    <style>\n",
              "      pre {\n",
              "          white-space: pre-wrap;\n",
              "      }\n",
              "    </style>\n",
              "    "
            ]
          },
          "metadata": {}
        }
      ]
    },
    {
      "cell_type": "code",
      "source": [
        "# Save model, or upload if already saved\n",
        "if not os.path.isdir(drive_path + 'lr_1_model'):\n",
        "    lr_1_model.save(drive_path + 'lr_1_model')\n",
        "else:\n",
        "    lr_1_model = TrainValidationSplitModel.load(drive_path + 'lr_1_model')\n",
        "    print(lr_1_grid[np.argmax(lr_1_model.validationMetrics)])"
      ],
      "metadata": {
        "colab": {
          "base_uri": "https://localhost:8080/",
          "height": 71
        },
        "id": "IMzLnOFyNViq",
        "outputId": "82ea0625-d33d-40e4-a2a7-5956683c243d"
      },
      "execution_count": 40,
      "outputs": [
        {
          "output_type": "display_data",
          "data": {
            "text/plain": [
              "<IPython.core.display.HTML object>"
            ],
            "text/html": [
              "\n",
              "    <style>\n",
              "      pre {\n",
              "          white-space: pre-wrap;\n",
              "      }\n",
              "    </style>\n",
              "    "
            ]
          },
          "metadata": {}
        },
        {
          "output_type": "stream",
          "name": "stdout",
          "text": [
            "{Param(parent='LogisticRegression_69c6c3e5661c', name='elasticNetParam', doc='the ElasticNet mixing parameter, in range [0, 1]. For alpha = 0, the penalty is an L2 penalty. For alpha = 1, it is an L1 penalty.'): 0.25, Param(parent='LogisticRegression_69c6c3e5661c', name='regParam', doc='regularization parameter (>= 0).'): 0.005}\n"
          ]
        }
      ]
    },
    {
      "cell_type": "code",
      "source": [
        "# Print model scores\n",
        "score_model(lr_1_model, train_df_preprocessed, test_df_preprocessed)"
      ],
      "metadata": {
        "colab": {
          "base_uri": "https://localhost:8080/",
          "height": 446
        },
        "id": "EI7bjv4O_AGK",
        "outputId": "d987c8a7-96f7-4df5-9ec3-c53caf6800a9"
      },
      "execution_count": 41,
      "outputs": [
        {
          "output_type": "display_data",
          "data": {
            "text/plain": [
              "<IPython.core.display.HTML object>"
            ],
            "text/html": [
              "\n",
              "    <style>\n",
              "      pre {\n",
              "          white-space: pre-wrap;\n",
              "      }\n",
              "    </style>\n",
              "    "
            ]
          },
          "metadata": {}
        },
        {
          "output_type": "stream",
          "name": "stdout",
          "text": [
            "Training data:\n",
            "\n",
            "                  precision    recall  f1-score   support\n",
            "\n",
            "0: Non-anomalous      0.999     1.000     1.000   4686825\n",
            "    1: Anomalous      1.000     0.186     0.314      4900\n",
            "\n",
            "        accuracy                          0.999   4691725\n",
            "       macro avg      1.000     0.593     0.657   4691725\n",
            "    weighted avg      0.999     0.999     0.999   4691725\n",
            "\n",
            "------------------------------------------------------------ \n",
            "\n",
            "Testing data:\n",
            "\n",
            "                  precision    recall  f1-score   support\n",
            "\n",
            "0: Non-anomalous      0.999     1.000     1.000    704347\n",
            "    1: Anomalous      1.000     0.152     0.265       761\n",
            "\n",
            "        accuracy                          0.999    705108\n",
            "       macro avg      1.000     0.576     0.632    705108\n",
            "    weighted avg      0.999     0.999     0.999    705108\n",
            "\n"
          ]
        }
      ]
    },
    {
      "cell_type": "code",
      "source": [
        "# Plot model confusion matrix\n",
        "plot_confusion_matrix(lr_1_model, test_df_preprocessed)"
      ],
      "metadata": {
        "colab": {
          "base_uri": "https://localhost:8080/",
          "height": 465
        },
        "id": "urtLcdfgNICm",
        "outputId": "91f773e4-af96-46b9-913e-bbf1defeea95"
      },
      "execution_count": 42,
      "outputs": [
        {
          "output_type": "display_data",
          "data": {
            "text/plain": [
              "<IPython.core.display.HTML object>"
            ],
            "text/html": [
              "\n",
              "    <style>\n",
              "      pre {\n",
              "          white-space: pre-wrap;\n",
              "      }\n",
              "    </style>\n",
              "    "
            ]
          },
          "metadata": {}
        },
        {
          "output_type": "display_data",
          "data": {
            "text/plain": [
              "<Figure size 1296x504 with 2 Axes>"
            ],
            "image/png": "[encoded data removed]"
          },
          "metadata": {
            "image/png": {
              "width": 643,
              "height": 448
            },
            "needs_background": "light"
          }
        }
      ]
    },
    {
      "cell_type": "markdown",
      "source": [
        "**Remarks:**\n",
        "- Applying regularization improved the model tremendously! We had nearly 23k false positives with the baseline model, and now we don't have a single one. Our test set recall decreased a bit, from 0.294 to 0.152, but for perfect precision I'll take that any day. Our test set F1-score is now 0.265."
      ],
      "metadata": {
        "id": "KLeCBfTcNIJJ"
      }
    },
    {
      "cell_type": "markdown",
      "source": [
        "<br>"
      ],
      "metadata": {
        "id": "rTGJBZkXfTy0"
      }
    },
    {
      "cell_type": "markdown",
      "source": [
        "# Model 1.2: **Logistic Regression** with Tuned Threshold and Max Iterations\n",
        "\n",
        "For our next tuned model, we'll attempt to optimize the logistic regression classification threshold and the maximum number of iterations. Since we didn't have a single false positive in the last model, we might be able to bring the threshold down and/or increase the iterations without incurring too much of a hit to the false positive rate, resulting in a higher overall F1-score."
      ],
      "metadata": {
        "id": "jdrJKz1BApRM"
      }
    },
    {
      "cell_type": "code",
      "source": [
        "lr_2 = LogisticRegression(\n",
        "    featuresCol='scaled_features',\n",
        "    labelCol='Anomalous',\n",
        "    weightCol='Weight',\n",
        "    standardization=False, \n",
        "    elasticNetParam=0.25, \n",
        "    regParam=0.005)\n",
        "\n",
        "lr_2_stages = stages + [lr_2]\n",
        "\n",
        "# Specify parameter grid\n",
        "lr_2_grid = ParamGridBuilder()\\\n",
        "            .addGrid(lr_2.threshold, [0.25, 0.325, 0.4])\\\n",
        "            .addGrid(lr_2.maxIter, [100, 150, 200])\\\n",
        "            .build()"
      ],
      "metadata": {
        "id": "i0_-CzaxgrbH",
        "colab": {
          "base_uri": "https://localhost:8080/",
          "height": 17
        },
        "outputId": "c74fcf7e-2053-42ae-87ce-50ca4d595376"
      },
      "execution_count": 43,
      "outputs": [
        {
          "output_type": "display_data",
          "data": {
            "text/plain": [
              "<IPython.core.display.HTML object>"
            ],
            "text/html": [
              "\n",
              "    <style>\n",
              "      pre {\n",
              "          white-space: pre-wrap;\n",
              "      }\n",
              "    </style>\n",
              "    "
            ]
          },
          "metadata": {}
        }
      ]
    },
    {
      "cell_type": "code",
      "source": [
        "# Run grid search using grid_search function\n",
        "if not os.path.isdir(drive_path + 'lr_2_model'):\n",
        "    lr_2_model = grid_search(stages_with_classifier=lr_2_stages, \n",
        "                             train_df=train_df_preprocessed, \n",
        "                             model_grid=lr_2_grid, \n",
        "                             parallelism=9)"
      ],
      "metadata": {
        "id": "SbiNDGEdg1AI",
        "colab": {
          "base_uri": "https://localhost:8080/",
          "height": 17
        },
        "outputId": "e6d83a26-ba54-4280-b472-6ecf25298f94"
      },
      "execution_count": 44,
      "outputs": [
        {
          "output_type": "display_data",
          "data": {
            "text/plain": [
              "<IPython.core.display.HTML object>"
            ],
            "text/html": [
              "\n",
              "    <style>\n",
              "      pre {\n",
              "          white-space: pre-wrap;\n",
              "      }\n",
              "    </style>\n",
              "    "
            ]
          },
          "metadata": {}
        }
      ]
    },
    {
      "cell_type": "code",
      "source": [
        "# Save model, or upload if already saved\n",
        "if not os.path.isdir(drive_path + 'lr_2_model'):\n",
        "    lr_2_model.save(drive_path + 'lr_2_model')\n",
        "else:\n",
        "    lr_2_model = TrainValidationSplitModel.load(drive_path + 'lr_2_model')\n",
        "    print(lr_2_grid[np.argmax(lr_2_model.validationMetrics)])"
      ],
      "metadata": {
        "colab": {
          "base_uri": "https://localhost:8080/",
          "height": 71
        },
        "id": "fRM_UiomDh4w",
        "outputId": "4baed11f-ca17-49b6-d8f0-b8f5e3a32da2"
      },
      "execution_count": 45,
      "outputs": [
        {
          "output_type": "display_data",
          "data": {
            "text/plain": [
              "<IPython.core.display.HTML object>"
            ],
            "text/html": [
              "\n",
              "    <style>\n",
              "      pre {\n",
              "          white-space: pre-wrap;\n",
              "      }\n",
              "    </style>\n",
              "    "
            ]
          },
          "metadata": {}
        },
        {
          "output_type": "stream",
          "name": "stdout",
          "text": [
            "{Param(parent='LogisticRegression_c37c11c040e8', name='threshold', doc='Threshold in binary classification prediction, in range [0, 1]. If threshold and thresholds are both set, they must match.e.g. if threshold is p, then thresholds must be equal to [1-p, p].'): 0.25, Param(parent='LogisticRegression_c37c11c040e8', name='maxIter', doc='max number of iterations (>= 0).'): 100}\n"
          ]
        }
      ]
    },
    {
      "cell_type": "code",
      "source": [
        "# Print model scores\n",
        "score_model(lr_2_model, train_df_preprocessed, test_df_preprocessed)"
      ],
      "metadata": {
        "id": "PHx550Oxg45U",
        "colab": {
          "base_uri": "https://localhost:8080/",
          "height": 446
        },
        "outputId": "5b2b4a80-3ea6-45cb-f80e-d8bbac999724"
      },
      "execution_count": 46,
      "outputs": [
        {
          "output_type": "display_data",
          "data": {
            "text/plain": [
              "<IPython.core.display.HTML object>"
            ],
            "text/html": [
              "\n",
              "    <style>\n",
              "      pre {\n",
              "          white-space: pre-wrap;\n",
              "      }\n",
              "    </style>\n",
              "    "
            ]
          },
          "metadata": {}
        },
        {
          "output_type": "stream",
          "name": "stdout",
          "text": [
            "Training data:\n",
            "\n",
            "                  precision    recall  f1-score   support\n",
            "\n",
            "0: Non-anomalous      0.999     1.000     1.000   4686825\n",
            "    1: Anomalous      1.000     0.186     0.314      4900\n",
            "\n",
            "        accuracy                          0.999   4691725\n",
            "       macro avg      1.000     0.593     0.657   4691725\n",
            "    weighted avg      0.999     0.999     0.999   4691725\n",
            "\n",
            "------------------------------------------------------------ \n",
            "\n",
            "Testing data:\n",
            "\n",
            "                  precision    recall  f1-score   support\n",
            "\n",
            "0: Non-anomalous      0.999     1.000     1.000    704347\n",
            "    1: Anomalous      1.000     0.152     0.265       761\n",
            "\n",
            "        accuracy                          0.999    705108\n",
            "       macro avg      1.000     0.576     0.632    705108\n",
            "    weighted avg      0.999     0.999     0.999    705108\n",
            "\n"
          ]
        }
      ]
    },
    {
      "cell_type": "code",
      "source": [
        "# Plot model confusion matrix\n",
        "plot_confusion_matrix(lr_2_model, test_df_preprocessed)"
      ],
      "metadata": {
        "id": "lip0jPY2g5l7",
        "colab": {
          "base_uri": "https://localhost:8080/",
          "height": 465
        },
        "outputId": "6a5c55e5-1393-4db8-b3fa-7106e33eef79"
      },
      "execution_count": 47,
      "outputs": [
        {
          "output_type": "display_data",
          "data": {
            "text/plain": [
              "<IPython.core.display.HTML object>"
            ],
            "text/html": [
              "\n",
              "    <style>\n",
              "      pre {\n",
              "          white-space: pre-wrap;\n",
              "      }\n",
              "    </style>\n",
              "    "
            ]
          },
          "metadata": {}
        },
        {
          "output_type": "display_data",
          "data": {
            "text/plain": [
              "<Figure size 1296x504 with 2 Axes>"
            ],
            "image/png": "[encoded data removed]"
          },
          "metadata": {
            "image/png": {
              "width": 643,
              "height": 448
            },
            "needs_background": "light"
          }
        }
      ]
    },
    {
      "cell_type": "markdown",
      "source": [
        "**Remarks:**\n",
        "- Even after reducing the threshold to 0.25, our results didn't budge an inch on the testing data. We're getting 100% precision with anomalous transactions but only 15.2% recall.\n",
        "- What is probably occurring, now that we're applying regularization, is that the model is looking at the `Flagged` feature and seeing that it is such a good predictor (perfect in fact), that it's \"reasoning\" that it can get a pretty good AUPRC score with just that feature and reducing the weights of the other features. Those 116 correctly classified anomalous features are likely the ones that are flagged. Let's move on to another model type."
      ],
      "metadata": {
        "id": "wOyJ8wYAC9cM"
      }
    },
    {
      "cell_type": "markdown",
      "source": [
        "<br>"
      ],
      "metadata": {
        "id": "9ebpoGY2-Xfk"
      }
    },
    {
      "cell_type": "markdown",
      "source": [
        "# Model 2.1: **Support Vector Classifier** with Adjusted Weights and Tuned Max Iterations\n",
        "\n",
        "For our first support vector classifier, we'll try tinkering with the weights assigned to the classes. We'll adjust the negative class weight to 0.1, meaning we reduce the \"importance\" of negative target class observations by a factor of 10.\n",
        "\n",
        "We'll also grid search over this newly weighted dataset with adjusted max iterations."
      ],
      "metadata": {
        "id": "HSRbXJd4HV67"
      }
    },
    {
      "cell_type": "code",
      "source": [
        "train_df_preprocessed = set_weight_col(train_df_preprocessed, label_col='Anomalous', neg_class_weight=0.1)\n",
        "\n",
        "# Preview Weight column\n",
        "cols_to_show = ['Anomalous', 'Weight']\n",
        "train_df_preprocessed.select(cols_to_show).where(train_df_preprocessed.Anomalous == 0).show(1, truncate=False, vertical=True)\n",
        "train_df_preprocessed.select(cols_to_show).where(train_df_preprocessed.Anomalous == 1).show(1, truncate=False, vertical=True)"
      ],
      "metadata": {
        "colab": {
          "base_uri": "https://localhost:8080/",
          "height": 196
        },
        "id": "42YhL7DE2xNM",
        "outputId": "139a8167-73a3-4a67-a7bf-15c7f4f91361"
      },
      "execution_count": 49,
      "outputs": [
        {
          "output_type": "display_data",
          "data": {
            "text/plain": [
              "<IPython.core.display.HTML object>"
            ],
            "text/html": [
              "\n",
              "    <style>\n",
              "      pre {\n",
              "          white-space: pre-wrap;\n",
              "      }\n",
              "    </style>\n",
              "    "
            ]
          },
          "metadata": {}
        },
        {
          "output_type": "stream",
          "name": "stdout",
          "text": [
            "-RECORD 0--------\n",
            " Anomalous | 0   \n",
            " Weight    | 0.1 \n",
            "only showing top 1 row\n",
            "\n",
            "-RECORD 0--------\n",
            " Anomalous | 1   \n",
            " Weight    | 1.0 \n",
            "only showing top 1 row\n",
            "\n"
          ]
        }
      ]
    },
    {
      "cell_type": "code",
      "source": [
        "svc_1 = LinearSVC(\n",
        "    featuresCol='scaled_features',\n",
        "    labelCol='Anomalous',\n",
        "    weightCol='Weight',\n",
        "    standardization=False)\n",
        "\n",
        "svc_1_stages = stages + [svc_1]\n",
        "\n",
        "# Specify parameter grid\n",
        "svc_1_grid = ParamGridBuilder()\\\n",
        "            .addGrid(svc_1.maxIter, [100, 150, 200])\\\n",
        "            .build()"
      ],
      "metadata": {
        "colab": {
          "base_uri": "https://localhost:8080/",
          "height": 17
        },
        "id": "ozsT9loKHWmj",
        "outputId": "8863e574-1a7e-48bd-f2e9-63aa35d558d9"
      },
      "execution_count": 58,
      "outputs": [
        {
          "output_type": "display_data",
          "data": {
            "text/plain": [
              "<IPython.core.display.HTML object>"
            ],
            "text/html": [
              "\n",
              "    <style>\n",
              "      pre {\n",
              "          white-space: pre-wrap;\n",
              "      }\n",
              "    </style>\n",
              "    "
            ]
          },
          "metadata": {}
        }
      ]
    },
    {
      "cell_type": "code",
      "source": [
        "# Run grid search using grid_search function\n",
        "%%time\n",
        "if not os.path.isdir(drive_path + 'svc_1_model'):\n",
        "    svc_1_model = grid_search(stages_with_classifier=svc_1_stages, \n",
        "                              train_df=train_df_preprocessed, \n",
        "                              model_grid=svc_1_grid, \n",
        "                              parallelism=3)"
      ],
      "metadata": {
        "colab": {
          "base_uri": "https://localhost:8080/",
          "height": 71
        },
        "id": "DwvtKpftHWxq",
        "outputId": "09fcf862-e3ee-4172-8a6c-b8223e620426"
      },
      "execution_count": 59,
      "outputs": [
        {
          "output_type": "display_data",
          "data": {
            "text/plain": [
              "<IPython.core.display.HTML object>"
            ],
            "text/html": [
              "\n",
              "    <style>\n",
              "      pre {\n",
              "          white-space: pre-wrap;\n",
              "      }\n",
              "    </style>\n",
              "    "
            ]
          },
          "metadata": {}
        },
        {
          "output_type": "stream",
          "name": "stdout",
          "text": [
            "{Param(parent='LinearSVC_4b93ba6b40a3', name='maxIter', doc='max number of iterations (>= 0).'): 100}\n",
            "CPU times: user 5.16 s, sys: 1.08 s, total: 6.25 s\n",
            "Wall time: 5min 53s\n"
          ]
        }
      ]
    },
    {
      "cell_type": "code",
      "source": [
        "# Save model, or upload if already saved\n",
        "if not os.path.isdir(drive_path + 'svc_1_model'):\n",
        "    svc_1_model.save(drive_path + 'svc_1_model')\n",
        "else:\n",
        "    svc_1_model = TrainValidationSplitModel.load(drive_path + 'svc_1_model')\n",
        "    print(svc_1_grid[np.argmax(svc_1_model.validationMetrics)])"
      ],
      "metadata": {
        "colab": {
          "base_uri": "https://localhost:8080/",
          "height": 17
        },
        "id": "E6D5I46NHW8e",
        "outputId": "50216eae-edbf-4ba8-d5c2-1945bc076a7b"
      },
      "execution_count": 62,
      "outputs": [
        {
          "output_type": "display_data",
          "data": {
            "text/plain": [
              "<IPython.core.display.HTML object>"
            ],
            "text/html": [
              "\n",
              "    <style>\n",
              "      pre {\n",
              "          white-space: pre-wrap;\n",
              "      }\n",
              "    </style>\n",
              "    "
            ]
          },
          "metadata": {}
        }
      ]
    },
    {
      "cell_type": "code",
      "source": [
        "# Print model scores\n",
        "score_model(svc_1_model, train_df_preprocessed, test_df_preprocessed)"
      ],
      "metadata": {
        "colab": {
          "base_uri": "https://localhost:8080/",
          "height": 446
        },
        "id": "LF19jLi_HXGW",
        "outputId": "e1caab47-0c09-4368-e9fd-650aac6e158b"
      },
      "execution_count": 60,
      "outputs": [
        {
          "output_type": "display_data",
          "data": {
            "text/plain": [
              "<IPython.core.display.HTML object>"
            ],
            "text/html": [
              "\n",
              "    <style>\n",
              "      pre {\n",
              "          white-space: pre-wrap;\n",
              "      }\n",
              "    </style>\n",
              "    "
            ]
          },
          "metadata": {}
        },
        {
          "output_type": "stream",
          "name": "stdout",
          "text": [
            "Training data:\n",
            "\n",
            "                  precision    recall  f1-score   support\n",
            "\n",
            "0: Non-anomalous      0.999     1.000     1.000   4686825\n",
            "    1: Anomalous      1.000     0.186     0.314      4900\n",
            "\n",
            "        accuracy                          0.999   4691725\n",
            "       macro avg      1.000     0.593     0.657   4691725\n",
            "    weighted avg      0.999     0.999     0.999   4691725\n",
            "\n",
            "------------------------------------------------------------ \n",
            "\n",
            "Testing data:\n",
            "\n",
            "                  precision    recall  f1-score   support\n",
            "\n",
            "0: Non-anomalous      0.999     1.000     1.000    704347\n",
            "    1: Anomalous      1.000     0.152     0.265       761\n",
            "\n",
            "        accuracy                          0.999    705108\n",
            "       macro avg      1.000     0.576     0.632    705108\n",
            "    weighted avg      0.999     0.999     0.999    705108\n",
            "\n"
          ]
        }
      ]
    },
    {
      "cell_type": "code",
      "source": [
        "# Plot model confusion matrix\n",
        "plot_confusion_matrix(svc_1_model, test_df_preprocessed)"
      ],
      "metadata": {
        "colab": {
          "base_uri": "https://localhost:8080/",
          "height": 465
        },
        "id": "wk4cmtfmHXP5",
        "outputId": "3b79e04b-122e-4863-b75f-011e9832c09f"
      },
      "execution_count": 61,
      "outputs": [
        {
          "output_type": "display_data",
          "data": {
            "text/plain": [
              "<IPython.core.display.HTML object>"
            ],
            "text/html": [
              "\n",
              "    <style>\n",
              "      pre {\n",
              "          white-space: pre-wrap;\n",
              "      }\n",
              "    </style>\n",
              "    "
            ]
          },
          "metadata": {}
        },
        {
          "output_type": "display_data",
          "data": {
            "text/plain": [
              "<Figure size 1296x504 with 2 Axes>"
            ],
            "image/png": "[encoded data removed]"
          },
          "metadata": {
            "image/png": {
              "width": 643,
              "height": 448
            },
            "needs_background": "light"
          }
        }
      ]
    },
    {
      "cell_type": "markdown",
      "source": [
        "**Remarks:**\n",
        "- It looks like the SVC model is doing the same thing the last logistic regression model is doing. Let's try adjusting the threshold down a bit to see if we can do a bit better on the recall score with anomalous transactions."
      ],
      "metadata": {
        "id": "zaIuyON1mQpv"
      }
    },
    {
      "cell_type": "markdown",
      "source": [
        "<br>"
      ],
      "metadata": {
        "id": "1wi2yOHvmSJm"
      }
    },
    {
      "cell_type": "markdown",
      "source": [
        "# Model 2.2: **Support Vector Classifier** with Tuned Threshold\n",
        "\n",
        "On the previous three models we've been getting perfect precision, but we're stuck at a mediocre 15.2% recall. We'll now return to the classification threshold hyperparameter to see if we can raise the recall score to achieve a better F1-score. We'll also raise the negative class weight a bit to 0.5."
      ],
      "metadata": {
        "id": "wfJJWmPZmWLZ"
      }
    },
    {
      "cell_type": "code",
      "source": [
        "train_df_preprocessed = set_weight_col(train_df_preprocessed, label_col='Anomalous', neg_class_weight=0.5)\n",
        "\n",
        "# Preview Weight column\n",
        "cols_to_show = ['Anomalous', 'Weight']\n",
        "train_df_preprocessed.select(cols_to_show).where(train_df_preprocessed.Anomalous == 0).show(1, truncate=False, vertical=True)\n",
        "train_df_preprocessed.select(cols_to_show).where(train_df_preprocessed.Anomalous == 1).show(1, truncate=False, vertical=True)"
      ],
      "metadata": {
        "colab": {
          "base_uri": "https://localhost:8080/",
          "height": 196
        },
        "id": "lOysUa8rcG5A",
        "outputId": "51f12e62-9863-4c83-cdad-66b5ab952ae8"
      },
      "execution_count": 83,
      "outputs": [
        {
          "output_type": "display_data",
          "data": {
            "text/plain": [
              "<IPython.core.display.HTML object>"
            ],
            "text/html": [
              "\n",
              "    <style>\n",
              "      pre {\n",
              "          white-space: pre-wrap;\n",
              "      }\n",
              "    </style>\n",
              "    "
            ]
          },
          "metadata": {}
        },
        {
          "output_type": "stream",
          "name": "stdout",
          "text": [
            "-RECORD 0--------\n",
            " Anomalous | 0   \n",
            " Weight    | 0.5 \n",
            "only showing top 1 row\n",
            "\n",
            "-RECORD 0--------\n",
            " Anomalous | 1   \n",
            " Weight    | 1.0 \n",
            "only showing top 1 row\n",
            "\n"
          ]
        }
      ]
    },
    {
      "cell_type": "code",
      "source": [
        "svc_2 = LinearSVC(\n",
        "    featuresCol='scaled_features',\n",
        "    labelCol='Anomalous',\n",
        "    weightCol='Weight',\n",
        "    standardization=False)\n",
        "\n",
        "svc_2_stages = stages + [svc_2]\n",
        "\n",
        "# Specify parameter grid\n",
        "svc_2_grid = ParamGridBuilder()\\\n",
        "            .addGrid(svc_2.threshold, [0.05, 0.1, 0.15, 0.2])\\\n",
        "            .build()"
      ],
      "metadata": {
        "colab": {
          "base_uri": "https://localhost:8080/",
          "height": 17
        },
        "id": "4xqmX1azsquc",
        "outputId": "3c66a2fe-ec5c-41f1-9947-eea286630ba3"
      },
      "execution_count": 87,
      "outputs": [
        {
          "output_type": "display_data",
          "data": {
            "text/plain": [
              "<IPython.core.display.HTML object>"
            ],
            "text/html": [
              "\n",
              "    <style>\n",
              "      pre {\n",
              "          white-space: pre-wrap;\n",
              "      }\n",
              "    </style>\n",
              "    "
            ]
          },
          "metadata": {}
        }
      ]
    },
    {
      "cell_type": "code",
      "source": [
        "# Run grid search using grid_search function\n",
        "%%time\n",
        "if not os.path.isdir(drive_path + 'svc_2_model'):\n",
        "    svc_2_model = grid_search(stages_with_classifier=svc_2_stages, \n",
        "                              train_df=train_df_preprocessed, \n",
        "                              model_grid=svc_2_grid, \n",
        "                              parallelism=4)"
      ],
      "metadata": {
        "colab": {
          "base_uri": "https://localhost:8080/",
          "height": 88
        },
        "id": "HgLgMAGjwJie",
        "outputId": "0a5a9f70-bcd3-4f55-9960-942c60b3c99f"
      },
      "execution_count": 88,
      "outputs": [
        {
          "output_type": "display_data",
          "data": {
            "text/plain": [
              "<IPython.core.display.HTML object>"
            ],
            "text/html": [
              "\n",
              "    <style>\n",
              "      pre {\n",
              "          white-space: pre-wrap;\n",
              "      }\n",
              "    </style>\n",
              "    "
            ]
          },
          "metadata": {}
        },
        {
          "output_type": "stream",
          "name": "stdout",
          "text": [
            "{Param(parent='LinearSVC_d8f95d9093be', name='threshold', doc='The threshold in binary classification applied to the linear model prediction.  This threshold can be any real number, where Inf will make all predictions 0.0 and -Inf will make all predictions 1.0.'): 0.05}\n",
            "CPU times: user 11.6 s, sys: 2.65 s, total: 14.3 s\n",
            "Wall time: 8min 50s\n"
          ]
        }
      ]
    },
    {
      "cell_type": "code",
      "source": [
        "# Save model, or upload if already saved\n",
        "if not os.path.isdir(drive_path + 'svc_2_model'):\n",
        "    svc_2_model.save(drive_path + 'svc_2_model')\n",
        "else:\n",
        "    svc_2_model = TrainValidationSplitModel.load(drive_path + 'svc_2_model')\n",
        "    print(svc_2_grid[np.argmax(svc_2_model.validationMetrics)])"
      ],
      "metadata": {
        "colab": {
          "base_uri": "https://localhost:8080/",
          "height": 17
        },
        "id": "kqgxy6_7wJ2W",
        "outputId": "0873b513-3d06-418a-9a3b-8bf50fe2a69a"
      },
      "execution_count": 89,
      "outputs": [
        {
          "output_type": "display_data",
          "data": {
            "text/plain": [
              "<IPython.core.display.HTML object>"
            ],
            "text/html": [
              "\n",
              "    <style>\n",
              "      pre {\n",
              "          white-space: pre-wrap;\n",
              "      }\n",
              "    </style>\n",
              "    "
            ]
          },
          "metadata": {}
        }
      ]
    },
    {
      "cell_type": "code",
      "source": [
        "# Print model scores\n",
        "score_model(svc_2_model, train_df_preprocessed, test_df_preprocessed)"
      ],
      "metadata": {
        "colab": {
          "base_uri": "https://localhost:8080/",
          "height": 446
        },
        "id": "gqeoGvSS9-yJ",
        "outputId": "34a3096b-6b25-49f5-b488-887df18cff28"
      },
      "execution_count": 90,
      "outputs": [
        {
          "output_type": "display_data",
          "data": {
            "text/plain": [
              "<IPython.core.display.HTML object>"
            ],
            "text/html": [
              "\n",
              "    <style>\n",
              "      pre {\n",
              "          white-space: pre-wrap;\n",
              "      }\n",
              "    </style>\n",
              "    "
            ]
          },
          "metadata": {}
        },
        {
          "output_type": "stream",
          "name": "stdout",
          "text": [
            "Training data:\n",
            "\n",
            "                  precision    recall  f1-score   support\n",
            "\n",
            "0: Non-anomalous      0.999     1.000     1.000   4686825\n",
            "    1: Anomalous      1.000     0.186     0.314      4900\n",
            "\n",
            "        accuracy                          0.999   4691725\n",
            "       macro avg      1.000     0.593     0.657   4691725\n",
            "    weighted avg      0.999     0.999     0.999   4691725\n",
            "\n",
            "------------------------------------------------------------ \n",
            "\n",
            "Testing data:\n",
            "\n",
            "                  precision    recall  f1-score   support\n",
            "\n",
            "0: Non-anomalous      0.999     1.000     1.000    704347\n",
            "    1: Anomalous      1.000     0.152     0.265       761\n",
            "\n",
            "        accuracy                          0.999    705108\n",
            "       macro avg      1.000     0.576     0.632    705108\n",
            "    weighted avg      0.999     0.999     0.999    705108\n",
            "\n"
          ]
        }
      ]
    },
    {
      "cell_type": "code",
      "source": [
        "# Plot model confusion matrix\n",
        "plot_confusion_matrix(svc_2_model, test_df_preprocessed)"
      ],
      "metadata": {
        "colab": {
          "base_uri": "https://localhost:8080/",
          "height": 465
        },
        "id": "V3whJJwA9_F_",
        "outputId": "ba904169-e7e9-48d5-9c06-11a298221bf1"
      },
      "execution_count": 91,
      "outputs": [
        {
          "output_type": "display_data",
          "data": {
            "text/plain": [
              "<IPython.core.display.HTML object>"
            ],
            "text/html": [
              "\n",
              "    <style>\n",
              "      pre {\n",
              "          white-space: pre-wrap;\n",
              "      }\n",
              "    </style>\n",
              "    "
            ]
          },
          "metadata": {}
        },
        {
          "output_type": "display_data",
          "data": {
            "text/plain": [
              "<Figure size 1296x504 with 2 Axes>"
            ],
            "image/png": "[encoded data removed]"
          },
          "metadata": {
            "image/png": {
              "width": 643,
              "height": 448
            },
            "needs_background": "light"
          }
        }
      ]
    },
    {
      "cell_type": "markdown",
      "source": [
        "**Remarks:**\n",
        "- We're still stuck with the same 0.265 F-1 score on the testing. This is proving difficult to beat. Let's move on to a new classifier."
      ],
      "metadata": {
        "id": "rmPk0LR-gsSx"
      }
    },
    {
      "cell_type": "markdown",
      "source": [
        "<br>"
      ],
      "metadata": {
        "id": "-pabdzMvA6Zz"
      }
    },
    {
      "cell_type": "markdown",
      "source": [
        "# Model 3.1: **Naive Bayes Classifier** with Adjusted Weights\n",
        "\n",
        "For our next model, we'll move on to a naive Bayes classifier. There are not too many hyperparameters to tune, so we'll only adjsut the model type between (multinomial and gaussian). We'll also try reducing the weight of the negative class even further, to 0.01."
      ],
      "metadata": {
        "id": "OXkOQSlRgR_i"
      }
    },
    {
      "cell_type": "code",
      "source": [
        "train_df_preprocessed = set_weight_col(train_df_preprocessed, label_col='Anomalous', neg_class_weight=0.01)\n",
        "\n",
        "# Preview Weight column\n",
        "cols_to_show = ['Anomalous', 'Weight']\n",
        "train_df_preprocessed.select(cols_to_show).where(train_df_preprocessed.Anomalous == 0).show(1, truncate=False, vertical=True)\n",
        "train_df_preprocessed.select(cols_to_show).where(train_df_preprocessed.Anomalous == 1).show(1, truncate=False, vertical=True)"
      ],
      "metadata": {
        "colab": {
          "base_uri": "https://localhost:8080/",
          "height": 196
        },
        "id": "rbz5P4zahpVG",
        "outputId": "bbbafc11-3bc4-4dd3-fc4e-4f95430b55ae"
      },
      "execution_count": 102,
      "outputs": [
        {
          "output_type": "display_data",
          "data": {
            "text/plain": [
              "<IPython.core.display.HTML object>"
            ],
            "text/html": [
              "\n",
              "    <style>\n",
              "      pre {\n",
              "          white-space: pre-wrap;\n",
              "      }\n",
              "    </style>\n",
              "    "
            ]
          },
          "metadata": {}
        },
        {
          "output_type": "stream",
          "name": "stdout",
          "text": [
            "-RECORD 0---------\n",
            " Anomalous | 0    \n",
            " Weight    | 0.01 \n",
            "only showing top 1 row\n",
            "\n",
            "-RECORD 0--------\n",
            " Anomalous | 1   \n",
            " Weight    | 1.0 \n",
            "only showing top 1 row\n",
            "\n"
          ]
        }
      ]
    },
    {
      "cell_type": "code",
      "source": [
        "nb_1 = NaiveBayes(\n",
        "    featuresCol='scaled_features',\n",
        "    labelCol='Anomalous',\n",
        "    weightCol='Weight')\n",
        "\n",
        "nb_1_stages = stages + [nb_1]\n",
        "\n",
        "# Specify parameter grid\n",
        "nb_1_grid = ParamGridBuilder()\\\n",
        "            .addGrid(nb_1.modelType, ['multinomial', 'gaussian'])\\\n",
        "            .build()"
      ],
      "metadata": {
        "colab": {
          "base_uri": "https://localhost:8080/",
          "height": 17
        },
        "id": "m2RRKsL8gSXB",
        "outputId": "89c5771c-629e-4a63-d3ce-6595bbfa18bb"
      },
      "execution_count": 107,
      "outputs": [
        {
          "output_type": "display_data",
          "data": {
            "text/plain": [
              "<IPython.core.display.HTML object>"
            ],
            "text/html": [
              "\n",
              "    <style>\n",
              "      pre {\n",
              "          white-space: pre-wrap;\n",
              "      }\n",
              "    </style>\n",
              "    "
            ]
          },
          "metadata": {}
        }
      ]
    },
    {
      "cell_type": "code",
      "source": [
        "# Run grid search using grid_search function\n",
        "%%time\n",
        "if not os.path.isdir(drive_path + 'nb_1_model'):\n",
        "    nb_1_model = grid_search(stages_with_classifier=nb_1_stages, \n",
        "                             train_df=train_df_preprocessed, \n",
        "                             model_grid=nb_1_grid, \n",
        "                             parallelism=2)"
      ],
      "metadata": {
        "colab": {
          "base_uri": "https://localhost:8080/",
          "height": 88
        },
        "id": "cFpnlcWGgSp8",
        "outputId": "3488609b-782f-4369-91dd-4cf0502afe55"
      },
      "execution_count": 109,
      "outputs": [
        {
          "output_type": "display_data",
          "data": {
            "text/plain": [
              "<IPython.core.display.HTML object>"
            ],
            "text/html": [
              "\n",
              "    <style>\n",
              "      pre {\n",
              "          white-space: pre-wrap;\n",
              "      }\n",
              "    </style>\n",
              "    "
            ]
          },
          "metadata": {}
        },
        {
          "output_type": "stream",
          "name": "stdout",
          "text": [
            "{Param(parent='NaiveBayes_6b42fe0e08b2', name='modelType', doc='The model type which is a string (case-sensitive). Supported options: multinomial (default), bernoulli and gaussian.'): 'gaussian'}\n",
            "CPU times: user 797 ms, sys: 116 ms, total: 913 ms\n",
            "Wall time: 46.5 s\n"
          ]
        }
      ]
    },
    {
      "cell_type": "code",
      "source": [
        "# Save model, or upload if already saved\n",
        "if not os.path.isdir(drive_path + 'nb_1_model'):\n",
        "    nb_1_model.save(drive_path + 'nb_1_model')\n",
        "else:\n",
        "    nb_1_model = PipelineModel.load(drive_path + 'nb_1_model')"
      ],
      "metadata": {
        "colab": {
          "base_uri": "https://localhost:8080/",
          "height": 17
        },
        "id": "40TAV6LKgS7Q",
        "outputId": "3cfd559f-a7ad-4f26-efdb-f52438997a37"
      },
      "execution_count": 112,
      "outputs": [
        {
          "output_type": "display_data",
          "data": {
            "text/plain": [
              "<IPython.core.display.HTML object>"
            ],
            "text/html": [
              "\n",
              "    <style>\n",
              "      pre {\n",
              "          white-space: pre-wrap;\n",
              "      }\n",
              "    </style>\n",
              "    "
            ]
          },
          "metadata": {}
        }
      ]
    },
    {
      "cell_type": "code",
      "source": [
        "# Print model scores\n",
        "score_model(nb_1_model, train_df_preprocessed, test_df_preprocessed)"
      ],
      "metadata": {
        "colab": {
          "base_uri": "https://localhost:8080/",
          "height": 446
        },
        "id": "rDLE1trOiUAp",
        "outputId": "b201178e-6d08-4a8f-fc5c-4db68548cc0a"
      },
      "execution_count": 110,
      "outputs": [
        {
          "output_type": "display_data",
          "data": {
            "text/plain": [
              "<IPython.core.display.HTML object>"
            ],
            "text/html": [
              "\n",
              "    <style>\n",
              "      pre {\n",
              "          white-space: pre-wrap;\n",
              "      }\n",
              "    </style>\n",
              "    "
            ]
          },
          "metadata": {}
        },
        {
          "output_type": "stream",
          "name": "stdout",
          "text": [
            "Training data:\n",
            "\n",
            "                  precision    recall  f1-score   support\n",
            "\n",
            "0: Non-anomalous      0.999     0.986     0.993   4686825\n",
            "    1: Anomalous      0.016     0.222     0.031      4900\n",
            "\n",
            "        accuracy                          0.985   4691725\n",
            "       macro avg      0.508     0.604     0.512   4691725\n",
            "    weighted avg      0.998     0.985     0.992   4691725\n",
            "\n",
            "------------------------------------------------------------ \n",
            "\n",
            "Testing data:\n",
            "\n",
            "                  precision    recall  f1-score   support\n",
            "\n",
            "0: Non-anomalous      0.999     0.986     0.993    704347\n",
            "    1: Anomalous      0.014     0.180     0.026       761\n",
            "\n",
            "        accuracy                          0.985    705108\n",
            "       macro avg      0.506     0.583     0.509    705108\n",
            "    weighted avg      0.998     0.985     0.992    705108\n",
            "\n"
          ]
        }
      ]
    },
    {
      "cell_type": "code",
      "source": [
        "# Plot model confusion matrix\n",
        "plot_confusion_matrix(nb_1_model, test_df_preprocessed)"
      ],
      "metadata": {
        "colab": {
          "base_uri": "https://localhost:8080/",
          "height": 465
        },
        "id": "AEJZDX8jigZr",
        "outputId": "f6dd5595-998c-4334-9a7d-70141aeaacc2"
      },
      "execution_count": 111,
      "outputs": [
        {
          "output_type": "display_data",
          "data": {
            "text/plain": [
              "<IPython.core.display.HTML object>"
            ],
            "text/html": [
              "\n",
              "    <style>\n",
              "      pre {\n",
              "          white-space: pre-wrap;\n",
              "      }\n",
              "    </style>\n",
              "    "
            ]
          },
          "metadata": {}
        },
        {
          "output_type": "display_data",
          "data": {
            "text/plain": [
              "<Figure size 1296x504 with 2 Axes>"
            ],
            "image/png": "[encoded data removed]"
          },
          "metadata": {
            "image/png": {
              "width": 643,
              "height": 448
            },
            "needs_background": "light"
          }
        }
      ]
    },
    {
      "cell_type": "markdown",
      "source": [
        "**Remarks:**\n",
        "- Well the F1-score dropped quite a bit, likely from reducing the class weights of the negatie class as much as we did. But it sure is nice to see something new for a change. We didn't get much improvement in recall for all those false positives though, improving from .152 to 0.180. Let's move on to a decision tree classifier."
      ],
      "metadata": {
        "id": "PQh8pBF2iioi"
      }
    },
    {
      "cell_type": "markdown",
      "source": [
        "<br>"
      ],
      "metadata": {
        "id": "fp36GqREilG7"
      }
    },
    {
      "cell_type": "markdown",
      "source": [
        "# Model 4.1: **Decision Tree Classifier** with Tuned Max Depth"
      ],
      "metadata": {
        "id": "fOBoQxaXmlxG"
      }
    },
    {
      "cell_type": "code",
      "source": [
        "train_df_preprocessed = set_weight_col(train_df_preprocessed, label_col='Anomalous', neg_class_weight=0.1)\n",
        "\n",
        "# Preview Weight column\n",
        "cols_to_show = ['Anomalous', 'Weight']\n",
        "train_df_preprocessed.select(cols_to_show).where(train_df_preprocessed.Anomalous == 0).show(1, truncate=False, vertical=True)\n",
        "train_df_preprocessed.select(cols_to_show).where(train_df_preprocessed.Anomalous == 1).show(1, truncate=False, vertical=True)"
      ],
      "metadata": {
        "colab": {
          "base_uri": "https://localhost:8080/",
          "height": 196
        },
        "id": "Ye2J1gOOm6gM",
        "outputId": "0c0de3ee-ad1b-45ad-cded-baa085e7e31d"
      },
      "execution_count": 113,
      "outputs": [
        {
          "output_type": "display_data",
          "data": {
            "text/plain": [
              "<IPython.core.display.HTML object>"
            ],
            "text/html": [
              "\n",
              "    <style>\n",
              "      pre {\n",
              "          white-space: pre-wrap;\n",
              "      }\n",
              "    </style>\n",
              "    "
            ]
          },
          "metadata": {}
        },
        {
          "output_type": "stream",
          "name": "stdout",
          "text": [
            "-RECORD 0--------\n",
            " Anomalous | 0   \n",
            " Weight    | 0.1 \n",
            "only showing top 1 row\n",
            "\n",
            "-RECORD 0--------\n",
            " Anomalous | 1   \n",
            " Weight    | 1.0 \n",
            "only showing top 1 row\n",
            "\n"
          ]
        }
      ]
    },
    {
      "cell_type": "code",
      "source": [
        ""
      ],
      "metadata": {
        "id": "rfTJBVqQm_5d"
      },
      "execution_count": null,
      "outputs": []
    }
  ]
}