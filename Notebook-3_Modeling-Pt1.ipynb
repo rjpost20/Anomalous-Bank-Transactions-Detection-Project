{
  "nbformat": 4,
  "nbformat_minor": 0,
  "metadata": {
    "colab": {
      "name": "Notebook-3_Modeling-Pt1",
      "provenance": [],
      "collapsed_sections": [],
      "machine_shape": "hm",
      "background_execution": "on",
      "authorship_tag": "ABX9TyMh4vU1doxf1K7a4RRIsVXv"
    },
    "kernelspec": {
      "name": "python3",
      "display_name": "Python 3"
    },
    "language_info": {
      "name": "python"
    },
    "gpuClass": "standard"
  },
  "cells": [
    {
      "cell_type": "markdown",
      "source": [
        "<img src=\"https://github.com/rjpost20/Anomalous-Bank-Transactions-Detection-Project/blob/main/data/AdobeStock_319163865.jpeg?raw=true\">\n",
        "Image by <a href=\"https://stock.adobe.com/contributor/200768506/andsus?load_type=author&prev_url=detail\" >AndSus</a> on Adobe Stock"
      ],
      "metadata": {
        "id": "_6bs9GYKTazR"
      }
    },
    {
      "cell_type": "markdown",
      "source": [
        "# Phase 5 Project: *Detecting Anomalous Financial Transactions*"
      ],
      "metadata": {
        "id": "7VB6bZymTwee"
      }
    },
    {
      "cell_type": "markdown",
      "source": [
        "## Notebook 3: Modeling, Analysis and Results"
      ],
      "metadata": {
        "id": "nCbcIwMIT8L2"
      }
    },
    {
      "cell_type": "markdown",
      "source": [
        "### By Ryan Posternak"
      ],
      "metadata": {
        "id": "xIF5Rp36UDq8"
      }
    },
    {
      "cell_type": "markdown",
      "source": [
        "Flatiron School, Full-Time Live NYC<br>\n",
        "Project Presentation Date: August 25th, 2022<br>\n",
        "Instructor: Joseph Mata"
      ],
      "metadata": {
        "id": "02ym0eygUI_s"
      }
    },
    {
      "cell_type": "markdown",
      "source": [
        "<br>"
      ],
      "metadata": {
        "id": "tITdkCs8UbQf"
      }
    },
    {
      "cell_type": "markdown",
      "source": [
        "# Imports and Reading in Data"
      ],
      "metadata": {
        "id": "YVvo7KHTUQbw"
      }
    },
    {
      "cell_type": "markdown",
      "source": [
        "### Google colab compatibility downloads"
      ],
      "metadata": {
        "id": "xsGuZAD3URpn"
      }
    },
    {
      "cell_type": "code",
      "source": [
        "!sudo apt update\n",
        "!apt-get install openjdk-8-jdk-headless -qq > /dev/null\n",
        "!wget -q https://dlcdn.apache.org/spark/spark-3.3.0/spark-3.3.0-bin-hadoop3.tgz \n",
        "!tar xf spark-3.3.0-bin-hadoop3.tgz\n",
        "import os\n",
        "os.environ[\"JAVA_HOME\"] = \"/usr/lib/jvm/java-8-openjdk-amd64\"\n",
        "os.environ[\"SPARK_HOME\"] = \"/content/spark-3.3.0-bin-hadoop3\"\n",
        "!pip install pyspark==3.3.0\n",
        "!pip install -q findspark\n",
        "import findspark\n",
        "findspark.init()"
      ],
      "metadata": {
        "colab": {
          "base_uri": "https://localhost:8080/"
        },
        "id": "5vbzjcsbUSJ1",
        "outputId": "4d4fefa4-8c51-443e-8076-5ad0670246a8"
      },
      "execution_count": 1,
      "outputs": [
        {
          "output_type": "stream",
          "name": "stdout",
          "text": [
            "\u001b[33m\r0% [Working]\u001b[0m\r            \rGet:1 http://security.ubuntu.com/ubuntu bionic-security InRelease [88.7 kB]\n",
            "\u001b[33m\r0% [Waiting for headers] [1 InRelease 0 B/88.7 kB 0%] [Connected to cloud.r-pro\u001b[0m\r                                                                               \rHit:2 http://archive.ubuntu.com/ubuntu bionic InRelease\n",
            "\u001b[33m\r0% [1 InRelease 88.7 kB/88.7 kB 100%] [Connected to cloud.r-project.org (18.67.\u001b[0m\r                                                                               \rGet:3 http://archive.ubuntu.com/ubuntu bionic-updates InRelease [88.7 kB]\n",
            "\r                                                                               \rGet:4 https://cloud.r-project.org/bin/linux/ubuntu bionic-cran40/ InRelease [3,626 B]\n",
            "\u001b[33m\r0% [3 InRelease 88.7 kB/88.7 kB 100%] [Waiting for headers] [Waiting for header\u001b[0m\u001b[33m\r0% [2 InRelease gpgv 242 kB] [Waiting for headers] [Waiting for headers] [Waiti\u001b[0m\r                                                                               \rGet:5 http://archive.ubuntu.com/ubuntu bionic-backports InRelease [74.6 kB]\n",
            "\u001b[33m\r0% [2 InRelease gpgv 242 kB] [5 InRelease 8,396 B/74.6 kB 11%] [Waiting for hea\u001b[0m\u001b[33m\r                                                                               \r0% [2 InRelease gpgv 242 kB] [Waiting for headers] [Waiting for headers]\u001b[0m\r                                                                        \rGet:6 http://ppa.launchpad.net/c2d4u.team/c2d4u4.0+/ubuntu bionic InRelease [15.9 kB]\n",
            "\u001b[33m\r0% [2 InRelease gpgv 242 kB] [Waiting for headers] [6 InRelease 14.2 kB/15.9 kB\u001b[0m\r                                                                               \rIgn:7 https://developer.download.nvidia.com/compute/machine-learning/repos/ubuntu1804/x86_64  InRelease\n",
            "\u001b[33m\r                                                                               \r0% [2 InRelease gpgv 242 kB] [6 InRelease 14.2 kB/15.9 kB 89%]\u001b[0m\u001b[33m\r0% [2 InRelease gpgv 242 kB] [Waiting for headers] [Connecting to ppa.launchpad\u001b[0m\r                                                                               \rGet:8 https://developer.download.nvidia.com/compute/cuda/repos/ubuntu1804/x86_64  InRelease [1,581 B]\n",
            "Hit:9 https://developer.download.nvidia.com/compute/machine-learning/repos/ubuntu1804/x86_64  Release\n",
            "Hit:10 http://ppa.launchpad.net/cran/libgit2/ubuntu bionic InRelease\n",
            "Get:11 http://security.ubuntu.com/ubuntu bionic-security/universe amd64 Packages [1,533 kB]\n",
            "Get:12 http://security.ubuntu.com/ubuntu bionic-security/main amd64 Packages [2,937 kB]\n",
            "Hit:13 http://ppa.launchpad.net/deadsnakes/ppa/ubuntu bionic InRelease\n",
            "Get:14 http://archive.ubuntu.com/ubuntu bionic-updates/main amd64 Packages [3,369 kB]\n",
            "Hit:15 http://ppa.launchpad.net/graphics-drivers/ppa/ubuntu bionic InRelease\n",
            "Get:16 http://archive.ubuntu.com/ubuntu bionic-updates/universe amd64 Packages [2,311 kB]\n",
            "Get:17 https://developer.download.nvidia.com/compute/cuda/repos/ubuntu1804/x86_64  Packages [910 kB]\n",
            "Get:18 http://ppa.launchpad.net/c2d4u.team/c2d4u4.0+/ubuntu bionic/main Sources [2,095 kB]\n",
            "Get:20 http://ppa.launchpad.net/c2d4u.team/c2d4u4.0+/ubuntu bionic/main amd64 Packages [1,073 kB]\n",
            "Fetched 14.5 MB in 2s (6,388 kB/s)\n",
            "Reading package lists... Done\n",
            "Building dependency tree       \n",
            "Reading state information... Done\n",
            "25 packages can be upgraded. Run 'apt list --upgradable' to see them.\n",
            "Looking in indexes: https://pypi.org/simple, https://us-python.pkg.dev/colab-wheels/public/simple/\n",
            "Collecting pyspark==3.3.0\n",
            "  Downloading pyspark-3.3.0.tar.gz (281.3 MB)\n",
            "\u001b[K     |████████████████████████████████| 281.3 MB 30 kB/s \n",
            "\u001b[?25hCollecting py4j==0.10.9.5\n",
            "  Downloading py4j-0.10.9.5-py2.py3-none-any.whl (199 kB)\n",
            "\u001b[K     |████████████████████████████████| 199 kB 65.9 MB/s \n",
            "\u001b[?25hBuilding wheels for collected packages: pyspark\n",
            "  Building wheel for pyspark (setup.py) ... \u001b[?25l\u001b[?25hdone\n",
            "  Created wheel for pyspark: filename=pyspark-3.3.0-py2.py3-none-any.whl size=281764026 sha256=9c211df4f16b1764d6b5a5d03271c2d8b10216160956fee5aae53922c6170b8d\n",
            "  Stored in directory: /root/.cache/pip/wheels/7a/8e/1b/f73a52650d2e5f337708d9f6a1750d451a7349a867f928b885\n",
            "Successfully built pyspark\n",
            "Installing collected packages: py4j, pyspark\n",
            "Successfully installed py4j-0.10.9.5 pyspark-3.3.0\n"
          ]
        }
      ]
    },
    {
      "cell_type": "code",
      "source": [
        "# Connect to Google drive\n",
        "from google.colab import drive, files\n",
        "drive.mount('/content/drive')\n",
        "drive_path = '/content/drive/MyDrive/Colab Notebooks/'"
      ],
      "metadata": {
        "id": "ZL5VI-6OUSmC",
        "colab": {
          "base_uri": "https://localhost:8080/"
        },
        "outputId": "74c2e931-3d79-4c0c-a7a5-1518a9c06455"
      },
      "execution_count": 2,
      "outputs": [
        {
          "output_type": "stream",
          "name": "stdout",
          "text": [
            "Mounted at /content/drive\n"
          ]
        }
      ]
    },
    {
      "cell_type": "code",
      "source": [
        "import numpy as np\n",
        "\n",
        "from pyspark.sql import SparkSession\n",
        "import pyspark.sql.functions as F\n",
        "\n",
        "from pyspark.ml.feature import VectorAssembler, StandardScaler\n",
        "from pyspark.ml import Pipeline, PipelineModel\n",
        "from pyspark.ml.classification import LogisticRegression, LinearSVC, NaiveBayes, \\\n",
        "DecisionTreeClassifier, GBTClassifier, RandomForestClassifier, MultilayerPerceptronClassifier\n",
        "from pyspark.ml.evaluation import BinaryClassificationEvaluator\n",
        "from pyspark.ml.tuning import ParamGridBuilder, TrainValidationSplit, TrainValidationSplitModel\n",
        "\n",
        "from sklearn.metrics import classification_report, confusion_matrix, ConfusionMatrixDisplay\n",
        "\n",
        "import matplotlib.pyplot as plt\n",
        "from IPython.display import HTML, display\n",
        "%matplotlib inline\n",
        "%config InlineBackend.figure_format='retina'"
      ],
      "metadata": {
        "id": "rKWlJ4EbUTF0"
      },
      "execution_count": 3,
      "outputs": []
    },
    {
      "cell_type": "code",
      "execution_count": 4,
      "metadata": {
        "id": "vc_V7XVRDx1U",
        "colab": {
          "resources": {
            "http://localhost:8080/nbextensions/google.colab/files.js": {
              "data": "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",
              "ok": true,
              "headers": [
                [
                  "content-type",
                  "application/javascript"
                ]
              ],
              "status": 200,
              "status_text": ""
            }
          },
          "base_uri": "https://localhost:8080/",
          "height": 74
        },
        "outputId": "ecac15c7-113d-4715-c7b7-b4917c33f874"
      },
      "outputs": [
        {
          "output_type": "display_data",
          "data": {
            "text/plain": [
              "<IPython.core.display.HTML object>"
            ],
            "text/html": [
              "\n",
              "     <input type=\"file\" id=\"files-f2adb034-16f8-41f5-9ce0-c0cdd7b8542c\" name=\"files[]\" multiple disabled\n",
              "        style=\"border:none\" />\n",
              "     <output id=\"result-f2adb034-16f8-41f5-9ce0-c0cdd7b8542c\">\n",
              "      Upload widget is only available when the cell has been executed in the\n",
              "      current browser session. Please rerun this cell to enable.\n",
              "      </output>\n",
              "      <script src=\"/nbextensions/google.colab/files.js\"></script> "
            ]
          },
          "metadata": {}
        },
        {
          "output_type": "stream",
          "name": "stdout",
          "text": [
            "Saving helper_functions.py to helper_functions.py\n"
          ]
        }
      ],
      "source": [
        "# Import helper functions\n",
        "helper_functions = files.upload()\n",
        "from helper_functions import set_weight_col"
      ]
    },
    {
      "cell_type": "code",
      "source": [
        "# Check Colab GPU info\n",
        "gpu_info = !nvidia-smi\n",
        "gpu_info = '\\n'.join(gpu_info)\n",
        "if gpu_info.find('failed') >= 0:\n",
        "    print('Not connected to a GPU')\n",
        "else:\n",
        "    print(gpu_info)"
      ],
      "metadata": {
        "id": "meNh4v-1VAPw",
        "colab": {
          "base_uri": "https://localhost:8080/"
        },
        "outputId": "69333db2-f48f-43f8-83a2-f42d8c48c32a"
      },
      "execution_count": 5,
      "outputs": [
        {
          "output_type": "stream",
          "name": "stdout",
          "text": [
            "Not connected to a GPU\n"
          ]
        }
      ]
    },
    {
      "cell_type": "code",
      "source": [
        "# Check Colab RAM info\n",
        "from psutil import virtual_memory\n",
        "ram_gb = virtual_memory().total / 1e9\n",
        "print('Your runtime has {:.1f} gigabytes of available RAM\\n'.format(ram_gb))\n",
        "\n",
        "if ram_gb < 20:\n",
        "  print('Not using a high-RAM runtime')\n",
        "else:\n",
        "  print('You are using a high-RAM runtime!')"
      ],
      "metadata": {
        "id": "PE0CcaaTrsP9",
        "colab": {
          "base_uri": "https://localhost:8080/"
        },
        "outputId": "9e6d2d61-566a-4ad6-a12f-1b5578c566e9"
      },
      "execution_count": 6,
      "outputs": [
        {
          "output_type": "stream",
          "name": "stdout",
          "text": [
            "Your runtime has 54.8 gigabytes of available RAM\n",
            "\n",
            "You are using a high-RAM runtime!\n"
          ]
        }
      ]
    },
    {
      "cell_type": "code",
      "source": [
        "# Set text to wrap in Google colab notebook\n",
        "def set_css():\n",
        "    display(HTML(\"\"\"\n",
        "    <style>\n",
        "      pre {\n",
        "          white-space: pre-wrap;\n",
        "      }\n",
        "    </style>\n",
        "    \"\"\"))\n",
        "get_ipython().events.register('pre_run_cell', set_css)"
      ],
      "metadata": {
        "id": "7Q03mQqlVAa-"
      },
      "execution_count": 7,
      "outputs": []
    },
    {
      "cell_type": "code",
      "source": [
        "# Initialize Spark Session\n",
        "spark = SparkSession.builder\\\n",
        "        .master(\"local[*]\")\\\n",
        "        .appName(\"Colab\")\\\n",
        "        .config(\"spark.ui.port\", \"4050\")\\\n",
        "        .config(\"spark.driver.memory\", \"15g\")\\\n",
        "        .getOrCreate()\n",
        "\n",
        "spark"
      ],
      "metadata": {
        "id": "NLJkXpZlVAi5",
        "colab": {
          "base_uri": "https://localhost:8080/",
          "height": 221
        },
        "outputId": "dacaac78-6f7f-4ff9-afbc-ba39de63cbd8"
      },
      "execution_count": 8,
      "outputs": [
        {
          "output_type": "display_data",
          "data": {
            "text/plain": [
              "<IPython.core.display.HTML object>"
            ],
            "text/html": [
              "\n",
              "    <style>\n",
              "      pre {\n",
              "          white-space: pre-wrap;\n",
              "      }\n",
              "    </style>\n",
              "    "
            ]
          },
          "metadata": {}
        },
        {
          "output_type": "execute_result",
          "data": {
            "text/plain": [
              "<pyspark.sql.session.SparkSession at 0x7f128f132090>"
            ],
            "text/html": [
              "\n",
              "            <div>\n",
              "                <p><b>SparkSession - in-memory</b></p>\n",
              "                \n",
              "        <div>\n",
              "            <p><b>SparkContext</b></p>\n",
              "\n",
              "            <p><a href=\"http://caadfa45e89f:4050\">Spark UI</a></p>\n",
              "\n",
              "            <dl>\n",
              "              <dt>Version</dt>\n",
              "                <dd><code>v3.3.0</code></dd>\n",
              "              <dt>Master</dt>\n",
              "                <dd><code>local[*]</code></dd>\n",
              "              <dt>AppName</dt>\n",
              "                <dd><code>Colab</code></dd>\n",
              "            </dl>\n",
              "        </div>\n",
              "        \n",
              "            </div>\n",
              "        "
            ]
          },
          "metadata": {},
          "execution_count": 8
        }
      ]
    },
    {
      "cell_type": "markdown",
      "metadata": {
        "id": "b25f65a8-1444-468f-a5ee-9611e4d794ef"
      },
      "source": [
        "## Read in Data"
      ]
    },
    {
      "cell_type": "code",
      "source": [
        "# Read in weighted_df and resampled_df (training data) and test_df_numeric (testing data) data csv files as Spark DataFrames\n",
        "train_df_numeric = spark.read.csv(drive_path + 'train_df_numeric.csv', header=True, inferSchema=True)\n",
        "test_df_numeric = spark.read.csv(drive_path + 'test_df_numeric.csv', header=True, inferSchema=True)"
      ],
      "metadata": {
        "id": "2XuhVucTVAqb",
        "colab": {
          "base_uri": "https://localhost:8080/",
          "height": 17
        },
        "outputId": "24f1377a-c04b-4102-dd58-c3b21b45a345"
      },
      "execution_count": 9,
      "outputs": [
        {
          "output_type": "display_data",
          "data": {
            "text/plain": [
              "<IPython.core.display.HTML object>"
            ],
            "text/html": [
              "\n",
              "    <style>\n",
              "      pre {\n",
              "          white-space: pre-wrap;\n",
              "      }\n",
              "    </style>\n",
              "    "
            ]
          },
          "metadata": {}
        }
      ]
    },
    {
      "cell_type": "markdown",
      "source": [
        "<br>"
      ],
      "metadata": {
        "id": "Z9ozj765PqrM"
      }
    },
    {
      "cell_type": "markdown",
      "source": [
        "## Add `Weight` column to dataframe\n",
        "\n",
        "As we've seen, the training dataset is extremely imbalanced in regards to target class distribution. In order to improve modeling performance, we'll add a new column `Weight` to `train_df_numeric` specifying the weights to use, which we pass in to PySpark models in the `weightCol` parameter. We'll create the new `Weight` column using the `set_weight_col` function in `helper_functions`.\n",
        "\n",
        "Our initial `Weight` column will specify equal weights across all observations, which is the default in PySpark."
      ],
      "metadata": {
        "id": "09uu3jqXN0D3"
      }
    },
    {
      "cell_type": "code",
      "source": [
        "print(set_weight_col.__doc__)"
      ],
      "metadata": {
        "colab": {
          "base_uri": "https://localhost:8080/",
          "height": 374
        },
        "id": "3uBAlM6OQgyg",
        "outputId": "36f0be2a-c20e-4fc9-e2fd-ad1a4190f61c"
      },
      "execution_count": 10,
      "outputs": [
        {
          "output_type": "display_data",
          "data": {
            "text/plain": [
              "<IPython.core.display.HTML object>"
            ],
            "text/html": [
              "\n",
              "    <style>\n",
              "      pre {\n",
              "          white-space: pre-wrap;\n",
              "      }\n",
              "    </style>\n",
              "    "
            ]
          },
          "metadata": {}
        },
        {
          "output_type": "stream",
          "name": "stdout",
          "text": [
            "\n",
            "    Calculates and creates a column of class weights \n",
            "    in a PySpark dataframe with an imbalanced binary \n",
            "    target class distribution.\n",
            "\n",
            "    Parameters\n",
            "    ----------\n",
            "    df : Spark `DataFrame`\n",
            "        The Spark `DataFrame` to assign the \n",
            "        `ClassWeight` column to\n",
            "    label_col : Spark `Column`\n",
            "        Label column name\n",
            "    neg_class_weight : '`float` or 'balanced'\n",
            "        New class weight to assign to negative class \n",
            "        (`0`) in weight column. If 'balanced', assigned \n",
            "        class weights will be equal to 1 - proportion of \n",
            "        class in dataframe. If `float`, negative class \n",
            "        will be assigned `neg_class_weight` and positive \n",
            "        class weights remain at 1.0.\n",
            "    \n"
          ]
        }
      ]
    },
    {
      "cell_type": "code",
      "source": [
        "train_df_numeric = set_weight_col(train_df_numeric, label_col='Label', neg_class_weight=1.0)"
      ],
      "metadata": {
        "colab": {
          "base_uri": "https://localhost:8080/",
          "height": 17
        },
        "id": "gVqOxSzCP5r8",
        "outputId": "caa7f5f0-407b-4ff1-e3ee-48dc7b516e23"
      },
      "execution_count": 11,
      "outputs": [
        {
          "output_type": "display_data",
          "data": {
            "text/plain": [
              "<IPython.core.display.HTML object>"
            ],
            "text/html": [
              "\n",
              "    <style>\n",
              "      pre {\n",
              "          white-space: pre-wrap;\n",
              "      }\n",
              "    </style>\n",
              "    "
            ]
          },
          "metadata": {}
        }
      ]
    },
    {
      "cell_type": "code",
      "source": [
        "# Preview Weight column\n",
        "cols_to_show = ['MessageId', 'Label', 'Weight']\n",
        "train_df_numeric.select(cols_to_show).where(train_df_numeric.Label == 0).show(1, truncate=False, vertical=True)\n",
        "train_df_numeric.select(cols_to_show).where(train_df_numeric.Label == 1).show(1, truncate=False, vertical=True)"
      ],
      "metadata": {
        "colab": {
          "base_uri": "https://localhost:8080/",
          "height": 231
        },
        "id": "1yOERTKURGF2",
        "outputId": "404188ec-993f-43d9-da62-228a0e25e6d6"
      },
      "execution_count": 12,
      "outputs": [
        {
          "output_type": "display_data",
          "data": {
            "text/plain": [
              "<IPython.core.display.HTML object>"
            ],
            "text/html": [
              "\n",
              "    <style>\n",
              "      pre {\n",
              "          white-space: pre-wrap;\n",
              "      }\n",
              "    </style>\n",
              "    "
            ]
          },
          "metadata": {}
        },
        {
          "output_type": "stream",
          "name": "stdout",
          "text": [
            "-RECORD 0---------------\n",
            " MessageId | TRFXV1O7R2 \n",
            " Label     | 0          \n",
            " Weight    | 1.0        \n",
            "only showing top 1 row\n",
            "\n",
            "-RECORD 0---------------\n",
            " MessageId | TR14I40JIT \n",
            " Label     | 1          \n",
            " Weight    | 1.0        \n",
            "only showing top 1 row\n",
            "\n"
          ]
        }
      ]
    },
    {
      "cell_type": "code",
      "source": [
        "# Print shape of dataframes\n",
        "print(f\"train_df_numeric:  {train_df_numeric.count():,} Rows, {len(train_df_numeric.columns)} Columns\")\n",
        "print(f\"test_df_numeric:  {test_df_numeric.count():,} Rows, {len(test_df_numeric.columns)} Columns\")"
      ],
      "metadata": {
        "id": "UcoMf27IVOLC",
        "colab": {
          "base_uri": "https://localhost:8080/",
          "height": 53
        },
        "outputId": "7563a7bf-a745-46c0-f90a-c07ef7a27581"
      },
      "execution_count": 13,
      "outputs": [
        {
          "output_type": "display_data",
          "data": {
            "text/plain": [
              "<IPython.core.display.HTML object>"
            ],
            "text/html": [
              "\n",
              "    <style>\n",
              "      pre {\n",
              "          white-space: pre-wrap;\n",
              "      }\n",
              "    </style>\n",
              "    "
            ]
          },
          "metadata": {}
        },
        {
          "output_type": "stream",
          "name": "stdout",
          "text": [
            "train_df_numeric:  4,691,725 Rows, 15 Columns\n",
            "test_df_numeric:  705,108 Rows, 14 Columns\n"
          ]
        }
      ]
    },
    {
      "cell_type": "code",
      "source": [
        "# Print schema of training dataframe\n",
        "print('train_df_numeric:')\n",
        "train_df_numeric.printSchema()"
      ],
      "metadata": {
        "id": "OWm1UBS1VOSH",
        "colab": {
          "base_uri": "https://localhost:8080/",
          "height": 338
        },
        "outputId": "a13d8efe-5523-47cc-e237-b60cd074193a"
      },
      "execution_count": 14,
      "outputs": [
        {
          "output_type": "display_data",
          "data": {
            "text/plain": [
              "<IPython.core.display.HTML object>"
            ],
            "text/html": [
              "\n",
              "    <style>\n",
              "      pre {\n",
              "          white-space: pre-wrap;\n",
              "      }\n",
              "    </style>\n",
              "    "
            ]
          },
          "metadata": {}
        },
        {
          "output_type": "stream",
          "name": "stdout",
          "text": [
            "train_df_numeric:\n",
            "root\n",
            " |-- MessageId: string (nullable = true)\n",
            " |-- Label: integer (nullable = true)\n",
            " |-- InstructedAmountUSD: integer (nullable = true)\n",
            " |-- IntermediaryTransactions: integer (nullable = true)\n",
            " |-- Flagged: integer (nullable = true)\n",
            " |-- OrderingCountryFreq: integer (nullable = true)\n",
            " |-- BeneficiaryCountryFreq: integer (nullable = true)\n",
            " |-- Hour: integer (nullable = true)\n",
            " |-- SenderHourFreq: integer (nullable = true)\n",
            " |-- SenderCurrencyFreq: integer (nullable = true)\n",
            " |-- SenderCurrencyAmtAvg: integer (nullable = true)\n",
            " |-- SenderFreq: integer (nullable = true)\n",
            " |-- ReceiverFreq: integer (nullable = true)\n",
            " |-- SenderReceiverFreq: integer (nullable = true)\n",
            " |-- Weight: double (nullable = true)\n",
            "\n"
          ]
        }
      ]
    },
    {
      "cell_type": "code",
      "source": [
        "# Print schema of test dataframe\n",
        "print('test_df_numeric:')\n",
        "test_df_numeric.printSchema()"
      ],
      "metadata": {
        "id": "SAlIlsWPVObJ",
        "colab": {
          "base_uri": "https://localhost:8080/",
          "height": 321
        },
        "outputId": "c3c77d51-1e16-465b-eb54-59191ed89a8d"
      },
      "execution_count": 15,
      "outputs": [
        {
          "output_type": "display_data",
          "data": {
            "text/plain": [
              "<IPython.core.display.HTML object>"
            ],
            "text/html": [
              "\n",
              "    <style>\n",
              "      pre {\n",
              "          white-space: pre-wrap;\n",
              "      }\n",
              "    </style>\n",
              "    "
            ]
          },
          "metadata": {}
        },
        {
          "output_type": "stream",
          "name": "stdout",
          "text": [
            "test_df_numeric:\n",
            "root\n",
            " |-- MessageId: string (nullable = true)\n",
            " |-- Label: integer (nullable = true)\n",
            " |-- InstructedAmountUSD: integer (nullable = true)\n",
            " |-- IntermediaryTransactions: integer (nullable = true)\n",
            " |-- Flagged: integer (nullable = true)\n",
            " |-- OrderingCountryFreq: integer (nullable = true)\n",
            " |-- BeneficiaryCountryFreq: integer (nullable = true)\n",
            " |-- Hour: integer (nullable = true)\n",
            " |-- SenderHourFreq: integer (nullable = true)\n",
            " |-- SenderCurrencyFreq: integer (nullable = true)\n",
            " |-- SenderCurrencyAmtAvg: integer (nullable = true)\n",
            " |-- SenderFreq: integer (nullable = true)\n",
            " |-- ReceiverFreq: integer (nullable = true)\n",
            " |-- SenderReceiverFreq: integer (nullable = true)\n",
            "\n"
          ]
        }
      ]
    },
    {
      "cell_type": "code",
      "source": [
        "# Drop 'MessageId' individual transaction identifier column - will not be used in modeling\n",
        "train_df_numeric = train_df_numeric.drop('MessageId')\n",
        "test_df_numeric = test_df_numeric.drop('MessageId')\n",
        "\n",
        "# Rename target variable 'Label' column to more descriptive 'Anomalous'\n",
        "train_df_numeric = train_df_numeric.withColumnRenamed('Label', 'Anomalous')\n",
        "test_df_numeric = test_df_numeric.withColumnRenamed('Label', 'Anomalous')"
      ],
      "metadata": {
        "id": "s7nTo2BMXmWS",
        "colab": {
          "base_uri": "https://localhost:8080/",
          "height": 17
        },
        "outputId": "3013304a-6337-4737-b097-d3f2b2b8afab"
      },
      "execution_count": 16,
      "outputs": [
        {
          "output_type": "display_data",
          "data": {
            "text/plain": [
              "<IPython.core.display.HTML object>"
            ],
            "text/html": [
              "\n",
              "    <style>\n",
              "      pre {\n",
              "          white-space: pre-wrap;\n",
              "      }\n",
              "    </style>\n",
              "    "
            ]
          },
          "metadata": {}
        }
      ]
    },
    {
      "cell_type": "code",
      "source": [
        "# Display first row of train_df_numeric dataframe\n",
        "train_df_numeric.show(n=1, truncate=False, vertical=True)"
      ],
      "metadata": {
        "id": "B2jaFCBIwpiM",
        "colab": {
          "base_uri": "https://localhost:8080/",
          "height": 321
        },
        "outputId": "669423fc-57e4-4dbd-c9dd-0b95ae44e3de"
      },
      "execution_count": 17,
      "outputs": [
        {
          "output_type": "display_data",
          "data": {
            "text/plain": [
              "<IPython.core.display.HTML object>"
            ],
            "text/html": [
              "\n",
              "    <style>\n",
              "      pre {\n",
              "          white-space: pre-wrap;\n",
              "      }\n",
              "    </style>\n",
              "    "
            ]
          },
          "metadata": {}
        },
        {
          "output_type": "stream",
          "name": "stdout",
          "text": [
            "-RECORD 0---------------------------\n",
            " Anomalous                | 0       \n",
            " InstructedAmountUSD      | 519149  \n",
            " IntermediaryTransactions | 0       \n",
            " Flagged                  | 0       \n",
            " OrderingCountryFreq      | 73733   \n",
            " BeneficiaryCountryFreq   | 40984   \n",
            " Hour                     | 8       \n",
            " SenderHourFreq           | 47559   \n",
            " SenderCurrencyFreq       | 73733   \n",
            " SenderCurrencyAmtAvg     | 1906631 \n",
            " SenderFreq               | 73733   \n",
            " ReceiverFreq             | 41012   \n",
            " SenderReceiverFreq       | 40984   \n",
            " Weight                   | 1.0     \n",
            "only showing top 1 row\n",
            "\n"
          ]
        }
      ]
    },
    {
      "cell_type": "code",
      "source": [
        "# Display first row of test_df_numeric dataframe\n",
        "test_df_numeric.show(n=1, truncate=False, vertical=True)"
      ],
      "metadata": {
        "id": "7WB9ibsFWhC3",
        "colab": {
          "base_uri": "https://localhost:8080/",
          "height": 303
        },
        "outputId": "d006eb40-bfae-43b3-fda3-12b93c84d7a2"
      },
      "execution_count": 18,
      "outputs": [
        {
          "output_type": "display_data",
          "data": {
            "text/plain": [
              "<IPython.core.display.HTML object>"
            ],
            "text/html": [
              "\n",
              "    <style>\n",
              "      pre {\n",
              "          white-space: pre-wrap;\n",
              "      }\n",
              "    </style>\n",
              "    "
            ]
          },
          "metadata": {}
        },
        {
          "output_type": "stream",
          "name": "stdout",
          "text": [
            "-RECORD 0---------------------------\n",
            " Anomalous                | 0       \n",
            " InstructedAmountUSD      | 653958  \n",
            " IntermediaryTransactions | 0       \n",
            " Flagged                  | 0       \n",
            " OrderingCountryFreq      | 73733   \n",
            " BeneficiaryCountryFreq   | 40984   \n",
            " Hour                     | 8       \n",
            " SenderHourFreq           | 47559   \n",
            " SenderCurrencyFreq       | 73733   \n",
            " SenderCurrencyAmtAvg     | 1906631 \n",
            " SenderFreq               | 73733   \n",
            " ReceiverFreq             | 41012   \n",
            " SenderReceiverFreq       | 40984   \n",
            "only showing top 1 row\n",
            "\n"
          ]
        }
      ]
    },
    {
      "cell_type": "code",
      "source": [
        "# Display value counts for 'Anomalous' column (classification target)\n",
        "class_counts = train_df_numeric.groupBy('Anomalous').count().withColumn('percent', F.col('count')/train_df_numeric.count())\n",
        "\n",
        "class_counts.show(truncate=False)"
      ],
      "metadata": {
        "colab": {
          "base_uri": "https://localhost:8080/",
          "height": 142
        },
        "id": "A4NBBo5Z8HcL",
        "outputId": "c8354a32-5850-4d3e-8ab0-7a6e8a9943a3"
      },
      "execution_count": 19,
      "outputs": [
        {
          "output_type": "display_data",
          "data": {
            "text/plain": [
              "<IPython.core.display.HTML object>"
            ],
            "text/html": [
              "\n",
              "    <style>\n",
              "      pre {\n",
              "          white-space: pre-wrap;\n",
              "      }\n",
              "    </style>\n",
              "    "
            ]
          },
          "metadata": {}
        },
        {
          "output_type": "stream",
          "name": "stdout",
          "text": [
            "+---------+-------+---------------------+\n",
            "|Anomalous|count  |percent              |\n",
            "+---------+-------+---------------------+\n",
            "|1        |4900   |0.0010443919880214632|\n",
            "|0        |4686825|0.9989556080119786   |\n",
            "+---------+-------+---------------------+\n",
            "\n"
          ]
        }
      ]
    },
    {
      "cell_type": "markdown",
      "source": [
        "<br>"
      ],
      "metadata": {
        "id": "jTFLL4FrXelJ"
      }
    },
    {
      "cell_type": "markdown",
      "source": [
        "# Create Pipeline to Preprocess and Model Data"
      ],
      "metadata": {
        "id": "eytS6s3lWXio"
      }
    },
    {
      "cell_type": "markdown",
      "source": [
        "### Index string columns with StringIndexer"
      ],
      "metadata": {
        "id": "ndf2Vu3xWzKy"
      }
    },
    {
      "cell_type": "code",
      "source": [
        "# stages = []\n",
        "\n",
        "# categoricalCols = [item[0] for item in train_df_resampled.dtypes if item[1].startswith('string')]\n",
        "\n",
        "# indexers = []\n",
        "\n",
        "# for col in categoricalCols:\n",
        "#     indexer = StringIndexer(inputCol=col, outputCol=col + '_index', handleInvalid='keep')\n",
        "#     indexers.append(indexer)\n",
        "    \n",
        "# indexed_features = []\n",
        "# for si in indexers:\n",
        "#     indexed_features.append(si.getOutputCol())\n",
        "    \n",
        "# print(f\"Indexed nominal categorical features: \\n{indexed_features}\")"
      ],
      "metadata": {
        "id": "3YdFfLtdWzRd"
      },
      "execution_count": null,
      "outputs": []
    },
    {
      "cell_type": "markdown",
      "source": [
        "### Create a OneHotEncoder to encode the indexed string features"
      ],
      "metadata": {
        "id": "s6X8UUZCWzXN"
      }
    },
    {
      "cell_type": "code",
      "source": [
        "# encoder = OneHotEncoder(inputCols=indexed_features, \n",
        "#                         outputCols=[col + '_ohe' for col in indexed_features], \n",
        "#                         dropLast=True)\n",
        "\n",
        "# print(f\"One hot encoded nominal categorical features: {len(encoder.getOutputCols())}\\n{encoder.getOutputCols()}\")"
      ],
      "metadata": {
        "id": "GEIvAPM5Wzcq"
      },
      "execution_count": null,
      "outputs": []
    },
    {
      "cell_type": "markdown",
      "source": [
        "### Compile numeric features, not including target or class weight columns"
      ],
      "metadata": {
        "id": "8EK2-6LwZa8L"
      }
    },
    {
      "cell_type": "code",
      "source": [
        "numeric_features = []\n",
        "for column in train_df_numeric.columns:\n",
        "    if column != 'Anomalous' and column != 'Weight':\n",
        "        numeric_features.append(column)\n",
        "\n",
        "# Confirm equal column counts\n",
        "assert len(train_df_numeric.drop('Anomalous', 'Weight').columns) == len(numeric_features)\n",
        "print(f\"Numeric features: {len(numeric_features)}\\n{numeric_features}\")"
      ],
      "metadata": {
        "id": "3s3zpOEkWzhu",
        "colab": {
          "base_uri": "https://localhost:8080/",
          "height": 71
        },
        "outputId": "ff417726-30f4-40ec-f7c9-eaa1922e8327"
      },
      "execution_count": 20,
      "outputs": [
        {
          "output_type": "display_data",
          "data": {
            "text/plain": [
              "<IPython.core.display.HTML object>"
            ],
            "text/html": [
              "\n",
              "    <style>\n",
              "      pre {\n",
              "          white-space: pre-wrap;\n",
              "      }\n",
              "    </style>\n",
              "    "
            ]
          },
          "metadata": {}
        },
        {
          "output_type": "stream",
          "name": "stdout",
          "text": [
            "Numeric features: 12\n",
            "['InstructedAmountUSD', 'IntermediaryTransactions', 'Flagged', 'OrderingCountryFreq', 'BeneficiaryCountryFreq', 'Hour', 'SenderHourFreq', 'SenderCurrencyFreq', 'SenderCurrencyAmtAvg', 'SenderFreq', 'ReceiverFreq', 'SenderReceiverFreq']\n"
          ]
        }
      ]
    },
    {
      "cell_type": "code",
      "source": [
        "# Print names of final features going into the model\n",
        "features = numeric_features\n",
        "print(f\"Final features: {len(features)}\\n{features}\")"
      ],
      "metadata": {
        "id": "TJyrAkENWzmR",
        "colab": {
          "base_uri": "https://localhost:8080/",
          "height": 71
        },
        "outputId": "db050333-bffc-440f-8f9c-a5f8dbec1c34"
      },
      "execution_count": 21,
      "outputs": [
        {
          "output_type": "display_data",
          "data": {
            "text/plain": [
              "<IPython.core.display.HTML object>"
            ],
            "text/html": [
              "\n",
              "    <style>\n",
              "      pre {\n",
              "          white-space: pre-wrap;\n",
              "      }\n",
              "    </style>\n",
              "    "
            ]
          },
          "metadata": {}
        },
        {
          "output_type": "stream",
          "name": "stdout",
          "text": [
            "Final features: 12\n",
            "['InstructedAmountUSD', 'IntermediaryTransactions', 'Flagged', 'OrderingCountryFreq', 'BeneficiaryCountryFreq', 'Hour', 'SenderHourFreq', 'SenderCurrencyFreq', 'SenderCurrencyAmtAvg', 'SenderFreq', 'ReceiverFreq', 'SenderReceiverFreq']\n"
          ]
        }
      ]
    },
    {
      "cell_type": "markdown",
      "source": [
        "### Create a VectorAssembler to combine all features"
      ],
      "metadata": {
        "id": "8Iz7ulwAavec"
      }
    },
    {
      "cell_type": "code",
      "source": [
        "assembler = VectorAssembler(inputCols=features, outputCol='vectorized_features')\n",
        "\n",
        "# Assemble a list of stages that includes the vector assembler and standard scaler\n",
        "scaler = StandardScaler(inputCol='vectorized_features', outputCol='scaled_features')\n",
        "\n",
        "stages = [assembler, scaler]\n",
        "print(\"Stages:\", stages)"
      ],
      "metadata": {
        "id": "27pnqdyva17G",
        "colab": {
          "base_uri": "https://localhost:8080/",
          "height": 35
        },
        "outputId": "761b39b3-21bf-4de9-f6b5-400bd3d02924"
      },
      "execution_count": 22,
      "outputs": [
        {
          "output_type": "display_data",
          "data": {
            "text/plain": [
              "<IPython.core.display.HTML object>"
            ],
            "text/html": [
              "\n",
              "    <style>\n",
              "      pre {\n",
              "          white-space: pre-wrap;\n",
              "      }\n",
              "    </style>\n",
              "    "
            ]
          },
          "metadata": {}
        },
        {
          "output_type": "stream",
          "name": "stdout",
          "text": [
            "Stages: [VectorAssembler_fc047c88778b, StandardScaler_125a9a14e2f5]\n"
          ]
        }
      ]
    },
    {
      "cell_type": "markdown",
      "source": [
        "### Preview modeling pipeline"
      ],
      "metadata": {
        "id": "ZYwGcc_dbciE"
      }
    },
    {
      "cell_type": "code",
      "source": [
        "pipeline = Pipeline(stages=stages)\n",
        "\n",
        "pipeline_model = pipeline.fit(train_df_numeric)\n",
        "\n",
        "pipeline_df = pipeline_model.transform(train_df_numeric)"
      ],
      "metadata": {
        "id": "MlwoYrCKbjYB",
        "colab": {
          "base_uri": "https://localhost:8080/",
          "height": 17
        },
        "outputId": "2f3571aa-8dcc-47c4-f0a9-d821a59cd512"
      },
      "execution_count": 23,
      "outputs": [
        {
          "output_type": "display_data",
          "data": {
            "text/plain": [
              "<IPython.core.display.HTML object>"
            ],
            "text/html": [
              "\n",
              "    <style>\n",
              "      pre {\n",
              "          white-space: pre-wrap;\n",
              "      }\n",
              "    </style>\n",
              "    "
            ]
          },
          "metadata": {}
        }
      ]
    },
    {
      "cell_type": "code",
      "source": [
        "# Display first row of train_df_numeric after running through pipeline\n",
        "pipeline_df.show(1, vertical=True, truncate=False)"
      ],
      "metadata": {
        "id": "STgdImWXbwSl",
        "colab": {
          "base_uri": "https://localhost:8080/",
          "height": 412
        },
        "outputId": "a28648b5-1a14-41a1-ea60-d96aa1f6db61"
      },
      "execution_count": 24,
      "outputs": [
        {
          "output_type": "display_data",
          "data": {
            "text/plain": [
              "<IPython.core.display.HTML object>"
            ],
            "text/html": [
              "\n",
              "    <style>\n",
              "      pre {\n",
              "          white-space: pre-wrap;\n",
              "      }\n",
              "    </style>\n",
              "    "
            ]
          },
          "metadata": {}
        },
        {
          "output_type": "stream",
          "name": "stdout",
          "text": [
            "-RECORD 0--------------------------------------------------------------------------------------------------------------------------------------------------------------------------------------------------------------------------------------\n",
            " Anomalous                | 0                                                                                                                                                                                                                  \n",
            " InstructedAmountUSD      | 519149                                                                                                                                                                                                             \n",
            " IntermediaryTransactions | 0                                                                                                                                                                                                                  \n",
            " Flagged                  | 0                                                                                                                                                                                                                  \n",
            " OrderingCountryFreq      | 73733                                                                                                                                                                                                              \n",
            " BeneficiaryCountryFreq   | 40984                                                                                                                                                                                                              \n",
            " Hour                     | 8                                                                                                                                                                                                                  \n",
            " SenderHourFreq           | 47559                                                                                                                                                                                                              \n",
            " SenderCurrencyFreq       | 73733                                                                                                                                                                                                              \n",
            " SenderCurrencyAmtAvg     | 1906631                                                                                                                                                                                                            \n",
            " SenderFreq               | 73733                                                                                                                                                                                                              \n",
            " ReceiverFreq             | 41012                                                                                                                                                                                                              \n",
            " SenderReceiverFreq       | 40984                                                                                                                                                                                                              \n",
            " Weight                   | 1.0                                                                                                                                                                                                                \n",
            " vectorized_features      | [519149.0,0.0,0.0,73733.0,40984.0,8.0,47559.0,73733.0,1906631.0,73733.0,41012.0,40984.0]                                                                                                                           \n",
            " scaled_features          | [0.0016527706896438483,0.0,0.0,0.13872751524523577,0.06111503793353696,1.6209688519496068,0.2977688812686963,0.16018777672814133,0.022806394100742342,0.12929906160159663,0.06163677309549697,0.06264906278885182] \n",
            "only showing top 1 row\n",
            "\n"
          ]
        }
      ]
    },
    {
      "cell_type": "code",
      "source": [
        "pipeline_test = pipeline.fit(test_df_numeric)\n",
        "\n",
        "pipeline_df_test = pipeline_model.transform(test_df_numeric)\n",
        "\n",
        "pipeline.fit(test_df_numeric).transform(test_df_numeric).head()['scaled_features'].size"
      ],
      "metadata": {
        "id": "lH2vg1cjbzij",
        "colab": {
          "base_uri": "https://localhost:8080/",
          "height": 35
        },
        "outputId": "9303eb1d-6869-406d-d896-009a510cfdc4"
      },
      "execution_count": 25,
      "outputs": [
        {
          "output_type": "display_data",
          "data": {
            "text/plain": [
              "<IPython.core.display.HTML object>"
            ],
            "text/html": [
              "\n",
              "    <style>\n",
              "      pre {\n",
              "          white-space: pre-wrap;\n",
              "      }\n",
              "    </style>\n",
              "    "
            ]
          },
          "metadata": {}
        },
        {
          "output_type": "execute_result",
          "data": {
            "text/plain": [
              "12"
            ]
          },
          "metadata": {},
          "execution_count": 25
        }
      ]
    },
    {
      "cell_type": "code",
      "source": [
        "# Display first row of test_df_numeric after running through pipeline\n",
        "pipeline_df_test.show(1, vertical=True, truncate=False)"
      ],
      "metadata": {
        "id": "1gZDYHp_c2Ea",
        "colab": {
          "base_uri": "https://localhost:8080/",
          "height": 394
        },
        "outputId": "7de6cf5a-b19a-4101-f5e6-c3fb7b3b469e"
      },
      "execution_count": 26,
      "outputs": [
        {
          "output_type": "display_data",
          "data": {
            "text/plain": [
              "<IPython.core.display.HTML object>"
            ],
            "text/html": [
              "\n",
              "    <style>\n",
              "      pre {\n",
              "          white-space: pre-wrap;\n",
              "      }\n",
              "    </style>\n",
              "    "
            ]
          },
          "metadata": {}
        },
        {
          "output_type": "stream",
          "name": "stdout",
          "text": [
            "-RECORD 0--------------------------------------------------------------------------------------------------------------------------------------------------------------------------------------------------------------------------------------\n",
            " Anomalous                | 0                                                                                                                                                                                                                  \n",
            " InstructedAmountUSD      | 653958                                                                                                                                                                                                             \n",
            " IntermediaryTransactions | 0                                                                                                                                                                                                                  \n",
            " Flagged                  | 0                                                                                                                                                                                                                  \n",
            " OrderingCountryFreq      | 73733                                                                                                                                                                                                              \n",
            " BeneficiaryCountryFreq   | 40984                                                                                                                                                                                                              \n",
            " Hour                     | 8                                                                                                                                                                                                                  \n",
            " SenderHourFreq           | 47559                                                                                                                                                                                                              \n",
            " SenderCurrencyFreq       | 73733                                                                                                                                                                                                              \n",
            " SenderCurrencyAmtAvg     | 1906631                                                                                                                                                                                                            \n",
            " SenderFreq               | 73733                                                                                                                                                                                                              \n",
            " ReceiverFreq             | 41012                                                                                                                                                                                                              \n",
            " SenderReceiverFreq       | 40984                                                                                                                                                                                                              \n",
            " vectorized_features      | [653958.0,0.0,0.0,73733.0,40984.0,8.0,47559.0,73733.0,1906631.0,73733.0,41012.0,40984.0]                                                                                                                           \n",
            " scaled_features          | [0.0020819506820934103,0.0,0.0,0.13872751524523577,0.06111503793353696,1.6209688519496068,0.2977688812686963,0.16018777672814133,0.022806394100742342,0.12929906160159663,0.06163677309549697,0.06264906278885182] \n",
            "only showing top 1 row\n",
            "\n"
          ]
        }
      ]
    },
    {
      "cell_type": "markdown",
      "source": [
        "<br>"
      ],
      "metadata": {
        "id": "afadW505c914"
      }
    },
    {
      "cell_type": "code",
      "source": [
        "def grid_search(stages_with_classifier, train_df, model_grid, parallelism, seed=42):\n",
        "    pipeline = Pipeline(stages=stages_with_classifier)\n",
        "    # Define evaluator\n",
        "    evaluator = BinaryClassificationEvaluator(labelCol='Anomalous', \n",
        "                                              metricName=\"areaUnderPR\")\n",
        "    # Define train/validation split with pipeline above\n",
        "    tvs = TrainValidationSplit(estimator=pipeline, \n",
        "                               estimatorParamMaps=model_grid, \n",
        "                               evaluator=evaluator, \n",
        "                               parallelism=parallelism, \n",
        "                               seed=seed)\n",
        "    # Fit the tvs model\n",
        "    tvs_model = tvs.fit(train_df)\n",
        "    # Store best model parameters in variable\n",
        "    best_model_parameters = model_grid[np.argmax(tvs_model.validationMetrics)]\n",
        "\n",
        "    # Print best model parameters\n",
        "    print(best_model_parameters)\n",
        "    # Return best model\n",
        "    return tvs_model"
      ],
      "metadata": {
        "colab": {
          "base_uri": "https://localhost:8080/",
          "height": 17
        },
        "id": "4ddTv-G2Wv9t",
        "outputId": "b5552f80-55d5-4a84-ed6d-cc6dbc519a65"
      },
      "execution_count": 27,
      "outputs": [
        {
          "output_type": "display_data",
          "data": {
            "text/plain": [
              "<IPython.core.display.HTML object>"
            ],
            "text/html": [
              "\n",
              "    <style>\n",
              "      pre {\n",
              "          white-space: pre-wrap;\n",
              "      }\n",
              "    </style>\n",
              "    "
            ]
          },
          "metadata": {}
        }
      ]
    },
    {
      "cell_type": "code",
      "source": [
        "def score_model(model, train_df, test_df):\n",
        "    # Print model name\n",
        "    try:\n",
        "        print(str(model.bestModel.stages[-1]).split(':')[0])\n",
        "        length = len(str(model.bestModel.stages[-1]).split(':')[0])\n",
        "    except AttributeError:\n",
        "        print(str(model.stages[-1]).split(':')[0])\n",
        "        length = len(str(model.stages[-1]).split(':')[0])\n",
        "    print('-'*length, '\\n')\n",
        "\n",
        "    # Predict on training and testing data\n",
        "    train_pred = model.transform(train_df)\n",
        "    test_pred = model.transform(test_df)\n",
        "\n",
        "    # Convert target class columns to NumPy arrays for Sklearn\n",
        "    y_true_train = np.array(train_pred.select('Anomalous').collect())\n",
        "    y_true_test = np.array(test_pred.select('Anomalous').collect())\n",
        "\n",
        "    # Convert prediction columns to NumPy arrays for Sklearn\n",
        "    y_predicted_train = np.array(train_pred.select('prediction').collect())\n",
        "    y_predicted_test = np.array(test_pred.select('prediction').collect())\n",
        "\n",
        "    target_names = ['0: Non-anomalous', '1: Anomalous']\n",
        "    # Print training set classification report\n",
        "    print('Training data:\\n')\n",
        "    print(classification_report(y_true_train, \n",
        "                                y_predicted_train, \n",
        "                                target_names=target_names, \n",
        "                                digits=3))\n",
        "    print('-'*60, '\\n')\n",
        "    # Print test set classification report\n",
        "    print('Testing data:\\n')\n",
        "    print(classification_report(y_true_test, \n",
        "                                y_predicted_test, \n",
        "                                target_names=target_names, \n",
        "                                digits=3))"
      ],
      "metadata": {
        "colab": {
          "base_uri": "https://localhost:8080/",
          "height": 17
        },
        "id": "4KLb1sRmHnA9",
        "outputId": "f05b53e4-5ea6-4ecf-85fe-e2a16c2ca1e4"
      },
      "execution_count": 28,
      "outputs": [
        {
          "output_type": "display_data",
          "data": {
            "text/plain": [
              "<IPython.core.display.HTML object>"
            ],
            "text/html": [
              "\n",
              "    <style>\n",
              "      pre {\n",
              "          white-space: pre-wrap;\n",
              "      }\n",
              "    </style>\n",
              "    "
            ]
          },
          "metadata": {}
        }
      ]
    },
    {
      "cell_type": "code",
      "source": [
        "def plot_confusion_matrix(model, test_df, preprocessing_stages=stages):\n",
        "    # Convert Anomalous column to array\n",
        "    y_true = np.array(test_df.select('Anomalous').collect())\n",
        "    # Calculate predictions and convert prediction column to array\n",
        "    y_predicted = np.array(model.transform(test_df).select('prediction').collect())\n",
        "\n",
        "    \n",
        "    fig, ax1 = plt.subplots(figsize=(18, 7))\n",
        "\n",
        "    # Plot confusion matrix\n",
        "    labels = ['0: Non-anomalous', '1: Anomalous']\n",
        "    cm = confusion_matrix(y_true, y_predicted)\n",
        "    cm_disp = ConfusionMatrixDisplay(confusion_matrix=cm, display_labels=labels)\n",
        "    cm_disp.plot(cmap='Reds', ax=ax1, values_format='')\n",
        "    ax1.set_title('Confusion Matrix - Test Data', size=15, fontweight='bold')\n",
        "    ax1.set_xlabel(ax1.get_xlabel(), size=13)\n",
        "    ax1.set_ylabel(ax1.get_ylabel(), size=13)\n",
        "    ax1.tick_params(axis='both', which='both', labelsize=12)\n",
        "    for labels in cm_disp.text_.ravel():\n",
        "        labels.set_fontsize(12)\n",
        "    ax1.grid(False)"
      ],
      "metadata": {
        "id": "avPxF4hI4b8I",
        "colab": {
          "base_uri": "https://localhost:8080/",
          "height": 17
        },
        "outputId": "6fb8984e-ced6-488c-c2da-cf14b53dff86"
      },
      "execution_count": 30,
      "outputs": [
        {
          "output_type": "display_data",
          "data": {
            "text/plain": [
              "<IPython.core.display.HTML object>"
            ],
            "text/html": [
              "\n",
              "    <style>\n",
              "      pre {\n",
              "          white-space: pre-wrap;\n",
              "      }\n",
              "    </style>\n",
              "    "
            ]
          },
          "metadata": {}
        }
      ]
    },
    {
      "cell_type": "markdown",
      "source": [
        "<br>"
      ],
      "metadata": {
        "id": "wgWYH4Ng_9z7"
      }
    },
    {
      "cell_type": "markdown",
      "source": [
        "# **Baseline Model**: Basic Logistic Regression\n",
        "\n",
        "For our first and baseline model, we'll fit a simple un-tuned logistic regression model."
      ],
      "metadata": {
        "id": "n3nkWqgD7Pss"
      }
    },
    {
      "cell_type": "code",
      "source": [
        "# Set classifier parameters\n",
        "lr_0 = LogisticRegression(\n",
        "    featuresCol='scaled_features',\n",
        "    labelCol='Anomalous',\n",
        "    weightCol='Weight',\n",
        "    standardization=False)"
      ],
      "metadata": {
        "id": "SoNwvO4ndJQu",
        "colab": {
          "base_uri": "https://localhost:8080/",
          "height": 17
        },
        "outputId": "d4b0731f-ff55-4437-ff7c-48002aeca499"
      },
      "execution_count": 31,
      "outputs": [
        {
          "output_type": "display_data",
          "data": {
            "text/plain": [
              "<IPython.core.display.HTML object>"
            ],
            "text/html": [
              "\n",
              "    <style>\n",
              "      pre {\n",
              "          white-space: pre-wrap;\n",
              "      }\n",
              "    </style>\n",
              "    "
            ]
          },
          "metadata": {}
        }
      ]
    },
    {
      "cell_type": "code",
      "source": [
        "# Assign to pipeline\n",
        "lr_0_pipeline = Pipeline(stages=stages + [lr_0])\n",
        "\n",
        "# Fit to training data\n",
        "if not os.path.isdir(drive_path + 'lr_0_model'):\n",
        "    lr_0_model = lr_0_pipeline.fit(train_df_numeric)"
      ],
      "metadata": {
        "colab": {
          "base_uri": "https://localhost:8080/",
          "height": 17
        },
        "id": "bJLsvaJE8_2h",
        "outputId": "c70826b9-048c-4dc2-c934-bc91c41fd621"
      },
      "execution_count": 32,
      "outputs": [
        {
          "output_type": "display_data",
          "data": {
            "text/plain": [
              "<IPython.core.display.HTML object>"
            ],
            "text/html": [
              "\n",
              "    <style>\n",
              "      pre {\n",
              "          white-space: pre-wrap;\n",
              "      }\n",
              "    </style>\n",
              "    "
            ]
          },
          "metadata": {}
        }
      ]
    },
    {
      "cell_type": "code",
      "source": [
        "# Save model, or upload if already saved\n",
        "if not os.path.isdir(drive_path + 'lr_0_model'):\n",
        "    lr_0_model.save(drive_path + 'lr_0_model')\n",
        "else:\n",
        "    lr_0_model = PipelineModel.load(drive_path + 'lr_0_model')"
      ],
      "metadata": {
        "colab": {
          "base_uri": "https://localhost:8080/",
          "height": 17
        },
        "id": "nayUX40d98SN",
        "outputId": "ebbfb345-a9f0-46d4-b898-7044d347046c"
      },
      "execution_count": 33,
      "outputs": [
        {
          "output_type": "display_data",
          "data": {
            "text/plain": [
              "<IPython.core.display.HTML object>"
            ],
            "text/html": [
              "\n",
              "    <style>\n",
              "      pre {\n",
              "          white-space: pre-wrap;\n",
              "      }\n",
              "    </style>\n",
              "    "
            ]
          },
          "metadata": {}
        }
      ]
    },
    {
      "cell_type": "code",
      "source": [
        "# Print model scores\n",
        "score_model(model=lr_0_model, train_df=train_df_numeric, test_df=test_df_numeric)"
      ],
      "metadata": {
        "id": "AFPbdEg3dJYE",
        "colab": {
          "base_uri": "https://localhost:8080/",
          "height": 499
        },
        "outputId": "5ced5c4d-d881-446b-b33a-6714d6ef252c"
      },
      "execution_count": 34,
      "outputs": [
        {
          "output_type": "display_data",
          "data": {
            "text/plain": [
              "<IPython.core.display.HTML object>"
            ],
            "text/html": [
              "\n",
              "    <style>\n",
              "      pre {\n",
              "          white-space: pre-wrap;\n",
              "      }\n",
              "    </style>\n",
              "    "
            ]
          },
          "metadata": {}
        },
        {
          "output_type": "stream",
          "name": "stdout",
          "text": [
            "LogisticRegressionModel\n",
            "----------------------- \n",
            "\n",
            "Training data:\n",
            "\n",
            "                  precision    recall  f1-score   support\n",
            "\n",
            "0: Non-anomalous      0.999     1.000     1.000   4686825\n",
            "    1: Anomalous      1.000     0.317     0.482      4900\n",
            "\n",
            "        accuracy                          0.999   4691725\n",
            "       macro avg      1.000     0.659     0.741   4691725\n",
            "    weighted avg      0.999     0.999     0.999   4691725\n",
            "\n",
            "------------------------------------------------------------ \n",
            "\n",
            "Testing data:\n",
            "\n",
            "                  precision    recall  f1-score   support\n",
            "\n",
            "0: Non-anomalous      0.999     0.968     0.983    704347\n",
            "    1: Anomalous      0.010     0.294     0.019       761\n",
            "\n",
            "        accuracy                          0.967    705108\n",
            "       macro avg      0.504     0.631     0.501    705108\n",
            "    weighted avg      0.998     0.967     0.982    705108\n",
            "\n"
          ]
        }
      ]
    },
    {
      "cell_type": "code",
      "source": [
        "# Plot model confusion matrix\n",
        "plot_confusion_matrix(model=lr_0_model, test_df=test_df_numeric)"
      ],
      "metadata": {
        "id": "roeqHk9hgPkD",
        "colab": {
          "base_uri": "https://localhost:8080/",
          "height": 465
        },
        "outputId": "f91dde03-7f79-4531-e6f0-3b8da2fea8d2"
      },
      "execution_count": 35,
      "outputs": [
        {
          "output_type": "display_data",
          "data": {
            "text/plain": [
              "<IPython.core.display.HTML object>"
            ],
            "text/html": [
              "\n",
              "    <style>\n",
              "      pre {\n",
              "          white-space: pre-wrap;\n",
              "      }\n",
              "    </style>\n",
              "    "
            ]
          },
          "metadata": {}
        },
        {
          "output_type": "display_data",
          "data": {
            "text/plain": [
              "<Figure size 1296x504 with 2 Axes>"
            ],
            "image/png": "[encoded data removed]"
          },
          "metadata": {
            "image/png": {
              "width": 643,
              "height": 448
            },
            "needs_background": "light"
          }
        }
      ]
    },
    {
      "cell_type": "markdown",
      "source": [
        "**Remarks:**\n",
        "- With a test set F1-score of only 0.019 and nearly 23k false positives, we're not doing too well on the testing data. It looks like we're overfitting to the training data since the F1-score is significantly better on the training data. We'll try to address that in the next model."
      ],
      "metadata": {
        "id": "MyeAqhWIIDZi"
      }
    },
    {
      "cell_type": "markdown",
      "source": [
        "<br>"
      ],
      "metadata": {
        "id": "jO5h1I9KKfAq"
      }
    },
    {
      "cell_type": "markdown",
      "source": [
        "# Model 1.1: **Logistic Regression** with Tuned Regularization\n",
        "\n",
        "For our first tuned `LogisticRegression` model, we'll try to address the overfitting by using regularization.\n",
        "\n",
        "The `elasticNetParam` hyperparameter specifies the ElasticNet mixing parameter - 0 = L2, while 1 = L1.<br>\n",
        "The `regParam` hyperparameter specifies the regularization strength."
      ],
      "metadata": {
        "id": "oxzsE3VmKUu7"
      }
    },
    {
      "cell_type": "code",
      "source": [
        "lr_1 = LogisticRegression(\n",
        "    featuresCol='scaled_features',\n",
        "    labelCol='Anomalous',\n",
        "    weightCol='Weight',\n",
        "    standardization=False)\n",
        "\n",
        "lr_1_stages = stages + [lr_1]\n",
        "\n",
        "# Specify parameter grid\n",
        "lr_1_grid = ParamGridBuilder()\\\n",
        "            .addGrid(lr_1.elasticNetParam, [0, 0.25, 0.5, 0.75, 1.0])\\\n",
        "            .addGrid(lr_1.regParam, [0.001, 0.005, 0.01])\\\n",
        "            .build()"
      ],
      "metadata": {
        "colab": {
          "base_uri": "https://localhost:8080/",
          "height": 17
        },
        "id": "iSF5zqvzC9tg",
        "outputId": "c12b4cab-9e2c-4a43-ee20-c2b7caf57dbe"
      },
      "execution_count": 36,
      "outputs": [
        {
          "output_type": "display_data",
          "data": {
            "text/plain": [
              "<IPython.core.display.HTML object>"
            ],
            "text/html": [
              "\n",
              "    <style>\n",
              "      pre {\n",
              "          white-space: pre-wrap;\n",
              "      }\n",
              "    </style>\n",
              "    "
            ]
          },
          "metadata": {}
        }
      ]
    },
    {
      "cell_type": "code",
      "source": [
        "# Run grid search\n",
        "if not os.path.isdir(drive_path + 'lr_1_model'):\n",
        "    lr_1_model = grid_search(stages_with_classifier=lr_1_stages, \n",
        "                             train_df=train_df_numeric, \n",
        "                             model_grid=lr_1_grid, \n",
        "                             parallelism=5)"
      ],
      "metadata": {
        "colab": {
          "base_uri": "https://localhost:8080/",
          "height": 17
        },
        "id": "ZjdSkKdQo49c",
        "outputId": "2b9699c8-df0c-4bc3-a133-70e63dca70e1"
      },
      "execution_count": 37,
      "outputs": [
        {
          "output_type": "display_data",
          "data": {
            "text/plain": [
              "<IPython.core.display.HTML object>"
            ],
            "text/html": [
              "\n",
              "    <style>\n",
              "      pre {\n",
              "          white-space: pre-wrap;\n",
              "      }\n",
              "    </style>\n",
              "    "
            ]
          },
          "metadata": {}
        }
      ]
    },
    {
      "cell_type": "code",
      "source": [
        "# Save model, or upload if already saved\n",
        "if not os.path.isdir(drive_path + 'lr_1_model'):\n",
        "    lr_1_model.save(drive_path + 'lr_1_model')\n",
        "else:\n",
        "    lr_1_model = TrainValidationSplitModel.load(drive_path + 'lr_1_model')\n",
        "    print(lr_1_grid[np.argmax(lr_1_model.validationMetrics)])"
      ],
      "metadata": {
        "colab": {
          "base_uri": "https://localhost:8080/",
          "height": 71
        },
        "id": "IMzLnOFyNViq",
        "outputId": "7b3439cc-b244-4d0a-bef3-f2b61c85aef3"
      },
      "execution_count": 38,
      "outputs": [
        {
          "output_type": "display_data",
          "data": {
            "text/plain": [
              "<IPython.core.display.HTML object>"
            ],
            "text/html": [
              "\n",
              "    <style>\n",
              "      pre {\n",
              "          white-space: pre-wrap;\n",
              "      }\n",
              "    </style>\n",
              "    "
            ]
          },
          "metadata": {}
        },
        {
          "output_type": "stream",
          "name": "stdout",
          "text": [
            "{Param(parent='LogisticRegression_445468544896', name='elasticNetParam', doc='the ElasticNet mixing parameter, in range [0, 1]. For alpha = 0, the penalty is an L2 penalty. For alpha = 1, it is an L1 penalty.'): 0.25, Param(parent='LogisticRegression_445468544896', name='regParam', doc='regularization parameter (>= 0).'): 0.005}\n"
          ]
        }
      ]
    },
    {
      "cell_type": "code",
      "source": [
        "# Print model scores\n",
        "score_model(lr_1_model, train_df_numeric, test_df_numeric)"
      ],
      "metadata": {
        "colab": {
          "base_uri": "https://localhost:8080/",
          "height": 499
        },
        "id": "EI7bjv4O_AGK",
        "outputId": "b212aeb1-38bc-4bf3-c433-804c3165bfc5"
      },
      "execution_count": 39,
      "outputs": [
        {
          "output_type": "display_data",
          "data": {
            "text/plain": [
              "<IPython.core.display.HTML object>"
            ],
            "text/html": [
              "\n",
              "    <style>\n",
              "      pre {\n",
              "          white-space: pre-wrap;\n",
              "      }\n",
              "    </style>\n",
              "    "
            ]
          },
          "metadata": {}
        },
        {
          "output_type": "stream",
          "name": "stdout",
          "text": [
            "LogisticRegressionModel\n",
            "----------------------- \n",
            "\n",
            "Training data:\n",
            "\n",
            "                  precision    recall  f1-score   support\n",
            "\n",
            "0: Non-anomalous      0.999     1.000     1.000   4686825\n",
            "    1: Anomalous      1.000     0.186     0.314      4900\n",
            "\n",
            "        accuracy                          0.999   4691725\n",
            "       macro avg      1.000     0.593     0.657   4691725\n",
            "    weighted avg      0.999     0.999     0.999   4691725\n",
            "\n",
            "------------------------------------------------------------ \n",
            "\n",
            "Testing data:\n",
            "\n",
            "                  precision    recall  f1-score   support\n",
            "\n",
            "0: Non-anomalous      0.999     1.000     1.000    704347\n",
            "    1: Anomalous      1.000     0.152     0.265       761\n",
            "\n",
            "        accuracy                          0.999    705108\n",
            "       macro avg      1.000     0.576     0.632    705108\n",
            "    weighted avg      0.999     0.999     0.999    705108\n",
            "\n"
          ]
        }
      ]
    },
    {
      "cell_type": "code",
      "source": [
        "# Plot model confusion matrix\n",
        "plot_confusion_matrix(lr_1_model, test_df_numeric)"
      ],
      "metadata": {
        "colab": {
          "base_uri": "https://localhost:8080/",
          "height": 465
        },
        "id": "urtLcdfgNICm",
        "outputId": "f87fe726-2aca-494e-c35c-14482c57780f"
      },
      "execution_count": 40,
      "outputs": [
        {
          "output_type": "display_data",
          "data": {
            "text/plain": [
              "<IPython.core.display.HTML object>"
            ],
            "text/html": [
              "\n",
              "    <style>\n",
              "      pre {\n",
              "          white-space: pre-wrap;\n",
              "      }\n",
              "    </style>\n",
              "    "
            ]
          },
          "metadata": {}
        },
        {
          "output_type": "display_data",
          "data": {
            "text/plain": [
              "<Figure size 1296x504 with 2 Axes>"
            ],
            "image/png": "[encoded data removed]"
          },
          "metadata": {
            "image/png": {
              "width": 643,
              "height": 448
            },
            "needs_background": "light"
          }
        }
      ]
    },
    {
      "cell_type": "markdown",
      "source": [
        "**Remarks:**\n",
        "- Applying regularization improved the model tremendously! We had nearly 23k false positives with the baseline model, and now we don't have a single one. Our test set recall decreased a bit, from 0.294 to 0.152, but for perfect precision I'll take that any day. Our test set F1-score is now 0.265."
      ],
      "metadata": {
        "id": "KLeCBfTcNIJJ"
      }
    },
    {
      "cell_type": "markdown",
      "source": [
        "<br>"
      ],
      "metadata": {
        "id": "rTGJBZkXfTy0"
      }
    },
    {
      "cell_type": "markdown",
      "source": [
        "# Model 1.2: **Logistic Regression** with Tuned Threshold and Max Iterations\n",
        "\n",
        "For our next tuned model, we'll attempt to optimize the logistic regression classification threshold and the maximum number of iterations. Since we didn't have a single false positive in the last model, we might be able to bring the threshold down and/or increase the iterations without incurring too much of a hit to the false positive rate, resulting in a higher overall F1-score."
      ],
      "metadata": {
        "id": "jdrJKz1BApRM"
      }
    },
    {
      "cell_type": "code",
      "source": [
        "lr_2 = LogisticRegression(\n",
        "    featuresCol='scaled_features',\n",
        "    labelCol='Anomalous',\n",
        "    weightCol='Weight',\n",
        "    standardization=False, \n",
        "    elasticNetParam=0.25, \n",
        "    regParam=0.005)\n",
        "\n",
        "lr_2_stages = stages + [lr_2]\n",
        "\n",
        "# Specify parameter grid\n",
        "lr_2_grid = ParamGridBuilder()\\\n",
        "            .addGrid(lr_2.threshold, [0.25, 0.325, 0.4])\\\n",
        "            .addGrid(lr_2.maxIter, [100, 150, 200])\\\n",
        "            .build()"
      ],
      "metadata": {
        "id": "i0_-CzaxgrbH",
        "colab": {
          "base_uri": "https://localhost:8080/",
          "height": 17
        },
        "outputId": "1d91b6de-d54f-4df2-f0e7-f8317d704a41"
      },
      "execution_count": 41,
      "outputs": [
        {
          "output_type": "display_data",
          "data": {
            "text/plain": [
              "<IPython.core.display.HTML object>"
            ],
            "text/html": [
              "\n",
              "    <style>\n",
              "      pre {\n",
              "          white-space: pre-wrap;\n",
              "      }\n",
              "    </style>\n",
              "    "
            ]
          },
          "metadata": {}
        }
      ]
    },
    {
      "cell_type": "code",
      "source": [
        "# Run grid search using grid_search function\n",
        "if not os.path.isdir(drive_path + 'lr_2_model'):\n",
        "    lr_2_model = grid_search(stages_with_classifier=lr_2_stages, \n",
        "                             train_df=train_df_numeric, \n",
        "                             model_grid=lr_2_grid, \n",
        "                             parallelism=5)"
      ],
      "metadata": {
        "id": "SbiNDGEdg1AI",
        "colab": {
          "base_uri": "https://localhost:8080/",
          "height": 17
        },
        "outputId": "49abe902-4b22-4da5-db88-1d68cfea8fec"
      },
      "execution_count": 42,
      "outputs": [
        {
          "output_type": "display_data",
          "data": {
            "text/plain": [
              "<IPython.core.display.HTML object>"
            ],
            "text/html": [
              "\n",
              "    <style>\n",
              "      pre {\n",
              "          white-space: pre-wrap;\n",
              "      }\n",
              "    </style>\n",
              "    "
            ]
          },
          "metadata": {}
        }
      ]
    },
    {
      "cell_type": "code",
      "source": [
        "# Save model, or upload if already saved\n",
        "if not os.path.isdir(drive_path + 'lr_2_model'):\n",
        "    lr_2_model.save(drive_path + 'lr_2_model')\n",
        "else:\n",
        "    lr_2_model = TrainValidationSplitModel.load(drive_path + 'lr_2_model')\n",
        "    print(lr_2_grid[np.argmax(lr_2_model.validationMetrics)])"
      ],
      "metadata": {
        "colab": {
          "base_uri": "https://localhost:8080/",
          "height": 71
        },
        "id": "fRM_UiomDh4w",
        "outputId": "2fba08c2-8123-4d1e-d5a2-e7749927f714"
      },
      "execution_count": 43,
      "outputs": [
        {
          "output_type": "display_data",
          "data": {
            "text/plain": [
              "<IPython.core.display.HTML object>"
            ],
            "text/html": [
              "\n",
              "    <style>\n",
              "      pre {\n",
              "          white-space: pre-wrap;\n",
              "      }\n",
              "    </style>\n",
              "    "
            ]
          },
          "metadata": {}
        },
        {
          "output_type": "stream",
          "name": "stdout",
          "text": [
            "{Param(parent='LogisticRegression_5e7e4fa932e3', name='threshold', doc='Threshold in binary classification prediction, in range [0, 1]. If threshold and thresholds are both set, they must match.e.g. if threshold is p, then thresholds must be equal to [1-p, p].'): 0.25, Param(parent='LogisticRegression_5e7e4fa932e3', name='maxIter', doc='max number of iterations (>= 0).'): 100}\n"
          ]
        }
      ]
    },
    {
      "cell_type": "code",
      "source": [
        "# Print model scores\n",
        "score_model(lr_2_model, train_df_numeric, test_df_numeric)"
      ],
      "metadata": {
        "id": "PHx550Oxg45U",
        "colab": {
          "base_uri": "https://localhost:8080/",
          "height": 499
        },
        "outputId": "743ef038-89f3-44ef-aa6e-094b4ce6f2c3"
      },
      "execution_count": 44,
      "outputs": [
        {
          "output_type": "display_data",
          "data": {
            "text/plain": [
              "<IPython.core.display.HTML object>"
            ],
            "text/html": [
              "\n",
              "    <style>\n",
              "      pre {\n",
              "          white-space: pre-wrap;\n",
              "      }\n",
              "    </style>\n",
              "    "
            ]
          },
          "metadata": {}
        },
        {
          "output_type": "stream",
          "name": "stdout",
          "text": [
            "LogisticRegressionModel\n",
            "----------------------- \n",
            "\n",
            "Training data:\n",
            "\n",
            "                  precision    recall  f1-score   support\n",
            "\n",
            "0: Non-anomalous      0.999     1.000     1.000   4686825\n",
            "    1: Anomalous      1.000     0.186     0.314      4900\n",
            "\n",
            "        accuracy                          0.999   4691725\n",
            "       macro avg      1.000     0.593     0.657   4691725\n",
            "    weighted avg      0.999     0.999     0.999   4691725\n",
            "\n",
            "------------------------------------------------------------ \n",
            "\n",
            "Testing data:\n",
            "\n",
            "                  precision    recall  f1-score   support\n",
            "\n",
            "0: Non-anomalous      0.999     1.000     1.000    704347\n",
            "    1: Anomalous      1.000     0.152     0.265       761\n",
            "\n",
            "        accuracy                          0.999    705108\n",
            "       macro avg      1.000     0.576     0.632    705108\n",
            "    weighted avg      0.999     0.999     0.999    705108\n",
            "\n"
          ]
        }
      ]
    },
    {
      "cell_type": "code",
      "source": [
        "# Plot model confusion matrix\n",
        "plot_confusion_matrix(lr_2_model, test_df_numeric)"
      ],
      "metadata": {
        "id": "lip0jPY2g5l7",
        "colab": {
          "base_uri": "https://localhost:8080/",
          "height": 465
        },
        "outputId": "3d319b4c-2d49-40b9-da98-51d0a7c71917"
      },
      "execution_count": 45,
      "outputs": [
        {
          "output_type": "display_data",
          "data": {
            "text/plain": [
              "<IPython.core.display.HTML object>"
            ],
            "text/html": [
              "\n",
              "    <style>\n",
              "      pre {\n",
              "          white-space: pre-wrap;\n",
              "      }\n",
              "    </style>\n",
              "    "
            ]
          },
          "metadata": {}
        },
        {
          "output_type": "display_data",
          "data": {
            "text/plain": [
              "<Figure size 1296x504 with 2 Axes>"
            ],
            "image/png": "[encoded data removed]"
          },
          "metadata": {
            "image/png": {
              "width": 643,
              "height": 448
            },
            "needs_background": "light"
          }
        }
      ]
    },
    {
      "cell_type": "markdown",
      "source": [
        "**Remarks:**\n",
        "- Even after reducing the threshold to 0.25, our results didn't budge an inch on the testing data. We're getting 100% precision with anomalous transactions but only 15.2% recall.\n",
        "- What is probably occurring, now that we're applying regularization, is that the model is looking at the `Flagged` feature and seeing that it is such a good predictor (perfect in fact), that it's \"reasoning\" that it can get a pretty good AUPRC score with just that feature and reducing the weights of the other features. Those 116 correctly classified anomalous features are likely the ones that are flagged. Let's move on to another model type."
      ],
      "metadata": {
        "id": "wOyJ8wYAC9cM"
      }
    },
    {
      "cell_type": "markdown",
      "source": [
        "<br>"
      ],
      "metadata": {
        "id": "9ebpoGY2-Xfk"
      }
    },
    {
      "cell_type": "markdown",
      "source": [
        "# Model 2.1: **Support Vector Classifier** with Adjusted Weights and Tuned Max Iterations\n",
        "\n",
        "For our first support vector classifier, we'll try tinkering with the weights assigned to the classes. We'll adjust the negative class weight to 0.1, meaning we reduce the \"importance\" of negative target class observations by a factor of 10.\n",
        "\n",
        "We'll also grid search over this newly weighted dataset with adjusted max iterations."
      ],
      "metadata": {
        "id": "HSRbXJd4HV67"
      }
    },
    {
      "cell_type": "code",
      "source": [
        "train_df_numeric = set_weight_col(train_df_numeric, label_col='Anomalous', neg_class_weight=0.1)\n",
        "\n",
        "# Preview Weight column\n",
        "cols_to_show = ['Anomalous', 'Weight']\n",
        "train_df_numeric.select(cols_to_show).where(train_df_numeric.Anomalous == 0).show(1, truncate=False, vertical=True)\n",
        "train_df_numeric.select(cols_to_show).where(train_df_numeric.Anomalous == 1).show(1, truncate=False, vertical=True)"
      ],
      "metadata": {
        "colab": {
          "base_uri": "https://localhost:8080/",
          "height": 196
        },
        "id": "42YhL7DE2xNM",
        "outputId": "c255d6b2-bdf5-4aaf-dd4f-73efcceecc1d"
      },
      "execution_count": 46,
      "outputs": [
        {
          "output_type": "display_data",
          "data": {
            "text/plain": [
              "<IPython.core.display.HTML object>"
            ],
            "text/html": [
              "\n",
              "    <style>\n",
              "      pre {\n",
              "          white-space: pre-wrap;\n",
              "      }\n",
              "    </style>\n",
              "    "
            ]
          },
          "metadata": {}
        },
        {
          "output_type": "stream",
          "name": "stdout",
          "text": [
            "-RECORD 0--------\n",
            " Anomalous | 0   \n",
            " Weight    | 0.1 \n",
            "only showing top 1 row\n",
            "\n",
            "-RECORD 0--------\n",
            " Anomalous | 1   \n",
            " Weight    | 1.0 \n",
            "only showing top 1 row\n",
            "\n"
          ]
        }
      ]
    },
    {
      "cell_type": "code",
      "source": [
        "svc_1 = LinearSVC(\n",
        "    featuresCol='scaled_features',\n",
        "    labelCol='Anomalous',\n",
        "    weightCol='Weight',\n",
        "    standardization=False)\n",
        "\n",
        "svc_1_stages = stages + [svc_1]\n",
        "\n",
        "# Specify parameter grid\n",
        "svc_1_grid = ParamGridBuilder()\\\n",
        "            .addGrid(svc_1.maxIter, [100, 150, 200])\\\n",
        "            .build()"
      ],
      "metadata": {
        "colab": {
          "base_uri": "https://localhost:8080/",
          "height": 17
        },
        "id": "ozsT9loKHWmj",
        "outputId": "26b9ee9c-b5ab-4a7b-88e1-18c43be15aab"
      },
      "execution_count": 47,
      "outputs": [
        {
          "output_type": "display_data",
          "data": {
            "text/plain": [
              "<IPython.core.display.HTML object>"
            ],
            "text/html": [
              "\n",
              "    <style>\n",
              "      pre {\n",
              "          white-space: pre-wrap;\n",
              "      }\n",
              "    </style>\n",
              "    "
            ]
          },
          "metadata": {}
        }
      ]
    },
    {
      "cell_type": "code",
      "source": [
        "# Run grid search using grid_search function\n",
        "%%time\n",
        "if not os.path.isdir(drive_path + 'svc_1_model'):\n",
        "    svc_1_model = grid_search(stages_with_classifier=svc_1_stages, \n",
        "                              train_df=train_df_numeric, \n",
        "                              model_grid=svc_1_grid, \n",
        "                              parallelism=3)"
      ],
      "metadata": {
        "colab": {
          "base_uri": "https://localhost:8080/",
          "height": 53
        },
        "id": "DwvtKpftHWxq",
        "outputId": "9ea006d8-eeaa-422e-ea66-b87c18059920"
      },
      "execution_count": 48,
      "outputs": [
        {
          "output_type": "display_data",
          "data": {
            "text/plain": [
              "<IPython.core.display.HTML object>"
            ],
            "text/html": [
              "\n",
              "    <style>\n",
              "      pre {\n",
              "          white-space: pre-wrap;\n",
              "      }\n",
              "    </style>\n",
              "    "
            ]
          },
          "metadata": {}
        },
        {
          "output_type": "stream",
          "name": "stdout",
          "text": [
            "CPU times: user 513 µs, sys: 20 µs, total: 533 µs\n",
            "Wall time: 486 µs\n"
          ]
        }
      ]
    },
    {
      "cell_type": "code",
      "source": [
        "# Save model, or upload if already saved\n",
        "if not os.path.isdir(drive_path + 'svc_1_model'):\n",
        "    svc_1_model.save(drive_path + 'svc_1_model')\n",
        "else:\n",
        "    svc_1_model = TrainValidationSplitModel.load(drive_path + 'svc_1_model')\n",
        "    print(svc_1_grid[np.argmax(svc_1_model.validationMetrics)])"
      ],
      "metadata": {
        "colab": {
          "base_uri": "https://localhost:8080/",
          "height": 35
        },
        "id": "E6D5I46NHW8e",
        "outputId": "fefd9177-109d-42fe-cab3-a2885b3b1c2d"
      },
      "execution_count": 49,
      "outputs": [
        {
          "output_type": "display_data",
          "data": {
            "text/plain": [
              "<IPython.core.display.HTML object>"
            ],
            "text/html": [
              "\n",
              "    <style>\n",
              "      pre {\n",
              "          white-space: pre-wrap;\n",
              "      }\n",
              "    </style>\n",
              "    "
            ]
          },
          "metadata": {}
        },
        {
          "output_type": "stream",
          "name": "stdout",
          "text": [
            "{Param(parent='LinearSVC_76bfca614b1b', name='maxIter', doc='max number of iterations (>= 0).'): 100}\n"
          ]
        }
      ]
    },
    {
      "cell_type": "code",
      "source": [
        "# Print model scores\n",
        "score_model(svc_1_model, train_df_numeric, test_df_numeric)"
      ],
      "metadata": {
        "colab": {
          "base_uri": "https://localhost:8080/",
          "height": 499
        },
        "id": "LF19jLi_HXGW",
        "outputId": "53836712-00f7-40ed-83e6-731020b1ec2e"
      },
      "execution_count": 50,
      "outputs": [
        {
          "output_type": "display_data",
          "data": {
            "text/plain": [
              "<IPython.core.display.HTML object>"
            ],
            "text/html": [
              "\n",
              "    <style>\n",
              "      pre {\n",
              "          white-space: pre-wrap;\n",
              "      }\n",
              "    </style>\n",
              "    "
            ]
          },
          "metadata": {}
        },
        {
          "output_type": "stream",
          "name": "stdout",
          "text": [
            "LinearSVCModel\n",
            "-------------- \n",
            "\n",
            "Training data:\n",
            "\n",
            "                  precision    recall  f1-score   support\n",
            "\n",
            "0: Non-anomalous      0.999     1.000     1.000   4686825\n",
            "    1: Anomalous      1.000     0.186     0.314      4900\n",
            "\n",
            "        accuracy                          0.999   4691725\n",
            "       macro avg      1.000     0.593     0.657   4691725\n",
            "    weighted avg      0.999     0.999     0.999   4691725\n",
            "\n",
            "------------------------------------------------------------ \n",
            "\n",
            "Testing data:\n",
            "\n",
            "                  precision    recall  f1-score   support\n",
            "\n",
            "0: Non-anomalous      0.999     1.000     1.000    704347\n",
            "    1: Anomalous      1.000     0.152     0.265       761\n",
            "\n",
            "        accuracy                          0.999    705108\n",
            "       macro avg      1.000     0.576     0.632    705108\n",
            "    weighted avg      0.999     0.999     0.999    705108\n",
            "\n"
          ]
        }
      ]
    },
    {
      "cell_type": "code",
      "source": [
        "# Plot model confusion matrix\n",
        "plot_confusion_matrix(svc_1_model, test_df_numeric)"
      ],
      "metadata": {
        "colab": {
          "base_uri": "https://localhost:8080/",
          "height": 465
        },
        "id": "wk4cmtfmHXP5",
        "outputId": "92a72849-eb96-45ab-ca0c-f7e9a4199470"
      },
      "execution_count": 51,
      "outputs": [
        {
          "output_type": "display_data",
          "data": {
            "text/plain": [
              "<IPython.core.display.HTML object>"
            ],
            "text/html": [
              "\n",
              "    <style>\n",
              "      pre {\n",
              "          white-space: pre-wrap;\n",
              "      }\n",
              "    </style>\n",
              "    "
            ]
          },
          "metadata": {}
        },
        {
          "output_type": "display_data",
          "data": {
            "text/plain": [
              "<Figure size 1296x504 with 2 Axes>"
            ],
            "image/png": "[encoded data removed]"
          },
          "metadata": {
            "image/png": {
              "width": 643,
              "height": 448
            },
            "needs_background": "light"
          }
        }
      ]
    },
    {
      "cell_type": "markdown",
      "source": [
        "**Remarks:**\n",
        "- It looks like the SVC model is doing the same thing the last logistic regression model is doing. Let's try adjusting the threshold down a bit to see if we can do a bit better on the recall score with anomalous transactions."
      ],
      "metadata": {
        "id": "zaIuyON1mQpv"
      }
    },
    {
      "cell_type": "markdown",
      "source": [
        "<br>"
      ],
      "metadata": {
        "id": "1wi2yOHvmSJm"
      }
    },
    {
      "cell_type": "markdown",
      "source": [
        "# Model 2.2: **Support Vector Classifier** with Tuned Threshold\n",
        "\n",
        "On the previous three models we've been getting perfect precision, but we're stuck at a mediocre 15.2% recall. We'll now return to the classification threshold hyperparameter to see if we can raise the recall score to achieve a better F1-score. We'll also raise the negative class weight a bit to 0.5."
      ],
      "metadata": {
        "id": "wfJJWmPZmWLZ"
      }
    },
    {
      "cell_type": "code",
      "source": [
        "train_df_numeric = set_weight_col(train_df_numeric, label_col='Anomalous', neg_class_weight=0.5)\n",
        "\n",
        "# Preview Weight column\n",
        "cols_to_show = ['Anomalous', 'Weight']\n",
        "train_df_numeric.select(cols_to_show).where(train_df_numeric.Anomalous == 0).show(1, truncate=False, vertical=True)\n",
        "train_df_numeric.select(cols_to_show).where(train_df_numeric.Anomalous == 1).show(1, truncate=False, vertical=True)"
      ],
      "metadata": {
        "colab": {
          "base_uri": "https://localhost:8080/",
          "height": 196
        },
        "id": "lOysUa8rcG5A",
        "outputId": "48887944-59e4-4731-f252-d2ff9f3a45c1"
      },
      "execution_count": 52,
      "outputs": [
        {
          "output_type": "display_data",
          "data": {
            "text/plain": [
              "<IPython.core.display.HTML object>"
            ],
            "text/html": [
              "\n",
              "    <style>\n",
              "      pre {\n",
              "          white-space: pre-wrap;\n",
              "      }\n",
              "    </style>\n",
              "    "
            ]
          },
          "metadata": {}
        },
        {
          "output_type": "stream",
          "name": "stdout",
          "text": [
            "-RECORD 0--------\n",
            " Anomalous | 0   \n",
            " Weight    | 0.5 \n",
            "only showing top 1 row\n",
            "\n",
            "-RECORD 0--------\n",
            " Anomalous | 1   \n",
            " Weight    | 1.0 \n",
            "only showing top 1 row\n",
            "\n"
          ]
        }
      ]
    },
    {
      "cell_type": "code",
      "source": [
        "svc_2 = LinearSVC(\n",
        "    featuresCol='scaled_features',\n",
        "    labelCol='Anomalous',\n",
        "    weightCol='Weight',\n",
        "    standardization=False)\n",
        "\n",
        "svc_2_stages = stages + [svc_2]\n",
        "\n",
        "# Specify parameter grid\n",
        "svc_2_grid = ParamGridBuilder()\\\n",
        "            .addGrid(svc_2.threshold, [0.05, 0.1, 0.15, 0.2])\\\n",
        "            .build()"
      ],
      "metadata": {
        "colab": {
          "base_uri": "https://localhost:8080/",
          "height": 17
        },
        "id": "4xqmX1azsquc",
        "outputId": "969ca032-195f-4173-9139-78c8c64b4e44"
      },
      "execution_count": 53,
      "outputs": [
        {
          "output_type": "display_data",
          "data": {
            "text/plain": [
              "<IPython.core.display.HTML object>"
            ],
            "text/html": [
              "\n",
              "    <style>\n",
              "      pre {\n",
              "          white-space: pre-wrap;\n",
              "      }\n",
              "    </style>\n",
              "    "
            ]
          },
          "metadata": {}
        }
      ]
    },
    {
      "cell_type": "code",
      "source": [
        "# Run grid search using grid_search function\n",
        "if not os.path.isdir(drive_path + 'svc_2_model'):\n",
        "    svc_2_model = grid_search(stages_with_classifier=svc_2_stages, \n",
        "                              train_df=train_df_numeric, \n",
        "                              model_grid=svc_2_grid, \n",
        "                              parallelism=4)"
      ],
      "metadata": {
        "colab": {
          "base_uri": "https://localhost:8080/",
          "height": 17
        },
        "id": "HgLgMAGjwJie",
        "outputId": "79a16d69-634d-4667-e555-23644ea95cd0"
      },
      "execution_count": 54,
      "outputs": [
        {
          "output_type": "display_data",
          "data": {
            "text/plain": [
              "<IPython.core.display.HTML object>"
            ],
            "text/html": [
              "\n",
              "    <style>\n",
              "      pre {\n",
              "          white-space: pre-wrap;\n",
              "      }\n",
              "    </style>\n",
              "    "
            ]
          },
          "metadata": {}
        }
      ]
    },
    {
      "cell_type": "code",
      "source": [
        "# Save model, or upload if already saved\n",
        "if not os.path.isdir(drive_path + 'svc_2_model'):\n",
        "    svc_2_model.save(drive_path + 'svc_2_model')\n",
        "else:\n",
        "    svc_2_model = TrainValidationSplitModel.load(drive_path + 'svc_2_model')\n",
        "    print(svc_2_grid[np.argmax(svc_2_model.validationMetrics)])"
      ],
      "metadata": {
        "colab": {
          "base_uri": "https://localhost:8080/",
          "height": 53
        },
        "id": "kqgxy6_7wJ2W",
        "outputId": "89cee1cc-c1f1-4ae0-cc1f-4a6b8a3d2c04"
      },
      "execution_count": 55,
      "outputs": [
        {
          "output_type": "display_data",
          "data": {
            "text/plain": [
              "<IPython.core.display.HTML object>"
            ],
            "text/html": [
              "\n",
              "    <style>\n",
              "      pre {\n",
              "          white-space: pre-wrap;\n",
              "      }\n",
              "    </style>\n",
              "    "
            ]
          },
          "metadata": {}
        },
        {
          "output_type": "stream",
          "name": "stdout",
          "text": [
            "{Param(parent='LinearSVC_d773c76989f2', name='threshold', doc='The threshold in binary classification applied to the linear model prediction.  This threshold can be any real number, where Inf will make all predictions 0.0 and -Inf will make all predictions 1.0.'): 0.05}\n"
          ]
        }
      ]
    },
    {
      "cell_type": "code",
      "source": [
        "# Print model scores\n",
        "score_model(svc_2_model, train_df_numeric, test_df_numeric)"
      ],
      "metadata": {
        "colab": {
          "base_uri": "https://localhost:8080/",
          "height": 499
        },
        "id": "gqeoGvSS9-yJ",
        "outputId": "fe467260-7b6b-4f98-f141-3f1060e9274e"
      },
      "execution_count": 56,
      "outputs": [
        {
          "output_type": "display_data",
          "data": {
            "text/plain": [
              "<IPython.core.display.HTML object>"
            ],
            "text/html": [
              "\n",
              "    <style>\n",
              "      pre {\n",
              "          white-space: pre-wrap;\n",
              "      }\n",
              "    </style>\n",
              "    "
            ]
          },
          "metadata": {}
        },
        {
          "output_type": "stream",
          "name": "stdout",
          "text": [
            "LinearSVCModel\n",
            "-------------- \n",
            "\n",
            "Training data:\n",
            "\n",
            "                  precision    recall  f1-score   support\n",
            "\n",
            "0: Non-anomalous      0.999     1.000     1.000   4686825\n",
            "    1: Anomalous      1.000     0.186     0.314      4900\n",
            "\n",
            "        accuracy                          0.999   4691725\n",
            "       macro avg      1.000     0.593     0.657   4691725\n",
            "    weighted avg      0.999     0.999     0.999   4691725\n",
            "\n",
            "------------------------------------------------------------ \n",
            "\n",
            "Testing data:\n",
            "\n",
            "                  precision    recall  f1-score   support\n",
            "\n",
            "0: Non-anomalous      0.999     1.000     1.000    704347\n",
            "    1: Anomalous      1.000     0.152     0.265       761\n",
            "\n",
            "        accuracy                          0.999    705108\n",
            "       macro avg      1.000     0.576     0.632    705108\n",
            "    weighted avg      0.999     0.999     0.999    705108\n",
            "\n"
          ]
        }
      ]
    },
    {
      "cell_type": "code",
      "source": [
        "# Plot model confusion matrix\n",
        "plot_confusion_matrix(svc_2_model, test_df_numeric)"
      ],
      "metadata": {
        "colab": {
          "base_uri": "https://localhost:8080/",
          "height": 465
        },
        "id": "V3whJJwA9_F_",
        "outputId": "d3adaf28-b896-4379-d166-6d34f32ee485"
      },
      "execution_count": 57,
      "outputs": [
        {
          "output_type": "display_data",
          "data": {
            "text/plain": [
              "<IPython.core.display.HTML object>"
            ],
            "text/html": [
              "\n",
              "    <style>\n",
              "      pre {\n",
              "          white-space: pre-wrap;\n",
              "      }\n",
              "    </style>\n",
              "    "
            ]
          },
          "metadata": {}
        },
        {
          "output_type": "display_data",
          "data": {
            "text/plain": [
              "<Figure size 1296x504 with 2 Axes>"
            ],
            "image/png": "[encoded data removed]"
          },
          "metadata": {
            "image/png": {
              "width": 643,
              "height": 448
            },
            "needs_background": "light"
          }
        }
      ]
    },
    {
      "cell_type": "markdown",
      "source": [
        "**Remarks:**\n",
        "- We're still stuck with the same 0.265 F-1 score on the testing. This is proving difficult to beat. Let's move on to a new classifier."
      ],
      "metadata": {
        "id": "rmPk0LR-gsSx"
      }
    },
    {
      "cell_type": "markdown",
      "source": [
        "<br>"
      ],
      "metadata": {
        "id": "-pabdzMvA6Zz"
      }
    },
    {
      "cell_type": "markdown",
      "source": [
        "# Model 3.1: **Naive Bayes Classifier** with Adjusted Weights\n",
        "\n",
        "For our next model, we'll move on to a naive Bayes classifier. There are not too many hyperparameters to tune, so we'll only adjsut the model type between (multinomial and gaussian). We'll also try reducing the weight of the negative class even further, to 0.01."
      ],
      "metadata": {
        "id": "OXkOQSlRgR_i"
      }
    },
    {
      "cell_type": "code",
      "source": [
        "train_df_numeric = set_weight_col(train_df_numeric, label_col='Anomalous', neg_class_weight=0.01)\n",
        "\n",
        "# Preview Weight column\n",
        "cols_to_show = ['Anomalous', 'Weight']\n",
        "train_df_numeric.select(cols_to_show).where(train_df_numeric.Anomalous == 0).show(1, truncate=False, vertical=True)\n",
        "train_df_numeric.select(cols_to_show).where(train_df_numeric.Anomalous == 1).show(1, truncate=False, vertical=True)"
      ],
      "metadata": {
        "colab": {
          "base_uri": "https://localhost:8080/",
          "height": 196
        },
        "id": "rbz5P4zahpVG",
        "outputId": "d5611023-8565-4dd3-a763-da95336478cd"
      },
      "execution_count": 58,
      "outputs": [
        {
          "output_type": "display_data",
          "data": {
            "text/plain": [
              "<IPython.core.display.HTML object>"
            ],
            "text/html": [
              "\n",
              "    <style>\n",
              "      pre {\n",
              "          white-space: pre-wrap;\n",
              "      }\n",
              "    </style>\n",
              "    "
            ]
          },
          "metadata": {}
        },
        {
          "output_type": "stream",
          "name": "stdout",
          "text": [
            "-RECORD 0---------\n",
            " Anomalous | 0    \n",
            " Weight    | 0.01 \n",
            "only showing top 1 row\n",
            "\n",
            "-RECORD 0--------\n",
            " Anomalous | 1   \n",
            " Weight    | 1.0 \n",
            "only showing top 1 row\n",
            "\n"
          ]
        }
      ]
    },
    {
      "cell_type": "code",
      "source": [
        "nb_1 = NaiveBayes(\n",
        "    featuresCol='scaled_features',\n",
        "    labelCol='Anomalous',\n",
        "    weightCol='Weight')\n",
        "\n",
        "nb_1_stages = stages + [nb_1]\n",
        "\n",
        "# Specify parameter grid\n",
        "nb_1_grid = ParamGridBuilder()\\\n",
        "            .addGrid(nb_1.modelType, ['multinomial', 'gaussian'])\\\n",
        "            .build()"
      ],
      "metadata": {
        "colab": {
          "base_uri": "https://localhost:8080/",
          "height": 17
        },
        "id": "m2RRKsL8gSXB",
        "outputId": "94d489ad-d725-4e8f-dccc-6b99cd68f5c9"
      },
      "execution_count": 59,
      "outputs": [
        {
          "output_type": "display_data",
          "data": {
            "text/plain": [
              "<IPython.core.display.HTML object>"
            ],
            "text/html": [
              "\n",
              "    <style>\n",
              "      pre {\n",
              "          white-space: pre-wrap;\n",
              "      }\n",
              "    </style>\n",
              "    "
            ]
          },
          "metadata": {}
        }
      ]
    },
    {
      "cell_type": "code",
      "source": [
        "# Run grid search using grid_search function\n",
        "if not os.path.isdir(drive_path + 'nb_1_model'):\n",
        "    nb_1_model = grid_search(stages_with_classifier=nb_1_stages, \n",
        "                             train_df=train_df_numeric, \n",
        "                             model_grid=nb_1_grid, \n",
        "                             parallelism=2)"
      ],
      "metadata": {
        "colab": {
          "base_uri": "https://localhost:8080/",
          "height": 17
        },
        "id": "cFpnlcWGgSp8",
        "outputId": "47d2afdb-d428-4c61-a728-4292557dfe43"
      },
      "execution_count": 60,
      "outputs": [
        {
          "output_type": "display_data",
          "data": {
            "text/plain": [
              "<IPython.core.display.HTML object>"
            ],
            "text/html": [
              "\n",
              "    <style>\n",
              "      pre {\n",
              "          white-space: pre-wrap;\n",
              "      }\n",
              "    </style>\n",
              "    "
            ]
          },
          "metadata": {}
        }
      ]
    },
    {
      "cell_type": "code",
      "source": [
        "# Save model, or upload if already saved\n",
        "if not os.path.isdir(drive_path + 'nb_1_model'):\n",
        "    nb_1_model.save(drive_path + 'nb_1_model')\n",
        "else:\n",
        "    nb_1_model = TrainValidationSplitModel.load(drive_path + 'nb_1_model')\n",
        "    print(nb_1_grid[np.argmax(nb_1_model.validationMetrics)])"
      ],
      "metadata": {
        "colab": {
          "base_uri": "https://localhost:8080/",
          "height": 53
        },
        "id": "40TAV6LKgS7Q",
        "outputId": "0faed5ee-4da6-4d2d-de5e-25bd1ead2fb6"
      },
      "execution_count": 61,
      "outputs": [
        {
          "output_type": "display_data",
          "data": {
            "text/plain": [
              "<IPython.core.display.HTML object>"
            ],
            "text/html": [
              "\n",
              "    <style>\n",
              "      pre {\n",
              "          white-space: pre-wrap;\n",
              "      }\n",
              "    </style>\n",
              "    "
            ]
          },
          "metadata": {}
        },
        {
          "output_type": "stream",
          "name": "stdout",
          "text": [
            "{Param(parent='NaiveBayes_17d65b665d7c', name='modelType', doc='The model type which is a string (case-sensitive). Supported options: multinomial (default), bernoulli and gaussian.'): 'gaussian'}\n"
          ]
        }
      ]
    },
    {
      "cell_type": "code",
      "source": [
        "# Print model scores\n",
        "score_model(nb_1_model, train_df_numeric, test_df_numeric)"
      ],
      "metadata": {
        "colab": {
          "base_uri": "https://localhost:8080/",
          "height": 499
        },
        "id": "rDLE1trOiUAp",
        "outputId": "2384d10e-d738-40ae-a144-cef9e5edb5cd"
      },
      "execution_count": 62,
      "outputs": [
        {
          "output_type": "display_data",
          "data": {
            "text/plain": [
              "<IPython.core.display.HTML object>"
            ],
            "text/html": [
              "\n",
              "    <style>\n",
              "      pre {\n",
              "          white-space: pre-wrap;\n",
              "      }\n",
              "    </style>\n",
              "    "
            ]
          },
          "metadata": {}
        },
        {
          "output_type": "stream",
          "name": "stdout",
          "text": [
            "NaiveBayesModel\n",
            "--------------- \n",
            "\n",
            "Training data:\n",
            "\n",
            "                  precision    recall  f1-score   support\n",
            "\n",
            "0: Non-anomalous      0.999     0.986     0.993   4686825\n",
            "    1: Anomalous      0.016     0.222     0.031      4900\n",
            "\n",
            "        accuracy                          0.985   4691725\n",
            "       macro avg      0.508     0.604     0.512   4691725\n",
            "    weighted avg      0.998     0.985     0.992   4691725\n",
            "\n",
            "------------------------------------------------------------ \n",
            "\n",
            "Testing data:\n",
            "\n",
            "                  precision    recall  f1-score   support\n",
            "\n",
            "0: Non-anomalous      0.999     0.986     0.993    704347\n",
            "    1: Anomalous      0.014     0.180     0.026       761\n",
            "\n",
            "        accuracy                          0.985    705108\n",
            "       macro avg      0.506     0.583     0.509    705108\n",
            "    weighted avg      0.998     0.985     0.992    705108\n",
            "\n"
          ]
        }
      ]
    },
    {
      "cell_type": "code",
      "source": [
        "# Plot model confusion matrix\n",
        "plot_confusion_matrix(nb_1_model, test_df_numeric)"
      ],
      "metadata": {
        "colab": {
          "base_uri": "https://localhost:8080/",
          "height": 465
        },
        "id": "AEJZDX8jigZr",
        "outputId": "83cbb743-b325-4c64-fe72-1ad52c7fe323"
      },
      "execution_count": 63,
      "outputs": [
        {
          "output_type": "display_data",
          "data": {
            "text/plain": [
              "<IPython.core.display.HTML object>"
            ],
            "text/html": [
              "\n",
              "    <style>\n",
              "      pre {\n",
              "          white-space: pre-wrap;\n",
              "      }\n",
              "    </style>\n",
              "    "
            ]
          },
          "metadata": {}
        },
        {
          "output_type": "display_data",
          "data": {
            "text/plain": [
              "<Figure size 1296x504 with 2 Axes>"
            ],
            "image/png": "[encoded data removed]"
          },
          "metadata": {
            "image/png": {
              "width": 643,
              "height": 448
            },
            "needs_background": "light"
          }
        }
      ]
    },
    {
      "cell_type": "markdown",
      "source": [
        "**Remarks:**\n",
        "- Well the F1-score dropped quite a bit, likely from reducing the class weights of the negatie class as much as we did. But it sure is nice to see something new for a change. We didn't get much improvement in recall for all those false positives though, improving from .152 to 0.180. Let's move on to a decision tree classifier."
      ],
      "metadata": {
        "id": "PQh8pBF2iioi"
      }
    },
    {
      "cell_type": "markdown",
      "source": [
        "<br>"
      ],
      "metadata": {
        "id": "fp36GqREilG7"
      }
    },
    {
      "cell_type": "markdown",
      "source": [
        "# Model 4.1: **Decision Tree Classifier** with Tuned Max Depth\n",
        "\n",
        "For our decision tree model, we'll raise the negative class weight a bit, but not too much, to 0.1. Hopefully we can raise the recall score on anomalous transactions without getting too many false positives like we did with the naive Bayes classifier.\n",
        "\n",
        "We'll grid search over the maximum depth of the decision tree. Given the nature of decision trees to be able to pick up non-linear relationships in data, which is something the previous three classifiers are not particularly good at, hopefully we'll be able to raise our F1-score above the .265 score we've been stuck on."
      ],
      "metadata": {
        "id": "fOBoQxaXmlxG"
      }
    },
    {
      "cell_type": "code",
      "source": [
        "train_df_numeric = set_weight_col(train_df_numeric, label_col='Anomalous', neg_class_weight=0.1)\n",
        "\n",
        "# Preview Weight column\n",
        "cols_to_show = ['Anomalous', 'Weight']\n",
        "train_df_numeric.select(cols_to_show).where(train_df_numeric.Anomalous == 0).show(1, truncate=False, vertical=True)\n",
        "train_df_numeric.select(cols_to_show).where(train_df_numeric.Anomalous == 1).show(1, truncate=False, vertical=True)"
      ],
      "metadata": {
        "colab": {
          "base_uri": "https://localhost:8080/",
          "height": 196
        },
        "id": "Ye2J1gOOm6gM",
        "outputId": "c672d673-0a51-41db-8890-ccacbd097f5b"
      },
      "execution_count": 64,
      "outputs": [
        {
          "output_type": "display_data",
          "data": {
            "text/plain": [
              "<IPython.core.display.HTML object>"
            ],
            "text/html": [
              "\n",
              "    <style>\n",
              "      pre {\n",
              "          white-space: pre-wrap;\n",
              "      }\n",
              "    </style>\n",
              "    "
            ]
          },
          "metadata": {}
        },
        {
          "output_type": "stream",
          "name": "stdout",
          "text": [
            "-RECORD 0--------\n",
            " Anomalous | 0   \n",
            " Weight    | 0.1 \n",
            "only showing top 1 row\n",
            "\n",
            "-RECORD 0--------\n",
            " Anomalous | 1   \n",
            " Weight    | 1.0 \n",
            "only showing top 1 row\n",
            "\n"
          ]
        }
      ]
    },
    {
      "cell_type": "code",
      "source": [
        "dt_1 = DecisionTreeClassifier(\n",
        "    featuresCol='scaled_features',\n",
        "    labelCol='Anomalous',\n",
        "    weightCol='Weight')\n",
        "\n",
        "dt_1_stages = stages + [dt_1]\n",
        "\n",
        "# Specify parameter grid\n",
        "dt_1_grid = ParamGridBuilder()\\\n",
        "            .addGrid(dt_1.maxDepth, [4, 5, 6])\\\n",
        "            .build()"
      ],
      "metadata": {
        "colab": {
          "base_uri": "https://localhost:8080/",
          "height": 17
        },
        "id": "rfTJBVqQm_5d",
        "outputId": "4ffc59a6-3d96-42fc-f079-aad24fcd85a6"
      },
      "execution_count": 65,
      "outputs": [
        {
          "output_type": "display_data",
          "data": {
            "text/plain": [
              "<IPython.core.display.HTML object>"
            ],
            "text/html": [
              "\n",
              "    <style>\n",
              "      pre {\n",
              "          white-space: pre-wrap;\n",
              "      }\n",
              "    </style>\n",
              "    "
            ]
          },
          "metadata": {}
        }
      ]
    },
    {
      "cell_type": "code",
      "source": [
        "# Run grid search using grid_search function\n",
        "if not os.path.isdir(drive_path + 'dt_1_model'):\n",
        "    dt_1_model = grid_search(stages_with_classifier=dt_1_stages, \n",
        "                             train_df=train_df_numeric, \n",
        "                             model_grid=dt_1_grid, \n",
        "                             parallelism=3)"
      ],
      "metadata": {
        "colab": {
          "base_uri": "https://localhost:8080/",
          "height": 17
        },
        "id": "Ociv04zipAuz",
        "outputId": "386771d2-ff27-4353-a8fa-6a48d76ea91b"
      },
      "execution_count": 66,
      "outputs": [
        {
          "output_type": "display_data",
          "data": {
            "text/plain": [
              "<IPython.core.display.HTML object>"
            ],
            "text/html": [
              "\n",
              "    <style>\n",
              "      pre {\n",
              "          white-space: pre-wrap;\n",
              "      }\n",
              "    </style>\n",
              "    "
            ]
          },
          "metadata": {}
        }
      ]
    },
    {
      "cell_type": "code",
      "source": [
        "# Save model, or upload if already saved\n",
        "if not os.path.isdir(drive_path + 'dt_1_model'):\n",
        "    dt_1_model.save(drive_path + 'dt_1_model')\n",
        "else:\n",
        "    dt_1_model = TrainValidationSplitModel.load(drive_path + 'dt_1_model')\n",
        "    print(dt_1_grid[np.argmax(dt_1_model.validationMetrics)])"
      ],
      "metadata": {
        "colab": {
          "base_uri": "https://localhost:8080/",
          "height": 53
        },
        "id": "wyFmXwL5pM4i",
        "outputId": "4f35a7b9-ea01-4b7d-9112-91dd82e266d6"
      },
      "execution_count": 67,
      "outputs": [
        {
          "output_type": "display_data",
          "data": {
            "text/plain": [
              "<IPython.core.display.HTML object>"
            ],
            "text/html": [
              "\n",
              "    <style>\n",
              "      pre {\n",
              "          white-space: pre-wrap;\n",
              "      }\n",
              "    </style>\n",
              "    "
            ]
          },
          "metadata": {}
        },
        {
          "output_type": "stream",
          "name": "stdout",
          "text": [
            "{Param(parent='DecisionTreeClassifier_a95f3df0a46b', name='maxDepth', doc='Maximum depth of the tree. (>= 0) E.g., depth 0 means 1 leaf node; depth 1 means 1 internal node + 2 leaf nodes. Must be in range [0, 30].'): 4}\n"
          ]
        }
      ]
    },
    {
      "cell_type": "code",
      "source": [
        "# Print model scores\n",
        "score_model(dt_1_model, train_df_numeric, test_df_numeric)"
      ],
      "metadata": {
        "colab": {
          "base_uri": "https://localhost:8080/",
          "height": 499
        },
        "id": "A8t8FE_Wpi-s",
        "outputId": "5604a9e2-1720-4aa3-abd6-2a9cb4f9aaf9"
      },
      "execution_count": 68,
      "outputs": [
        {
          "output_type": "display_data",
          "data": {
            "text/plain": [
              "<IPython.core.display.HTML object>"
            ],
            "text/html": [
              "\n",
              "    <style>\n",
              "      pre {\n",
              "          white-space: pre-wrap;\n",
              "      }\n",
              "    </style>\n",
              "    "
            ]
          },
          "metadata": {}
        },
        {
          "output_type": "stream",
          "name": "stdout",
          "text": [
            "DecisionTreeClassificationModel\n",
            "------------------------------- \n",
            "\n",
            "Training data:\n",
            "\n",
            "                  precision    recall  f1-score   support\n",
            "\n",
            "0: Non-anomalous      0.999     1.000     1.000   4686825\n",
            "    1: Anomalous      1.000     0.406     0.577      4900\n",
            "\n",
            "        accuracy                          0.999   4691725\n",
            "       macro avg      1.000     0.703     0.788   4691725\n",
            "    weighted avg      0.999     0.999     0.999   4691725\n",
            "\n",
            "------------------------------------------------------------ \n",
            "\n",
            "Testing data:\n",
            "\n",
            "                  precision    recall  f1-score   support\n",
            "\n",
            "0: Non-anomalous      0.999     1.000     1.000    704347\n",
            "    1: Anomalous      1.000     0.384     0.555       761\n",
            "\n",
            "        accuracy                          0.999    705108\n",
            "       macro avg      1.000     0.692     0.777    705108\n",
            "    weighted avg      0.999     0.999     0.999    705108\n",
            "\n"
          ]
        }
      ]
    },
    {
      "cell_type": "code",
      "source": [
        "# Plot model confusion matrix\n",
        "plot_confusion_matrix(dt_1_model, test_df_numeric)"
      ],
      "metadata": {
        "colab": {
          "base_uri": "https://localhost:8080/",
          "height": 465
        },
        "id": "n3MHN303pjhD",
        "outputId": "9ead40d8-1fe5-4b1c-99d5-25807e923632"
      },
      "execution_count": 69,
      "outputs": [
        {
          "output_type": "display_data",
          "data": {
            "text/plain": [
              "<IPython.core.display.HTML object>"
            ],
            "text/html": [
              "\n",
              "    <style>\n",
              "      pre {\n",
              "          white-space: pre-wrap;\n",
              "      }\n",
              "    </style>\n",
              "    "
            ]
          },
          "metadata": {}
        },
        {
          "output_type": "display_data",
          "data": {
            "text/plain": [
              "<Figure size 1296x504 with 2 Axes>"
            ],
            "image/png": "[encoded data removed]"
          },
          "metadata": {
            "image/png": {
              "width": 643,
              "height": 448
            },
            "needs_background": "light"
          }
        }
      ]
    },
    {
      "cell_type": "markdown",
      "source": [
        "**Remarks:**\n",
        "- Now that's what we've been looking for! We've still got perfect precision with anomalous transactions, but our recall improved from 0.152 to 0.384, giving us a big boost in our F1-score to a new high of 0.555 on the testing data. We're classifying correctly 292 out of 761 anomalous transactions correctly now.\n",
        "- There's more tuning we could try with the decision tree classifier, but let's move on to decision-tree based ensemble methods: gradient-boosted tree and random forest classifiers."
      ],
      "metadata": {
        "id": "XfX8-AvCpjwo"
      }
    },
    {
      "cell_type": "markdown",
      "source": [
        "<br>"
      ],
      "metadata": {
        "id": "P6ngEeKNpkCC"
      }
    },
    {
      "cell_type": "markdown",
      "source": [
        "# Model 5.1: **Gradient-Boosted Trees Classifier** with Tuned Max Depth and Feature Subset Strategy\n",
        "\n",
        "For our GBT classifier, we'll keep the 0.1 negative class weight that we used in the previous model. For hyperparameter tuning, we'll try to optimize the maximum depth again, and also the feature subset strategy which is the number of features to consider for splits at each tree node."
      ],
      "metadata": {
        "id": "1apcVMQOpkTB"
      }
    },
    {
      "cell_type": "code",
      "source": [
        "gbt_1 = GBTClassifier(\n",
        "    featuresCol='scaled_features',\n",
        "    labelCol='Anomalous',\n",
        "    weightCol='Weight')\n",
        "\n",
        "gbt_1_stages = stages + [gbt_1]\n",
        "\n",
        "# Specify parameter grid\n",
        "gbt_1_grid = ParamGridBuilder()\\\n",
        "            .addGrid(gbt_1.maxDepth, [3, 4, 5])\\\n",
        "            .addGrid(gbt_1.featureSubsetStrategy, ['auto', '0.5', '0.75'])\\\n",
        "            .build()"
      ],
      "metadata": {
        "colab": {
          "base_uri": "https://localhost:8080/",
          "height": 17
        },
        "id": "B5d3dK-ppkjz",
        "outputId": "22eed516-6c22-405a-8152-366e54b0f67d"
      },
      "execution_count": 74,
      "outputs": [
        {
          "output_type": "display_data",
          "data": {
            "text/plain": [
              "<IPython.core.display.HTML object>"
            ],
            "text/html": [
              "\n",
              "    <style>\n",
              "      pre {\n",
              "          white-space: pre-wrap;\n",
              "      }\n",
              "    </style>\n",
              "    "
            ]
          },
          "metadata": {}
        }
      ]
    },
    {
      "cell_type": "code",
      "source": [
        "# Run grid search using grid_search function\n",
        "if not os.path.isdir(drive_path + 'gbt_1_model'):\n",
        "    gbt_1_model = grid_search(stages_with_classifier=gbt_1_stages, \n",
        "                             train_df=train_df_numeric, \n",
        "                             model_grid=gbt_1_grid, \n",
        "                             parallelism=5)"
      ],
      "metadata": {
        "colab": {
          "base_uri": "https://localhost:8080/",
          "height": 17
        },
        "id": "tlj0F3Awpk1S",
        "outputId": "67eaecf3-3839-4daa-8b71-fd3138f4e13a"
      },
      "execution_count": 75,
      "outputs": [
        {
          "output_type": "display_data",
          "data": {
            "text/plain": [
              "<IPython.core.display.HTML object>"
            ],
            "text/html": [
              "\n",
              "    <style>\n",
              "      pre {\n",
              "          white-space: pre-wrap;\n",
              "      }\n",
              "    </style>\n",
              "    "
            ]
          },
          "metadata": {}
        }
      ]
    },
    {
      "cell_type": "code",
      "source": [
        "# Save model, or upload if already saved\n",
        "if not os.path.isdir(drive_path + 'gbt_1_model'):\n",
        "    gbt_1_model.save(drive_path + 'gbt_1_model')\n",
        "else:\n",
        "    gbt_1_model = TrainValidationSplitModel.load(drive_path + 'gbt_1_model')\n",
        "    print(gbt_1_grid[np.argmax(gbt_1_model.validationMetrics)])"
      ],
      "metadata": {
        "colab": {
          "base_uri": "https://localhost:8080/",
          "height": 124
        },
        "id": "qsqw_fUZplMD",
        "outputId": "8b5ba8c8-bd9b-41e3-865b-42ca97a3201f"
      },
      "execution_count": 76,
      "outputs": [
        {
          "output_type": "display_data",
          "data": {
            "text/plain": [
              "<IPython.core.display.HTML object>"
            ],
            "text/html": [
              "\n",
              "    <style>\n",
              "      pre {\n",
              "          white-space: pre-wrap;\n",
              "      }\n",
              "    </style>\n",
              "    "
            ]
          },
          "metadata": {}
        },
        {
          "output_type": "stream",
          "name": "stdout",
          "text": [
            "{Param(parent='GBTClassifier_9ffe08b2d5cc', name='maxDepth', doc='Maximum depth of the tree. (>= 0) E.g., depth 0 means 1 leaf node; depth 1 means 1 internal node + 2 leaf nodes. Must be in range [0, 30].'): 5, Param(parent='GBTClassifier_9ffe08b2d5cc', name='featureSubsetStrategy', doc=\"The number of features to consider for splits at each tree node. Supported options: 'auto' (choose automatically for task: If numTrees == 1, set to 'all'. If numTrees > 1 (forest), set to 'sqrt' for classification and to 'onethird' for regression), 'all' (use all features), 'onethird' (use 1/3 of the features), 'sqrt' (use sqrt(number of features)), 'log2' (use log2(number of features)), 'n' (when n is in the range (0, 1.0], use n * number of features. When n is in the range (1, number of features), use n features). default = 'auto'\"): 'auto'}\n"
          ]
        }
      ]
    },
    {
      "cell_type": "code",
      "source": [
        "# Print model scores\n",
        "score_model(gbt_1_model, train_df_numeric, test_df_numeric)"
      ],
      "metadata": {
        "colab": {
          "base_uri": "https://localhost:8080/",
          "height": 499
        },
        "id": "c3uMS6KMuciO",
        "outputId": "c636eef8-230a-4ff0-85d6-9c72b91cd02e"
      },
      "execution_count": 77,
      "outputs": [
        {
          "output_type": "display_data",
          "data": {
            "text/plain": [
              "<IPython.core.display.HTML object>"
            ],
            "text/html": [
              "\n",
              "    <style>\n",
              "      pre {\n",
              "          white-space: pre-wrap;\n",
              "      }\n",
              "    </style>\n",
              "    "
            ]
          },
          "metadata": {}
        },
        {
          "output_type": "stream",
          "name": "stdout",
          "text": [
            "GBTClassificationModel\n",
            "---------------------- \n",
            "\n",
            "Training data:\n",
            "\n",
            "                  precision    recall  f1-score   support\n",
            "\n",
            "0: Non-anomalous      1.000     1.000     1.000   4686825\n",
            "    1: Anomalous      0.796     0.581     0.671      4900\n",
            "\n",
            "        accuracy                          0.999   4691725\n",
            "       macro avg      0.898     0.790     0.836   4691725\n",
            "    weighted avg      0.999     0.999     0.999   4691725\n",
            "\n",
            "------------------------------------------------------------ \n",
            "\n",
            "Testing data:\n",
            "\n",
            "                  precision    recall  f1-score   support\n",
            "\n",
            "0: Non-anomalous      0.999     0.939     0.968    704347\n",
            "    1: Anomalous      0.010     0.562     0.019       761\n",
            "\n",
            "        accuracy                          0.939    705108\n",
            "       macro avg      0.505     0.751     0.494    705108\n",
            "    weighted avg      0.998     0.939     0.967    705108\n",
            "\n"
          ]
        }
      ]
    },
    {
      "cell_type": "code",
      "source": [
        "# Plot model confusion matrix\n",
        "plot_confusion_matrix(gbt_1_model, test_df_numeric)"
      ],
      "metadata": {
        "colab": {
          "base_uri": "https://localhost:8080/",
          "height": 465
        },
        "id": "RB_jaOLXucya",
        "outputId": "73307b69-af7d-43f8-8e4e-04c9d19f8c9e"
      },
      "execution_count": 78,
      "outputs": [
        {
          "output_type": "display_data",
          "data": {
            "text/plain": [
              "<IPython.core.display.HTML object>"
            ],
            "text/html": [
              "\n",
              "    <style>\n",
              "      pre {\n",
              "          white-space: pre-wrap;\n",
              "      }\n",
              "    </style>\n",
              "    "
            ]
          },
          "metadata": {}
        },
        {
          "output_type": "display_data",
          "data": {
            "text/plain": [
              "<Figure size 1296x504 with 2 Axes>"
            ],
            "image/png": "[encoded data removed]"
          },
          "metadata": {
            "image/png": {
              "width": 643,
              "height": 448
            },
            "needs_background": "light"
          }
        }
      ]
    },
    {
      "cell_type": "markdown",
      "source": [
        "**Remarks:**\n",
        "- Our recall improved on the testing data to 0.562, which is the highest achieved so far, but at a very high price in terms of reduced precision. Our F1-score dropped to an abysmal 0.019 because of the 0.01 precision score.\n",
        "- Let's try the GBT classifier once more, but with unweighted data this time."
      ],
      "metadata": {
        "id": "WrjSFkURudfN"
      }
    },
    {
      "cell_type": "markdown",
      "source": [
        "<br>"
      ],
      "metadata": {
        "id": "9CXdCxmEudxJ"
      }
    },
    {
      "cell_type": "markdown",
      "source": [
        "# Model 5.2: **Gradient Boosted Trees Classifier** with Unweighted Data"
      ],
      "metadata": {
        "id": "c5rFP3NgBhXa"
      }
    },
    {
      "cell_type": "code",
      "source": [
        "train_df_numeric = set_weight_col(train_df_numeric, label_col='Anomalous', neg_class_weight=1.0)\n",
        "\n",
        "# Preview Weight column\n",
        "cols_to_show = ['Anomalous', 'Weight']\n",
        "train_df_numeric.select(cols_to_show).where(train_df_numeric.Anomalous == 0).show(1, truncate=False, vertical=True)\n",
        "train_df_numeric.select(cols_to_show).where(train_df_numeric.Anomalous == 1).show(1, truncate=False, vertical=True)"
      ],
      "metadata": {
        "colab": {
          "base_uri": "https://localhost:8080/",
          "height": 196
        },
        "id": "MY5Eg3c9AZkc",
        "outputId": "f21a8895-8722-4240-eddd-bbf80db2cde2"
      },
      "execution_count": 79,
      "outputs": [
        {
          "output_type": "display_data",
          "data": {
            "text/plain": [
              "<IPython.core.display.HTML object>"
            ],
            "text/html": [
              "\n",
              "    <style>\n",
              "      pre {\n",
              "          white-space: pre-wrap;\n",
              "      }\n",
              "    </style>\n",
              "    "
            ]
          },
          "metadata": {}
        },
        {
          "output_type": "stream",
          "name": "stdout",
          "text": [
            "-RECORD 0--------\n",
            " Anomalous | 0   \n",
            " Weight    | 1.0 \n",
            "only showing top 1 row\n",
            "\n",
            "-RECORD 0--------\n",
            " Anomalous | 1   \n",
            " Weight    | 1.0 \n",
            "only showing top 1 row\n",
            "\n"
          ]
        }
      ]
    },
    {
      "cell_type": "code",
      "source": [
        "gbt_2 = GBTClassifier(\n",
        "    featuresCol='scaled_features',\n",
        "    labelCol='Anomalous',\n",
        "    weightCol='Weight')\n",
        "\n",
        "gbt_2_stages = stages + [gbt_2]\n",
        "\n",
        "# Specify parameter grid\n",
        "gbt_2_grid = ParamGridBuilder()\\\n",
        "            .addGrid(gbt_2.maxDepth, [3, 4, 5])\\\n",
        "            .build()"
      ],
      "metadata": {
        "colab": {
          "base_uri": "https://localhost:8080/",
          "height": 17
        },
        "id": "PBmt8gOUAij6",
        "outputId": "aa443944-9271-4944-9751-8596f9d43fb1"
      },
      "execution_count": 80,
      "outputs": [
        {
          "output_type": "display_data",
          "data": {
            "text/plain": [
              "<IPython.core.display.HTML object>"
            ],
            "text/html": [
              "\n",
              "    <style>\n",
              "      pre {\n",
              "          white-space: pre-wrap;\n",
              "      }\n",
              "    </style>\n",
              "    "
            ]
          },
          "metadata": {}
        }
      ]
    },
    {
      "cell_type": "code",
      "source": [
        "# Run grid search using grid_search function\n",
        "if not os.path.isdir(drive_path + 'gbt_2_model'):\n",
        "    gbt_2_model = grid_search(stages_with_classifier=gbt_2_stages, \n",
        "                             train_df=train_df_numeric, \n",
        "                             model_grid=gbt_2_grid, \n",
        "                             parallelism=3)"
      ],
      "metadata": {
        "colab": {
          "base_uri": "https://localhost:8080/",
          "height": 17
        },
        "id": "9AVnaRN9BEtY",
        "outputId": "d9b0544f-fed4-4e02-f140-61d7513a7766"
      },
      "execution_count": 83,
      "outputs": [
        {
          "output_type": "display_data",
          "data": {
            "text/plain": [
              "<IPython.core.display.HTML object>"
            ],
            "text/html": [
              "\n",
              "    <style>\n",
              "      pre {\n",
              "          white-space: pre-wrap;\n",
              "      }\n",
              "    </style>\n",
              "    "
            ]
          },
          "metadata": {}
        }
      ]
    },
    {
      "cell_type": "code",
      "source": [
        "# Save model, or upload if already saved\n",
        "if not os.path.isdir(drive_path + 'gbt_2_model'):\n",
        "    gbt_2_model.save(drive_path + 'gbt_2_model')\n",
        "else:\n",
        "    gbt_2_model = TrainValidationSplitModel.load(drive_path + 'gbt_2_model')\n",
        "    print(gbt_2_grid[np.argmax(gbt_2_model.validationMetrics)])"
      ],
      "metadata": {
        "colab": {
          "base_uri": "https://localhost:8080/",
          "height": 53
        },
        "id": "8DE5QnDSBM3z",
        "outputId": "9f888256-784c-4a07-cdb1-92236217a246"
      },
      "execution_count": 84,
      "outputs": [
        {
          "output_type": "display_data",
          "data": {
            "text/plain": [
              "<IPython.core.display.HTML object>"
            ],
            "text/html": [
              "\n",
              "    <style>\n",
              "      pre {\n",
              "          white-space: pre-wrap;\n",
              "      }\n",
              "    </style>\n",
              "    "
            ]
          },
          "metadata": {}
        },
        {
          "output_type": "stream",
          "name": "stdout",
          "text": [
            "{Param(parent='GBTClassifier_c5512ddd292f', name='maxDepth', doc='Maximum depth of the tree. (>= 0) E.g., depth 0 means 1 leaf node; depth 1 means 1 internal node + 2 leaf nodes. Must be in range [0, 30].'): 3}\n"
          ]
        }
      ]
    },
    {
      "cell_type": "code",
      "source": [
        "# Print model scores\n",
        "score_model(gbt_2_model, train_df_numeric, test_df_numeric)"
      ],
      "metadata": {
        "colab": {
          "base_uri": "https://localhost:8080/",
          "height": 499
        },
        "id": "NK6ddvkCBTrz",
        "outputId": "67ce69fa-46b1-4c55-89ae-eda6fabc4373"
      },
      "execution_count": 85,
      "outputs": [
        {
          "output_type": "display_data",
          "data": {
            "text/plain": [
              "<IPython.core.display.HTML object>"
            ],
            "text/html": [
              "\n",
              "    <style>\n",
              "      pre {\n",
              "          white-space: pre-wrap;\n",
              "      }\n",
              "    </style>\n",
              "    "
            ]
          },
          "metadata": {}
        },
        {
          "output_type": "stream",
          "name": "stdout",
          "text": [
            "GBTClassificationModel\n",
            "---------------------- \n",
            "\n",
            "Training data:\n",
            "\n",
            "                  precision    recall  f1-score   support\n",
            "\n",
            "0: Non-anomalous      0.999     1.000     1.000   4686825\n",
            "    1: Anomalous      1.000     0.347     0.515      4900\n",
            "\n",
            "        accuracy                          0.999   4691725\n",
            "       macro avg      1.000     0.673     0.757   4691725\n",
            "    weighted avg      0.999     0.999     0.999   4691725\n",
            "\n",
            "------------------------------------------------------------ \n",
            "\n",
            "Testing data:\n",
            "\n",
            "                  precision    recall  f1-score   support\n",
            "\n",
            "0: Non-anomalous      0.999     0.956     0.977    704347\n",
            "    1: Anomalous      0.008     0.321     0.015       761\n",
            "\n",
            "        accuracy                          0.955    705108\n",
            "       macro avg      0.503     0.638     0.496    705108\n",
            "    weighted avg      0.998     0.955     0.976    705108\n",
            "\n"
          ]
        }
      ]
    },
    {
      "cell_type": "code",
      "source": [
        "# Plot model confusion matrix\n",
        "plot_confusion_matrix(gbt_2_model, test_df_numeric)"
      ],
      "metadata": {
        "colab": {
          "base_uri": "https://localhost:8080/",
          "height": 465
        },
        "id": "EZRjBEEUBUJg",
        "outputId": "73358708-f943-484c-f569-c14a42a9ed41"
      },
      "execution_count": 86,
      "outputs": [
        {
          "output_type": "display_data",
          "data": {
            "text/plain": [
              "<IPython.core.display.HTML object>"
            ],
            "text/html": [
              "\n",
              "    <style>\n",
              "      pre {\n",
              "          white-space: pre-wrap;\n",
              "      }\n",
              "    </style>\n",
              "    "
            ]
          },
          "metadata": {}
        },
        {
          "output_type": "display_data",
          "data": {
            "text/plain": [
              "<Figure size 1296x504 with 2 Axes>"
            ],
            "image/png": "[encoded data removed]"
          },
          "metadata": {
            "image/png": {
              "width": 643,
              "height": 448
            },
            "needs_background": "light"
          }
        }
      ]
    },
    {
      "cell_type": "markdown",
      "source": [
        "**Remarks:**\n",
        "- Removing the weights from the dataset was not helpful. Let's move on to notebook 2, where we use the full dataset with all (relevant) categorical features."
      ],
      "metadata": {
        "id": "49g-jlaDDCvk"
      }
    }
  ]
}