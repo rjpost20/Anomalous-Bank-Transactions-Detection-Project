{
 "cells": [
  {
   "cell_type": "code",
   "execution_count": null,
   "id": "43832c77-c88f-4f18-b9c7-cd524c83a079",
   "metadata": {},
   "outputs": [],
   "source": []
  },
  {
   "cell_type": "markdown",
   "id": "4e776a59",
   "metadata": {},
   "source": [
    "# Phase 5 Project: *Title*"
   ]
  },
  {
   "cell_type": "markdown",
   "id": "0d8d69b1",
   "metadata": {},
   "source": [
    "### By Ryan Posternak"
   ]
  },
  {
   "cell_type": "markdown",
   "id": "391da7ad",
   "metadata": {},
   "source": [
    "Flatiron School, Full-Time Live NYC<br>\n",
    "Project Presentation Date: August 26th, 2022<br>\n",
    "Instructor: Joseph Mata"
   ]
  },
  {
   "cell_type": "markdown",
   "id": "e224a6d9",
   "metadata": {},
   "source": [
    "## Goal: \n",
    "\n",
    "*This is a project for learning purposes. The *** is not involved with this project in any way.*\n",
    "\n",
    "<br>"
   ]
  },
  {
   "cell_type": "markdown",
   "id": "b6ebe033",
   "metadata": {},
   "source": [
    "# Overview and Business Understanding"
   ]
  },
  {
   "cell_type": "code",
   "execution_count": null,
   "id": "4d11f20f",
   "metadata": {},
   "outputs": [],
   "source": []
  },
  {
   "cell_type": "markdown",
   "id": "982dc4d2",
   "metadata": {},
   "source": [
    "<br>"
   ]
  },
  {
   "cell_type": "markdown",
   "id": "70c4b223",
   "metadata": {},
   "source": [
    "# Data Understanding"
   ]
  },
  {
   "cell_type": "code",
   "execution_count": null,
   "id": "f5a85825",
   "metadata": {},
   "outputs": [],
   "source": []
  },
  {
   "cell_type": "markdown",
   "id": "8ae04d92",
   "metadata": {},
   "source": [
    "<br>"
   ]
  },
  {
   "cell_type": "markdown",
   "id": "e374d1a3",
   "metadata": {},
   "source": [
    "# Initial Exploratory Data Analysis"
   ]
  },
  {
   "cell_type": "markdown",
   "id": "090076bc",
   "metadata": {},
   "source": [
    "### Import libraries, packages and modules"
   ]
  },
  {
   "cell_type": "code",
   "execution_count": 1,
   "id": "d5c6ddd6",
   "metadata": {},
   "outputs": [],
   "source": [
    "import numpy as np\n",
    "import pandas as pd\n",
    "\n",
    "from pyspark.sql import SparkSession\n",
    "import pyspark.sql.functions as F\n",
    "from pyspark.sql.types import StringType, IntegerType, DoubleType\n",
    "from pyspark.ml.feature import StringIndexer, OneHotEncoder, VectorAssembler, StandardScaler\n",
    "from pyspark.ml import Pipeline\n",
    "from pyspark.ml.classification import LogisticRegression\n",
    "# from pyspark.ml.evaluation import BinaryClassificationEvaluator\n",
    "from pyspark.ml.evaluation import MulticlassClassificationEvaluator\n",
    "from pyspark.ml.tuning import ParamGridBuilder, CrossValidator\n",
    "\n",
    "import matplotlib.pyplot as plt\n",
    "plt.style.use('seaborn')\n",
    "import seaborn as sns\n",
    "%matplotlib inline"
   ]
  },
  {
   "cell_type": "code",
   "execution_count": 2,
   "id": "ba42162b",
   "metadata": {},
   "outputs": [],
   "source": [
    "# Initialize Spark Session\n",
    "spark = SparkSession.builder.master('local[8]').getOrCreate()"
   ]
  },
  {
   "cell_type": "code",
   "execution_count": 3,
   "id": "a3f1a32e",
   "metadata": {},
   "outputs": [],
   "source": [
    "# Read in training data csv to a Spark DataFrame\n",
    "spark_X_df = spark.read.csv('data/Richters_Predictor_Modeling_Earthquake_Damage_-_Train_Values.csv', header=True)\n",
    "\n",
    "# Read in testing data csv to a Spark DataFrame\n",
    "spark_y_df = spark.read.csv('data/Richters_Predictor_Modeling_Earthquake_Damage_-_Train_Labels.csv', header=True)"
   ]
  },
  {
   "cell_type": "code",
   "execution_count": 4,
   "id": "afafaef6",
   "metadata": {},
   "outputs": [
    {
     "name": "stdout",
     "output_type": "stream",
     "text": [
      "Rows: 260601, Columns: 39\n"
     ]
    }
   ],
   "source": [
    "# Print shape of dataframe\n",
    "print(f\"Rows: {spark_X_df.count()}, Columns: {len(spark_X_df.columns)}\")"
   ]
  },
  {
   "cell_type": "code",
   "execution_count": 5,
   "id": "d94a0898",
   "metadata": {},
   "outputs": [
    {
     "name": "stdout",
     "output_type": "stream",
     "text": [
      "root\n",
      " |-- building_id: string (nullable = true)\n",
      " |-- geo_level_1_id: string (nullable = true)\n",
      " |-- geo_level_2_id: string (nullable = true)\n",
      " |-- geo_level_3_id: string (nullable = true)\n",
      " |-- count_floors_pre_eq: string (nullable = true)\n",
      " |-- age: string (nullable = true)\n",
      " |-- area_percentage: string (nullable = true)\n",
      " |-- height_percentage: string (nullable = true)\n",
      " |-- land_surface_condition: string (nullable = true)\n",
      " |-- foundation_type: string (nullable = true)\n",
      " |-- roof_type: string (nullable = true)\n",
      " |-- ground_floor_type: string (nullable = true)\n",
      " |-- other_floor_type: string (nullable = true)\n",
      " |-- position: string (nullable = true)\n",
      " |-- plan_configuration: string (nullable = true)\n",
      " |-- has_superstructure_adobe_mud: string (nullable = true)\n",
      " |-- has_superstructure_mud_mortar_stone: string (nullable = true)\n",
      " |-- has_superstructure_stone_flag: string (nullable = true)\n",
      " |-- has_superstructure_cement_mortar_stone: string (nullable = true)\n",
      " |-- has_superstructure_mud_mortar_brick: string (nullable = true)\n",
      " |-- has_superstructure_cement_mortar_brick: string (nullable = true)\n",
      " |-- has_superstructure_timber: string (nullable = true)\n",
      " |-- has_superstructure_bamboo: string (nullable = true)\n",
      " |-- has_superstructure_rc_non_engineered: string (nullable = true)\n",
      " |-- has_superstructure_rc_engineered: string (nullable = true)\n",
      " |-- has_superstructure_other: string (nullable = true)\n",
      " |-- legal_ownership_status: string (nullable = true)\n",
      " |-- count_families: string (nullable = true)\n",
      " |-- has_secondary_use: string (nullable = true)\n",
      " |-- has_secondary_use_agriculture: string (nullable = true)\n",
      " |-- has_secondary_use_hotel: string (nullable = true)\n",
      " |-- has_secondary_use_rental: string (nullable = true)\n",
      " |-- has_secondary_use_institution: string (nullable = true)\n",
      " |-- has_secondary_use_school: string (nullable = true)\n",
      " |-- has_secondary_use_industry: string (nullable = true)\n",
      " |-- has_secondary_use_health_post: string (nullable = true)\n",
      " |-- has_secondary_use_gov_office: string (nullable = true)\n",
      " |-- has_secondary_use_use_police: string (nullable = true)\n",
      " |-- has_secondary_use_other: string (nullable = true)\n",
      "\n"
     ]
    }
   ],
   "source": [
    "# Print features dataframe schema\n",
    "spark_X_df.printSchema()"
   ]
  },
  {
   "cell_type": "code",
   "execution_count": 6,
   "id": "c2c7b2b7",
   "metadata": {},
   "outputs": [
    {
     "name": "stdout",
     "output_type": "stream",
     "text": [
      "-RECORD 0----------------------------------------\n",
      " building_id                            | 802906 \n",
      " geo_level_1_id                         | 6      \n",
      " geo_level_2_id                         | 487    \n",
      " geo_level_3_id                         | 12198  \n",
      " count_floors_pre_eq                    | 2      \n",
      " age                                    | 30     \n",
      " area_percentage                        | 6      \n",
      " height_percentage                      | 5      \n",
      " land_surface_condition                 | t      \n",
      " foundation_type                        | r      \n",
      " roof_type                              | n      \n",
      " ground_floor_type                      | f      \n",
      " other_floor_type                       | q      \n",
      " position                               | t      \n",
      " plan_configuration                     | d      \n",
      " has_superstructure_adobe_mud           | 1      \n",
      " has_superstructure_mud_mortar_stone    | 1      \n",
      " has_superstructure_stone_flag          | 0      \n",
      " has_superstructure_cement_mortar_stone | 0      \n",
      " has_superstructure_mud_mortar_brick    | 0      \n",
      " has_superstructure_cement_mortar_brick | 0      \n",
      " has_superstructure_timber              | 0      \n",
      " has_superstructure_bamboo              | 0      \n",
      " has_superstructure_rc_non_engineered   | 0      \n",
      " has_superstructure_rc_engineered       | 0      \n",
      " has_superstructure_other               | 0      \n",
      " legal_ownership_status                 | v      \n",
      " count_families                         | 1      \n",
      " has_secondary_use                      | 0      \n",
      " has_secondary_use_agriculture          | 0      \n",
      " has_secondary_use_hotel                | 0      \n",
      " has_secondary_use_rental               | 0      \n",
      " has_secondary_use_institution          | 0      \n",
      " has_secondary_use_school               | 0      \n",
      " has_secondary_use_industry             | 0      \n",
      " has_secondary_use_health_post          | 0      \n",
      " has_secondary_use_gov_office           | 0      \n",
      " has_secondary_use_use_police           | 0      \n",
      " has_secondary_use_other                | 0      \n",
      "only showing top 1 row\n",
      "\n"
     ]
    }
   ],
   "source": [
    "# Print first row\n",
    "spark_X_df.show(n=1, vertical=True)"
   ]
  },
  {
   "cell_type": "code",
   "execution_count": 7,
   "id": "147b5891",
   "metadata": {},
   "outputs": [
    {
     "name": "stdout",
     "output_type": "stream",
     "text": [
      "<class 'pandas.core.frame.DataFrame'>\n",
      "RangeIndex: 260601 entries, 0 to 260600\n",
      "Data columns (total 39 columns):\n",
      " #   Column                                  Non-Null Count   Dtype \n",
      "---  ------                                  --------------   ----- \n",
      " 0   building_id                             260601 non-null  object\n",
      " 1   geo_level_1_id                          260601 non-null  object\n",
      " 2   geo_level_2_id                          260601 non-null  object\n",
      " 3   geo_level_3_id                          260601 non-null  object\n",
      " 4   count_floors_pre_eq                     260601 non-null  object\n",
      " 5   age                                     260601 non-null  object\n",
      " 6   area_percentage                         260601 non-null  object\n",
      " 7   height_percentage                       260601 non-null  object\n",
      " 8   land_surface_condition                  260601 non-null  object\n",
      " 9   foundation_type                         260601 non-null  object\n",
      " 10  roof_type                               260601 non-null  object\n",
      " 11  ground_floor_type                       260601 non-null  object\n",
      " 12  other_floor_type                        260601 non-null  object\n",
      " 13  position                                260601 non-null  object\n",
      " 14  plan_configuration                      260601 non-null  object\n",
      " 15  has_superstructure_adobe_mud            260601 non-null  object\n",
      " 16  has_superstructure_mud_mortar_stone     260601 non-null  object\n",
      " 17  has_superstructure_stone_flag           260601 non-null  object\n",
      " 18  has_superstructure_cement_mortar_stone  260601 non-null  object\n",
      " 19  has_superstructure_mud_mortar_brick     260601 non-null  object\n",
      " 20  has_superstructure_cement_mortar_brick  260601 non-null  object\n",
      " 21  has_superstructure_timber               260601 non-null  object\n",
      " 22  has_superstructure_bamboo               260601 non-null  object\n",
      " 23  has_superstructure_rc_non_engineered    260601 non-null  object\n",
      " 24  has_superstructure_rc_engineered        260601 non-null  object\n",
      " 25  has_superstructure_other                260601 non-null  object\n",
      " 26  legal_ownership_status                  260601 non-null  object\n",
      " 27  count_families                          260601 non-null  object\n",
      " 28  has_secondary_use                       260601 non-null  object\n",
      " 29  has_secondary_use_agriculture           260601 non-null  object\n",
      " 30  has_secondary_use_hotel                 260601 non-null  object\n",
      " 31  has_secondary_use_rental                260601 non-null  object\n",
      " 32  has_secondary_use_institution           260601 non-null  object\n",
      " 33  has_secondary_use_school                260601 non-null  object\n",
      " 34  has_secondary_use_industry              260601 non-null  object\n",
      " 35  has_secondary_use_health_post           260601 non-null  object\n",
      " 36  has_secondary_use_gov_office            260601 non-null  object\n",
      " 37  has_secondary_use_use_police            260601 non-null  object\n",
      " 38  has_secondary_use_other                 260601 non-null  object\n",
      "dtypes: object(39)\n",
      "memory usage: 77.5+ MB\n"
     ]
    }
   ],
   "source": [
    "# Show unique values for each column through Pandas\n",
    "spark_X_df.toPandas().info()"
   ]
  },
  {
   "cell_type": "code",
   "execution_count": null,
   "id": "71a7db64",
   "metadata": {},
   "outputs": [],
   "source": [
    "# Show unique values for each column through PySpark\n",
    "spark_X_df.agg(*(F.countDistinct(F.col(c)).alias('distinct_' + c) for c in spark_X_df.columns)).show(vertical=True)"
   ]
  },
  {
   "cell_type": "code",
   "execution_count": null,
   "id": "6f29ae18",
   "metadata": {},
   "outputs": [],
   "source": [
    "# Show null values for each column through PySpark\n",
    "spark_X_df.select([F.count(F.when(F.isnan(c), c)).alias('null_' + c) for c in spark_X_df.columns]).show(vertical=True)"
   ]
  },
  {
   "cell_type": "code",
   "execution_count": null,
   "id": "a26f0fc5",
   "metadata": {},
   "outputs": [],
   "source": [
    "# Print summary statistics\n",
    "drop_cols = ['building_id', 'geo_level_1_id', 'geo_level_2_id', 'geo_level_3_id']\n",
    "\n",
    "spark_X_df.drop(*drop_cols).summary().toPandas()"
   ]
  },
  {
   "cell_type": "code",
   "execution_count": 8,
   "id": "a227b10f",
   "metadata": {},
   "outputs": [
    {
     "data": {
      "text/html": [
       "<div>\n",
       "<style scoped>\n",
       "    .dataframe tbody tr th:only-of-type {\n",
       "        vertical-align: middle;\n",
       "    }\n",
       "\n",
       "    .dataframe tbody tr th {\n",
       "        vertical-align: top;\n",
       "    }\n",
       "\n",
       "    .dataframe thead th {\n",
       "        text-align: right;\n",
       "    }\n",
       "</style>\n",
       "<table border=\"1\" class=\"dataframe\">\n",
       "  <thead>\n",
       "    <tr style=\"text-align: right;\">\n",
       "      <th></th>\n",
       "      <th>damage_grade</th>\n",
       "      <th>count</th>\n",
       "      <th>percent</th>\n",
       "    </tr>\n",
       "  </thead>\n",
       "  <tbody>\n",
       "    <tr>\n",
       "      <th>0</th>\n",
       "      <td>3</td>\n",
       "      <td>87218</td>\n",
       "      <td>0.334680</td>\n",
       "    </tr>\n",
       "    <tr>\n",
       "      <th>1</th>\n",
       "      <td>1</td>\n",
       "      <td>25124</td>\n",
       "      <td>0.096408</td>\n",
       "    </tr>\n",
       "    <tr>\n",
       "      <th>2</th>\n",
       "      <td>2</td>\n",
       "      <td>148259</td>\n",
       "      <td>0.568912</td>\n",
       "    </tr>\n",
       "  </tbody>\n",
       "</table>\n",
       "</div>"
      ],
      "text/plain": [
       "  damage_grade   count   percent\n",
       "0            3   87218  0.334680\n",
       "1            1   25124  0.096408\n",
       "2            2  148259  0.568912"
      ]
     },
     "execution_count": 8,
     "metadata": {},
     "output_type": "execute_result"
    }
   ],
   "source": [
    "# Show value_counts for 'damage_grade' column\n",
    "class_counts = spark_y_df.groupBy('damage_grade').count().withColumn('percent', F.col('count')/spark_y_df.count())\n",
    "\n",
    "class_counts.toPandas()"
   ]
  },
  {
   "cell_type": "markdown",
   "id": "af2f212f",
   "metadata": {},
   "source": [
    "<br>"
   ]
  },
  {
   "cell_type": "markdown",
   "id": "6e47b8fe",
   "metadata": {},
   "source": [
    "# Preprocessing"
   ]
  },
  {
   "cell_type": "markdown",
   "id": "12ffbe81",
   "metadata": {},
   "source": [
    "Steps:\n",
    "1. Drop useless columns\n",
    "2. Unpack any joined data within columns\n",
    "3. Convert columns to correct datatypes\n",
    "4. Handle null/missing values (may need to convert some values to np.nan)\n",
    "5. Impute any missing values"
   ]
  },
  {
   "cell_type": "markdown",
   "id": "49ccc58c",
   "metadata": {},
   "source": [
    "### Convert numerical integer columns to IntegerType"
   ]
  },
  {
   "cell_type": "code",
   "execution_count": 9,
   "id": "219c6a4b",
   "metadata": {},
   "outputs": [],
   "source": [
    "spark_preprocessed_df = spark_X_df.alias('spark_preprocessed_df')"
   ]
  },
  {
   "cell_type": "code",
   "execution_count": 10,
   "id": "84cf71ad",
   "metadata": {},
   "outputs": [],
   "source": [
    "# Convert first set of numerical columns to IntegerType\n",
    "cols = ['building_id', 'geo_level_1_id', 'geo_level_2_id', 'geo_level_3_id', 'count_floors_pre_eq', \n",
    "        'age', 'area_percentage', 'height_percentage']\n",
    "\n",
    "for col in cols:\n",
    "    spark_preprocessed_df = spark_preprocessed_df.withColumn(col, spark_preprocessed_df[col].cast(IntegerType()))\n",
    "    \n",
    "assert ['int'] * len(cols) == [dtype[1] for dtype in spark_preprocessed_df.select(*cols).dtypes]"
   ]
  },
  {
   "cell_type": "code",
   "execution_count": 11,
   "id": "9192979b",
   "metadata": {},
   "outputs": [],
   "source": [
    "# Convert superstructure columns to IntegerType\n",
    "superstructure_cols = ['has_superstructure_adobe_mud', 'has_superstructure_mud_mortar_stone', \n",
    "                       'has_superstructure_stone_flag', 'has_superstructure_cement_mortar_stone', \n",
    "                       'has_superstructure_mud_mortar_brick', 'has_superstructure_cement_mortar_brick', \n",
    "                       'has_superstructure_timber', 'has_superstructure_bamboo', \n",
    "                       'has_superstructure_rc_non_engineered', 'has_superstructure_rc_engineered', \n",
    "                       'has_superstructure_other']\n",
    "\n",
    "for col in superstructure_cols:\n",
    "    spark_preprocessed_df = spark_preprocessed_df.withColumn(col, spark_preprocessed_df[col].cast(IntegerType()))\n",
    "    \n",
    "assert ['int'] * len(superstructure_cols) == \\\n",
    "[dtype[1] for dtype in spark_preprocessed_df.select(*superstructure_cols).dtypes]"
   ]
  },
  {
   "cell_type": "code",
   "execution_count": 12,
   "id": "a31d3a1c",
   "metadata": {},
   "outputs": [],
   "source": [
    "# Convert secondary_use columns to IntegerType\n",
    "secondary_use_cols = ['has_secondary_use', 'has_secondary_use_agriculture', 'has_secondary_use_hotel', \n",
    "                      'has_secondary_use_rental', 'has_secondary_use_institution', 'has_secondary_use_school', \n",
    "                      'has_secondary_use_industry', 'has_secondary_use_health_post', 'has_secondary_use_gov_office', \n",
    "                      'has_secondary_use_use_police', 'has_secondary_use_other']\n",
    "\n",
    "# Convert secondary_use columns above to IntegerType\n",
    "for col in secondary_use_cols:\n",
    "    spark_preprocessed_df = spark_preprocessed_df.withColumn(col, spark_preprocessed_df[col].cast(IntegerType()))\n",
    "    \n",
    "assert ['int'] * len(secondary_use_cols) == \\\n",
    "[dtype[1] for dtype in spark_preprocessed_df.select(*secondary_use_cols).dtypes]"
   ]
  },
  {
   "cell_type": "markdown",
   "id": "2af52f7a",
   "metadata": {
    "tags": []
   },
   "source": [
    "### Examine `count_families` column"
   ]
  },
  {
   "cell_type": "code",
   "execution_count": 13,
   "id": "89ea7067",
   "metadata": {},
   "outputs": [
    {
     "data": {
      "text/html": [
       "<div>\n",
       "<style scoped>\n",
       "    .dataframe tbody tr th:only-of-type {\n",
       "        vertical-align: middle;\n",
       "    }\n",
       "\n",
       "    .dataframe tbody tr th {\n",
       "        vertical-align: top;\n",
       "    }\n",
       "\n",
       "    .dataframe thead th {\n",
       "        text-align: right;\n",
       "    }\n",
       "</style>\n",
       "<table border=\"1\" class=\"dataframe\">\n",
       "  <thead>\n",
       "    <tr style=\"text-align: right;\">\n",
       "      <th></th>\n",
       "      <th>count_families</th>\n",
       "      <th>count</th>\n",
       "    </tr>\n",
       "  </thead>\n",
       "  <tbody>\n",
       "    <tr>\n",
       "      <th>0</th>\n",
       "      <td>7</td>\n",
       "      <td>7</td>\n",
       "    </tr>\n",
       "    <tr>\n",
       "      <th>1</th>\n",
       "      <td>3</td>\n",
       "      <td>1802</td>\n",
       "    </tr>\n",
       "    <tr>\n",
       "      <th>2</th>\n",
       "      <td>8</td>\n",
       "      <td>2</td>\n",
       "    </tr>\n",
       "    <tr>\n",
       "      <th>3</th>\n",
       "      <td>0</td>\n",
       "      <td>20862</td>\n",
       "    </tr>\n",
       "    <tr>\n",
       "      <th>4</th>\n",
       "      <td>5</td>\n",
       "      <td>104</td>\n",
       "    </tr>\n",
       "    <tr>\n",
       "      <th>5</th>\n",
       "      <td>6</td>\n",
       "      <td>22</td>\n",
       "    </tr>\n",
       "    <tr>\n",
       "      <th>6</th>\n",
       "      <td>9</td>\n",
       "      <td>4</td>\n",
       "    </tr>\n",
       "    <tr>\n",
       "      <th>7</th>\n",
       "      <td>1</td>\n",
       "      <td>226115</td>\n",
       "    </tr>\n",
       "    <tr>\n",
       "      <th>8</th>\n",
       "      <td>4</td>\n",
       "      <td>389</td>\n",
       "    </tr>\n",
       "    <tr>\n",
       "      <th>9</th>\n",
       "      <td>2</td>\n",
       "      <td>11294</td>\n",
       "    </tr>\n",
       "  </tbody>\n",
       "</table>\n",
       "</div>"
      ],
      "text/plain": [
       "  count_families   count\n",
       "0              7       7\n",
       "1              3    1802\n",
       "2              8       2\n",
       "3              0   20862\n",
       "4              5     104\n",
       "5              6      22\n",
       "6              9       4\n",
       "7              1  226115\n",
       "8              4     389\n",
       "9              2   11294"
      ]
     },
     "execution_count": 13,
     "metadata": {},
     "output_type": "execute_result"
    }
   ],
   "source": [
    "# Show value_counts for 'damage_grade' column\n",
    "class_counts = spark_preprocessed_df.groupBy('count_families').count()\n",
    "\n",
    "class_counts.toPandas()"
   ]
  },
  {
   "cell_type": "code",
   "execution_count": 14,
   "id": "ba1c4ad7",
   "metadata": {},
   "outputs": [
    {
     "data": {
      "text/html": [
       "<div>\n",
       "<style scoped>\n",
       "    .dataframe tbody tr th:only-of-type {\n",
       "        vertical-align: middle;\n",
       "    }\n",
       "\n",
       "    .dataframe tbody tr th {\n",
       "        vertical-align: top;\n",
       "    }\n",
       "\n",
       "    .dataframe thead th {\n",
       "        text-align: right;\n",
       "    }\n",
       "</style>\n",
       "<table border=\"1\" class=\"dataframe\">\n",
       "  <thead>\n",
       "    <tr style=\"text-align: right;\">\n",
       "      <th></th>\n",
       "      <th>count_families</th>\n",
       "      <th>count</th>\n",
       "    </tr>\n",
       "  </thead>\n",
       "  <tbody>\n",
       "    <tr>\n",
       "      <th>0</th>\n",
       "      <td>1</td>\n",
       "      <td>226115</td>\n",
       "    </tr>\n",
       "    <tr>\n",
       "      <th>1</th>\n",
       "      <td>3</td>\n",
       "      <td>1802</td>\n",
       "    </tr>\n",
       "    <tr>\n",
       "      <th>2</th>\n",
       "      <td>4</td>\n",
       "      <td>528</td>\n",
       "    </tr>\n",
       "    <tr>\n",
       "      <th>3</th>\n",
       "      <td>2</td>\n",
       "      <td>11294</td>\n",
       "    </tr>\n",
       "    <tr>\n",
       "      <th>4</th>\n",
       "      <td>0</td>\n",
       "      <td>20862</td>\n",
       "    </tr>\n",
       "  </tbody>\n",
       "</table>\n",
       "</div>"
      ],
      "text/plain": [
       "   count_families   count\n",
       "0               1  226115\n",
       "1               3    1802\n",
       "2               4     528\n",
       "3               2   11294\n",
       "4               0   20862"
      ]
     },
     "execution_count": 14,
     "metadata": {},
     "output_type": "execute_result"
    }
   ],
   "source": [
    "# It looks like some values are very rare. Let's combine any values above 4 into 4\n",
    "spark_preprocessed_df = spark_preprocessed_df.withColumn('count_families', \\\n",
    "                        spark_preprocessed_df['count_families'].cast(IntegerType()))\n",
    "\n",
    "spark_preprocessed_df = spark_preprocessed_df.replace(to_replace=[5, 6, 7, 8, 9], value=4, subset=['count_families'])\n",
    "\n",
    "class_counts = spark_preprocessed_df.groupBy('count_families').count()\n",
    "\n",
    "class_counts.toPandas()"
   ]
  },
  {
   "cell_type": "markdown",
   "id": "8a1fa9c5",
   "metadata": {},
   "source": [
    "### Drop superfluous / useless columns"
   ]
  },
  {
   "cell_type": "code",
   "execution_count": 15,
   "id": "1ce10791",
   "metadata": {},
   "outputs": [],
   "source": [
    "# Drop 'has_secondary_use' column - redundant\n",
    "spark_preprocessed_df = spark_preprocessed_df.drop('has_secondary_use')\n",
    "\n",
    "# Drop 'geo_level_2_id' column - redundant; would increase dimensionality too much\n",
    "spark_preprocessed_df = spark_preprocessed_df.drop('geo_level_2_id')\n",
    "\n",
    "# Drop 'geo_level_3_id' column - redundant; would increase dimensionality too much\n",
    "spark_preprocessed_df = spark_preprocessed_df.drop('geo_level_3_id')"
   ]
  },
  {
   "cell_type": "markdown",
   "id": "0c316308",
   "metadata": {},
   "source": [
    "### Show distinct categories for categorical features"
   ]
  },
  {
   "cell_type": "code",
   "execution_count": 16,
   "id": "6e773887",
   "metadata": {},
   "outputs": [
    {
     "name": "stdout",
     "output_type": "stream",
     "text": [
      "+----------------------+\n",
      "|land_surface_condition|\n",
      "+----------------------+\n",
      "|                     n|\n",
      "|                     o|\n",
      "|                     t|\n",
      "+----------------------+\n",
      "\n",
      "+---------------+\n",
      "|foundation_type|\n",
      "+---------------+\n",
      "|              h|\n",
      "|              w|\n",
      "|              u|\n",
      "|              i|\n",
      "|              r|\n",
      "+---------------+\n",
      "\n",
      "+---------+\n",
      "|roof_type|\n",
      "+---------+\n",
      "|        x|\n",
      "|        n|\n",
      "|        q|\n",
      "+---------+\n",
      "\n",
      "+-----------------+\n",
      "|ground_floor_type|\n",
      "+-----------------+\n",
      "|                x|\n",
      "|                m|\n",
      "|                f|\n",
      "|                v|\n",
      "|                z|\n",
      "+-----------------+\n",
      "\n",
      "+----------------+\n",
      "|other_floor_type|\n",
      "+----------------+\n",
      "|               x|\n",
      "|               q|\n",
      "|               j|\n",
      "|               s|\n",
      "+----------------+\n",
      "\n",
      "+--------+\n",
      "|position|\n",
      "+--------+\n",
      "|       o|\n",
      "|       j|\n",
      "|       t|\n",
      "|       s|\n",
      "+--------+\n",
      "\n",
      "+------------------+\n",
      "|plan_configuration|\n",
      "+------------------+\n",
      "|                 m|\n",
      "|                 f|\n",
      "|                 n|\n",
      "|                 o|\n",
      "|                 d|\n",
      "|                 c|\n",
      "|                 u|\n",
      "|                 q|\n",
      "|                 a|\n",
      "|                 s|\n",
      "+------------------+\n",
      "\n",
      "+----------------------+\n",
      "|legal_ownership_status|\n",
      "+----------------------+\n",
      "|                     v|\n",
      "|                     w|\n",
      "|                     a|\n",
      "|                     r|\n",
      "+----------------------+\n",
      "\n"
     ]
    }
   ],
   "source": [
    "for column, dtype in spark_preprocessed_df.dtypes:\n",
    "    if dtype == 'string':\n",
    "        spark_preprocessed_df.select(column).distinct().show()"
   ]
  },
  {
   "cell_type": "code",
   "execution_count": 17,
   "id": "435071c4",
   "metadata": {},
   "outputs": [
    {
     "data": {
      "image/png": "[encoded data removed]",
      "text/plain": [
       "<Figure size 720x504 with 1 Axes>"
      ]
     },
     "metadata": {
      "needs_background": "light"
     },
     "output_type": "display_data"
    }
   ],
   "source": [
    "# Plot count_families\n",
    "count_families_binned_cats = spark_preprocessed_df.groupby('count_families').count()\n",
    "count_families_binned_cats_df = count_families_binned_cats.toPandas()\n",
    "\n",
    "fig, ax = plt.subplots(figsize=(10, 7))\n",
    "\n",
    "sns.barplot(x=count_families_binned_cats_df['count_families'], \n",
    "            y=count_families_binned_cats_df['count'], \n",
    "            color='maroon');"
   ]
  },
  {
   "cell_type": "code",
   "execution_count": 18,
   "id": "4ccafedf",
   "metadata": {},
   "outputs": [
    {
     "data": {
      "image/png": "[encoded data removed]",
      "text/plain": [
       "<Figure size 720x504 with 1 Axes>"
      ]
     },
     "metadata": {
      "needs_background": "light"
     },
     "output_type": "display_data"
    }
   ],
   "source": [
    "# Group and aggregate target data\n",
    "damage_grade_counts = spark_y_df.groupBy('damage_grade').count().toPandas()\n",
    "# Sort by damage grade\n",
    "damage_grade_counts = damage_grade_counts.sort_values(by='damage_grade')\n",
    "\n",
    "# Plot target data\n",
    "# default_counts['default'].replace({0: 'non-defaults', 1: 'defaults'}, inplace=True)\n",
    "\n",
    "fig, ax = plt.subplots(figsize=(10, 7))\n",
    "palette = {'1': 'yellow', '2': 'darkorange', '3': 'red'}\n",
    "sns.barplot(x='damage_grade', y='count', ax=ax, data=damage_grade_counts, palette=palette)\n",
    "# ax.set_xticklabels(['non-defaults', 'defaults'])\n",
    "ax.set_xlabel('Target');"
   ]
  },
  {
   "cell_type": "code",
   "execution_count": 19,
   "id": "0f74462f",
   "metadata": {},
   "outputs": [
    {
     "name": "stdout",
     "output_type": "stream",
     "text": [
      "root\n",
      " |-- building_id: string (nullable = true)\n",
      " |-- damage_grade: string (nullable = true)\n",
      "\n"
     ]
    }
   ],
   "source": [
    "# Print target dataframe schema\n",
    "spark_y_df.printSchema()"
   ]
  },
  {
   "cell_type": "code",
   "execution_count": 20,
   "id": "05abbc23",
   "metadata": {},
   "outputs": [],
   "source": [
    "# Convert target datatypes to IntegerType\n",
    "spark_y_df = spark_y_df.withColumn('building_id', spark_y_df['building_id'].cast(IntegerType()))\n",
    "spark_y_df = spark_y_df.withColumn('damage_grade', spark_y_df['damage_grade'].cast(IntegerType()))"
   ]
  },
  {
   "cell_type": "markdown",
   "id": "63c99c36",
   "metadata": {},
   "source": [
    "<br>"
   ]
  },
  {
   "cell_type": "markdown",
   "id": "57554212",
   "metadata": {},
   "source": [
    "# Create Pipeline to Preprocess and Model Data"
   ]
  },
  {
   "cell_type": "markdown",
   "id": "a98fa12e",
   "metadata": {},
   "source": [
    "### Join features and target dataframes"
   ]
  },
  {
   "cell_type": "code",
   "execution_count": 21,
   "id": "abc28d12",
   "metadata": {},
   "outputs": [
    {
     "data": {
      "text/plain": [
       "260601"
      ]
     },
     "execution_count": 21,
     "metadata": {},
     "output_type": "execute_result"
    }
   ],
   "source": [
    "# Join on 'building_id' values\n",
    "if not 'damage_grade' in spark_preprocessed_df.columns:\n",
    "    spark_preprocessed_df = spark_preprocessed_df.join(spark_y_df, on='building_id', how='inner')\n",
    "\n",
    "assert spark_X_df.count() == spark_preprocessed_df.count()\n",
    "spark_preprocessed_df.count()"
   ]
  },
  {
   "cell_type": "code",
   "execution_count": 22,
   "id": "6812b5d4",
   "metadata": {},
   "outputs": [],
   "source": [
    "spark_preprocessed_df = spark_preprocessed_df.drop('building_id')"
   ]
  },
  {
   "cell_type": "markdown",
   "id": "d03e7b46",
   "metadata": {},
   "source": [
    "### Index string columns with StringIndexer"
   ]
  },
  {
   "cell_type": "code",
   "execution_count": 23,
   "id": "0cb3f32e",
   "metadata": {},
   "outputs": [
    {
     "name": "stdout",
     "output_type": "stream",
     "text": [
      "Indexed string features: \n",
      "['land_surface_condition_index', 'foundation_type_index', 'roof_type_index', 'ground_floor_type_index', 'other_floor_type_index', 'position_index', 'plan_configuration_index', 'legal_ownership_status_index']\n"
     ]
    }
   ],
   "source": [
    "stages = []\n",
    "\n",
    "categoricalCols = [item[0] for item in spark_preprocessed_df.dtypes if item[1].startswith('string')]\n",
    "\n",
    "indexers = []\n",
    "\n",
    "for col in categoricalCols:\n",
    "    indexer = StringIndexer(inputCol=col, outputCol=col + '_index', handleInvalid='keep')\n",
    "    indexers.append(indexer)\n",
    "    \n",
    "indexed_features = []\n",
    "for si in indexers:\n",
    "    indexed_features.append(si.getOutputCol())\n",
    "    \n",
    "print(f\"Indexed string features: \\n{indexed_features}\")"
   ]
  },
  {
   "cell_type": "markdown",
   "id": "eb97ffe7",
   "metadata": {},
   "source": [
    "### Create a OneHotEncoder to encode the indexed string features"
   ]
  },
  {
   "cell_type": "code",
   "execution_count": 24,
   "id": "3fd0cead",
   "metadata": {},
   "outputs": [
    {
     "name": "stdout",
     "output_type": "stream",
     "text": [
      "One hot encoded string features: 8\n",
      "['land_surface_condition_index_ohe', 'foundation_type_index_ohe', 'roof_type_index_ohe', 'ground_floor_type_index_ohe', 'other_floor_type_index_ohe', 'position_index_ohe', 'plan_configuration_index_ohe', 'legal_ownership_status_index_ohe']\n"
     ]
    }
   ],
   "source": [
    "encoder = OneHotEncoder(inputCols=indexed_features, \n",
    "                        outputCols=[col + '_ohe' for col in indexed_features], \n",
    "                        dropLast=True)\n",
    "\n",
    "print(f\"One hot encoded string features: {len(encoder.getOutputCols())}\\n{encoder.getOutputCols()}\")"
   ]
  },
  {
   "cell_type": "markdown",
   "id": "f6f6a6cf",
   "metadata": {},
   "source": [
    "### Compile numeric features, not including target column"
   ]
  },
  {
   "cell_type": "code",
   "execution_count": 25,
   "id": "facd23d6",
   "metadata": {},
   "outputs": [
    {
     "name": "stdout",
     "output_type": "stream",
     "text": [
      "Numeric features: 27\n",
      "['geo_level_1_id', 'count_floors_pre_eq', 'age', 'area_percentage', 'height_percentage', 'has_superstructure_adobe_mud', 'has_superstructure_mud_mortar_stone', 'has_superstructure_stone_flag', 'has_superstructure_cement_mortar_stone', 'has_superstructure_mud_mortar_brick', 'has_superstructure_cement_mortar_brick', 'has_superstructure_timber', 'has_superstructure_bamboo', 'has_superstructure_rc_non_engineered', 'has_superstructure_rc_engineered', 'has_superstructure_other', 'count_families', 'has_secondary_use_agriculture', 'has_secondary_use_hotel', 'has_secondary_use_rental', 'has_secondary_use_institution', 'has_secondary_use_school', 'has_secondary_use_industry', 'has_secondary_use_health_post', 'has_secondary_use_gov_office', 'has_secondary_use_use_police', 'has_secondary_use_other']\n"
     ]
    }
   ],
   "source": [
    "numeric_features = []\n",
    "for column, dtype in spark_preprocessed_df.dtypes:\n",
    "    if dtype != 'string' and column != 'damage_grade':\n",
    "        numeric_features.append(column)\n",
    "\n",
    "# Confirm equal column counts\n",
    "assert len(spark_preprocessed_df.drop('damage_grade').columns) == (len(indexed_features) + len(numeric_features))\n",
    "print(f\"Numeric features: {len(numeric_features)}\\n{numeric_features}\")"
   ]
  },
  {
   "cell_type": "code",
   "execution_count": 26,
   "id": "a4556602",
   "metadata": {},
   "outputs": [
    {
     "name": "stdout",
     "output_type": "stream",
     "text": [
      "Final features: 35\n",
      "['land_surface_condition_index_ohe', 'foundation_type_index_ohe', 'roof_type_index_ohe', 'ground_floor_type_index_ohe', 'other_floor_type_index_ohe', 'position_index_ohe', 'plan_configuration_index_ohe', 'legal_ownership_status_index_ohe', 'geo_level_1_id', 'count_floors_pre_eq', 'age', 'area_percentage', 'height_percentage', 'has_superstructure_adobe_mud', 'has_superstructure_mud_mortar_stone', 'has_superstructure_stone_flag', 'has_superstructure_cement_mortar_stone', 'has_superstructure_mud_mortar_brick', 'has_superstructure_cement_mortar_brick', 'has_superstructure_timber', 'has_superstructure_bamboo', 'has_superstructure_rc_non_engineered', 'has_superstructure_rc_engineered', 'has_superstructure_other', 'count_families', 'has_secondary_use_agriculture', 'has_secondary_use_hotel', 'has_secondary_use_rental', 'has_secondary_use_institution', 'has_secondary_use_school', 'has_secondary_use_industry', 'has_secondary_use_health_post', 'has_secondary_use_gov_office', 'has_secondary_use_use_police', 'has_secondary_use_other']\n"
     ]
    }
   ],
   "source": [
    "# Print names of final features going into the model\n",
    "features = encoder.getOutputCols() + numeric_features\n",
    "print(f\"Final features: {len(features)}\\n{features}\")"
   ]
  },
  {
   "cell_type": "markdown",
   "id": "904569a8",
   "metadata": {},
   "source": [
    "### Create a VectorAssembler to combine all features"
   ]
  },
  {
   "cell_type": "code",
   "execution_count": 27,
   "id": "07e90a1b",
   "metadata": {},
   "outputs": [
    {
     "name": "stdout",
     "output_type": "stream",
     "text": [
      "Stages: [StringIndexer_ba34d65cff71, StringIndexer_552287164ca3, StringIndexer_f471e9999870, StringIndexer_34804cc1ea49, StringIndexer_54750e61bfa7, StringIndexer_5f6cb268e7b8, StringIndexer_02b06eb85e60, StringIndexer_0aeee6959454, OneHotEncoder_ecac19d1f67c, VectorAssembler_1989c3001384, StandardScaler_d8f5a51cbe00]\n"
     ]
    }
   ],
   "source": [
    "assembler = VectorAssembler(inputCols=features, outputCol='vectorized_features')\n",
    "\n",
    "# Assemble a list of stages that includes all indexers, the one hot encoder, the vector assembler, and the \n",
    "# standard scaler\n",
    "scaler = StandardScaler(inputCol='vectorized_features', outputCol='features')\n",
    "\n",
    "stages = indexers + [encoder, assembler, scaler]\n",
    "print(\"Stages:\", stages)"
   ]
  },
  {
   "cell_type": "markdown",
   "id": "acaaa0c7",
   "metadata": {},
   "source": [
    "### Create pipeline"
   ]
  },
  {
   "cell_type": "code",
   "execution_count": null,
   "id": "551b89eb",
   "metadata": {},
   "outputs": [],
   "source": [
    "pipeline = Pipeline(stages=stages)\n",
    "\n",
    "pipeline_model = pipeline.fit(spark_preprocessed_df)\n",
    "\n",
    "pipeline_df = pipeline_model.transform(spark_preprocessed_df)\n",
    "\n",
    "pipeline.fit(spark_preprocessed_df).transform(spark_preprocessed_df).head()['features'].size"
   ]
  },
  {
   "cell_type": "code",
   "execution_count": null,
   "id": "21f941c4",
   "metadata": {},
   "outputs": [],
   "source": [
    "pipeline_df.show(1, vertical=True)"
   ]
  },
  {
   "cell_type": "markdown",
   "id": "c24ae31d",
   "metadata": {},
   "source": [
    "### Train/test split"
   ]
  },
  {
   "cell_type": "code",
   "execution_count": 28,
   "id": "e969c3e9",
   "metadata": {},
   "outputs": [],
   "source": [
    "train, test = spark_preprocessed_df.randomSplit(weights=[0.75, 0.25], seed=42)"
   ]
  },
  {
   "cell_type": "markdown",
   "id": "fffef245",
   "metadata": {},
   "source": [
    "### Create model evaluator"
   ]
  },
  {
   "cell_type": "code",
   "execution_count": 29,
   "id": "973bead7",
   "metadata": {},
   "outputs": [],
   "source": [
    "# evaluator = MulticlassClassificationEvaluator(\n",
    "#     predictionCol='prediction',\n",
    "#     labelCol='damage_grade',\n",
    "#     metricName='accuracy'\n",
    "# )"
   ]
  },
  {
   "cell_type": "code",
   "execution_count": 30,
   "id": "755b4319-9f61-4ed1-ae42-5b3e76fa62d9",
   "metadata": {},
   "outputs": [
    {
     "name": "stdout",
     "output_type": "stream",
     "text": [
      "{'parent': 'undefined', 'name': 'metricName', 'doc': 'metric name in evaluation (f1|accuracy|weightedPrecision|weightedRecall|weightedTruePositiveRate| weightedFalsePositiveRate|weightedFMeasure|truePositiveRateByLabel| falsePositiveRateByLabel|precisionByLabel|recallByLabel|fMeasureByLabel| logLoss|hammingLoss)', 'typeConverter': <function TypeConverters.toString at 0x7faf1883aee0>}\n"
     ]
    }
   ],
   "source": [
    "print(vars(MulticlassClassificationEvaluator.metricName))"
   ]
  },
  {
   "cell_type": "markdown",
   "id": "67a5bc91",
   "metadata": {},
   "source": [
    "<br>"
   ]
  },
  {
   "cell_type": "markdown",
   "id": "93a60f1c",
   "metadata": {},
   "source": [
    "# Create Helper Functions"
   ]
  },
  {
   "cell_type": "code",
   "execution_count": 63,
   "id": "3039a771",
   "metadata": {},
   "outputs": [],
   "source": [
    "def score_model(classifier, df=spark_preprocessed_df, preprocessing_stages=stages):\n",
    "    # Fit the model and classifier\n",
    "    stages_with_classifier = preprocessing_stages + [classifier]\n",
    "    pipe = Pipeline(stages=stages_with_classifier)\n",
    "    model = pipe.fit(df)\n",
    "    \n",
    "    evaluator = MulticlassClassificationEvaluator(predictionCol='prediction', labelCol='damage_grade')\n",
    "    \n",
    "    # Display train and test data scores\n",
    "    result_train = model.transform(train)\n",
    "    result_test = model.transform(test)\n",
    "    \n",
    "    train_acc = evaluator.evaluate(result_train, {evaluator.metricName: 'accuracy'})\n",
    "    test_acc = evaluator.evaluate(result_test, {evaluator.metricName: 'accuracy'})\n",
    "    \n",
    "    test_precision_1 = evaluator.evaluate(result_test, {evaluator.metricName: 'precisionByLabel', evaluator.metricLabel: 1.0})\n",
    "    test_precision_2 = evaluator.evaluate(result_test, {evaluator.metricName: 'precisionByLabel', evaluator.metricLabel: 2.0})\n",
    "    test_recall_1 = evaluator.evaluate(result_test, {evaluator.metricName: 'recallByLabel', evaluator.metricLabel: 1.0})\n",
    "    test_recall_2 = evaluator.evaluate(result_test, {evaluator.metricName: 'recallByLabel', evaluator.metricLabel: 2.0})\n",
    "    \n",
    "    print(classifier, '\\n')\n",
    "    print(f\"Training set accuracy: {round(train_acc, 3)}\")\n",
    "    print(f\"Test set accuracy: {round(test_acc, 3)}\")\n",
    "    print('-'*40)\n",
    "    print(\"Test set precision\")\n",
    "    print(f\"Label 1.0: {round(test_precision_1, 3)}    Label 2.0: {round(test_precision_2, 3)}\")\n",
    "    print('-'*40)\n",
    "    print(\"Test set recall\")\n",
    "    print(f\"Label 1.0: {round(test_recall_1, 3)}    Label 2.0: {round(test_recall_2, 3)}\")"
   ]
  },
  {
   "cell_type": "code",
   "execution_count": 38,
   "id": "52303220",
   "metadata": {},
   "outputs": [],
   "source": [
    "lr_1 = LogisticRegression(\n",
    "    featuresCol='features',\n",
    "    labelCol='damage_grade',\n",
    "    predictionCol='prediction',\n",
    "    standardization=False\n",
    ")"
   ]
  },
  {
   "cell_type": "code",
   "execution_count": 64,
   "id": "8137fdf5",
   "metadata": {},
   "outputs": [
    {
     "name": "stdout",
     "output_type": "stream",
     "text": [
      "LogisticRegression_78ea862a6fc5 \n",
      "\n",
      "Training set accuracy: 0.593\n",
      "Test set accuracy: 0.591\n",
      "----------------------------------------\n",
      "Test set precision\n",
      "Label 1.0: 0.57    Label 2.0: 0.597\n",
      "----------------------------------------\n",
      "Test set recall\n",
      "Label 1.0: 0.298    Label 2.0: 0.875\n"
     ]
    }
   ],
   "source": [
    "score_model(lr_1)"
   ]
  },
  {
   "cell_type": "code",
   "execution_count": null,
   "id": "8459e303",
   "metadata": {},
   "outputs": [],
   "source": []
  },
  {
   "cell_type": "code",
   "execution_count": null,
   "id": "8c061111",
   "metadata": {},
   "outputs": [],
   "source": []
  },
  {
   "cell_type": "code",
   "execution_count": null,
   "id": "2c6e3c48",
   "metadata": {},
   "outputs": [],
   "source": []
  },
  {
   "cell_type": "code",
   "execution_count": null,
   "id": "cb696d00-1f5f-4bfa-8d40-23dbc5dd05cb",
   "metadata": {},
   "outputs": [],
   "source": []
  }
 ],
 "metadata": {
  "kernelspec": {
   "display_name": "Python (spark-env)",
   "language": "python",
   "name": "spark-env"
  },
  "language_info": {
   "codemirror_mode": {
    "name": "ipython",
    "version": 3
   },
   "file_extension": ".py",
   "mimetype": "text/x-python",
   "name": "python",
   "nbconvert_exporter": "python",
   "pygments_lexer": "ipython3",
   "version": "3.8.13"
  }
 },
 "nbformat": 4,
 "nbformat_minor": 5
}
