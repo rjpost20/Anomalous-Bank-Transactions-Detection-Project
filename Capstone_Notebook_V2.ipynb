{
  "cells": [
    {
      "cell_type": "code",
      "execution_count": 1,
      "id": "43832c77-c88f-4f18-b9c7-cd524c83a079",
      "metadata": {
        "id": "43832c77-c88f-4f18-b9c7-cd524c83a079"
      },
      "outputs": [],
      "source": [
        ""
      ]
    },
    {
      "cell_type": "markdown",
      "id": "4e776a59",
      "metadata": {
        "id": "4e776a59"
      },
      "source": [
        "# Phase 5 Project: *Title*"
      ]
    },
    {
      "cell_type": "markdown",
      "id": "0d8d69b1",
      "metadata": {
        "id": "0d8d69b1"
      },
      "source": [
        "### By Ryan Posternak"
      ]
    },
    {
      "cell_type": "markdown",
      "id": "391da7ad",
      "metadata": {
        "id": "391da7ad"
      },
      "source": [
        "Flatiron School, Full-Time Live NYC<br>\n",
        "Project Presentation Date: August 26th, 2022<br>\n",
        "Instructor: Joseph Mata"
      ]
    },
    {
      "cell_type": "markdown",
      "id": "e224a6d9",
      "metadata": {
        "id": "e224a6d9"
      },
      "source": [
        "## Goal: \n",
        "\n",
        "*This is a project for learning purposes. The *** is not involved with this project in any way.*\n",
        "\n",
        "<br>"
      ]
    },
    {
      "cell_type": "markdown",
      "id": "b6ebe033",
      "metadata": {
        "id": "b6ebe033"
      },
      "source": [
        "# Overview and Business Understanding"
      ]
    },
    {
      "cell_type": "code",
      "execution_count": 1,
      "id": "4d11f20f",
      "metadata": {
        "id": "4d11f20f"
      },
      "outputs": [],
      "source": [
        ""
      ]
    },
    {
      "cell_type": "markdown",
      "id": "982dc4d2",
      "metadata": {
        "id": "982dc4d2"
      },
      "source": [
        "<br>"
      ]
    },
    {
      "cell_type": "markdown",
      "id": "70c4b223",
      "metadata": {
        "id": "70c4b223"
      },
      "source": [
        "# Data Understanding"
      ]
    },
    {
      "cell_type": "code",
      "execution_count": 1,
      "id": "f5a85825",
      "metadata": {
        "id": "f5a85825"
      },
      "outputs": [],
      "source": [
        ""
      ]
    },
    {
      "cell_type": "markdown",
      "id": "8ae04d92",
      "metadata": {
        "id": "8ae04d92"
      },
      "source": [
        "<br>"
      ]
    },
    {
      "cell_type": "markdown",
      "id": "e374d1a3",
      "metadata": {
        "id": "e374d1a3"
      },
      "source": [
        "# Initial Exploratory Data Analysis"
      ]
    },
    {
      "cell_type": "markdown",
      "id": "090076bc",
      "metadata": {
        "id": "090076bc"
      },
      "source": [
        "### Import libraries, packages and modules"
      ]
    },
    {
      "cell_type": "code",
      "source": [
        "!sudo apt update\n",
        "!apt-get install openjdk-8-jdk-headless -qq > /dev/null\n",
        "!wget -q https://archive.apache.org/dist/spark/spark-3.0.0/spark-3.0.0-bin-hadoop3.2.tgz\n",
        "!tar xf spark-3.0.0-bin-hadoop3.2.tgz\n",
        "import os\n",
        "os.environ[\"JAVA_HOME\"] = \"/usr/lib/jvm/java-8-openjdk-amd64\"\n",
        "os.environ[\"SPARK_HOME\"] = \"/content/spark-3.0.0-bin-hadoop3.2\"\n",
        "!pip install pyspark==3\n",
        "!pip install -q findspark\n",
        "import findspark\n",
        "findspark.init()"
      ],
      "metadata": {
        "colab": {
          "base_uri": "https://localhost:8080/"
        },
        "id": "3SMbckpdPwV1",
        "outputId": "3f8960df-a4c7-42b2-82f7-b7a005494c34"
      },
      "id": "3SMbckpdPwV1",
      "execution_count": 6,
      "outputs": [
        {
          "output_type": "stream",
          "name": "stdout",
          "text": [
            "Hit:1 http://archive.ubuntu.com/ubuntu bionic InRelease\n",
            "Get:2 http://archive.ubuntu.com/ubuntu bionic-updates InRelease [88.7 kB]\n",
            "Get:3 http://security.ubuntu.com/ubuntu bionic-security InRelease [88.7 kB]\n",
            "Get:4 http://ppa.launchpad.net/c2d4u.team/c2d4u4.0+/ubuntu bionic InRelease [15.9 kB]\n",
            "Get:5 http://archive.ubuntu.com/ubuntu bionic-backports InRelease [74.6 kB]\n",
            "Get:6 https://cloud.r-project.org/bin/linux/ubuntu bionic-cran40/ InRelease [3,626 B]\n",
            "Hit:7 http://ppa.launchpad.net/cran/libgit2/ubuntu bionic InRelease\n",
            "Ign:8 https://developer.download.nvidia.com/compute/machine-learning/repos/ubuntu1804/x86_64  InRelease\n",
            "Get:9 https://developer.download.nvidia.com/compute/cuda/repos/ubuntu1804/x86_64  InRelease [1,581 B]\n",
            "Hit:10 https://developer.download.nvidia.com/compute/machine-learning/repos/ubuntu1804/x86_64  Release\n",
            "Get:11 http://ppa.launchpad.net/deadsnakes/ppa/ubuntu bionic InRelease [15.9 kB]\n",
            "Get:12 http://archive.ubuntu.com/ubuntu bionic-updates/restricted amd64 Packages [1,141 kB]\n",
            "Hit:13 http://ppa.launchpad.net/graphics-drivers/ppa/ubuntu bionic InRelease\n",
            "Get:14 http://archive.ubuntu.com/ubuntu bionic-updates/main amd64 Packages [3,369 kB]\n",
            "Get:15 http://archive.ubuntu.com/ubuntu bionic-updates/universe amd64 Packages [2,310 kB]\n",
            "Get:16 https://cloud.r-project.org/bin/linux/ubuntu bionic-cran40/ Packages [89.9 kB]\n",
            "Get:17 http://ppa.launchpad.net/c2d4u.team/c2d4u4.0+/ubuntu bionic/main Sources [2,077 kB]\n",
            "Get:18 http://security.ubuntu.com/ubuntu bionic-security/universe amd64 Packages [1,533 kB]\n",
            "Get:19 http://ppa.launchpad.net/c2d4u.team/c2d4u4.0+/ubuntu bionic/main amd64 Packages [1,064 kB]\n",
            "Get:20 http://security.ubuntu.com/ubuntu bionic-security/main amd64 Packages [2,937 kB]\n",
            "Get:21 http://security.ubuntu.com/ubuntu bionic-security/restricted amd64 Packages [1,100 kB]\n",
            "Get:22 https://developer.download.nvidia.com/compute/cuda/repos/ubuntu1804/x86_64  Packages [903 kB]\n",
            "Get:24 http://ppa.launchpad.net/deadsnakes/ppa/ubuntu bionic/main amd64 Packages [45.3 kB]\n",
            "Fetched 16.9 MB in 6s (2,727 kB/s)\n",
            "Reading package lists... Done\n",
            "Building dependency tree       \n",
            "Reading state information... Done\n",
            "33 packages can be upgraded. Run 'apt list --upgradable' to see them.\n",
            "Looking in indexes: https://pypi.org/simple, https://us-python.pkg.dev/colab-wheels/public/simple/\n",
            "Requirement already satisfied: pyspark==3 in /usr/local/lib/python3.7/dist-packages (3.0.0)\n",
            "Requirement already satisfied: py4j==0.10.9 in /usr/local/lib/python3.7/dist-packages (from pyspark==3) (0.10.9)\n"
          ]
        }
      ]
    },
    {
      "cell_type": "code",
      "execution_count": 53,
      "id": "d5c6ddd6",
      "metadata": {
        "colab": {
          "base_uri": "https://localhost:8080/",
          "height": 17
        },
        "id": "d5c6ddd6",
        "outputId": "fe903fe3-ab2a-47fd-ccfe-7e7b46cb81fe"
      },
      "outputs": [
        {
          "output_type": "display_data",
          "data": {
            "text/plain": [
              "<IPython.core.display.HTML object>"
            ],
            "text/html": [
              "\n",
              "  <style>\n",
              "    pre {\n",
              "        white-space: pre-wrap;\n",
              "    }\n",
              "  </style>\n",
              "  "
            ]
          },
          "metadata": {}
        }
      ],
      "source": [
        "import numpy as np\n",
        "import pandas as pd\n",
        "import os\n",
        "\n",
        "from pyspark.sql import SparkSession\n",
        "import pyspark.sql.functions as F\n",
        "from pyspark.sql.types import StringType, IntegerType, DoubleType\n",
        "from pyspark.ml.feature import StringIndexer, OneHotEncoder, VectorAssembler, StandardScaler\n",
        "from pyspark.ml import Pipeline\n",
        "from pyspark.ml.classification import LogisticRegression\n",
        "# from pyspark.ml.evaluation import BinaryClassificationEvaluator\n",
        "from pyspark.ml.evaluation import MulticlassClassificationEvaluator\n",
        "from pyspark.ml.tuning import ParamGridBuilder, CrossValidator\n",
        "\n",
        "from sklearn.metrics import confusion_matrix, ConfusionMatrixDisplay\n",
        "\n",
        "import matplotlib.pyplot as plt\n",
        "plt.style.use('seaborn')\n",
        "import seaborn as sns\n",
        "import matplotlib_inline.backend_inline\n",
        "matplotlib_inline.backend_inline.set_matplotlib_formats('retina')\n",
        "%matplotlib inline"
      ]
    },
    {
      "cell_type": "code",
      "source": [
        "gpu_info = !nvidia-smi\n",
        "gpu_info = '\\n'.join(gpu_info)\n",
        "if gpu_info.find('failed') >= 0:\n",
        "  print('Not connected to a GPU')\n",
        "else:\n",
        "  print(gpu_info)"
      ],
      "metadata": {
        "id": "ZZJGkRagb5Ml",
        "outputId": "b14819a2-78a9-4a2e-c280-a22fb383becb",
        "colab": {
          "base_uri": "https://localhost:8080/"
        }
      },
      "id": "ZZJGkRagb5Ml",
      "execution_count": 8,
      "outputs": [
        {
          "output_type": "stream",
          "name": "stdout",
          "text": [
            "Not connected to a GPU\n"
          ]
        }
      ]
    },
    {
      "cell_type": "code",
      "source": [
        "# Set text to wrap in Google colab notebook\n",
        "from IPython.display import HTML, display\n",
        "\n",
        "def set_css():\n",
        "  display(HTML('''\n",
        "  <style>\n",
        "    pre {\n",
        "        white-space: pre-wrap;\n",
        "    }\n",
        "  </style>\n",
        "  '''))\n",
        "get_ipython().events.register('pre_run_cell', set_css)"
      ],
      "metadata": {
        "id": "PCAO5zx_ZMQV"
      },
      "id": "PCAO5zx_ZMQV",
      "execution_count": 9,
      "outputs": []
    },
    {
      "cell_type": "code",
      "execution_count": 10,
      "id": "ba42162b",
      "metadata": {
        "colab": {
          "base_uri": "https://localhost:8080/",
          "height": 17
        },
        "id": "ba42162b",
        "outputId": "c04cdbbb-0880-4630-d7d6-e6be984bdba0"
      },
      "outputs": [
        {
          "output_type": "display_data",
          "data": {
            "text/plain": [
              "<IPython.core.display.HTML object>"
            ],
            "text/html": [
              "\n",
              "  <style>\n",
              "    pre {\n",
              "        white-space: pre-wrap;\n",
              "    }\n",
              "  </style>\n",
              "  "
            ]
          },
          "metadata": {}
        }
      ],
      "source": [
        "# Initialize Spark Session\n",
        "# spark = SparkSession.builder.master('local[*]').getOrCreate()\n",
        "spark = SparkSession.builder\\\n",
        "        .master(\"local[*]\")\\\n",
        "        .appName(\"Colab\")\\\n",
        "        .config('spark.ui.port', '4050')\\\n",
        "        .getOrCreate()"
      ]
    },
    {
      "cell_type": "code",
      "execution_count": 12,
      "id": "a3f1a32e",
      "metadata": {
        "colab": {
          "base_uri": "https://localhost:8080/",
          "height": 17
        },
        "id": "a3f1a32e",
        "outputId": "20c093b5-5b5e-484b-975b-7c2270acc74f"
      },
      "outputs": [
        {
          "output_type": "display_data",
          "data": {
            "text/plain": [
              "<IPython.core.display.HTML object>"
            ],
            "text/html": [
              "\n",
              "  <style>\n",
              "    pre {\n",
              "        white-space: pre-wrap;\n",
              "    }\n",
              "  </style>\n",
              "  "
            ]
          },
          "metadata": {}
        }
      ],
      "source": [
        "# Read in training data csv to a Spark DataFrame\n",
        "spark_X_df = spark.read.csv('Richters_Predictor_Modeling_Earthquake_Damage_-_Train_Values.csv', header=True)\n",
        "\n",
        "# Read in testing data csv to a Spark DataFrame\n",
        "spark_y_df = spark.read.csv('Richters_Predictor_Modeling_Earthquake_Damage_-_Train_Labels.csv', header=True)"
      ]
    },
    {
      "cell_type": "code",
      "execution_count": 13,
      "id": "afafaef6",
      "metadata": {
        "colab": {
          "base_uri": "https://localhost:8080/",
          "height": 34
        },
        "id": "afafaef6",
        "outputId": "5476eaf4-b75a-4d90-eb2f-e4a304da9dd9"
      },
      "outputs": [
        {
          "output_type": "display_data",
          "data": {
            "text/plain": [
              "<IPython.core.display.HTML object>"
            ],
            "text/html": [
              "\n",
              "  <style>\n",
              "    pre {\n",
              "        white-space: pre-wrap;\n",
              "    }\n",
              "  </style>\n",
              "  "
            ]
          },
          "metadata": {}
        },
        {
          "output_type": "stream",
          "name": "stdout",
          "text": [
            "Rows: 23301, Columns: 39\n"
          ]
        }
      ],
      "source": [
        "# Print shape of dataframe\n",
        "print(f\"Rows: {spark_X_df.count()}, Columns: {len(spark_X_df.columns)}\")"
      ]
    },
    {
      "cell_type": "code",
      "execution_count": 14,
      "id": "d94a0898",
      "metadata": {
        "colab": {
          "base_uri": "https://localhost:8080/",
          "height": 714
        },
        "id": "d94a0898",
        "outputId": "ceca0735-7f43-421f-95e0-548bc669f9c8"
      },
      "outputs": [
        {
          "output_type": "display_data",
          "data": {
            "text/plain": [
              "<IPython.core.display.HTML object>"
            ],
            "text/html": [
              "\n",
              "  <style>\n",
              "    pre {\n",
              "        white-space: pre-wrap;\n",
              "    }\n",
              "  </style>\n",
              "  "
            ]
          },
          "metadata": {}
        },
        {
          "output_type": "stream",
          "name": "stdout",
          "text": [
            "root\n",
            " |-- building_id: string (nullable = true)\n",
            " |-- geo_level_1_id: string (nullable = true)\n",
            " |-- geo_level_2_id: string (nullable = true)\n",
            " |-- geo_level_3_id: string (nullable = true)\n",
            " |-- count_floors_pre_eq: string (nullable = true)\n",
            " |-- age: string (nullable = true)\n",
            " |-- area_percentage: string (nullable = true)\n",
            " |-- height_percentage: string (nullable = true)\n",
            " |-- land_surface_condition: string (nullable = true)\n",
            " |-- foundation_type: string (nullable = true)\n",
            " |-- roof_type: string (nullable = true)\n",
            " |-- ground_floor_type: string (nullable = true)\n",
            " |-- other_floor_type: string (nullable = true)\n",
            " |-- position: string (nullable = true)\n",
            " |-- plan_configuration: string (nullable = true)\n",
            " |-- has_superstructure_adobe_mud: string (nullable = true)\n",
            " |-- has_superstructure_mud_mortar_stone: string (nullable = true)\n",
            " |-- has_superstructure_stone_flag: string (nullable = true)\n",
            " |-- has_superstructure_cement_mortar_stone: string (nullable = true)\n",
            " |-- has_superstructure_mud_mortar_brick: string (nullable = true)\n",
            " |-- has_superstructure_cement_mortar_brick: string (nullable = true)\n",
            " |-- has_superstructure_timber: string (nullable = true)\n",
            " |-- has_superstructure_bamboo: string (nullable = true)\n",
            " |-- has_superstructure_rc_non_engineered: string (nullable = true)\n",
            " |-- has_superstructure_rc_engineered: string (nullable = true)\n",
            " |-- has_superstructure_other: string (nullable = true)\n",
            " |-- legal_ownership_status: string (nullable = true)\n",
            " |-- count_families: string (nullable = true)\n",
            " |-- has_secondary_use: string (nullable = true)\n",
            " |-- has_secondary_use_agriculture: string (nullable = true)\n",
            " |-- has_secondary_use_hotel: string (nullable = true)\n",
            " |-- has_secondary_use_rental: string (nullable = true)\n",
            " |-- has_secondary_use_institution: string (nullable = true)\n",
            " |-- has_secondary_use_school: string (nullable = true)\n",
            " |-- has_secondary_use_industry: string (nullable = true)\n",
            " |-- has_secondary_use_health_post: string (nullable = true)\n",
            " |-- has_secondary_use_gov_office: string (nullable = true)\n",
            " |-- has_secondary_use_use_police: string (nullable = true)\n",
            " |-- has_secondary_use_other: string (nullable = true)\n",
            "\n"
          ]
        }
      ],
      "source": [
        "# Print features dataframe schema\n",
        "spark_X_df.printSchema()"
      ]
    },
    {
      "cell_type": "code",
      "execution_count": 15,
      "id": "c2c7b2b7",
      "metadata": {
        "colab": {
          "base_uri": "https://localhost:8080/",
          "height": 731
        },
        "id": "c2c7b2b7",
        "outputId": "cc97200b-c92c-4cfc-b7a5-75c1b52a7994"
      },
      "outputs": [
        {
          "output_type": "display_data",
          "data": {
            "text/plain": [
              "<IPython.core.display.HTML object>"
            ],
            "text/html": [
              "\n",
              "  <style>\n",
              "    pre {\n",
              "        white-space: pre-wrap;\n",
              "    }\n",
              "  </style>\n",
              "  "
            ]
          },
          "metadata": {}
        },
        {
          "output_type": "stream",
          "name": "stdout",
          "text": [
            "-RECORD 0----------------------------------------\n",
            " building_id                            | 802906 \n",
            " geo_level_1_id                         | 6      \n",
            " geo_level_2_id                         | 487    \n",
            " geo_level_3_id                         | 12198  \n",
            " count_floors_pre_eq                    | 2      \n",
            " age                                    | 30     \n",
            " area_percentage                        | 6      \n",
            " height_percentage                      | 5      \n",
            " land_surface_condition                 | t      \n",
            " foundation_type                        | r      \n",
            " roof_type                              | n      \n",
            " ground_floor_type                      | f      \n",
            " other_floor_type                       | q      \n",
            " position                               | t      \n",
            " plan_configuration                     | d      \n",
            " has_superstructure_adobe_mud           | 1      \n",
            " has_superstructure_mud_mortar_stone    | 1      \n",
            " has_superstructure_stone_flag          | 0      \n",
            " has_superstructure_cement_mortar_stone | 0      \n",
            " has_superstructure_mud_mortar_brick    | 0      \n",
            " has_superstructure_cement_mortar_brick | 0      \n",
            " has_superstructure_timber              | 0      \n",
            " has_superstructure_bamboo              | 0      \n",
            " has_superstructure_rc_non_engineered   | 0      \n",
            " has_superstructure_rc_engineered       | 0      \n",
            " has_superstructure_other               | 0      \n",
            " legal_ownership_status                 | v      \n",
            " count_families                         | 1      \n",
            " has_secondary_use                      | 0      \n",
            " has_secondary_use_agriculture          | 0      \n",
            " has_secondary_use_hotel                | 0      \n",
            " has_secondary_use_rental               | 0      \n",
            " has_secondary_use_institution          | 0      \n",
            " has_secondary_use_school               | 0      \n",
            " has_secondary_use_industry             | 0      \n",
            " has_secondary_use_health_post          | 0      \n",
            " has_secondary_use_gov_office           | 0      \n",
            " has_secondary_use_use_police           | 0      \n",
            " has_secondary_use_other                | 0      \n",
            "only showing top 1 row\n",
            "\n"
          ]
        }
      ],
      "source": [
        "# Print first row\n",
        "spark_X_df.show(n=1, vertical=True)"
      ]
    },
    {
      "cell_type": "code",
      "execution_count": 16,
      "id": "147b5891",
      "metadata": {
        "colab": {
          "base_uri": "https://localhost:8080/",
          "height": 799
        },
        "id": "147b5891",
        "outputId": "de913d94-15e2-4985-c1f7-7e19d9ea2b07"
      },
      "outputs": [
        {
          "output_type": "display_data",
          "data": {
            "text/plain": [
              "<IPython.core.display.HTML object>"
            ],
            "text/html": [
              "\n",
              "  <style>\n",
              "    pre {\n",
              "        white-space: pre-wrap;\n",
              "    }\n",
              "  </style>\n",
              "  "
            ]
          },
          "metadata": {}
        },
        {
          "output_type": "stream",
          "name": "stdout",
          "text": [
            "<class 'pandas.core.frame.DataFrame'>\n",
            "RangeIndex: 23301 entries, 0 to 23300\n",
            "Data columns (total 39 columns):\n",
            " #   Column                                  Non-Null Count  Dtype \n",
            "---  ------                                  --------------  ----- \n",
            " 0   building_id                             23301 non-null  object\n",
            " 1   geo_level_1_id                          23301 non-null  object\n",
            " 2   geo_level_2_id                          23301 non-null  object\n",
            " 3   geo_level_3_id                          23301 non-null  object\n",
            " 4   count_floors_pre_eq                     23301 non-null  object\n",
            " 5   age                                     23301 non-null  object\n",
            " 6   area_percentage                         23301 non-null  object\n",
            " 7   height_percentage                       23301 non-null  object\n",
            " 8   land_surface_condition                  23301 non-null  object\n",
            " 9   foundation_type                         23301 non-null  object\n",
            " 10  roof_type                               23301 non-null  object\n",
            " 11  ground_floor_type                       23301 non-null  object\n",
            " 12  other_floor_type                        23301 non-null  object\n",
            " 13  position                                23301 non-null  object\n",
            " 14  plan_configuration                      23301 non-null  object\n",
            " 15  has_superstructure_adobe_mud            23301 non-null  object\n",
            " 16  has_superstructure_mud_mortar_stone     23301 non-null  object\n",
            " 17  has_superstructure_stone_flag           23301 non-null  object\n",
            " 18  has_superstructure_cement_mortar_stone  23301 non-null  object\n",
            " 19  has_superstructure_mud_mortar_brick     23301 non-null  object\n",
            " 20  has_superstructure_cement_mortar_brick  23301 non-null  object\n",
            " 21  has_superstructure_timber               23301 non-null  object\n",
            " 22  has_superstructure_bamboo               23301 non-null  object\n",
            " 23  has_superstructure_rc_non_engineered    23301 non-null  object\n",
            " 24  has_superstructure_rc_engineered        23301 non-null  object\n",
            " 25  has_superstructure_other                23301 non-null  object\n",
            " 26  legal_ownership_status                  23301 non-null  object\n",
            " 27  count_families                          23301 non-null  object\n",
            " 28  has_secondary_use                       23301 non-null  object\n",
            " 29  has_secondary_use_agriculture           23301 non-null  object\n",
            " 30  has_secondary_use_hotel                 23301 non-null  object\n",
            " 31  has_secondary_use_rental                23301 non-null  object\n",
            " 32  has_secondary_use_institution           23301 non-null  object\n",
            " 33  has_secondary_use_school                23301 non-null  object\n",
            " 34  has_secondary_use_industry              23301 non-null  object\n",
            " 35  has_secondary_use_health_post           23301 non-null  object\n",
            " 36  has_secondary_use_gov_office            23301 non-null  object\n",
            " 37  has_secondary_use_use_police            23301 non-null  object\n",
            " 38  has_secondary_use_other                 23301 non-null  object\n",
            "dtypes: object(39)\n",
            "memory usage: 6.9+ MB\n"
          ]
        }
      ],
      "source": [
        "# Show unique values for each column through Pandas\n",
        "spark_X_df.toPandas().info()"
      ]
    },
    {
      "cell_type": "code",
      "execution_count": 17,
      "id": "71a7db64",
      "metadata": {
        "colab": {
          "base_uri": "https://localhost:8080/",
          "height": 714
        },
        "id": "71a7db64",
        "outputId": "3e6e06cd-dcea-4b48-e2c9-e898c0ff1a0a"
      },
      "outputs": [
        {
          "output_type": "display_data",
          "data": {
            "text/plain": [
              "<IPython.core.display.HTML object>"
            ],
            "text/html": [
              "\n",
              "  <style>\n",
              "    pre {\n",
              "        white-space: pre-wrap;\n",
              "    }\n",
              "  </style>\n",
              "  "
            ]
          },
          "metadata": {}
        },
        {
          "output_type": "stream",
          "name": "stdout",
          "text": [
            "-RECORD 0------------------------------------------------\n",
            " distinct_building_id                            | 23301 \n",
            " distinct_geo_level_1_id                         | 31    \n",
            " distinct_geo_level_2_id                         | 1270  \n",
            " distinct_geo_level_3_id                         | 7477  \n",
            " distinct_count_floors_pre_eq                    | 9     \n",
            " distinct_age                                    | 35    \n",
            " distinct_area_percentage                        | 61    \n",
            " distinct_height_percentage                      | 23    \n",
            " distinct_land_surface_condition                 | 3     \n",
            " distinct_foundation_type                        | 5     \n",
            " distinct_roof_type                              | 3     \n",
            " distinct_ground_floor_type                      | 5     \n",
            " distinct_other_floor_type                       | 4     \n",
            " distinct_position                               | 4     \n",
            " distinct_plan_configuration                     | 10    \n",
            " distinct_has_superstructure_adobe_mud           | 2     \n",
            " distinct_has_superstructure_mud_mortar_stone    | 2     \n",
            " distinct_has_superstructure_stone_flag          | 2     \n",
            " distinct_has_superstructure_cement_mortar_stone | 2     \n",
            " distinct_has_superstructure_mud_mortar_brick    | 2     \n",
            " distinct_has_superstructure_cement_mortar_brick | 2     \n",
            " distinct_has_superstructure_timber              | 2     \n",
            " distinct_has_superstructure_bamboo              | 2     \n",
            " distinct_has_superstructure_rc_non_engineered   | 2     \n",
            " distinct_has_superstructure_rc_engineered       | 2     \n",
            " distinct_has_superstructure_other               | 2     \n",
            " distinct_legal_ownership_status                 | 4     \n",
            " distinct_count_families                         | 7     \n",
            " distinct_has_secondary_use                      | 2     \n",
            " distinct_has_secondary_use_agriculture          | 2     \n",
            " distinct_has_secondary_use_hotel                | 2     \n",
            " distinct_has_secondary_use_rental               | 2     \n",
            " distinct_has_secondary_use_institution          | 2     \n",
            " distinct_has_secondary_use_school               | 2     \n",
            " distinct_has_secondary_use_industry             | 2     \n",
            " distinct_has_secondary_use_health_post          | 2     \n",
            " distinct_has_secondary_use_gov_office           | 1     \n",
            " distinct_has_secondary_use_use_police           | 2     \n",
            " distinct_has_secondary_use_other                | 2     \n",
            "\n"
          ]
        }
      ],
      "source": [
        "# Show unique values for each column through PySpark\n",
        "spark_X_df.agg(*(F.countDistinct(F.col(c)).alias('distinct_' + c) for c in spark_X_df.columns)).show(vertical=True)"
      ]
    },
    {
      "cell_type": "code",
      "execution_count": 18,
      "id": "6f29ae18",
      "metadata": {
        "colab": {
          "base_uri": "https://localhost:8080/",
          "height": 714
        },
        "id": "6f29ae18",
        "outputId": "8830566c-09a3-4a6a-bd44-18e353ffbfc4"
      },
      "outputs": [
        {
          "output_type": "display_data",
          "data": {
            "text/plain": [
              "<IPython.core.display.HTML object>"
            ],
            "text/html": [
              "\n",
              "  <style>\n",
              "    pre {\n",
              "        white-space: pre-wrap;\n",
              "    }\n",
              "  </style>\n",
              "  "
            ]
          },
          "metadata": {}
        },
        {
          "output_type": "stream",
          "name": "stdout",
          "text": [
            "-RECORD 0------------------------------------------\n",
            " null_building_id                            | 0   \n",
            " null_geo_level_1_id                         | 0   \n",
            " null_geo_level_2_id                         | 0   \n",
            " null_geo_level_3_id                         | 0   \n",
            " null_count_floors_pre_eq                    | 0   \n",
            " null_age                                    | 0   \n",
            " null_area_percentage                        | 0   \n",
            " null_height_percentage                      | 0   \n",
            " null_land_surface_condition                 | 0   \n",
            " null_foundation_type                        | 0   \n",
            " null_roof_type                              | 0   \n",
            " null_ground_floor_type                      | 0   \n",
            " null_other_floor_type                       | 0   \n",
            " null_position                               | 0   \n",
            " null_plan_configuration                     | 0   \n",
            " null_has_superstructure_adobe_mud           | 0   \n",
            " null_has_superstructure_mud_mortar_stone    | 0   \n",
            " null_has_superstructure_stone_flag          | 0   \n",
            " null_has_superstructure_cement_mortar_stone | 0   \n",
            " null_has_superstructure_mud_mortar_brick    | 0   \n",
            " null_has_superstructure_cement_mortar_brick | 0   \n",
            " null_has_superstructure_timber              | 0   \n",
            " null_has_superstructure_bamboo              | 0   \n",
            " null_has_superstructure_rc_non_engineered   | 0   \n",
            " null_has_superstructure_rc_engineered       | 0   \n",
            " null_has_superstructure_other               | 0   \n",
            " null_legal_ownership_status                 | 0   \n",
            " null_count_families                         | 0   \n",
            " null_has_secondary_use                      | 0   \n",
            " null_has_secondary_use_agriculture          | 0   \n",
            " null_has_secondary_use_hotel                | 0   \n",
            " null_has_secondary_use_rental               | 0   \n",
            " null_has_secondary_use_institution          | 0   \n",
            " null_has_secondary_use_school               | 0   \n",
            " null_has_secondary_use_industry             | 0   \n",
            " null_has_secondary_use_health_post          | 0   \n",
            " null_has_secondary_use_gov_office           | 0   \n",
            " null_has_secondary_use_use_police           | 0   \n",
            " null_has_secondary_use_other                | 0   \n",
            "\n"
          ]
        }
      ],
      "source": [
        "# Show null values for each column through PySpark\n",
        "spark_X_df.select([F.count(F.when(F.isnan(c), c)).alias('null_' + c) for c in spark_X_df.columns]).show(vertical=True)"
      ]
    },
    {
      "cell_type": "code",
      "execution_count": 19,
      "id": "a26f0fc5",
      "metadata": {
        "colab": {
          "base_uri": "https://localhost:8080/",
          "height": 390
        },
        "id": "a26f0fc5",
        "outputId": "bc5a87ca-f496-42d4-a67e-dd56111a4d15"
      },
      "outputs": [
        {
          "output_type": "display_data",
          "data": {
            "text/plain": [
              "<IPython.core.display.HTML object>"
            ],
            "text/html": [
              "\n",
              "  <style>\n",
              "    pre {\n",
              "        white-space: pre-wrap;\n",
              "    }\n",
              "  </style>\n",
              "  "
            ]
          },
          "metadata": {}
        },
        {
          "output_type": "execute_result",
          "data": {
            "text/plain": [
              "  summary count_floors_pre_eq                age    area_percentage  \\\n",
              "0   count               23301              23301              23301   \n",
              "1    mean  2.1246298442126945  25.74739281575898  8.020857473928158   \n",
              "2  stddev  0.7316884739081618   68.9490728132542  4.414382770845711   \n",
              "3     min                   1                  0                  1   \n",
              "4     25%                 2.0               10.0                5.0   \n",
              "5     50%                 2.0               15.0                7.0   \n",
              "6     75%                 2.0               30.0                9.0   \n",
              "7     max                   9                995                  9   \n",
              "\n",
              "    height_percentage land_surface_condition foundation_type roof_type  \\\n",
              "0               23301                  23301           23301     23301   \n",
              "1   5.431397794086091                   None            None      None   \n",
              "2  1.9400631529680044                   None            None      None   \n",
              "3                  10                      n               h         n   \n",
              "4                 4.0                   None            None      None   \n",
              "5                 5.0                   None            None      None   \n",
              "6                 6.0                   None            None      None   \n",
              "7                   9                      t               w         x   \n",
              "\n",
              "  ground_floor_type other_floor_type  ... has_secondary_use_agriculture  \\\n",
              "0             23301            23301  ...                         23301   \n",
              "1              None             None  ...           0.06377408694905798   \n",
              "2              None             None  ...           0.24435530547347295   \n",
              "3                 f                j  ...                             0   \n",
              "4              None             None  ...                           0.0   \n",
              "5              None             None  ...                           0.0   \n",
              "6              None             None  ...                           0.0   \n",
              "7                 z                x  ...                             1   \n",
              "\n",
              "  has_secondary_use_hotel has_secondary_use_rental  \\\n",
              "0                   23301                    23301   \n",
              "1    0.034376207029741215     0.008111239860950173   \n",
              "2     0.18219744256144255      0.08969834417117561   \n",
              "3                       0                        0   \n",
              "4                     0.0                      0.0   \n",
              "5                     0.0                      0.0   \n",
              "6                     0.0                      0.0   \n",
              "7                       1                        1   \n",
              "\n",
              "  has_secondary_use_institution has_secondary_use_school  \\\n",
              "0                         23301                    23301   \n",
              "1          9.012488734389082E-4    3.4333290416720314E-4   \n",
              "2          0.030007920108792933     0.018526460993475692   \n",
              "3                             0                        0   \n",
              "4                           0.0                      0.0   \n",
              "5                           0.0                      0.0   \n",
              "6                           0.0                      0.0   \n",
              "7                             1                        1   \n",
              "\n",
              "  has_secondary_use_industry has_secondary_use_health_post  \\\n",
              "0                      23301                         23301   \n",
              "1      0.0012445817776061113         1.2874983906270118E-4   \n",
              "2        0.03525742677581437          0.011346311628646936   \n",
              "3                          0                             0   \n",
              "4                        0.0                           0.0   \n",
              "5                        0.0                           0.0   \n",
              "6                        0.0                           0.0   \n",
              "7                          1                             1   \n",
              "\n",
              "  has_secondary_use_gov_office has_secondary_use_use_police  \\\n",
              "0                        23301                        23301   \n",
              "1                          0.0        1.7166645208360157E-4   \n",
              "2                          0.0         0.013101310969019024   \n",
              "3                            0                            0   \n",
              "4                          0.0                          0.0   \n",
              "5                          0.0                          0.0   \n",
              "6                          0.0                          0.0   \n",
              "7                            0                            1   \n",
              "\n",
              "  has_secondary_use_other  \n",
              "0                   23301  \n",
              "1    0.004978327110424445  \n",
              "2     0.07038292383834253  \n",
              "3                       0  \n",
              "4                     0.0  \n",
              "5                     0.0  \n",
              "6                     0.0  \n",
              "7                       1  \n",
              "\n",
              "[8 rows x 36 columns]"
            ],
            "text/html": [
              "\n",
              "  <div id=\"df-ebdb6c4d-413d-415c-957d-65dc63151c81\">\n",
              "    <div class=\"colab-df-container\">\n",
              "      <div>\n",
              "<style scoped>\n",
              "    .dataframe tbody tr th:only-of-type {\n",
              "        vertical-align: middle;\n",
              "    }\n",
              "\n",
              "    .dataframe tbody tr th {\n",
              "        vertical-align: top;\n",
              "    }\n",
              "\n",
              "    .dataframe thead th {\n",
              "        text-align: right;\n",
              "    }\n",
              "</style>\n",
              "<table border=\"1\" class=\"dataframe\">\n",
              "  <thead>\n",
              "    <tr style=\"text-align: right;\">\n",
              "      <th></th>\n",
              "      <th>summary</th>\n",
              "      <th>count_floors_pre_eq</th>\n",
              "      <th>age</th>\n",
              "      <th>area_percentage</th>\n",
              "      <th>height_percentage</th>\n",
              "      <th>land_surface_condition</th>\n",
              "      <th>foundation_type</th>\n",
              "      <th>roof_type</th>\n",
              "      <th>ground_floor_type</th>\n",
              "      <th>other_floor_type</th>\n",
              "      <th>...</th>\n",
              "      <th>has_secondary_use_agriculture</th>\n",
              "      <th>has_secondary_use_hotel</th>\n",
              "      <th>has_secondary_use_rental</th>\n",
              "      <th>has_secondary_use_institution</th>\n",
              "      <th>has_secondary_use_school</th>\n",
              "      <th>has_secondary_use_industry</th>\n",
              "      <th>has_secondary_use_health_post</th>\n",
              "      <th>has_secondary_use_gov_office</th>\n",
              "      <th>has_secondary_use_use_police</th>\n",
              "      <th>has_secondary_use_other</th>\n",
              "    </tr>\n",
              "  </thead>\n",
              "  <tbody>\n",
              "    <tr>\n",
              "      <th>0</th>\n",
              "      <td>count</td>\n",
              "      <td>23301</td>\n",
              "      <td>23301</td>\n",
              "      <td>23301</td>\n",
              "      <td>23301</td>\n",
              "      <td>23301</td>\n",
              "      <td>23301</td>\n",
              "      <td>23301</td>\n",
              "      <td>23301</td>\n",
              "      <td>23301</td>\n",
              "      <td>...</td>\n",
              "      <td>23301</td>\n",
              "      <td>23301</td>\n",
              "      <td>23301</td>\n",
              "      <td>23301</td>\n",
              "      <td>23301</td>\n",
              "      <td>23301</td>\n",
              "      <td>23301</td>\n",
              "      <td>23301</td>\n",
              "      <td>23301</td>\n",
              "      <td>23301</td>\n",
              "    </tr>\n",
              "    <tr>\n",
              "      <th>1</th>\n",
              "      <td>mean</td>\n",
              "      <td>2.1246298442126945</td>\n",
              "      <td>25.74739281575898</td>\n",
              "      <td>8.020857473928158</td>\n",
              "      <td>5.431397794086091</td>\n",
              "      <td>None</td>\n",
              "      <td>None</td>\n",
              "      <td>None</td>\n",
              "      <td>None</td>\n",
              "      <td>None</td>\n",
              "      <td>...</td>\n",
              "      <td>0.06377408694905798</td>\n",
              "      <td>0.034376207029741215</td>\n",
              "      <td>0.008111239860950173</td>\n",
              "      <td>9.012488734389082E-4</td>\n",
              "      <td>3.4333290416720314E-4</td>\n",
              "      <td>0.0012445817776061113</td>\n",
              "      <td>1.2874983906270118E-4</td>\n",
              "      <td>0.0</td>\n",
              "      <td>1.7166645208360157E-4</td>\n",
              "      <td>0.004978327110424445</td>\n",
              "    </tr>\n",
              "    <tr>\n",
              "      <th>2</th>\n",
              "      <td>stddev</td>\n",
              "      <td>0.7316884739081618</td>\n",
              "      <td>68.9490728132542</td>\n",
              "      <td>4.414382770845711</td>\n",
              "      <td>1.9400631529680044</td>\n",
              "      <td>None</td>\n",
              "      <td>None</td>\n",
              "      <td>None</td>\n",
              "      <td>None</td>\n",
              "      <td>None</td>\n",
              "      <td>...</td>\n",
              "      <td>0.24435530547347295</td>\n",
              "      <td>0.18219744256144255</td>\n",
              "      <td>0.08969834417117561</td>\n",
              "      <td>0.030007920108792933</td>\n",
              "      <td>0.018526460993475692</td>\n",
              "      <td>0.03525742677581437</td>\n",
              "      <td>0.011346311628646936</td>\n",
              "      <td>0.0</td>\n",
              "      <td>0.013101310969019024</td>\n",
              "      <td>0.07038292383834253</td>\n",
              "    </tr>\n",
              "    <tr>\n",
              "      <th>3</th>\n",
              "      <td>min</td>\n",
              "      <td>1</td>\n",
              "      <td>0</td>\n",
              "      <td>1</td>\n",
              "      <td>10</td>\n",
              "      <td>n</td>\n",
              "      <td>h</td>\n",
              "      <td>n</td>\n",
              "      <td>f</td>\n",
              "      <td>j</td>\n",
              "      <td>...</td>\n",
              "      <td>0</td>\n",
              "      <td>0</td>\n",
              "      <td>0</td>\n",
              "      <td>0</td>\n",
              "      <td>0</td>\n",
              "      <td>0</td>\n",
              "      <td>0</td>\n",
              "      <td>0</td>\n",
              "      <td>0</td>\n",
              "      <td>0</td>\n",
              "    </tr>\n",
              "    <tr>\n",
              "      <th>4</th>\n",
              "      <td>25%</td>\n",
              "      <td>2.0</td>\n",
              "      <td>10.0</td>\n",
              "      <td>5.0</td>\n",
              "      <td>4.0</td>\n",
              "      <td>None</td>\n",
              "      <td>None</td>\n",
              "      <td>None</td>\n",
              "      <td>None</td>\n",
              "      <td>None</td>\n",
              "      <td>...</td>\n",
              "      <td>0.0</td>\n",
              "      <td>0.0</td>\n",
              "      <td>0.0</td>\n",
              "      <td>0.0</td>\n",
              "      <td>0.0</td>\n",
              "      <td>0.0</td>\n",
              "      <td>0.0</td>\n",
              "      <td>0.0</td>\n",
              "      <td>0.0</td>\n",
              "      <td>0.0</td>\n",
              "    </tr>\n",
              "    <tr>\n",
              "      <th>5</th>\n",
              "      <td>50%</td>\n",
              "      <td>2.0</td>\n",
              "      <td>15.0</td>\n",
              "      <td>7.0</td>\n",
              "      <td>5.0</td>\n",
              "      <td>None</td>\n",
              "      <td>None</td>\n",
              "      <td>None</td>\n",
              "      <td>None</td>\n",
              "      <td>None</td>\n",
              "      <td>...</td>\n",
              "      <td>0.0</td>\n",
              "      <td>0.0</td>\n",
              "      <td>0.0</td>\n",
              "      <td>0.0</td>\n",
              "      <td>0.0</td>\n",
              "      <td>0.0</td>\n",
              "      <td>0.0</td>\n",
              "      <td>0.0</td>\n",
              "      <td>0.0</td>\n",
              "      <td>0.0</td>\n",
              "    </tr>\n",
              "    <tr>\n",
              "      <th>6</th>\n",
              "      <td>75%</td>\n",
              "      <td>2.0</td>\n",
              "      <td>30.0</td>\n",
              "      <td>9.0</td>\n",
              "      <td>6.0</td>\n",
              "      <td>None</td>\n",
              "      <td>None</td>\n",
              "      <td>None</td>\n",
              "      <td>None</td>\n",
              "      <td>None</td>\n",
              "      <td>...</td>\n",
              "      <td>0.0</td>\n",
              "      <td>0.0</td>\n",
              "      <td>0.0</td>\n",
              "      <td>0.0</td>\n",
              "      <td>0.0</td>\n",
              "      <td>0.0</td>\n",
              "      <td>0.0</td>\n",
              "      <td>0.0</td>\n",
              "      <td>0.0</td>\n",
              "      <td>0.0</td>\n",
              "    </tr>\n",
              "    <tr>\n",
              "      <th>7</th>\n",
              "      <td>max</td>\n",
              "      <td>9</td>\n",
              "      <td>995</td>\n",
              "      <td>9</td>\n",
              "      <td>9</td>\n",
              "      <td>t</td>\n",
              "      <td>w</td>\n",
              "      <td>x</td>\n",
              "      <td>z</td>\n",
              "      <td>x</td>\n",
              "      <td>...</td>\n",
              "      <td>1</td>\n",
              "      <td>1</td>\n",
              "      <td>1</td>\n",
              "      <td>1</td>\n",
              "      <td>1</td>\n",
              "      <td>1</td>\n",
              "      <td>1</td>\n",
              "      <td>0</td>\n",
              "      <td>1</td>\n",
              "      <td>1</td>\n",
              "    </tr>\n",
              "  </tbody>\n",
              "</table>\n",
              "<p>8 rows × 36 columns</p>\n",
              "</div>\n",
              "      <button class=\"colab-df-convert\" onclick=\"convertToInteractive('df-ebdb6c4d-413d-415c-957d-65dc63151c81')\"\n",
              "              title=\"Convert this dataframe to an interactive table.\"\n",
              "              style=\"display:none;\">\n",
              "        \n",
              "  <svg xmlns=\"http://www.w3.org/2000/svg\" height=\"24px\"viewBox=\"0 0 24 24\"\n",
              "       width=\"24px\">\n",
              "    <path d=\"M0 0h24v24H0V0z\" fill=\"none\"/>\n",
              "    <path d=\"M18.56 5.44l.94 2.06.94-2.06 2.06-.94-2.06-.94-.94-2.06-.94 2.06-2.06.94zm-11 1L8.5 8.5l.94-2.06 2.06-.94-2.06-.94L8.5 2.5l-.94 2.06-2.06.94zm10 10l.94 2.06.94-2.06 2.06-.94-2.06-.94-.94-2.06-.94 2.06-2.06.94z\"/><path d=\"M17.41 7.96l-1.37-1.37c-.4-.4-.92-.59-1.43-.59-.52 0-1.04.2-1.43.59L10.3 9.45l-7.72 7.72c-.78.78-.78 2.05 0 2.83L4 21.41c.39.39.9.59 1.41.59.51 0 1.02-.2 1.41-.59l7.78-7.78 2.81-2.81c.8-.78.8-2.07 0-2.86zM5.41 20L4 18.59l7.72-7.72 1.47 1.35L5.41 20z\"/>\n",
              "  </svg>\n",
              "      </button>\n",
              "      \n",
              "  <style>\n",
              "    .colab-df-container {\n",
              "      display:flex;\n",
              "      flex-wrap:wrap;\n",
              "      gap: 12px;\n",
              "    }\n",
              "\n",
              "    .colab-df-convert {\n",
              "      background-color: #E8F0FE;\n",
              "      border: none;\n",
              "      border-radius: 50%;\n",
              "      cursor: pointer;\n",
              "      display: none;\n",
              "      fill: #1967D2;\n",
              "      height: 32px;\n",
              "      padding: 0 0 0 0;\n",
              "      width: 32px;\n",
              "    }\n",
              "\n",
              "    .colab-df-convert:hover {\n",
              "      background-color: #E2EBFA;\n",
              "      box-shadow: 0px 1px 2px rgba(60, 64, 67, 0.3), 0px 1px 3px 1px rgba(60, 64, 67, 0.15);\n",
              "      fill: #174EA6;\n",
              "    }\n",
              "\n",
              "    [theme=dark] .colab-df-convert {\n",
              "      background-color: #3B4455;\n",
              "      fill: #D2E3FC;\n",
              "    }\n",
              "\n",
              "    [theme=dark] .colab-df-convert:hover {\n",
              "      background-color: #434B5C;\n",
              "      box-shadow: 0px 1px 3px 1px rgba(0, 0, 0, 0.15);\n",
              "      filter: drop-shadow(0px 1px 2px rgba(0, 0, 0, 0.3));\n",
              "      fill: #FFFFFF;\n",
              "    }\n",
              "  </style>\n",
              "\n",
              "      <script>\n",
              "        const buttonEl =\n",
              "          document.querySelector('#df-ebdb6c4d-413d-415c-957d-65dc63151c81 button.colab-df-convert');\n",
              "        buttonEl.style.display =\n",
              "          google.colab.kernel.accessAllowed ? 'block' : 'none';\n",
              "\n",
              "        async function convertToInteractive(key) {\n",
              "          const element = document.querySelector('#df-ebdb6c4d-413d-415c-957d-65dc63151c81');\n",
              "          const dataTable =\n",
              "            await google.colab.kernel.invokeFunction('convertToInteractive',\n",
              "                                                     [key], {});\n",
              "          if (!dataTable) return;\n",
              "\n",
              "          const docLinkHtml = 'Like what you see? Visit the ' +\n",
              "            '<a target=\"_blank\" href=https://colab.research.google.com/notebooks/data_table.ipynb>data table notebook</a>'\n",
              "            + ' to learn more about interactive tables.';\n",
              "          element.innerHTML = '';\n",
              "          dataTable['output_type'] = 'display_data';\n",
              "          await google.colab.output.renderOutput(dataTable, element);\n",
              "          const docLink = document.createElement('div');\n",
              "          docLink.innerHTML = docLinkHtml;\n",
              "          element.appendChild(docLink);\n",
              "        }\n",
              "      </script>\n",
              "    </div>\n",
              "  </div>\n",
              "  "
            ]
          },
          "metadata": {},
          "execution_count": 19
        }
      ],
      "source": [
        "# Print summary statistics\n",
        "drop_cols = ['building_id', 'geo_level_1_id', 'geo_level_2_id', 'geo_level_3_id']\n",
        "\n",
        "spark_X_df.drop(*drop_cols).summary().toPandas()"
      ]
    },
    {
      "cell_type": "code",
      "execution_count": 20,
      "id": "a227b10f",
      "metadata": {
        "colab": {
          "base_uri": "https://localhost:8080/",
          "height": 142
        },
        "id": "a227b10f",
        "outputId": "84cb5eae-f44d-40c8-b700-19d105742df1"
      },
      "outputs": [
        {
          "output_type": "display_data",
          "data": {
            "text/plain": [
              "<IPython.core.display.HTML object>"
            ],
            "text/html": [
              "\n",
              "  <style>\n",
              "    pre {\n",
              "        white-space: pre-wrap;\n",
              "    }\n",
              "  </style>\n",
              "  "
            ]
          },
          "metadata": {}
        },
        {
          "output_type": "execute_result",
          "data": {
            "text/plain": [
              "  damage_grade   count   percent\n",
              "0            3   87218  0.334680\n",
              "1            1   25124  0.096408\n",
              "2            2  148259  0.568912"
            ],
            "text/html": [
              "\n",
              "  <div id=\"df-cab57578-b896-4209-8eaf-eb923944f73c\">\n",
              "    <div class=\"colab-df-container\">\n",
              "      <div>\n",
              "<style scoped>\n",
              "    .dataframe tbody tr th:only-of-type {\n",
              "        vertical-align: middle;\n",
              "    }\n",
              "\n",
              "    .dataframe tbody tr th {\n",
              "        vertical-align: top;\n",
              "    }\n",
              "\n",
              "    .dataframe thead th {\n",
              "        text-align: right;\n",
              "    }\n",
              "</style>\n",
              "<table border=\"1\" class=\"dataframe\">\n",
              "  <thead>\n",
              "    <tr style=\"text-align: right;\">\n",
              "      <th></th>\n",
              "      <th>damage_grade</th>\n",
              "      <th>count</th>\n",
              "      <th>percent</th>\n",
              "    </tr>\n",
              "  </thead>\n",
              "  <tbody>\n",
              "    <tr>\n",
              "      <th>0</th>\n",
              "      <td>3</td>\n",
              "      <td>87218</td>\n",
              "      <td>0.334680</td>\n",
              "    </tr>\n",
              "    <tr>\n",
              "      <th>1</th>\n",
              "      <td>1</td>\n",
              "      <td>25124</td>\n",
              "      <td>0.096408</td>\n",
              "    </tr>\n",
              "    <tr>\n",
              "      <th>2</th>\n",
              "      <td>2</td>\n",
              "      <td>148259</td>\n",
              "      <td>0.568912</td>\n",
              "    </tr>\n",
              "  </tbody>\n",
              "</table>\n",
              "</div>\n",
              "      <button class=\"colab-df-convert\" onclick=\"convertToInteractive('df-cab57578-b896-4209-8eaf-eb923944f73c')\"\n",
              "              title=\"Convert this dataframe to an interactive table.\"\n",
              "              style=\"display:none;\">\n",
              "        \n",
              "  <svg xmlns=\"http://www.w3.org/2000/svg\" height=\"24px\"viewBox=\"0 0 24 24\"\n",
              "       width=\"24px\">\n",
              "    <path d=\"M0 0h24v24H0V0z\" fill=\"none\"/>\n",
              "    <path d=\"M18.56 5.44l.94 2.06.94-2.06 2.06-.94-2.06-.94-.94-2.06-.94 2.06-2.06.94zm-11 1L8.5 8.5l.94-2.06 2.06-.94-2.06-.94L8.5 2.5l-.94 2.06-2.06.94zm10 10l.94 2.06.94-2.06 2.06-.94-2.06-.94-.94-2.06-.94 2.06-2.06.94z\"/><path d=\"M17.41 7.96l-1.37-1.37c-.4-.4-.92-.59-1.43-.59-.52 0-1.04.2-1.43.59L10.3 9.45l-7.72 7.72c-.78.78-.78 2.05 0 2.83L4 21.41c.39.39.9.59 1.41.59.51 0 1.02-.2 1.41-.59l7.78-7.78 2.81-2.81c.8-.78.8-2.07 0-2.86zM5.41 20L4 18.59l7.72-7.72 1.47 1.35L5.41 20z\"/>\n",
              "  </svg>\n",
              "      </button>\n",
              "      \n",
              "  <style>\n",
              "    .colab-df-container {\n",
              "      display:flex;\n",
              "      flex-wrap:wrap;\n",
              "      gap: 12px;\n",
              "    }\n",
              "\n",
              "    .colab-df-convert {\n",
              "      background-color: #E8F0FE;\n",
              "      border: none;\n",
              "      border-radius: 50%;\n",
              "      cursor: pointer;\n",
              "      display: none;\n",
              "      fill: #1967D2;\n",
              "      height: 32px;\n",
              "      padding: 0 0 0 0;\n",
              "      width: 32px;\n",
              "    }\n",
              "\n",
              "    .colab-df-convert:hover {\n",
              "      background-color: #E2EBFA;\n",
              "      box-shadow: 0px 1px 2px rgba(60, 64, 67, 0.3), 0px 1px 3px 1px rgba(60, 64, 67, 0.15);\n",
              "      fill: #174EA6;\n",
              "    }\n",
              "\n",
              "    [theme=dark] .colab-df-convert {\n",
              "      background-color: #3B4455;\n",
              "      fill: #D2E3FC;\n",
              "    }\n",
              "\n",
              "    [theme=dark] .colab-df-convert:hover {\n",
              "      background-color: #434B5C;\n",
              "      box-shadow: 0px 1px 3px 1px rgba(0, 0, 0, 0.15);\n",
              "      filter: drop-shadow(0px 1px 2px rgba(0, 0, 0, 0.3));\n",
              "      fill: #FFFFFF;\n",
              "    }\n",
              "  </style>\n",
              "\n",
              "      <script>\n",
              "        const buttonEl =\n",
              "          document.querySelector('#df-cab57578-b896-4209-8eaf-eb923944f73c button.colab-df-convert');\n",
              "        buttonEl.style.display =\n",
              "          google.colab.kernel.accessAllowed ? 'block' : 'none';\n",
              "\n",
              "        async function convertToInteractive(key) {\n",
              "          const element = document.querySelector('#df-cab57578-b896-4209-8eaf-eb923944f73c');\n",
              "          const dataTable =\n",
              "            await google.colab.kernel.invokeFunction('convertToInteractive',\n",
              "                                                     [key], {});\n",
              "          if (!dataTable) return;\n",
              "\n",
              "          const docLinkHtml = 'Like what you see? Visit the ' +\n",
              "            '<a target=\"_blank\" href=https://colab.research.google.com/notebooks/data_table.ipynb>data table notebook</a>'\n",
              "            + ' to learn more about interactive tables.';\n",
              "          element.innerHTML = '';\n",
              "          dataTable['output_type'] = 'display_data';\n",
              "          await google.colab.output.renderOutput(dataTable, element);\n",
              "          const docLink = document.createElement('div');\n",
              "          docLink.innerHTML = docLinkHtml;\n",
              "          element.appendChild(docLink);\n",
              "        }\n",
              "      </script>\n",
              "    </div>\n",
              "  </div>\n",
              "  "
            ]
          },
          "metadata": {},
          "execution_count": 20
        }
      ],
      "source": [
        "# Show value_counts for 'damage_grade' column\n",
        "class_counts = spark_y_df.groupBy('damage_grade').count().withColumn('percent', F.col('count')/spark_y_df.count())\n",
        "\n",
        "class_counts.toPandas()"
      ]
    },
    {
      "cell_type": "markdown",
      "id": "af2f212f",
      "metadata": {
        "id": "af2f212f"
      },
      "source": [
        "<br>"
      ]
    },
    {
      "cell_type": "markdown",
      "id": "6e47b8fe",
      "metadata": {
        "id": "6e47b8fe"
      },
      "source": [
        "# Preprocessing"
      ]
    },
    {
      "cell_type": "markdown",
      "id": "12ffbe81",
      "metadata": {
        "id": "12ffbe81"
      },
      "source": [
        "Steps:\n",
        "1. Drop useless columns\n",
        "2. Unpack any joined data within columns\n",
        "3. Convert columns to correct datatypes\n",
        "4. Handle null/missing values (may need to convert some values to np.nan)\n",
        "5. Impute any missing values"
      ]
    },
    {
      "cell_type": "markdown",
      "id": "49ccc58c",
      "metadata": {
        "id": "49ccc58c"
      },
      "source": [
        "### Convert numerical integer columns to IntegerType"
      ]
    },
    {
      "cell_type": "code",
      "execution_count": 21,
      "id": "219c6a4b",
      "metadata": {
        "colab": {
          "base_uri": "https://localhost:8080/",
          "height": 17
        },
        "id": "219c6a4b",
        "outputId": "b86a33c3-a266-4632-90cc-f9c7ba0a1ff7"
      },
      "outputs": [
        {
          "output_type": "display_data",
          "data": {
            "text/plain": [
              "<IPython.core.display.HTML object>"
            ],
            "text/html": [
              "\n",
              "  <style>\n",
              "    pre {\n",
              "        white-space: pre-wrap;\n",
              "    }\n",
              "  </style>\n",
              "  "
            ]
          },
          "metadata": {}
        }
      ],
      "source": [
        "spark_preprocessed_df = spark_X_df.alias('spark_preprocessed_df')"
      ]
    },
    {
      "cell_type": "code",
      "execution_count": 22,
      "id": "84cf71ad",
      "metadata": {
        "colab": {
          "base_uri": "https://localhost:8080/",
          "height": 17
        },
        "id": "84cf71ad",
        "outputId": "92634398-ae1b-4eb7-aa94-7c845223582f"
      },
      "outputs": [
        {
          "output_type": "display_data",
          "data": {
            "text/plain": [
              "<IPython.core.display.HTML object>"
            ],
            "text/html": [
              "\n",
              "  <style>\n",
              "    pre {\n",
              "        white-space: pre-wrap;\n",
              "    }\n",
              "  </style>\n",
              "  "
            ]
          },
          "metadata": {}
        }
      ],
      "source": [
        "# Convert first set of numerical columns to IntegerType\n",
        "cols = ['building_id', 'geo_level_1_id', 'geo_level_2_id', 'geo_level_3_id', 'count_floors_pre_eq', \n",
        "        'age', 'area_percentage', 'height_percentage']\n",
        "\n",
        "for col in cols:\n",
        "    spark_preprocessed_df = spark_preprocessed_df.withColumn(col, spark_preprocessed_df[col].cast(IntegerType()))\n",
        "    \n",
        "assert ['int'] * len(cols) == [dtype[1] for dtype in spark_preprocessed_df.select(*cols).dtypes]"
      ]
    },
    {
      "cell_type": "code",
      "execution_count": 23,
      "id": "9192979b",
      "metadata": {
        "colab": {
          "base_uri": "https://localhost:8080/",
          "height": 17
        },
        "id": "9192979b",
        "outputId": "71c41a60-4a70-409c-df0d-519c57a38f3e"
      },
      "outputs": [
        {
          "output_type": "display_data",
          "data": {
            "text/plain": [
              "<IPython.core.display.HTML object>"
            ],
            "text/html": [
              "\n",
              "  <style>\n",
              "    pre {\n",
              "        white-space: pre-wrap;\n",
              "    }\n",
              "  </style>\n",
              "  "
            ]
          },
          "metadata": {}
        }
      ],
      "source": [
        "# Convert superstructure columns to IntegerType\n",
        "superstructure_cols = ['has_superstructure_adobe_mud', 'has_superstructure_mud_mortar_stone', \n",
        "                       'has_superstructure_stone_flag', 'has_superstructure_cement_mortar_stone', \n",
        "                       'has_superstructure_mud_mortar_brick', 'has_superstructure_cement_mortar_brick', \n",
        "                       'has_superstructure_timber', 'has_superstructure_bamboo', \n",
        "                       'has_superstructure_rc_non_engineered', 'has_superstructure_rc_engineered', \n",
        "                       'has_superstructure_other']\n",
        "\n",
        "for col in superstructure_cols:\n",
        "    spark_preprocessed_df = spark_preprocessed_df.withColumn(col, spark_preprocessed_df[col].cast(IntegerType()))\n",
        "    \n",
        "assert ['int'] * len(superstructure_cols) == \\\n",
        "[dtype[1] for dtype in spark_preprocessed_df.select(*superstructure_cols).dtypes]"
      ]
    },
    {
      "cell_type": "code",
      "execution_count": 24,
      "id": "a31d3a1c",
      "metadata": {
        "colab": {
          "base_uri": "https://localhost:8080/",
          "height": 17
        },
        "id": "a31d3a1c",
        "outputId": "1a3bec9c-8eef-4f26-8968-339fc7402e48"
      },
      "outputs": [
        {
          "output_type": "display_data",
          "data": {
            "text/plain": [
              "<IPython.core.display.HTML object>"
            ],
            "text/html": [
              "\n",
              "  <style>\n",
              "    pre {\n",
              "        white-space: pre-wrap;\n",
              "    }\n",
              "  </style>\n",
              "  "
            ]
          },
          "metadata": {}
        }
      ],
      "source": [
        "# Convert secondary_use columns to IntegerType\n",
        "secondary_use_cols = ['has_secondary_use', 'has_secondary_use_agriculture', 'has_secondary_use_hotel', \n",
        "                      'has_secondary_use_rental', 'has_secondary_use_institution', 'has_secondary_use_school', \n",
        "                      'has_secondary_use_industry', 'has_secondary_use_health_post', 'has_secondary_use_gov_office', \n",
        "                      'has_secondary_use_use_police', 'has_secondary_use_other']\n",
        "\n",
        "# Convert secondary_use columns above to IntegerType\n",
        "for col in secondary_use_cols:\n",
        "    spark_preprocessed_df = spark_preprocessed_df.withColumn(col, spark_preprocessed_df[col].cast(IntegerType()))\n",
        "    \n",
        "assert ['int'] * len(secondary_use_cols) == \\\n",
        "[dtype[1] for dtype in spark_preprocessed_df.select(*secondary_use_cols).dtypes]"
      ]
    },
    {
      "cell_type": "markdown",
      "id": "2af52f7a",
      "metadata": {
        "tags": [],
        "id": "2af52f7a"
      },
      "source": [
        "### Examine `count_families` column"
      ]
    },
    {
      "cell_type": "code",
      "execution_count": 25,
      "id": "89ea7067",
      "metadata": {
        "colab": {
          "base_uri": "https://localhost:8080/",
          "height": 266
        },
        "id": "89ea7067",
        "outputId": "eed3353f-3073-4d3e-bc70-4d883bfbd107"
      },
      "outputs": [
        {
          "output_type": "display_data",
          "data": {
            "text/plain": [
              "<IPython.core.display.HTML object>"
            ],
            "text/html": [
              "\n",
              "  <style>\n",
              "    pre {\n",
              "        white-space: pre-wrap;\n",
              "    }\n",
              "  </style>\n",
              "  "
            ]
          },
          "metadata": {}
        },
        {
          "output_type": "execute_result",
          "data": {
            "text/plain": [
              "  count_families  count\n",
              "0              3    146\n",
              "1              0   1820\n",
              "2              5     14\n",
              "3              6      2\n",
              "4              1  20238\n",
              "5              4     24\n",
              "6              2   1057"
            ],
            "text/html": [
              "\n",
              "  <div id=\"df-42ba505d-f354-4ece-86f9-6f64aa7e0b33\">\n",
              "    <div class=\"colab-df-container\">\n",
              "      <div>\n",
              "<style scoped>\n",
              "    .dataframe tbody tr th:only-of-type {\n",
              "        vertical-align: middle;\n",
              "    }\n",
              "\n",
              "    .dataframe tbody tr th {\n",
              "        vertical-align: top;\n",
              "    }\n",
              "\n",
              "    .dataframe thead th {\n",
              "        text-align: right;\n",
              "    }\n",
              "</style>\n",
              "<table border=\"1\" class=\"dataframe\">\n",
              "  <thead>\n",
              "    <tr style=\"text-align: right;\">\n",
              "      <th></th>\n",
              "      <th>count_families</th>\n",
              "      <th>count</th>\n",
              "    </tr>\n",
              "  </thead>\n",
              "  <tbody>\n",
              "    <tr>\n",
              "      <th>0</th>\n",
              "      <td>3</td>\n",
              "      <td>146</td>\n",
              "    </tr>\n",
              "    <tr>\n",
              "      <th>1</th>\n",
              "      <td>0</td>\n",
              "      <td>1820</td>\n",
              "    </tr>\n",
              "    <tr>\n",
              "      <th>2</th>\n",
              "      <td>5</td>\n",
              "      <td>14</td>\n",
              "    </tr>\n",
              "    <tr>\n",
              "      <th>3</th>\n",
              "      <td>6</td>\n",
              "      <td>2</td>\n",
              "    </tr>\n",
              "    <tr>\n",
              "      <th>4</th>\n",
              "      <td>1</td>\n",
              "      <td>20238</td>\n",
              "    </tr>\n",
              "    <tr>\n",
              "      <th>5</th>\n",
              "      <td>4</td>\n",
              "      <td>24</td>\n",
              "    </tr>\n",
              "    <tr>\n",
              "      <th>6</th>\n",
              "      <td>2</td>\n",
              "      <td>1057</td>\n",
              "    </tr>\n",
              "  </tbody>\n",
              "</table>\n",
              "</div>\n",
              "      <button class=\"colab-df-convert\" onclick=\"convertToInteractive('df-42ba505d-f354-4ece-86f9-6f64aa7e0b33')\"\n",
              "              title=\"Convert this dataframe to an interactive table.\"\n",
              "              style=\"display:none;\">\n",
              "        \n",
              "  <svg xmlns=\"http://www.w3.org/2000/svg\" height=\"24px\"viewBox=\"0 0 24 24\"\n",
              "       width=\"24px\">\n",
              "    <path d=\"M0 0h24v24H0V0z\" fill=\"none\"/>\n",
              "    <path d=\"M18.56 5.44l.94 2.06.94-2.06 2.06-.94-2.06-.94-.94-2.06-.94 2.06-2.06.94zm-11 1L8.5 8.5l.94-2.06 2.06-.94-2.06-.94L8.5 2.5l-.94 2.06-2.06.94zm10 10l.94 2.06.94-2.06 2.06-.94-2.06-.94-.94-2.06-.94 2.06-2.06.94z\"/><path d=\"M17.41 7.96l-1.37-1.37c-.4-.4-.92-.59-1.43-.59-.52 0-1.04.2-1.43.59L10.3 9.45l-7.72 7.72c-.78.78-.78 2.05 0 2.83L4 21.41c.39.39.9.59 1.41.59.51 0 1.02-.2 1.41-.59l7.78-7.78 2.81-2.81c.8-.78.8-2.07 0-2.86zM5.41 20L4 18.59l7.72-7.72 1.47 1.35L5.41 20z\"/>\n",
              "  </svg>\n",
              "      </button>\n",
              "      \n",
              "  <style>\n",
              "    .colab-df-container {\n",
              "      display:flex;\n",
              "      flex-wrap:wrap;\n",
              "      gap: 12px;\n",
              "    }\n",
              "\n",
              "    .colab-df-convert {\n",
              "      background-color: #E8F0FE;\n",
              "      border: none;\n",
              "      border-radius: 50%;\n",
              "      cursor: pointer;\n",
              "      display: none;\n",
              "      fill: #1967D2;\n",
              "      height: 32px;\n",
              "      padding: 0 0 0 0;\n",
              "      width: 32px;\n",
              "    }\n",
              "\n",
              "    .colab-df-convert:hover {\n",
              "      background-color: #E2EBFA;\n",
              "      box-shadow: 0px 1px 2px rgba(60, 64, 67, 0.3), 0px 1px 3px 1px rgba(60, 64, 67, 0.15);\n",
              "      fill: #174EA6;\n",
              "    }\n",
              "\n",
              "    [theme=dark] .colab-df-convert {\n",
              "      background-color: #3B4455;\n",
              "      fill: #D2E3FC;\n",
              "    }\n",
              "\n",
              "    [theme=dark] .colab-df-convert:hover {\n",
              "      background-color: #434B5C;\n",
              "      box-shadow: 0px 1px 3px 1px rgba(0, 0, 0, 0.15);\n",
              "      filter: drop-shadow(0px 1px 2px rgba(0, 0, 0, 0.3));\n",
              "      fill: #FFFFFF;\n",
              "    }\n",
              "  </style>\n",
              "\n",
              "      <script>\n",
              "        const buttonEl =\n",
              "          document.querySelector('#df-42ba505d-f354-4ece-86f9-6f64aa7e0b33 button.colab-df-convert');\n",
              "        buttonEl.style.display =\n",
              "          google.colab.kernel.accessAllowed ? 'block' : 'none';\n",
              "\n",
              "        async function convertToInteractive(key) {\n",
              "          const element = document.querySelector('#df-42ba505d-f354-4ece-86f9-6f64aa7e0b33');\n",
              "          const dataTable =\n",
              "            await google.colab.kernel.invokeFunction('convertToInteractive',\n",
              "                                                     [key], {});\n",
              "          if (!dataTable) return;\n",
              "\n",
              "          const docLinkHtml = 'Like what you see? Visit the ' +\n",
              "            '<a target=\"_blank\" href=https://colab.research.google.com/notebooks/data_table.ipynb>data table notebook</a>'\n",
              "            + ' to learn more about interactive tables.';\n",
              "          element.innerHTML = '';\n",
              "          dataTable['output_type'] = 'display_data';\n",
              "          await google.colab.output.renderOutput(dataTable, element);\n",
              "          const docLink = document.createElement('div');\n",
              "          docLink.innerHTML = docLinkHtml;\n",
              "          element.appendChild(docLink);\n",
              "        }\n",
              "      </script>\n",
              "    </div>\n",
              "  </div>\n",
              "  "
            ]
          },
          "metadata": {},
          "execution_count": 25
        }
      ],
      "source": [
        "# Show value_counts for 'damage_grade' column\n",
        "class_counts = spark_preprocessed_df.groupBy('count_families').count()\n",
        "\n",
        "class_counts.toPandas()"
      ]
    },
    {
      "cell_type": "code",
      "execution_count": 26,
      "id": "ba1c4ad7",
      "metadata": {
        "colab": {
          "base_uri": "https://localhost:8080/",
          "height": 204
        },
        "id": "ba1c4ad7",
        "outputId": "65db20e7-0392-4bf5-caff-464c9457f6b3"
      },
      "outputs": [
        {
          "output_type": "display_data",
          "data": {
            "text/plain": [
              "<IPython.core.display.HTML object>"
            ],
            "text/html": [
              "\n",
              "  <style>\n",
              "    pre {\n",
              "        white-space: pre-wrap;\n",
              "    }\n",
              "  </style>\n",
              "  "
            ]
          },
          "metadata": {}
        },
        {
          "output_type": "execute_result",
          "data": {
            "text/plain": [
              "   count_families  count\n",
              "0               1  20238\n",
              "1               3    146\n",
              "2               4     40\n",
              "3               2   1057\n",
              "4               0   1820"
            ],
            "text/html": [
              "\n",
              "  <div id=\"df-bbeebf16-4d82-4d24-813e-522032648572\">\n",
              "    <div class=\"colab-df-container\">\n",
              "      <div>\n",
              "<style scoped>\n",
              "    .dataframe tbody tr th:only-of-type {\n",
              "        vertical-align: middle;\n",
              "    }\n",
              "\n",
              "    .dataframe tbody tr th {\n",
              "        vertical-align: top;\n",
              "    }\n",
              "\n",
              "    .dataframe thead th {\n",
              "        text-align: right;\n",
              "    }\n",
              "</style>\n",
              "<table border=\"1\" class=\"dataframe\">\n",
              "  <thead>\n",
              "    <tr style=\"text-align: right;\">\n",
              "      <th></th>\n",
              "      <th>count_families</th>\n",
              "      <th>count</th>\n",
              "    </tr>\n",
              "  </thead>\n",
              "  <tbody>\n",
              "    <tr>\n",
              "      <th>0</th>\n",
              "      <td>1</td>\n",
              "      <td>20238</td>\n",
              "    </tr>\n",
              "    <tr>\n",
              "      <th>1</th>\n",
              "      <td>3</td>\n",
              "      <td>146</td>\n",
              "    </tr>\n",
              "    <tr>\n",
              "      <th>2</th>\n",
              "      <td>4</td>\n",
              "      <td>40</td>\n",
              "    </tr>\n",
              "    <tr>\n",
              "      <th>3</th>\n",
              "      <td>2</td>\n",
              "      <td>1057</td>\n",
              "    </tr>\n",
              "    <tr>\n",
              "      <th>4</th>\n",
              "      <td>0</td>\n",
              "      <td>1820</td>\n",
              "    </tr>\n",
              "  </tbody>\n",
              "</table>\n",
              "</div>\n",
              "      <button class=\"colab-df-convert\" onclick=\"convertToInteractive('df-bbeebf16-4d82-4d24-813e-522032648572')\"\n",
              "              title=\"Convert this dataframe to an interactive table.\"\n",
              "              style=\"display:none;\">\n",
              "        \n",
              "  <svg xmlns=\"http://www.w3.org/2000/svg\" height=\"24px\"viewBox=\"0 0 24 24\"\n",
              "       width=\"24px\">\n",
              "    <path d=\"M0 0h24v24H0V0z\" fill=\"none\"/>\n",
              "    <path d=\"M18.56 5.44l.94 2.06.94-2.06 2.06-.94-2.06-.94-.94-2.06-.94 2.06-2.06.94zm-11 1L8.5 8.5l.94-2.06 2.06-.94-2.06-.94L8.5 2.5l-.94 2.06-2.06.94zm10 10l.94 2.06.94-2.06 2.06-.94-2.06-.94-.94-2.06-.94 2.06-2.06.94z\"/><path d=\"M17.41 7.96l-1.37-1.37c-.4-.4-.92-.59-1.43-.59-.52 0-1.04.2-1.43.59L10.3 9.45l-7.72 7.72c-.78.78-.78 2.05 0 2.83L4 21.41c.39.39.9.59 1.41.59.51 0 1.02-.2 1.41-.59l7.78-7.78 2.81-2.81c.8-.78.8-2.07 0-2.86zM5.41 20L4 18.59l7.72-7.72 1.47 1.35L5.41 20z\"/>\n",
              "  </svg>\n",
              "      </button>\n",
              "      \n",
              "  <style>\n",
              "    .colab-df-container {\n",
              "      display:flex;\n",
              "      flex-wrap:wrap;\n",
              "      gap: 12px;\n",
              "    }\n",
              "\n",
              "    .colab-df-convert {\n",
              "      background-color: #E8F0FE;\n",
              "      border: none;\n",
              "      border-radius: 50%;\n",
              "      cursor: pointer;\n",
              "      display: none;\n",
              "      fill: #1967D2;\n",
              "      height: 32px;\n",
              "      padding: 0 0 0 0;\n",
              "      width: 32px;\n",
              "    }\n",
              "\n",
              "    .colab-df-convert:hover {\n",
              "      background-color: #E2EBFA;\n",
              "      box-shadow: 0px 1px 2px rgba(60, 64, 67, 0.3), 0px 1px 3px 1px rgba(60, 64, 67, 0.15);\n",
              "      fill: #174EA6;\n",
              "    }\n",
              "\n",
              "    [theme=dark] .colab-df-convert {\n",
              "      background-color: #3B4455;\n",
              "      fill: #D2E3FC;\n",
              "    }\n",
              "\n",
              "    [theme=dark] .colab-df-convert:hover {\n",
              "      background-color: #434B5C;\n",
              "      box-shadow: 0px 1px 3px 1px rgba(0, 0, 0, 0.15);\n",
              "      filter: drop-shadow(0px 1px 2px rgba(0, 0, 0, 0.3));\n",
              "      fill: #FFFFFF;\n",
              "    }\n",
              "  </style>\n",
              "\n",
              "      <script>\n",
              "        const buttonEl =\n",
              "          document.querySelector('#df-bbeebf16-4d82-4d24-813e-522032648572 button.colab-df-convert');\n",
              "        buttonEl.style.display =\n",
              "          google.colab.kernel.accessAllowed ? 'block' : 'none';\n",
              "\n",
              "        async function convertToInteractive(key) {\n",
              "          const element = document.querySelector('#df-bbeebf16-4d82-4d24-813e-522032648572');\n",
              "          const dataTable =\n",
              "            await google.colab.kernel.invokeFunction('convertToInteractive',\n",
              "                                                     [key], {});\n",
              "          if (!dataTable) return;\n",
              "\n",
              "          const docLinkHtml = 'Like what you see? Visit the ' +\n",
              "            '<a target=\"_blank\" href=https://colab.research.google.com/notebooks/data_table.ipynb>data table notebook</a>'\n",
              "            + ' to learn more about interactive tables.';\n",
              "          element.innerHTML = '';\n",
              "          dataTable['output_type'] = 'display_data';\n",
              "          await google.colab.output.renderOutput(dataTable, element);\n",
              "          const docLink = document.createElement('div');\n",
              "          docLink.innerHTML = docLinkHtml;\n",
              "          element.appendChild(docLink);\n",
              "        }\n",
              "      </script>\n",
              "    </div>\n",
              "  </div>\n",
              "  "
            ]
          },
          "metadata": {},
          "execution_count": 26
        }
      ],
      "source": [
        "# It looks like some values are very rare. Let's combine any values above 4 into 4\n",
        "spark_preprocessed_df = spark_preprocessed_df.withColumn('count_families', \\\n",
        "                        spark_preprocessed_df['count_families'].cast(IntegerType()))\n",
        "\n",
        "spark_preprocessed_df = spark_preprocessed_df.replace(to_replace=[5, 6, 7, 8, 9], value=4, subset=['count_families'])\n",
        "\n",
        "class_counts = spark_preprocessed_df.groupBy('count_families').count()\n",
        "\n",
        "class_counts.toPandas()"
      ]
    },
    {
      "cell_type": "markdown",
      "id": "8a1fa9c5",
      "metadata": {
        "id": "8a1fa9c5"
      },
      "source": [
        "### Drop superfluous / useless columns"
      ]
    },
    {
      "cell_type": "code",
      "execution_count": 27,
      "id": "1ce10791",
      "metadata": {
        "colab": {
          "base_uri": "https://localhost:8080/",
          "height": 17
        },
        "id": "1ce10791",
        "outputId": "8d7736e3-8fc3-4fec-d731-86c106deb44f"
      },
      "outputs": [
        {
          "output_type": "display_data",
          "data": {
            "text/plain": [
              "<IPython.core.display.HTML object>"
            ],
            "text/html": [
              "\n",
              "  <style>\n",
              "    pre {\n",
              "        white-space: pre-wrap;\n",
              "    }\n",
              "  </style>\n",
              "  "
            ]
          },
          "metadata": {}
        }
      ],
      "source": [
        "# Drop 'has_secondary_use' column - redundant\n",
        "spark_preprocessed_df = spark_preprocessed_df.drop('has_secondary_use')\n",
        "\n",
        "# Drop 'geo_level_2_id' column - redundant; would increase dimensionality too much\n",
        "spark_preprocessed_df = spark_preprocessed_df.drop('geo_level_2_id')\n",
        "\n",
        "# Drop 'geo_level_3_id' column - redundant; would increase dimensionality too much\n",
        "spark_preprocessed_df = spark_preprocessed_df.drop('geo_level_3_id')"
      ]
    },
    {
      "cell_type": "markdown",
      "id": "0c316308",
      "metadata": {
        "id": "0c316308"
      },
      "source": [
        "### Show distinct categories for categorical features"
      ]
    },
    {
      "cell_type": "code",
      "execution_count": 28,
      "id": "6e773887",
      "metadata": {
        "colab": {
          "base_uri": "https://localhost:8080/",
          "height": 1000
        },
        "id": "6e773887",
        "outputId": "680e190c-5f8f-40dd-d1d8-4c9628f6118d"
      },
      "outputs": [
        {
          "output_type": "display_data",
          "data": {
            "text/plain": [
              "<IPython.core.display.HTML object>"
            ],
            "text/html": [
              "\n",
              "  <style>\n",
              "    pre {\n",
              "        white-space: pre-wrap;\n",
              "    }\n",
              "  </style>\n",
              "  "
            ]
          },
          "metadata": {}
        },
        {
          "output_type": "stream",
          "name": "stdout",
          "text": [
            "+----------------------+\n",
            "|land_surface_condition|\n",
            "+----------------------+\n",
            "|                     n|\n",
            "|                     o|\n",
            "|                     t|\n",
            "+----------------------+\n",
            "\n",
            "+---------------+\n",
            "|foundation_type|\n",
            "+---------------+\n",
            "|              h|\n",
            "|              w|\n",
            "|              u|\n",
            "|              i|\n",
            "|              r|\n",
            "+---------------+\n",
            "\n",
            "+---------+\n",
            "|roof_type|\n",
            "+---------+\n",
            "|        x|\n",
            "|        n|\n",
            "|        q|\n",
            "+---------+\n",
            "\n",
            "+-----------------+\n",
            "|ground_floor_type|\n",
            "+-----------------+\n",
            "|                x|\n",
            "|                m|\n",
            "|                f|\n",
            "|                v|\n",
            "|                z|\n",
            "+-----------------+\n",
            "\n",
            "+----------------+\n",
            "|other_floor_type|\n",
            "+----------------+\n",
            "|               x|\n",
            "|               q|\n",
            "|               j|\n",
            "|               s|\n",
            "+----------------+\n",
            "\n",
            "+--------+\n",
            "|position|\n",
            "+--------+\n",
            "|       o|\n",
            "|       j|\n",
            "|       t|\n",
            "|       s|\n",
            "+--------+\n",
            "\n",
            "+------------------+\n",
            "|plan_configuration|\n",
            "+------------------+\n",
            "|                 m|\n",
            "|                 f|\n",
            "|                 n|\n",
            "|                 o|\n",
            "|                 d|\n",
            "|                 c|\n",
            "|                 u|\n",
            "|                 q|\n",
            "|                 a|\n",
            "|                 s|\n",
            "+------------------+\n",
            "\n",
            "+----------------------+\n",
            "|legal_ownership_status|\n",
            "+----------------------+\n",
            "|                     v|\n",
            "|                     w|\n",
            "|                     a|\n",
            "|                     r|\n",
            "+----------------------+\n",
            "\n"
          ]
        }
      ],
      "source": [
        "for column, dtype in spark_preprocessed_df.dtypes:\n",
        "    if dtype == 'string':\n",
        "        spark_preprocessed_df.select(column).distinct().show()"
      ]
    },
    {
      "cell_type": "code",
      "execution_count": 29,
      "id": "435071c4",
      "metadata": {
        "colab": {
          "base_uri": "https://localhost:8080/",
          "height": 442
        },
        "id": "435071c4",
        "outputId": "fa6b001f-8679-4690-8c2a-6326f5b58a2b"
      },
      "outputs": [
        {
          "output_type": "display_data",
          "data": {
            "text/plain": [
              "<IPython.core.display.HTML object>"
            ],
            "text/html": [
              "\n",
              "  <style>\n",
              "    pre {\n",
              "        white-space: pre-wrap;\n",
              "    }\n",
              "  </style>\n",
              "  "
            ]
          },
          "metadata": {}
        },
        {
          "output_type": "display_data",
          "data": {
            "text/plain": [
              "<Figure size 720x504 with 1 Axes>"
            ],
            "image/png": "[encoded data removed]"
          },
          "metadata": {
            "image/png": {
              "width": 621,
              "height": 425
            },
            "needs_background": "light"
          }
        }
      ],
      "source": [
        "# Plot count_families\n",
        "count_families_binned_cats = spark_preprocessed_df.groupby('count_families').count()\n",
        "count_families_binned_cats_df = count_families_binned_cats.toPandas()\n",
        "\n",
        "fig, ax = plt.subplots(figsize=(10, 7))\n",
        "\n",
        "sns.barplot(x=count_families_binned_cats_df['count_families'], \n",
        "            y=count_families_binned_cats_df['count'], \n",
        "            color='maroon');"
      ]
    },
    {
      "cell_type": "code",
      "execution_count": 30,
      "id": "4ccafedf",
      "metadata": {
        "colab": {
          "base_uri": "https://localhost:8080/",
          "height": 442
        },
        "id": "4ccafedf",
        "outputId": "c1b6127c-0b57-43eb-beb6-58ea25707aed"
      },
      "outputs": [
        {
          "output_type": "display_data",
          "data": {
            "text/plain": [
              "<IPython.core.display.HTML object>"
            ],
            "text/html": [
              "\n",
              "  <style>\n",
              "    pre {\n",
              "        white-space: pre-wrap;\n",
              "    }\n",
              "  </style>\n",
              "  "
            ]
          },
          "metadata": {}
        },
        {
          "output_type": "display_data",
          "data": {
            "text/plain": [
              "<Figure size 720x504 with 1 Axes>"
            ],
            "image/png": "[encoded data removed]"
          },
          "metadata": {
            "image/png": {
              "width": 627,
              "height": 425
            },
            "needs_background": "light"
          }
        }
      ],
      "source": [
        "# Group and aggregate target data\n",
        "damage_grade_counts = spark_y_df.groupBy('damage_grade').count().toPandas()\n",
        "# Sort by damage grade\n",
        "damage_grade_counts = damage_grade_counts.sort_values(by='damage_grade')\n",
        "\n",
        "# Plot target data\n",
        "# default_counts['default'].replace({0: 'non-defaults', 1: 'defaults'}, inplace=True)\n",
        "\n",
        "fig, ax = plt.subplots(figsize=(10, 7))\n",
        "palette = {'1': 'yellow', '2': 'darkorange', '3': 'red'}\n",
        "sns.barplot(x='damage_grade', y='count', ax=ax, data=damage_grade_counts, palette=palette)\n",
        "# ax.set_xticklabels(['non-defaults', 'defaults'])\n",
        "ax.set_xlabel('Target');"
      ]
    },
    {
      "cell_type": "code",
      "execution_count": 31,
      "id": "0f74462f",
      "metadata": {
        "colab": {
          "base_uri": "https://localhost:8080/",
          "height": 85
        },
        "id": "0f74462f",
        "outputId": "c8237f8f-0cb7-4d5e-9600-50880b900c2c"
      },
      "outputs": [
        {
          "output_type": "display_data",
          "data": {
            "text/plain": [
              "<IPython.core.display.HTML object>"
            ],
            "text/html": [
              "\n",
              "  <style>\n",
              "    pre {\n",
              "        white-space: pre-wrap;\n",
              "    }\n",
              "  </style>\n",
              "  "
            ]
          },
          "metadata": {}
        },
        {
          "output_type": "stream",
          "name": "stdout",
          "text": [
            "root\n",
            " |-- building_id: string (nullable = true)\n",
            " |-- damage_grade: string (nullable = true)\n",
            "\n"
          ]
        }
      ],
      "source": [
        "# Print target dataframe schema\n",
        "spark_y_df.printSchema()"
      ]
    },
    {
      "cell_type": "code",
      "execution_count": 32,
      "id": "05abbc23",
      "metadata": {
        "colab": {
          "base_uri": "https://localhost:8080/",
          "height": 17
        },
        "id": "05abbc23",
        "outputId": "83b4be32-4fdc-4929-e534-11458e43b469"
      },
      "outputs": [
        {
          "output_type": "display_data",
          "data": {
            "text/plain": [
              "<IPython.core.display.HTML object>"
            ],
            "text/html": [
              "\n",
              "  <style>\n",
              "    pre {\n",
              "        white-space: pre-wrap;\n",
              "    }\n",
              "  </style>\n",
              "  "
            ]
          },
          "metadata": {}
        }
      ],
      "source": [
        "# Convert target datatypes to IntegerType\n",
        "spark_y_df = spark_y_df.withColumn('building_id', spark_y_df['building_id'].cast(IntegerType()))\n",
        "spark_y_df = spark_y_df.withColumn('damage_grade', spark_y_df['damage_grade'].cast(IntegerType()))"
      ]
    },
    {
      "cell_type": "markdown",
      "id": "63c99c36",
      "metadata": {
        "id": "63c99c36"
      },
      "source": [
        "<br>"
      ]
    },
    {
      "cell_type": "markdown",
      "id": "57554212",
      "metadata": {
        "id": "57554212"
      },
      "source": [
        "# Create Pipeline to Preprocess and Model Data"
      ]
    },
    {
      "cell_type": "markdown",
      "id": "a98fa12e",
      "metadata": {
        "id": "a98fa12e"
      },
      "source": [
        "### Join features and target dataframes"
      ]
    },
    {
      "cell_type": "code",
      "execution_count": 33,
      "id": "abc28d12",
      "metadata": {
        "colab": {
          "base_uri": "https://localhost:8080/",
          "height": 34
        },
        "id": "abc28d12",
        "outputId": "78a82b2a-e9b8-4367-95c1-f07b3a7d5e0a"
      },
      "outputs": [
        {
          "output_type": "display_data",
          "data": {
            "text/plain": [
              "<IPython.core.display.HTML object>"
            ],
            "text/html": [
              "\n",
              "  <style>\n",
              "    pre {\n",
              "        white-space: pre-wrap;\n",
              "    }\n",
              "  </style>\n",
              "  "
            ]
          },
          "metadata": {}
        },
        {
          "output_type": "execute_result",
          "data": {
            "text/plain": [
              "23301"
            ]
          },
          "metadata": {},
          "execution_count": 33
        }
      ],
      "source": [
        "# Join on 'building_id' values\n",
        "if not 'damage_grade' in spark_preprocessed_df.columns:\n",
        "    spark_preprocessed_df = spark_preprocessed_df.join(spark_y_df, on='building_id', how='inner')\n",
        "\n",
        "assert spark_X_df.count() == spark_preprocessed_df.count()\n",
        "spark_preprocessed_df.count()"
      ]
    },
    {
      "cell_type": "code",
      "execution_count": 34,
      "id": "6812b5d4",
      "metadata": {
        "colab": {
          "base_uri": "https://localhost:8080/",
          "height": 17
        },
        "id": "6812b5d4",
        "outputId": "4930546c-aff5-453c-eefe-b7c1ada25bb2"
      },
      "outputs": [
        {
          "output_type": "display_data",
          "data": {
            "text/plain": [
              "<IPython.core.display.HTML object>"
            ],
            "text/html": [
              "\n",
              "  <style>\n",
              "    pre {\n",
              "        white-space: pre-wrap;\n",
              "    }\n",
              "  </style>\n",
              "  "
            ]
          },
          "metadata": {}
        }
      ],
      "source": [
        "spark_preprocessed_df = spark_preprocessed_df.drop('building_id')"
      ]
    },
    {
      "cell_type": "markdown",
      "id": "d03e7b46",
      "metadata": {
        "id": "d03e7b46"
      },
      "source": [
        "### Index string columns with StringIndexer"
      ]
    },
    {
      "cell_type": "code",
      "execution_count": 35,
      "id": "0cb3f32e",
      "metadata": {
        "colab": {
          "base_uri": "https://localhost:8080/",
          "height": 68
        },
        "id": "0cb3f32e",
        "outputId": "0fd065d9-6697-4acf-99e2-da00c1122e49"
      },
      "outputs": [
        {
          "output_type": "display_data",
          "data": {
            "text/plain": [
              "<IPython.core.display.HTML object>"
            ],
            "text/html": [
              "\n",
              "  <style>\n",
              "    pre {\n",
              "        white-space: pre-wrap;\n",
              "    }\n",
              "  </style>\n",
              "  "
            ]
          },
          "metadata": {}
        },
        {
          "output_type": "stream",
          "name": "stdout",
          "text": [
            "Indexed string features: \n",
            "['land_surface_condition_index', 'foundation_type_index', 'roof_type_index', 'ground_floor_type_index', 'other_floor_type_index', 'position_index', 'plan_configuration_index', 'legal_ownership_status_index']\n"
          ]
        }
      ],
      "source": [
        "stages = []\n",
        "\n",
        "categoricalCols = [item[0] for item in spark_preprocessed_df.dtypes if item[1].startswith('string')]\n",
        "\n",
        "indexers = []\n",
        "\n",
        "for col in categoricalCols:\n",
        "    indexer = StringIndexer(inputCol=col, outputCol=col + '_index', handleInvalid='keep')\n",
        "    indexers.append(indexer)\n",
        "    \n",
        "indexed_features = []\n",
        "for si in indexers:\n",
        "    indexed_features.append(si.getOutputCol())\n",
        "    \n",
        "print(f\"Indexed string features: \\n{indexed_features}\")"
      ]
    },
    {
      "cell_type": "markdown",
      "id": "eb97ffe7",
      "metadata": {
        "id": "eb97ffe7"
      },
      "source": [
        "### Create a OneHotEncoder to encode the indexed string features"
      ]
    },
    {
      "cell_type": "code",
      "execution_count": 36,
      "id": "3fd0cead",
      "metadata": {
        "colab": {
          "base_uri": "https://localhost:8080/",
          "height": 68
        },
        "id": "3fd0cead",
        "outputId": "44c9bc5f-36c9-4535-e99f-538b9ee47228"
      },
      "outputs": [
        {
          "output_type": "display_data",
          "data": {
            "text/plain": [
              "<IPython.core.display.HTML object>"
            ],
            "text/html": [
              "\n",
              "  <style>\n",
              "    pre {\n",
              "        white-space: pre-wrap;\n",
              "    }\n",
              "  </style>\n",
              "  "
            ]
          },
          "metadata": {}
        },
        {
          "output_type": "stream",
          "name": "stdout",
          "text": [
            "One hot encoded string features: 8\n",
            "['land_surface_condition_index_ohe', 'foundation_type_index_ohe', 'roof_type_index_ohe', 'ground_floor_type_index_ohe', 'other_floor_type_index_ohe', 'position_index_ohe', 'plan_configuration_index_ohe', 'legal_ownership_status_index_ohe']\n"
          ]
        }
      ],
      "source": [
        "encoder = OneHotEncoder(inputCols=indexed_features, \n",
        "                        outputCols=[col + '_ohe' for col in indexed_features], \n",
        "                        dropLast=True)\n",
        "\n",
        "print(f\"One hot encoded string features: {len(encoder.getOutputCols())}\\n{encoder.getOutputCols()}\")"
      ]
    },
    {
      "cell_type": "markdown",
      "id": "f6f6a6cf",
      "metadata": {
        "id": "f6f6a6cf"
      },
      "source": [
        "### Compile numeric features, not including target column"
      ]
    },
    {
      "cell_type": "code",
      "execution_count": 37,
      "id": "facd23d6",
      "metadata": {
        "colab": {
          "base_uri": "https://localhost:8080/",
          "height": 136
        },
        "id": "facd23d6",
        "outputId": "83df8898-51cf-4584-8955-9f4e2057e1b8"
      },
      "outputs": [
        {
          "output_type": "display_data",
          "data": {
            "text/plain": [
              "<IPython.core.display.HTML object>"
            ],
            "text/html": [
              "\n",
              "  <style>\n",
              "    pre {\n",
              "        white-space: pre-wrap;\n",
              "    }\n",
              "  </style>\n",
              "  "
            ]
          },
          "metadata": {}
        },
        {
          "output_type": "stream",
          "name": "stdout",
          "text": [
            "Numeric features: 27\n",
            "['geo_level_1_id', 'count_floors_pre_eq', 'age', 'area_percentage', 'height_percentage', 'has_superstructure_adobe_mud', 'has_superstructure_mud_mortar_stone', 'has_superstructure_stone_flag', 'has_superstructure_cement_mortar_stone', 'has_superstructure_mud_mortar_brick', 'has_superstructure_cement_mortar_brick', 'has_superstructure_timber', 'has_superstructure_bamboo', 'has_superstructure_rc_non_engineered', 'has_superstructure_rc_engineered', 'has_superstructure_other', 'count_families', 'has_secondary_use_agriculture', 'has_secondary_use_hotel', 'has_secondary_use_rental', 'has_secondary_use_institution', 'has_secondary_use_school', 'has_secondary_use_industry', 'has_secondary_use_health_post', 'has_secondary_use_gov_office', 'has_secondary_use_use_police', 'has_secondary_use_other']\n"
          ]
        }
      ],
      "source": [
        "numeric_features = []\n",
        "for column, dtype in spark_preprocessed_df.dtypes:\n",
        "    if dtype != 'string' and column != 'damage_grade':\n",
        "        numeric_features.append(column)\n",
        "\n",
        "# Confirm equal column counts\n",
        "assert len(spark_preprocessed_df.drop('damage_grade').columns) == (len(indexed_features) + len(numeric_features))\n",
        "print(f\"Numeric features: {len(numeric_features)}\\n{numeric_features}\")"
      ]
    },
    {
      "cell_type": "code",
      "execution_count": 38,
      "id": "a4556602",
      "metadata": {
        "colab": {
          "base_uri": "https://localhost:8080/",
          "height": 153
        },
        "id": "a4556602",
        "outputId": "28c98f30-6da0-4b69-9d55-f5f27339ec42"
      },
      "outputs": [
        {
          "output_type": "display_data",
          "data": {
            "text/plain": [
              "<IPython.core.display.HTML object>"
            ],
            "text/html": [
              "\n",
              "  <style>\n",
              "    pre {\n",
              "        white-space: pre-wrap;\n",
              "    }\n",
              "  </style>\n",
              "  "
            ]
          },
          "metadata": {}
        },
        {
          "output_type": "stream",
          "name": "stdout",
          "text": [
            "Final features: 35\n",
            "['land_surface_condition_index_ohe', 'foundation_type_index_ohe', 'roof_type_index_ohe', 'ground_floor_type_index_ohe', 'other_floor_type_index_ohe', 'position_index_ohe', 'plan_configuration_index_ohe', 'legal_ownership_status_index_ohe', 'geo_level_1_id', 'count_floors_pre_eq', 'age', 'area_percentage', 'height_percentage', 'has_superstructure_adobe_mud', 'has_superstructure_mud_mortar_stone', 'has_superstructure_stone_flag', 'has_superstructure_cement_mortar_stone', 'has_superstructure_mud_mortar_brick', 'has_superstructure_cement_mortar_brick', 'has_superstructure_timber', 'has_superstructure_bamboo', 'has_superstructure_rc_non_engineered', 'has_superstructure_rc_engineered', 'has_superstructure_other', 'count_families', 'has_secondary_use_agriculture', 'has_secondary_use_hotel', 'has_secondary_use_rental', 'has_secondary_use_institution', 'has_secondary_use_school', 'has_secondary_use_industry', 'has_secondary_use_health_post', 'has_secondary_use_gov_office', 'has_secondary_use_use_police', 'has_secondary_use_other']\n"
          ]
        }
      ],
      "source": [
        "# Print names of final features going into the model\n",
        "features = encoder.getOutputCols() + numeric_features\n",
        "print(f\"Final features: {len(features)}\\n{features}\")"
      ]
    },
    {
      "cell_type": "markdown",
      "id": "904569a8",
      "metadata": {
        "id": "904569a8"
      },
      "source": [
        "### Create a VectorAssembler to combine all features"
      ]
    },
    {
      "cell_type": "code",
      "execution_count": 39,
      "id": "07e90a1b",
      "metadata": {
        "colab": {
          "base_uri": "https://localhost:8080/",
          "height": 68
        },
        "id": "07e90a1b",
        "outputId": "4eb0b387-31b7-49e0-ca17-0342ed381c57"
      },
      "outputs": [
        {
          "output_type": "display_data",
          "data": {
            "text/plain": [
              "<IPython.core.display.HTML object>"
            ],
            "text/html": [
              "\n",
              "  <style>\n",
              "    pre {\n",
              "        white-space: pre-wrap;\n",
              "    }\n",
              "  </style>\n",
              "  "
            ]
          },
          "metadata": {}
        },
        {
          "output_type": "stream",
          "name": "stdout",
          "text": [
            "Stages: [StringIndexer_f3b9ab2e88b2, StringIndexer_bc8d7592e20f, StringIndexer_07f13c1b2676, StringIndexer_2b036a6c414e, StringIndexer_d4e7c0f0add0, StringIndexer_9f91fd7bec71, StringIndexer_439fb9da33f2, StringIndexer_ab568d27ffcd, OneHotEncoder_f3c7c3d157fd, VectorAssembler_f15334609c0a, StandardScaler_1954908715ca]\n"
          ]
        }
      ],
      "source": [
        "assembler = VectorAssembler(inputCols=features, outputCol='vectorized_features')\n",
        "\n",
        "# Assemble a list of stages that includes all indexers, the one hot encoder, the vector assembler, and the \n",
        "# standard scaler\n",
        "scaler = StandardScaler(inputCol='vectorized_features', outputCol='features')\n",
        "\n",
        "stages = indexers + [encoder, assembler, scaler]\n",
        "print(\"Stages:\", stages)"
      ]
    },
    {
      "cell_type": "markdown",
      "id": "acaaa0c7",
      "metadata": {
        "id": "acaaa0c7"
      },
      "source": [
        "### Create pipeline"
      ]
    },
    {
      "cell_type": "code",
      "execution_count": 40,
      "id": "551b89eb",
      "metadata": {
        "colab": {
          "base_uri": "https://localhost:8080/",
          "height": 34
        },
        "id": "551b89eb",
        "outputId": "f0360445-534a-43ba-d43d-7f8adc518fe6"
      },
      "outputs": [
        {
          "output_type": "display_data",
          "data": {
            "text/plain": [
              "<IPython.core.display.HTML object>"
            ],
            "text/html": [
              "\n",
              "  <style>\n",
              "    pre {\n",
              "        white-space: pre-wrap;\n",
              "    }\n",
              "  </style>\n",
              "  "
            ]
          },
          "metadata": {}
        },
        {
          "output_type": "execute_result",
          "data": {
            "text/plain": [
              "65"
            ]
          },
          "metadata": {},
          "execution_count": 40
        }
      ],
      "source": [
        "pipeline = Pipeline(stages=stages)\n",
        "\n",
        "pipeline_model = pipeline.fit(spark_preprocessed_df)\n",
        "\n",
        "pipeline_df = pipeline_model.transform(spark_preprocessed_df)\n",
        "\n",
        "pipeline.fit(spark_preprocessed_df).transform(spark_preprocessed_df).head()['features'].size"
      ]
    },
    {
      "cell_type": "code",
      "execution_count": 41,
      "id": "21f941c4",
      "metadata": {
        "colab": {
          "base_uri": "https://localhost:8080/",
          "height": 986
        },
        "id": "21f941c4",
        "outputId": "be85cc17-7f8f-43af-a086-49fbcd030160"
      },
      "outputs": [
        {
          "output_type": "display_data",
          "data": {
            "text/plain": [
              "<IPython.core.display.HTML object>"
            ],
            "text/html": [
              "\n",
              "  <style>\n",
              "    pre {\n",
              "        white-space: pre-wrap;\n",
              "    }\n",
              "  </style>\n",
              "  "
            ]
          },
          "metadata": {}
        },
        {
          "output_type": "stream",
          "name": "stdout",
          "text": [
            "-RECORD 0------------------------------------------------------\n",
            " geo_level_1_id                         | 6                    \n",
            " count_floors_pre_eq                    | 2                    \n",
            " age                                    | 30                   \n",
            " area_percentage                        | 6                    \n",
            " height_percentage                      | 5                    \n",
            " land_surface_condition                 | t                    \n",
            " foundation_type                        | r                    \n",
            " roof_type                              | n                    \n",
            " ground_floor_type                      | f                    \n",
            " other_floor_type                       | q                    \n",
            " position                               | t                    \n",
            " plan_configuration                     | d                    \n",
            " has_superstructure_adobe_mud           | 1                    \n",
            " has_superstructure_mud_mortar_stone    | 1                    \n",
            " has_superstructure_stone_flag          | 0                    \n",
            " has_superstructure_cement_mortar_stone | 0                    \n",
            " has_superstructure_mud_mortar_brick    | 0                    \n",
            " has_superstructure_cement_mortar_brick | 0                    \n",
            " has_superstructure_timber              | 0                    \n",
            " has_superstructure_bamboo              | 0                    \n",
            " has_superstructure_rc_non_engineered   | 0                    \n",
            " has_superstructure_rc_engineered       | 0                    \n",
            " has_superstructure_other               | 0                    \n",
            " legal_ownership_status                 | v                    \n",
            " count_families                         | 1                    \n",
            " has_secondary_use_agriculture          | 0                    \n",
            " has_secondary_use_hotel                | 0                    \n",
            " has_secondary_use_rental               | 0                    \n",
            " has_secondary_use_institution          | 0                    \n",
            " has_secondary_use_school               | 0                    \n",
            " has_secondary_use_industry             | 0                    \n",
            " has_secondary_use_health_post          | 0                    \n",
            " has_secondary_use_gov_office           | 0                    \n",
            " has_secondary_use_use_police           | 0                    \n",
            " has_secondary_use_other                | 0                    \n",
            " damage_grade                           | 3                    \n",
            " land_surface_condition_index           | 0.0                  \n",
            " foundation_type_index                  | 0.0                  \n",
            " roof_type_index                        | 0.0                  \n",
            " ground_floor_type_index                | 0.0                  \n",
            " other_floor_type_index                 | 0.0                  \n",
            " position_index                         | 1.0                  \n",
            " plan_configuration_index               | 0.0                  \n",
            " legal_ownership_status_index           | 0.0                  \n",
            " position_index_ohe                     | (4,[1],[1.0])        \n",
            " roof_type_index_ohe                    | (3,[0],[1.0])        \n",
            " land_surface_condition_index_ohe       | (3,[0],[1.0])        \n",
            " foundation_type_index_ohe              | (5,[0],[1.0])        \n",
            " other_floor_type_index_ohe             | (4,[0],[1.0])        \n",
            " ground_floor_type_index_ohe            | (5,[0],[1.0])        \n",
            " legal_ownership_status_index_ohe       | (4,[0],[1.0])        \n",
            " plan_configuration_index_ohe           | (10,[0],[1.0])       \n",
            " vectorized_features                    | (65,[0,3,8,11,16,... \n",
            " features                               | (65,[0,3,8,11,16,... \n",
            "only showing top 1 row\n",
            "\n"
          ]
        }
      ],
      "source": [
        "pipeline_df.show(1, vertical=True)"
      ]
    },
    {
      "cell_type": "markdown",
      "id": "c24ae31d",
      "metadata": {
        "id": "c24ae31d"
      },
      "source": [
        "### Train/test split"
      ]
    },
    {
      "cell_type": "code",
      "execution_count": 42,
      "id": "e969c3e9",
      "metadata": {
        "colab": {
          "base_uri": "https://localhost:8080/",
          "height": 17
        },
        "id": "e969c3e9",
        "outputId": "4f4f14bf-38b3-4a38-b1b6-a8b917fb5850"
      },
      "outputs": [
        {
          "output_type": "display_data",
          "data": {
            "text/plain": [
              "<IPython.core.display.HTML object>"
            ],
            "text/html": [
              "\n",
              "  <style>\n",
              "    pre {\n",
              "        white-space: pre-wrap;\n",
              "    }\n",
              "  </style>\n",
              "  "
            ]
          },
          "metadata": {}
        }
      ],
      "source": [
        "train, test = spark_preprocessed_df.randomSplit(weights=[0.75, 0.25], seed=42)"
      ]
    },
    {
      "cell_type": "markdown",
      "id": "fffef245",
      "metadata": {
        "id": "fffef245"
      },
      "source": [
        "### Create model evaluator"
      ]
    },
    {
      "cell_type": "code",
      "execution_count": null,
      "id": "973bead7",
      "metadata": {
        "id": "973bead7"
      },
      "outputs": [],
      "source": [
        "# evaluator = MulticlassClassificationEvaluator(\n",
        "#     predictionCol='prediction',\n",
        "#     labelCol='damage_grade',\n",
        "#     metricName='accuracy'\n",
        "# )"
      ]
    },
    {
      "cell_type": "code",
      "execution_count": 43,
      "id": "755b4319-9f61-4ed1-ae42-5b3e76fa62d9",
      "metadata": {
        "colab": {
          "base_uri": "https://localhost:8080/",
          "height": 68
        },
        "id": "755b4319-9f61-4ed1-ae42-5b3e76fa62d9",
        "outputId": "d2af3ad2-e2ab-498f-b297-f516e1f45fde"
      },
      "outputs": [
        {
          "output_type": "display_data",
          "data": {
            "text/plain": [
              "<IPython.core.display.HTML object>"
            ],
            "text/html": [
              "\n",
              "  <style>\n",
              "    pre {\n",
              "        white-space: pre-wrap;\n",
              "    }\n",
              "  </style>\n",
              "  "
            ]
          },
          "metadata": {}
        },
        {
          "output_type": "stream",
          "name": "stdout",
          "text": [
            "{'parent': 'undefined', 'name': 'metricName', 'doc': 'metric name in evaluation (f1|accuracy|weightedPrecision|weightedRecall|weightedTruePositiveRate| weightedFalsePositiveRate|weightedFMeasure|truePositiveRateByLabel| falsePositiveRateByLabel|precisionByLabel|recallByLabel|fMeasureByLabel| logLoss|hammingLoss)', 'typeConverter': <function TypeConverters.toString at 0x7fc4590c64d0>}\n"
          ]
        }
      ],
      "source": [
        "print(vars(MulticlassClassificationEvaluator.metricName))"
      ]
    },
    {
      "cell_type": "markdown",
      "id": "67a5bc91",
      "metadata": {
        "id": "67a5bc91"
      },
      "source": [
        "<br>"
      ]
    },
    {
      "cell_type": "markdown",
      "id": "93a60f1c",
      "metadata": {
        "id": "93a60f1c"
      },
      "source": [
        "# Create Helper Functions"
      ]
    },
    {
      "cell_type": "code",
      "execution_count": 44,
      "id": "3039a771",
      "metadata": {
        "colab": {
          "base_uri": "https://localhost:8080/",
          "height": 17
        },
        "id": "3039a771",
        "outputId": "39642a73-ea94-4a2a-8acd-c5a7a7724f07"
      },
      "outputs": [
        {
          "output_type": "display_data",
          "data": {
            "text/plain": [
              "<IPython.core.display.HTML object>"
            ],
            "text/html": [
              "\n",
              "  <style>\n",
              "    pre {\n",
              "        white-space: pre-wrap;\n",
              "    }\n",
              "  </style>\n",
              "  "
            ]
          },
          "metadata": {}
        }
      ],
      "source": [
        "def score_model(classifier, df=spark_preprocessed_df, preprocessing_stages=stages):\n",
        "    # Fit the model and classifier\n",
        "    stages_with_classifier = preprocessing_stages + [classifier]\n",
        "    pipe = Pipeline(stages=stages_with_classifier)\n",
        "    model = pipe.fit(df)\n",
        "    # Define evaluator\n",
        "    evaluator = MulticlassClassificationEvaluator(predictionCol='prediction', labelCol='damage_grade')\n",
        "    # Store train and test dataframe in variables\n",
        "    result_train = model.transform(train)\n",
        "    result_test = model.transform(test)\n",
        "    # Compute accuracy scores on train and test data\n",
        "    train_acc = evaluator.evaluate(result_train, {evaluator.metricName: 'accuracy'})\n",
        "    test_acc = evaluator.evaluate(result_test, {evaluator.metricName: 'accuracy'})\n",
        "    # Compute precision scores on test data\n",
        "    test_precision_1 = evaluator.evaluate(result_test, {evaluator.metricName: 'precisionByLabel', evaluator.metricLabel: 1.0})\n",
        "    test_precision_2 = evaluator.evaluate(result_test, {evaluator.metricName: 'precisionByLabel', evaluator.metricLabel: 2.0})\n",
        "    # Compute recall scores on test data\n",
        "    test_recall_1 = evaluator.evaluate(result_test, {evaluator.metricName: 'recallByLabel', evaluator.metricLabel: 1.0})\n",
        "    test_recall_2 = evaluator.evaluate(result_test, {evaluator.metricName: 'recallByLabel', evaluator.metricLabel: 2.0})\n",
        "    \n",
        "    print(classifier, '\\n')\n",
        "    print(f\"Training set accuracy: {round(train_acc, 3)}\")\n",
        "    print(f\"Test set accuracy: {round(test_acc, 3)}\")\n",
        "    print('-'*40)\n",
        "    print(\"Test set precisbion\")\n",
        "    print(f\"Label 1.0: {round(test_precision_1, 3)}    Label 2.0: {round(test_precision_2, 3)}\")\n",
        "    print('-'*40)\n",
        "    print(\"Test set recall\")\n",
        "    print(f\"Label 1.0: {round(test_recall_1, 3)}    Label 2.0: {round(test_recall_2, 3)}\")"
      ]
    },
    {
      "cell_type": "code",
      "source": [
        "def plot_confusion_matrix(classifier, df=spark_preprocessed_df, preprocessing_stages=stages):\n",
        "    # Fit the model and classifier\n",
        "    stages_with_classifier = preprocessing_stages + [classifier]\n",
        "    pipe = Pipeline(stages=stages_with_classifier)\n",
        "    model = pipe.fit(df)\n",
        "    # Convert damage_grade column to array\n",
        "    y_true = np.array(df.select('damage_grade').collect())\n",
        "    # Calculate predictions and convert prediction column to array\n",
        "    y_predicted = np.array(model.transform(df).select('prediction').collect())\n",
        "\n",
        "    # Plot\n",
        "    fig, ax = plt.subplots(figsize=(16, 7))\n",
        "    cm = confusion_matrix(y_true, y_predicted)\n",
        "    disp = ConfusionMatrixDisplay(confusion_matrix=cm)\n",
        "    disp.plot(cmap='Reds', ax=ax)\n",
        "    ax.set_title('Confusion Matrix', size=14, fontweight='bold')\n",
        "    ax.grid(False)"
      ],
      "metadata": {
        "id": "bn8cc1OplruR",
        "outputId": "6607354a-b854-477b-c7a0-518205fc27f1",
        "colab": {
          "base_uri": "https://localhost:8080/",
          "height": 17
        }
      },
      "id": "bn8cc1OplruR",
      "execution_count": 68,
      "outputs": [
        {
          "output_type": "display_data",
          "data": {
            "text/plain": [
              "<IPython.core.display.HTML object>"
            ],
            "text/html": [
              "\n",
              "  <style>\n",
              "    pre {\n",
              "        white-space: pre-wrap;\n",
              "    }\n",
              "  </style>\n",
              "  "
            ]
          },
          "metadata": {}
        }
      ]
    },
    {
      "cell_type": "markdown",
      "source": [
        "<br>"
      ],
      "metadata": {
        "id": "swWG9o8amcP-"
      },
      "id": "swWG9o8amcP-"
    },
    {
      "cell_type": "code",
      "execution_count": 45,
      "id": "52303220",
      "metadata": {
        "colab": {
          "base_uri": "https://localhost:8080/",
          "height": 17
        },
        "id": "52303220",
        "outputId": "76fd5330-f9b7-45f7-c109-6575d0b8dd7c"
      },
      "outputs": [
        {
          "output_type": "display_data",
          "data": {
            "text/plain": [
              "<IPython.core.display.HTML object>"
            ],
            "text/html": [
              "\n",
              "  <style>\n",
              "    pre {\n",
              "        white-space: pre-wrap;\n",
              "    }\n",
              "  </style>\n",
              "  "
            ]
          },
          "metadata": {}
        }
      ],
      "source": [
        "lr_1 = LogisticRegression(\n",
        "    featuresCol='features',\n",
        "    labelCol='damage_grade',\n",
        "    predictionCol='prediction',\n",
        "    standardization=False\n",
        ")"
      ]
    },
    {
      "cell_type": "code",
      "execution_count": 46,
      "id": "8137fdf5",
      "metadata": {
        "colab": {
          "base_uri": "https://localhost:8080/",
          "height": 187
        },
        "id": "8137fdf5",
        "outputId": "3bcad3f7-621d-45b7-91bd-745c2b5568c2"
      },
      "outputs": [
        {
          "output_type": "display_data",
          "data": {
            "text/plain": [
              "<IPython.core.display.HTML object>"
            ],
            "text/html": [
              "\n",
              "  <style>\n",
              "    pre {\n",
              "        white-space: pre-wrap;\n",
              "    }\n",
              "  </style>\n",
              "  "
            ]
          },
          "metadata": {}
        },
        {
          "output_type": "stream",
          "name": "stdout",
          "text": [
            "LogisticRegression_fc873490ef3c \n",
            "\n",
            "Training set accuracy: 0.589\n",
            "Test set accuracy: 0.593\n",
            "----------------------------------------\n",
            "Test set precision\n",
            "Label 1.0: 0.582    Label 2.0: 0.604\n",
            "----------------------------------------\n",
            "Test set recall\n",
            "Label 1.0: 0.286    Label 2.0: 0.85\n"
          ]
        }
      ],
      "source": [
        "score_model(lr_1)"
      ]
    },
    {
      "cell_type": "code",
      "source": [
        "plot_confusion_matrix(lr_1)"
      ],
      "metadata": {
        "id": "xxlXHjprsUIt",
        "outputId": "d1003482-be9f-49c1-8d8a-3aeae0783331",
        "colab": {
          "base_uri": "https://localhost:8080/",
          "height": 458
        }
      },
      "id": "xxlXHjprsUIt",
      "execution_count": 69,
      "outputs": [
        {
          "output_type": "display_data",
          "data": {
            "text/plain": [
              "<IPython.core.display.HTML object>"
            ],
            "text/html": [
              "\n",
              "  <style>\n",
              "    pre {\n",
              "        white-space: pre-wrap;\n",
              "    }\n",
              "  </style>\n",
              "  "
            ]
          },
          "metadata": {}
        },
        {
          "output_type": "display_data",
          "data": {
            "text/plain": [
              "<Figure size 1152x504 with 2 Axes>"
            ],
            "image/png": "[encoded data removed]"
          },
          "metadata": {
            "image/png": {
              "width": 520,
              "height": 441
            },
            "needs_background": "light"
          }
        }
      ]
    },
    {
      "cell_type": "code",
      "execution_count": 69,
      "id": "8459e303",
      "metadata": {
        "id": "8459e303"
      },
      "outputs": [],
      "source": [
        ""
      ]
    },
    {
      "cell_type": "code",
      "execution_count": 67,
      "id": "8c061111",
      "metadata": {
        "id": "8c061111"
      },
      "outputs": [],
      "source": [
        ""
      ]
    },
    {
      "cell_type": "code",
      "execution_count": 46,
      "id": "2c6e3c48",
      "metadata": {
        "id": "2c6e3c48"
      },
      "outputs": [],
      "source": [
        ""
      ]
    },
    {
      "cell_type": "code",
      "execution_count": 46,
      "id": "cb696d00-1f5f-4bfa-8d40-23dbc5dd05cb",
      "metadata": {
        "id": "cb696d00-1f5f-4bfa-8d40-23dbc5dd05cb"
      },
      "outputs": [],
      "source": [
        ""
      ]
    }
  ],
  "metadata": {
    "kernelspec": {
      "display_name": "Python (spark-env)",
      "language": "python",
      "name": "spark-env"
    },
    "language_info": {
      "codemirror_mode": {
        "name": "ipython",
        "version": 3
      },
      "file_extension": ".py",
      "mimetype": "text/x-python",
      "name": "python",
      "nbconvert_exporter": "python",
      "pygments_lexer": "ipython3",
      "version": "3.8.13"
    },
    "colab": {
      "name": "Capstone_Notebook_V2.ipynb",
      "provenance": []
    },
    "gpuClass": "standard"
  },
  "nbformat": 4,
  "nbformat_minor": 5
}