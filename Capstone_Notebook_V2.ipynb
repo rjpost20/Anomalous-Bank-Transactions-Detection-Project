{
  "cells": [
    {
      "cell_type": "code",
      "execution_count": null,
      "id": "43832c77-c88f-4f18-b9c7-cd524c83a079",
      "metadata": {
        "id": "43832c77-c88f-4f18-b9c7-cd524c83a079"
      },
      "outputs": [],
      "source": [
        ""
      ]
    },
    {
      "cell_type": "markdown",
      "id": "4e776a59",
      "metadata": {
        "id": "4e776a59"
      },
      "source": [
        "# Phase 5 Project: *Title*"
      ]
    },
    {
      "cell_type": "markdown",
      "id": "0d8d69b1",
      "metadata": {
        "id": "0d8d69b1"
      },
      "source": [
        "### By Ryan Posternak"
      ]
    },
    {
      "cell_type": "markdown",
      "id": "391da7ad",
      "metadata": {
        "id": "391da7ad"
      },
      "source": [
        "Flatiron School, Full-Time Live NYC<br>\n",
        "Project Presentation Date: August 26th, 2022<br>\n",
        "Instructor: Joseph Mata"
      ]
    },
    {
      "cell_type": "markdown",
      "id": "e224a6d9",
      "metadata": {
        "id": "e224a6d9"
      },
      "source": [
        "## Goal: \n",
        "\n",
        "*This is a project for learning purposes. The *** is not involved with this project in any way.*\n",
        "\n",
        "<br>"
      ]
    },
    {
      "cell_type": "markdown",
      "id": "b6ebe033",
      "metadata": {
        "id": "b6ebe033"
      },
      "source": [
        "# Overview and Business Understanding"
      ]
    },
    {
      "cell_type": "code",
      "execution_count": null,
      "id": "4d11f20f",
      "metadata": {
        "id": "4d11f20f"
      },
      "outputs": [],
      "source": [
        ""
      ]
    },
    {
      "cell_type": "markdown",
      "id": "982dc4d2",
      "metadata": {
        "id": "982dc4d2"
      },
      "source": [
        "<br>"
      ]
    },
    {
      "cell_type": "markdown",
      "id": "70c4b223",
      "metadata": {
        "id": "70c4b223"
      },
      "source": [
        "# Data Understanding"
      ]
    },
    {
      "cell_type": "code",
      "execution_count": null,
      "id": "f5a85825",
      "metadata": {
        "id": "f5a85825"
      },
      "outputs": [],
      "source": [
        ""
      ]
    },
    {
      "cell_type": "markdown",
      "id": "8ae04d92",
      "metadata": {
        "id": "8ae04d92"
      },
      "source": [
        "<br>"
      ]
    },
    {
      "cell_type": "markdown",
      "id": "e374d1a3",
      "metadata": {
        "id": "e374d1a3"
      },
      "source": [
        "# Initial Exploratory Data Analysis"
      ]
    },
    {
      "cell_type": "markdown",
      "id": "090076bc",
      "metadata": {
        "id": "090076bc"
      },
      "source": [
        "### Import libraries, packages and modules"
      ]
    },
    {
      "cell_type": "code",
      "source": [
        "# !sudo apt update\n",
        "# !apt-get install openjdk-8-jdk-headless -qq > /dev/null\n",
        "# !wget -q https://archive.apache.org/dist/spark/spark-3.0.0/spark-3.0.0-bin-hadoop3.2.tgz\n",
        "# !tar xf spark-3.0.0-bin-hadoop3.2.tgz\n",
        "# import os\n",
        "# os.environ[\"JAVA_HOME\"] = \"/usr/lib/jvm/java-8-openjdk-amd64\"\n",
        "# os.environ[\"SPARK_HOME\"] = \"/content/spark-3.0.0-bin-hadoop3.2\"\n",
        "# !pip install pyspark==3\n",
        "# # !pip install -q findspark\n",
        "import findspark\n",
        "findspark.init()"
      ],
      "metadata": {
        "id": "3SMbckpdPwV1"
      },
      "id": "3SMbckpdPwV1",
      "execution_count": 1,
      "outputs": []
    },
    {
      "cell_type": "code",
      "execution_count": 23,
      "id": "d5c6ddd6",
      "metadata": {
        "id": "d5c6ddd6"
      },
      "outputs": [],
      "source": [
        "import numpy as np\n",
        "import pandas as pd\n",
        "import os\n",
        "\n",
        "from pyspark.sql import SparkSession\n",
        "import pyspark.sql.functions as F\n",
        "from pyspark.sql.types import StringType, IntegerType, DoubleType\n",
        "from pyspark.ml.feature import StringIndexer, OneHotEncoder, VectorAssembler, StandardScaler\n",
        "from pyspark.ml import Pipeline\n",
        "from pyspark.ml.classification import LogisticRegression\n",
        "# from pyspark.ml.evaluation import BinaryClassificationEvaluator\n",
        "from pyspark.ml.evaluation import MulticlassClassificationEvaluator\n",
        "from pyspark.ml.tuning import ParamGridBuilder, CrossValidator\n",
        "\n",
        "import matplotlib.pyplot as plt\n",
        "plt.style.use('seaborn')\n",
        "import seaborn as sns\n",
        "import matplotlib_inline.backend_inline\n",
        "matplotlib_inline.backend_inline.set_matplotlib_formats('retina')\n",
        "%matplotlib inline"
      ]
    },
    {
      "cell_type": "code",
      "execution_count": 4,
      "id": "ba42162b",
      "metadata": {
        "id": "ba42162b"
      },
      "outputs": [],
      "source": [
        "# Initialize Spark Session\n",
        "# spark = SparkSession.builder.master('local[*]').getOrCreate()\n",
        "spark = SparkSession.builder\\\n",
        "        .master(\"local[*]\")\\\n",
        "        .appName(\"Colab\")\\\n",
        "        .config('spark.ui.port', '4050')\\\n",
        "        .getOrCreate()"
      ]
    },
    {
      "cell_type": "code",
      "execution_count": 5,
      "id": "a3f1a32e",
      "metadata": {
        "id": "a3f1a32e"
      },
      "outputs": [],
      "source": [
        "# Read in training data csv to a Spark DataFrame\n",
        "spark_X_df = spark.read.csv('Richters_Predictor_Modeling_Earthquake_Damage_-_Train_Values.csv', header=True)\n",
        "\n",
        "# Read in testing data csv to a Spark DataFrame\n",
        "spark_y_df = spark.read.csv('Richters_Predictor_Modeling_Earthquake_Damage_-_Train_Labels.csv', header=True)"
      ]
    },
    {
      "cell_type": "code",
      "execution_count": 6,
      "id": "afafaef6",
      "metadata": {
        "id": "afafaef6",
        "outputId": "8d445569-7932-48a3-cb33-afe596f24f64",
        "colab": {
          "base_uri": "https://localhost:8080/"
        }
      },
      "outputs": [
        {
          "output_type": "stream",
          "name": "stdout",
          "text": [
            "Rows: 260601, Columns: 39\n"
          ]
        }
      ],
      "source": [
        "# Print shape of dataframe\n",
        "print(f\"Rows: {spark_X_df.count()}, Columns: {len(spark_X_df.columns)}\")"
      ]
    },
    {
      "cell_type": "code",
      "execution_count": 7,
      "id": "d94a0898",
      "metadata": {
        "id": "d94a0898",
        "outputId": "075260d2-2d0a-4874-e022-b94469947f81",
        "colab": {
          "base_uri": "https://localhost:8080/"
        }
      },
      "outputs": [
        {
          "output_type": "stream",
          "name": "stdout",
          "text": [
            "root\n",
            " |-- building_id: string (nullable = true)\n",
            " |-- geo_level_1_id: string (nullable = true)\n",
            " |-- geo_level_2_id: string (nullable = true)\n",
            " |-- geo_level_3_id: string (nullable = true)\n",
            " |-- count_floors_pre_eq: string (nullable = true)\n",
            " |-- age: string (nullable = true)\n",
            " |-- area_percentage: string (nullable = true)\n",
            " |-- height_percentage: string (nullable = true)\n",
            " |-- land_surface_condition: string (nullable = true)\n",
            " |-- foundation_type: string (nullable = true)\n",
            " |-- roof_type: string (nullable = true)\n",
            " |-- ground_floor_type: string (nullable = true)\n",
            " |-- other_floor_type: string (nullable = true)\n",
            " |-- position: string (nullable = true)\n",
            " |-- plan_configuration: string (nullable = true)\n",
            " |-- has_superstructure_adobe_mud: string (nullable = true)\n",
            " |-- has_superstructure_mud_mortar_stone: string (nullable = true)\n",
            " |-- has_superstructure_stone_flag: string (nullable = true)\n",
            " |-- has_superstructure_cement_mortar_stone: string (nullable = true)\n",
            " |-- has_superstructure_mud_mortar_brick: string (nullable = true)\n",
            " |-- has_superstructure_cement_mortar_brick: string (nullable = true)\n",
            " |-- has_superstructure_timber: string (nullable = true)\n",
            " |-- has_superstructure_bamboo: string (nullable = true)\n",
            " |-- has_superstructure_rc_non_engineered: string (nullable = true)\n",
            " |-- has_superstructure_rc_engineered: string (nullable = true)\n",
            " |-- has_superstructure_other: string (nullable = true)\n",
            " |-- legal_ownership_status: string (nullable = true)\n",
            " |-- count_families: string (nullable = true)\n",
            " |-- has_secondary_use: string (nullable = true)\n",
            " |-- has_secondary_use_agriculture: string (nullable = true)\n",
            " |-- has_secondary_use_hotel: string (nullable = true)\n",
            " |-- has_secondary_use_rental: string (nullable = true)\n",
            " |-- has_secondary_use_institution: string (nullable = true)\n",
            " |-- has_secondary_use_school: string (nullable = true)\n",
            " |-- has_secondary_use_industry: string (nullable = true)\n",
            " |-- has_secondary_use_health_post: string (nullable = true)\n",
            " |-- has_secondary_use_gov_office: string (nullable = true)\n",
            " |-- has_secondary_use_use_police: string (nullable = true)\n",
            " |-- has_secondary_use_other: string (nullable = true)\n",
            "\n"
          ]
        }
      ],
      "source": [
        "# Print features dataframe schema\n",
        "spark_X_df.printSchema()"
      ]
    },
    {
      "cell_type": "code",
      "execution_count": 8,
      "id": "c2c7b2b7",
      "metadata": {
        "id": "c2c7b2b7",
        "outputId": "ec9ea095-ee78-450c-aa20-fc338b6419dc",
        "colab": {
          "base_uri": "https://localhost:8080/"
        }
      },
      "outputs": [
        {
          "output_type": "stream",
          "name": "stdout",
          "text": [
            "-RECORD 0----------------------------------------\n",
            " building_id                            | 802906 \n",
            " geo_level_1_id                         | 6      \n",
            " geo_level_2_id                         | 487    \n",
            " geo_level_3_id                         | 12198  \n",
            " count_floors_pre_eq                    | 2      \n",
            " age                                    | 30     \n",
            " area_percentage                        | 6      \n",
            " height_percentage                      | 5      \n",
            " land_surface_condition                 | t      \n",
            " foundation_type                        | r      \n",
            " roof_type                              | n      \n",
            " ground_floor_type                      | f      \n",
            " other_floor_type                       | q      \n",
            " position                               | t      \n",
            " plan_configuration                     | d      \n",
            " has_superstructure_adobe_mud           | 1      \n",
            " has_superstructure_mud_mortar_stone    | 1      \n",
            " has_superstructure_stone_flag          | 0      \n",
            " has_superstructure_cement_mortar_stone | 0      \n",
            " has_superstructure_mud_mortar_brick    | 0      \n",
            " has_superstructure_cement_mortar_brick | 0      \n",
            " has_superstructure_timber              | 0      \n",
            " has_superstructure_bamboo              | 0      \n",
            " has_superstructure_rc_non_engineered   | 0      \n",
            " has_superstructure_rc_engineered       | 0      \n",
            " has_superstructure_other               | 0      \n",
            " legal_ownership_status                 | v      \n",
            " count_families                         | 1      \n",
            " has_secondary_use                      | 0      \n",
            " has_secondary_use_agriculture          | 0      \n",
            " has_secondary_use_hotel                | 0      \n",
            " has_secondary_use_rental               | 0      \n",
            " has_secondary_use_institution          | 0      \n",
            " has_secondary_use_school               | 0      \n",
            " has_secondary_use_industry             | 0      \n",
            " has_secondary_use_health_post          | 0      \n",
            " has_secondary_use_gov_office           | 0      \n",
            " has_secondary_use_use_police           | 0      \n",
            " has_secondary_use_other                | 0      \n",
            "only showing top 1 row\n",
            "\n"
          ]
        }
      ],
      "source": [
        "# Print first row\n",
        "spark_X_df.show(n=1, vertical=True)"
      ]
    },
    {
      "cell_type": "code",
      "execution_count": 9,
      "id": "147b5891",
      "metadata": {
        "id": "147b5891",
        "outputId": "0c6da95e-67c5-4ee7-e38c-3448c04a56cc",
        "colab": {
          "base_uri": "https://localhost:8080/"
        }
      },
      "outputs": [
        {
          "output_type": "stream",
          "name": "stdout",
          "text": [
            "<class 'pandas.core.frame.DataFrame'>\n",
            "RangeIndex: 260601 entries, 0 to 260600\n",
            "Data columns (total 39 columns):\n",
            " #   Column                                  Non-Null Count   Dtype \n",
            "---  ------                                  --------------   ----- \n",
            " 0   building_id                             260601 non-null  object\n",
            " 1   geo_level_1_id                          260601 non-null  object\n",
            " 2   geo_level_2_id                          260601 non-null  object\n",
            " 3   geo_level_3_id                          260601 non-null  object\n",
            " 4   count_floors_pre_eq                     260601 non-null  object\n",
            " 5   age                                     260601 non-null  object\n",
            " 6   area_percentage                         260601 non-null  object\n",
            " 7   height_percentage                       260601 non-null  object\n",
            " 8   land_surface_condition                  260601 non-null  object\n",
            " 9   foundation_type                         260601 non-null  object\n",
            " 10  roof_type                               260601 non-null  object\n",
            " 11  ground_floor_type                       260601 non-null  object\n",
            " 12  other_floor_type                        260601 non-null  object\n",
            " 13  position                                260601 non-null  object\n",
            " 14  plan_configuration                      260601 non-null  object\n",
            " 15  has_superstructure_adobe_mud            260601 non-null  object\n",
            " 16  has_superstructure_mud_mortar_stone     260601 non-null  object\n",
            " 17  has_superstructure_stone_flag           260601 non-null  object\n",
            " 18  has_superstructure_cement_mortar_stone  260601 non-null  object\n",
            " 19  has_superstructure_mud_mortar_brick     260601 non-null  object\n",
            " 20  has_superstructure_cement_mortar_brick  260601 non-null  object\n",
            " 21  has_superstructure_timber               260601 non-null  object\n",
            " 22  has_superstructure_bamboo               260601 non-null  object\n",
            " 23  has_superstructure_rc_non_engineered    260601 non-null  object\n",
            " 24  has_superstructure_rc_engineered        260601 non-null  object\n",
            " 25  has_superstructure_other                260601 non-null  object\n",
            " 26  legal_ownership_status                  260601 non-null  object\n",
            " 27  count_families                          260601 non-null  object\n",
            " 28  has_secondary_use                       260601 non-null  object\n",
            " 29  has_secondary_use_agriculture           260601 non-null  object\n",
            " 30  has_secondary_use_hotel                 260601 non-null  object\n",
            " 31  has_secondary_use_rental                260601 non-null  object\n",
            " 32  has_secondary_use_institution           260601 non-null  object\n",
            " 33  has_secondary_use_school                260601 non-null  object\n",
            " 34  has_secondary_use_industry              260601 non-null  object\n",
            " 35  has_secondary_use_health_post           260601 non-null  object\n",
            " 36  has_secondary_use_gov_office            260601 non-null  object\n",
            " 37  has_secondary_use_use_police            260601 non-null  object\n",
            " 38  has_secondary_use_other                 260601 non-null  object\n",
            "dtypes: object(39)\n",
            "memory usage: 77.5+ MB\n"
          ]
        }
      ],
      "source": [
        "# Show unique values for each column through Pandas\n",
        "spark_X_df.toPandas().info()"
      ]
    },
    {
      "cell_type": "code",
      "execution_count": 10,
      "id": "71a7db64",
      "metadata": {
        "id": "71a7db64",
        "outputId": "2415908c-f2d5-4f67-c3d4-4ae876d542bc",
        "colab": {
          "base_uri": "https://localhost:8080/"
        }
      },
      "outputs": [
        {
          "output_type": "stream",
          "name": "stdout",
          "text": [
            "-RECORD 0-------------------------------------------------\n",
            " distinct_building_id                            | 260601 \n",
            " distinct_geo_level_1_id                         | 31     \n",
            " distinct_geo_level_2_id                         | 1414   \n",
            " distinct_geo_level_3_id                         | 11595  \n",
            " distinct_count_floors_pre_eq                    | 9      \n",
            " distinct_age                                    | 42     \n",
            " distinct_area_percentage                        | 84     \n",
            " distinct_height_percentage                      | 27     \n",
            " distinct_land_surface_condition                 | 3      \n",
            " distinct_foundation_type                        | 5      \n",
            " distinct_roof_type                              | 3      \n",
            " distinct_ground_floor_type                      | 5      \n",
            " distinct_other_floor_type                       | 4      \n",
            " distinct_position                               | 4      \n",
            " distinct_plan_configuration                     | 10     \n",
            " distinct_has_superstructure_adobe_mud           | 2      \n",
            " distinct_has_superstructure_mud_mortar_stone    | 2      \n",
            " distinct_has_superstructure_stone_flag          | 2      \n",
            " distinct_has_superstructure_cement_mortar_stone | 2      \n",
            " distinct_has_superstructure_mud_mortar_brick    | 2      \n",
            " distinct_has_superstructure_cement_mortar_brick | 2      \n",
            " distinct_has_superstructure_timber              | 2      \n",
            " distinct_has_superstructure_bamboo              | 2      \n",
            " distinct_has_superstructure_rc_non_engineered   | 2      \n",
            " distinct_has_superstructure_rc_engineered       | 2      \n",
            " distinct_has_superstructure_other               | 2      \n",
            " distinct_legal_ownership_status                 | 4      \n",
            " distinct_count_families                         | 10     \n",
            " distinct_has_secondary_use                      | 2      \n",
            " distinct_has_secondary_use_agriculture          | 2      \n",
            " distinct_has_secondary_use_hotel                | 2      \n",
            " distinct_has_secondary_use_rental               | 2      \n",
            " distinct_has_secondary_use_institution          | 2      \n",
            " distinct_has_secondary_use_school               | 2      \n",
            " distinct_has_secondary_use_industry             | 2      \n",
            " distinct_has_secondary_use_health_post          | 2      \n",
            " distinct_has_secondary_use_gov_office           | 2      \n",
            " distinct_has_secondary_use_use_police           | 2      \n",
            " distinct_has_secondary_use_other                | 2      \n",
            "\n"
          ]
        }
      ],
      "source": [
        "# Show unique values for each column through PySpark\n",
        "spark_X_df.agg(*(F.countDistinct(F.col(c)).alias('distinct_' + c) for c in spark_X_df.columns)).show(vertical=True)"
      ]
    },
    {
      "cell_type": "code",
      "execution_count": 11,
      "id": "6f29ae18",
      "metadata": {
        "id": "6f29ae18",
        "outputId": "ce566ef7-09db-4e20-cd7c-b611d7d669a1",
        "colab": {
          "base_uri": "https://localhost:8080/"
        }
      },
      "outputs": [
        {
          "output_type": "stream",
          "name": "stdout",
          "text": [
            "-RECORD 0------------------------------------------\n",
            " null_building_id                            | 0   \n",
            " null_geo_level_1_id                         | 0   \n",
            " null_geo_level_2_id                         | 0   \n",
            " null_geo_level_3_id                         | 0   \n",
            " null_count_floors_pre_eq                    | 0   \n",
            " null_age                                    | 0   \n",
            " null_area_percentage                        | 0   \n",
            " null_height_percentage                      | 0   \n",
            " null_land_surface_condition                 | 0   \n",
            " null_foundation_type                        | 0   \n",
            " null_roof_type                              | 0   \n",
            " null_ground_floor_type                      | 0   \n",
            " null_other_floor_type                       | 0   \n",
            " null_position                               | 0   \n",
            " null_plan_configuration                     | 0   \n",
            " null_has_superstructure_adobe_mud           | 0   \n",
            " null_has_superstructure_mud_mortar_stone    | 0   \n",
            " null_has_superstructure_stone_flag          | 0   \n",
            " null_has_superstructure_cement_mortar_stone | 0   \n",
            " null_has_superstructure_mud_mortar_brick    | 0   \n",
            " null_has_superstructure_cement_mortar_brick | 0   \n",
            " null_has_superstructure_timber              | 0   \n",
            " null_has_superstructure_bamboo              | 0   \n",
            " null_has_superstructure_rc_non_engineered   | 0   \n",
            " null_has_superstructure_rc_engineered       | 0   \n",
            " null_has_superstructure_other               | 0   \n",
            " null_legal_ownership_status                 | 0   \n",
            " null_count_families                         | 0   \n",
            " null_has_secondary_use                      | 0   \n",
            " null_has_secondary_use_agriculture          | 0   \n",
            " null_has_secondary_use_hotel                | 0   \n",
            " null_has_secondary_use_rental               | 0   \n",
            " null_has_secondary_use_institution          | 0   \n",
            " null_has_secondary_use_school               | 0   \n",
            " null_has_secondary_use_industry             | 0   \n",
            " null_has_secondary_use_health_post          | 0   \n",
            " null_has_secondary_use_gov_office           | 0   \n",
            " null_has_secondary_use_use_police           | 0   \n",
            " null_has_secondary_use_other                | 0   \n",
            "\n"
          ]
        }
      ],
      "source": [
        "# Show null values for each column through PySpark\n",
        "spark_X_df.select([F.count(F.when(F.isnan(c), c)).alias('null_' + c) for c in spark_X_df.columns]).show(vertical=True)"
      ]
    },
    {
      "cell_type": "code",
      "execution_count": 12,
      "id": "a26f0fc5",
      "metadata": {
        "id": "a26f0fc5",
        "outputId": "d25fda75-848a-4110-e1ce-754d33a25c0a",
        "colab": {
          "base_uri": "https://localhost:8080/",
          "height": 390
        }
      },
      "outputs": [
        {
          "output_type": "execute_result",
          "data": {
            "text/plain": [
              "  summary count_floors_pre_eq                 age    area_percentage  \\\n",
              "0   count              260601              260601             260601   \n",
              "1    mean  2.1297232167182782  26.535028645323695  8.018050583075276   \n",
              "2  stddev  0.7276645452862871    73.5659365227268  4.392230935895025   \n",
              "3     min                   1                   0                  1   \n",
              "4     25%                 2.0                10.0                5.0   \n",
              "5     50%                 2.0                15.0                7.0   \n",
              "6     75%                 2.0                30.0                9.0   \n",
              "7     max                   9                 995                 96   \n",
              "\n",
              "    height_percentage land_surface_condition foundation_type roof_type  \\\n",
              "0              260601                 260601          260601    260601   \n",
              "1    5.43436517895173                   None            None      None   \n",
              "2  1.9184182207480929                   None            None      None   \n",
              "3                  10                      n               h         n   \n",
              "4                 4.0                   None            None      None   \n",
              "5                 5.0                   None            None      None   \n",
              "6                 6.0                   None            None      None   \n",
              "7                   9                      t               w         x   \n",
              "\n",
              "  ground_floor_type other_floor_type  ... has_secondary_use_agriculture  \\\n",
              "0            260601           260601  ...                        260601   \n",
              "1              None             None  ...           0.06437811059819418   \n",
              "2              None             None  ...            0.2454257537590324   \n",
              "3                 f                j  ...                             0   \n",
              "4              None             None  ...                           0.0   \n",
              "5              None             None  ...                           0.0   \n",
              "6              None             None  ...                           0.0   \n",
              "7                 z                x  ...                             1   \n",
              "\n",
              "  has_secondary_use_hotel has_secondary_use_rental  \\\n",
              "0                  260601                   260601   \n",
              "1     0.03362611808857219     0.008100506137735466   \n",
              "2     0.18026515738052226      0.08963770841733834   \n",
              "3                       0                        0   \n",
              "4                     0.0                      0.0   \n",
              "5                     0.0                      0.0   \n",
              "6                     0.0                      0.0   \n",
              "7                       1                        1   \n",
              "\n",
              "  has_secondary_use_institution has_secondary_use_school  \\\n",
              "0                        260601                   260601   \n",
              "1          9.401345351706249E-4     3.607046788001581E-4   \n",
              "2          0.030647255772934655      0.01898883763075346   \n",
              "3                             0                        0   \n",
              "4                           0.0                      0.0   \n",
              "5                           0.0                      0.0   \n",
              "6                           0.0                      0.0   \n",
              "7                             1                        1   \n",
              "\n",
              "  has_secondary_use_industry has_secondary_use_health_post  \\\n",
              "0                     260601                        260601   \n",
              "1      0.0010706021849494053         1.8802690703412496E-4   \n",
              "2        0.03270260080991899          0.013711027470473104   \n",
              "3                          0                             0   \n",
              "4                        0.0                           0.0   \n",
              "5                        0.0                           0.0   \n",
              "6                        0.0                           0.0   \n",
              "7                          1                             1   \n",
              "\n",
              "  has_secondary_use_gov_office has_secondary_use_use_police  \\\n",
              "0                       260601                       260601   \n",
              "1        1.4581678504687243E-4         8.825752779152804E-5   \n",
              "2         0.012074604837137208         0.009394151214500959   \n",
              "3                            0                            0   \n",
              "4                          0.0                          0.0   \n",
              "5                          0.0                          0.0   \n",
              "6                          0.0                          0.0   \n",
              "7                            1                            1   \n",
              "\n",
              "  has_secondary_use_other  \n",
              "0                  260601  \n",
              "1    0.005118936611908626  \n",
              "2     0.07136352459211301  \n",
              "3                       0  \n",
              "4                     0.0  \n",
              "5                     0.0  \n",
              "6                     0.0  \n",
              "7                       1  \n",
              "\n",
              "[8 rows x 36 columns]"
            ],
            "text/html": [
              "\n",
              "  <div id=\"df-1187b7d3-e47a-4685-9e25-9f4a586bd258\">\n",
              "    <div class=\"colab-df-container\">\n",
              "      <div>\n",
              "<style scoped>\n",
              "    .dataframe tbody tr th:only-of-type {\n",
              "        vertical-align: middle;\n",
              "    }\n",
              "\n",
              "    .dataframe tbody tr th {\n",
              "        vertical-align: top;\n",
              "    }\n",
              "\n",
              "    .dataframe thead th {\n",
              "        text-align: right;\n",
              "    }\n",
              "</style>\n",
              "<table border=\"1\" class=\"dataframe\">\n",
              "  <thead>\n",
              "    <tr style=\"text-align: right;\">\n",
              "      <th></th>\n",
              "      <th>summary</th>\n",
              "      <th>count_floors_pre_eq</th>\n",
              "      <th>age</th>\n",
              "      <th>area_percentage</th>\n",
              "      <th>height_percentage</th>\n",
              "      <th>land_surface_condition</th>\n",
              "      <th>foundation_type</th>\n",
              "      <th>roof_type</th>\n",
              "      <th>ground_floor_type</th>\n",
              "      <th>other_floor_type</th>\n",
              "      <th>...</th>\n",
              "      <th>has_secondary_use_agriculture</th>\n",
              "      <th>has_secondary_use_hotel</th>\n",
              "      <th>has_secondary_use_rental</th>\n",
              "      <th>has_secondary_use_institution</th>\n",
              "      <th>has_secondary_use_school</th>\n",
              "      <th>has_secondary_use_industry</th>\n",
              "      <th>has_secondary_use_health_post</th>\n",
              "      <th>has_secondary_use_gov_office</th>\n",
              "      <th>has_secondary_use_use_police</th>\n",
              "      <th>has_secondary_use_other</th>\n",
              "    </tr>\n",
              "  </thead>\n",
              "  <tbody>\n",
              "    <tr>\n",
              "      <th>0</th>\n",
              "      <td>count</td>\n",
              "      <td>260601</td>\n",
              "      <td>260601</td>\n",
              "      <td>260601</td>\n",
              "      <td>260601</td>\n",
              "      <td>260601</td>\n",
              "      <td>260601</td>\n",
              "      <td>260601</td>\n",
              "      <td>260601</td>\n",
              "      <td>260601</td>\n",
              "      <td>...</td>\n",
              "      <td>260601</td>\n",
              "      <td>260601</td>\n",
              "      <td>260601</td>\n",
              "      <td>260601</td>\n",
              "      <td>260601</td>\n",
              "      <td>260601</td>\n",
              "      <td>260601</td>\n",
              "      <td>260601</td>\n",
              "      <td>260601</td>\n",
              "      <td>260601</td>\n",
              "    </tr>\n",
              "    <tr>\n",
              "      <th>1</th>\n",
              "      <td>mean</td>\n",
              "      <td>2.1297232167182782</td>\n",
              "      <td>26.535028645323695</td>\n",
              "      <td>8.018050583075276</td>\n",
              "      <td>5.43436517895173</td>\n",
              "      <td>None</td>\n",
              "      <td>None</td>\n",
              "      <td>None</td>\n",
              "      <td>None</td>\n",
              "      <td>None</td>\n",
              "      <td>...</td>\n",
              "      <td>0.06437811059819418</td>\n",
              "      <td>0.03362611808857219</td>\n",
              "      <td>0.008100506137735466</td>\n",
              "      <td>9.401345351706249E-4</td>\n",
              "      <td>3.607046788001581E-4</td>\n",
              "      <td>0.0010706021849494053</td>\n",
              "      <td>1.8802690703412496E-4</td>\n",
              "      <td>1.4581678504687243E-4</td>\n",
              "      <td>8.825752779152804E-5</td>\n",
              "      <td>0.005118936611908626</td>\n",
              "    </tr>\n",
              "    <tr>\n",
              "      <th>2</th>\n",
              "      <td>stddev</td>\n",
              "      <td>0.7276645452862871</td>\n",
              "      <td>73.5659365227268</td>\n",
              "      <td>4.392230935895025</td>\n",
              "      <td>1.9184182207480929</td>\n",
              "      <td>None</td>\n",
              "      <td>None</td>\n",
              "      <td>None</td>\n",
              "      <td>None</td>\n",
              "      <td>None</td>\n",
              "      <td>...</td>\n",
              "      <td>0.2454257537590324</td>\n",
              "      <td>0.18026515738052226</td>\n",
              "      <td>0.08963770841733834</td>\n",
              "      <td>0.030647255772934655</td>\n",
              "      <td>0.01898883763075346</td>\n",
              "      <td>0.03270260080991899</td>\n",
              "      <td>0.013711027470473104</td>\n",
              "      <td>0.012074604837137208</td>\n",
              "      <td>0.009394151214500959</td>\n",
              "      <td>0.07136352459211301</td>\n",
              "    </tr>\n",
              "    <tr>\n",
              "      <th>3</th>\n",
              "      <td>min</td>\n",
              "      <td>1</td>\n",
              "      <td>0</td>\n",
              "      <td>1</td>\n",
              "      <td>10</td>\n",
              "      <td>n</td>\n",
              "      <td>h</td>\n",
              "      <td>n</td>\n",
              "      <td>f</td>\n",
              "      <td>j</td>\n",
              "      <td>...</td>\n",
              "      <td>0</td>\n",
              "      <td>0</td>\n",
              "      <td>0</td>\n",
              "      <td>0</td>\n",
              "      <td>0</td>\n",
              "      <td>0</td>\n",
              "      <td>0</td>\n",
              "      <td>0</td>\n",
              "      <td>0</td>\n",
              "      <td>0</td>\n",
              "    </tr>\n",
              "    <tr>\n",
              "      <th>4</th>\n",
              "      <td>25%</td>\n",
              "      <td>2.0</td>\n",
              "      <td>10.0</td>\n",
              "      <td>5.0</td>\n",
              "      <td>4.0</td>\n",
              "      <td>None</td>\n",
              "      <td>None</td>\n",
              "      <td>None</td>\n",
              "      <td>None</td>\n",
              "      <td>None</td>\n",
              "      <td>...</td>\n",
              "      <td>0.0</td>\n",
              "      <td>0.0</td>\n",
              "      <td>0.0</td>\n",
              "      <td>0.0</td>\n",
              "      <td>0.0</td>\n",
              "      <td>0.0</td>\n",
              "      <td>0.0</td>\n",
              "      <td>0.0</td>\n",
              "      <td>0.0</td>\n",
              "      <td>0.0</td>\n",
              "    </tr>\n",
              "    <tr>\n",
              "      <th>5</th>\n",
              "      <td>50%</td>\n",
              "      <td>2.0</td>\n",
              "      <td>15.0</td>\n",
              "      <td>7.0</td>\n",
              "      <td>5.0</td>\n",
              "      <td>None</td>\n",
              "      <td>None</td>\n",
              "      <td>None</td>\n",
              "      <td>None</td>\n",
              "      <td>None</td>\n",
              "      <td>...</td>\n",
              "      <td>0.0</td>\n",
              "      <td>0.0</td>\n",
              "      <td>0.0</td>\n",
              "      <td>0.0</td>\n",
              "      <td>0.0</td>\n",
              "      <td>0.0</td>\n",
              "      <td>0.0</td>\n",
              "      <td>0.0</td>\n",
              "      <td>0.0</td>\n",
              "      <td>0.0</td>\n",
              "    </tr>\n",
              "    <tr>\n",
              "      <th>6</th>\n",
              "      <td>75%</td>\n",
              "      <td>2.0</td>\n",
              "      <td>30.0</td>\n",
              "      <td>9.0</td>\n",
              "      <td>6.0</td>\n",
              "      <td>None</td>\n",
              "      <td>None</td>\n",
              "      <td>None</td>\n",
              "      <td>None</td>\n",
              "      <td>None</td>\n",
              "      <td>...</td>\n",
              "      <td>0.0</td>\n",
              "      <td>0.0</td>\n",
              "      <td>0.0</td>\n",
              "      <td>0.0</td>\n",
              "      <td>0.0</td>\n",
              "      <td>0.0</td>\n",
              "      <td>0.0</td>\n",
              "      <td>0.0</td>\n",
              "      <td>0.0</td>\n",
              "      <td>0.0</td>\n",
              "    </tr>\n",
              "    <tr>\n",
              "      <th>7</th>\n",
              "      <td>max</td>\n",
              "      <td>9</td>\n",
              "      <td>995</td>\n",
              "      <td>96</td>\n",
              "      <td>9</td>\n",
              "      <td>t</td>\n",
              "      <td>w</td>\n",
              "      <td>x</td>\n",
              "      <td>z</td>\n",
              "      <td>x</td>\n",
              "      <td>...</td>\n",
              "      <td>1</td>\n",
              "      <td>1</td>\n",
              "      <td>1</td>\n",
              "      <td>1</td>\n",
              "      <td>1</td>\n",
              "      <td>1</td>\n",
              "      <td>1</td>\n",
              "      <td>1</td>\n",
              "      <td>1</td>\n",
              "      <td>1</td>\n",
              "    </tr>\n",
              "  </tbody>\n",
              "</table>\n",
              "<p>8 rows × 36 columns</p>\n",
              "</div>\n",
              "      <button class=\"colab-df-convert\" onclick=\"convertToInteractive('df-1187b7d3-e47a-4685-9e25-9f4a586bd258')\"\n",
              "              title=\"Convert this dataframe to an interactive table.\"\n",
              "              style=\"display:none;\">\n",
              "        \n",
              "  <svg xmlns=\"http://www.w3.org/2000/svg\" height=\"24px\"viewBox=\"0 0 24 24\"\n",
              "       width=\"24px\">\n",
              "    <path d=\"M0 0h24v24H0V0z\" fill=\"none\"/>\n",
              "    <path d=\"M18.56 5.44l.94 2.06.94-2.06 2.06-.94-2.06-.94-.94-2.06-.94 2.06-2.06.94zm-11 1L8.5 8.5l.94-2.06 2.06-.94-2.06-.94L8.5 2.5l-.94 2.06-2.06.94zm10 10l.94 2.06.94-2.06 2.06-.94-2.06-.94-.94-2.06-.94 2.06-2.06.94z\"/><path d=\"M17.41 7.96l-1.37-1.37c-.4-.4-.92-.59-1.43-.59-.52 0-1.04.2-1.43.59L10.3 9.45l-7.72 7.72c-.78.78-.78 2.05 0 2.83L4 21.41c.39.39.9.59 1.41.59.51 0 1.02-.2 1.41-.59l7.78-7.78 2.81-2.81c.8-.78.8-2.07 0-2.86zM5.41 20L4 18.59l7.72-7.72 1.47 1.35L5.41 20z\"/>\n",
              "  </svg>\n",
              "      </button>\n",
              "      \n",
              "  <style>\n",
              "    .colab-df-container {\n",
              "      display:flex;\n",
              "      flex-wrap:wrap;\n",
              "      gap: 12px;\n",
              "    }\n",
              "\n",
              "    .colab-df-convert {\n",
              "      background-color: #E8F0FE;\n",
              "      border: none;\n",
              "      border-radius: 50%;\n",
              "      cursor: pointer;\n",
              "      display: none;\n",
              "      fill: #1967D2;\n",
              "      height: 32px;\n",
              "      padding: 0 0 0 0;\n",
              "      width: 32px;\n",
              "    }\n",
              "\n",
              "    .colab-df-convert:hover {\n",
              "      background-color: #E2EBFA;\n",
              "      box-shadow: 0px 1px 2px rgba(60, 64, 67, 0.3), 0px 1px 3px 1px rgba(60, 64, 67, 0.15);\n",
              "      fill: #174EA6;\n",
              "    }\n",
              "\n",
              "    [theme=dark] .colab-df-convert {\n",
              "      background-color: #3B4455;\n",
              "      fill: #D2E3FC;\n",
              "    }\n",
              "\n",
              "    [theme=dark] .colab-df-convert:hover {\n",
              "      background-color: #434B5C;\n",
              "      box-shadow: 0px 1px 3px 1px rgba(0, 0, 0, 0.15);\n",
              "      filter: drop-shadow(0px 1px 2px rgba(0, 0, 0, 0.3));\n",
              "      fill: #FFFFFF;\n",
              "    }\n",
              "  </style>\n",
              "\n",
              "      <script>\n",
              "        const buttonEl =\n",
              "          document.querySelector('#df-1187b7d3-e47a-4685-9e25-9f4a586bd258 button.colab-df-convert');\n",
              "        buttonEl.style.display =\n",
              "          google.colab.kernel.accessAllowed ? 'block' : 'none';\n",
              "\n",
              "        async function convertToInteractive(key) {\n",
              "          const element = document.querySelector('#df-1187b7d3-e47a-4685-9e25-9f4a586bd258');\n",
              "          const dataTable =\n",
              "            await google.colab.kernel.invokeFunction('convertToInteractive',\n",
              "                                                     [key], {});\n",
              "          if (!dataTable) return;\n",
              "\n",
              "          const docLinkHtml = 'Like what you see? Visit the ' +\n",
              "            '<a target=\"_blank\" href=https://colab.research.google.com/notebooks/data_table.ipynb>data table notebook</a>'\n",
              "            + ' to learn more about interactive tables.';\n",
              "          element.innerHTML = '';\n",
              "          dataTable['output_type'] = 'display_data';\n",
              "          await google.colab.output.renderOutput(dataTable, element);\n",
              "          const docLink = document.createElement('div');\n",
              "          docLink.innerHTML = docLinkHtml;\n",
              "          element.appendChild(docLink);\n",
              "        }\n",
              "      </script>\n",
              "    </div>\n",
              "  </div>\n",
              "  "
            ]
          },
          "metadata": {},
          "execution_count": 12
        }
      ],
      "source": [
        "# Print summary statistics\n",
        "drop_cols = ['building_id', 'geo_level_1_id', 'geo_level_2_id', 'geo_level_3_id']\n",
        "\n",
        "spark_X_df.drop(*drop_cols).summary().toPandas()"
      ]
    },
    {
      "cell_type": "code",
      "execution_count": 13,
      "id": "a227b10f",
      "metadata": {
        "id": "a227b10f",
        "outputId": "4882ed86-e8a6-4f59-d3c8-0c9874d08de7",
        "colab": {
          "base_uri": "https://localhost:8080/",
          "height": 142
        }
      },
      "outputs": [
        {
          "output_type": "execute_result",
          "data": {
            "text/plain": [
              "  damage_grade   count   percent\n",
              "0            3   87218  0.334680\n",
              "1            1   25124  0.096408\n",
              "2            2  148259  0.568912"
            ],
            "text/html": [
              "\n",
              "  <div id=\"df-b56ffb7c-3700-4d20-ac2e-8e4621fb2407\">\n",
              "    <div class=\"colab-df-container\">\n",
              "      <div>\n",
              "<style scoped>\n",
              "    .dataframe tbody tr th:only-of-type {\n",
              "        vertical-align: middle;\n",
              "    }\n",
              "\n",
              "    .dataframe tbody tr th {\n",
              "        vertical-align: top;\n",
              "    }\n",
              "\n",
              "    .dataframe thead th {\n",
              "        text-align: right;\n",
              "    }\n",
              "</style>\n",
              "<table border=\"1\" class=\"dataframe\">\n",
              "  <thead>\n",
              "    <tr style=\"text-align: right;\">\n",
              "      <th></th>\n",
              "      <th>damage_grade</th>\n",
              "      <th>count</th>\n",
              "      <th>percent</th>\n",
              "    </tr>\n",
              "  </thead>\n",
              "  <tbody>\n",
              "    <tr>\n",
              "      <th>0</th>\n",
              "      <td>3</td>\n",
              "      <td>87218</td>\n",
              "      <td>0.334680</td>\n",
              "    </tr>\n",
              "    <tr>\n",
              "      <th>1</th>\n",
              "      <td>1</td>\n",
              "      <td>25124</td>\n",
              "      <td>0.096408</td>\n",
              "    </tr>\n",
              "    <tr>\n",
              "      <th>2</th>\n",
              "      <td>2</td>\n",
              "      <td>148259</td>\n",
              "      <td>0.568912</td>\n",
              "    </tr>\n",
              "  </tbody>\n",
              "</table>\n",
              "</div>\n",
              "      <button class=\"colab-df-convert\" onclick=\"convertToInteractive('df-b56ffb7c-3700-4d20-ac2e-8e4621fb2407')\"\n",
              "              title=\"Convert this dataframe to an interactive table.\"\n",
              "              style=\"display:none;\">\n",
              "        \n",
              "  <svg xmlns=\"http://www.w3.org/2000/svg\" height=\"24px\"viewBox=\"0 0 24 24\"\n",
              "       width=\"24px\">\n",
              "    <path d=\"M0 0h24v24H0V0z\" fill=\"none\"/>\n",
              "    <path d=\"M18.56 5.44l.94 2.06.94-2.06 2.06-.94-2.06-.94-.94-2.06-.94 2.06-2.06.94zm-11 1L8.5 8.5l.94-2.06 2.06-.94-2.06-.94L8.5 2.5l-.94 2.06-2.06.94zm10 10l.94 2.06.94-2.06 2.06-.94-2.06-.94-.94-2.06-.94 2.06-2.06.94z\"/><path d=\"M17.41 7.96l-1.37-1.37c-.4-.4-.92-.59-1.43-.59-.52 0-1.04.2-1.43.59L10.3 9.45l-7.72 7.72c-.78.78-.78 2.05 0 2.83L4 21.41c.39.39.9.59 1.41.59.51 0 1.02-.2 1.41-.59l7.78-7.78 2.81-2.81c.8-.78.8-2.07 0-2.86zM5.41 20L4 18.59l7.72-7.72 1.47 1.35L5.41 20z\"/>\n",
              "  </svg>\n",
              "      </button>\n",
              "      \n",
              "  <style>\n",
              "    .colab-df-container {\n",
              "      display:flex;\n",
              "      flex-wrap:wrap;\n",
              "      gap: 12px;\n",
              "    }\n",
              "\n",
              "    .colab-df-convert {\n",
              "      background-color: #E8F0FE;\n",
              "      border: none;\n",
              "      border-radius: 50%;\n",
              "      cursor: pointer;\n",
              "      display: none;\n",
              "      fill: #1967D2;\n",
              "      height: 32px;\n",
              "      padding: 0 0 0 0;\n",
              "      width: 32px;\n",
              "    }\n",
              "\n",
              "    .colab-df-convert:hover {\n",
              "      background-color: #E2EBFA;\n",
              "      box-shadow: 0px 1px 2px rgba(60, 64, 67, 0.3), 0px 1px 3px 1px rgba(60, 64, 67, 0.15);\n",
              "      fill: #174EA6;\n",
              "    }\n",
              "\n",
              "    [theme=dark] .colab-df-convert {\n",
              "      background-color: #3B4455;\n",
              "      fill: #D2E3FC;\n",
              "    }\n",
              "\n",
              "    [theme=dark] .colab-df-convert:hover {\n",
              "      background-color: #434B5C;\n",
              "      box-shadow: 0px 1px 3px 1px rgba(0, 0, 0, 0.15);\n",
              "      filter: drop-shadow(0px 1px 2px rgba(0, 0, 0, 0.3));\n",
              "      fill: #FFFFFF;\n",
              "    }\n",
              "  </style>\n",
              "\n",
              "      <script>\n",
              "        const buttonEl =\n",
              "          document.querySelector('#df-b56ffb7c-3700-4d20-ac2e-8e4621fb2407 button.colab-df-convert');\n",
              "        buttonEl.style.display =\n",
              "          google.colab.kernel.accessAllowed ? 'block' : 'none';\n",
              "\n",
              "        async function convertToInteractive(key) {\n",
              "          const element = document.querySelector('#df-b56ffb7c-3700-4d20-ac2e-8e4621fb2407');\n",
              "          const dataTable =\n",
              "            await google.colab.kernel.invokeFunction('convertToInteractive',\n",
              "                                                     [key], {});\n",
              "          if (!dataTable) return;\n",
              "\n",
              "          const docLinkHtml = 'Like what you see? Visit the ' +\n",
              "            '<a target=\"_blank\" href=https://colab.research.google.com/notebooks/data_table.ipynb>data table notebook</a>'\n",
              "            + ' to learn more about interactive tables.';\n",
              "          element.innerHTML = '';\n",
              "          dataTable['output_type'] = 'display_data';\n",
              "          await google.colab.output.renderOutput(dataTable, element);\n",
              "          const docLink = document.createElement('div');\n",
              "          docLink.innerHTML = docLinkHtml;\n",
              "          element.appendChild(docLink);\n",
              "        }\n",
              "      </script>\n",
              "    </div>\n",
              "  </div>\n",
              "  "
            ]
          },
          "metadata": {},
          "execution_count": 13
        }
      ],
      "source": [
        "# Show value_counts for 'damage_grade' column\n",
        "class_counts = spark_y_df.groupBy('damage_grade').count().withColumn('percent', F.col('count')/spark_y_df.count())\n",
        "\n",
        "class_counts.toPandas()"
      ]
    },
    {
      "cell_type": "markdown",
      "id": "af2f212f",
      "metadata": {
        "id": "af2f212f"
      },
      "source": [
        "<br>"
      ]
    },
    {
      "cell_type": "markdown",
      "id": "6e47b8fe",
      "metadata": {
        "id": "6e47b8fe"
      },
      "source": [
        "# Preprocessing"
      ]
    },
    {
      "cell_type": "markdown",
      "id": "12ffbe81",
      "metadata": {
        "id": "12ffbe81"
      },
      "source": [
        "Steps:\n",
        "1. Drop useless columns\n",
        "2. Unpack any joined data within columns\n",
        "3. Convert columns to correct datatypes\n",
        "4. Handle null/missing values (may need to convert some values to np.nan)\n",
        "5. Impute any missing values"
      ]
    },
    {
      "cell_type": "markdown",
      "id": "49ccc58c",
      "metadata": {
        "id": "49ccc58c"
      },
      "source": [
        "### Convert numerical integer columns to IntegerType"
      ]
    },
    {
      "cell_type": "code",
      "execution_count": 14,
      "id": "219c6a4b",
      "metadata": {
        "id": "219c6a4b"
      },
      "outputs": [],
      "source": [
        "spark_preprocessed_df = spark_X_df.alias('spark_preprocessed_df')"
      ]
    },
    {
      "cell_type": "code",
      "execution_count": 15,
      "id": "84cf71ad",
      "metadata": {
        "id": "84cf71ad"
      },
      "outputs": [],
      "source": [
        "# Convert first set of numerical columns to IntegerType\n",
        "cols = ['building_id', 'geo_level_1_id', 'geo_level_2_id', 'geo_level_3_id', 'count_floors_pre_eq', \n",
        "        'age', 'area_percentage', 'height_percentage']\n",
        "\n",
        "for col in cols:\n",
        "    spark_preprocessed_df = spark_preprocessed_df.withColumn(col, spark_preprocessed_df[col].cast(IntegerType()))\n",
        "    \n",
        "assert ['int'] * len(cols) == [dtype[1] for dtype in spark_preprocessed_df.select(*cols).dtypes]"
      ]
    },
    {
      "cell_type": "code",
      "execution_count": 16,
      "id": "9192979b",
      "metadata": {
        "id": "9192979b"
      },
      "outputs": [],
      "source": [
        "# Convert superstructure columns to IntegerType\n",
        "superstructure_cols = ['has_superstructure_adobe_mud', 'has_superstructure_mud_mortar_stone', \n",
        "                       'has_superstructure_stone_flag', 'has_superstructure_cement_mortar_stone', \n",
        "                       'has_superstructure_mud_mortar_brick', 'has_superstructure_cement_mortar_brick', \n",
        "                       'has_superstructure_timber', 'has_superstructure_bamboo', \n",
        "                       'has_superstructure_rc_non_engineered', 'has_superstructure_rc_engineered', \n",
        "                       'has_superstructure_other']\n",
        "\n",
        "for col in superstructure_cols:\n",
        "    spark_preprocessed_df = spark_preprocessed_df.withColumn(col, spark_preprocessed_df[col].cast(IntegerType()))\n",
        "    \n",
        "assert ['int'] * len(superstructure_cols) == \\\n",
        "[dtype[1] for dtype in spark_preprocessed_df.select(*superstructure_cols).dtypes]"
      ]
    },
    {
      "cell_type": "code",
      "execution_count": 17,
      "id": "a31d3a1c",
      "metadata": {
        "id": "a31d3a1c"
      },
      "outputs": [],
      "source": [
        "# Convert secondary_use columns to IntegerType\n",
        "secondary_use_cols = ['has_secondary_use', 'has_secondary_use_agriculture', 'has_secondary_use_hotel', \n",
        "                      'has_secondary_use_rental', 'has_secondary_use_institution', 'has_secondary_use_school', \n",
        "                      'has_secondary_use_industry', 'has_secondary_use_health_post', 'has_secondary_use_gov_office', \n",
        "                      'has_secondary_use_use_police', 'has_secondary_use_other']\n",
        "\n",
        "# Convert secondary_use columns above to IntegerType\n",
        "for col in secondary_use_cols:\n",
        "    spark_preprocessed_df = spark_preprocessed_df.withColumn(col, spark_preprocessed_df[col].cast(IntegerType()))\n",
        "    \n",
        "assert ['int'] * len(secondary_use_cols) == \\\n",
        "[dtype[1] for dtype in spark_preprocessed_df.select(*secondary_use_cols).dtypes]"
      ]
    },
    {
      "cell_type": "markdown",
      "id": "2af52f7a",
      "metadata": {
        "tags": [],
        "id": "2af52f7a"
      },
      "source": [
        "### Examine `count_families` column"
      ]
    },
    {
      "cell_type": "code",
      "execution_count": 18,
      "id": "89ea7067",
      "metadata": {
        "id": "89ea7067",
        "outputId": "c5fae66b-3d36-40b6-9084-af8099d0be90",
        "colab": {
          "base_uri": "https://localhost:8080/",
          "height": 359
        }
      },
      "outputs": [
        {
          "output_type": "execute_result",
          "data": {
            "text/plain": [
              "  count_families   count\n",
              "0              7       7\n",
              "1              3    1802\n",
              "2              8       2\n",
              "3              0   20862\n",
              "4              5     104\n",
              "5              6      22\n",
              "6              9       4\n",
              "7              1  226115\n",
              "8              4     389\n",
              "9              2   11294"
            ],
            "text/html": [
              "\n",
              "  <div id=\"df-3676fe52-4bdf-4880-9f5a-f41ecfa5962b\">\n",
              "    <div class=\"colab-df-container\">\n",
              "      <div>\n",
              "<style scoped>\n",
              "    .dataframe tbody tr th:only-of-type {\n",
              "        vertical-align: middle;\n",
              "    }\n",
              "\n",
              "    .dataframe tbody tr th {\n",
              "        vertical-align: top;\n",
              "    }\n",
              "\n",
              "    .dataframe thead th {\n",
              "        text-align: right;\n",
              "    }\n",
              "</style>\n",
              "<table border=\"1\" class=\"dataframe\">\n",
              "  <thead>\n",
              "    <tr style=\"text-align: right;\">\n",
              "      <th></th>\n",
              "      <th>count_families</th>\n",
              "      <th>count</th>\n",
              "    </tr>\n",
              "  </thead>\n",
              "  <tbody>\n",
              "    <tr>\n",
              "      <th>0</th>\n",
              "      <td>7</td>\n",
              "      <td>7</td>\n",
              "    </tr>\n",
              "    <tr>\n",
              "      <th>1</th>\n",
              "      <td>3</td>\n",
              "      <td>1802</td>\n",
              "    </tr>\n",
              "    <tr>\n",
              "      <th>2</th>\n",
              "      <td>8</td>\n",
              "      <td>2</td>\n",
              "    </tr>\n",
              "    <tr>\n",
              "      <th>3</th>\n",
              "      <td>0</td>\n",
              "      <td>20862</td>\n",
              "    </tr>\n",
              "    <tr>\n",
              "      <th>4</th>\n",
              "      <td>5</td>\n",
              "      <td>104</td>\n",
              "    </tr>\n",
              "    <tr>\n",
              "      <th>5</th>\n",
              "      <td>6</td>\n",
              "      <td>22</td>\n",
              "    </tr>\n",
              "    <tr>\n",
              "      <th>6</th>\n",
              "      <td>9</td>\n",
              "      <td>4</td>\n",
              "    </tr>\n",
              "    <tr>\n",
              "      <th>7</th>\n",
              "      <td>1</td>\n",
              "      <td>226115</td>\n",
              "    </tr>\n",
              "    <tr>\n",
              "      <th>8</th>\n",
              "      <td>4</td>\n",
              "      <td>389</td>\n",
              "    </tr>\n",
              "    <tr>\n",
              "      <th>9</th>\n",
              "      <td>2</td>\n",
              "      <td>11294</td>\n",
              "    </tr>\n",
              "  </tbody>\n",
              "</table>\n",
              "</div>\n",
              "      <button class=\"colab-df-convert\" onclick=\"convertToInteractive('df-3676fe52-4bdf-4880-9f5a-f41ecfa5962b')\"\n",
              "              title=\"Convert this dataframe to an interactive table.\"\n",
              "              style=\"display:none;\">\n",
              "        \n",
              "  <svg xmlns=\"http://www.w3.org/2000/svg\" height=\"24px\"viewBox=\"0 0 24 24\"\n",
              "       width=\"24px\">\n",
              "    <path d=\"M0 0h24v24H0V0z\" fill=\"none\"/>\n",
              "    <path d=\"M18.56 5.44l.94 2.06.94-2.06 2.06-.94-2.06-.94-.94-2.06-.94 2.06-2.06.94zm-11 1L8.5 8.5l.94-2.06 2.06-.94-2.06-.94L8.5 2.5l-.94 2.06-2.06.94zm10 10l.94 2.06.94-2.06 2.06-.94-2.06-.94-.94-2.06-.94 2.06-2.06.94z\"/><path d=\"M17.41 7.96l-1.37-1.37c-.4-.4-.92-.59-1.43-.59-.52 0-1.04.2-1.43.59L10.3 9.45l-7.72 7.72c-.78.78-.78 2.05 0 2.83L4 21.41c.39.39.9.59 1.41.59.51 0 1.02-.2 1.41-.59l7.78-7.78 2.81-2.81c.8-.78.8-2.07 0-2.86zM5.41 20L4 18.59l7.72-7.72 1.47 1.35L5.41 20z\"/>\n",
              "  </svg>\n",
              "      </button>\n",
              "      \n",
              "  <style>\n",
              "    .colab-df-container {\n",
              "      display:flex;\n",
              "      flex-wrap:wrap;\n",
              "      gap: 12px;\n",
              "    }\n",
              "\n",
              "    .colab-df-convert {\n",
              "      background-color: #E8F0FE;\n",
              "      border: none;\n",
              "      border-radius: 50%;\n",
              "      cursor: pointer;\n",
              "      display: none;\n",
              "      fill: #1967D2;\n",
              "      height: 32px;\n",
              "      padding: 0 0 0 0;\n",
              "      width: 32px;\n",
              "    }\n",
              "\n",
              "    .colab-df-convert:hover {\n",
              "      background-color: #E2EBFA;\n",
              "      box-shadow: 0px 1px 2px rgba(60, 64, 67, 0.3), 0px 1px 3px 1px rgba(60, 64, 67, 0.15);\n",
              "      fill: #174EA6;\n",
              "    }\n",
              "\n",
              "    [theme=dark] .colab-df-convert {\n",
              "      background-color: #3B4455;\n",
              "      fill: #D2E3FC;\n",
              "    }\n",
              "\n",
              "    [theme=dark] .colab-df-convert:hover {\n",
              "      background-color: #434B5C;\n",
              "      box-shadow: 0px 1px 3px 1px rgba(0, 0, 0, 0.15);\n",
              "      filter: drop-shadow(0px 1px 2px rgba(0, 0, 0, 0.3));\n",
              "      fill: #FFFFFF;\n",
              "    }\n",
              "  </style>\n",
              "\n",
              "      <script>\n",
              "        const buttonEl =\n",
              "          document.querySelector('#df-3676fe52-4bdf-4880-9f5a-f41ecfa5962b button.colab-df-convert');\n",
              "        buttonEl.style.display =\n",
              "          google.colab.kernel.accessAllowed ? 'block' : 'none';\n",
              "\n",
              "        async function convertToInteractive(key) {\n",
              "          const element = document.querySelector('#df-3676fe52-4bdf-4880-9f5a-f41ecfa5962b');\n",
              "          const dataTable =\n",
              "            await google.colab.kernel.invokeFunction('convertToInteractive',\n",
              "                                                     [key], {});\n",
              "          if (!dataTable) return;\n",
              "\n",
              "          const docLinkHtml = 'Like what you see? Visit the ' +\n",
              "            '<a target=\"_blank\" href=https://colab.research.google.com/notebooks/data_table.ipynb>data table notebook</a>'\n",
              "            + ' to learn more about interactive tables.';\n",
              "          element.innerHTML = '';\n",
              "          dataTable['output_type'] = 'display_data';\n",
              "          await google.colab.output.renderOutput(dataTable, element);\n",
              "          const docLink = document.createElement('div');\n",
              "          docLink.innerHTML = docLinkHtml;\n",
              "          element.appendChild(docLink);\n",
              "        }\n",
              "      </script>\n",
              "    </div>\n",
              "  </div>\n",
              "  "
            ]
          },
          "metadata": {},
          "execution_count": 18
        }
      ],
      "source": [
        "# Show value_counts for 'damage_grade' column\n",
        "class_counts = spark_preprocessed_df.groupBy('count_families').count()\n",
        "\n",
        "class_counts.toPandas()"
      ]
    },
    {
      "cell_type": "code",
      "execution_count": 19,
      "id": "ba1c4ad7",
      "metadata": {
        "id": "ba1c4ad7",
        "outputId": "f789bef6-4f29-4d20-9d27-c780543d2f1d",
        "colab": {
          "base_uri": "https://localhost:8080/",
          "height": 204
        }
      },
      "outputs": [
        {
          "output_type": "execute_result",
          "data": {
            "text/plain": [
              "   count_families   count\n",
              "0               1  226115\n",
              "1               3    1802\n",
              "2               4     528\n",
              "3               2   11294\n",
              "4               0   20862"
            ],
            "text/html": [
              "\n",
              "  <div id=\"df-8d990440-4223-4d2a-82b7-9530b7588caa\">\n",
              "    <div class=\"colab-df-container\">\n",
              "      <div>\n",
              "<style scoped>\n",
              "    .dataframe tbody tr th:only-of-type {\n",
              "        vertical-align: middle;\n",
              "    }\n",
              "\n",
              "    .dataframe tbody tr th {\n",
              "        vertical-align: top;\n",
              "    }\n",
              "\n",
              "    .dataframe thead th {\n",
              "        text-align: right;\n",
              "    }\n",
              "</style>\n",
              "<table border=\"1\" class=\"dataframe\">\n",
              "  <thead>\n",
              "    <tr style=\"text-align: right;\">\n",
              "      <th></th>\n",
              "      <th>count_families</th>\n",
              "      <th>count</th>\n",
              "    </tr>\n",
              "  </thead>\n",
              "  <tbody>\n",
              "    <tr>\n",
              "      <th>0</th>\n",
              "      <td>1</td>\n",
              "      <td>226115</td>\n",
              "    </tr>\n",
              "    <tr>\n",
              "      <th>1</th>\n",
              "      <td>3</td>\n",
              "      <td>1802</td>\n",
              "    </tr>\n",
              "    <tr>\n",
              "      <th>2</th>\n",
              "      <td>4</td>\n",
              "      <td>528</td>\n",
              "    </tr>\n",
              "    <tr>\n",
              "      <th>3</th>\n",
              "      <td>2</td>\n",
              "      <td>11294</td>\n",
              "    </tr>\n",
              "    <tr>\n",
              "      <th>4</th>\n",
              "      <td>0</td>\n",
              "      <td>20862</td>\n",
              "    </tr>\n",
              "  </tbody>\n",
              "</table>\n",
              "</div>\n",
              "      <button class=\"colab-df-convert\" onclick=\"convertToInteractive('df-8d990440-4223-4d2a-82b7-9530b7588caa')\"\n",
              "              title=\"Convert this dataframe to an interactive table.\"\n",
              "              style=\"display:none;\">\n",
              "        \n",
              "  <svg xmlns=\"http://www.w3.org/2000/svg\" height=\"24px\"viewBox=\"0 0 24 24\"\n",
              "       width=\"24px\">\n",
              "    <path d=\"M0 0h24v24H0V0z\" fill=\"none\"/>\n",
              "    <path d=\"M18.56 5.44l.94 2.06.94-2.06 2.06-.94-2.06-.94-.94-2.06-.94 2.06-2.06.94zm-11 1L8.5 8.5l.94-2.06 2.06-.94-2.06-.94L8.5 2.5l-.94 2.06-2.06.94zm10 10l.94 2.06.94-2.06 2.06-.94-2.06-.94-.94-2.06-.94 2.06-2.06.94z\"/><path d=\"M17.41 7.96l-1.37-1.37c-.4-.4-.92-.59-1.43-.59-.52 0-1.04.2-1.43.59L10.3 9.45l-7.72 7.72c-.78.78-.78 2.05 0 2.83L4 21.41c.39.39.9.59 1.41.59.51 0 1.02-.2 1.41-.59l7.78-7.78 2.81-2.81c.8-.78.8-2.07 0-2.86zM5.41 20L4 18.59l7.72-7.72 1.47 1.35L5.41 20z\"/>\n",
              "  </svg>\n",
              "      </button>\n",
              "      \n",
              "  <style>\n",
              "    .colab-df-container {\n",
              "      display:flex;\n",
              "      flex-wrap:wrap;\n",
              "      gap: 12px;\n",
              "    }\n",
              "\n",
              "    .colab-df-convert {\n",
              "      background-color: #E8F0FE;\n",
              "      border: none;\n",
              "      border-radius: 50%;\n",
              "      cursor: pointer;\n",
              "      display: none;\n",
              "      fill: #1967D2;\n",
              "      height: 32px;\n",
              "      padding: 0 0 0 0;\n",
              "      width: 32px;\n",
              "    }\n",
              "\n",
              "    .colab-df-convert:hover {\n",
              "      background-color: #E2EBFA;\n",
              "      box-shadow: 0px 1px 2px rgba(60, 64, 67, 0.3), 0px 1px 3px 1px rgba(60, 64, 67, 0.15);\n",
              "      fill: #174EA6;\n",
              "    }\n",
              "\n",
              "    [theme=dark] .colab-df-convert {\n",
              "      background-color: #3B4455;\n",
              "      fill: #D2E3FC;\n",
              "    }\n",
              "\n",
              "    [theme=dark] .colab-df-convert:hover {\n",
              "      background-color: #434B5C;\n",
              "      box-shadow: 0px 1px 3px 1px rgba(0, 0, 0, 0.15);\n",
              "      filter: drop-shadow(0px 1px 2px rgba(0, 0, 0, 0.3));\n",
              "      fill: #FFFFFF;\n",
              "    }\n",
              "  </style>\n",
              "\n",
              "      <script>\n",
              "        const buttonEl =\n",
              "          document.querySelector('#df-8d990440-4223-4d2a-82b7-9530b7588caa button.colab-df-convert');\n",
              "        buttonEl.style.display =\n",
              "          google.colab.kernel.accessAllowed ? 'block' : 'none';\n",
              "\n",
              "        async function convertToInteractive(key) {\n",
              "          const element = document.querySelector('#df-8d990440-4223-4d2a-82b7-9530b7588caa');\n",
              "          const dataTable =\n",
              "            await google.colab.kernel.invokeFunction('convertToInteractive',\n",
              "                                                     [key], {});\n",
              "          if (!dataTable) return;\n",
              "\n",
              "          const docLinkHtml = 'Like what you see? Visit the ' +\n",
              "            '<a target=\"_blank\" href=https://colab.research.google.com/notebooks/data_table.ipynb>data table notebook</a>'\n",
              "            + ' to learn more about interactive tables.';\n",
              "          element.innerHTML = '';\n",
              "          dataTable['output_type'] = 'display_data';\n",
              "          await google.colab.output.renderOutput(dataTable, element);\n",
              "          const docLink = document.createElement('div');\n",
              "          docLink.innerHTML = docLinkHtml;\n",
              "          element.appendChild(docLink);\n",
              "        }\n",
              "      </script>\n",
              "    </div>\n",
              "  </div>\n",
              "  "
            ]
          },
          "metadata": {},
          "execution_count": 19
        }
      ],
      "source": [
        "# It looks like some values are very rare. Let's combine any values above 4 into 4\n",
        "spark_preprocessed_df = spark_preprocessed_df.withColumn('count_families', \\\n",
        "                        spark_preprocessed_df['count_families'].cast(IntegerType()))\n",
        "\n",
        "spark_preprocessed_df = spark_preprocessed_df.replace(to_replace=[5, 6, 7, 8, 9], value=4, subset=['count_families'])\n",
        "\n",
        "class_counts = spark_preprocessed_df.groupBy('count_families').count()\n",
        "\n",
        "class_counts.toPandas()"
      ]
    },
    {
      "cell_type": "markdown",
      "id": "8a1fa9c5",
      "metadata": {
        "id": "8a1fa9c5"
      },
      "source": [
        "### Drop superfluous / useless columns"
      ]
    },
    {
      "cell_type": "code",
      "execution_count": 20,
      "id": "1ce10791",
      "metadata": {
        "id": "1ce10791"
      },
      "outputs": [],
      "source": [
        "# Drop 'has_secondary_use' column - redundant\n",
        "spark_preprocessed_df = spark_preprocessed_df.drop('has_secondary_use')\n",
        "\n",
        "# Drop 'geo_level_2_id' column - redundant; would increase dimensionality too much\n",
        "spark_preprocessed_df = spark_preprocessed_df.drop('geo_level_2_id')\n",
        "\n",
        "# Drop 'geo_level_3_id' column - redundant; would increase dimensionality too much\n",
        "spark_preprocessed_df = spark_preprocessed_df.drop('geo_level_3_id')"
      ]
    },
    {
      "cell_type": "markdown",
      "id": "0c316308",
      "metadata": {
        "id": "0c316308"
      },
      "source": [
        "### Show distinct categories for categorical features"
      ]
    },
    {
      "cell_type": "code",
      "execution_count": 21,
      "id": "6e773887",
      "metadata": {
        "id": "6e773887",
        "outputId": "30a1d1e5-838c-4f7d-cbdb-edd8f40b7691",
        "colab": {
          "base_uri": "https://localhost:8080/"
        }
      },
      "outputs": [
        {
          "output_type": "stream",
          "name": "stdout",
          "text": [
            "+----------------------+\n",
            "|land_surface_condition|\n",
            "+----------------------+\n",
            "|                     n|\n",
            "|                     o|\n",
            "|                     t|\n",
            "+----------------------+\n",
            "\n",
            "+---------------+\n",
            "|foundation_type|\n",
            "+---------------+\n",
            "|              h|\n",
            "|              w|\n",
            "|              u|\n",
            "|              i|\n",
            "|              r|\n",
            "+---------------+\n",
            "\n",
            "+---------+\n",
            "|roof_type|\n",
            "+---------+\n",
            "|        x|\n",
            "|        n|\n",
            "|        q|\n",
            "+---------+\n",
            "\n",
            "+-----------------+\n",
            "|ground_floor_type|\n",
            "+-----------------+\n",
            "|                x|\n",
            "|                m|\n",
            "|                f|\n",
            "|                v|\n",
            "|                z|\n",
            "+-----------------+\n",
            "\n",
            "+----------------+\n",
            "|other_floor_type|\n",
            "+----------------+\n",
            "|               x|\n",
            "|               q|\n",
            "|               j|\n",
            "|               s|\n",
            "+----------------+\n",
            "\n",
            "+--------+\n",
            "|position|\n",
            "+--------+\n",
            "|       o|\n",
            "|       j|\n",
            "|       t|\n",
            "|       s|\n",
            "+--------+\n",
            "\n",
            "+------------------+\n",
            "|plan_configuration|\n",
            "+------------------+\n",
            "|                 m|\n",
            "|                 f|\n",
            "|                 n|\n",
            "|                 o|\n",
            "|                 d|\n",
            "|                 c|\n",
            "|                 u|\n",
            "|                 q|\n",
            "|                 a|\n",
            "|                 s|\n",
            "+------------------+\n",
            "\n",
            "+----------------------+\n",
            "|legal_ownership_status|\n",
            "+----------------------+\n",
            "|                     v|\n",
            "|                     w|\n",
            "|                     a|\n",
            "|                     r|\n",
            "+----------------------+\n",
            "\n"
          ]
        }
      ],
      "source": [
        "for column, dtype in spark_preprocessed_df.dtypes:\n",
        "    if dtype == 'string':\n",
        "        spark_preprocessed_df.select(column).distinct().show()"
      ]
    },
    {
      "cell_type": "code",
      "execution_count": 24,
      "id": "435071c4",
      "metadata": {
        "id": "435071c4",
        "outputId": "7f23f0e0-e1c9-413e-d2c5-8102756c5b2c",
        "colab": {
          "base_uri": "https://localhost:8080/",
          "height": 442
        }
      },
      "outputs": [
        {
          "output_type": "display_data",
          "data": {
            "text/plain": [
              "<Figure size 720x504 with 1 Axes>"
            ],
            "image/png": "[encoded data removed]"
          },
          "metadata": {
            "image/png": {
              "width": 627,
              "height": 425
            },
            "needs_background": "light"
          }
        }
      ],
      "source": [
        "# Plot count_families\n",
        "count_families_binned_cats = spark_preprocessed_df.groupby('count_families').count()\n",
        "count_families_binned_cats_df = count_families_binned_cats.toPandas()\n",
        "\n",
        "fig, ax = plt.subplots(figsize=(10, 7))\n",
        "\n",
        "sns.barplot(x=count_families_binned_cats_df['count_families'], \n",
        "            y=count_families_binned_cats_df['count'], \n",
        "            color='maroon');"
      ]
    },
    {
      "cell_type": "code",
      "execution_count": 25,
      "id": "4ccafedf",
      "metadata": {
        "id": "4ccafedf",
        "outputId": "d6b6dafb-9441-4fae-b3bb-f1c6e6693d08",
        "colab": {
          "base_uri": "https://localhost:8080/",
          "height": 442
        }
      },
      "outputs": [
        {
          "output_type": "display_data",
          "data": {
            "text/plain": [
              "<Figure size 720x504 with 1 Axes>"
            ],
            "image/png": "[encoded data removed]"
          },
          "metadata": {
            "image/png": {
              "width": 627,
              "height": 425
            },
            "needs_background": "light"
          }
        }
      ],
      "source": [
        "# Group and aggregate target data\n",
        "damage_grade_counts = spark_y_df.groupBy('damage_grade').count().toPandas()\n",
        "# Sort by damage grade\n",
        "damage_grade_counts = damage_grade_counts.sort_values(by='damage_grade')\n",
        "\n",
        "# Plot target data\n",
        "# default_counts['default'].replace({0: 'non-defaults', 1: 'defaults'}, inplace=True)\n",
        "\n",
        "fig, ax = plt.subplots(figsize=(10, 7))\n",
        "palette = {'1': 'yellow', '2': 'darkorange', '3': 'red'}\n",
        "sns.barplot(x='damage_grade', y='count', ax=ax, data=damage_grade_counts, palette=palette)\n",
        "# ax.set_xticklabels(['non-defaults', 'defaults'])\n",
        "ax.set_xlabel('Target');"
      ]
    },
    {
      "cell_type": "code",
      "execution_count": 26,
      "id": "0f74462f",
      "metadata": {
        "id": "0f74462f",
        "outputId": "de4603bd-059e-46e5-aae8-e8e996488989",
        "colab": {
          "base_uri": "https://localhost:8080/"
        }
      },
      "outputs": [
        {
          "output_type": "stream",
          "name": "stdout",
          "text": [
            "root\n",
            " |-- building_id: string (nullable = true)\n",
            " |-- damage_grade: string (nullable = true)\n",
            "\n"
          ]
        }
      ],
      "source": [
        "# Print target dataframe schema\n",
        "spark_y_df.printSchema()"
      ]
    },
    {
      "cell_type": "code",
      "execution_count": 27,
      "id": "05abbc23",
      "metadata": {
        "id": "05abbc23"
      },
      "outputs": [],
      "source": [
        "# Convert target datatypes to IntegerType\n",
        "spark_y_df = spark_y_df.withColumn('building_id', spark_y_df['building_id'].cast(IntegerType()))\n",
        "spark_y_df = spark_y_df.withColumn('damage_grade', spark_y_df['damage_grade'].cast(IntegerType()))"
      ]
    },
    {
      "cell_type": "markdown",
      "id": "63c99c36",
      "metadata": {
        "id": "63c99c36"
      },
      "source": [
        "<br>"
      ]
    },
    {
      "cell_type": "markdown",
      "id": "57554212",
      "metadata": {
        "id": "57554212"
      },
      "source": [
        "# Create Pipeline to Preprocess and Model Data"
      ]
    },
    {
      "cell_type": "markdown",
      "id": "a98fa12e",
      "metadata": {
        "id": "a98fa12e"
      },
      "source": [
        "### Join features and target dataframes"
      ]
    },
    {
      "cell_type": "code",
      "execution_count": 28,
      "id": "abc28d12",
      "metadata": {
        "id": "abc28d12",
        "outputId": "f215bd3d-bfd4-4d84-dd92-e193e80f01a2",
        "colab": {
          "base_uri": "https://localhost:8080/"
        }
      },
      "outputs": [
        {
          "output_type": "execute_result",
          "data": {
            "text/plain": [
              "260601"
            ]
          },
          "metadata": {},
          "execution_count": 28
        }
      ],
      "source": [
        "# Join on 'building_id' values\n",
        "if not 'damage_grade' in spark_preprocessed_df.columns:\n",
        "    spark_preprocessed_df = spark_preprocessed_df.join(spark_y_df, on='building_id', how='inner')\n",
        "\n",
        "assert spark_X_df.count() == spark_preprocessed_df.count()\n",
        "spark_preprocessed_df.count()"
      ]
    },
    {
      "cell_type": "code",
      "execution_count": 29,
      "id": "6812b5d4",
      "metadata": {
        "id": "6812b5d4"
      },
      "outputs": [],
      "source": [
        "spark_preprocessed_df = spark_preprocessed_df.drop('building_id')"
      ]
    },
    {
      "cell_type": "markdown",
      "id": "d03e7b46",
      "metadata": {
        "id": "d03e7b46"
      },
      "source": [
        "### Index string columns with StringIndexer"
      ]
    },
    {
      "cell_type": "code",
      "execution_count": 30,
      "id": "0cb3f32e",
      "metadata": {
        "id": "0cb3f32e",
        "outputId": "fa1e1b4d-6ae7-448f-acc9-66bbac6b1018",
        "colab": {
          "base_uri": "https://localhost:8080/"
        }
      },
      "outputs": [
        {
          "output_type": "stream",
          "name": "stdout",
          "text": [
            "Indexed string features: \n",
            "['land_surface_condition_index', 'foundation_type_index', 'roof_type_index', 'ground_floor_type_index', 'other_floor_type_index', 'position_index', 'plan_configuration_index', 'legal_ownership_status_index']\n"
          ]
        }
      ],
      "source": [
        "stages = []\n",
        "\n",
        "categoricalCols = [item[0] for item in spark_preprocessed_df.dtypes if item[1].startswith('string')]\n",
        "\n",
        "indexers = []\n",
        "\n",
        "for col in categoricalCols:\n",
        "    indexer = StringIndexer(inputCol=col, outputCol=col + '_index', handleInvalid='keep')\n",
        "    indexers.append(indexer)\n",
        "    \n",
        "indexed_features = []\n",
        "for si in indexers:\n",
        "    indexed_features.append(si.getOutputCol())\n",
        "    \n",
        "print(f\"Indexed string features: \\n{indexed_features}\")"
      ]
    },
    {
      "cell_type": "markdown",
      "id": "eb97ffe7",
      "metadata": {
        "id": "eb97ffe7"
      },
      "source": [
        "### Create a OneHotEncoder to encode the indexed string features"
      ]
    },
    {
      "cell_type": "code",
      "execution_count": 31,
      "id": "3fd0cead",
      "metadata": {
        "id": "3fd0cead",
        "outputId": "0d727c96-26a7-4cea-e7d0-3b2049d0cb39",
        "colab": {
          "base_uri": "https://localhost:8080/"
        }
      },
      "outputs": [
        {
          "output_type": "stream",
          "name": "stdout",
          "text": [
            "One hot encoded string features: 8\n",
            "['land_surface_condition_index_ohe', 'foundation_type_index_ohe', 'roof_type_index_ohe', 'ground_floor_type_index_ohe', 'other_floor_type_index_ohe', 'position_index_ohe', 'plan_configuration_index_ohe', 'legal_ownership_status_index_ohe']\n"
          ]
        }
      ],
      "source": [
        "encoder = OneHotEncoder(inputCols=indexed_features, \n",
        "                        outputCols=[col + '_ohe' for col in indexed_features], \n",
        "                        dropLast=True)\n",
        "\n",
        "print(f\"One hot encoded string features: {len(encoder.getOutputCols())}\\n{encoder.getOutputCols()}\")"
      ]
    },
    {
      "cell_type": "markdown",
      "id": "f6f6a6cf",
      "metadata": {
        "id": "f6f6a6cf"
      },
      "source": [
        "### Compile numeric features, not including target column"
      ]
    },
    {
      "cell_type": "code",
      "execution_count": 32,
      "id": "facd23d6",
      "metadata": {
        "id": "facd23d6",
        "outputId": "8524326d-40f0-46fb-ff3f-fc81468038fd",
        "colab": {
          "base_uri": "https://localhost:8080/"
        }
      },
      "outputs": [
        {
          "output_type": "stream",
          "name": "stdout",
          "text": [
            "Numeric features: 27\n",
            "['geo_level_1_id', 'count_floors_pre_eq', 'age', 'area_percentage', 'height_percentage', 'has_superstructure_adobe_mud', 'has_superstructure_mud_mortar_stone', 'has_superstructure_stone_flag', 'has_superstructure_cement_mortar_stone', 'has_superstructure_mud_mortar_brick', 'has_superstructure_cement_mortar_brick', 'has_superstructure_timber', 'has_superstructure_bamboo', 'has_superstructure_rc_non_engineered', 'has_superstructure_rc_engineered', 'has_superstructure_other', 'count_families', 'has_secondary_use_agriculture', 'has_secondary_use_hotel', 'has_secondary_use_rental', 'has_secondary_use_institution', 'has_secondary_use_school', 'has_secondary_use_industry', 'has_secondary_use_health_post', 'has_secondary_use_gov_office', 'has_secondary_use_use_police', 'has_secondary_use_other']\n"
          ]
        }
      ],
      "source": [
        "numeric_features = []\n",
        "for column, dtype in spark_preprocessed_df.dtypes:\n",
        "    if dtype != 'string' and column != 'damage_grade':\n",
        "        numeric_features.append(column)\n",
        "\n",
        "# Confirm equal column counts\n",
        "assert len(spark_preprocessed_df.drop('damage_grade').columns) == (len(indexed_features) + len(numeric_features))\n",
        "print(f\"Numeric features: {len(numeric_features)}\\n{numeric_features}\")"
      ]
    },
    {
      "cell_type": "code",
      "execution_count": 33,
      "id": "a4556602",
      "metadata": {
        "id": "a4556602",
        "outputId": "b2ac627d-cd56-4c7d-fd6a-e051c8a5b500",
        "colab": {
          "base_uri": "https://localhost:8080/"
        }
      },
      "outputs": [
        {
          "output_type": "stream",
          "name": "stdout",
          "text": [
            "Final features: 35\n",
            "['land_surface_condition_index_ohe', 'foundation_type_index_ohe', 'roof_type_index_ohe', 'ground_floor_type_index_ohe', 'other_floor_type_index_ohe', 'position_index_ohe', 'plan_configuration_index_ohe', 'legal_ownership_status_index_ohe', 'geo_level_1_id', 'count_floors_pre_eq', 'age', 'area_percentage', 'height_percentage', 'has_superstructure_adobe_mud', 'has_superstructure_mud_mortar_stone', 'has_superstructure_stone_flag', 'has_superstructure_cement_mortar_stone', 'has_superstructure_mud_mortar_brick', 'has_superstructure_cement_mortar_brick', 'has_superstructure_timber', 'has_superstructure_bamboo', 'has_superstructure_rc_non_engineered', 'has_superstructure_rc_engineered', 'has_superstructure_other', 'count_families', 'has_secondary_use_agriculture', 'has_secondary_use_hotel', 'has_secondary_use_rental', 'has_secondary_use_institution', 'has_secondary_use_school', 'has_secondary_use_industry', 'has_secondary_use_health_post', 'has_secondary_use_gov_office', 'has_secondary_use_use_police', 'has_secondary_use_other']\n"
          ]
        }
      ],
      "source": [
        "# Print names of final features going into the model\n",
        "features = encoder.getOutputCols() + numeric_features\n",
        "print(f\"Final features: {len(features)}\\n{features}\")"
      ]
    },
    {
      "cell_type": "markdown",
      "id": "904569a8",
      "metadata": {
        "id": "904569a8"
      },
      "source": [
        "### Create a VectorAssembler to combine all features"
      ]
    },
    {
      "cell_type": "code",
      "execution_count": 34,
      "id": "07e90a1b",
      "metadata": {
        "id": "07e90a1b",
        "outputId": "6f3e2af4-9f4d-423a-d542-f21463d24454",
        "colab": {
          "base_uri": "https://localhost:8080/"
        }
      },
      "outputs": [
        {
          "output_type": "stream",
          "name": "stdout",
          "text": [
            "Stages: [StringIndexer_e1f67103eeb8, StringIndexer_1b5add87ab21, StringIndexer_40a497079f44, StringIndexer_009f566ed422, StringIndexer_49e3d277efcb, StringIndexer_1eab9094903a, StringIndexer_0613248cb74f, StringIndexer_d808222fd004, OneHotEncoder_37877c7d396d, VectorAssembler_b3aca74ca995, StandardScaler_94b29dad3671]\n"
          ]
        }
      ],
      "source": [
        "assembler = VectorAssembler(inputCols=features, outputCol='vectorized_features')\n",
        "\n",
        "# Assemble a list of stages that includes all indexers, the one hot encoder, the vector assembler, and the \n",
        "# standard scaler\n",
        "scaler = StandardScaler(inputCol='vectorized_features', outputCol='features')\n",
        "\n",
        "stages = indexers + [encoder, assembler, scaler]\n",
        "print(\"Stages:\", stages)"
      ]
    },
    {
      "cell_type": "markdown",
      "id": "acaaa0c7",
      "metadata": {
        "id": "acaaa0c7"
      },
      "source": [
        "### Create pipeline"
      ]
    },
    {
      "cell_type": "code",
      "execution_count": 35,
      "id": "551b89eb",
      "metadata": {
        "id": "551b89eb",
        "outputId": "bc70c886-bfac-4305-93a3-1754c39d3dec",
        "colab": {
          "base_uri": "https://localhost:8080/"
        }
      },
      "outputs": [
        {
          "output_type": "execute_result",
          "data": {
            "text/plain": [
              "65"
            ]
          },
          "metadata": {},
          "execution_count": 35
        }
      ],
      "source": [
        "pipeline = Pipeline(stages=stages)\n",
        "\n",
        "pipeline_model = pipeline.fit(spark_preprocessed_df)\n",
        "\n",
        "pipeline_df = pipeline_model.transform(spark_preprocessed_df)\n",
        "\n",
        "pipeline.fit(spark_preprocessed_df).transform(spark_preprocessed_df).head()['features'].size"
      ]
    },
    {
      "cell_type": "code",
      "execution_count": 36,
      "id": "21f941c4",
      "metadata": {
        "id": "21f941c4",
        "outputId": "0690ba85-ea6d-49be-dcec-62e342e80ec9",
        "colab": {
          "base_uri": "https://localhost:8080/"
        }
      },
      "outputs": [
        {
          "output_type": "stream",
          "name": "stdout",
          "text": [
            "-RECORD 0------------------------------------------------------\n",
            " geo_level_1_id                         | 6                    \n",
            " count_floors_pre_eq                    | 2                    \n",
            " age                                    | 30                   \n",
            " area_percentage                        | 6                    \n",
            " height_percentage                      | 5                    \n",
            " land_surface_condition                 | t                    \n",
            " foundation_type                        | r                    \n",
            " roof_type                              | n                    \n",
            " ground_floor_type                      | f                    \n",
            " other_floor_type                       | q                    \n",
            " position                               | t                    \n",
            " plan_configuration                     | d                    \n",
            " has_superstructure_adobe_mud           | 1                    \n",
            " has_superstructure_mud_mortar_stone    | 1                    \n",
            " has_superstructure_stone_flag          | 0                    \n",
            " has_superstructure_cement_mortar_stone | 0                    \n",
            " has_superstructure_mud_mortar_brick    | 0                    \n",
            " has_superstructure_cement_mortar_brick | 0                    \n",
            " has_superstructure_timber              | 0                    \n",
            " has_superstructure_bamboo              | 0                    \n",
            " has_superstructure_rc_non_engineered   | 0                    \n",
            " has_superstructure_rc_engineered       | 0                    \n",
            " has_superstructure_other               | 0                    \n",
            " legal_ownership_status                 | v                    \n",
            " count_families                         | 1                    \n",
            " has_secondary_use_agriculture          | 0                    \n",
            " has_secondary_use_hotel                | 0                    \n",
            " has_secondary_use_rental               | 0                    \n",
            " has_secondary_use_institution          | 0                    \n",
            " has_secondary_use_school               | 0                    \n",
            " has_secondary_use_industry             | 0                    \n",
            " has_secondary_use_health_post          | 0                    \n",
            " has_secondary_use_gov_office           | 0                    \n",
            " has_secondary_use_use_police           | 0                    \n",
            " has_secondary_use_other                | 0                    \n",
            " damage_grade                           | 3                    \n",
            " land_surface_condition_index           | 0.0                  \n",
            " foundation_type_index                  | 0.0                  \n",
            " roof_type_index                        | 0.0                  \n",
            " ground_floor_type_index                | 0.0                  \n",
            " other_floor_type_index                 | 0.0                  \n",
            " position_index                         | 1.0                  \n",
            " plan_configuration_index               | 0.0                  \n",
            " legal_ownership_status_index           | 0.0                  \n",
            " position_index_ohe                     | (4,[1],[1.0])        \n",
            " roof_type_index_ohe                    | (3,[0],[1.0])        \n",
            " land_surface_condition_index_ohe       | (3,[0],[1.0])        \n",
            " foundation_type_index_ohe              | (5,[0],[1.0])        \n",
            " other_floor_type_index_ohe             | (4,[0],[1.0])        \n",
            " ground_floor_type_index_ohe            | (5,[0],[1.0])        \n",
            " legal_ownership_status_index_ohe       | (4,[0],[1.0])        \n",
            " plan_configuration_index_ohe           | (10,[0],[1.0])       \n",
            " vectorized_features                    | (65,[0,3,8,11,16,... \n",
            " features                               | (65,[0,3,8,11,16,... \n",
            "only showing top 1 row\n",
            "\n"
          ]
        }
      ],
      "source": [
        "pipeline_df.show(1, vertical=True)"
      ]
    },
    {
      "cell_type": "markdown",
      "id": "c24ae31d",
      "metadata": {
        "id": "c24ae31d"
      },
      "source": [
        "### Train/test split"
      ]
    },
    {
      "cell_type": "code",
      "execution_count": 37,
      "id": "e969c3e9",
      "metadata": {
        "id": "e969c3e9"
      },
      "outputs": [],
      "source": [
        "train, test = spark_preprocessed_df.randomSplit(weights=[0.75, 0.25], seed=42)"
      ]
    },
    {
      "cell_type": "markdown",
      "id": "fffef245",
      "metadata": {
        "id": "fffef245"
      },
      "source": [
        "### Create model evaluator"
      ]
    },
    {
      "cell_type": "code",
      "execution_count": null,
      "id": "973bead7",
      "metadata": {
        "id": "973bead7"
      },
      "outputs": [],
      "source": [
        "# evaluator = MulticlassClassificationEvaluator(\n",
        "#     predictionCol='prediction',\n",
        "#     labelCol='damage_grade',\n",
        "#     metricName='accuracy'\n",
        "# )"
      ]
    },
    {
      "cell_type": "code",
      "execution_count": 38,
      "id": "755b4319-9f61-4ed1-ae42-5b3e76fa62d9",
      "metadata": {
        "id": "755b4319-9f61-4ed1-ae42-5b3e76fa62d9",
        "outputId": "14b04260-f789-48e6-98ca-d9fbdf5a7d19",
        "colab": {
          "base_uri": "https://localhost:8080/"
        }
      },
      "outputs": [
        {
          "output_type": "stream",
          "name": "stdout",
          "text": [
            "{'parent': 'undefined', 'name': 'metricName', 'doc': 'metric name in evaluation (f1|accuracy|weightedPrecision|weightedRecall|weightedTruePositiveRate| weightedFalsePositiveRate|weightedFMeasure|truePositiveRateByLabel| falsePositiveRateByLabel|precisionByLabel|recallByLabel|fMeasureByLabel| logLoss|hammingLoss)', 'typeConverter': <function TypeConverters.toString at 0x7fcb9281d050>}\n"
          ]
        }
      ],
      "source": [
        "print(vars(MulticlassClassificationEvaluator.metricName))"
      ]
    },
    {
      "cell_type": "markdown",
      "id": "67a5bc91",
      "metadata": {
        "id": "67a5bc91"
      },
      "source": [
        "<br>"
      ]
    },
    {
      "cell_type": "markdown",
      "id": "93a60f1c",
      "metadata": {
        "id": "93a60f1c"
      },
      "source": [
        "# Create Helper Functions"
      ]
    },
    {
      "cell_type": "code",
      "execution_count": 39,
      "id": "3039a771",
      "metadata": {
        "id": "3039a771"
      },
      "outputs": [],
      "source": [
        "def score_model(classifier, df=spark_preprocessed_df, preprocessing_stages=stages):\n",
        "    # Fit the model and classifier\n",
        "    stages_with_classifier = preprocessing_stages + [classifier]\n",
        "    pipe = Pipeline(stages=stages_with_classifier)\n",
        "    model = pipe.fit(df)\n",
        "    \n",
        "    evaluator = MulticlassClassificationEvaluator(predictionCol='prediction', labelCol='damage_grade')\n",
        "    \n",
        "    # Display train and test data scores\n",
        "    result_train = model.transform(train)\n",
        "    result_test = model.transform(test)\n",
        "    \n",
        "    train_acc = evaluator.evaluate(result_train, {evaluator.metricName: 'accuracy'})\n",
        "    test_acc = evaluator.evaluate(result_test, {evaluator.metricName: 'accuracy'})\n",
        "    \n",
        "    test_precision_1 = evaluator.evaluate(result_test, {evaluator.metricName: 'precisionByLabel', evaluator.metricLabel: 1.0})\n",
        "    test_precision_2 = evaluator.evaluate(result_test, {evaluator.metricName: 'precisionByLabel', evaluator.metricLabel: 2.0})\n",
        "    test_recall_1 = evaluator.evaluate(result_test, {evaluator.metricName: 'recallByLabel', evaluator.metricLabel: 1.0})\n",
        "    test_recall_2 = evaluator.evaluate(result_test, {evaluator.metricName: 'recallByLabel', evaluator.metricLabel: 2.0})\n",
        "    \n",
        "    print(classifier, '\\n')\n",
        "    print(f\"Training set accuracy: {round(train_acc, 3)}\")\n",
        "    print(f\"Test set accuracy: {round(test_acc, 3)}\")\n",
        "    print('-'*40)\n",
        "    print(\"Test set precision\")\n",
        "    print(f\"Label 1.0: {round(test_precision_1, 3)}    Label 2.0: {round(test_precision_2, 3)}\")\n",
        "    print('-'*40)\n",
        "    print(\"Test set recall\")\n",
        "    print(f\"Label 1.0: {round(test_recall_1, 3)}    Label 2.0: {round(test_recall_2, 3)}\")"
      ]
    },
    {
      "cell_type": "code",
      "execution_count": 40,
      "id": "52303220",
      "metadata": {
        "id": "52303220"
      },
      "outputs": [],
      "source": [
        "lr_1 = LogisticRegression(\n",
        "    featuresCol='features',\n",
        "    labelCol='damage_grade',\n",
        "    predictionCol='prediction',\n",
        "    standardization=False\n",
        ")"
      ]
    },
    {
      "cell_type": "code",
      "execution_count": 41,
      "id": "8137fdf5",
      "metadata": {
        "id": "8137fdf5",
        "outputId": "09ec1f3f-dcde-4b2e-9747-b56bec80c19d",
        "colab": {
          "base_uri": "https://localhost:8080/"
        }
      },
      "outputs": [
        {
          "output_type": "stream",
          "name": "stdout",
          "text": [
            "LogisticRegression_e82a809db1f6 \n",
            "\n",
            "Training set accuracy: 0.593\n",
            "Test set accuracy: 0.593\n",
            "----------------------------------------\n",
            "Test set precision\n",
            "Label 1.0: 0.579    Label 2.0: 0.6\n",
            "----------------------------------------\n",
            "Test set recall\n",
            "Label 1.0: 0.302    Label 2.0: 0.876\n"
          ]
        }
      ],
      "source": [
        "score_model(lr_1)"
      ]
    },
    {
      "cell_type": "code",
      "execution_count": null,
      "id": "8459e303",
      "metadata": {
        "id": "8459e303"
      },
      "outputs": [],
      "source": [
        ""
      ]
    },
    {
      "cell_type": "code",
      "execution_count": null,
      "id": "8c061111",
      "metadata": {
        "id": "8c061111"
      },
      "outputs": [],
      "source": [
        ""
      ]
    },
    {
      "cell_type": "code",
      "execution_count": null,
      "id": "2c6e3c48",
      "metadata": {
        "id": "2c6e3c48"
      },
      "outputs": [],
      "source": [
        ""
      ]
    },
    {
      "cell_type": "code",
      "execution_count": null,
      "id": "cb696d00-1f5f-4bfa-8d40-23dbc5dd05cb",
      "metadata": {
        "id": "cb696d00-1f5f-4bfa-8d40-23dbc5dd05cb"
      },
      "outputs": [],
      "source": [
        ""
      ]
    }
  ],
  "metadata": {
    "kernelspec": {
      "display_name": "Python (spark-env)",
      "language": "python",
      "name": "spark-env"
    },
    "language_info": {
      "codemirror_mode": {
        "name": "ipython",
        "version": 3
      },
      "file_extension": ".py",
      "mimetype": "text/x-python",
      "name": "python",
      "nbconvert_exporter": "python",
      "pygments_lexer": "ipython3",
      "version": "3.8.13"
    },
    "colab": {
      "name": "Capstone_Notebook_V2.ipynb",
      "provenance": []
    }
  },
  "nbformat": 4,
  "nbformat_minor": 5
}