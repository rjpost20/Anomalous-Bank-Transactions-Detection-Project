{
  "cells": [
    {
      "cell_type": "markdown",
      "source": [
        "<img src=\"https://github.com/rjpost20/Anomalous-Bank-Transactions-Detection-Project/blob/main/data/AdobeStock_319163865.jpeg?raw=true\">\n",
        "Image by <a href=\"https://stock.adobe.com/contributor/200768506/andsus?load_type=author&prev_url=detail\" >AndSus</a> on Adobe Stock"
      ],
      "metadata": {
        "id": "6Kwcbs5bBIV2"
      },
      "id": "6Kwcbs5bBIV2"
    },
    {
      "cell_type": "markdown",
      "id": "1853614c-bb9b-4feb-9c74-dd82342eae6a",
      "metadata": {
        "id": "1853614c-bb9b-4feb-9c74-dd82342eae6a"
      },
      "source": [
        "# Phase 5 Project: *Detecting Anomalous Financial Transactions*"
      ]
    },
    {
      "cell_type": "markdown",
      "id": "7d4f907d-ec9f-4226-940a-a649a5decf3a",
      "metadata": {
        "id": "7d4f907d-ec9f-4226-940a-a649a5decf3a"
      },
      "source": [
        "## Notebook 1: Intro, EDA and Preprocessing"
      ]
    },
    {
      "cell_type": "markdown",
      "id": "55a18e8c-9808-4a71-b98f-97f2d040dbc3",
      "metadata": {
        "id": "55a18e8c-9808-4a71-b98f-97f2d040dbc3"
      },
      "source": [
        "### By Ryan Posternak"
      ]
    },
    {
      "cell_type": "markdown",
      "id": "f4d4f196-97af-4b2a-beab-2288fd5327ae",
      "metadata": {
        "id": "f4d4f196-97af-4b2a-beab-2288fd5327ae"
      },
      "source": [
        "Flatiron School, Full-Time Live NYC<br>\n",
        "Project Presentation Date: August 25th, 2022<br>\n",
        "Instructor: Joseph Mata"
      ]
    },
    {
      "cell_type": "markdown",
      "id": "9b5ec167-a06b-4ae7-9813-ffe0d77bc69b",
      "metadata": {
        "id": "9b5ec167-a06b-4ae7-9813-ffe0d77bc69b"
      },
      "source": [
        "## Goal: \n",
        "\n",
        "*This is a project for learning purposes. The *** is not involved with this project in any way.*\n",
        "\n",
        "<br>"
      ]
    },
    {
      "cell_type": "markdown",
      "id": "1886193f-a8e7-4fa3-8416-18d84d24a49e",
      "metadata": {
        "id": "1886193f-a8e7-4fa3-8416-18d84d24a49e"
      },
      "source": [
        "# Overview and Business Understanding"
      ]
    },
    {
      "cell_type": "code",
      "execution_count": null,
      "id": "7a59a008-35b9-4955-bcd5-2e4ba5da116c",
      "metadata": {
        "id": "7a59a008-35b9-4955-bcd5-2e4ba5da116c"
      },
      "outputs": [],
      "source": [
        ""
      ]
    },
    {
      "cell_type": "markdown",
      "id": "f17ed2fb-d360-4f43-a6a0-b7bdae492089",
      "metadata": {
        "id": "f17ed2fb-d360-4f43-a6a0-b7bdae492089"
      },
      "source": [
        "<br>"
      ]
    },
    {
      "cell_type": "markdown",
      "id": "870710cc-f45e-4f2a-b61a-6cc21e13c8bb",
      "metadata": {
        "id": "870710cc-f45e-4f2a-b61a-6cc21e13c8bb"
      },
      "source": [
        "# Data Understanding"
      ]
    },
    {
      "cell_type": "code",
      "execution_count": null,
      "id": "c3c287e4-7d1c-40e5-afb8-f497f77d8bc1",
      "metadata": {
        "id": "c3c287e4-7d1c-40e5-afb8-f497f77d8bc1"
      },
      "outputs": [],
      "source": [
        ""
      ]
    },
    {
      "cell_type": "markdown",
      "id": "2da9320e-b8f3-469d-b4f9-7438fde1d655",
      "metadata": {
        "id": "2da9320e-b8f3-469d-b4f9-7438fde1d655"
      },
      "source": [
        "<br>"
      ]
    },
    {
      "cell_type": "markdown",
      "id": "776806df-5137-44ac-8d76-c06d7906e0c1",
      "metadata": {
        "id": "776806df-5137-44ac-8d76-c06d7906e0c1"
      },
      "source": [
        "# Initial Exploratory Data Analysis"
      ]
    },
    {
      "cell_type": "markdown",
      "id": "50a628d4-f6f7-46d4-a6d4-4a54f51a02c1",
      "metadata": {
        "id": "50a628d4-f6f7-46d4-a6d4-4a54f51a02c1"
      },
      "source": [
        "### Google colab compatibility downloads"
      ]
    },
    {
      "cell_type": "code",
      "execution_count": 1,
      "id": "2b9a80a0-0e96-4cd3-9ad0-e86cfd27090b",
      "metadata": {
        "id": "2b9a80a0-0e96-4cd3-9ad0-e86cfd27090b",
        "colab": {
          "base_uri": "https://localhost:8080/"
        },
        "outputId": "fbc1358c-9512-4630-dca8-babf2097fd92"
      },
      "outputs": [
        {
          "output_type": "stream",
          "name": "stdout",
          "text": [
            "\u001b[33m\r0% [Working]\u001b[0m\r            \rGet:1 http://security.ubuntu.com/ubuntu bionic-security InRelease [88.7 kB]\n",
            "\u001b[33m\r0% [Waiting for headers] [1 InRelease 0 B/88.7 kB 0%] [Connected to cloud.r-pro\u001b[0m\r                                                                               \rHit:2 http://archive.ubuntu.com/ubuntu bionic InRelease\n",
            "\u001b[33m\r0% [Waiting for headers] [1 InRelease 40.2 kB/88.7 kB 45%] [Connected to cloud.\u001b[0m\r                                                                               \rGet:3 https://cloud.r-project.org/bin/linux/ubuntu bionic-cran40/ InRelease [3,626 B]\n",
            "Get:4 http://archive.ubuntu.com/ubuntu bionic-updates InRelease [88.7 kB]\n",
            "Ign:5 https://developer.download.nvidia.com/compute/machine-learning/repos/ubuntu1804/x86_64  InRelease\n",
            "Get:6 https://developer.download.nvidia.com/compute/cuda/repos/ubuntu1804/x86_64  InRelease [1,581 B]\n",
            "Hit:7 https://developer.download.nvidia.com/compute/machine-learning/repos/ubuntu1804/x86_64  Release\n",
            "Get:8 http://archive.ubuntu.com/ubuntu bionic-backports InRelease [74.6 kB]\n",
            "Get:9 http://ppa.launchpad.net/c2d4u.team/c2d4u4.0+/ubuntu bionic InRelease [15.9 kB]\n",
            "Get:10 https://cloud.r-project.org/bin/linux/ubuntu bionic-cran40/ Packages [90.7 kB]\n",
            "Hit:11 http://ppa.launchpad.net/cran/libgit2/ubuntu bionic InRelease\n",
            "Get:12 http://security.ubuntu.com/ubuntu bionic-security/main amd64 Packages [2,937 kB]\n",
            "Get:13 https://developer.download.nvidia.com/compute/cuda/repos/ubuntu1804/x86_64  Packages [903 kB]\n",
            "Get:14 http://ppa.launchpad.net/deadsnakes/ppa/ubuntu bionic InRelease [15.9 kB]\n",
            "Get:15 http://security.ubuntu.com/ubuntu bionic-security/restricted amd64 Packages [1,100 kB]\n",
            "Get:16 http://security.ubuntu.com/ubuntu bionic-security/universe amd64 Packages [1,533 kB]\n",
            "Get:17 http://ppa.launchpad.net/graphics-drivers/ppa/ubuntu bionic InRelease [21.3 kB]\n",
            "Get:18 http://archive.ubuntu.com/ubuntu bionic-updates/main amd64 Packages [3,369 kB]\n",
            "Get:20 http://archive.ubuntu.com/ubuntu bionic-updates/universe amd64 Packages [2,310 kB]\n",
            "Get:21 http://archive.ubuntu.com/ubuntu bionic-updates/restricted amd64 Packages [1,141 kB]\n",
            "Get:22 http://ppa.launchpad.net/c2d4u.team/c2d4u4.0+/ubuntu bionic/main Sources [2,095 kB]\n",
            "Get:23 http://ppa.launchpad.net/c2d4u.team/c2d4u4.0+/ubuntu bionic/main amd64 Packages [1,073 kB]\n",
            "Get:24 http://ppa.launchpad.net/deadsnakes/ppa/ubuntu bionic/main amd64 Packages [45.3 kB]\n",
            "Get:25 http://ppa.launchpad.net/graphics-drivers/ppa/ubuntu bionic/main amd64 Packages [47.7 kB]\n",
            "Fetched 17.0 MB in 4s (4,615 kB/s)\n",
            "Reading package lists... Done\n",
            "Building dependency tree       \n",
            "Reading state information... Done\n",
            "38 packages can be upgraded. Run 'apt list --upgradable' to see them.\n",
            "Looking in indexes: https://pypi.org/simple, https://us-python.pkg.dev/colab-wheels/public/simple/\n",
            "Collecting pyspark==3.3.0\n",
            "  Downloading pyspark-3.3.0.tar.gz (281.3 MB)\n",
            "\u001b[K     |████████████████████████████████| 281.3 MB 34 kB/s \n",
            "\u001b[?25hCollecting py4j==0.10.9.5\n",
            "  Downloading py4j-0.10.9.5-py2.py3-none-any.whl (199 kB)\n",
            "\u001b[K     |████████████████████████████████| 199 kB 67.0 MB/s \n",
            "\u001b[?25hBuilding wheels for collected packages: pyspark\n",
            "  Building wheel for pyspark (setup.py) ... \u001b[?25l\u001b[?25hdone\n",
            "  Created wheel for pyspark: filename=pyspark-3.3.0-py2.py3-none-any.whl size=281764026 sha256=12cc363fe07446b9e195f10e4ee870590e413736615cfdc51125265bb5ece66a\n",
            "  Stored in directory: /root/.cache/pip/wheels/7a/8e/1b/f73a52650d2e5f337708d9f6a1750d451a7349a867f928b885\n",
            "Successfully built pyspark\n",
            "Installing collected packages: py4j, pyspark\n",
            "Successfully installed py4j-0.10.9.5 pyspark-3.3.0\n"
          ]
        }
      ],
      "source": [
        "!sudo apt update\n",
        "!apt-get install openjdk-8-jdk-headless -qq > /dev/null\n",
        "!wget -q https://dlcdn.apache.org/spark/spark-3.3.0/spark-3.3.0-bin-hadoop3.tgz \n",
        "!tar xf spark-3.3.0-bin-hadoop3.tgz\n",
        "import os\n",
        "os.environ[\"JAVA_HOME\"] = \"/usr/lib/jvm/java-8-openjdk-amd64\"\n",
        "os.environ[\"SPARK_HOME\"] = \"/content/spark-3.3.0-bin-hadoop3\"\n",
        "!pip install pyspark==3.3.0\n",
        "!pip install -q findspark\n",
        "import findspark\n",
        "findspark.init()"
      ]
    },
    {
      "cell_type": "code",
      "source": [
        "from google.colab import drive\n",
        "drive.mount('/content/drive')"
      ],
      "metadata": {
        "id": "_EJVZLDUCRdy",
        "colab": {
          "base_uri": "https://localhost:8080/"
        },
        "outputId": "7a1813fc-7f0b-429c-d811-6939d9dc1454"
      },
      "id": "_EJVZLDUCRdy",
      "execution_count": 2,
      "outputs": [
        {
          "output_type": "stream",
          "name": "stdout",
          "text": [
            "Mounted at /content/drive\n"
          ]
        }
      ]
    },
    {
      "cell_type": "markdown",
      "id": "a1f82477-fb1f-4bc6-9de8-07d8ee0486c2",
      "metadata": {
        "id": "a1f82477-fb1f-4bc6-9de8-07d8ee0486c2"
      },
      "source": [
        "### Import libraries, packages and modules"
      ]
    },
    {
      "cell_type": "code",
      "execution_count": 3,
      "id": "3ec43d7d-2077-4d43-bd12-cc6c351f746d",
      "metadata": {
        "id": "3ec43d7d-2077-4d43-bd12-cc6c351f746d"
      },
      "outputs": [],
      "source": [
        "import numpy as np\n",
        "import pandas as pd\n",
        "pd.set_option('display.max_columns', None)\n",
        "from itertools import chain\n",
        "import os\n",
        "\n",
        "from pyspark.sql import SparkSession\n",
        "import pyspark.sql.functions as F\n",
        "from pyspark.sql.types import StringType, IntegerType, DoubleType, TimestampType\n",
        "from pyspark.ml.feature import StringIndexer, OneHotEncoder, VectorAssembler, StandardScaler\n",
        "from pyspark.ml import Pipeline\n",
        "from pyspark.ml.classification import LogisticRegression\n",
        "from pyspark.ml.evaluation import BinaryClassificationEvaluator, MulticlassClassificationEvaluator\n",
        "from pyspark.ml.tuning import ParamGridBuilder, TrainValidationSplit\n",
        "\n",
        "from sklearn.metrics import confusion_matrix, ConfusionMatrixDisplay, classification_report\n",
        "\n",
        "import matplotlib.pyplot as plt\n",
        "plt.style.use('seaborn')\n",
        "import seaborn as sns\n",
        "import matplotlib_inline.backend_inline\n",
        "matplotlib_inline.backend_inline.set_matplotlib_formats('retina')\n",
        "from IPython.display import HTML, display\n",
        "%matplotlib inline"
      ]
    },
    {
      "cell_type": "code",
      "execution_count": 4,
      "id": "7d9c9165-4b95-403f-9e90-6ae09612b92d",
      "metadata": {
        "id": "7d9c9165-4b95-403f-9e90-6ae09612b92d",
        "colab": {
          "base_uri": "https://localhost:8080/"
        },
        "outputId": "89bc3d18-3585-442a-83ff-85d2b5e28f73"
      },
      "outputs": [
        {
          "output_type": "stream",
          "name": "stdout",
          "text": [
            "Not connected to a GPU\n"
          ]
        }
      ],
      "source": [
        "# Check colab GPU info\n",
        "\n",
        "gpu_info = !nvidia-smi\n",
        "gpu_info = '\\n'.join(gpu_info)\n",
        "if gpu_info.find('failed') >= 0:\n",
        "    print('Not connected to a GPU')\n",
        "else:\n",
        "    print(gpu_info)"
      ]
    },
    {
      "cell_type": "code",
      "execution_count": 5,
      "id": "aa3b4878-4efd-472f-9c10-61710c893d10",
      "metadata": {
        "id": "aa3b4878-4efd-472f-9c10-61710c893d10"
      },
      "outputs": [],
      "source": [
        "# Set text to wrap in Google colab notebook\n",
        "\n",
        "def set_css():\n",
        "    display(HTML('''\n",
        "    <style>\n",
        "      pre {\n",
        "          white-space: pre-wrap;\n",
        "      }\n",
        "    </style>\n",
        "    '''))\n",
        "get_ipython().events.register('pre_run_cell', set_css)"
      ]
    },
    {
      "cell_type": "code",
      "execution_count": 6,
      "id": "2d54949d-dc79-446b-bc2a-cce6e6ae92da",
      "metadata": {
        "id": "2d54949d-dc79-446b-bc2a-cce6e6ae92da",
        "colab": {
          "base_uri": "https://localhost:8080/",
          "height": 37
        },
        "outputId": "483e2253-1572-409b-f554-b3cb7cc63bfc"
      },
      "outputs": [
        {
          "output_type": "display_data",
          "data": {
            "text/plain": [
              "<IPython.core.display.HTML object>"
            ],
            "text/html": [
              "\n",
              "    <style>\n",
              "      pre {\n",
              "          white-space: pre-wrap;\n",
              "      }\n",
              "    </style>\n",
              "    "
            ]
          },
          "metadata": {}
        },
        {
          "output_type": "execute_result",
          "data": {
            "text/plain": [
              "'3.3.0'"
            ],
            "application/vnd.google.colaboratory.intrinsic+json": {
              "type": "string"
            }
          },
          "metadata": {},
          "execution_count": 6
        }
      ],
      "source": [
        "# Initialize Spark Session\n",
        "\n",
        "# spark = SparkSession.builder.master('local[*]').getOrCreate()\n",
        "spark = SparkSession.builder\\\n",
        "        .master(\"local[*]\")\\\n",
        "        .appName(\"Colab\")\\\n",
        "        .config('spark.ui.port', '4050')\\\n",
        "        .getOrCreate()\n",
        "\n",
        "spark.version"
      ]
    },
    {
      "cell_type": "markdown",
      "id": "4c45c0da-3252-4fc8-89c6-4d8260418fc9",
      "metadata": {
        "id": "4c45c0da-3252-4fc8-89c6-4d8260418fc9"
      },
      "source": [
        "### Description of Features"
      ]
    },
    {
      "cell_type": "markdown",
      "id": "8590747c-e25c-405c-815b-3c83f10309ea",
      "metadata": {
        "id": "8590747c-e25c-405c-815b-3c83f10309ea"
      },
      "source": [
        "**Dataset 1 – Transactions:**\n",
        "\n",
        "`MessageId` - Globally unique identifier within this dataset for individual transactions<br>\n",
        "`UETR` - The Unique End-to-end Transaction Reference—a 36-character string enabling traceability of all individual transactions associated with a single end-to-end transaction<br>\n",
        "`TransactionReference` - Unique identifier for an individual transaction<br>\n",
        "`Timestamp` - Time at which the individual transaction was initiated<br>\n",
        "`Sender` - Institution (bank) initiating/sending the individual transaction<br>\n",
        "`Receiver` - Institution (bank) receiving the individual transaction<br>\n",
        "`OrderingAccount` - Account identifier for the originating ordering entity (individual or organization) for end-to-end transaction<br>\n",
        "`OrderingName` - Name for the originating ordering entity<br>\n",
        "`OrderingStreet` - Street address for the originating ordering entity<br>\n",
        "`OrderingCountryCityZip` - Remaining address details for the originating ordering entity<br>\n",
        "`BeneficiaryAccount` - Account identifier for the final beneficiary entity (individual or organization) for end-to-end transaction<br>\n",
        "`BeneficiaryName` - Name for the final beneficiary entity<br>\n",
        "`BeneficiaryStreet` - Street address for the final beneficiary entity<br>\n",
        "`BeneficiaryCountryCityZip` - Remaining address details for the final beneficiary entity<br>\n",
        "`SettlementDate` - Date the individual transaction was settled<br>\n",
        "`SettlementCurrency` - Currency used for transaction<br>\n",
        "`SettlementAmount` - Value of the transaction net of fees/transfer charges/forex<br>\n",
        "`InstructedCurrency` - Currency of the individual transaction as instructed to be paid by the Sender<br>\n",
        "`InstructedAmount` - Value of the individual transaction as instructed to be paid by the Sender<br>\n",
        "`Label` - Boolean indicator of whether the transaction is anomalous or not. This is the target variable for the prediction task.<br>\n",
        "<br>\n",
        "**Dataset 2 – Banks:**\n",
        "\n",
        "`Bank` - Identifier for the bank<br>\n",
        "`Account` - Identifier for the account<br>\n",
        "`Name` - Name of the account<br>\n",
        "`Street` - Street address associated with the account<br>\n",
        "`CountryCityZip` - Remaining address details associated with the account<br>\n",
        "`Flags` - Enumerated data type indicating potential issues or special features that have been associated with an account. Flag definitions are below:<br>\n",
        "00 - No flags<br>\n",
        "01 - Account closed<br>\n",
        "03 - Account recently opened<br>\n",
        "04 - Name mismatch<br>\n",
        "05 - Account under monitoring<br>\n",
        "06 - Account suspended<br>\n",
        "07 - Account frozen<br>\n",
        "08 - Non-transaction account<br>\n",
        "09 - Beneficiary deceased<br>\n",
        "10 - Invalid company ID<br>\n",
        "11 - Invalid individual ID<br>"
      ]
    },
    {
      "cell_type": "markdown",
      "id": "b25f65a8-1444-468f-a5ee-9611e4d794ef",
      "metadata": {
        "id": "b25f65a8-1444-468f-a5ee-9611e4d794ef"
      },
      "source": [
        "### Read in Data"
      ]
    },
    {
      "cell_type": "code",
      "execution_count": 7,
      "id": "dd295db2-0718-42c6-8a70-df41e93e72fa",
      "metadata": {
        "id": "dd295db2-0718-42c6-8a70-df41e93e72fa",
        "colab": {
          "base_uri": "https://localhost:8080/",
          "height": 17
        },
        "outputId": "e407dc3a-00d1-4891-e18a-b2b6fcd57017"
      },
      "outputs": [
        {
          "output_type": "display_data",
          "data": {
            "text/plain": [
              "<IPython.core.display.HTML object>"
            ],
            "text/html": [
              "\n",
              "    <style>\n",
              "      pre {\n",
              "          white-space: pre-wrap;\n",
              "      }\n",
              "    </style>\n",
              "    "
            ]
          },
          "metadata": {}
        }
      ],
      "source": [
        "# Read in transactions data csv file to a Spark DataFrame\n",
        "train_df = spark.read.csv('/content/drive/MyDrive/Colab Notebooks/transaction_train_dataset.csv', header=True, inferSchema=True)\n",
        "test_df = spark.read.csv('/content/drive/MyDrive/Colab Notebooks/transaction_test_dataset.csv', header=True, inferSchema=True)\n",
        "\n",
        "# Persist in memory\n",
        "train_df = train_df.cache()\n",
        "test_df = test_df.cache()\n",
        "\n",
        "# Read in banks data csv file to a Spark DataFrame\n",
        "# banks_df = spark.read.csv('/content/drive/MyDrive/Colab Notebooks/bank_dataset.csv', header=True, inferSchema=True)"
      ]
    },
    {
      "cell_type": "markdown",
      "id": "529532f1-4b2e-406d-bd3d-63f8784a168c",
      "metadata": {
        "id": "529532f1-4b2e-406d-bd3d-63f8784a168c"
      },
      "source": [
        "### Initial EDA"
      ]
    },
    {
      "cell_type": "code",
      "execution_count": 8,
      "id": "a0bc0590-9efa-4f6b-943e-c509163b4f8d",
      "metadata": {
        "id": "a0bc0590-9efa-4f6b-943e-c509163b4f8d",
        "colab": {
          "base_uri": "https://localhost:8080/",
          "height": 51
        },
        "outputId": "f7167042-95b0-4786-abbd-c01f31587a2d"
      },
      "outputs": [
        {
          "output_type": "display_data",
          "data": {
            "text/plain": [
              "<IPython.core.display.HTML object>"
            ],
            "text/html": [
              "\n",
              "    <style>\n",
              "      pre {\n",
              "          white-space: pre-wrap;\n",
              "      }\n",
              "    </style>\n",
              "    "
            ]
          },
          "metadata": {}
        },
        {
          "output_type": "stream",
          "name": "stdout",
          "text": [
            "train_df:  4,691,725 Rows, 20 Columns\n",
            "test_df:  705,108 Rows, 20 Columns\n"
          ]
        }
      ],
      "source": [
        "# Print shape of dataframes\n",
        "print(f\"train_df:  {train_df.count():,} Rows, {len(train_df.columns)} Columns\")\n",
        "print(f\"test_df:  {test_df.count():,} Rows, {len(test_df.columns)} Columns\")\n",
        "# print(f\"banks_df:  {banks_df.count():,} Rows, {len(banks_df.columns)} Columns\")"
      ]
    },
    {
      "cell_type": "code",
      "execution_count": 9,
      "id": "e0133a49-0718-421f-9e8d-2d60913780ce",
      "metadata": {
        "id": "e0133a49-0718-421f-9e8d-2d60913780ce",
        "colab": {
          "base_uri": "https://localhost:8080/",
          "height": 391
        },
        "outputId": "f416ae0d-7370-458b-d975-7d8c9e22a3fd"
      },
      "outputs": [
        {
          "output_type": "display_data",
          "data": {
            "text/plain": [
              "<IPython.core.display.HTML object>"
            ],
            "text/html": [
              "\n",
              "    <style>\n",
              "      pre {\n",
              "          white-space: pre-wrap;\n",
              "      }\n",
              "    </style>\n",
              "    "
            ]
          },
          "metadata": {}
        },
        {
          "output_type": "stream",
          "name": "stdout",
          "text": [
            "root\n",
            " |-- MessageId: string (nullable = true)\n",
            " |-- Timestamp: timestamp (nullable = true)\n",
            " |-- UETR: string (nullable = true)\n",
            " |-- Sender: string (nullable = true)\n",
            " |-- Receiver: string (nullable = true)\n",
            " |-- TransactionReference: string (nullable = true)\n",
            " |-- OrderingAccount: string (nullable = true)\n",
            " |-- OrderingName: string (nullable = true)\n",
            " |-- OrderingStreet: string (nullable = true)\n",
            " |-- OrderingCountryCityZip: string (nullable = true)\n",
            " |-- BeneficiaryAccount: string (nullable = true)\n",
            " |-- BeneficiaryName: string (nullable = true)\n",
            " |-- BeneficiaryStreet: string (nullable = true)\n",
            " |-- BeneficiaryCountryCityZip: string (nullable = true)\n",
            " |-- SettlementDate: integer (nullable = true)\n",
            " |-- SettlementCurrency: string (nullable = true)\n",
            " |-- SettlementAmount: double (nullable = true)\n",
            " |-- InstructedCurrency: string (nullable = true)\n",
            " |-- InstructedAmount: double (nullable = true)\n",
            " |-- Label: integer (nullable = true)\n",
            "\n"
          ]
        }
      ],
      "source": [
        "train_df.printSchema()"
      ]
    },
    {
      "cell_type": "code",
      "execution_count": null,
      "id": "d1d1e353-ef6e-404e-b87d-9657ee0cd922",
      "metadata": {
        "id": "d1d1e353-ef6e-404e-b87d-9657ee0cd922"
      },
      "outputs": [],
      "source": [
        "# banks_df.printSchema()"
      ]
    },
    {
      "cell_type": "code",
      "execution_count": 11,
      "id": "11ab8183-bd76-48c2-b647-75285e34e4ac",
      "metadata": {
        "id": "11ab8183-bd76-48c2-b647-75285e34e4ac",
        "colab": {
          "base_uri": "https://localhost:8080/",
          "height": 408
        },
        "outputId": "c7f283b7-7184-4663-de57-dab93cf51a0b"
      },
      "outputs": [
        {
          "output_type": "display_data",
          "data": {
            "text/plain": [
              "<IPython.core.display.HTML object>"
            ],
            "text/html": [
              "\n",
              "    <style>\n",
              "      pre {\n",
              "          white-space: pre-wrap;\n",
              "      }\n",
              "    </style>\n",
              "    "
            ]
          },
          "metadata": {}
        },
        {
          "output_type": "stream",
          "name": "stdout",
          "text": [
            "-RECORD 0---------------------------------------------------------\n",
            " MessageId                 | TRA7CGN3FF                           \n",
            " Timestamp                 | 2022-01-01 00:00:00                  \n",
            " UETR                      | f474fdb3-4675-4fff-ab7e-3469f82bd6a7 \n",
            " Sender                    | DPSUFRPP                             \n",
            " Receiver                  | ABVVUS6S                             \n",
            " TransactionReference      | PETX22-FXIDA-7054                    \n",
            " OrderingAccount           | FR90714755422956984353               \n",
            " OrderingName              | PHACELIA HETEROPHYLLA                \n",
            " OrderingStreet            | 3| RUE HAMON                         \n",
            " OrderingCountryCityZip    | FR/42859 SAINTE AURÉLIE              \n",
            " BeneficiaryAccount        | 611024064274704358                   \n",
            " BeneficiaryName           | PAPAVER CALIFORNICUM                 \n",
            " BeneficiaryStreet         | 2584 CHARLES PLACE                   \n",
            " BeneficiaryCountryCityZip | US/ROJASLAND| DC 58442               \n",
            " SettlementDate            | 220101                               \n",
            " SettlementCurrency        | USD                                  \n",
            " SettlementAmount          | 1.74631905316E9                      \n",
            " InstructedCurrency        | EUR                                  \n",
            " InstructedAmount          | 1.56018855817E9                      \n",
            " Label                     | 0                                    \n",
            "only showing top 1 row\n",
            "\n"
          ]
        }
      ],
      "source": [
        "# Display first row of train_df\n",
        "train_df.show(n=1, vertical=True, truncate=False)"
      ]
    },
    {
      "cell_type": "code",
      "execution_count": null,
      "id": "44472749-3189-4abf-b646-e0767399adbd",
      "metadata": {
        "id": "44472749-3189-4abf-b646-e0767399adbd"
      },
      "outputs": [],
      "source": [
        "# Display first 5 rows of banks dataframe\n",
        "# banks_df.show(n=5, truncate=False)"
      ]
    },
    {
      "cell_type": "code",
      "execution_count": 13,
      "id": "35dc1315-8b58-4e4d-a042-9fa3a660bce1",
      "metadata": {
        "id": "35dc1315-8b58-4e4d-a042-9fa3a660bce1",
        "colab": {
          "base_uri": "https://localhost:8080/",
          "height": 408
        },
        "outputId": "0b037b7a-6aa7-4598-b18f-ddd2ab090ef1"
      },
      "outputs": [
        {
          "output_type": "display_data",
          "data": {
            "text/plain": [
              "<IPython.core.display.HTML object>"
            ],
            "text/html": [
              "\n",
              "    <style>\n",
              "      pre {\n",
              "          white-space: pre-wrap;\n",
              "      }\n",
              "    </style>\n",
              "    "
            ]
          },
          "metadata": {}
        },
        {
          "output_type": "stream",
          "name": "stdout",
          "text": [
            "Number of null/missing values per column:\n",
            "\n",
            "-RECORD 0------------------------\n",
            " MessageId                 | 0   \n",
            " UETR                      | 0   \n",
            " Sender                    | 0   \n",
            " Receiver                  | 0   \n",
            " TransactionReference      | 0   \n",
            " OrderingAccount           | 0   \n",
            " OrderingName              | 107 \n",
            " OrderingStreet            | 0   \n",
            " OrderingCountryCityZip    | 0   \n",
            " BeneficiaryAccount        | 0   \n",
            " BeneficiaryName           | 103 \n",
            " BeneficiaryStreet         | 0   \n",
            " BeneficiaryCountryCityZip | 0   \n",
            " SettlementDate            | 0   \n",
            " SettlementCurrency        | 0   \n",
            " SettlementAmount          | 0   \n",
            " InstructedCurrency        | 0   \n",
            " InstructedAmount          | 0   \n",
            " Label                     | 0   \n",
            "\n"
          ]
        }
      ],
      "source": [
        "# Print number of null/missing values in each column of train_df\n",
        "train_df_null = train_df.select([F.count(F.when(F.col(c).isNull() | F.isnan(c), c))\\\n",
        "                                 .alias(c) for c in train_df.columns if c != 'Timestamp'])\n",
        "\n",
        "print('Number of null/missing values per column:\\n')\n",
        "train_df_null.show(vertical=True, truncate=False)"
      ]
    },
    {
      "cell_type": "code",
      "execution_count": null,
      "id": "b6f635e4-c5c0-4383-9e9b-6e67791c72b4",
      "metadata": {
        "id": "b6f635e4-c5c0-4383-9e9b-6e67791c72b4"
      },
      "outputs": [],
      "source": [
        "# Print number of null/missing values in each column of banks_df\n",
        "# banks_df_null = banks_df.select([F.count(F.when(F.col(c).contains('None') | \\\n",
        "#                                                 F.col(c).contains('NULL') | \\\n",
        "#                                                 (F.col(c) == '' ) | \\\n",
        "#                                                 F.col(c).isNull() | \\\n",
        "#                                                 F.isnan(c), c ))\\\n",
        "#                                  .alias(c) for c in banks_df.columns])\n",
        "\n",
        "# print('Number of null/missing values per column:\\n')\n",
        "# banks_df_null.show(vertical=True, truncate=False)"
      ]
    },
    {
      "cell_type": "code",
      "execution_count": 14,
      "id": "2896607b-d653-4cda-9601-f1c4e709a0e0",
      "metadata": {
        "id": "2896607b-d653-4cda-9601-f1c4e709a0e0",
        "colab": {
          "base_uri": "https://localhost:8080/",
          "height": 425
        },
        "outputId": "b86f38fd-15f8-479d-cf11-cb8de01c99d1"
      },
      "outputs": [
        {
          "output_type": "display_data",
          "data": {
            "text/plain": [
              "<IPython.core.display.HTML object>"
            ],
            "text/html": [
              "\n",
              "    <style>\n",
              "      pre {\n",
              "          white-space: pre-wrap;\n",
              "      }\n",
              "    </style>\n",
              "    "
            ]
          },
          "metadata": {}
        },
        {
          "output_type": "stream",
          "name": "stdout",
          "text": [
            "Number of unique values per column (in sample of 1% of dataframe):\n",
            "\n",
            "-RECORD 0---------------------------------\n",
            " count(MessageId)                 | 46730 \n",
            " count(Timestamp)                 | 19566 \n",
            " count(UETR)                      | 46661 \n",
            " count(Sender)                    | 15    \n",
            " count(Receiver)                  | 21    \n",
            " count(TransactionReference)      | 29079 \n",
            " count(OrderingAccount)           | 40886 \n",
            " count(OrderingName)              | 24096 \n",
            " count(OrderingStreet)            | 38985 \n",
            " count(OrderingCountryCityZip)    | 36800 \n",
            " count(BeneficiaryAccount)        | 33701 \n",
            " count(BeneficiaryName)           | 21565 \n",
            " count(BeneficiaryStreet)         | 28299 \n",
            " count(BeneficiaryCountryCityZip) | 28076 \n",
            " count(SettlementDate)            | 23    \n",
            " count(SettlementCurrency)        | 4     \n",
            " count(SettlementAmount)          | 46728 \n",
            " count(InstructedCurrency)        | 6     \n",
            " count(InstructedAmount)          | 46659 \n",
            " count(Label)                     | 2     \n",
            "\n"
          ]
        }
      ],
      "source": [
        "# Print number of unique values in each column in train_df; sample 1% of df for efficiency\n",
        "train_df_unique = train_df.sample(False, 0.01).agg(*(F.countDistinct(F.col(c)) for c in train_df.columns))\n",
        "\n",
        "print(f\"Number of unique values per column (in sample of 1% of dataframe):\\n\")\n",
        "train_df_unique.show(vertical=True, truncate=False)"
      ]
    },
    {
      "cell_type": "code",
      "execution_count": null,
      "id": "6ea7f1f1-2aae-42c0-bbef-6a4128ee6990",
      "metadata": {
        "id": "6ea7f1f1-2aae-42c0-bbef-6a4128ee6990"
      },
      "outputs": [],
      "source": [
        "# Print number of unique values in each column in banks_df; sample 10% of df for efficiency\n",
        "# banks_df_unique = banks_df.sample(False, 0.1).agg(*(F.countDistinct(F.col(c)) for c in banks_df.columns))\n",
        "\n",
        "# print(f\"Number of unique values per column (in sample of 10% of dataframe):\\n\")\n",
        "# banks_df_unique.show(vertical=True, truncate=False)"
      ]
    },
    {
      "cell_type": "code",
      "source": [
        "# Display Pandas style summary statistics table of numeric columns\n",
        "num_cols = [item[0] for item in train_df.dtypes if item[1] == 'int' or item[1] == 'double']\n",
        "\n",
        "train_df.select(num_cols).summary().show(truncate=False)\n"
      ],
      "metadata": {
        "id": "0DJZvwkuvZbs",
        "colab": {
          "base_uri": "https://localhost:8080/",
          "height": 238
        },
        "outputId": "5a5e61ba-8969-4c6c-c85a-9b47ae0388f6"
      },
      "id": "0DJZvwkuvZbs",
      "execution_count": 15,
      "outputs": [
        {
          "output_type": "display_data",
          "data": {
            "text/plain": [
              "<IPython.core.display.HTML object>"
            ],
            "text/html": [
              "\n",
              "    <style>\n",
              "      pre {\n",
              "          white-space: pre-wrap;\n",
              "      }\n",
              "    </style>\n",
              "    "
            ]
          },
          "metadata": {}
        },
        {
          "output_type": "stream",
          "name": "stdout",
          "text": [
            "+-------+------------------+---------------------+--------------------+---------------------+\n",
            "|summary|SettlementDate    |SettlementAmount     |InstructedAmount    |Label                |\n",
            "+-------+------------------+---------------------+--------------------+---------------------+\n",
            "|count  |4691725           |4691725              |4691725             |4691725              |\n",
            "|mean   |220111.88223073602|5.074057103357817E9  |9.416309758961706E9 |0.0010443919880214632|\n",
            "|stddev |6.674532853334336 |2.7276372846653574E11|3.858897596339895E11|0.03230017733337347  |\n",
            "|min    |220101            |0.67                 |0.67                |0                    |\n",
            "|25%    |220106            |2237846.0            |2174568.32          |0                    |\n",
            "|50%    |220112            |4623703.18           |4283045.1           |0                    |\n",
            "|75%    |220118            |1.913998868E7        |1.981570822E7       |0                    |\n",
            "|max    |220123            |5.6469401543203E13   |5.6501652687697E13  |1                    |\n",
            "+-------+------------------+---------------------+--------------------+---------------------+\n",
            "\n"
          ]
        }
      ]
    },
    {
      "cell_type": "code",
      "source": [
        "# Display unique currencies used in transactions\n",
        "print('train_df:')\n",
        "train_df.select('InstructedCurrency').distinct().show()"
      ],
      "metadata": {
        "colab": {
          "base_uri": "https://localhost:8080/",
          "height": 255
        },
        "id": "zXRwRCl7X6tM",
        "outputId": "92e88ce8-fc42-450e-bc76-06cabb711c5b"
      },
      "id": "zXRwRCl7X6tM",
      "execution_count": 16,
      "outputs": [
        {
          "output_type": "display_data",
          "data": {
            "text/plain": [
              "<IPython.core.display.HTML object>"
            ],
            "text/html": [
              "\n",
              "    <style>\n",
              "      pre {\n",
              "          white-space: pre-wrap;\n",
              "      }\n",
              "    </style>\n",
              "    "
            ]
          },
          "metadata": {}
        },
        {
          "output_type": "stream",
          "name": "stdout",
          "text": [
            "train_df:\n",
            "+------------------+\n",
            "|InstructedCurrency|\n",
            "+------------------+\n",
            "|               NZD|\n",
            "|               GBP|\n",
            "|               CAD|\n",
            "|               EUR|\n",
            "|               AUD|\n",
            "|               JPY|\n",
            "|               INR|\n",
            "|               USD|\n",
            "+------------------+\n",
            "\n"
          ]
        }
      ]
    },
    {
      "cell_type": "code",
      "execution_count": 17,
      "id": "5f632020-f200-4ecc-b55b-211b67ce6fdc",
      "metadata": {
        "id": "5f632020-f200-4ecc-b55b-211b67ce6fdc",
        "colab": {
          "base_uri": "https://localhost:8080/",
          "height": 136
        },
        "outputId": "685acc5c-338f-48be-962c-308ebb8211c3"
      },
      "outputs": [
        {
          "output_type": "display_data",
          "data": {
            "text/plain": [
              "<IPython.core.display.HTML object>"
            ],
            "text/html": [
              "\n",
              "    <style>\n",
              "      pre {\n",
              "          white-space: pre-wrap;\n",
              "      }\n",
              "    </style>\n",
              "    "
            ]
          },
          "metadata": {}
        },
        {
          "output_type": "stream",
          "name": "stdout",
          "text": [
            "+-----+-------+----------+\n",
            "|Label|  count|   percent|\n",
            "+-----+-------+----------+\n",
            "|    1|   4900|0.00104...|\n",
            "|    0|4686825|0.99895...|\n",
            "+-----+-------+----------+\n",
            "\n"
          ]
        }
      ],
      "source": [
        "# Display value counts for 'Label' column (classification target) in train_df\n",
        "class_counts = train_df.groupBy('Label').count().withColumn('percent', F.col('count')/train_df.count())\n",
        "\n",
        "class_counts.show(truncate=10)"
      ]
    },
    {
      "cell_type": "markdown",
      "id": "ba284473-cb1a-45d6-89e6-94b7bdc1cc55",
      "metadata": {
        "id": "ba284473-cb1a-45d6-89e6-94b7bdc1cc55"
      },
      "source": [
        "**Remarks:**\n",
        "- It looks like this is an extremely imbalanced dataset - only about 0.1% of the data is in the positive class. We will need to address this class imbalance as part of the modeling process."
      ]
    },
    {
      "cell_type": "markdown",
      "source": [
        "<br>"
      ],
      "metadata": {
        "id": "e6CMX7wnyShD"
      },
      "id": "e6CMX7wnyShD"
    },
    {
      "cell_type": "markdown",
      "id": "c7188a23-a1c8-492f-8167-eb0e6f42fbf4",
      "metadata": {
        "id": "c7188a23-a1c8-492f-8167-eb0e6f42fbf4"
      },
      "source": [
        "# Preprocessing & Feature Engineering"
      ]
    },
    {
      "cell_type": "markdown",
      "id": "528ffb7d-1150-4903-9294-4f34ef1c22f3",
      "metadata": {
        "id": "528ffb7d-1150-4903-9294-4f34ef1c22f3"
      },
      "source": [
        "Steps:\n",
        "1. Change column datatypes to correct type\n",
        "2. Drop duplicate transaction rows\n",
        "3. Train/test split\n",
        "4. Create `SenderHourFreq` feature\n",
        "5. Create `SenderCurrencyFreq` and `SenderCurrencyAmtAvg` features\n",
        "6. Create `SenderReceiverFreq` feature"
      ]
    },
    {
      "cell_type": "code",
      "execution_count": null,
      "id": "398a670b-b7e1-43b7-835d-8feac9644414",
      "metadata": {
        "id": "398a670b-b7e1-43b7-835d-8feac9644414"
      },
      "outputs": [],
      "source": [
        "# Specify join condition\n",
        "# join_condition = (transactions_df.OrderingAccount == banks_df.Account) | (transactions_df.BeneficiaryAccount == banks_df.Account)\n",
        "\n",
        "# Join dataframes\n",
        "# preprocessed_df = transactions_df.join(banks_df, on=join_condition, how='left')\n",
        "\n",
        "# Unpersist old dataframes from memory\n",
        "# display(transactions_df.unpersist())\n",
        "# display(banks_df.unpersist())"
      ]
    },
    {
      "cell_type": "code",
      "execution_count": null,
      "id": "6c870a63-a9a9-4160-894b-ec28e2f94cde",
      "metadata": {
        "id": "6c870a63-a9a9-4160-894b-ec28e2f94cde"
      },
      "outputs": [],
      "source": [
        "# Print shape of joined dataframe\n",
        "# print(f\"{preprocessed_df.count():,} Rows, {len(preprocessed_df.columns)} Columns\")"
      ]
    },
    {
      "cell_type": "markdown",
      "source": [
        "### Convert `Timestamp` column to TimestampType"
      ],
      "metadata": {
        "id": "C8f2ccL_vJNt"
      },
      "id": "C8f2ccL_vJNt"
    },
    {
      "cell_type": "code",
      "execution_count": null,
      "id": "69edab8e-1177-4ee6-99f9-c1e1020656e6",
      "metadata": {
        "id": "69edab8e-1177-4ee6-99f9-c1e1020656e6"
      },
      "outputs": [],
      "source": [
        "# # Convert 'Timestamp' column to TimestampType\n",
        "# train_df = train_df.withColumn('Timestamp', train_df.Timestamp.cast(TimestampType()))\n",
        "# test_df = test_df.withColumn('Timestamp', test_df.Timestamp.cast(TimestampType()))\n",
        "\n",
        "# assert train_df.select('Timestamp').dtypes[0][0] == 'Timestamp'\n",
        "# assert test_df.select('Timestamp').dtypes[0][0] == 'Timestamp'"
      ]
    },
    {
      "cell_type": "markdown",
      "source": [
        "### Drop intermediary transactions (only keep one row per end-to-end transaction)"
      ],
      "metadata": {
        "id": "Nl7pzyqEDTnX"
      },
      "id": "Nl7pzyqEDTnX"
    },
    {
      "cell_type": "code",
      "source": [
        "# Print count of unique transactions (as identified by UETR codes)\n",
        "print('train_df:')\n",
        "train_df.select(F.countDistinct('UETR')).show()\n",
        "print('test_df:')\n",
        "test_df.select(F.countDistinct('UETR')).show()"
      ],
      "metadata": {
        "id": "LYOILJD0ISSL",
        "colab": {
          "base_uri": "https://localhost:8080/",
          "height": 255
        },
        "outputId": "2e706f10-eb55-4cf9-9204-c574a12d699e"
      },
      "id": "LYOILJD0ISSL",
      "execution_count": 18,
      "outputs": [
        {
          "output_type": "display_data",
          "data": {
            "text/plain": [
              "<IPython.core.display.HTML object>"
            ],
            "text/html": [
              "\n",
              "    <style>\n",
              "      pre {\n",
              "          white-space: pre-wrap;\n",
              "      }\n",
              "    </style>\n",
              "    "
            ]
          },
          "metadata": {}
        },
        {
          "output_type": "stream",
          "name": "stdout",
          "text": [
            "train_df:\n",
            "+--------------------+\n",
            "|count(DISTINCT UETR)|\n",
            "+--------------------+\n",
            "|             4054278|\n",
            "+--------------------+\n",
            "\n",
            "test_df:\n",
            "+--------------------+\n",
            "|count(DISTINCT UETR)|\n",
            "+--------------------+\n",
            "|              651584|\n",
            "+--------------------+\n",
            "\n"
          ]
        }
      ]
    },
    {
      "cell_type": "code",
      "source": [
        "# Print total number of combined rows with duplicate UETR values (meaning sender routed transaction through one or more intermediary banks)\n",
        "print('Total number of rows with intermediary transactions in train_df:')\n",
        "train_df.select('UETR').groupBy('UETR')\\\n",
        "    .count()\\\n",
        "    .where(F.col('count') > 1)\\\n",
        "    .select(F.sum('count'))\\\n",
        "    .show()"
      ],
      "metadata": {
        "id": "-qoi-7oTDTCX",
        "colab": {
          "base_uri": "https://localhost:8080/",
          "height": 136
        },
        "outputId": "27c1106f-8d2c-4d0b-8a14-4e32ac7f2444"
      },
      "id": "-qoi-7oTDTCX",
      "execution_count": 20,
      "outputs": [
        {
          "output_type": "display_data",
          "data": {
            "text/plain": [
              "<IPython.core.display.HTML object>"
            ],
            "text/html": [
              "\n",
              "    <style>\n",
              "      pre {\n",
              "          white-space: pre-wrap;\n",
              "      }\n",
              "    </style>\n",
              "    "
            ]
          },
          "metadata": {}
        },
        {
          "output_type": "stream",
          "name": "stdout",
          "text": [
            "Total number of rows with intermediary transactions in train_df:\n",
            "+----------+\n",
            "|sum(count)|\n",
            "+----------+\n",
            "|   1127327|\n",
            "+----------+\n",
            "\n"
          ]
        }
      ]
    },
    {
      "cell_type": "code",
      "source": [
        "# Drop rows with duplicate UETR codes, keeping the first occurence (sorted by Timestamp)\n",
        "train_df = train_df.orderBy('Timestamp').coalesce(1).dropDuplicates(subset = ['UETR']).cache()\n",
        "test_df = test_df.orderBy('Timestamp').coalesce(1).dropDuplicates(subset = ['UETR']).cache()\n",
        "\n",
        "# Ensure no duplicates\n",
        "assert train_df.groupBy(train_df.UETR).count().where(F.col('count') > 1).count() == 0\n",
        "assert test_df.groupBy(test_df.UETR).count().where(F.col('count') > 1).count() == 0\n",
        "\n",
        "print(f\"train_df: {train_df.count()} rows\")\n",
        "print(f\"test_df: {test_df.count()} rows\")"
      ],
      "metadata": {
        "colab": {
          "base_uri": "https://localhost:8080/",
          "height": 51
        },
        "id": "Pyp2WUWgIRhP",
        "outputId": "89a3913e-dec9-4a02-b5e5-d015c7ed7753"
      },
      "id": "Pyp2WUWgIRhP",
      "execution_count": 21,
      "outputs": [
        {
          "output_type": "display_data",
          "data": {
            "text/plain": [
              "<IPython.core.display.HTML object>"
            ],
            "text/html": [
              "\n",
              "    <style>\n",
              "      pre {\n",
              "          white-space: pre-wrap;\n",
              "      }\n",
              "    </style>\n",
              "    "
            ]
          },
          "metadata": {}
        },
        {
          "output_type": "stream",
          "name": "stdout",
          "text": [
            "train_df: 4054278 rows\n",
            "test_df: 651584 rows\n"
          ]
        }
      ]
    },
    {
      "cell_type": "code",
      "source": [
        "# Show value counts for 'Label' column (classification target) in new train and test dataframes\n",
        "class_counts_train = train_df.groupBy('Label').count().withColumn('percent', F.col('count')/train_df.count())\n",
        "class_counts_test = test_df.groupBy('Label').count().withColumn('percent', F.col('count')/test_df.count())\n",
        "\n",
        "print('train_df:')\n",
        "class_counts_train.show(truncate=10)\n",
        "print('test_df:')\n",
        "class_counts_test.show(truncate=10)"
      ],
      "metadata": {
        "colab": {
          "base_uri": "https://localhost:8080/",
          "height": 289
        },
        "id": "znGbnVs0RE9Y",
        "outputId": "cb10afb7-0050-4d8a-d2f5-5cece9ae83a0"
      },
      "id": "znGbnVs0RE9Y",
      "execution_count": 22,
      "outputs": [
        {
          "output_type": "display_data",
          "data": {
            "text/plain": [
              "<IPython.core.display.HTML object>"
            ],
            "text/html": [
              "\n",
              "    <style>\n",
              "      pre {\n",
              "          white-space: pre-wrap;\n",
              "      }\n",
              "    </style>\n",
              "    "
            ]
          },
          "metadata": {}
        },
        {
          "output_type": "stream",
          "name": "stdout",
          "text": [
            "train_df:\n",
            "+-----+-------+----------+\n",
            "|Label|  count|   percent|\n",
            "+-----+-------+----------+\n",
            "|    0|4049426|0.99880...|\n",
            "|    1|   4852|0.00119...|\n",
            "+-----+-------+----------+\n",
            "\n",
            "test_df:\n",
            "+-----+------+----------+\n",
            "|Label| count|   percent|\n",
            "+-----+------+----------+\n",
            "|    0|650828|0.99883...|\n",
            "|    1|   756|0.00116...|\n",
            "+-----+------+----------+\n",
            "\n"
          ]
        }
      ]
    },
    {
      "cell_type": "markdown",
      "source": [
        "## Feature Engineering"
      ],
      "metadata": {
        "id": "_KTP3eqWcAeW"
      },
      "id": "_KTP3eqWcAeW"
    },
    {
      "cell_type": "markdown",
      "source": [
        "### Create `SenderHourFreq` feature: transaction hour frequency for each sender\n",
        "\n",
        "This feature will tell us the frequency with which each sender initiated transactions for each hour of the day. Certain hours of the day are potentially correlated with more anomalous transactions."
      ],
      "metadata": {
        "id": "NyY21cvovTXM"
      },
      "id": "NyY21cvovTXM"
    },
    {
      "cell_type": "code",
      "source": [
        "# Define UDF to extract hour from timestamp\n",
        "hour = F.udf(lambda x: x.hour, IntegerType())\n",
        "\n",
        "# Create new column of transaction hours\n",
        "train_df = train_df.withColumn('Hour', hour(train_df.Timestamp))\n",
        "test_df = test_df.withColumn('Hour', hour(test_df.Timestamp))\n",
        "\n",
        "# Create list of unique senders\n",
        "senders = train_df.select('Sender').toPandas()['Sender'].unique()\n",
        "\n",
        "# Create column of senders concatenated with hours\n",
        "train_df = train_df.withColumn('SenderHour', F.concat(F.col('Sender'), F.col('Hour').cast(StringType())))\n",
        "test_df = test_df.withColumn('SenderHour', F.concat(F.col('Sender'), F.col('Hour').cast(StringType())))\n",
        "\n",
        "pd_df = train_df.select('Sender', 'Hour').toPandas()\n",
        "\n",
        "# Create dictionary of sender hour frequency values to map from sender hour values\n",
        "sender_hour_frequency = {}\n",
        "for sender in senders:\n",
        "    sender_rows = pd_df[pd_df['Sender'] == sender]\n",
        "    for hour in range(24):\n",
        "        sender_hour_frequency[sender + str(hour)] = len(sender_rows[sender_rows['Hour'] == hour])\n",
        "\n",
        "# Create new column in train and test dataframes with sender_hour_frequency dictionary\n",
        "mapping_expr = F.create_map([F.lit(x) for x in chain(*sender_hour_frequency.items())])\n",
        "\n",
        "train_df = train_df.withColumn('SenderHourFreq', mapping_expr[F.col('SenderHour')])\n",
        "test_df = test_df.withColumn('SenderHourFreq', mapping_expr[F.col('SenderHour')])"
      ],
      "metadata": {
        "id": "4kz9zFgrR5Nj",
        "colab": {
          "base_uri": "https://localhost:8080/",
          "height": 17
        },
        "outputId": "74853189-2888-41af-ee18-5cc5d9702fbc"
      },
      "id": "4kz9zFgrR5Nj",
      "execution_count": 23,
      "outputs": [
        {
          "output_type": "display_data",
          "data": {
            "text/plain": [
              "<IPython.core.display.HTML object>"
            ],
            "text/html": [
              "\n",
              "    <style>\n",
              "      pre {\n",
              "          white-space: pre-wrap;\n",
              "      }\n",
              "    </style>\n",
              "    "
            ]
          },
          "metadata": {}
        }
      ]
    },
    {
      "cell_type": "markdown",
      "source": [
        "### Create `SenderCurrencyFreq` and `SenderCurrencyAmtAvg` features: transaction currency frequency and average transaction amount per currency for each sender\n",
        "\n",
        "These features will tell us the frequency with which each sender initiated transactions for each currency, in the case of the first feature. For the second feature, it will tell us the average amount with which each sender sent each currency. These features may also be correlated with anomalous transactions."
      ],
      "metadata": {
        "id": "iKfj2pFGQGOW"
      },
      "id": "iKfj2pFGQGOW"
    },
    {
      "cell_type": "code",
      "source": [
        "# Create column of senders concatenated with instructed currencies\n",
        "train_df = train_df.withColumn('SenderCurrency', F.concat(F.col('Sender'), F.col('InstructedCurrency')))\n",
        "test_df = test_df.withColumn('SenderCurrency', F.concat(F.col('Sender'), F.col('InstructedCurrency')))\n",
        "\n",
        "pd_train_df = train_df.select('SenderCurrency', 'InstructedAmount').toPandas()\n",
        "pd_test_df = test_df.select('SenderCurrency', 'InstructedAmount').toPandas()\n",
        "\n",
        "# Create dictionary of sender currency frequency values to map from sender currency values\n",
        "sender_currency_freq = {}\n",
        "# Create dictionary of average sender currency values to map from sender currency values\n",
        "sender_currency_avg = {}\n",
        "\n",
        "for sc in set(\n",
        "    list(pd_train_df['SenderCurrency'].unique()) + list(pd_test_df['SenderCurrency'].unique())\n",
        "):\n",
        "    sender_currency_freq[sc] = len(pd_train_df[pd_train_df['SenderCurrency'] == sc])\n",
        "    sender_currency_avg[sc] = pd_train_df[pd_train_df['SenderCurrency'] == sc][\n",
        "        \"InstructedAmount\"\n",
        "    ].mean()\n",
        "\n",
        "# Create new column in train and test dataframes with sender_currency_freq dictionary\n",
        "mapping_expr = F.create_map([F.lit(x) for x in chain(*sender_currency_freq.items())])\n",
        "\n",
        "train_df = train_df.withColumn('SenderCurrencyFreq', mapping_expr[F.col('SenderCurrency')])\n",
        "test_df = test_df.withColumn('SenderCurrencyFreq', mapping_expr[F.col('SenderCurrency')])\n",
        "\n",
        "# Create new column in train and test dataframes with sender_currency_avg dictionary\n",
        "mapping_expr = F.create_map([F.lit(x) for x in chain(*sender_currency_avg.items())])\n",
        "\n",
        "train_df = train_df.withColumn('SenderCurrencyAmtAvg', mapping_expr[F.col('SenderCurrency')])\n",
        "test_df = test_df.withColumn('SenderCurrencyAmtAvg', mapping_expr[F.col('SenderCurrency')])"
      ],
      "metadata": {
        "id": "ZINrnCpHQjkN",
        "colab": {
          "base_uri": "https://localhost:8080/",
          "height": 17
        },
        "outputId": "54a410f9-7232-4a94-d6cc-f57abdfd0ec8"
      },
      "id": "ZINrnCpHQjkN",
      "execution_count": 24,
      "outputs": [
        {
          "output_type": "display_data",
          "data": {
            "text/plain": [
              "<IPython.core.display.HTML object>"
            ],
            "text/html": [
              "\n",
              "    <style>\n",
              "      pre {\n",
              "          white-space: pre-wrap;\n",
              "      }\n",
              "    </style>\n",
              "    "
            ]
          },
          "metadata": {}
        }
      ]
    },
    {
      "cell_type": "markdown",
      "source": [
        "### Create `SenderReceiverFreq` feature: sender-receiver combination frequency for each sender and receiver"
      ],
      "metadata": {
        "id": "3lRfKQqI51Il"
      },
      "id": "3lRfKQqI51Il"
    },
    {
      "cell_type": "code",
      "source": [
        "# Create column of senders concatenated with receivers\n",
        "train_df = train_df.withColumn('SenderReceiver', F.concat(F.col('Sender'), F.col('Receiver')))\n",
        "test_df = test_df.withColumn('SenderReceiver', F.concat(F.col('Sender'), F.col('Receiver')))\n",
        "\n",
        "# Create dictionary of sender receiver frequency values to map from sender receiver values\n",
        "sender_receiver_freq = {}\n",
        "\n",
        "pd_train_df = train_df.select('SenderReceiver').toPandas()\n",
        "pd_test_df = test_df.select('SenderReceiver').toPandas()\n",
        "\n",
        "for sr in set(\n",
        "    list(pd_train_df['SenderReceiver'].unique()) + list(pd_test_df['SenderReceiver'].unique())\n",
        "):\n",
        "    sender_receiver_freq[sr] = len(pd_train_df[pd_train_df['SenderReceiver'] == sr])\n",
        "\n",
        "# Create new column in train and test dataframes with sender_receiver_freq dictionary\n",
        "mapping_expr = F.create_map([F.lit(x) for x in chain(*sender_receiver_freq.items())])\n",
        "\n",
        "train_df = train_df.withColumn('SenderReceiverFreq', mapping_expr[F.col('SenderReceiver')])\n",
        "test_df = test_df.withColumn('SenderReceiverFreq', mapping_expr[F.col('SenderReceiver')])"
      ],
      "metadata": {
        "id": "GNPtx7aS50ic",
        "colab": {
          "base_uri": "https://localhost:8080/",
          "height": 17
        },
        "outputId": "ebc936b2-4220-4598-862a-d9eabf3e48ec"
      },
      "id": "GNPtx7aS50ic",
      "execution_count": 25,
      "outputs": [
        {
          "output_type": "display_data",
          "data": {
            "text/plain": [
              "<IPython.core.display.HTML object>"
            ],
            "text/html": [
              "\n",
              "    <style>\n",
              "      pre {\n",
              "          white-space: pre-wrap;\n",
              "      }\n",
              "    </style>\n",
              "    "
            ]
          },
          "metadata": {}
        }
      ]
    },
    {
      "cell_type": "markdown",
      "source": [
        "### Drop categorical columns"
      ],
      "metadata": {
        "id": "gFkdce4XbMAi"
      },
      "id": "gFkdce4XbMAi"
    },
    {
      "cell_type": "code",
      "source": [
        "cols_to_drop = [\n",
        "    'Timestamp',\n",
        "    'UETR',\n",
        "    'Sender',\n",
        "    'Receiver',\n",
        "    'TransactionReference',\n",
        "    'OrderingAccount',\n",
        "    'OrderingName',\n",
        "    'OrderingStreet',\n",
        "    'OrderingCountryCityZip',\n",
        "    'BeneficiaryAccount',\n",
        "    'BeneficiaryName',\n",
        "    'BeneficiaryStreet',\n",
        "    'BeneficiaryCountryCityZip',\n",
        "    'SettlementDate',\n",
        "    'SettlementCurrency',\n",
        "    'InstructedCurrency',\n",
        "    'SenderHour',\n",
        "    'SenderCurrency',\n",
        "    'SenderReceiver'\n",
        "]\n",
        "\n",
        "train_df = train_df.drop(*cols_to_drop)\n",
        "test_df = test_df.drop(*cols_to_drop)"
      ],
      "metadata": {
        "id": "bs_qEOpGR0qK"
      },
      "id": "bs_qEOpGR0qK",
      "execution_count": null,
      "outputs": []
    },
    {
      "cell_type": "code",
      "source": [
        "train_df.show(5, vertical=True)"
      ],
      "metadata": {
        "id": "2Ba0V9NZRbSE",
        "colab": {
          "base_uri": "https://localhost:8080/",
          "height": 1000
        },
        "outputId": "a5edc4df-fd32-4d79-d057-f5e9e21ebb51"
      },
      "id": "2Ba0V9NZRbSE",
      "execution_count": 26,
      "outputs": [
        {
          "output_type": "display_data",
          "data": {
            "text/plain": [
              "<IPython.core.display.HTML object>"
            ],
            "text/html": [
              "\n",
              "    <style>\n",
              "      pre {\n",
              "          white-space: pre-wrap;\n",
              "      }\n",
              "    </style>\n",
              "    "
            ]
          },
          "metadata": {}
        },
        {
          "output_type": "stream",
          "name": "stdout",
          "text": [
            "-RECORD 0-----------------------------------------\n",
            " MessageId                 | TRHSBN47QC           \n",
            " Timestamp                 | 2022-01-02 15:59:00  \n",
            " UETR                      | 0000069f-9521-407... \n",
            " Sender                    | DPSUFRPP             \n",
            " Receiver                  | ABVVUS6S             \n",
            " TransactionReference      | PETX22-FXIDA-3010    \n",
            " OrderingAccount           | FR597147554229569... \n",
            " OrderingName              | PLANTAGO CORONOPUS   \n",
            " OrderingStreet            | 66| RUE HENRI DIALLO \n",
            " OrderingCountryCityZip    | FR/35912 SAINTE J... \n",
            " BeneficiaryAccount        | 611024064274695805   \n",
            " BeneficiaryName           | FUIRENA PUMILA       \n",
            " BeneficiaryStreet         | 7897 COOK HARBORS    \n",
            " BeneficiaryCountryCityZip | US/EAST SHAWNA| C... \n",
            " SettlementDate            | 220102               \n",
            " SettlementCurrency        | USD                  \n",
            " SettlementAmount          | 2939777.86           \n",
            " InstructedCurrency        | EUR                  \n",
            " InstructedAmount          | 2626443.19           \n",
            " Label                     | 0                    \n",
            " Hour                      | 15                   \n",
            " SenderHour                | DPSUFRPP15           \n",
            " SenderHourFreq            | 50960                \n",
            " SenderCurrency            | DPSUFRPPEUR          \n",
            " SenderCurrencyFreq        | 1405816              \n",
            " SenderCurrencyAmtAvg      | 1.8228684667394385E8 \n",
            " SenderReceiver            | DPSUFRPPABVVUS6S     \n",
            " SenderReceiverFreq        | 1628975              \n",
            "-RECORD 1-----------------------------------------\n",
            " MessageId                 | TR9TCQFG1G           \n",
            " Timestamp                 | 2022-01-23 05:31:00  \n",
            " UETR                      | 00000b69-dcce-4fe... \n",
            " Sender                    | WVOLDEMM             \n",
            " Receiver                  | MBYOTRIS             \n",
            " TransactionReference      | PETX22-NO-FX-1298    \n",
            " OrderingAccount           | DE380202246921985... \n",
            " OrderingName              | SAXIFRAGA OPPOSIT... \n",
            " OrderingStreet            | BUDIGSTRASSE 0       \n",
            " OrderingCountryCityZip    | DE/42608 KASSEL      \n",
            " BeneficiaryAccount        | TR403775073942533... \n",
            " BeneficiaryName           | CYRTANDRA ◊CRASSIOR  \n",
            " BeneficiaryStreet         | 3894 GÜLEN CLIFFS... \n",
            " BeneficiaryCountryCityZip | TR/PORT DERKAY| A... \n",
            " SettlementDate            | 220123               \n",
            " SettlementCurrency        | EUR                  \n",
            " SettlementAmount          | 1.654746139E7        \n",
            " InstructedCurrency        | EUR                  \n",
            " InstructedAmount          | 1.654746139E7        \n",
            " Label                     | 0                    \n",
            " Hour                      | 5                    \n",
            " SenderHour                | WVOLDEMM5            \n",
            " SenderHourFreq            | 31835                \n",
            " SenderCurrency            | WVOLDEMMEUR          \n",
            " SenderCurrencyFreq        | 403420               \n",
            " SenderCurrencyAmtAvg      | 4.7489876365180686E7 \n",
            " SenderReceiver            | WVOLDEMMMBYOTRIS     \n",
            " SenderReceiverFreq        | 56650                \n",
            "-RECORD 2-----------------------------------------\n",
            " MessageId                 | TRJ8VAPTVH           \n",
            " Timestamp                 | 2022-01-17 05:18:00  \n",
            " UETR                      | 00000b72-6f13-472... \n",
            " Sender                    | MRQHUS44             \n",
            " Receiver                  | WMVZGB2L             \n",
            " TransactionReference      | PETX22-FXIDA-9970    \n",
            " OrderingAccount           | 453347523863654871   \n",
            " OrderingName              | LOTUS DENDROIDEUS    \n",
            " OrderingStreet            | 3815 CHAD MILL       \n",
            " OrderingCountryCityZip    | US/ANGELABOROUGH|... \n",
            " BeneficiaryAccount        | 199377071818544588   \n",
            " BeneficiaryName           | PARONYCHIA           \n",
            " BeneficiaryStreet         | 2 ROWE DIVIDE SIA... \n",
            " BeneficiaryCountryCityZip | GB/HA0R 8HW          \n",
            " SettlementDate            | 220117               \n",
            " SettlementCurrency        | GBP                  \n",
            " SettlementAmount          | 927212.55            \n",
            " InstructedCurrency        | USD                  \n",
            " InstructedAmount          | 1153679.92           \n",
            " Label                     | 0                    \n",
            " Hour                      | 5                    \n",
            " SenderHour                | MRQHUS445            \n",
            " SenderHourFreq            | 216                  \n",
            " SenderCurrency            | MRQHUS44USD          \n",
            " SenderCurrencyFreq        | 274065               \n",
            " SenderCurrencyAmtAvg      | 1671495.4797866924   \n",
            " SenderReceiver            | MRQHUS44WMVZGB2L     \n",
            " SenderReceiverFreq        | 274065               \n",
            "-RECORD 3-----------------------------------------\n",
            " MessageId                 | TR2G10S0EP           \n",
            " Timestamp                 | 2022-01-03 13:45:00  \n",
            " UETR                      | 00000c79-9a10-407... \n",
            " Sender                    | WVOLDEMM             \n",
            " Receiver                  | DPSUFRPP             \n",
            " TransactionReference      | PETX22-FXIDA-2179    \n",
            " OrderingAccount           | DE 90202246921985... \n",
            " OrderingName              | HOHENBERGIA ANTIL... \n",
            " OrderingStreet            | INGA-SCHINKE-ALLE... \n",
            " OrderingCountryCityZip    | DE/51379 HERFORD     \n",
            " BeneficiaryAccount        | 611024064274703302   \n",
            " BeneficiaryName           | ERAGROSTIS OBTUSI... \n",
            " BeneficiaryStreet         | 012 WANG STRAVENUE   \n",
            " BeneficiaryCountryCityZip | US/DPO AE 42307      \n",
            " SettlementDate            | 220103               \n",
            " SettlementCurrency        | EUR                  \n",
            " SettlementAmount          | 6.226574191E7        \n",
            " InstructedCurrency        | EUR                  \n",
            " InstructedAmount          | 6.226574191E7        \n",
            " Label                     | 0                    \n",
            " Hour                      | 13                   \n",
            " SenderHour                | WVOLDEMM13           \n",
            " SenderHourFreq            | 28304                \n",
            " SenderCurrency            | WVOLDEMMEUR          \n",
            " SenderCurrencyFreq        | 403420               \n",
            " SenderCurrencyAmtAvg      | 4.7489876365180686E7 \n",
            " SenderReceiver            | WVOLDEMMDPSUFRPP     \n",
            " SenderReceiverFreq        | 304475               \n",
            "-RECORD 4-----------------------------------------\n",
            " MessageId                 | TRXUV3Q651           \n",
            " Timestamp                 | 2022-01-19 18:22:00  \n",
            " UETR                      | 0000100c-a531-492... \n",
            " Sender                    | WVOLDEMM             \n",
            " Receiver                  | DPSUFRPP             \n",
            " TransactionReference      | PETX22-NO-FX-220     \n",
            " OrderingAccount           | DE420202246921986... \n",
            " OrderingName              | PEUCEPHYLLUM SCHO... \n",
            " OrderingStreet            | SARAH-SCHUSTER-WE... \n",
            " OrderingCountryCityZip    | DE/91193 BAD KREU... \n",
            " BeneficiaryAccount        | FR717147554229569... \n",
            " BeneficiaryName           | MEEHANIA             \n",
            " BeneficiaryStreet         | 40| AVENUE ANDRE     \n",
            " BeneficiaryCountryCityZip | FR/24221 TEXIER      \n",
            " SettlementDate            | 220119               \n",
            " SettlementCurrency        | EUR                  \n",
            " SettlementAmount          | 6128948.94           \n",
            " InstructedCurrency        | EUR                  \n",
            " InstructedAmount          | 6128948.94           \n",
            " Label                     | 0                    \n",
            " Hour                      | 18                   \n",
            " SenderHour                | WVOLDEMM18           \n",
            " SenderHourFreq            | 10263                \n",
            " SenderCurrency            | WVOLDEMMEUR          \n",
            " SenderCurrencyFreq        | 403420               \n",
            " SenderCurrencyAmtAvg      | 4.7489876365180686E7 \n",
            " SenderReceiver            | WVOLDEMMDPSUFRPP     \n",
            " SenderReceiverFreq        | 304475               \n",
            "only showing top 5 rows\n",
            "\n"
          ]
        }
      ]
    },
    {
      "cell_type": "code",
      "execution_count": null,
      "id": "a630285a-f240-42f9-bb32-0c34cb70c8ff",
      "metadata": {
        "id": "a630285a-f240-42f9-bb32-0c34cb70c8ff"
      },
      "outputs": [],
      "source": [
        "test_df.show(5)"
      ]
    },
    {
      "cell_type": "code",
      "execution_count": 28,
      "id": "354e0fa3-eb37-4101-a9f2-fed9ee28f58a",
      "metadata": {
        "id": "354e0fa3-eb37-4101-a9f2-fed9ee28f58a"
      },
      "outputs": [],
      "source": [
        ""
      ]
    },
    {
      "cell_type": "code",
      "execution_count": 28,
      "id": "86041fe4-e330-4402-bdac-8b7bf0eac6c8",
      "metadata": {
        "id": "86041fe4-e330-4402-bdac-8b7bf0eac6c8"
      },
      "outputs": [],
      "source": [
        ""
      ]
    },
    {
      "cell_type": "code",
      "source": [
        ""
      ],
      "metadata": {
        "id": "dOsBhtSO6QUw"
      },
      "id": "dOsBhtSO6QUw",
      "execution_count": null,
      "outputs": []
    }
  ],
  "metadata": {
    "kernelspec": {
      "display_name": "Python (spark-env)",
      "language": "python",
      "name": "spark-env"
    },
    "language_info": {
      "codemirror_mode": {
        "name": "ipython",
        "version": 3
      },
      "file_extension": ".py",
      "mimetype": "text/x-python",
      "name": "python",
      "nbconvert_exporter": "python",
      "pygments_lexer": "ipython3",
      "version": "3.8.13"
    },
    "colab": {
      "name": "Notebook-1_Intro-EDA-Preprocessing-V3.ipynb",
      "provenance": [],
      "collapsed_sections": [],
      "machine_shape": "hm"
    },
    "gpuClass": "standard"
  },
  "nbformat": 4,
  "nbformat_minor": 5
}