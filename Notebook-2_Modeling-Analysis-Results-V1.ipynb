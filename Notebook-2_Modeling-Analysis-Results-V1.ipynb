{
  "nbformat": 4,
  "nbformat_minor": 0,
  "metadata": {
    "colab": {
      "name": "Notebook-2_Modeling-Analysis-Results-V1.ipynb",
      "provenance": [],
      "collapsed_sections": [],
      "machine_shape": "hm",
      "authorship_tag": "ABX9TyPg4jqEoblMdbUolBcLZHkC"
    },
    "kernelspec": {
      "name": "python3",
      "display_name": "Python 3"
    },
    "language_info": {
      "name": "python"
    },
    "gpuClass": "standard"
  },
  "cells": [
    {
      "cell_type": "markdown",
      "source": [
        "<img src=\"https://github.com/rjpost20/Anomalous-Bank-Transactions-Detection-Project/blob/main/data/AdobeStock_319163865.jpeg?raw=true\">\n",
        "Image by <a href=\"https://stock.adobe.com/contributor/200768506/andsus?load_type=author&prev_url=detail\" >AndSus</a> on Adobe Stock"
      ],
      "metadata": {
        "id": "_6bs9GYKTazR"
      }
    },
    {
      "cell_type": "markdown",
      "source": [
        "# Phase 5 Project: *Detecting Anomalous Financial Transactions*"
      ],
      "metadata": {
        "id": "7VB6bZymTwee"
      }
    },
    {
      "cell_type": "markdown",
      "source": [
        "## Notebook 2: Modeling, Analysis and Results"
      ],
      "metadata": {
        "id": "nCbcIwMIT8L2"
      }
    },
    {
      "cell_type": "markdown",
      "source": [
        "### By Ryan Posternak"
      ],
      "metadata": {
        "id": "xIF5Rp36UDq8"
      }
    },
    {
      "cell_type": "markdown",
      "source": [
        "Flatiron School, Full-Time Live NYC<br>\n",
        "Project Presentation Date: August 25th, 2022<br>\n",
        "Instructor: Joseph Mata"
      ],
      "metadata": {
        "id": "02ym0eygUI_s"
      }
    },
    {
      "cell_type": "markdown",
      "source": [
        "<br>"
      ],
      "metadata": {
        "id": "tITdkCs8UbQf"
      }
    },
    {
      "cell_type": "markdown",
      "source": [
        "# Imports and Reading in Data"
      ],
      "metadata": {
        "id": "YVvo7KHTUQbw"
      }
    },
    {
      "cell_type": "markdown",
      "source": [
        "### Google colab compatibility downloads"
      ],
      "metadata": {
        "id": "xsGuZAD3URpn"
      }
    },
    {
      "cell_type": "code",
      "source": [
        "!sudo apt update\n",
        "!apt-get install openjdk-8-jdk-headless -qq > /dev/null\n",
        "!wget -q https://dlcdn.apache.org/spark/spark-3.3.0/spark-3.3.0-bin-hadoop3.tgz \n",
        "!tar xf spark-3.3.0-bin-hadoop3.tgz\n",
        "import os\n",
        "os.environ[\"JAVA_HOME\"] = \"/usr/lib/jvm/java-8-openjdk-amd64\"\n",
        "os.environ[\"SPARK_HOME\"] = \"/content/spark-3.3.0-bin-hadoop3\"\n",
        "!pip install pyspark==3.3.0\n",
        "!pip install -q findspark\n",
        "import findspark\n",
        "findspark.init()"
      ],
      "metadata": {
        "colab": {
          "base_uri": "https://localhost:8080/"
        },
        "id": "5vbzjcsbUSJ1",
        "outputId": "6c305b3d-1d19-4246-9cb2-2ba7fc5acaa5"
      },
      "execution_count": 3,
      "outputs": [
        {
          "output_type": "stream",
          "name": "stdout",
          "text": [
            "Get:1 https://cloud.r-project.org/bin/linux/ubuntu bionic-cran40/ InRelease [3,626 B]\n",
            "Ign:2 https://developer.download.nvidia.com/compute/machine-learning/repos/ubuntu1804/x86_64  InRelease\n",
            "Get:3 https://developer.download.nvidia.com/compute/cuda/repos/ubuntu1804/x86_64  InRelease [1,581 B]\n",
            "Hit:4 https://developer.download.nvidia.com/compute/machine-learning/repos/ubuntu1804/x86_64  Release\n",
            "Get:5 http://security.ubuntu.com/ubuntu bionic-security InRelease [88.7 kB]\n",
            "Get:6 http://ppa.launchpad.net/c2d4u.team/c2d4u4.0+/ubuntu bionic InRelease [15.9 kB]\n",
            "Hit:7 http://archive.ubuntu.com/ubuntu bionic InRelease\n",
            "Get:8 https://cloud.r-project.org/bin/linux/ubuntu bionic-cran40/ Packages [90.7 kB]\n",
            "Get:9 https://developer.download.nvidia.com/compute/cuda/repos/ubuntu1804/x86_64  Packages [903 kB]\n",
            "Get:10 http://archive.ubuntu.com/ubuntu bionic-updates InRelease [88.7 kB]\n",
            "Hit:12 http://ppa.launchpad.net/cran/libgit2/ubuntu bionic InRelease\n",
            "Get:13 http://ppa.launchpad.net/deadsnakes/ppa/ubuntu bionic InRelease [15.9 kB]\n",
            "Get:14 http://archive.ubuntu.com/ubuntu bionic-backports InRelease [74.6 kB]\n",
            "Get:15 http://security.ubuntu.com/ubuntu bionic-security/main amd64 Packages [2,937 kB]\n",
            "Get:16 http://ppa.launchpad.net/graphics-drivers/ppa/ubuntu bionic InRelease [21.3 kB]\n",
            "Get:17 http://archive.ubuntu.com/ubuntu bionic-updates/main amd64 Packages [3,369 kB]\n",
            "Get:18 http://ppa.launchpad.net/c2d4u.team/c2d4u4.0+/ubuntu bionic/main Sources [2,095 kB]\n",
            "Get:19 http://security.ubuntu.com/ubuntu bionic-security/restricted amd64 Packages [1,100 kB]\n",
            "Get:20 http://security.ubuntu.com/ubuntu bionic-security/universe amd64 Packages [1,533 kB]\n",
            "Get:21 http://archive.ubuntu.com/ubuntu bionic-updates/restricted amd64 Packages [1,141 kB]\n",
            "Get:22 http://archive.ubuntu.com/ubuntu bionic-updates/universe amd64 Packages [2,310 kB]\n",
            "Get:23 http://ppa.launchpad.net/c2d4u.team/c2d4u4.0+/ubuntu bionic/main amd64 Packages [1,073 kB]\n",
            "Get:24 http://ppa.launchpad.net/deadsnakes/ppa/ubuntu bionic/main amd64 Packages [45.3 kB]\n",
            "Get:25 http://ppa.launchpad.net/graphics-drivers/ppa/ubuntu bionic/main amd64 Packages [47.7 kB]\n",
            "Fetched 17.0 MB in 4s (4,307 kB/s)\n",
            "Reading package lists... Done\n",
            "Building dependency tree       \n",
            "Reading state information... Done\n",
            "38 packages can be upgraded. Run 'apt list --upgradable' to see them.\n",
            "Looking in indexes: https://pypi.org/simple, https://us-python.pkg.dev/colab-wheels/public/simple/\n",
            "Collecting pyspark==3.3.0\n",
            "  Downloading pyspark-3.3.0.tar.gz (281.3 MB)\n",
            "\u001b[K     |████████████████████████████████| 281.3 MB 40 kB/s \n",
            "\u001b[?25hCollecting py4j==0.10.9.5\n",
            "  Downloading py4j-0.10.9.5-py2.py3-none-any.whl (199 kB)\n",
            "\u001b[K     |████████████████████████████████| 199 kB 67.8 MB/s \n",
            "\u001b[?25hBuilding wheels for collected packages: pyspark\n",
            "  Building wheel for pyspark (setup.py) ... \u001b[?25l\u001b[?25hdone\n",
            "  Created wheel for pyspark: filename=pyspark-3.3.0-py2.py3-none-any.whl size=281764026 sha256=3722a6c43db730b339367b29ff61db4e915c124f68cac01af153e6f83f8235f5\n",
            "  Stored in directory: /root/.cache/pip/wheels/7a/8e/1b/f73a52650d2e5f337708d9f6a1750d451a7349a867f928b885\n",
            "Successfully built pyspark\n",
            "Installing collected packages: py4j, pyspark\n",
            "Successfully installed py4j-0.10.9.5 pyspark-3.3.0\n"
          ]
        }
      ]
    },
    {
      "cell_type": "code",
      "source": [
        "# Connect to Google drive\n",
        "from google.colab import drive, files\n",
        "drive.mount('/content/drive')"
      ],
      "metadata": {
        "colab": {
          "base_uri": "https://localhost:8080/"
        },
        "id": "ZL5VI-6OUSmC",
        "outputId": "64ac68eb-c488-4df6-f507-2c62e5e977d0"
      },
      "execution_count": 4,
      "outputs": [
        {
          "output_type": "stream",
          "name": "stdout",
          "text": [
            "Mounted at /content/drive\n"
          ]
        }
      ]
    },
    {
      "cell_type": "code",
      "source": [
        "import numpy as np\n",
        "import pandas as pd\n",
        "pd.set_option('display.max_columns', None)\n",
        "from itertools import chain\n",
        "import os\n",
        "\n",
        "from pyspark.sql import SparkSession\n",
        "import pyspark.sql.functions as F\n",
        "from pyspark.sql.types import StringType, IntegerType, DoubleType, TimestampType\n",
        "from pyspark.ml.feature import StringIndexer, OneHotEncoder, VectorAssembler, StandardScaler\n",
        "from pyspark.ml import Pipeline\n",
        "from pyspark.ml.classification import LogisticRegression\n",
        "from pyspark.ml.evaluation import BinaryClassificationEvaluator, MulticlassClassificationEvaluator\n",
        "from pyspark.ml.tuning import ParamGridBuilder, TrainValidationSplit\n",
        "\n",
        "from sklearn.metrics import confusion_matrix, ConfusionMatrixDisplay, classification_report\n",
        "\n",
        "import matplotlib.pyplot as plt\n",
        "plt.style.use('seaborn')\n",
        "import seaborn as sns\n",
        "# import matplotlib_inline.backend_inline\n",
        "# matplotlib_inline.backend_inline.set_matplotlib_formats('retina')\n",
        "from IPython.display import HTML, display\n",
        "%matplotlib inline"
      ],
      "metadata": {
        "id": "rKWlJ4EbUTF0"
      },
      "execution_count": 6,
      "outputs": []
    },
    {
      "cell_type": "code",
      "source": [
        "# Check colab GPU info\n",
        "\n",
        "gpu_info = !nvidia-smi\n",
        "gpu_info = '\\n'.join(gpu_info)\n",
        "if gpu_info.find('failed') >= 0:\n",
        "    print('Not connected to a GPU')\n",
        "else:\n",
        "    print(gpu_info)"
      ],
      "metadata": {
        "colab": {
          "base_uri": "https://localhost:8080/"
        },
        "id": "meNh4v-1VAPw",
        "outputId": "ed851577-9b5a-4050-b8e5-c02f4504dedb"
      },
      "execution_count": 7,
      "outputs": [
        {
          "output_type": "stream",
          "name": "stdout",
          "text": [
            "Not connected to a GPU\n"
          ]
        }
      ]
    },
    {
      "cell_type": "code",
      "source": [
        "# Set text to wrap in Google colab notebook\n",
        "\n",
        "def set_css():\n",
        "    display(HTML('''\n",
        "    <style>\n",
        "      pre {\n",
        "          white-space: pre-wrap;\n",
        "      }\n",
        "    </style>\n",
        "    '''))\n",
        "get_ipython().events.register('pre_run_cell', set_css)"
      ],
      "metadata": {
        "id": "7Q03mQqlVAa-"
      },
      "execution_count": 8,
      "outputs": []
    },
    {
      "cell_type": "code",
      "source": [
        "# Initialize Spark Session\n",
        "\n",
        "# spark = SparkSession.builder.master('local[*]').getOrCreate()\n",
        "spark = SparkSession.builder\\\n",
        "        .master(\"local[*]\")\\\n",
        "        .appName(\"Colab\")\\\n",
        "        .config('spark.ui.port', '4050')\\\n",
        "        .getOrCreate()\n",
        "\n",
        "spark.version"
      ],
      "metadata": {
        "colab": {
          "base_uri": "https://localhost:8080/",
          "height": 37
        },
        "id": "NLJkXpZlVAi5",
        "outputId": "2edd12cb-529e-4ab5-ae79-e5a090322edb"
      },
      "execution_count": 9,
      "outputs": [
        {
          "output_type": "display_data",
          "data": {
            "text/plain": [
              "<IPython.core.display.HTML object>"
            ],
            "text/html": [
              "\n",
              "    <style>\n",
              "      pre {\n",
              "          white-space: pre-wrap;\n",
              "      }\n",
              "    </style>\n",
              "    "
            ]
          },
          "metadata": {}
        },
        {
          "output_type": "execute_result",
          "data": {
            "text/plain": [
              "'3.3.0'"
            ],
            "application/vnd.google.colaboratory.intrinsic+json": {
              "type": "string"
            }
          },
          "metadata": {},
          "execution_count": 9
        }
      ]
    },
    {
      "cell_type": "code",
      "source": [
        "# Read in resampled_df (training) and test_df_preprocessed (testing) data csv files to Spark DataFrames - Colab\n",
        "resampled_df = spark.read.csv('/content/drive/MyDrive/Colab Notebooks/resampled_df.csv', header=True, inferSchema=True)\n",
        "test_df_preprocessed = spark.read.csv('/content/drive/MyDrive/Colab Notebooks/test_df_preprocessed.csv', header=True, inferSchema=True)"
      ],
      "metadata": {
        "colab": {
          "base_uri": "https://localhost:8080/",
          "height": 17
        },
        "id": "2XuhVucTVAqb",
        "outputId": "2624bfb0-9486-4389-93b8-8f4156fb71c2"
      },
      "execution_count": 10,
      "outputs": [
        {
          "output_type": "display_data",
          "data": {
            "text/plain": [
              "<IPython.core.display.HTML object>"
            ],
            "text/html": [
              "\n",
              "    <style>\n",
              "      pre {\n",
              "          white-space: pre-wrap;\n",
              "      }\n",
              "    </style>\n",
              "    "
            ]
          },
          "metadata": {}
        }
      ]
    },
    {
      "cell_type": "code",
      "source": [
        "# Print shape of dataframes\n",
        "print(f\"resampled_df:  {resampled_df.count()} Rows, {len(resampled_df.columns)} Columns\")\n",
        "print(f\"test_df_preprocessed:  {test_df_preprocessed.count()} Rows, {len(test_df_preprocessed.columns)} Columns\")"
      ],
      "metadata": {
        "colab": {
          "base_uri": "https://localhost:8080/",
          "height": 51
        },
        "id": "UcoMf27IVOLC",
        "outputId": "a79ba529-329d-4c53-fa87-da0ff5882f1b"
      },
      "execution_count": 11,
      "outputs": [
        {
          "output_type": "display_data",
          "data": {
            "text/plain": [
              "<IPython.core.display.HTML object>"
            ],
            "text/html": [
              "\n",
              "    <style>\n",
              "      pre {\n",
              "          white-space: pre-wrap;\n",
              "      }\n",
              "    </style>\n",
              "    "
            ]
          },
          "metadata": {}
        },
        {
          "output_type": "stream",
          "name": "stdout",
          "text": [
            "resampled_df:  454052 Rows, 10 Columns\n",
            "test_df_preprocessed:  651584 Rows, 10 Columns\n"
          ]
        }
      ]
    },
    {
      "cell_type": "code",
      "source": [
        "# Print schema of training dataframe\n",
        "resampled_df.printSchema()"
      ],
      "metadata": {
        "colab": {
          "base_uri": "https://localhost:8080/",
          "height": 221
        },
        "id": "OWm1UBS1VOSH",
        "outputId": "6b1598dd-11ea-4876-aa10-d4d7efc30c8e"
      },
      "execution_count": 15,
      "outputs": [
        {
          "output_type": "display_data",
          "data": {
            "text/plain": [
              "<IPython.core.display.HTML object>"
            ],
            "text/html": [
              "\n",
              "    <style>\n",
              "      pre {\n",
              "          white-space: pre-wrap;\n",
              "      }\n",
              "    </style>\n",
              "    "
            ]
          },
          "metadata": {}
        },
        {
          "output_type": "stream",
          "name": "stdout",
          "text": [
            "root\n",
            " |-- MessageId: string (nullable = true)\n",
            " |-- SettlementAmount: double (nullable = true)\n",
            " |-- InstructedCurrency: string (nullable = true)\n",
            " |-- InstructedAmount: double (nullable = true)\n",
            " |-- Label: integer (nullable = true)\n",
            " |-- Hour: integer (nullable = true)\n",
            " |-- SenderHourFreq: integer (nullable = true)\n",
            " |-- SenderCurrencyFreq: integer (nullable = true)\n",
            " |-- SenderCurrencyAmtAvg: double (nullable = true)\n",
            " |-- SenderReceiverFreq: integer (nullable = true)\n",
            "\n"
          ]
        }
      ]
    },
    {
      "cell_type": "code",
      "source": [
        "# Print schema of test dataframe\n",
        "test_df_preprocessed.printSchema()"
      ],
      "metadata": {
        "colab": {
          "base_uri": "https://localhost:8080/",
          "height": 221
        },
        "id": "SAlIlsWPVObJ",
        "outputId": "0ed76f05-c458-40b4-fc7e-bb1f8dad866c"
      },
      "execution_count": 16,
      "outputs": [
        {
          "output_type": "display_data",
          "data": {
            "text/plain": [
              "<IPython.core.display.HTML object>"
            ],
            "text/html": [
              "\n",
              "    <style>\n",
              "      pre {\n",
              "          white-space: pre-wrap;\n",
              "      }\n",
              "    </style>\n",
              "    "
            ]
          },
          "metadata": {}
        },
        {
          "output_type": "stream",
          "name": "stdout",
          "text": [
            "root\n",
            " |-- MessageId: string (nullable = true)\n",
            " |-- SettlementAmount: double (nullable = true)\n",
            " |-- InstructedCurrency: string (nullable = true)\n",
            " |-- InstructedAmount: double (nullable = true)\n",
            " |-- Label: integer (nullable = true)\n",
            " |-- Hour: integer (nullable = true)\n",
            " |-- SenderHourFreq: integer (nullable = true)\n",
            " |-- SenderCurrencyFreq: integer (nullable = true)\n",
            " |-- SenderCurrencyAmtAvg: double (nullable = true)\n",
            " |-- SenderReceiverFreq: integer (nullable = true)\n",
            "\n"
          ]
        }
      ]
    },
    {
      "cell_type": "code",
      "source": [
        "# Display first 5 rows of resampled_df dataframe\n",
        "resampled_df.drop('MessageId').show(n=5, truncate=False)"
      ],
      "metadata": {
        "colab": {
          "base_uri": "https://localhost:8080/",
          "height": 204
        },
        "id": "TLnd1x73WhU-",
        "outputId": "7432bc68-36ec-4228-b489-ac785d4719c2"
      },
      "execution_count": 19,
      "outputs": [
        {
          "output_type": "display_data",
          "data": {
            "text/plain": [
              "<IPython.core.display.HTML object>"
            ],
            "text/html": [
              "\n",
              "    <style>\n",
              "      pre {\n",
              "          white-space: pre-wrap;\n",
              "      }\n",
              "    </style>\n",
              "    "
            ]
          },
          "metadata": {}
        },
        {
          "output_type": "stream",
          "name": "stdout",
          "text": [
            "+----------------+------------------+----------------+-----+----+--------------+------------------+--------------------+------------------+\n",
            "|SettlementAmount|InstructedCurrency|InstructedAmount|Label|Hour|SenderHourFreq|SenderCurrencyFreq|SenderCurrencyAmtAvg|SenderReceiverFreq|\n",
            "+----------------+------------------+----------------+-----+----+--------------+------------------+--------------------+------------------+\n",
            "|2.28982271419E9 |EUR               |2.04576315036E9 |0    |11  |536611        |1402533           |1.8253516160989076E8|1629189           |\n",
            "|2.18142740428E9 |EUR               |1.94892109737E9 |0    |12  |70646         |1402533           |1.8253516160989076E8|1629189           |\n",
            "|5407563.54      |EUR               |4831201.23      |0    |9   |50129         |1402533           |1.8253516160989076E8|1629189           |\n",
            "|3273391.59      |GBP               |2630693.23      |0    |11  |536611        |218987            |3691762.8543079915  |1629189           |\n",
            "|375812.89       |USD               |375812.89       |0    |4   |31334         |514627            |4998350.565032887   |514627            |\n",
            "+----------------+------------------+----------------+-----+----+--------------+------------------+--------------------+------------------+\n",
            "only showing top 5 rows\n",
            "\n"
          ]
        }
      ]
    },
    {
      "cell_type": "code",
      "source": [
        "# Display first 5 rows of test_df_preprocessed dataframe\n",
        "test_df_preprocessed.drop('MessageId').show(n=5, truncate=False)"
      ],
      "metadata": {
        "colab": {
          "base_uri": "https://localhost:8080/",
          "height": 204
        },
        "id": "7WB9ibsFWhC3",
        "outputId": "0169133f-a090-4be7-cdf8-3ba5d8557173"
      },
      "execution_count": 20,
      "outputs": [
        {
          "output_type": "display_data",
          "data": {
            "text/plain": [
              "<IPython.core.display.HTML object>"
            ],
            "text/html": [
              "\n",
              "    <style>\n",
              "      pre {\n",
              "          white-space: pre-wrap;\n",
              "      }\n",
              "    </style>\n",
              "    "
            ]
          },
          "metadata": {}
        },
        {
          "output_type": "stream",
          "name": "stdout",
          "text": [
            "+----------------+------------------+----------------+-----+----+--------------+------------------+--------------------+------------------+\n",
            "|SettlementAmount|InstructedCurrency|InstructedAmount|Label|Hour|SenderHourFreq|SenderCurrencyFreq|SenderCurrencyAmtAvg|SenderReceiverFreq|\n",
            "+----------------+------------------+----------------+-----+----+--------------+------------------+--------------------+------------------+\n",
            "|1585724.74      |JPY               |1.61477062E8    |0    |22  |3455          |20944             |9.956381033034086E11|4362              |\n",
            "|2862743.17      |GBP               |2862743.17      |0    |13  |30133         |529744            |1674064.4259055888  |261994            |\n",
            "|5139383.79      |GBP               |4130341.39      |0    |16  |45272         |218987            |3691762.8543079915  |1629189           |\n",
            "|6107360.55      |EUR               |5456410.75      |0    |11  |536611        |1402533           |1.8253516160989076E8|1629189           |\n",
            "|3365712.14      |GBP               |3365692.14      |0    |14  |25641         |529744            |1674064.4259055888  |267752            |\n",
            "+----------------+------------------+----------------+-----+----+--------------+------------------+--------------------+------------------+\n",
            "only showing top 5 rows\n",
            "\n"
          ]
        }
      ]
    },
    {
      "cell_type": "code",
      "source": [
        "# Print number of null/missing values in each column of resampled_df\n",
        "resampled_df_null = resampled_df.select([F.count(F.when(F.col(c).isNull() | F.isnan(c), c))\\\n",
        "                                         .alias(c) for c in resampled_df.columns])\n",
        "\n",
        "print('Number of null/missing values per column:\\n')\n",
        "resampled_df_null.show(vertical=True, truncate=False)"
      ],
      "metadata": {
        "colab": {
          "base_uri": "https://localhost:8080/",
          "height": 255
        },
        "id": "vgwDWQtAVOk1",
        "outputId": "03d961a4-3f6b-46e0-eb3e-fc482b2cbeb1"
      },
      "execution_count": 17,
      "outputs": [
        {
          "output_type": "display_data",
          "data": {
            "text/plain": [
              "<IPython.core.display.HTML object>"
            ],
            "text/html": [
              "\n",
              "    <style>\n",
              "      pre {\n",
              "          white-space: pre-wrap;\n",
              "      }\n",
              "    </style>\n",
              "    "
            ]
          },
          "metadata": {}
        },
        {
          "output_type": "stream",
          "name": "stdout",
          "text": [
            "Number of null/missing values per column:\n",
            "\n",
            "-RECORD 0-------------------\n",
            " MessageId            | 0   \n",
            " SettlementAmount     | 0   \n",
            " InstructedCurrency   | 0   \n",
            " InstructedAmount     | 0   \n",
            " Label                | 0   \n",
            " Hour                 | 0   \n",
            " SenderHourFreq       | 0   \n",
            " SenderCurrencyFreq   | 0   \n",
            " SenderCurrencyAmtAvg | 0   \n",
            " SenderReceiverFreq   | 0   \n",
            "\n"
          ]
        }
      ]
    },
    {
      "cell_type": "code",
      "source": [
        "# Print number of null/missing values in each column of resampled_df\n",
        "test_df_preprocessed_null = test_df_preprocessed.select([F.count(F.when(F.col(c).isNull() | F.isnan(c), c))\\\n",
        "                                                         .alias(c) for c in test_df_preprocessed.columns])\n",
        "\n",
        "print('Number of null/missing values per column:\\n')\n",
        "test_df_preprocessed_null.show(vertical=True, truncate=False)"
      ],
      "metadata": {
        "colab": {
          "base_uri": "https://localhost:8080/",
          "height": 255
        },
        "id": "pPyETEqTVAxo",
        "outputId": "2eb3ef79-cf9a-443d-e94a-eecf6b056cd9"
      },
      "execution_count": 18,
      "outputs": [
        {
          "output_type": "display_data",
          "data": {
            "text/plain": [
              "<IPython.core.display.HTML object>"
            ],
            "text/html": [
              "\n",
              "    <style>\n",
              "      pre {\n",
              "          white-space: pre-wrap;\n",
              "      }\n",
              "    </style>\n",
              "    "
            ]
          },
          "metadata": {}
        },
        {
          "output_type": "stream",
          "name": "stdout",
          "text": [
            "Number of null/missing values per column:\n",
            "\n",
            "-RECORD 0-------------------\n",
            " MessageId            | 0   \n",
            " SettlementAmount     | 0   \n",
            " InstructedCurrency   | 0   \n",
            " InstructedAmount     | 0   \n",
            " Label                | 0   \n",
            " Hour                 | 0   \n",
            " SenderHourFreq       | 0   \n",
            " SenderCurrencyFreq   | 0   \n",
            " SenderCurrencyAmtAvg | 0   \n",
            " SenderReceiverFreq   | 0   \n",
            "\n"
          ]
        }
      ]
    },
    {
      "cell_type": "code",
      "source": [
        ""
      ],
      "metadata": {
        "id": "eytS6s3lWXio"
      },
      "execution_count": null,
      "outputs": []
    },
    {
      "cell_type": "code",
      "source": [
        ""
      ],
      "metadata": {
        "id": "ndf2Vu3xWzKy"
      },
      "execution_count": null,
      "outputs": []
    },
    {
      "cell_type": "code",
      "source": [
        ""
      ],
      "metadata": {
        "id": "3YdFfLtdWzRd"
      },
      "execution_count": null,
      "outputs": []
    },
    {
      "cell_type": "code",
      "source": [
        ""
      ],
      "metadata": {
        "id": "s6X8UUZCWzXN"
      },
      "execution_count": null,
      "outputs": []
    },
    {
      "cell_type": "code",
      "source": [
        ""
      ],
      "metadata": {
        "id": "GEIvAPM5Wzcq"
      },
      "execution_count": null,
      "outputs": []
    },
    {
      "cell_type": "code",
      "source": [
        ""
      ],
      "metadata": {
        "id": "3s3zpOEkWzhu"
      },
      "execution_count": null,
      "outputs": []
    },
    {
      "cell_type": "code",
      "source": [
        ""
      ],
      "metadata": {
        "id": "TJyrAkENWzmR"
      },
      "execution_count": null,
      "outputs": []
    }
  ]
}