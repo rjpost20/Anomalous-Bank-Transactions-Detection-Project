{
  "nbformat": 4,
  "nbformat_minor": 0,
  "metadata": {
    "colab": {
      "name": "Notebook-3_Modeling-Analysis-Results.ipynb",
      "provenance": [],
      "collapsed_sections": [],
      "machine_shape": "hm",
      "authorship_tag": "ABX9TyMtiJ8eQS92XHDMcl1Ve0dj"
    },
    "kernelspec": {
      "name": "python3",
      "display_name": "Python 3"
    },
    "language_info": {
      "name": "python"
    },
    "gpuClass": "standard"
  },
  "cells": [
    {
      "cell_type": "markdown",
      "source": [
        "<img src=\"https://github.com/rjpost20/Anomalous-Bank-Transactions-Detection-Project/blob/main/data/AdobeStock_319163865.jpeg?raw=true\">\n",
        "Image by <a href=\"https://stock.adobe.com/contributor/200768506/andsus?load_type=author&prev_url=detail\" >AndSus</a> on Adobe Stock"
      ],
      "metadata": {
        "id": "_6bs9GYKTazR"
      }
    },
    {
      "cell_type": "markdown",
      "source": [
        "# Phase 5 Project: *Detecting Anomalous Financial Transactions*"
      ],
      "metadata": {
        "id": "7VB6bZymTwee"
      }
    },
    {
      "cell_type": "markdown",
      "source": [
        "## Notebook 3: Modeling, Analysis and Results"
      ],
      "metadata": {
        "id": "nCbcIwMIT8L2"
      }
    },
    {
      "cell_type": "markdown",
      "source": [
        "### By Ryan Posternak"
      ],
      "metadata": {
        "id": "xIF5Rp36UDq8"
      }
    },
    {
      "cell_type": "markdown",
      "source": [
        "Flatiron School, Full-Time Live NYC<br>\n",
        "Project Presentation Date: August 25th, 2022<br>\n",
        "Instructor: Joseph Mata"
      ],
      "metadata": {
        "id": "02ym0eygUI_s"
      }
    },
    {
      "cell_type": "markdown",
      "source": [
        "<br>"
      ],
      "metadata": {
        "id": "tITdkCs8UbQf"
      }
    },
    {
      "cell_type": "markdown",
      "source": [
        "# Imports and Reading in Data"
      ],
      "metadata": {
        "id": "YVvo7KHTUQbw"
      }
    },
    {
      "cell_type": "markdown",
      "source": [
        "### Google colab compatibility downloads"
      ],
      "metadata": {
        "id": "xsGuZAD3URpn"
      }
    },
    {
      "cell_type": "code",
      "source": [
        "!sudo apt update\n",
        "!apt-get install openjdk-8-jdk-headless -qq > /dev/null\n",
        "!wget -q https://dlcdn.apache.org/spark/spark-3.3.0/spark-3.3.0-bin-hadoop3.tgz \n",
        "!tar xf spark-3.3.0-bin-hadoop3.tgz\n",
        "import os\n",
        "os.environ[\"JAVA_HOME\"] = \"/usr/lib/jvm/java-8-openjdk-amd64\"\n",
        "os.environ[\"SPARK_HOME\"] = \"/content/spark-3.3.0-bin-hadoop3\"\n",
        "!pip install pyspark==3.3.0\n",
        "!pip install -q findspark\n",
        "import findspark\n",
        "findspark.init()"
      ],
      "metadata": {
        "colab": {
          "base_uri": "https://localhost:8080/"
        },
        "id": "5vbzjcsbUSJ1",
        "outputId": "a4570924-e7e6-46be-fde4-050b748d75e7"
      },
      "execution_count": 1,
      "outputs": [
        {
          "output_type": "stream",
          "name": "stdout",
          "text": [
            "\u001b[33m\r0% [Working]\u001b[0m\r            \rGet:1 http://security.ubuntu.com/ubuntu bionic-security InRelease [88.7 kB]\n",
            "Get:2 https://cloud.r-project.org/bin/linux/ubuntu bionic-cran40/ InRelease [3,626 B]\n",
            "Get:3 http://ppa.launchpad.net/c2d4u.team/c2d4u4.0+/ubuntu bionic InRelease [15.9 kB]\n",
            "Hit:4 http://archive.ubuntu.com/ubuntu bionic InRelease\n",
            "Ign:5 https://developer.download.nvidia.com/compute/machine-learning/repos/ubuntu1804/x86_64  InRelease\n",
            "Get:6 https://developer.download.nvidia.com/compute/cuda/repos/ubuntu1804/x86_64  InRelease [1,581 B]\n",
            "Get:7 http://archive.ubuntu.com/ubuntu bionic-updates InRelease [88.7 kB]\n",
            "Hit:8 https://developer.download.nvidia.com/compute/machine-learning/repos/ubuntu1804/x86_64  Release\n",
            "Get:9 http://security.ubuntu.com/ubuntu bionic-security/main amd64 Packages [2,937 kB]\n",
            "Hit:10 http://ppa.launchpad.net/cran/libgit2/ubuntu bionic InRelease\n",
            "Get:11 http://security.ubuntu.com/ubuntu bionic-security/universe amd64 Packages [1,533 kB]\n",
            "Get:12 http://archive.ubuntu.com/ubuntu bionic-backports InRelease [74.6 kB]\n",
            "Hit:13 http://ppa.launchpad.net/deadsnakes/ppa/ubuntu bionic InRelease\n",
            "Get:14 https://developer.download.nvidia.com/compute/cuda/repos/ubuntu1804/x86_64  Packages [910 kB]\n",
            "Hit:15 http://ppa.launchpad.net/graphics-drivers/ppa/ubuntu bionic InRelease\n",
            "Get:17 http://ppa.launchpad.net/c2d4u.team/c2d4u4.0+/ubuntu bionic/main Sources [2,095 kB]\n",
            "Get:18 http://archive.ubuntu.com/ubuntu bionic-updates/main amd64 Packages [3,369 kB]\n",
            "Get:19 http://archive.ubuntu.com/ubuntu bionic-updates/universe amd64 Packages [2,311 kB]\n",
            "Get:20 http://ppa.launchpad.net/c2d4u.team/c2d4u4.0+/ubuntu bionic/main amd64 Packages [1,073 kB]\n",
            "Fetched 14.5 MB in 2s (7,037 kB/s)\n",
            "Reading package lists... Done\n",
            "Building dependency tree       \n",
            "Reading state information... Done\n",
            "25 packages can be upgraded. Run 'apt list --upgradable' to see them.\n",
            "Looking in indexes: https://pypi.org/simple, https://us-python.pkg.dev/colab-wheels/public/simple/\n",
            "Collecting pyspark==3.3.0\n",
            "  Downloading pyspark-3.3.0.tar.gz (281.3 MB)\n",
            "\u001b[K     |████████████████████████████████| 281.3 MB 46 kB/s \n",
            "\u001b[?25hCollecting py4j==0.10.9.5\n",
            "  Downloading py4j-0.10.9.5-py2.py3-none-any.whl (199 kB)\n",
            "\u001b[K     |████████████████████████████████| 199 kB 70.7 MB/s \n",
            "\u001b[?25hBuilding wheels for collected packages: pyspark\n",
            "  Building wheel for pyspark (setup.py) ... \u001b[?25l\u001b[?25hdone\n",
            "  Created wheel for pyspark: filename=pyspark-3.3.0-py2.py3-none-any.whl size=281764026 sha256=36eb4f3e0f88d43232e985afa4a4b903e312ad8c2dfd6fb78089939d87f1138d\n",
            "  Stored in directory: /root/.cache/pip/wheels/7a/8e/1b/f73a52650d2e5f337708d9f6a1750d451a7349a867f928b885\n",
            "Successfully built pyspark\n",
            "Installing collected packages: py4j, pyspark\n",
            "Successfully installed py4j-0.10.9.5 pyspark-3.3.0\n"
          ]
        }
      ]
    },
    {
      "cell_type": "code",
      "source": [
        "# Connect to Google drive\n",
        "from google.colab import drive, files\n",
        "drive.mount('/content/drive')"
      ],
      "metadata": {
        "colab": {
          "base_uri": "https://localhost:8080/"
        },
        "id": "ZL5VI-6OUSmC",
        "outputId": "ea1d6afd-f775-411d-9409-7ae7ffc9c2f8"
      },
      "execution_count": 2,
      "outputs": [
        {
          "output_type": "stream",
          "name": "stdout",
          "text": [
            "Mounted at /content/drive\n"
          ]
        }
      ]
    },
    {
      "cell_type": "code",
      "source": [
        "import numpy as np\n",
        "import pandas as pd\n",
        "from itertools import chain\n",
        "import os\n",
        "\n",
        "from pyspark.sql import SparkSession\n",
        "import pyspark.sql.functions as F\n",
        "from pyspark.sql.types import StringType, IntegerType, DoubleType\n",
        "from pyspark.ml.feature import StringIndexer, OneHotEncoder, VectorAssembler, StandardScaler\n",
        "from pyspark.ml import Pipeline\n",
        "from pyspark.ml.classification import LogisticRegression\n",
        "from pyspark.ml.evaluation import BinaryClassificationEvaluator, MulticlassClassificationEvaluator\n",
        "from pyspark.ml.tuning import ParamGridBuilder, TrainValidationSplit\n",
        "\n",
        "from sklearn.metrics import confusion_matrix, ConfusionMatrixDisplay, classification_report\n",
        "\n",
        "import seaborn as sns\n",
        "from IPython.display import HTML, display\n",
        "%matplotlib inline\n",
        "%config InlineBackend.figure_format='retina'"
      ],
      "metadata": {
        "id": "rKWlJ4EbUTF0"
      },
      "execution_count": 3,
      "outputs": []
    },
    {
      "cell_type": "code",
      "source": [
        "# Check Colab GPU info\n",
        "gpu_info = !nvidia-smi\n",
        "gpu_info = '\\n'.join(gpu_info)\n",
        "if gpu_info.find('failed') >= 0:\n",
        "    print('Not connected to a GPU')\n",
        "else:\n",
        "    print(gpu_info)"
      ],
      "metadata": {
        "id": "meNh4v-1VAPw",
        "colab": {
          "base_uri": "https://localhost:8080/"
        },
        "outputId": "dee3d01c-7c28-4692-fb17-342b3774c17b"
      },
      "execution_count": 4,
      "outputs": [
        {
          "output_type": "stream",
          "name": "stdout",
          "text": [
            "Not connected to a GPU\n"
          ]
        }
      ]
    },
    {
      "cell_type": "code",
      "source": [
        "# Check Colab RAM info\n",
        "from psutil import virtual_memory\n",
        "ram_gb = virtual_memory().total / 1e9\n",
        "print('Your runtime has {:.1f} gigabytes of available RAM\\n'.format(ram_gb))\n",
        "\n",
        "if ram_gb < 20:\n",
        "  print('Not using a high-RAM runtime')\n",
        "else:\n",
        "  print('You are using a high-RAM runtime!')"
      ],
      "metadata": {
        "colab": {
          "base_uri": "https://localhost:8080/"
        },
        "id": "PE0CcaaTrsP9",
        "outputId": "2bccb2ed-07b3-4894-a88d-f0564a6cec47"
      },
      "execution_count": 5,
      "outputs": [
        {
          "output_type": "stream",
          "name": "stdout",
          "text": [
            "Your runtime has 54.8 gigabytes of available RAM\n",
            "\n",
            "You are using a high-RAM runtime!\n"
          ]
        }
      ]
    },
    {
      "cell_type": "code",
      "source": [
        "# Set text to wrap in Google colab notebook\n",
        "def set_css():\n",
        "    display(HTML(\"\"\"\n",
        "    <style>\n",
        "      pre {\n",
        "          white-space: pre-wrap;\n",
        "      }\n",
        "    </style>\n",
        "    \"\"\"))\n",
        "get_ipython().events.register('pre_run_cell', set_css)"
      ],
      "metadata": {
        "id": "7Q03mQqlVAa-"
      },
      "execution_count": 6,
      "outputs": []
    },
    {
      "cell_type": "code",
      "source": [
        "# Initialize Spark Session\n",
        "spark = SparkSession.builder\\\n",
        "        .master(\"local[*]\")\\\n",
        "        .appName(\"Colab\")\\\n",
        "        .config(\"spark.ui.port\", \"4050\")\\\n",
        "        .config(\"spark.driver.memory\", \"15g\")\\\n",
        "        .getOrCreate()\n",
        "\n",
        "spark"
      ],
      "metadata": {
        "colab": {
          "base_uri": "https://localhost:8080/",
          "height": 221
        },
        "id": "NLJkXpZlVAi5",
        "outputId": "b4f69bf7-1836-4b9f-ad62-1c267af617cc"
      },
      "execution_count": 7,
      "outputs": [
        {
          "output_type": "display_data",
          "data": {
            "text/plain": [
              "<IPython.core.display.HTML object>"
            ],
            "text/html": [
              "\n",
              "    <style>\n",
              "      pre {\n",
              "          white-space: pre-wrap;\n",
              "      }\n",
              "    </style>\n",
              "    "
            ]
          },
          "metadata": {}
        },
        {
          "output_type": "execute_result",
          "data": {
            "text/plain": [
              "<pyspark.sql.session.SparkSession at 0x7f7f170a9850>"
            ],
            "text/html": [
              "\n",
              "            <div>\n",
              "                <p><b>SparkSession - in-memory</b></p>\n",
              "                \n",
              "        <div>\n",
              "            <p><b>SparkContext</b></p>\n",
              "\n",
              "            <p><a href=\"http://edd8d346971b:4050\">Spark UI</a></p>\n",
              "\n",
              "            <dl>\n",
              "              <dt>Version</dt>\n",
              "                <dd><code>v3.3.0</code></dd>\n",
              "              <dt>Master</dt>\n",
              "                <dd><code>local[*]</code></dd>\n",
              "              <dt>AppName</dt>\n",
              "                <dd><code>Colab</code></dd>\n",
              "            </dl>\n",
              "        </div>\n",
              "        \n",
              "            </div>\n",
              "        "
            ]
          },
          "metadata": {},
          "execution_count": 7
        }
      ]
    },
    {
      "cell_type": "code",
      "source": [
        "# Read in weighted_df and resampled_df (training data) and test_df_preprocessed (testing data) data csv files as Spark DataFrames\n",
        "train_df_weighted = spark.read.csv('/content/drive/MyDrive/Colab Notebooks/train_df_weighted.csv', header=True, inferSchema=True)\n",
        "train_df_resampled = spark.read.csv('/content/drive/MyDrive/Colab Notebooks/train_df_resampled.csv', header=True, inferSchema=True)\n",
        "\n",
        "test_df_preprocessed = spark.read.csv('/content/drive/MyDrive/Colab Notebooks/test_df_preprocessed.csv', header=True, inferSchema=True)"
      ],
      "metadata": {
        "colab": {
          "base_uri": "https://localhost:8080/",
          "height": 17
        },
        "id": "2XuhVucTVAqb",
        "outputId": "4db08198-356c-4b68-b2b6-d099d412ba51"
      },
      "execution_count": 8,
      "outputs": [
        {
          "output_type": "display_data",
          "data": {
            "text/plain": [
              "<IPython.core.display.HTML object>"
            ],
            "text/html": [
              "\n",
              "    <style>\n",
              "      pre {\n",
              "          white-space: pre-wrap;\n",
              "      }\n",
              "    </style>\n",
              "    "
            ]
          },
          "metadata": {}
        }
      ]
    },
    {
      "cell_type": "code",
      "source": [
        "# Print shape of dataframes\n",
        "print(f\"train_df_weighted:  {train_df_weighted.count():,} Rows, {len(train_df_weighted.columns)} Columns\")\n",
        "print(f\"train_df_resampled:  {train_df_resampled.count():,} Rows, {len(train_df_resampled.columns)} Columns\")\n",
        "\n",
        "print(f\"test_df_preprocessed:  {test_df_preprocessed.count():,} Rows, {len(test_df_preprocessed.columns)} Columns\")"
      ],
      "metadata": {
        "id": "UcoMf27IVOLC",
        "colab": {
          "base_uri": "https://localhost:8080/",
          "height": 71
        },
        "outputId": "673fcb58-d4b6-4e4f-8254-888b25671ed3"
      },
      "execution_count": 10,
      "outputs": [
        {
          "output_type": "display_data",
          "data": {
            "text/plain": [
              "<IPython.core.display.HTML object>"
            ],
            "text/html": [
              "\n",
              "    <style>\n",
              "      pre {\n",
              "          white-space: pre-wrap;\n",
              "      }\n",
              "    </style>\n",
              "    "
            ]
          },
          "metadata": {}
        },
        {
          "output_type": "stream",
          "name": "stdout",
          "text": [
            "train_df_weighted:  4,691,725 Rows, 15 Columns\n",
            "train_df_resampled:  4,690,479 Rows, 14 Columns\n",
            "test_df_preprocessed:  705,108 Rows, 14 Columns\n"
          ]
        }
      ]
    },
    {
      "cell_type": "code",
      "source": [
        "# Print schema of training dataframes\n",
        "print('train_df_weighted:')\n",
        "train_df_weighted.printSchema()\n",
        "print('\\ntrain_df_resampled:')\n",
        "train_df_resampled.printSchema()"
      ],
      "metadata": {
        "id": "OWm1UBS1VOSH",
        "colab": {
          "base_uri": "https://localhost:8080/",
          "height": 660
        },
        "outputId": "abf81cda-6780-4e4f-ecac-69a377bd84ed"
      },
      "execution_count": 17,
      "outputs": [
        {
          "output_type": "display_data",
          "data": {
            "text/plain": [
              "<IPython.core.display.HTML object>"
            ],
            "text/html": [
              "\n",
              "    <style>\n",
              "      pre {\n",
              "          white-space: pre-wrap;\n",
              "      }\n",
              "    </style>\n",
              "    "
            ]
          },
          "metadata": {}
        },
        {
          "output_type": "stream",
          "name": "stdout",
          "text": [
            "train_df_weighted:\n",
            "root\n",
            " |-- MessageId: string (nullable = true)\n",
            " |-- Label: integer (nullable = true)\n",
            " |-- InstructedAmountUSD: integer (nullable = true)\n",
            " |-- IntermediaryTransactions: integer (nullable = true)\n",
            " |-- Flagged: integer (nullable = true)\n",
            " |-- OrderingCountryFreq: integer (nullable = true)\n",
            " |-- BeneficiaryCountryFreq: integer (nullable = true)\n",
            " |-- Hour: integer (nullable = true)\n",
            " |-- SenderHourFreq: integer (nullable = true)\n",
            " |-- SenderCurrencyFreq: integer (nullable = true)\n",
            " |-- SenderCurrencyAmtAvg: integer (nullable = true)\n",
            " |-- SenderFreq: integer (nullable = true)\n",
            " |-- ReceiverFreq: integer (nullable = true)\n",
            " |-- SenderReceiverFreq: integer (nullable = true)\n",
            " |-- ClassWeight: double (nullable = true)\n",
            "\n",
            "\n",
            "train_df_resampled:\n",
            "root\n",
            " |-- MessageId: string (nullable = true)\n",
            " |-- Label: integer (nullable = true)\n",
            " |-- InstructedAmountUSD: integer (nullable = true)\n",
            " |-- IntermediaryTransactions: integer (nullable = true)\n",
            " |-- Flagged: integer (nullable = true)\n",
            " |-- OrderingCountryFreq: integer (nullable = true)\n",
            " |-- BeneficiaryCountryFreq: integer (nullable = true)\n",
            " |-- Hour: integer (nullable = true)\n",
            " |-- SenderHourFreq: integer (nullable = true)\n",
            " |-- SenderCurrencyFreq: integer (nullable = true)\n",
            " |-- SenderCurrencyAmtAvg: integer (nullable = true)\n",
            " |-- SenderFreq: integer (nullable = true)\n",
            " |-- ReceiverFreq: integer (nullable = true)\n",
            " |-- SenderReceiverFreq: integer (nullable = true)\n",
            "\n"
          ]
        }
      ]
    },
    {
      "cell_type": "code",
      "source": [
        "# Print schema of test dataframe\n",
        "print('test_df_preprocessed:')\n",
        "test_df_preprocessed.printSchema()"
      ],
      "metadata": {
        "id": "SAlIlsWPVObJ",
        "colab": {
          "base_uri": "https://localhost:8080/",
          "height": 321
        },
        "outputId": "bffaf571-32b5-4f29-f673-b26397b94379"
      },
      "execution_count": 18,
      "outputs": [
        {
          "output_type": "display_data",
          "data": {
            "text/plain": [
              "<IPython.core.display.HTML object>"
            ],
            "text/html": [
              "\n",
              "    <style>\n",
              "      pre {\n",
              "          white-space: pre-wrap;\n",
              "      }\n",
              "    </style>\n",
              "    "
            ]
          },
          "metadata": {}
        },
        {
          "output_type": "stream",
          "name": "stdout",
          "text": [
            "test_df_preprocessed:\n",
            "root\n",
            " |-- MessageId: string (nullable = true)\n",
            " |-- Label: integer (nullable = true)\n",
            " |-- InstructedAmountUSD: integer (nullable = true)\n",
            " |-- IntermediaryTransactions: integer (nullable = true)\n",
            " |-- Flagged: integer (nullable = true)\n",
            " |-- OrderingCountryFreq: integer (nullable = true)\n",
            " |-- BeneficiaryCountryFreq: integer (nullable = true)\n",
            " |-- Hour: integer (nullable = true)\n",
            " |-- SenderHourFreq: integer (nullable = true)\n",
            " |-- SenderCurrencyFreq: integer (nullable = true)\n",
            " |-- SenderCurrencyAmtAvg: integer (nullable = true)\n",
            " |-- SenderFreq: integer (nullable = true)\n",
            " |-- ReceiverFreq: integer (nullable = true)\n",
            " |-- SenderReceiverFreq: integer (nullable = true)\n",
            "\n"
          ]
        }
      ]
    },
    {
      "cell_type": "code",
      "source": [
        "# Drop 'MessageId' individual transaction identifier column - will not be used in modeling\n",
        "train_df_weighted = train_df_weighted.drop('MessageId')\n",
        "train_df_resampled = train_df_resampled.drop('MessageId')\n",
        "test_df_preprocessed = test_df_preprocessed.drop('MessageId')\n",
        "\n",
        "# Rename target variable 'Label' column to more descriptive 'Anomalous'\n",
        "train_df_weighted = train_df_weighted.withColumnRenamed('Label', 'Anomalous')\n",
        "train_df_resampled = train_df_resampled.withColumnRenamed('Label', 'Anomalous')\n",
        "test_df_preprocessed = test_df_preprocessed.withColumnRenamed('Label', 'Anomalous')"
      ],
      "metadata": {
        "colab": {
          "base_uri": "https://localhost:8080/",
          "height": 17
        },
        "id": "s7nTo2BMXmWS",
        "outputId": "f3c0bf1b-fc7c-4cd9-89e9-f1223d358d34"
      },
      "execution_count": 19,
      "outputs": [
        {
          "output_type": "display_data",
          "data": {
            "text/plain": [
              "<IPython.core.display.HTML object>"
            ],
            "text/html": [
              "\n",
              "    <style>\n",
              "      pre {\n",
              "          white-space: pre-wrap;\n",
              "      }\n",
              "    </style>\n",
              "    "
            ]
          },
          "metadata": {}
        }
      ]
    },
    {
      "cell_type": "code",
      "source": [
        "# Display first row of train_df_weighted dataframe\n",
        "train_df_weighted.show(n=1, truncate=False, vertical=True)"
      ],
      "metadata": {
        "colab": {
          "base_uri": "https://localhost:8080/",
          "height": 321
        },
        "id": "B2jaFCBIwpiM",
        "outputId": "a3f9add2-bab5-4e69-a7fb-c00ed5d009b8"
      },
      "execution_count": 22,
      "outputs": [
        {
          "output_type": "display_data",
          "data": {
            "text/plain": [
              "<IPython.core.display.HTML object>"
            ],
            "text/html": [
              "\n",
              "    <style>\n",
              "      pre {\n",
              "          white-space: pre-wrap;\n",
              "      }\n",
              "    </style>\n",
              "    "
            ]
          },
          "metadata": {}
        },
        {
          "output_type": "stream",
          "name": "stdout",
          "text": [
            "-RECORD 0-----------------------------------------\n",
            " Anomalous                | 0                     \n",
            " InstructedAmountUSD      | 519149                \n",
            " IntermediaryTransactions | 0                     \n",
            " Flagged                  | 0                     \n",
            " OrderingCountryFreq      | 73733                 \n",
            " BeneficiaryCountryFreq   | 40984                 \n",
            " Hour                     | 8                     \n",
            " SenderHourFreq           | 47559                 \n",
            " SenderCurrencyFreq       | 73733                 \n",
            " SenderCurrencyAmtAvg     | 1906631               \n",
            " SenderFreq               | 73733                 \n",
            " ReceiverFreq             | 41012                 \n",
            " SenderReceiverFreq       | 40984                 \n",
            " ClassWeight              | 0.0010443919880214632 \n",
            "only showing top 1 row\n",
            "\n"
          ]
        }
      ]
    },
    {
      "cell_type": "code",
      "source": [
        "# Display first row of resampled_df dataframe\n",
        "train_df_resampled.show(n=1, truncate=False, vertical=True)"
      ],
      "metadata": {
        "id": "TLnd1x73WhU-",
        "colab": {
          "base_uri": "https://localhost:8080/",
          "height": 303
        },
        "outputId": "d0a228ea-0256-463c-f532-a8229722d189"
      },
      "execution_count": 21,
      "outputs": [
        {
          "output_type": "display_data",
          "data": {
            "text/plain": [
              "<IPython.core.display.HTML object>"
            ],
            "text/html": [
              "\n",
              "    <style>\n",
              "      pre {\n",
              "          white-space: pre-wrap;\n",
              "      }\n",
              "    </style>\n",
              "    "
            ]
          },
          "metadata": {}
        },
        {
          "output_type": "stream",
          "name": "stdout",
          "text": [
            "-RECORD 0---------------------------\n",
            " Anomalous                | 0       \n",
            " InstructedAmountUSD      | 809115  \n",
            " IntermediaryTransactions | 0       \n",
            " Flagged                  | 0       \n",
            " OrderingCountryFreq      | 49092   \n",
            " BeneficiaryCountryFreq   | 116098  \n",
            " Hour                     | 5       \n",
            " SenderHourFreq           | 11206   \n",
            " SenderCurrencyFreq       | 49092   \n",
            " SenderCurrencyAmtAvg     | 1907059 \n",
            " SenderFreq               | 49092   \n",
            " ReceiverFreq             | 116135  \n",
            " SenderReceiverFreq       | 49092   \n",
            "only showing top 1 row\n",
            "\n"
          ]
        }
      ]
    },
    {
      "cell_type": "code",
      "source": [
        "# Display first row of test_df_preprocessed dataframe\n",
        "test_df_preprocessed.show(n=1, truncate=False, vertical=True)"
      ],
      "metadata": {
        "id": "7WB9ibsFWhC3",
        "colab": {
          "base_uri": "https://localhost:8080/",
          "height": 303
        },
        "outputId": "79d5695c-298b-47e1-e91c-4ab184913a6f"
      },
      "execution_count": 23,
      "outputs": [
        {
          "output_type": "display_data",
          "data": {
            "text/plain": [
              "<IPython.core.display.HTML object>"
            ],
            "text/html": [
              "\n",
              "    <style>\n",
              "      pre {\n",
              "          white-space: pre-wrap;\n",
              "      }\n",
              "    </style>\n",
              "    "
            ]
          },
          "metadata": {}
        },
        {
          "output_type": "stream",
          "name": "stdout",
          "text": [
            "-RECORD 0---------------------------\n",
            " Anomalous                | 0       \n",
            " InstructedAmountUSD      | 653958  \n",
            " IntermediaryTransactions | 0       \n",
            " Flagged                  | 0       \n",
            " OrderingCountryFreq      | 73733   \n",
            " BeneficiaryCountryFreq   | 40984   \n",
            " Hour                     | 8       \n",
            " SenderHourFreq           | 47559   \n",
            " SenderCurrencyFreq       | 73733   \n",
            " SenderCurrencyAmtAvg     | 1906631 \n",
            " SenderFreq               | 73733   \n",
            " ReceiverFreq             | 41012   \n",
            " SenderReceiverFreq       | 40984   \n",
            "only showing top 1 row\n",
            "\n"
          ]
        }
      ]
    },
    {
      "cell_type": "markdown",
      "source": [
        "<br>"
      ],
      "metadata": {
        "id": "jTFLL4FrXelJ"
      }
    },
    {
      "cell_type": "markdown",
      "source": [
        "# Create Pipeline to Preprocess and Model Data"
      ],
      "metadata": {
        "id": "eytS6s3lWXio"
      }
    },
    {
      "cell_type": "markdown",
      "source": [
        "### Index string columns with StringIndexer"
      ],
      "metadata": {
        "id": "ndf2Vu3xWzKy"
      }
    },
    {
      "cell_type": "code",
      "source": [
        "stages = []\n",
        "\n",
        "categoricalCols = [item[0] for item in train_df_resampled.dtypes if item[1].startswith('string')]\n",
        "\n",
        "indexers = []\n",
        "\n",
        "for col in categoricalCols:\n",
        "    indexer = StringIndexer(inputCol=col, outputCol=col + '_index', handleInvalid='keep')\n",
        "    indexers.append(indexer)\n",
        "    \n",
        "indexed_features = []\n",
        "for si in indexers:\n",
        "    indexed_features.append(si.getOutputCol())\n",
        "    \n",
        "print(f\"Indexed nominal categorical features: \\n{indexed_features}\")"
      ],
      "metadata": {
        "id": "3YdFfLtdWzRd"
      },
      "execution_count": null,
      "outputs": []
    },
    {
      "cell_type": "markdown",
      "source": [
        "### Create a OneHotEncoder to encode the indexed string features"
      ],
      "metadata": {
        "id": "s6X8UUZCWzXN"
      }
    },
    {
      "cell_type": "code",
      "source": [
        "encoder = OneHotEncoder(inputCols=indexed_features, \n",
        "                        outputCols=[col + '_ohe' for col in indexed_features], \n",
        "                        dropLast=True)\n",
        "\n",
        "print(f\"One hot encoded nominal categorical features: {len(encoder.getOutputCols())}\\n{encoder.getOutputCols()}\")"
      ],
      "metadata": {
        "id": "GEIvAPM5Wzcq"
      },
      "execution_count": null,
      "outputs": []
    },
    {
      "cell_type": "markdown",
      "source": [
        "### Compile numeric features, not including target column or class weight column of train_df_weighted"
      ],
      "metadata": {
        "id": "8EK2-6LwZa8L"
      }
    },
    {
      "cell_type": "code",
      "source": [
        "numeric_features = []\n",
        "for column, dtype in train_df_resampled.dtypes:\n",
        "    if dtype != 'string' and column != 'Anomalous':\n",
        "        numeric_features.append(column)\n",
        "\n",
        "# Confirm equal column counts\n",
        "assert len(train_df_resampled.drop('Anomalous').columns) == (len(indexed_features) + len(numeric_features))\n",
        "print(f\"Numeric features: {len(numeric_features)}\\n{numeric_features}\")"
      ],
      "metadata": {
        "colab": {
          "base_uri": "https://localhost:8080/",
          "height": 71
        },
        "id": "3s3zpOEkWzhu",
        "outputId": "5c9a5955-943e-4be7-b47d-1bf69d5577cb"
      },
      "execution_count": 28,
      "outputs": [
        {
          "output_type": "display_data",
          "data": {
            "text/plain": [
              "<IPython.core.display.HTML object>"
            ],
            "text/html": [
              "\n",
              "    <style>\n",
              "      pre {\n",
              "          white-space: pre-wrap;\n",
              "      }\n",
              "    </style>\n",
              "    "
            ]
          },
          "metadata": {}
        },
        {
          "output_type": "stream",
          "name": "stdout",
          "text": [
            "Numeric features: 12\n",
            "['InstructedAmountUSD', 'IntermediaryTransactions', 'Flagged', 'OrderingCountryFreq', 'BeneficiaryCountryFreq', 'Hour', 'SenderHourFreq', 'SenderCurrencyFreq', 'SenderCurrencyAmtAvg', 'SenderFreq', 'ReceiverFreq', 'SenderReceiverFreq']\n"
          ]
        }
      ]
    },
    {
      "cell_type": "code",
      "source": [
        "# Print names of final features going into the model\n",
        "features = numeric_features\n",
        "print(f\"Final features: {len(features)}\\n{features}\")"
      ],
      "metadata": {
        "colab": {
          "base_uri": "https://localhost:8080/",
          "height": 71
        },
        "id": "TJyrAkENWzmR",
        "outputId": "cc46bf8e-822e-4957-8ea4-d995777eba88"
      },
      "execution_count": 29,
      "outputs": [
        {
          "output_type": "display_data",
          "data": {
            "text/plain": [
              "<IPython.core.display.HTML object>"
            ],
            "text/html": [
              "\n",
              "    <style>\n",
              "      pre {\n",
              "          white-space: pre-wrap;\n",
              "      }\n",
              "    </style>\n",
              "    "
            ]
          },
          "metadata": {}
        },
        {
          "output_type": "stream",
          "name": "stdout",
          "text": [
            "Final features: 12\n",
            "['InstructedAmountUSD', 'IntermediaryTransactions', 'Flagged', 'OrderingCountryFreq', 'BeneficiaryCountryFreq', 'Hour', 'SenderHourFreq', 'SenderCurrencyFreq', 'SenderCurrencyAmtAvg', 'SenderFreq', 'ReceiverFreq', 'SenderReceiverFreq']\n"
          ]
        }
      ]
    },
    {
      "cell_type": "markdown",
      "source": [
        "### Create a VectorAssembler to combine all features"
      ],
      "metadata": {
        "id": "8Iz7ulwAavec"
      }
    },
    {
      "cell_type": "code",
      "source": [
        "assembler = VectorAssembler(inputCols=features, outputCol='vectorized_features')\n",
        "\n",
        "# Assemble a list of stages that includes all indexers, the one hot encoder, the vector \n",
        "# assembler, and the standard scaler\n",
        "scaler = StandardScaler(inputCol='vectorized_features', outputCol='scaled_features')\n",
        "\n",
        "stages = indexers + [encoder, assembler, scaler]\n",
        "print(\"Stages:\", stages)"
      ],
      "metadata": {
        "id": "27pnqdyva17G"
      },
      "execution_count": null,
      "outputs": []
    },
    {
      "cell_type": "markdown",
      "source": [
        "### Create modeling pipeline"
      ],
      "metadata": {
        "id": "ZYwGcc_dbciE"
      }
    },
    {
      "cell_type": "code",
      "source": [
        "pipeline = Pipeline(stages=stages)\n",
        "\n",
        "pipeline_model = pipeline.fit(train_df_resampled)\n",
        "\n",
        "pipeline_df = pipeline_model.transform(train_df_resampled)"
      ],
      "metadata": {
        "id": "MlwoYrCKbjYB"
      },
      "execution_count": null,
      "outputs": []
    },
    {
      "cell_type": "code",
      "source": [
        "# Display first row of resampled_df after running through pipeline\n",
        "pipeline_df.show(1, vertical=True, truncate=False)"
      ],
      "metadata": {
        "id": "STgdImWXbwSl"
      },
      "execution_count": null,
      "outputs": []
    },
    {
      "cell_type": "code",
      "source": [
        "pipeline_test = pipeline.fit(test_df_preprocessed)\n",
        "\n",
        "pipeline_df_test = pipeline_model.transform(test_df_preprocessed)\n",
        "\n",
        "pipeline.fit(test_df_preprocessed).transform(test_df_preprocessed).head()['features'].size"
      ],
      "metadata": {
        "id": "lH2vg1cjbzij"
      },
      "execution_count": null,
      "outputs": []
    },
    {
      "cell_type": "code",
      "source": [
        "# Display first row of test_df_preprocessed after running through pipeline\n",
        "pipeline_df_test.show(1, vertical=True, truncate=False)"
      ],
      "metadata": {
        "id": "1gZDYHp_c2Ea"
      },
      "execution_count": null,
      "outputs": []
    },
    {
      "cell_type": "markdown",
      "source": [
        "<br>"
      ],
      "metadata": {
        "id": "afadW505c914"
      }
    },
    {
      "cell_type": "code",
      "source": [
        "print(vars(BinaryClassificationEvaluator.metricName))"
      ],
      "metadata": {
        "id": "01pyffODijUe"
      },
      "execution_count": null,
      "outputs": []
    },
    {
      "cell_type": "code",
      "source": [
        "def score_model(classifier, train_df, test_df, preprocessing_stages=stages):\n",
        "    # Fit the model and classifier\n",
        "    stages_with_classifier = preprocessing_stages + [classifier]\n",
        "    pipe = Pipeline(stages=stages_with_classifier)\n",
        "    model = pipe.fit(train_df)\n",
        "    # Define evaluator_1 for areaUnderPR (curve)\n",
        "    evaluator_1 = BinaryClassificationEvaluator(rawPredictionCol='rawPrediction', \n",
        "                                                labelCol='Anomalous', \n",
        "                                                metricName=\"areaUnderPR\")\n",
        "    \n",
        "    # Define evaluator_2 for accuracy, precision, recall, and f1 scores\n",
        "    evaluator_2 = MulticlassClassificationEvaluator(predictionCol='prediction', \n",
        "                                                    labelCol='Anomalous')\n",
        "    # Store train and test dataframes in variables\n",
        "    train_results = model.transform(train_df)\n",
        "    test_results = model.transform(test_df)\n",
        "    # Compute accuracy scores on train and test data\n",
        "    train_acc = evaluator_2.evaluate(train_results, {evaluator_2.metricName: 'accuracy'})\n",
        "    test_acc = evaluator_2.evaluate(test_results, {evaluator_2.metricName: 'accuracy'})\n",
        "    # Compute AUPRC scores on train and test data\n",
        "    train_auprc = evaluator_1.evaluate(train_results)\n",
        "    test_auprc = evaluator_1.evaluate(test_results)\n",
        "    # Compute precision scores on test data\n",
        "    test_precision_0 = evaluator_2.evaluate(test_results, \n",
        "                                            {evaluator_2.metricName: 'precisionByLabel', \n",
        "                                             evaluator_2.metricLabel: 0})\n",
        "    test_precision_1 = evaluator_2.evaluate(test_results, \n",
        "                                            {evaluator_2.metricName: 'precisionByLabel', \n",
        "                                             evaluator_2.metricLabel: 1})\n",
        "    # Compute recall scores on test data\n",
        "    test_recall_0 = evaluator_2.evaluate(test_results, \n",
        "                                         {evaluator_2.metricName: 'recallByLabel', \n",
        "                                          evaluator_2.metricLabel: 0})\n",
        "    test_recall_1 = evaluator_2.evaluate(test_results, \n",
        "                                         {evaluator_2.metricName: 'recallByLabel', \n",
        "                                          evaluator_2.metricLabel: 1})\n",
        "\n",
        "    print(classifier, '\\n')\n",
        "    print(f\"Training set accuracy: {round(train_acc, 3)}\", end='\\t')\n",
        "    print(f\"Test set accuracy: {round(test_acc, 3)}\")\n",
        "    print('-'*60)\n",
        "    print(f\"Training set AUPRC: {round(train_auprc, 3)}\", end='\\t')\n",
        "    print(f\"Test set AUPRC: {round(test_auprc, 3)}\")\n",
        "    print('-'*60)\n",
        "    print(\"Test set precision\")\n",
        "    print(f\"Non-anomalous {round(test_precision_0, 3)}\", end='\\t')\n",
        "    print(f\"Anomalous: {round(test_precision_1, 3)}\")\n",
        "    print('-'*60)\n",
        "    print(\"Test set recall\")\n",
        "    print(f\"Non-anomalous: {round(test_recall_0, 3)}\", end='\\t')\n",
        "    print(f\"Anomalous (label 1): {round(test_recall_1, 3)}\")"
      ],
      "metadata": {
        "id": "nZFa8SGgdI0H"
      },
      "execution_count": null,
      "outputs": []
    },
    {
      "cell_type": "code",
      "source": [
        "lr_1 = LogisticRegression(\n",
        "    featuresCol='features',\n",
        "    labelCol='Anomalous',\n",
        "    predictionCol='prediction',\n",
        "    rawPredictionCol='rawPrediction', \n",
        "    standardization=False, \n",
        "    threshold=0.9\n",
        ")"
      ],
      "metadata": {
        "id": "SoNwvO4ndJQu"
      },
      "execution_count": null,
      "outputs": []
    },
    {
      "cell_type": "code",
      "source": [
        "score_model(classifier=lr_1, train_df=train_df_resampled, test_df=test_df_preprocessed)"
      ],
      "metadata": {
        "id": "AFPbdEg3dJYE"
      },
      "execution_count": null,
      "outputs": []
    },
    {
      "cell_type": "code",
      "source": [
        "plot_confusion_matrix(classifier=lr_1, train_df=train_df_resampled, test_df=test_df_preprocessed)"
      ],
      "metadata": {
        "id": "roeqHk9hgPkD"
      },
      "execution_count": null,
      "outputs": []
    },
    {
      "cell_type": "code",
      "source": [
        ""
      ],
      "metadata": {
        "id": "7kXhhEuhgk5H"
      },
      "execution_count": null,
      "outputs": []
    },
    {
      "cell_type": "code",
      "source": [
        ""
      ],
      "metadata": {
        "id": "i0_-CzaxgrbH"
      },
      "execution_count": null,
      "outputs": []
    },
    {
      "cell_type": "code",
      "source": [
        ""
      ],
      "metadata": {
        "id": "SbiNDGEdg1AI"
      },
      "execution_count": null,
      "outputs": []
    },
    {
      "cell_type": "code",
      "source": [
        ""
      ],
      "metadata": {
        "id": "PHx550Oxg45U"
      },
      "execution_count": null,
      "outputs": []
    },
    {
      "cell_type": "code",
      "source": [
        ""
      ],
      "metadata": {
        "id": "lip0jPY2g5l7"
      },
      "execution_count": null,
      "outputs": []
    }
  ]
}