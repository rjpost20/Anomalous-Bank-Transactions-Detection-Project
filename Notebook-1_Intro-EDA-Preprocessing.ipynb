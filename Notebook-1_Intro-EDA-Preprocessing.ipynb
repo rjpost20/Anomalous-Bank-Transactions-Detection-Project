{
  "nbformat": 4,
  "nbformat_minor": 0,
  "metadata": {
    "colab": {
      "name": "Notebook-1_Intro-EDA-Preprocessing",
      "provenance": [],
      "collapsed_sections": [],
      "machine_shape": "hm",
      "authorship_tag": "ABX9TyM01vNR0q2dCQX5InhIxYjN"
    },
    "kernelspec": {
      "name": "python3",
      "display_name": "Python 3"
    },
    "language_info": {
      "name": "python"
    },
    "gpuClass": "standard"
  },
  "cells": [
    {
      "cell_type": "markdown",
      "metadata": {
        "id": "6Kwcbs5bBIV2"
      },
      "source": [
        "<img src=\"https://github.com/rjpost20/Anomalous-Bank-Transactions-Detection-Project/blob/main/data/AdobeStock_319163865.jpeg?raw=true\">\n",
        "Image by <a href=\"https://stock.adobe.com/contributor/200768506/andsus?load_type=author&prev_url=detail\" >AndSus</a> on Adobe Stock"
      ]
    },
    {
      "cell_type": "markdown",
      "metadata": {
        "id": "1853614c-bb9b-4feb-9c74-dd82342eae6a"
      },
      "source": [
        "# Phase 5 Project: *Detecting Anomalous Financial Transactions*"
      ]
    },
    {
      "cell_type": "markdown",
      "metadata": {
        "id": "7d4f907d-ec9f-4226-940a-a649a5decf3a"
      },
      "source": [
        "## Notebook 1: Intro, EDA and Preprocessing"
      ]
    },
    {
      "cell_type": "markdown",
      "metadata": {
        "id": "55a18e8c-9808-4a71-b98f-97f2d040dbc3"
      },
      "source": [
        "### By Ryan Posternak"
      ]
    },
    {
      "cell_type": "markdown",
      "metadata": {
        "id": "f4d4f196-97af-4b2a-beab-2288fd5327ae"
      },
      "source": [
        "Flatiron School, Full-Time Live NYC<br>\n",
        "Project Presentation Date: August 25th, 2022<br>\n",
        "Instructor: Joseph Mata"
      ]
    },
    {
      "cell_type": "markdown",
      "metadata": {
        "id": "9b5ec167-a06b-4ae7-9813-ffe0d77bc69b"
      },
      "source": [
        "## Goal: Build a model for FinCEN that can accurately identify anomalous financial transactions, as measured by area under the precision-recall curve (AUPRC)\n",
        "\n",
        "*This is a project for learning purposes. FinCEN is not involved with this project in any way.*\n",
        "\n",
        "<br>"
      ]
    },
    {
      "cell_type": "markdown",
      "metadata": {
        "id": "1886193f-a8e7-4fa3-8416-18d84d24a49e"
      },
      "source": [
        "# Overview and Business Understanding"
      ]
    },
    {
      "cell_type": "code",
      "execution_count": null,
      "metadata": {
        "id": "7a59a008-35b9-4955-bcd5-2e4ba5da116c"
      },
      "outputs": [],
      "source": [
        ""
      ]
    },
    {
      "cell_type": "markdown",
      "metadata": {
        "id": "f17ed2fb-d360-4f43-a6a0-b7bdae492089"
      },
      "source": [
        "<br>"
      ]
    },
    {
      "cell_type": "markdown",
      "metadata": {
        "id": "870710cc-f45e-4f2a-b61a-6cc21e13c8bb"
      },
      "source": [
        "# Data Understanding"
      ]
    },
    {
      "cell_type": "code",
      "execution_count": null,
      "metadata": {
        "id": "c3c287e4-7d1c-40e5-afb8-f497f77d8bc1"
      },
      "outputs": [],
      "source": [
        ""
      ]
    },
    {
      "cell_type": "markdown",
      "metadata": {
        "id": "2da9320e-b8f3-469d-b4f9-7438fde1d655"
      },
      "source": [
        "<br>"
      ]
    },
    {
      "cell_type": "markdown",
      "metadata": {
        "id": "776806df-5137-44ac-8d76-c06d7906e0c1"
      },
      "source": [
        "# Imports, Reading in Data, and Exploratory Data Analysis"
      ]
    },
    {
      "cell_type": "markdown",
      "metadata": {
        "id": "50a628d4-f6f7-46d4-a6d4-4a54f51a02c1"
      },
      "source": [
        "### Google colab compatibility downloads"
      ]
    },
    {
      "cell_type": "code",
      "execution_count": null,
      "metadata": {
        "id": "2b9a80a0-0e96-4cd3-9ad0-e86cfd27090b"
      },
      "outputs": [],
      "source": [
        "!sudo apt update\n",
        "!apt-get install openjdk-8-jdk-headless -qq > /dev/null\n",
        "!wget -q https://dlcdn.apache.org/spark/spark-3.3.0/spark-3.3.0-bin-hadoop3.tgz \n",
        "!tar xf spark-3.3.0-bin-hadoop3.tgz\n",
        "import os\n",
        "os.environ[\"JAVA_HOME\"] = \"/usr/lib/jvm/java-8-openjdk-amd64\"\n",
        "os.environ[\"SPARK_HOME\"] = \"/content/spark-3.3.0-bin-hadoop3\"\n",
        "!pip install pyspark==3.3.0\n",
        "!pip install -q findspark\n",
        "import findspark\n",
        "findspark.init()"
      ]
    },
    {
      "cell_type": "code",
      "execution_count": 1,
      "metadata": {
        "id": "_EJVZLDUCRdy",
        "colab": {
          "base_uri": "https://localhost:8080/"
        },
        "outputId": "63dba4e5-5cea-406d-bca0-d148d252b68a"
      },
      "outputs": [
        {
          "output_type": "stream",
          "name": "stdout",
          "text": [
            "Drive already mounted at /content/drive; to attempt to forcibly remount, call drive.mount(\"/content/drive\", force_remount=True).\n"
          ]
        }
      ],
      "source": [
        "# Connect to Google drive\n",
        "from google.colab import drive, files\n",
        "drive.mount('/content/drive')"
      ]
    },
    {
      "cell_type": "markdown",
      "metadata": {
        "id": "a1f82477-fb1f-4bc6-9de8-07d8ee0486c2"
      },
      "source": [
        "### Import libraries, packages and modules"
      ]
    },
    {
      "cell_type": "code",
      "execution_count": 2,
      "metadata": {
        "id": "3ec43d7d-2077-4d43-bd12-cc6c351f746d"
      },
      "outputs": [],
      "source": [
        "import numpy as np\n",
        "import pandas as pd\n",
        "pd.set_option('display.max_columns', None)\n",
        "from itertools import chain\n",
        "\n",
        "from pyspark.sql import SparkSession\n",
        "import pyspark.sql.functions as F\n",
        "from pyspark.sql.types import StringType, IntegerType, DoubleType, TimestampType\n",
        "# from pyspark.ml.feature import StringIndexer, OneHotEncoder, VectorAssembler, StandardScaler\n",
        "# from pyspark.ml import Pipeline\n",
        "# from pyspark.ml.classification import LogisticRegression\n",
        "# from pyspark.ml.evaluation import BinaryClassificationEvaluator, MulticlassClassificationEvaluator\n",
        "# from pyspark.ml.tuning import ParamGridBuilder, TrainValidationSplit\n",
        "\n",
        "# from sklearn.metrics import confusion_matrix, ConfusionMatrixDisplay, classification_report\n",
        "\n",
        "import matplotlib.pyplot as plt\n",
        "plt.style.use('seaborn')\n",
        "import seaborn as sns\n",
        "from IPython.display import HTML, display\n",
        "%matplotlib inline\n",
        "%config InlineBackend.figure_format='retina'"
      ]
    },
    {
      "cell_type": "code",
      "execution_count": null,
      "metadata": {
        "id": "vc_V7XVRDx1U"
      },
      "outputs": [],
      "source": [
        "helper_functions = files.upload()\n",
        "from helper_functions import spark_resample"
      ]
    },
    {
      "cell_type": "code",
      "execution_count": 3,
      "metadata": {
        "id": "7d9c9165-4b95-403f-9e90-6ae09612b92d",
        "colab": {
          "base_uri": "https://localhost:8080/"
        },
        "outputId": "b11f988a-c771-4734-b229-7b0310844cab"
      },
      "outputs": [
        {
          "output_type": "stream",
          "name": "stdout",
          "text": [
            "Not connected to a GPU\n"
          ]
        }
      ],
      "source": [
        "# Check colab GPU info\n",
        "gpu_info = !nvidia-smi\n",
        "gpu_info = '\\n'.join(gpu_info)\n",
        "if gpu_info.find('failed') >= 0:\n",
        "    print('Not connected to a GPU')\n",
        "else:\n",
        "    print(gpu_info)"
      ]
    },
    {
      "cell_type": "code",
      "source": [
        "from psutil import virtual_memory\n",
        "ram_gb = virtual_memory().total / 1e9\n",
        "print('Your runtime has {:.1f} gigabytes of available RAM\\n'.format(ram_gb))\n",
        "\n",
        "if ram_gb < 20:\n",
        "  print('Not using a high-RAM runtime')\n",
        "else:\n",
        "  print('You are using a high-RAM runtime!')"
      ],
      "metadata": {
        "id": "8RdtiSPt22Qe",
        "colab": {
          "base_uri": "https://localhost:8080/"
        },
        "outputId": "fefd922c-daf2-49ef-950d-d90eea0818c6"
      },
      "execution_count": 4,
      "outputs": [
        {
          "output_type": "stream",
          "name": "stdout",
          "text": [
            "Your runtime has 54.8 gigabytes of available RAM\n",
            "\n",
            "You are using a high-RAM runtime!\n"
          ]
        }
      ]
    },
    {
      "cell_type": "code",
      "execution_count": 5,
      "metadata": {
        "id": "aa3b4878-4efd-472f-9c10-61710c893d10"
      },
      "outputs": [],
      "source": [
        "# Set text to wrap in Google colab notebook\n",
        "def set_css():\n",
        "    display(HTML('''\n",
        "    <style>\n",
        "      pre {\n",
        "          white-space: pre-wrap;\n",
        "      }\n",
        "    </style>\n",
        "    '''))\n",
        "get_ipython().events.register('pre_run_cell', set_css)"
      ]
    },
    {
      "cell_type": "code",
      "execution_count": 6,
      "metadata": {
        "id": "2d54949d-dc79-446b-bc2a-cce6e6ae92da",
        "colab": {
          "base_uri": "https://localhost:8080/",
          "height": 221
        },
        "outputId": "6e2084c7-5bc5-46f0-85dd-7cd8c632bf54"
      },
      "outputs": [
        {
          "output_type": "display_data",
          "data": {
            "text/plain": [
              "<IPython.core.display.HTML object>"
            ],
            "text/html": [
              "\n",
              "    <style>\n",
              "      pre {\n",
              "          white-space: pre-wrap;\n",
              "      }\n",
              "    </style>\n",
              "    "
            ]
          },
          "metadata": {}
        },
        {
          "output_type": "execute_result",
          "data": {
            "text/plain": [
              "<pyspark.sql.session.SparkSession at 0x7fc269d59550>"
            ],
            "text/html": [
              "\n",
              "            <div>\n",
              "                <p><b>SparkSession - in-memory</b></p>\n",
              "                \n",
              "        <div>\n",
              "            <p><b>SparkContext</b></p>\n",
              "\n",
              "            <p><a href=\"http://37789c66c219:4050\">Spark UI</a></p>\n",
              "\n",
              "            <dl>\n",
              "              <dt>Version</dt>\n",
              "                <dd><code>v3.3.0</code></dd>\n",
              "              <dt>Master</dt>\n",
              "                <dd><code>local[*]</code></dd>\n",
              "              <dt>AppName</dt>\n",
              "                <dd><code>Colab</code></dd>\n",
              "            </dl>\n",
              "        </div>\n",
              "        \n",
              "            </div>\n",
              "        "
            ]
          },
          "metadata": {},
          "execution_count": 6
        }
      ],
      "source": [
        "# Initialize Spark Session\n",
        "spark = SparkSession.builder\\\n",
        "        .master(\"local[*]\")\\\n",
        "        .appName(\"Colab\")\\\n",
        "        .config('spark.ui.port', '4050')\\\n",
        "        .getOrCreate()\n",
        "\n",
        "spark"
      ]
    },
    {
      "cell_type": "markdown",
      "metadata": {
        "id": "4c45c0da-3252-4fc8-89c6-4d8260418fc9"
      },
      "source": [
        "### Description of Features"
      ]
    },
    {
      "cell_type": "markdown",
      "metadata": {
        "id": "8590747c-e25c-405c-815b-3c83f10309ea"
      },
      "source": [
        "**Dataset 1 – Transactions:**\n",
        "\n",
        "`MessageId` - Globally unique identifier within this dataset for individual transactions<br>\n",
        "`UETR` - The Unique End-to-end Transaction Reference—a 36-character string enabling traceability of all individual transactions associated with a single end-to-end transaction<br>\n",
        "`TransactionReference` - Unique identifier for an individual transaction<br>\n",
        "`Timestamp` - Time at which the individual transaction was initiated<br>\n",
        "`Sender` - Institution (bank) initiating/sending the individual transaction<br>\n",
        "`Receiver` - Institution (bank) receiving the individual transaction<br>\n",
        "`OrderingAccount` - Account identifier for the originating ordering entity (individual or organization) for end-to-end transaction<br>\n",
        "`OrderingName` - Name for the originating ordering entity<br>\n",
        "`OrderingStreet` - Street address for the originating ordering entity<br>\n",
        "`OrderingCountryCityZip` - Remaining address details for the originating ordering entity<br>\n",
        "`BeneficiaryAccount` - Account identifier for the final beneficiary entity (individual or organization) for end-to-end transaction<br>\n",
        "`BeneficiaryName` - Name for the final beneficiary entity<br>\n",
        "`BeneficiaryStreet` - Street address for the final beneficiary entity<br>\n",
        "`BeneficiaryCountryCityZip` - Remaining address details for the final beneficiary entity<br>\n",
        "`SettlementDate` - Date the individual transaction was settled<br>\n",
        "`SettlementCurrency` - Currency used for transaction<br>\n",
        "`SettlementAmount` - Value of the transaction net of fees/transfer charges/forex<br>\n",
        "`InstructedCurrency` - Currency of the individual transaction as instructed to be paid by the Sender<br>\n",
        "`InstructedAmount` - Value of the individual transaction as instructed to be paid by the Sender<br>\n",
        "`Label` - Boolean indicator of whether the transaction is anomalous or not. This is the target variable for the prediction task.<br>\n",
        "<br>\n",
        "**Dataset 2 – Banks:**\n",
        "\n",
        "`Bank` - Identifier for the bank<br>\n",
        "`Account` - Identifier for the account<br>\n",
        "`Name` - Name of the account<br>\n",
        "`Street` - Street address associated with the account<br>\n",
        "`CountryCityZip` - Remaining address details associated with the account<br>\n",
        "`Flags` - Enumerated data type indicating potential issues or special features that have been associated with an account. Flag definitions are below:<br>\n",
        "00 - No flags<br>\n",
        "01 - Account closed<br>\n",
        "03 - Account recently opened<br>\n",
        "04 - Name mismatch<br>\n",
        "05 - Account under monitoring<br>\n",
        "06 - Account suspended<br>\n",
        "07 - Account frozen<br>\n",
        "08 - Non-transaction account<br>\n",
        "09 - Beneficiary deceased<br>\n",
        "10 - Invalid company ID<br>\n",
        "11 - Invalid individual ID<br>\n",
        "<br>\n",
        "Additional information from data providers:<br>\n",
        "\"Because each end-to-end transaction is defined by one originating orderer and one final beneficiary, the `OrderingAccount` and `BeneficiaryAccount` in a given row may not necessarily belong to the bank in that row's `Sender` and the bank in that row's `Receiver`, respectively. The correct way to associate an `OrderingAccount` to the correct bank is to identify the `Sender` bank in the originating (first) individual transaction in that end-to-end transaction, and the correct way to associate a `BeneficiaryAccount` to the correct bank is to identify the `Receiver` bank in the final (last) individual transaction in that end-to-end transaction.\""
      ]
    },
    {
      "cell_type": "markdown",
      "metadata": {
        "id": "b25f65a8-1444-468f-a5ee-9611e4d794ef"
      },
      "source": [
        "## Read in Data"
      ]
    },
    {
      "cell_type": "code",
      "execution_count": 7,
      "metadata": {
        "id": "dd295db2-0718-42c6-8a70-df41e93e72fa",
        "colab": {
          "base_uri": "https://localhost:8080/",
          "height": 17
        },
        "outputId": "a88a21cc-ac0b-4a0f-9bba-31cef6f5f2f3"
      },
      "outputs": [
        {
          "output_type": "display_data",
          "data": {
            "text/plain": [
              "<IPython.core.display.HTML object>"
            ],
            "text/html": [
              "\n",
              "    <style>\n",
              "      pre {\n",
              "          white-space: pre-wrap;\n",
              "      }\n",
              "    </style>\n",
              "    "
            ]
          },
          "metadata": {}
        }
      ],
      "source": [
        "# Read in transactions training and testing data csv files to Spark DataFrames\n",
        "train_df = spark.read.csv('/content/drive/MyDrive/Colab Notebooks/transaction_train_dataset.csv', header=True, inferSchema=True)\n",
        "test_df = spark.read.csv('/content/drive/MyDrive/Colab Notebooks/transaction_test_dataset.csv', header=True, inferSchema=True)\n",
        "\n",
        "# Read in banks data csv file to a Spark DataFrame\n",
        "banks_df = spark.read.csv('/content/drive/MyDrive/Colab Notebooks/bank_dataset.csv', header=True, inferSchema=True)"
      ]
    },
    {
      "cell_type": "markdown",
      "source": [
        "<br>"
      ],
      "metadata": {
        "id": "u9ePgp3IRE2i"
      }
    },
    {
      "cell_type": "markdown",
      "metadata": {
        "id": "529532f1-4b2e-406d-bd3d-63f8784a168c"
      },
      "source": [
        "## Preliminary EDA"
      ]
    },
    {
      "cell_type": "code",
      "execution_count": null,
      "metadata": {
        "id": "a0bc0590-9efa-4f6b-943e-c509163b4f8d"
      },
      "outputs": [],
      "source": [
        "# Print shape of dataframes\n",
        "print(f\"train_df:  {train_df.count():,} Rows, {len(train_df.columns)} Columns\")\n",
        "print(f\"test_df:  {test_df.count():,} Rows, {len(test_df.columns)} Columns\")\n",
        "print(f\"banks_df:  {banks_df.count():,} Rows, {len(banks_df.columns)} Columns\")"
      ]
    },
    {
      "cell_type": "code",
      "execution_count": null,
      "metadata": {
        "id": "e0133a49-0718-421f-9e8d-2d60913780ce"
      },
      "outputs": [],
      "source": [
        "# Print schema of train_df dataframe\n",
        "train_df.printSchema()"
      ]
    },
    {
      "cell_type": "code",
      "execution_count": null,
      "metadata": {
        "id": "d1d1e353-ef6e-404e-b87d-9657ee0cd922"
      },
      "outputs": [],
      "source": [
        "# Print schema of banks_df dataframe\n",
        "banks_df.printSchema()"
      ]
    },
    {
      "cell_type": "code",
      "execution_count": null,
      "metadata": {
        "id": "11ab8183-bd76-48c2-b647-75285e34e4ac"
      },
      "outputs": [],
      "source": [
        "# Display first row of train_df\n",
        "train_df.show(n=1, truncate=False, vertical=True)"
      ]
    },
    {
      "cell_type": "code",
      "execution_count": null,
      "metadata": {
        "id": "44472749-3189-4abf-b646-e0767399adbd"
      },
      "outputs": [],
      "source": [
        "# Display first 5 rows of banks dataframe\n",
        "banks_df.show(5, False)"
      ]
    },
    {
      "cell_type": "code",
      "execution_count": null,
      "metadata": {
        "id": "2896607b-d653-4cda-9601-f1c4e709a0e0"
      },
      "outputs": [],
      "source": [
        "# Print number of unique values in each column of train_df; sample 1% of dataframe for efficiency\n",
        "train_df_unique = train_df.sample(False, 0.01).agg(*(F.countDistinct(F.col(c)).alias(c) for c in train_df.columns))\n",
        "total_rows = train_df_unique.collect()[0]['MessageId']\n",
        "\n",
        "print(f\"Number of unique values per column (in sample of 1% of dataframe):\\n\")\n",
        "print(f\"Total rows in sample: {total_rows}\")\n",
        "train_df_unique.show(truncate=False, vertical=True)"
      ]
    },
    {
      "cell_type": "code",
      "execution_count": null,
      "metadata": {
        "id": "6ea7f1f1-2aae-42c0-bbef-6a4128ee6990"
      },
      "outputs": [],
      "source": [
        "# Print number of unique values in each column of banks_df\n",
        "banks_df_unique = banks_df.agg(*(F.countDistinct(F.col(c)).alias(c) for c in banks_df.columns))\n",
        "\n",
        "print(f\"Number of unique values per column:\\n\")\n",
        "print(f\"Total rows: {banks_df.count()}\")\n",
        "banks_df_unique.show(truncate=False, vertical=True)"
      ]
    },
    {
      "cell_type": "code",
      "execution_count": null,
      "metadata": {
        "id": "35dc1315-8b58-4e4d-a042-9fa3a660bce1"
      },
      "outputs": [],
      "source": [
        "# Print number of null/missing values in each column of train_df\n",
        "train_df_null = train_df.select([F.count(F.when(F.col(c).isNull() | F.isnan(c), c))\\\n",
        "                                 .alias(c) for c in train_df.columns if c != 'Timestamp'])\n",
        "\n",
        "print('Number of null/missing values per column:\\n')\n",
        "train_df_null.show(truncate=False, vertical=True)"
      ]
    },
    {
      "cell_type": "code",
      "execution_count": null,
      "metadata": {
        "id": "b6f635e4-c5c0-4383-9e9b-6e67791c72b4"
      },
      "outputs": [],
      "source": [
        "# # Print number of null/missing values in each column of banks_df\n",
        "banks_df_null = banks_df.select([F.count(F.when(F.col(c).isNull() | F.isnan(c), c))\\\n",
        "                                 .alias(c) for c in banks_df.columns])\n",
        "\n",
        "print('Number of null/missing values per column:\\n')\n",
        "banks_df_null.show(truncate=False, vertical=True)"
      ]
    },
    {
      "cell_type": "code",
      "execution_count": null,
      "metadata": {
        "id": "0DJZvwkuvZbs"
      },
      "outputs": [],
      "source": [
        "# Display summary statistics table of numeric columns in transactions dataframe\n",
        "num_cols = [item[0] for item in train_df.dtypes if item[1] == 'int' or item[1] == 'double']\n",
        "\n",
        "train_df.select(num_cols).summary().show(truncate=False)"
      ]
    },
    {
      "cell_type": "code",
      "source": [
        "# Display value counts for 'Flags' feature of banks_df\n",
        "flag_counts = banks_df.groupBy('Flags').count()\n",
        "\n",
        "# Create list of accounts with non-zero flags in banks_df\n",
        "non_zero_accounts = []\n",
        "for row in banks_df.filter(banks_df.Flags != 0).collect()[:]:\n",
        "    non_zero_accounts.append(row['Account'])\n",
        "\n",
        "# Count occurences of ordering accounts associated with non-zero flags in training data\n",
        "transactions_ordering_flagged_train = train_df.where(F.col('OrderingAccount').isin(non_zero_accounts)).count()\n",
        "# Count occurences of beneficiary accounts associated with non-zero flags in training data\n",
        "transactions_beneficiary_flagged_train = train_df.where(F.col('BeneficiaryAccount').isin(non_zero_accounts)).count()\n",
        "# Count occurences of ordering accounts associated with non-zero flags in testing data\n",
        "transactions_ordering_flagged_test = test_df.where(F.col('OrderingAccount').isin(non_zero_accounts)).count()\n",
        "# Count occurences of beneficiary accounts associated with non-zero flags in testing data\n",
        "transactions_beneficiary_flagged_test = test_df.where(F.col('BeneficiaryAccount').isin(non_zero_accounts)).count()\n",
        "\n",
        "print(f\"Accounts with non-zero flags: {len(non_zero_accounts)}\\n\")\n",
        "print(f\"Transactions with non-zero flag associated with OrderingAccount (train): {transactions_ordering_flagged_train}\")\n",
        "print(f\"Transactions with non-zero flag associated with BeneficiaryAccount (train): {transactions_beneficiary_flagged_train}\\n\")\n",
        "print(f\"Transactions with non-zero flag associated with OrderingAccount (test): {transactions_ordering_flagged_test}\")\n",
        "print(f\"Transactions with non-zero flag associated with BeneficiaryAccount (test): {transactions_beneficiary_flagged_test}\\n\")\n",
        "print('Value counts of Flags feature of banks_df:\\n')\n",
        "flag_counts.show(truncate=False)"
      ],
      "metadata": {
        "id": "Yh4iw0RmnPZC"
      },
      "execution_count": null,
      "outputs": []
    },
    {
      "cell_type": "code",
      "execution_count": null,
      "metadata": {
        "id": "5f632020-f200-4ecc-b55b-211b67ce6fdc"
      },
      "outputs": [],
      "source": [
        "# Display value counts for 'Label' column (classification target) in train_df\n",
        "class_counts = train_df.groupBy('Label').count().withColumn('percent', F.col('count')/train_df.count())\n",
        "\n",
        "class_counts.show(truncate=10)"
      ]
    },
    {
      "cell_type": "markdown",
      "metadata": {
        "id": "ba284473-cb1a-45d6-89e6-94b7bdc1cc55"
      },
      "source": [
        "**Remarks:**\n",
        "- This is an extremely imbalanced dataset - only about 0.1% of the data is in the positive class. We will need to address this class imbalance as part of the modeling process."
      ]
    },
    {
      "cell_type": "markdown",
      "metadata": {
        "id": "URhSVjScLgfE"
      },
      "source": [
        "<br>"
      ]
    },
    {
      "cell_type": "markdown",
      "metadata": {
        "id": "0kmSqoPErFV1"
      },
      "source": [
        "## Detailed EDA"
      ]
    },
    {
      "cell_type": "code",
      "execution_count": null,
      "metadata": {
        "id": "tTzpjevZ-3P9"
      },
      "outputs": [],
      "source": [
        "# Sample 2% of train_df for visualizations (approximately 94k observations)\n",
        "viz_cols = ['Sender', 'Receiver', 'InstructedCurrency', 'SettlementCurrency', 'Label']\n",
        "viz_df = train_df.select(viz_cols).sample(withReplacement=False, fraction=0.02, seed=42).toPandas()"
      ]
    },
    {
      "cell_type": "markdown",
      "metadata": {
        "id": "V8MmRG_z0UnV"
      },
      "source": [
        "### Visualize target class distributions of sender and receiver banks used in transactions"
      ]
    },
    {
      "cell_type": "code",
      "execution_count": null,
      "metadata": {
        "id": "YZk2VXXfnCKj"
      },
      "outputs": [],
      "source": [
        "# Display unique senders in training dataset\n",
        "print(f\"train_df, {train_df.select('Sender').distinct().count()} unique senders:\")\n",
        "train_df.select('Sender').distinct().show(5)"
      ]
    },
    {
      "cell_type": "code",
      "source": [
        "# Display unique senders in training dataset where transaction is anomalous\n",
        "unique_anom_senders_count = train_df.filter(train_df.Label == 1)\\\n",
        "                                    .select('Sender').distinct().count()\n",
        "\n",
        "print(f\"train_df, {unique_anom_senders_count} unique senders among anomalous transactions:\")\n",
        "train_df.filter(train_df.Label == 1).select('Sender').distinct().show(5)"
      ],
      "metadata": {
        "id": "31jOa17PTIHV"
      },
      "execution_count": null,
      "outputs": []
    },
    {
      "cell_type": "code",
      "execution_count": null,
      "metadata": {
        "id": "Ft4XQOtuqqvG"
      },
      "outputs": [],
      "source": [
        "# Define figure and axes\n",
        "fig, (ax1, ax2) = plt.subplots(nrows=1, ncols=2, figsize=(23, 14))\n",
        "\n",
        "# Set consistent color palette where y-axis values in both axes, otherwise silver\n",
        "palette = sns.color_palette('muted', as_cmap=True)*2\n",
        "palette_map = {}\n",
        "for val, color in zip(viz_df['Sender'].value_counts().index, palette):\n",
        "    if val in viz_df[viz_df.Label == 0]['Sender'].value_counts().index \\\n",
        "    and val in viz_df[viz_df.Label == 1]['Sender'].value_counts().index:\n",
        "        palette_map[val] = color\n",
        "    else:\n",
        "        palette_map[val]= 'silver'\n",
        "\n",
        "# Plot countplot of non-anomalous transactions\n",
        "sns.countplot(y='Sender', data=viz_df[viz_df.Label == 0], ax=ax1, palette=palette_map, \n",
        "              order=viz_df[viz_df.Label == 0]['Sender'].value_counts().index) # Order descending\n",
        "\n",
        "# Plot countplot of anomalous transactions\n",
        "sns.countplot(y='Sender', data=viz_df[viz_df.Label == 1], ax=ax2, palette=palette_map, \n",
        "              order=viz_df[viz_df.Label == 1]['Sender'].value_counts().index) # Order descending\n",
        "\n",
        "# Print percentages to the right of bars (ax1)\n",
        "for p in ax1.patches:\n",
        "    percentage = '{:.1f}%'.format(100 * p.get_width()/viz_df[viz_df.Label == 0].shape[0])\n",
        "    x = p.get_x() + p.get_width()\n",
        "    y = p.get_y() + p.get_height()/2\n",
        "    ax1.annotate(percentage, (x, y))\n",
        "\n",
        "# Print percentages to the right of bars (ax2)\n",
        "for p in ax2.patches:\n",
        "    percentage = '{:.1f}%'.format(100 * p.get_width()/viz_df[viz_df.Label == 1].shape[0])\n",
        "    x = p.get_x() + p.get_width()\n",
        "    y = p.get_y() + p.get_height()/2\n",
        "    ax2.annotate(percentage, (x, y))\n",
        "\n",
        "ax1.set_title('Sender Banks of Non-Anomalous Transactions (Label 0)', fontsize=17)\n",
        "ax1.set_xlabel('Count (2% Sample)', fontsize=16)\n",
        "ax1.set_xticklabels(['{:,}'.format(int(x)) for x in ax1.get_xticks()], fontsize=12)\n",
        "ax1.set_ylabel('Institution (Bank)', fontsize=16)\n",
        "ax1.set_yticklabels(ax1.get_yticklabels(), fontsize=11)\n",
        "ax2.set_title('Sender Banks of Anomalous Transactions (Label 1)', fontsize=17)\n",
        "ax2.set_xlabel('Count (2% Sample)', fontsize=16)\n",
        "ax2.set_xticklabels(ax2.get_xticks().astype(int), fontsize=12)\n",
        "ax2.set_ylabel('Institution (Bank)', fontsize=16)\n",
        "ax2.set_yticklabels(ax2.get_yticklabels(), fontsize=11);"
      ]
    },
    {
      "cell_type": "code",
      "execution_count": null,
      "metadata": {
        "id": "ZEq48KnKpYCt"
      },
      "outputs": [],
      "source": [
        "# Display unique receivers in training dataset\n",
        "print(f\"train_df, {train_df.select('Receiver').distinct().count()} unique receivers:\")\n",
        "train_df.select('Receiver').distinct().show(5)"
      ]
    },
    {
      "cell_type": "code",
      "source": [
        "# Display unique receivers in training dataset where transaction is anomalous\n",
        "unique_anom_receivers_count = train_df.filter(train_df.Label == 1)\\\n",
        "                                      .select('Receiver').distinct().count()\n",
        "\n",
        "print(f\"train_df, {unique_anom_receivers_count} unique receivers among anomalous transactions:\")\n",
        "train_df.filter(train_df.Label == 1).select('Receiver').distinct().show(5)"
      ],
      "metadata": {
        "id": "IeVQ6hS2UWLx"
      },
      "execution_count": null,
      "outputs": []
    },
    {
      "cell_type": "code",
      "execution_count": null,
      "metadata": {
        "id": "ABDfjBJ1zOa6"
      },
      "outputs": [],
      "source": [
        "# Define figure and axes\n",
        "fig, (ax1, ax2) = plt.subplots(nrows=1, ncols=2, figsize=(23, 14))\n",
        "\n",
        "# Set consistent color palette where y-axis values in both axes, otherwise silver\n",
        "palette = sns.color_palette('muted', as_cmap=True)*2\n",
        "palette_map = {}\n",
        "for val, color in zip(viz_df['Receiver'].value_counts().index, palette):\n",
        "    if val in viz_df[viz_df.Label == 0]['Receiver'].value_counts().index \\\n",
        "    and val in viz_df[viz_df.Label == 1]['Receiver'].value_counts().index:\n",
        "        palette_map[val] = color\n",
        "    else:\n",
        "        palette_map[val]= 'silver'\n",
        "\n",
        "# Plot countplot of non-anomalous transactions\n",
        "ax1_plot = sns.countplot(y='Receiver', data=viz_df[viz_df.Label == 0], ax=ax1, palette=palette_map, \n",
        "              order=viz_df[viz_df.Label == 0]['Receiver'].value_counts().index)  # Order descending\n",
        "\n",
        "# Update palette_map with values not found above\n",
        "for val, color in zip(viz_df[viz_df.Label == 1]['Receiver'].value_counts().index, palette):\n",
        "    if val not in palette_map:\n",
        "        palette_map[val] = 'silver'  # Assign values not found above to silver\n",
        "\n",
        "\n",
        "# Plot countplot of anomalous transactions\n",
        "ax2_plot = sns.countplot(y='Receiver', data=viz_df[viz_df.Label == 1], ax=ax2, palette=palette_map, \n",
        "              order=viz_df[viz_df.Label == 1]['Receiver'].value_counts().index)  # Order descending\n",
        "\n",
        "# Print percentages to the right of bars (ax1)\n",
        "for p in ax1.patches:\n",
        "    percentage = '{:.1f}%'.format(100 * p.get_width()/viz_df[viz_df.Label == 0].shape[0])\n",
        "    x = p.get_x() + p.get_width()\n",
        "    y = p.get_y() + p.get_height()/2\n",
        "    ax1.annotate(percentage, (x, y))\n",
        "\n",
        "# Print percentages to the right of bars (ax2)\n",
        "for p in ax2.patches:\n",
        "    percentage = '{:.1f}%'.format(100 * p.get_width()/viz_df[viz_df.Label == 1].shape[0])\n",
        "    x = p.get_x() + p.get_width()\n",
        "    y = p.get_y() + p.get_height()/2\n",
        "    ax2.annotate(percentage, (x, y))\n",
        "\n",
        "ax1.set_title('Receiver Banks of Non-Anomalous Transactions (Label 0)', fontsize=17)\n",
        "ax1.set_xlabel('Count (2% Sample)', fontsize=16)\n",
        "ax1.set_xticklabels(['{:,}'.format(int(x)) for x in ax1.get_xticks()], fontsize=12)\n",
        "ax1.set_ylabel('Institution (Bank)', fontsize=16)\n",
        "ax1.set_yticklabels(ax1.get_yticklabels(), fontsize=11)\n",
        "ax2.set_title('Receiver Banks of Anomalous Transactions (Label 1)', fontsize=17)\n",
        "ax2.set_xlabel('Count (2% Sample)', fontsize=16)\n",
        "ax2.set_xticklabels(ax2.get_xticks().astype(int), fontsize=12)\n",
        "ax2.set_ylabel('Institution (Bank)', fontsize=16)\n",
        "ax2.set_yticklabels(ax2.get_yticklabels(), fontsize=11);"
      ]
    },
    {
      "cell_type": "markdown",
      "metadata": {
        "id": "5sr4eFI81RLe"
      },
      "source": [
        "**Remarks:**\n",
        "- It looks like the choice of sender bank is very informative in terms of determining whether a transaction is anomalous or not, while the choice of receiver bank is not nearly as valuable.\n",
        "- Only 4 out of 16 sender banks tend to be utilized in anomalous transactions, while nearly all are utilized in non-anomalous transactions.\n",
        "- Looking at receiver banks, 12 out of 16 tend to be utilized for both anomalous and non-anomalous transactions, and in roughly equal distributions.\n",
        "- There is no need to choose between sender and receiver banks when selecting our features; we can engineer features in sender-receiver bank combinations."
      ]
    },
    {
      "cell_type": "markdown",
      "metadata": {
        "id": "lmD5pLD-0hIe"
      },
      "source": [
        "### Visualize target class distributions of instructed and settlement currencies used in transactions"
      ]
    },
    {
      "cell_type": "code",
      "execution_count": null,
      "metadata": {
        "id": "lx_M2kFJm9yx"
      },
      "outputs": [],
      "source": [
        "# Display unique instructed currencies used in transactions\n",
        "print(f\"train_df, {train_df.select('InstructedCurrency').distinct().count()} unique instructed currencies:\")\n",
        "train_df.select('InstructedCurrency').distinct().show()"
      ]
    },
    {
      "cell_type": "code",
      "execution_count": null,
      "metadata": {
        "id": "GzOj50aB_IRR"
      },
      "outputs": [],
      "source": [
        "# Define figure and axes\n",
        "fig, (ax1, ax2) = plt.subplots(nrows=1, ncols=2, figsize=(22, 9))\n",
        "\n",
        "# Set consistent color palette where x-axis values in both axes, otherwise silver\n",
        "palette_map = {'USD': 'dodgerblue', 'EUR': '#003399', 'GBP':'#C8102E', 'JPY': 'tan'}\n",
        "for val in viz_df[viz_df.Label == 1]['InstructedCurrency'].value_counts().index:\n",
        "    if val not in viz_df[viz_df.Label == 0]['InstructedCurrency'].value_counts().index:\n",
        "        palette_map[val] = 'silver'\n",
        "\n",
        "# Plot countplot of non-anomalous transactions\n",
        "sns.countplot(x='InstructedCurrency', data=viz_df[viz_df.Label == 0], ax=ax1, \n",
        "              order=viz_df[viz_df.Label == 0]['InstructedCurrency'].value_counts().index,  # Order descending\n",
        "              palette=palette_map)\n",
        "\n",
        "# Plot countplot of anomalous transactions\n",
        "sns.countplot(x='InstructedCurrency', data=viz_df[viz_df.Label == 1], ax=ax2, \n",
        "              order=viz_df[viz_df.Label == 1]['InstructedCurrency'].value_counts().index,  # Order descending\n",
        "              palette=palette_map)\n",
        "\n",
        "# Print percentages on top of bars (ax1)\n",
        "for p in ax1.patches:\n",
        "    txt = str(round(p.get_height() / viz_df[viz_df.Label == 0].shape[0]*100, 1)) + '%'\n",
        "    txt_x = p.get_x()+0.31\n",
        "    txt_y = p.get_height()+400\n",
        "    ax1.text(txt_x, txt_y, txt, fontsize=12)\n",
        "\n",
        "# Print percentages on top of bars (ax2)\n",
        "for p in ax2.patches:\n",
        "    txt = str(round(p.get_height() / viz_df[viz_df.Label == 1].shape[0]*100, 1)) + '%'\n",
        "    txt_x = p.get_x()+0.25\n",
        "    txt_y = p.get_height()+0.5\n",
        "    ax2.text(txt_x, txt_y, txt, fontsize=12)\n",
        "\n",
        "ax1.set_title('Instructed Currencies of Non-Anomalous Transactions (Label 0)', fontsize=17)\n",
        "ax1.set_xlabel('Instructed Currency', fontsize=16)\n",
        "ax1.set_xticklabels(ax1.get_xticklabels(), fontsize=12)\n",
        "ax1.set_ylabel('Count (2% Sample)', fontsize=16)\n",
        "ax1.set_yticklabels(['{:,}'.format(int(x)) for x in ax1.get_yticks()], fontsize=12)\n",
        "ax2.set_title('Instructed Currencies of Anomalous Transactions (Label 1)', fontsize=17)\n",
        "ax2.set_xlabel('Instructed Currency', fontsize=16)\n",
        "ax2.set_xticklabels(ax2.get_xticklabels(), fontsize=12)\n",
        "ax2.set_ylabel('Count (2% Sample)', fontsize=16)\n",
        "ax2.set_yticklabels(ax2.get_yticks().astype(int), fontsize=12);"
      ]
    },
    {
      "cell_type": "code",
      "execution_count": null,
      "metadata": {
        "id": "--a2nbKmqtlW"
      },
      "outputs": [],
      "source": [
        "# Display unique settlement currencies used in transactions\n",
        "print(f\"train_df, {train_df.select('SettlementCurrency').distinct().count()} unique settlement currencies:\")\n",
        "train_df.select('SettlementCurrency').distinct().show()"
      ]
    },
    {
      "cell_type": "code",
      "execution_count": null,
      "metadata": {
        "id": "9_4pIbQGN8GL"
      },
      "outputs": [],
      "source": [
        "# Define figure and axes\n",
        "fig, (ax1, ax2) = plt.subplots(nrows=1, ncols=2, figsize=(22, 9))\n",
        "\n",
        "# Set consistent color palette\n",
        "palette_map = {'USD': 'dodgerblue', 'EUR': '#003399', 'GBP':'#C8102E', 'JPY': 'tan'}\n",
        "\n",
        "# Plot countplot of non-anomalous transactions\n",
        "sns.countplot(x='SettlementCurrency', data=viz_df[viz_df.Label == 0], ax=ax1, \n",
        "              order=viz_df[viz_df.Label == 0]['SettlementCurrency'].value_counts().index, # Order descending\n",
        "              palette=palette_map)\n",
        "\n",
        "# Plot countplot of anomalous transactions\n",
        "sns.countplot(x='SettlementCurrency', data=viz_df[viz_df.Label == 1], ax=ax2, \n",
        "              order=viz_df[viz_df.Label == 1]['SettlementCurrency'].value_counts().index, # Order descending\n",
        "              palette=palette_map)\n",
        "\n",
        "# Print percentages on top of bars (ax1)\n",
        "for p in ax1.patches:\n",
        "    txt = str(round(p.get_height() / viz_df[viz_df.Label == 0].shape[0]*100, 1)) + '%'\n",
        "    txt_x = p.get_x()+0.31\n",
        "    txt_y = p.get_height()+400\n",
        "    ax1.text(txt_x, txt_y, txt, fontsize=12)\n",
        "\n",
        "# Print percentages on top of bars (ax2)\n",
        "for p in ax2.patches:\n",
        "    txt = str(round(p.get_height() / viz_df[viz_df.Label == 1].shape[0]*100, 1)) + '%'\n",
        "    txt_x = p.get_x()+0.31\n",
        "    txt_y = p.get_height()+0.5\n",
        "    ax2.text(txt_x, txt_y, txt, fontsize=12)\n",
        "\n",
        "ax1.set_title('Settlement Currencies of Non-Anomalous Transactions (Label 0)', fontsize=17)\n",
        "ax1.set_xlabel('Settlement Currency', fontsize=16)\n",
        "ax1.set_xticklabels(ax1.get_xticklabels(), fontsize=12)\n",
        "ax1.set_ylabel('Count (2% Sample)', fontsize=16)\n",
        "ax1.set_yticklabels(['{:,}'.format(int(x)) for x in ax1.get_yticks()], fontsize=12)\n",
        "ax2.set_title('Settlement Currencies of Anomalous Transactions (Label 1)', fontsize=17)\n",
        "ax2.set_xlabel('Settlement Currency', fontsize=16)\n",
        "ax2.set_xticklabels(ax2.get_xticklabels(), fontsize=12)\n",
        "ax2.set_ylabel('Count (2% Sample)', fontsize=16)\n",
        "ax2.set_yticklabels(ax2.get_yticks().astype(int), fontsize=12);"
      ]
    },
    {
      "cell_type": "markdown",
      "metadata": {
        "id": "FO7iezULOz8P"
      },
      "source": [
        "**Remarks:**\n",
        "- Instructed currencies seems to be more informative in terms of being correlated with whether or not a transaction is anomalous.\n",
        "- Among instructed currencies, we see the opposite trend as we saw with chosen banks; anomalous transactions tend to use a broader selection of instructed currencies, rather than a more narrow selection as we saw with chosen sender banks.\n",
        "- Among settlement currencies, we see the same four currencies being utilized among both target classes, but in slightly different frequencies.\n",
        "- We will keep the instructed currencies (and one hot encode them) as a feature in the final dataset and drop the settlement currencies."
      ]
    },
    {
      "cell_type": "markdown",
      "source": [
        "<br>"
      ],
      "metadata": {
        "id": "x_TRgs-i5mX4"
      }
    },
    {
      "cell_type": "markdown",
      "metadata": {
        "id": "c7188a23-a1c8-492f-8167-eb0e6f42fbf4"
      },
      "source": [
        "# Preprocessing & Feature Engineering"
      ]
    },
    {
      "cell_type": "markdown",
      "metadata": {
        "id": "528ffb7d-1150-4903-9294-4f34ef1c22f3"
      },
      "source": [
        "Steps:\n",
        "1. Create `InstructedAmountUSD` feature by converting all currencies in `InstructedAmount` to USD-scale\n",
        "2. Create `OriginalSender` and `FinalReceiver` features\n",
        "3. Create `BeneficiaryAccountFlag` feature by joining `Flags` column of `banks_df`\n",
        "4. Create `SenderHourFreq` feature\n",
        "5. Create `SenderCurrencyFreq` and `SenderCurrencyAmtAvg` features\n",
        "6. Create `SenderReceiverFreq` feature"
      ]
    },
    {
      "cell_type": "markdown",
      "source": [
        "## Create `InstructedAmountUSD` feature\n",
        "\n",
        "Here we are going to create a new column with standardized instructed transaction amounts, as it wouldn't make much sense to leave the amounts in completely different scales. We'll scale all amounts to their USD conversion rates on 2022/01/12, the median transaction date in `train_df`.\n",
        "\n",
        "Exchange rates were obtained from <a href='https://www.xe.com/currencytables/' >xe.com</a>."
      ],
      "metadata": {
        "id": "dIJtcRwffYNy"
      }
    },
    {
      "cell_type": "code",
      "source": [
        "# Exchange rate values on 2022/01/12 (median date of transactions in dataframe)\n",
        "'1 NZD = 0.6845945591 USD'\n",
        "'1 GBP = 1.3696247772 USD'\n",
        "'1 CAD = 0.7999730579 USD'\n",
        "'1 EUR = 1.1431474656 USD'\n",
        "'1 AUD = 0.7277363105 USD'\n",
        "'1 JPY = 0.0087157154 USD'\n",
        "'1 INR = 0.0135530538 USD'\n",
        "\n",
        "conversion_rates = {'NZD': 0.6845945591, 'GBP': 1.3696247772, 'CAD': 0.7999730579, 'EUR': 1.1431474656, \\\n",
        "                    'AUD': 0.7277363105, 'JPY': 0.0087157154, 'INR': 0.0135530538}\n",
        "\n",
        "# Create new column in train and test dataframes with conversion_rates dictionary\n",
        "mapping_expr = F.create_map([F.lit(x) for x in chain(*conversion_rates.items())])\n",
        "\n",
        "train_df = train_df.withColumn('InstructedAmountUSD', \\\n",
        "                               mapping_expr[F.col('InstructedCurrency')]*F.col('InstructedAmount'))\n",
        "test_df = test_df.withColumn('InstructedAmountUSD', \\\n",
        "                             mapping_expr[F.col('InstructedCurrency')]*F.col('InstructedAmount'))"
      ],
      "metadata": {
        "id": "RV99fdyYhoEi",
        "colab": {
          "base_uri": "https://localhost:8080/",
          "height": 17
        },
        "outputId": "e00074e3-11d7-453a-dc40-f10de0459285"
      },
      "execution_count": 8,
      "outputs": [
        {
          "output_type": "display_data",
          "data": {
            "text/plain": [
              "<IPython.core.display.HTML object>"
            ],
            "text/html": [
              "\n",
              "    <style>\n",
              "      pre {\n",
              "          white-space: pre-wrap;\n",
              "      }\n",
              "    </style>\n",
              "    "
            ]
          },
          "metadata": {}
        }
      ]
    },
    {
      "cell_type": "code",
      "source": [
        "# Display sample of transactions to verify accuracy of InstructedAmountUSD column\n",
        "train_df.select('InstructedCurrency', 'InstructedAmount', 'InstructedAmountUSD').show(10, truncate=False)"
      ],
      "metadata": {
        "id": "XJpQC56Jq4y9",
        "colab": {
          "base_uri": "https://localhost:8080/",
          "height": 303
        },
        "outputId": "42e57c5d-dafe-44f3-8ee3-842aa5103d6b"
      },
      "execution_count": 9,
      "outputs": [
        {
          "output_type": "display_data",
          "data": {
            "text/plain": [
              "<IPython.core.display.HTML object>"
            ],
            "text/html": [
              "\n",
              "    <style>\n",
              "      pre {\n",
              "          white-space: pre-wrap;\n",
              "      }\n",
              "    </style>\n",
              "    "
            ]
          },
          "metadata": {}
        },
        {
          "output_type": "stream",
          "name": "stdout",
          "text": [
            "+------------------+----------------+-------------------+\n",
            "|InstructedCurrency|InstructedAmount|InstructedAmountUSD|\n",
            "+------------------+----------------+-------------------+\n",
            "|EUR               |1.56018855817E9 |1.783525596130154E9|\n",
            "|EUR               |4711419.75      |5385847.546590285  |\n",
            "|EUR               |752821.61       |860586.1155204116  |\n",
            "|JPY               |6.4904872E8     |5656923.924254289  |\n",
            "|EUR               |4627376.81      |5289774.072727713  |\n",
            "|GBP               |1387721.93      |1900658.339191804  |\n",
            "|JPY               |6.5344681E8     |5695256.424997875  |\n",
            "|EUR               |360342.32       |411924.4098564242  |\n",
            "|JPY               |5.81448505E8    |5067739.689335478  |\n",
            "|EUR               |2163958.07      |2473723.1833851673 |\n",
            "+------------------+----------------+-------------------+\n",
            "only showing top 10 rows\n",
            "\n"
          ]
        }
      ]
    },
    {
      "cell_type": "markdown",
      "source": [
        "### Visualize target class distributions of instructed transaction amounts in USD\n",
        "\n",
        "We'll only plot instructed transaction amounts, since settlement amounts are essentially equivalent to instructed amounts less deductions for fees and transfer/forex charges. We'll also only plot the `InstructedAmountUSD` column values, i.e. instructed amounts that have been standardized to the USD exchange rate, as it wouldn't be very informative to plot the wildly varying scales of the different currencies together."
      ],
      "metadata": {
        "id": "0LS-Q_MKP-Z8"
      }
    },
    {
      "cell_type": "code",
      "source": [
        "# Sample 2% of train_df for visualizations (approximately 94k observations)\n",
        "viz_cols = ['InstructedAmountUSD', 'Label']\n",
        "viz_df = train_df.select(viz_cols).sample(withReplacement=False, fraction=0.02, seed=42).toPandas()"
      ],
      "metadata": {
        "id": "tQzkGhCqxlbZ",
        "colab": {
          "base_uri": "https://localhost:8080/",
          "height": 17
        },
        "outputId": "ca6842c8-0aed-431a-fd39-15a567f65394"
      },
      "execution_count": 10,
      "outputs": [
        {
          "output_type": "display_data",
          "data": {
            "text/plain": [
              "<IPython.core.display.HTML object>"
            ],
            "text/html": [
              "\n",
              "    <style>\n",
              "      pre {\n",
              "          white-space: pre-wrap;\n",
              "      }\n",
              "    </style>\n",
              "    "
            ]
          },
          "metadata": {}
        }
      ]
    },
    {
      "cell_type": "code",
      "source": [
        "# Define figure and axes\n",
        "fig, (ax1, ax2) = plt.subplots(nrows=1, ncols=2, figsize=(22, 9))\n",
        "\n",
        "# Plot histogram of non-anomalous transactions; log x-axis due to extreme right-skew\n",
        "sns.histplot(x='InstructedAmountUSD', data=viz_df[viz_df.Label == 0], ax=ax1, bins=10, log_scale=True, color='#85bb65')\n",
        "\n",
        "# Plot histogram of anomalous transactions; log x-axis due to extreme right-skew\n",
        "sns.histplot(x='InstructedAmountUSD', data=viz_df[viz_df.Label == 1], ax=ax2, bins=10, log_scale=True, color='#85bb65')\n",
        "\n",
        "ax1.set_title('Instructed Transaction Amounts of Non-Anomalous Transactions (Label 0)', fontsize=17)\n",
        "ax1.set_xlabel('Instructed Amount (Log-Scale USD)', fontsize=16)\n",
        "ax1.set_ylabel('Count (2% Sample)', fontsize=16)\n",
        "ax2.set_title('Instructed Transaction Amounts of Anomalous Transactions (Label 1)', fontsize=17)\n",
        "ax2.set_xlabel('Instructed Amount (Log-Scale USD)', fontsize=16)\n",
        "ax2.set_ylabel('Count (2% Sample)', fontsize=16);\n",
        "\n",
        "# Set xticks to match bin widths\n",
        "ax1.set_xticks([bin.get_x() for bin in ax1.patches] + [viz_df[viz_df.Label == 0]['InstructedAmountUSD'].max()])\n",
        "ax2.set_xticks([bin.get_x() for bin in ax2.patches] + [viz_df[viz_df.Label == 1]['InstructedAmountUSD'].max()]);\n",
        "# Change xtick labels to more readable format\n",
        "ax1.set_xticklabels(['$100', '$1.2k', '$11k', '$93k', '$820k', '$7.2M', '$63M', '$560M', '$4.9B', '$43B', '$380B'], fontsize=12)\n",
        "ax1.set_yticklabels(['{:,}'.format(int(x)) for x in ax1.get_yticks()], fontsize=12)\n",
        "ax2.set_xticklabels(['$30k', '$98k', '$320k', '$1.1M', '$3.5M', '$12M', '$38M', '$120M', '$410M', '$1.3B', '$4.4B'], fontsize=12)\n",
        "ax2.set_yticklabels(ax2.get_yticks().astype(int), fontsize=12);"
      ],
      "metadata": {
        "id": "A_RVSEVPP_C9",
        "colab": {
          "base_uri": "https://localhost:8080/",
          "height": 575
        },
        "outputId": "200ace27-f225-4252-b65f-662d05f611c5"
      },
      "execution_count": 11,
      "outputs": [
        {
          "output_type": "display_data",
          "data": {
            "text/plain": [
              "<IPython.core.display.HTML object>"
            ],
            "text/html": [
              "\n",
              "    <style>\n",
              "      pre {\n",
              "          white-space: pre-wrap;\n",
              "      }\n",
              "    </style>\n",
              "    "
            ]
          },
          "metadata": {}
        },
        {
          "output_type": "display_data",
          "data": {
            "text/plain": [
              "<Figure size 1584x648 with 2 Axes>"
            ],
            "image/png": "[encoded data removed]"
          },
          "metadata": {
            "image/png": {
              "width": 1304,
              "height": 558
            },
            "needs_background": "light"
          }
        }
      ]
    },
    {
      "cell_type": "markdown",
      "source": [
        "**Remarks:**\n",
        "- The distributions of instructed transaction amounts for both non-anomalous and anomalous transactions are both extremely right-skewed, which we can tell because the distributions look more or less normal after log-scaling.\n",
        "- Non-anomalous transactions appear to have a much larger range of values, ranging from \\$100 all the way to \\$380B. The range for anomalous transactions is much more narrow, ranging from \\$30k to just under $4.5B. This is only a 2% sample, so these aren't necessarily the actual minima and maxima, but the sample is definitely large enough to tell us that anomalous transactions have a tighter range of values."
      ],
      "metadata": {
        "id": "WuV-8cQ6Mkrn"
      }
    },
    {
      "cell_type": "markdown",
      "source": [
        "<br>"
      ],
      "metadata": {
        "id": "vAAgzvMkPo6r"
      }
    },
    {
      "cell_type": "markdown",
      "source": [
        "## Create `OriginalSender` and `FinalReceiver` features by identifying original `Sender` and final `Receiver` for each end-to-end transaction\n",
        "\n",
        "As described in the preliminary EDA section, the correct way to associate ordering and beneficiary accounts with their proper banks is to identify the `Sender` bank in the first transaction of the end-to-end transaction and the `Receiver` bank in the last transaction of the end-to-end transaction. Below, we'll create new columns which do just that."
      ],
      "metadata": {
        "id": "1hNM-s9Jt6gJ"
      }
    },
    {
      "cell_type": "code",
      "source": [
        "# Create temporary table to use for SQL query\n",
        "train_df.createOrReplaceTempView('train_df_sql')\n",
        "\n",
        "# Create new features using SQL\n",
        "join_sql = \"\"\"\n",
        "WITH EarliestTransaction AS (\n",
        "SELECT UETR, \n",
        "Sender, \n",
        "Timestamp\n",
        "FROM train_df_sql \n",
        "WHERE (UETR, Timestamp) IN\n",
        "    (SELECT UETR, MIN(Timestamp) \n",
        "    FROM train_df_sql \n",
        "    GROUP BY UETR)\n",
        "), \n",
        "LatestTransaction AS (\n",
        "SELECT UETR, \n",
        "Receiver, \n",
        "Timestamp\n",
        "FROM train_df_sql \n",
        "WHERE (UETR, Timestamp) IN\n",
        "    (SELECT UETR, MAX(Timestamp) \n",
        "    FROM train_df_sql \n",
        "    GROUP BY UETR)\n",
        ")\n",
        "SELECT train_df_sql.*, \n",
        "EarliestTransaction.Sender AS OriginalSender, \n",
        "LatestTransaction.Receiver AS FinalReceiver\n",
        "FROM train_df_sql\n",
        "LEFT JOIN EarliestTransaction\n",
        "    ON EarliestTransaction.UETR = train_df_sql.UETR\n",
        "LEFT JOIN LatestTransaction\n",
        "    ON LatestTransaction.UETR = train_df_sql.UETR\n",
        "\"\"\"\n",
        "\n",
        "train_df = spark.sql(join_sql)"
      ],
      "metadata": {
        "id": "gRk-mbypt61M",
        "colab": {
          "base_uri": "https://localhost:8080/",
          "height": 17
        },
        "outputId": "9d028bba-da50-454b-fd68-9c2d25e2f333"
      },
      "execution_count": 12,
      "outputs": [
        {
          "output_type": "display_data",
          "data": {
            "text/plain": [
              "<IPython.core.display.HTML object>"
            ],
            "text/html": [
              "\n",
              "    <style>\n",
              "      pre {\n",
              "          white-space: pre-wrap;\n",
              "      }\n",
              "    </style>\n",
              "    "
            ]
          },
          "metadata": {}
        }
      ]
    },
    {
      "cell_type": "code",
      "source": [
        "# Retrieve three random UETR codes of transactions where transactor used intermediary banks\n",
        "sample = train_df.filter(train_df.Receiver != train_df.FinalReceiver).sample(False, 0.0001).limit(3).collect()\n",
        "UETRs = [sample[row]['UETR'] for row in range(3)]\n",
        "\n",
        "# Display sample of transactions to verify accuracy of OriginalSender and FinalReceiver columns\n",
        "cols_to_show = ['Timestamp', 'UETR', 'Sender', 'Receiver', 'OriginalSender', 'FinalReceiver']\n",
        "train_df.filter(train_df.UETR == UETRs[0]).select(cols_to_show).show(truncate=False)\n",
        "train_df.filter(train_df.UETR == UETRs[1]).select(cols_to_show).show(truncate=False)\n",
        "train_df.filter(train_df.UETR == UETRs[2]).select(cols_to_show).show(truncate=False)"
      ],
      "metadata": {
        "id": "OMFQEpbbvUXF",
        "colab": {
          "base_uri": "https://localhost:8080/",
          "height": 428
        },
        "outputId": "ee217c24-3119-4afd-f759-0805b3e773ba"
      },
      "execution_count": 14,
      "outputs": [
        {
          "output_type": "display_data",
          "data": {
            "text/plain": [
              "<IPython.core.display.HTML object>"
            ],
            "text/html": [
              "\n",
              "    <style>\n",
              "      pre {\n",
              "          white-space: pre-wrap;\n",
              "      }\n",
              "    </style>\n",
              "    "
            ]
          },
          "metadata": {}
        },
        {
          "output_type": "stream",
          "name": "stdout",
          "text": [
            "+-------------------+------------------------------------+--------+--------+--------------+-------------+\n",
            "|Timestamp          |UETR                                |Sender  |Receiver|OriginalSender|FinalReceiver|\n",
            "+-------------------+------------------------------------+--------+--------+--------------+-------------+\n",
            "|2022-01-08 10:14:00|e5207719-a32c-42e7-96fe-7480d1e42721|ABVVUS6S|WVOLDEMM|ABVVUS6S      |DPSUFRPP     |\n",
            "|2022-01-08 11:56:00|e5207719-a32c-42e7-96fe-7480d1e42721|WVOLDEMM|DPSUFRPP|ABVVUS6S      |DPSUFRPP     |\n",
            "+-------------------+------------------------------------+--------+--------+--------------+-------------+\n",
            "\n",
            "+-------------------+------------------------------------+--------+--------+--------------+-------------+\n",
            "|Timestamp          |UETR                                |Sender  |Receiver|OriginalSender|FinalReceiver|\n",
            "+-------------------+------------------------------------+--------+--------+--------------+-------------+\n",
            "|2022-01-02 08:52:00|068be86d-6754-4865-96fc-1708101b5982|ABVVUS6S|DPSUFRPP|ABVVUS6S      |DECKJPJJ     |\n",
            "|2022-01-02 09:07:00|068be86d-6754-4865-96fc-1708101b5982|DPSUFRPP|WVOLDEMM|ABVVUS6S      |DECKJPJJ     |\n",
            "|2022-01-02 10:20:00|068be86d-6754-4865-96fc-1708101b5982|WVOLDEMM|DECKJPJJ|ABVVUS6S      |DECKJPJJ     |\n",
            "+-------------------+------------------------------------+--------+--------+--------------+-------------+\n",
            "\n",
            "+-------------------+------------------------------------+--------+--------+--------------+-------------+\n",
            "|Timestamp          |UETR                                |Sender  |Receiver|OriginalSender|FinalReceiver|\n",
            "+-------------------+------------------------------------+--------+--------+--------------+-------------+\n",
            "|2022-01-20 20:52:00|0a82ab37-38b2-4aa0-a09b-1e35e81dd8de|ABVVUS6S|DPSUFRPP|ABVVUS6S      |DECKJPJJ     |\n",
            "|2022-01-20 21:16:00|0a82ab37-38b2-4aa0-a09b-1e35e81dd8de|DPSUFRPP|WVOLDEMM|ABVVUS6S      |DECKJPJJ     |\n",
            "|2022-01-20 22:31:00|0a82ab37-38b2-4aa0-a09b-1e35e81dd8de|WVOLDEMM|DECKJPJJ|ABVVUS6S      |DECKJPJJ     |\n",
            "+-------------------+------------------------------------+--------+--------+--------------+-------------+\n",
            "\n"
          ]
        }
      ]
    },
    {
      "cell_type": "markdown",
      "source": [
        "### Repeat for `test_df`"
      ],
      "metadata": {
        "id": "3tKAQvb1D5fv"
      }
    },
    {
      "cell_type": "code",
      "source": [
        "# Create temporary table to use for SQL query\n",
        "test_df.createOrReplaceTempView('test_df_sql')\n",
        "\n",
        "# Create new features using SQL\n",
        "join_sql = \"\"\"\n",
        "WITH EarliestTransaction AS (\n",
        "SELECT UETR, \n",
        "Sender, \n",
        "Timestamp\n",
        "FROM test_df_sql \n",
        "WHERE (UETR, Timestamp) IN\n",
        "    (SELECT UETR, MIN(Timestamp) \n",
        "    FROM test_df_sql \n",
        "    GROUP BY UETR)\n",
        "), \n",
        "LatestTransaction AS (\n",
        "SELECT UETR, \n",
        "Receiver, \n",
        "Timestamp\n",
        "FROM test_df_sql \n",
        "WHERE (UETR, Timestamp) IN\n",
        "    (SELECT UETR, MAX(Timestamp) \n",
        "    FROM test_df_sql \n",
        "    GROUP BY UETR)\n",
        ")\n",
        "SELECT test_df_sql.*, \n",
        "EarliestTransaction.Sender AS OriginalSender, \n",
        "LatestTransaction.Receiver AS FinalReceiver\n",
        "FROM test_df_sql\n",
        "LEFT JOIN EarliestTransaction\n",
        "    ON EarliestTransaction.UETR = test_df_sql.UETR\n",
        "LEFT JOIN LatestTransaction\n",
        "    ON LatestTransaction.UETR = test_df_sql.UETR\n",
        "\"\"\"\n",
        "\n",
        "test_df = spark.sql(join_sql)"
      ],
      "metadata": {
        "id": "i8y8H-yIDw9i",
        "colab": {
          "base_uri": "https://localhost:8080/",
          "height": 17
        },
        "outputId": "8e2f630f-4fa5-432f-8e07-922e47858ddc"
      },
      "execution_count": 15,
      "outputs": [
        {
          "output_type": "display_data",
          "data": {
            "text/plain": [
              "<IPython.core.display.HTML object>"
            ],
            "text/html": [
              "\n",
              "    <style>\n",
              "      pre {\n",
              "          white-space: pre-wrap;\n",
              "      }\n",
              "    </style>\n",
              "    "
            ]
          },
          "metadata": {}
        }
      ]
    },
    {
      "cell_type": "markdown",
      "source": [
        "<br>"
      ],
      "metadata": {
        "id": "jicp-_mvPm7a"
      }
    },
    {
      "cell_type": "markdown",
      "source": [
        "## Create `BeneficiaryAccountFlag` feature by joining `Flags` column of `banks_df`\n",
        "\n",
        "As we saw in the preliminary EDA section, none of the accounts with non-zero flags are associated with `OrderingAccount`s; they are all associated with `BeneficiaryAccount`s. It therefore wouldn't make any sense to create a column of `OrderingAccontFlag`s as every value in it would be `0`. We'll only make a column of `BeneficiaryAccountFlag`s."
      ],
      "metadata": {
        "id": "wYeuL8b51iGn"
      }
    },
    {
      "cell_type": "code",
      "source": [
        "# Create temporary tables to use for SQL query\n",
        "train_df.createOrReplaceTempView('train_df_sql')\n",
        "banks_df.createOrReplaceTempView('banks_df_sql')\n",
        "\n",
        "# Create new features using SQL\n",
        "join_sql = \"\"\"WITH AccountsBeneficiary AS (\n",
        "    SELECT Account, Flags\n",
        "    FROM banks_df_sql\n",
        ")\n",
        "SELECT train_df_sql.*, \n",
        "AccountsBeneficiary.Account AS MatchingBeneficiaryAccount, \n",
        "AccountsBeneficiary.Flags AS BeneficiaryAccountFlag\n",
        "FROM train_df_sql\n",
        "LEFT JOIN AccountsBeneficiary\n",
        "    ON train_df_sql.BeneficiaryAccount = AccountsBeneficiary.Account\n",
        "\"\"\"\n",
        "\n",
        "train_df = spark.sql(join_sql)"
      ],
      "metadata": {
        "id": "fLOzGMds5K77",
        "colab": {
          "base_uri": "https://localhost:8080/",
          "height": 17
        },
        "outputId": "99943747-08d8-4434-c8ab-9004fb53a46f"
      },
      "execution_count": 16,
      "outputs": [
        {
          "output_type": "display_data",
          "data": {
            "text/plain": [
              "<IPython.core.display.HTML object>"
            ],
            "text/html": [
              "\n",
              "    <style>\n",
              "      pre {\n",
              "          white-space: pre-wrap;\n",
              "      }\n",
              "    </style>\n",
              "    "
            ]
          },
          "metadata": {}
        }
      ]
    },
    {
      "cell_type": "code",
      "source": [
        "# Retrieve three UETR codes of transactions with non-zero flags\n",
        "sample = train_df.filter(train_df.BeneficiaryAccountFlag != 0).sample(False, 0.1).limit(3).collect()\n",
        "UETRs = [sample[row]['UETR'] for row in range(3)]\n",
        "\n",
        "# Only show relevant columns of train_df\n",
        "cols_to_show_train = ['Timestamp', 'UETR', 'OrderingAccount', 'BeneficiaryAccount', \\\n",
        "                      'MatchingBeneficiaryAccount', 'BeneficiaryAccountFlag']\n",
        "\n",
        "# Only show relevant columns of banks_df\n",
        "cols_to_show_bank = ['Account', 'Flags']\n",
        "\n",
        "# Get selected beneficiary accounts of train_df to match with banks_df\n",
        "first_account = train_df.filter(train_df.UETR == UETRs[0]).collect()[0]['BeneficiaryAccount']\n",
        "second_account = train_df.filter(train_df.UETR == UETRs[1]).collect()[0]['BeneficiaryAccount']\n",
        "third_account = train_df.filter(train_df.UETR == UETRs[2]).collect()[0]['BeneficiaryAccount']\n",
        "\n",
        "train_df.filter(train_df.UETR == UETRs[0]).select(cols_to_show_train).show(truncate=False, vertical=True)\n",
        "banks_df.filter(banks_df.Account == first_account).select(cols_to_show_bank).show(truncate=False, vertical=True)\n",
        "print('\\n')\n",
        "train_df.filter(train_df.UETR == UETRs[1]).select(cols_to_show_train).show(truncate=False, vertical=True)\n",
        "banks_df.filter(banks_df.Account == second_account).select(cols_to_show_bank).show(truncate=False, vertical=True)\n",
        "print('\\n')\n",
        "train_df.filter(train_df.UETR == UETRs[2]).select(cols_to_show_train).show(truncate=False, vertical=True)\n",
        "banks_df.filter(banks_df.Account == third_account).select(cols_to_show_bank).show(truncate=False, vertical=True)"
      ],
      "metadata": {
        "id": "GUyncvPdsHUV",
        "colab": {
          "base_uri": "https://localhost:8080/",
          "height": 731
        },
        "outputId": "5b9d1481-e02b-42d0-843e-c0af163e88ee"
      },
      "execution_count": 23,
      "outputs": [
        {
          "output_type": "display_data",
          "data": {
            "text/plain": [
              "<IPython.core.display.HTML object>"
            ],
            "text/html": [
              "\n",
              "    <style>\n",
              "      pre {\n",
              "          white-space: pre-wrap;\n",
              "      }\n",
              "    </style>\n",
              "    "
            ]
          },
          "metadata": {}
        },
        {
          "output_type": "stream",
          "name": "stdout",
          "text": [
            "-RECORD 0----------------------------------------------------------\n",
            " Timestamp                  | 2022-01-21 11:09:00                  \n",
            " UETR                       | 0749c66a-bab5-4748-afa3-234553686e11 \n",
            " OrderingAccount            | FR3714755422956993485                \n",
            " BeneficiaryAccount         | 6110240642746953XX                   \n",
            " MatchingBeneficiaryAccount | 6110240642746953XX                   \n",
            " BeneficiaryAccountFlag     | 1                                    \n",
            "\n",
            "-RECORD 0---------------------\n",
            " Account | 6110240642746953XX \n",
            " Flags   | 1                  \n",
            "\n",
            "\n",
            "\n",
            "-RECORD 0----------------------------------------------------------\n",
            " Timestamp                  | 2022-01-10 12:03:00                  \n",
            " UETR                       | 4e3bd3a3-acaf-4d24-89b1-0cecb5eb6a25 \n",
            " OrderingAccount            | FR21714755422956974052               \n",
            " BeneficiaryAccount         | 6110240642747122XX                   \n",
            " MatchingBeneficiaryAccount | 6110240642747122XX                   \n",
            " BeneficiaryAccountFlag     | 7                                    \n",
            "\n",
            "-RECORD 0---------------------\n",
            " Account | 6110240642747122XX \n",
            " Flags   | 7                  \n",
            "\n",
            "\n",
            "\n",
            "-RECORD 0----------------------------------------------------------\n",
            " Timestamp                  | 2022-01-14 06:23:00                  \n",
            " UETR                       | 5cb0e676-c16d-4f66-b89e-a63cc8c699ab \n",
            " OrderingAccount            | DE33020224692198575030               \n",
            " BeneficiaryAccount         | 3587276970996467XX                   \n",
            " MatchingBeneficiaryAccount | 3587276970996467XX                   \n",
            " BeneficiaryAccountFlag     | 9                                    \n",
            "\n",
            "-RECORD 0---------------------\n",
            " Account | 3587276970996467XX \n",
            " Flags   | 9                  \n",
            "\n"
          ]
        }
      ]
    },
    {
      "cell_type": "code",
      "source": [
        "# Check for null values in new BeneficiaryAccountFlag column\n",
        "train_df.where(F.col('BeneficiaryAccountFlag').isNull() | F.isnan('BeneficiaryAccountFlag')).count()"
      ],
      "metadata": {
        "colab": {
          "base_uri": "https://localhost:8080/",
          "height": 35
        },
        "id": "NTWhPJNGuS5M",
        "outputId": "e0e1b08c-c034-4195-b905-8394c7c5fd6e"
      },
      "execution_count": 24,
      "outputs": [
        {
          "output_type": "display_data",
          "data": {
            "text/plain": [
              "<IPython.core.display.HTML object>"
            ],
            "text/html": [
              "\n",
              "    <style>\n",
              "      pre {\n",
              "          white-space: pre-wrap;\n",
              "      }\n",
              "    </style>\n",
              "    "
            ]
          },
          "metadata": {}
        },
        {
          "output_type": "execute_result",
          "data": {
            "text/plain": [
              "111"
            ]
          },
          "metadata": {},
          "execution_count": 24
        }
      ]
    },
    {
      "cell_type": "code",
      "source": [
        "# Replace null values in BeneficiaryAccountFlag with value of '2' which will signify that there is no \n",
        "# matching account in banks_df\n",
        "train_df = train_df.fillna(value=2, subset='BeneficiaryAccountFlag')\n",
        "assert train_df.where(F.col('BeneficiaryAccountFlag').isNull() | F.isnan('BeneficiaryAccountFlag')).count() == 0"
      ],
      "metadata": {
        "colab": {
          "base_uri": "https://localhost:8080/",
          "height": 17
        },
        "id": "9wBHF1LAugQX",
        "outputId": "642d6668-b945-4053-deab-0c0e0a090df1"
      },
      "execution_count": 25,
      "outputs": [
        {
          "output_type": "display_data",
          "data": {
            "text/plain": [
              "<IPython.core.display.HTML object>"
            ],
            "text/html": [
              "\n",
              "    <style>\n",
              "      pre {\n",
              "          white-space: pre-wrap;\n",
              "      }\n",
              "    </style>\n",
              "    "
            ]
          },
          "metadata": {}
        }
      ]
    },
    {
      "cell_type": "code",
      "source": [
        "# Check distribution of flagged beneficiary accounts in train_df\n",
        "train_df.groupBy('Label', 'BeneficiaryAccountFlag').agg({'Label': 'count'}).show()"
      ],
      "metadata": {
        "id": "GWkwLBiyixkN",
        "colab": {
          "base_uri": "https://localhost:8080/",
          "height": 338
        },
        "outputId": "cd6feda3-a109-4471-ecae-f219832ec81d"
      },
      "execution_count": 26,
      "outputs": [
        {
          "output_type": "display_data",
          "data": {
            "text/plain": [
              "<IPython.core.display.HTML object>"
            ],
            "text/html": [
              "\n",
              "    <style>\n",
              "      pre {\n",
              "          white-space: pre-wrap;\n",
              "      }\n",
              "    </style>\n",
              "    "
            ]
          },
          "metadata": {}
        },
        {
          "output_type": "stream",
          "name": "stdout",
          "text": [
            "+-----+----------------------+------------+\n",
            "|Label|BeneficiaryAccountFlag|count(Label)|\n",
            "+-----+----------------------+------------+\n",
            "|    1|                     0|        3989|\n",
            "|    1|                     7|          81|\n",
            "|    1|                     2|         111|\n",
            "|    1|                     9|          60|\n",
            "|    1|                     1|          87|\n",
            "|    1|                     3|          83|\n",
            "|    1|                    11|          93|\n",
            "|    0|                     0|     4686825|\n",
            "|    1|                     4|          84|\n",
            "|    1|                     8|          80|\n",
            "|    1|                     5|          78|\n",
            "|    1|                     6|          65|\n",
            "|    1|                    10|          89|\n",
            "+-----+----------------------+------------+\n",
            "\n"
          ]
        }
      ]
    },
    {
      "cell_type": "markdown",
      "source": [
        "**Remarks:**\n",
        "- The math checks out on the number of flagged beneficiary accounts - we saw 800 flagged accounts in the EDA section, and after filling in the 111 missing values with 2s, we have 4,100 zero-flagged anomalous transactions and 800 non-zero-flagged anomalous transactions.\n",
        "- It looks like there are no non-anomalous beneficiary accounts that are non-zero-flagged. In other words, every single non-anomalous transaction has a flag of 0 associated with the beneficiary account. This doesn't mean the classification will be easy now though; 3,989 out of 4,900 anomalous transactions are also zero-flagged."
      ],
      "metadata": {
        "id": "HgwCI3bgxK8F"
      }
    },
    {
      "cell_type": "markdown",
      "source": [
        "### Repeat for `test_df`"
      ],
      "metadata": {
        "id": "zGnkOptssRJE"
      }
    },
    {
      "cell_type": "code",
      "source": [
        "# Create temporary table to use for SQL query\n",
        "test_df.createOrReplaceTempView('test_df_sql')\n",
        "\n",
        "# Create new features using SQL\n",
        "join_sql = \"\"\"WITH AccountsBeneficiary AS (\n",
        "    SELECT Account, Flags\n",
        "    FROM banks_df_sql\n",
        ")\n",
        "SELECT test_df_sql.*, \n",
        "AccountsBeneficiary.Account AS MatchingBeneficiaryAccount, \n",
        "AccountsBeneficiary.Flags AS BeneficiaryAccountFlag\n",
        "FROM test_df_sql\n",
        "LEFT JOIN AccountsBeneficiary\n",
        "    ON test_df_sql.BeneficiaryAccount = AccountsBeneficiary.Account\n",
        "\"\"\"\n",
        "\n",
        "test_df = spark.sql(join_sql)"
      ],
      "metadata": {
        "id": "v39V4pGZsmxS",
        "colab": {
          "base_uri": "https://localhost:8080/",
          "height": 17
        },
        "outputId": "58064a02-9990-4dff-b8e6-0a6f5bbc14fb"
      },
      "execution_count": 27,
      "outputs": [
        {
          "output_type": "display_data",
          "data": {
            "text/plain": [
              "<IPython.core.display.HTML object>"
            ],
            "text/html": [
              "\n",
              "    <style>\n",
              "      pre {\n",
              "          white-space: pre-wrap;\n",
              "      }\n",
              "    </style>\n",
              "    "
            ]
          },
          "metadata": {}
        }
      ]
    },
    {
      "cell_type": "markdown",
      "source": [
        "<br>"
      ],
      "metadata": {
        "id": "M2wCEEddPksM"
      }
    },
    {
      "cell_type": "markdown",
      "metadata": {
        "id": "NyY21cvovTXM"
      },
      "source": [
        "## Create `SenderHourFreq` feature: transaction hour frequency for each sender\n",
        "\n",
        "This feature will tell us the frequency with which each sender initiated transactions for each hour of the day. This should capture some of the signal of the correlation between the sender and target class as well as the correlation between transaction hour and target class.\n",
        "\n",
        "We use sender banks and not receiver banks here because, as we saw in EDA, there is a greater difference among non-anomalous and anomalous transactions in the choice of sender bank than receiver bank.\n",
        "\n",
        "For the testing dataset, we will map the sender hour frequencies from the training dataset; if we were to repeat the process entirely it would result in data leakage."
      ]
    },
    {
      "cell_type": "code",
      "execution_count": 29,
      "metadata": {
        "id": "4kz9zFgrR5Nj",
        "colab": {
          "base_uri": "https://localhost:8080/",
          "height": 17
        },
        "outputId": "65913c4b-9e73-437e-8c17-7e156ff3c510"
      },
      "outputs": [
        {
          "output_type": "display_data",
          "data": {
            "text/plain": [
              "<IPython.core.display.HTML object>"
            ],
            "text/html": [
              "\n",
              "    <style>\n",
              "      pre {\n",
              "          white-space: pre-wrap;\n",
              "      }\n",
              "    </style>\n",
              "    "
            ]
          },
          "metadata": {}
        }
      ],
      "source": [
        "# Define UDF to extract hour from timestamp\n",
        "hour = F.udf(lambda x: x.hour, IntegerType())\n",
        "\n",
        "# Create new column of transaction hours\n",
        "train_df = train_df.withColumn('Hour', hour(train_df.Timestamp))\n",
        "test_df = test_df.withColumn('Hour', hour(test_df.Timestamp))\n",
        "\n",
        "# Create list of unique senders\n",
        "senders = train_df.select('Sender').toPandas()['Sender'].unique()\n",
        "\n",
        "# Create column of senders concatenated with hours\n",
        "train_df = train_df.withColumn('SenderHour', F.concat(F.col('Sender'), F.col('Hour').cast(StringType())))\n",
        "test_df = test_df.withColumn('SenderHour', F.concat(F.col('Sender'), F.col('Hour').cast(StringType())))\n",
        "\n",
        "pd_df = train_df.select('Sender', 'Hour').toPandas()\n",
        "\n",
        "# Create dictionary of sender hour frequency values to map from sender hour values\n",
        "sender_hour_frequency = {}\n",
        "\n",
        "for sender in senders:\n",
        "    sender_rows = pd_df[pd_df['Sender'] == sender]\n",
        "    for hour in range(24):\n",
        "        sender_hour_frequency[sender + str(hour)] = len(sender_rows[sender_rows['Hour'] == hour])\n",
        "\n",
        "# Create new column in train and test dataframes with sender_hour_frequency dictionary\n",
        "mapping_expr = F.create_map([F.lit(x) for x in chain(*sender_hour_frequency.items())])\n",
        "\n",
        "train_df = train_df.withColumn('SenderHourFreq', mapping_expr[F.col('SenderHour')])\n",
        "test_df = test_df.withColumn('SenderHourFreq', mapping_expr[F.col('SenderHour')])"
      ]
    },
    {
      "cell_type": "markdown",
      "source": [
        "<br>"
      ],
      "metadata": {
        "id": "vyYKWfRaPicy"
      }
    },
    {
      "cell_type": "markdown",
      "metadata": {
        "id": "iKfj2pFGQGOW"
      },
      "source": [
        "## Create `SenderCurrencyFreq` and `SenderCurrencyAmtAvg` features: transaction currency frequency and average transaction amount per currency for each sender\n",
        "\n",
        "These features will tell us the frequency with which each sender initiated transactions for each currency, in the case of the first feature. For the second feature, it will tell us the average amount with which each sender sent each currency. These features may also be correlated with anomalous transactions.\n",
        "\n",
        "We'll make sure to use `InstructedAmountUSD` and not `InstructedAmount` to keep a consistent scale. Like above, we'll use the training data to map values to the testing data to avoid data leakage (the testing data is converted to a Pandas dataframe and used in the `for` loop only to retrieve `Sender`-currency combinations that might not be in the training data)."
      ]
    },
    {
      "cell_type": "code",
      "execution_count": 30,
      "metadata": {
        "id": "ZINrnCpHQjkN",
        "colab": {
          "base_uri": "https://localhost:8080/",
          "height": 17
        },
        "outputId": "0d922f83-bbd0-4638-8178-4d2d8f42f3ec"
      },
      "outputs": [
        {
          "output_type": "display_data",
          "data": {
            "text/plain": [
              "<IPython.core.display.HTML object>"
            ],
            "text/html": [
              "\n",
              "    <style>\n",
              "      pre {\n",
              "          white-space: pre-wrap;\n",
              "      }\n",
              "    </style>\n",
              "    "
            ]
          },
          "metadata": {}
        }
      ],
      "source": [
        "# Create column of senders concatenated with instructed currencies\n",
        "train_df = train_df.withColumn('SenderCurrency', F.concat(F.col('Sender'), F.col('InstructedCurrency')))\n",
        "test_df = test_df.withColumn('SenderCurrency', F.concat(F.col('Sender'), F.col('InstructedCurrency')))\n",
        "\n",
        "pd_train_df = train_df.select('SenderCurrency', 'InstructedAmountUSD').toPandas()\n",
        "pd_test_df = test_df.select('SenderCurrency', 'InstructedAmountUSD').toPandas()\n",
        "\n",
        "# Create dictionary of sender currency frequency values to map from sender currency values\n",
        "sender_currency_freq = {}\n",
        "# Create dictionary of average sender currency values to map from sender currency values\n",
        "sender_currency_avg = {}\n",
        "\n",
        "for sc in set(\n",
        "    list(pd_train_df['SenderCurrency'].unique()) + list(pd_test_df['SenderCurrency'].unique())\n",
        "):\n",
        "    sender_currency_freq[sc] = len(pd_train_df[pd_train_df['SenderCurrency'] == sc])\n",
        "    sender_currency_avg[sc] = pd_train_df[pd_train_df['SenderCurrency'] == sc][\n",
        "        'InstructedAmountUSD'\n",
        "    ].mean()\n",
        "\n",
        "# Create new column in train and test dataframes with sender_currency_freq dictionary\n",
        "mapping_expr = F.create_map([F.lit(x) for x in chain(*sender_currency_freq.items())])\n",
        "\n",
        "train_df = train_df.withColumn('SenderCurrencyFreq', mapping_expr[F.col('SenderCurrency')])\n",
        "test_df = test_df.withColumn('SenderCurrencyFreq', mapping_expr[F.col('SenderCurrency')])\n",
        "\n",
        "# Create new column in train and test dataframes with sender_currency_avg dictionary\n",
        "mapping_expr = F.create_map([F.lit(x) for x in chain(*sender_currency_avg.items())])\n",
        "\n",
        "train_df = train_df.withColumn('SenderCurrencyAmtAvg', mapping_expr[F.col('SenderCurrency')])\n",
        "test_df = test_df.withColumn('SenderCurrencyAmtAvg', mapping_expr[F.col('SenderCurrency')])"
      ]
    },
    {
      "cell_type": "markdown",
      "source": [
        "<br>"
      ],
      "metadata": {
        "id": "hZ9qYnOISRj-"
      }
    },
    {
      "cell_type": "markdown",
      "metadata": {
        "id": "3lRfKQqI51Il"
      },
      "source": [
        "## Create `SenderReceiverFreq` feature: `Sender`-`Receiver` combination frequency for each sender and receiver pair\n",
        "\n",
        "This feature will tell us the frequency with which each sender and receiver executed transactions to one another. This should capture some of the signal in the `Receiver` column that we haven't captured yet up to this point, since we've mostly been focused on the `Sender` in the transaction.\n",
        "\n",
        "Once again, we will use the training data to map the values to the testing data. The testing data is only used to retrieve any `Sender`-`Receiver` pairs that might not be in the training data."
      ]
    },
    {
      "cell_type": "code",
      "execution_count": 31,
      "metadata": {
        "id": "GNPtx7aS50ic",
        "colab": {
          "base_uri": "https://localhost:8080/",
          "height": 17
        },
        "outputId": "b5c0c987-c315-477a-a46c-4a72ac9c385f"
      },
      "outputs": [
        {
          "output_type": "display_data",
          "data": {
            "text/plain": [
              "<IPython.core.display.HTML object>"
            ],
            "text/html": [
              "\n",
              "    <style>\n",
              "      pre {\n",
              "          white-space: pre-wrap;\n",
              "      }\n",
              "    </style>\n",
              "    "
            ]
          },
          "metadata": {}
        }
      ],
      "source": [
        "# Create column of senders concatenated with receivers\n",
        "train_df = train_df.withColumn('SenderReceiver', F.concat(F.col('Sender'), F.col('Receiver')))\n",
        "test_df = test_df.withColumn('SenderReceiver', F.concat(F.col('Sender'), F.col('Receiver')))\n",
        "\n",
        "# Create dictionary of sender receiver frequency values to map from sender receiver values\n",
        "sender_receiver_freq = {}\n",
        "\n",
        "pd_train_df = train_df.select('SenderReceiver').toPandas()\n",
        "pd_test_df = test_df.select('SenderReceiver').toPandas()\n",
        "\n",
        "for sr in set(\n",
        "    list(pd_train_df['SenderReceiver'].unique()) + list(pd_test_df['SenderReceiver'].unique())\n",
        "):\n",
        "    sender_receiver_freq[sr] = len(pd_train_df[pd_train_df['SenderReceiver'] == sr])\n",
        "\n",
        "# Create new column in train and test dataframes with sender_receiver_freq dictionary\n",
        "mapping_expr = F.create_map([F.lit(x) for x in chain(*sender_receiver_freq.items())])\n",
        "\n",
        "train_df = train_df.withColumn('SenderReceiverFreq', mapping_expr[F.col('SenderReceiver')])\n",
        "test_df = test_df.withColumn('SenderReceiverFreq', mapping_expr[F.col('SenderReceiver')])"
      ]
    },
    {
      "cell_type": "code",
      "source": [
        "# Display random row of train_df\n",
        "train_df.sample(False, 0.0000001).limit(1).show(truncate=False, vertical=True)"
      ],
      "metadata": {
        "colab": {
          "base_uri": "https://localhost:8080/",
          "height": 642
        },
        "id": "mgpciYdaFdae",
        "outputId": "1d753999-72ef-4db3-c8cd-d8589d6d6bad"
      },
      "execution_count": 38,
      "outputs": [
        {
          "output_type": "display_data",
          "data": {
            "text/plain": [
              "<IPython.core.display.HTML object>"
            ],
            "text/html": [
              "\n",
              "    <style>\n",
              "      pre {\n",
              "          white-space: pre-wrap;\n",
              "      }\n",
              "    </style>\n",
              "    "
            ]
          },
          "metadata": {}
        },
        {
          "output_type": "stream",
          "name": "stdout",
          "text": [
            "-RECORD 0----------------------------------------------------------\n",
            " MessageId                  | TRIN5BXM4R                           \n",
            " Timestamp                  | 2022-01-17 08:50:00                  \n",
            " UETR                       | b43260b0-221d-4f6e-aeab-ede6bf8df6b6 \n",
            " Sender                     | WVOLDEMM                             \n",
            " Receiver                   | MBYOTRIS                             \n",
            " TransactionReference       | PETX22-NO-FX-474                     \n",
            " OrderingAccount            | DE90020224692198572549               \n",
            " OrderingName               | ARABIS PULCHRA-GRACILIS              \n",
            " OrderingStreet             | HÖRLESTR. 0                          \n",
            " OrderingCountryCityZip     | DE/93288 HANSESTADTTRALSUND          \n",
            " BeneficiaryAccount         | TR57377507394253375330               \n",
            " BeneficiaryName            | VIBURNUM ◊RHYTIDOPHYLLOIDES          \n",
            " BeneficiaryStreet          | 11196 AKAR CROSSROAD                 \n",
            " BeneficiaryCountryCityZip  | TR/İHSANOĞLUBURY| TX 65580           \n",
            " SettlementDate             | 220117                               \n",
            " SettlementCurrency         | EUR                                  \n",
            " SettlementAmount           | 2.023982066E7                        \n",
            " InstructedCurrency         | EUR                                  \n",
            " InstructedAmount           | 2.023980066E7                        \n",
            " Label                      | 0                                    \n",
            " InstructedAmountUSD        | 2.3137076828728206E7                 \n",
            " OriginalSender             | WVOLDEMM                             \n",
            " FinalReceiver              | MBYOTRIS                             \n",
            " MatchingBeneficiaryAccount | TR57377507394253375330               \n",
            " BeneficiaryAccountFlag     | 0                                    \n",
            " Hour                       | 8                                    \n",
            " SenderHour                 | WVOLDEMM8                            \n",
            " SenderHourFreq             | 41245                                \n",
            " SenderCurrency             | WVOLDEMMEUR                          \n",
            " SenderCurrencyFreq         | 441003                               \n",
            " SenderCurrencyAmtAvg       | 5.080658860113711E7                  \n",
            " SenderReceiver             | WVOLDEMMMBYOTRIS                     \n",
            " SenderReceiverFreq         | 56650                                \n",
            "\n"
          ]
        }
      ]
    },
    {
      "cell_type": "code",
      "source": [
        "# Display random row of test_df\n",
        "test_df.sample(False, 0.000001).limit(1).show(1, truncate=False, vertical=True)"
      ],
      "metadata": {
        "colab": {
          "base_uri": "https://localhost:8080/",
          "height": 642
        },
        "id": "JWYsNKzQFiAL",
        "outputId": "98c4b292-fef4-4de5-ba59-7b9f96c40ce8"
      },
      "execution_count": 39,
      "outputs": [
        {
          "output_type": "display_data",
          "data": {
            "text/plain": [
              "<IPython.core.display.HTML object>"
            ],
            "text/html": [
              "\n",
              "    <style>\n",
              "      pre {\n",
              "          white-space: pre-wrap;\n",
              "      }\n",
              "    </style>\n",
              "    "
            ]
          },
          "metadata": {}
        },
        {
          "output_type": "stream",
          "name": "stdout",
          "text": [
            "-RECORD 0----------------------------------------------------------------\n",
            " MessageId                  | TE4YLDMJLK                                 \n",
            " Timestamp                  | 2022-01-26 16:04:00                        \n",
            " UETR                       | df4c6a56-25f7-4bec-8ccb-a98c1548a980       \n",
            " Sender                     | CBLHESMM                                   \n",
            " Receiver                   | FJKNESMM                                   \n",
            " TransactionReference       | PETX22-NO-FX-336                           \n",
            " OrderingAccount            | ES19897100852916945789                     \n",
            " OrderingName               | SOLIDAGO SIMPLEX-SIMPLEX-SIMPLEX           \n",
            " OrderingStreet             | GLORIETA ROXANA NIETO 88                   \n",
            " OrderingCountryCityZip     | ES/PALENCIA| 32462                         \n",
            " BeneficiaryAccount         | ES56877514433102594208                     \n",
            " BeneficiaryName            | HYMENOPAPPUS ARTEMISIIFOLIUS-RIOGRANDENSIS \n",
            " BeneficiaryStreet          | PLAZA NICOLASA GUTIERREZ 223               \n",
            " BeneficiaryCountryCityZip  | ES/MELILLA| 12437                          \n",
            " SettlementDate             | 220126                                     \n",
            " SettlementCurrency         | EUR                                        \n",
            " SettlementAmount           | 265315.63                                  \n",
            " InstructedCurrency         | EUR                                        \n",
            " InstructedAmount           | 265295.63                                  \n",
            " Label                      | 0                                          \n",
            " InstructedAmountUSD        | 303272.02706925536                         \n",
            " OriginalSender             | CBLHESMM                                   \n",
            " FinalReceiver              | FJKNESMM                                   \n",
            " MatchingBeneficiaryAccount | ES56877514433102594208                     \n",
            " BeneficiaryAccountFlag     | 0                                          \n",
            " Hour                       | 16                                         \n",
            " SenderHour                 | CBLHESMM16                                 \n",
            " SenderHourFreq             | 2089                                       \n",
            " SenderCurrency             | CBLHESMMEUR                                \n",
            " SenderCurrencyFreq         | 80990                                      \n",
            " SenderCurrencyAmtAvg       | 1914043.822267124                          \n",
            " SenderReceiver             | CBLHESMMFJKNESMM                           \n",
            " SenderReceiverFreq         | 40495                                      \n",
            "\n"
          ]
        }
      ]
    },
    {
      "cell_type": "markdown",
      "source": [
        "<br>"
      ],
      "metadata": {
        "id": "QkrTTJ9_S2kc"
      }
    },
    {
      "cell_type": "markdown",
      "metadata": {
        "id": "gFkdce4XbMAi"
      },
      "source": [
        "## Drop extraneous columns that will not be used in modeling\n",
        "\n",
        "We're going to drop all categorical columns here, save for the ones which are one hot encoding which are  `InstructedCurrency` and `BeneficiaryAccountFlag`. We'll also drop `SettlementAmount` for the reasons already mentioned.\n",
        "\n",
        "We'll keep `MessageId` for now as an index to identify unique transactions, but we're going to drop it before modeling."
      ]
    },
    {
      "cell_type": "code",
      "source": [
        "cols_to_drop = [\n",
        "    'Timestamp',\n",
        "    'UETR',\n",
        "    'Sender',\n",
        "    'Receiver',\n",
        "    'TransactionReference',\n",
        "    'OrderingAccount',\n",
        "    'OrderingName',\n",
        "    'OrderingStreet',\n",
        "    'OrderingCountryCityZip',\n",
        "    'BeneficiaryAccount',\n",
        "    'BeneficiaryName',\n",
        "    'BeneficiaryStreet',\n",
        "    'BeneficiaryCountryCityZip',\n",
        "    'SettlementDate',\n",
        "    'SettlementCurrency',\n",
        "    'SettlementAmount', \n",
        "    'InstructedAmount'\n",
        "    'SenderHour',\n",
        "    'SenderCurrency',\n",
        "    'SenderReceiver'\n",
        "]\n",
        "\n",
        "train_df = train_df.drop(*cols_to_drop)\n",
        "test_df = test_df.drop(*cols_to_drop)"
      ],
      "metadata": {
        "id": "_Qki9kYKS5Hr"
      },
      "execution_count": null,
      "outputs": []
    },
    {
      "cell_type": "code",
      "source": [
        "# Print number of null/missing values in each column of train_df\n",
        "train_df_null = train_df.select([F.count(F.when(F.col(c).isNull() | F.isnan(c), c))\\\n",
        "                                 .alias(c) for c in train_df.columns if c != 'Timestamp'])\n",
        "\n",
        "print('Number of null/missing values per column:\\n')\n",
        "train_df_null.show(truncate=False, vertical=True)"
      ],
      "metadata": {
        "id": "rrOkHQ_lzM8t"
      },
      "execution_count": null,
      "outputs": []
    }
  ]
}