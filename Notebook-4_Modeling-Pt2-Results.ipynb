{
  "cells": [
    {
      "cell_type": "markdown",
      "metadata": {
        "id": "view-in-github",
        "colab_type": "text"
      },
      "source": [
        "<a href=\"https://colab.research.google.com/github/rjpost20/Anomalous-Bank-Transactions-Detection-Project/blob/main/Notebook-4_Modeling-Pt2-Results.ipynb\" target=\"_parent\"><img src=\"https://colab.research.google.com/assets/colab-badge.svg\" alt=\"Open In Colab\"/></a>"
      ]
    },
    {
      "cell_type": "markdown",
      "metadata": {
        "id": "_6bs9GYKTazR"
      },
      "source": [
        "<img src=\"https://github.com/rjpost20/Anomalous-Bank-Transactions-Detection-Project/blob/main/data/AdobeStock_319163865.jpeg?raw=true\">\n",
        "Image by <a href=\"https://stock.adobe.com/contributor/200768506/andsus?load_type=author&prev_url=detail\" >AndSus</a> on Adobe Stock"
      ]
    },
    {
      "cell_type": "markdown",
      "metadata": {
        "id": "7VB6bZymTwee"
      },
      "source": [
        "# Phase 5 Project: *Detecting Anomalous Financial Transactions*"
      ]
    },
    {
      "cell_type": "markdown",
      "metadata": {
        "id": "nCbcIwMIT8L2"
      },
      "source": [
        "## Notebook 4: Modeling Part 2, Analysis and Results"
      ]
    },
    {
      "cell_type": "markdown",
      "metadata": {
        "id": "xIF5Rp36UDq8"
      },
      "source": [
        "### By Ryan Posternak"
      ]
    },
    {
      "cell_type": "markdown",
      "metadata": {
        "id": "02ym0eygUI_s"
      },
      "source": [
        "Flatiron School, Full-Time Live NYC<br>\n",
        "Project Presentation Date: August 25th, 2022<br>\n",
        "Instructor: Joseph Mata"
      ]
    },
    {
      "cell_type": "markdown",
      "metadata": {
        "id": "tITdkCs8UbQf"
      },
      "source": [
        "<br>"
      ]
    },
    {
      "cell_type": "markdown",
      "metadata": {
        "id": "YVvo7KHTUQbw"
      },
      "source": [
        "# Imports and Reading in Data"
      ]
    },
    {
      "cell_type": "markdown",
      "metadata": {
        "id": "xsGuZAD3URpn"
      },
      "source": [
        "### Google colab compatibility downloads"
      ]
    },
    {
      "cell_type": "code",
      "execution_count": 1,
      "metadata": {
        "colab": {
          "base_uri": "https://localhost:8080/"
        },
        "id": "5vbzjcsbUSJ1",
        "outputId": "ba3368bc-5d92-4dcf-f723-cb844945d263"
      },
      "outputs": [
        {
          "output_type": "stream",
          "name": "stdout",
          "text": [
            "Get:1 https://cloud.r-project.org/bin/linux/ubuntu bionic-cran40/ InRelease [3,626 B]\n",
            "Ign:2 https://developer.download.nvidia.com/compute/machine-learning/repos/ubuntu1804/x86_64  InRelease\n",
            "Get:3 https://developer.download.nvidia.com/compute/cuda/repos/ubuntu1804/x86_64  InRelease [1,581 B]\n",
            "Hit:4 https://developer.download.nvidia.com/compute/machine-learning/repos/ubuntu1804/x86_64  Release\n",
            "Get:5 http://security.ubuntu.com/ubuntu bionic-security InRelease [88.7 kB]\n",
            "Get:6 http://ppa.launchpad.net/c2d4u.team/c2d4u4.0+/ubuntu bionic InRelease [15.9 kB]\n",
            "Get:7 https://developer.download.nvidia.com/compute/cuda/repos/ubuntu1804/x86_64  Packages [910 kB]\n",
            "Hit:9 http://archive.ubuntu.com/ubuntu bionic InRelease\n",
            "Get:10 http://archive.ubuntu.com/ubuntu bionic-updates InRelease [88.7 kB]\n",
            "Hit:11 http://ppa.launchpad.net/cran/libgit2/ubuntu bionic InRelease\n",
            "Get:12 http://security.ubuntu.com/ubuntu bionic-security/universe amd64 Packages [1,533 kB]\n",
            "Get:13 http://archive.ubuntu.com/ubuntu bionic-backports InRelease [74.6 kB]\n",
            "Hit:14 http://ppa.launchpad.net/deadsnakes/ppa/ubuntu bionic InRelease\n",
            "Get:15 http://archive.ubuntu.com/ubuntu bionic-updates/universe amd64 Packages [2,311 kB]\n",
            "Hit:16 http://ppa.launchpad.net/graphics-drivers/ppa/ubuntu bionic InRelease\n",
            "Get:17 http://ppa.launchpad.net/c2d4u.team/c2d4u4.0+/ubuntu bionic/main Sources [2,095 kB]\n",
            "Get:18 http://archive.ubuntu.com/ubuntu bionic-updates/main amd64 Packages [3,369 kB]\n",
            "Get:19 http://security.ubuntu.com/ubuntu bionic-security/main amd64 Packages [2,937 kB]\n",
            "Get:20 http://ppa.launchpad.net/c2d4u.team/c2d4u4.0+/ubuntu bionic/main amd64 Packages [1,073 kB]\n",
            "Fetched 14.5 MB in 6s (2,408 kB/s)\n",
            "Reading package lists... Done\n",
            "Building dependency tree       \n",
            "Reading state information... Done\n",
            "26 packages can be upgraded. Run 'apt list --upgradable' to see them.\n",
            "Looking in indexes: https://pypi.org/simple, https://us-python.pkg.dev/colab-wheels/public/simple/\n",
            "Collecting pyspark==3.3.0\n",
            "  Downloading pyspark-3.3.0.tar.gz (281.3 MB)\n",
            "\u001b[K     |████████████████████████████████| 281.3 MB 28 kB/s \n",
            "\u001b[?25hCollecting py4j==0.10.9.5\n",
            "  Downloading py4j-0.10.9.5-py2.py3-none-any.whl (199 kB)\n",
            "\u001b[K     |████████████████████████████████| 199 kB 65.9 MB/s \n",
            "\u001b[?25hBuilding wheels for collected packages: pyspark\n",
            "  Building wheel for pyspark (setup.py) ... \u001b[?25l\u001b[?25hdone\n",
            "  Created wheel for pyspark: filename=pyspark-3.3.0-py2.py3-none-any.whl size=281764026 sha256=1f598ca8cdac17d66cc53b256ccdac1210fa0525a5fa510052e2a80c15c43c5d\n",
            "  Stored in directory: /root/.cache/pip/wheels/7a/8e/1b/f73a52650d2e5f337708d9f6a1750d451a7349a867f928b885\n",
            "Successfully built pyspark\n",
            "Installing collected packages: py4j, pyspark\n",
            "Successfully installed py4j-0.10.9.5 pyspark-3.3.0\n"
          ]
        }
      ],
      "source": [
        "!sudo apt update\n",
        "!apt-get install openjdk-8-jdk-headless -qq > /dev/null\n",
        "!wget -q https://dlcdn.apache.org/spark/spark-3.3.0/spark-3.3.0-bin-hadoop3.tgz \n",
        "!tar xf spark-3.3.0-bin-hadoop3.tgz\n",
        "import os\n",
        "os.environ[\"JAVA_HOME\"] = \"/usr/lib/jvm/java-8-openjdk-amd64\"\n",
        "os.environ[\"SPARK_HOME\"] = \"/content/spark-3.3.0-bin-hadoop3\"\n",
        "!pip install pyspark==3.3.0\n",
        "!pip install -q findspark\n",
        "import findspark\n",
        "findspark.init()"
      ]
    },
    {
      "cell_type": "code",
      "execution_count": 2,
      "metadata": {
        "colab": {
          "base_uri": "https://localhost:8080/"
        },
        "id": "ZL5VI-6OUSmC",
        "outputId": "aaabc300-8941-4472-a371-c333c38451ea"
      },
      "outputs": [
        {
          "output_type": "stream",
          "name": "stdout",
          "text": [
            "Mounted at /content/drive\n"
          ]
        }
      ],
      "source": [
        "# Connect to Google drive\n",
        "from google.colab import drive, files\n",
        "drive.mount('/content/drive')\n",
        "drive_path = '/content/drive/MyDrive/Colab Notebooks/'"
      ]
    },
    {
      "cell_type": "code",
      "execution_count": 3,
      "metadata": {
        "id": "rKWlJ4EbUTF0"
      },
      "outputs": [],
      "source": [
        "import numpy as np\n",
        "import pandas as pd\n",
        "pd.set_option('display.max_columns', None)\n",
        "\n",
        "from pyspark.sql import SparkSession\n",
        "import pyspark.sql.functions as F\n",
        "\n",
        "from pyspark.ml.feature import VectorAssembler, StandardScaler, StringIndexer, OneHotEncoder\n",
        "from pyspark.ml import Pipeline, PipelineModel\n",
        "from pyspark.ml.classification import DecisionTreeClassifier, RandomForestClassifier, \\\n",
        "MultilayerPerceptronClassifier\n",
        "from pyspark.ml.evaluation import BinaryClassificationEvaluator\n",
        "from pyspark.ml.tuning import ParamGridBuilder, TrainValidationSplit, TrainValidationSplitModel\n",
        "\n",
        "from sklearn.metrics import classification_report, confusion_matrix, ConfusionMatrixDisplay\n",
        "\n",
        "import matplotlib.pyplot as plt\n",
        "plt.style.use('seaborn')\n",
        "from IPython.display import HTML, display\n",
        "%matplotlib inline\n",
        "%config InlineBackend.figure_format='retina'"
      ]
    },
    {
      "cell_type": "code",
      "execution_count": 4,
      "metadata": {
        "colab": {
          "base_uri": "https://localhost:8080/",
          "height": 74,
          "resources": {
            "http://localhost:8080/nbextensions/google.colab/files.js": {
              "data": "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",
              "headers": [
                [
                  "content-type",
                  "application/javascript"
                ]
              ],
              "ok": true,
              "status": 200,
              "status_text": ""
            }
          }
        },
        "id": "vc_V7XVRDx1U",
        "outputId": "08ff07a9-c5df-41c6-ad72-20019d17e5e3"
      },
      "outputs": [
        {
          "output_type": "display_data",
          "data": {
            "text/plain": [
              "<IPython.core.display.HTML object>"
            ],
            "text/html": [
              "\n",
              "     <input type=\"file\" id=\"files-b5fbecd7-c1c9-45a4-97ee-b309046be87a\" name=\"files[]\" multiple disabled\n",
              "        style=\"border:none\" />\n",
              "     <output id=\"result-b5fbecd7-c1c9-45a4-97ee-b309046be87a\">\n",
              "      Upload widget is only available when the cell has been executed in the\n",
              "      current browser session. Please rerun this cell to enable.\n",
              "      </output>\n",
              "      <script src=\"/nbextensions/google.colab/files.js\"></script> "
            ]
          },
          "metadata": {}
        },
        {
          "output_type": "stream",
          "name": "stdout",
          "text": [
            "Saving helper_functions.py to helper_functions.py\n"
          ]
        }
      ],
      "source": [
        "# Import helper functions\n",
        "helper_functions = files.upload()\n",
        "from helper_functions import set_weight_col, spark_resample, grid_search, score_model, plot_confusion_matrix"
      ]
    },
    {
      "cell_type": "code",
      "execution_count": 5,
      "metadata": {
        "colab": {
          "base_uri": "https://localhost:8080/"
        },
        "id": "PE0CcaaTrsP9",
        "outputId": "6cb88841-17ae-4b2e-8cb2-0e2fcf77324f"
      },
      "outputs": [
        {
          "output_type": "stream",
          "name": "stdout",
          "text": [
            "Your runtime has 54.8 gigabytes of available RAM\n",
            "\n",
            "You are using a high-RAM runtime!\n"
          ]
        }
      ],
      "source": [
        "# Check Colab RAM info\n",
        "from psutil import virtual_memory\n",
        "ram_gb = virtual_memory().total / 1e9\n",
        "print('Your runtime has {:.1f} gigabytes of available RAM\\n'.format(ram_gb))\n",
        "\n",
        "if ram_gb < 20:\n",
        "  print('Not using a high-RAM runtime')\n",
        "else:\n",
        "  print('You are using a high-RAM runtime!')"
      ]
    },
    {
      "cell_type": "code",
      "execution_count": 5,
      "metadata": {
        "id": "7Q03mQqlVAa-"
      },
      "outputs": [],
      "source": [
        "# Set text to wrap in Google colab notebook\n",
        "def set_css():\n",
        "    display(HTML(\"\"\"\n",
        "    <style>\n",
        "      pre {\n",
        "          white-space: pre-wrap;\n",
        "      }\n",
        "    </style>\n",
        "    \"\"\"))\n",
        "get_ipython().events.register('pre_run_cell', set_css)"
      ]
    },
    {
      "cell_type": "code",
      "execution_count": 6,
      "metadata": {
        "colab": {
          "base_uri": "https://localhost:8080/",
          "height": 221
        },
        "id": "NLJkXpZlVAi5",
        "outputId": "f1112178-23fa-4336-9d37-39a42d542996"
      },
      "outputs": [
        {
          "output_type": "display_data",
          "data": {
            "text/plain": [
              "<IPython.core.display.HTML object>"
            ],
            "text/html": [
              "\n",
              "    <style>\n",
              "      pre {\n",
              "          white-space: pre-wrap;\n",
              "      }\n",
              "    </style>\n",
              "    "
            ]
          },
          "metadata": {}
        },
        {
          "output_type": "execute_result",
          "data": {
            "text/plain": [
              "<pyspark.sql.session.SparkSession at 0x7f30f1fabd10>"
            ],
            "text/html": [
              "\n",
              "            <div>\n",
              "                <p><b>SparkSession - in-memory</b></p>\n",
              "                \n",
              "        <div>\n",
              "            <p><b>SparkContext</b></p>\n",
              "\n",
              "            <p><a href=\"http://0919494d33cc:4050\">Spark UI</a></p>\n",
              "\n",
              "            <dl>\n",
              "              <dt>Version</dt>\n",
              "                <dd><code>v3.3.0</code></dd>\n",
              "              <dt>Master</dt>\n",
              "                <dd><code>local[*]</code></dd>\n",
              "              <dt>AppName</dt>\n",
              "                <dd><code>Colab</code></dd>\n",
              "            </dl>\n",
              "        </div>\n",
              "        \n",
              "            </div>\n",
              "        "
            ]
          },
          "metadata": {},
          "execution_count": 6
        }
      ],
      "source": [
        "# Initialize Spark Session\n",
        "spark = SparkSession.builder\\\n",
        "        .master(\"local[*]\")\\\n",
        "        .appName(\"Colab\")\\\n",
        "        .config(\"spark.ui.port\", \"4050\")\\\n",
        "        .config(\"spark.driver.memory\", \"15g\")\\\n",
        "        .getOrCreate()\n",
        "\n",
        "spark"
      ]
    },
    {
      "cell_type": "markdown",
      "metadata": {
        "id": "b25f65a8-1444-468f-a5ee-9611e4d794ef"
      },
      "source": [
        "## Read in Data"
      ]
    },
    {
      "cell_type": "code",
      "execution_count": 7,
      "metadata": {
        "colab": {
          "base_uri": "https://localhost:8080/",
          "height": 17
        },
        "id": "2XuhVucTVAqb",
        "outputId": "a86caf12-cdd5-4699-c903-9068467f7cf4"
      },
      "outputs": [
        {
          "output_type": "display_data",
          "data": {
            "text/plain": [
              "<IPython.core.display.HTML object>"
            ],
            "text/html": [
              "\n",
              "    <style>\n",
              "      pre {\n",
              "          white-space: pre-wrap;\n",
              "      }\n",
              "    </style>\n",
              "    "
            ]
          },
          "metadata": {}
        }
      ],
      "source": [
        "# Read in train_df_full and test_df_full data csv files as Spark DataFrames\n",
        "train_df_full = spark.read.csv(drive_path + 'train_df_full.csv', header=True, inferSchema=True)\n",
        "test_df_full = spark.read.csv(drive_path + 'test_df_full.csv', header=True, inferSchema=True)"
      ]
    },
    {
      "cell_type": "markdown",
      "metadata": {
        "id": "Z9ozj765PqrM"
      },
      "source": [
        "<br>"
      ]
    },
    {
      "cell_type": "markdown",
      "metadata": {
        "id": "09uu3jqXN0D3"
      },
      "source": [
        "## Add `Weight` column to dataframe\n",
        "\n",
        "As we've seen, the training dataset is extremely imbalanced in regards to target class distribution. In order to improve modeling performance, we'll add a new column `Weight` to `train_df_full` specifying the weights to use, which we pass in to PySpark models in the `weightCol` parameter. We'll create the new `Weight` column using the `set_weight_col` function in `helper_functions`.\n",
        "\n",
        "Our initial `Weight` column will specify equal weights across all observations, which is the default in PySpark."
      ]
    },
    {
      "cell_type": "code",
      "execution_count": null,
      "metadata": {
        "colab": {
          "base_uri": "https://localhost:8080/",
          "height": 463
        },
        "id": "3uBAlM6OQgyg",
        "outputId": "c9dc3dc7-de54-4e46-996c-d90c674fe395"
      },
      "outputs": [
        {
          "data": {
            "text/html": [
              "\n",
              "    <style>\n",
              "      pre {\n",
              "          white-space: pre-wrap;\n",
              "      }\n",
              "    </style>\n",
              "    "
            ],
            "text/plain": [
              "<IPython.core.display.HTML object>"
            ]
          },
          "metadata": {},
          "output_type": "display_data"
        },
        {
          "name": "stdout",
          "output_type": "stream",
          "text": [
            "\n",
            "    Calculates and creates a column of class weights \n",
            "    in a PySpark dataframe with an imbalanced binary \n",
            "    target class distribution.\n",
            "\n",
            "    Parameters\n",
            "    ----------\n",
            "    df : Spark `DataFrame`\n",
            "        The Spark `DataFrame` to assign the \n",
            "        `ClassWeight` column to\n",
            "    label_col : Spark `Column`\n",
            "        Label column name\n",
            "    pos_class_weight : `float` or 'balanced'\n",
            "        Class weight to assign to positive class \n",
            "        (`1`) in weight column. If 'balanced', assigned \n",
            "        class weights will be equal to 1 - proportion of \n",
            "        class in dataframe. If `float`, positive class \n",
            "        will be assigned `pos_class_weight`.\n",
            "    neg_class_weight : '`float` or 'balanced'\n",
            "        Class weight to assign to negative class \n",
            "        (`0`) in weight column. If 'balanced', assigned \n",
            "        class weights will be equal to 1 - proportion of \n",
            "        class in dataframe. If `float`, negative class \n",
            "        will be assigned `neg_class_weight`.\n",
            "    \n"
          ]
        }
      ],
      "source": [
        "print(set_weight_col.__doc__)"
      ]
    },
    {
      "cell_type": "code",
      "execution_count": 9,
      "metadata": {
        "colab": {
          "base_uri": "https://localhost:8080/",
          "height": 17
        },
        "id": "gVqOxSzCP5r8",
        "outputId": "e1952ddb-901e-4697-dfff-daf79b39c1d6"
      },
      "outputs": [
        {
          "output_type": "display_data",
          "data": {
            "text/plain": [
              "<IPython.core.display.HTML object>"
            ],
            "text/html": [
              "\n",
              "    <style>\n",
              "      pre {\n",
              "          white-space: pre-wrap;\n",
              "      }\n",
              "    </style>\n",
              "    "
            ]
          },
          "metadata": {}
        }
      ],
      "source": [
        "train_df_full = set_weight_col(train_df_full, label_col='Label', pos_class_weight=1.0, neg_class_weight=1.0)"
      ]
    },
    {
      "cell_type": "code",
      "execution_count": null,
      "metadata": {
        "colab": {
          "base_uri": "https://localhost:8080/",
          "height": 231
        },
        "id": "1yOERTKURGF2",
        "outputId": "09b3beb2-3639-44a0-8fc0-aef4973390a2"
      },
      "outputs": [
        {
          "data": {
            "text/html": [
              "\n",
              "    <style>\n",
              "      pre {\n",
              "          white-space: pre-wrap;\n",
              "      }\n",
              "    </style>\n",
              "    "
            ],
            "text/plain": [
              "<IPython.core.display.HTML object>"
            ]
          },
          "metadata": {},
          "output_type": "display_data"
        },
        {
          "name": "stdout",
          "output_type": "stream",
          "text": [
            "-RECORD 0---------------\n",
            " MessageId | TRFXV1O7R2 \n",
            " Label     | 0          \n",
            " Weight    | 1.0        \n",
            "only showing top 1 row\n",
            "\n",
            "-RECORD 0---------------\n",
            " MessageId | TR14I40JIT \n",
            " Label     | 1          \n",
            " Weight    | 1.0        \n",
            "only showing top 1 row\n",
            "\n"
          ]
        }
      ],
      "source": [
        "# Preview Weight column\n",
        "cols_to_show = ['MessageId', 'Label', 'Weight']\n",
        "train_df_full.select(cols_to_show).where(train_df_full.Label == 0).show(1, truncate=False, vertical=True)\n",
        "train_df_full.select(cols_to_show).where(train_df_full.Label == 1).show(1, truncate=False, vertical=True)"
      ]
    },
    {
      "cell_type": "code",
      "execution_count": null,
      "metadata": {
        "colab": {
          "base_uri": "https://localhost:8080/",
          "height": 53
        },
        "id": "UcoMf27IVOLC",
        "outputId": "e7327bb7-59e5-494a-9be3-54b7a3f06dcf"
      },
      "outputs": [
        {
          "data": {
            "text/html": [
              "\n",
              "    <style>\n",
              "      pre {\n",
              "          white-space: pre-wrap;\n",
              "      }\n",
              "    </style>\n",
              "    "
            ],
            "text/plain": [
              "<IPython.core.display.HTML object>"
            ]
          },
          "metadata": {},
          "output_type": "display_data"
        },
        {
          "name": "stdout",
          "output_type": "stream",
          "text": [
            "train_df_full:  4,691,725 Rows, 21 Columns\n",
            "test_df_full:  705,108 Rows, 20 Columns\n"
          ]
        }
      ],
      "source": [
        "# Print shape of dataframes\n",
        "print(f\"train_df_full:  {train_df_full.count():,} Rows, {len(train_df_full.columns)} Columns\")\n",
        "print(f\"test_df_full:  {test_df_full.count():,} Rows, {len(test_df_full.columns)} Columns\")"
      ]
    },
    {
      "cell_type": "code",
      "execution_count": null,
      "metadata": {
        "colab": {
          "base_uri": "https://localhost:8080/",
          "height": 446
        },
        "id": "OWm1UBS1VOSH",
        "outputId": "9b54aba4-389c-4759-876b-95f4c3c9338b"
      },
      "outputs": [
        {
          "data": {
            "text/html": [
              "\n",
              "    <style>\n",
              "      pre {\n",
              "          white-space: pre-wrap;\n",
              "      }\n",
              "    </style>\n",
              "    "
            ],
            "text/plain": [
              "<IPython.core.display.HTML object>"
            ]
          },
          "metadata": {},
          "output_type": "display_data"
        },
        {
          "name": "stdout",
          "output_type": "stream",
          "text": [
            "train_df_full:\n",
            "root\n",
            " |-- MessageId: string (nullable = true)\n",
            " |-- SettlementCurrency: string (nullable = true)\n",
            " |-- InstructedCurrency: string (nullable = true)\n",
            " |-- Label: integer (nullable = true)\n",
            " |-- OrderingCountry: string (nullable = true)\n",
            " |-- BeneficiaryCountry: string (nullable = true)\n",
            " |-- InstructedAmountUSD: integer (nullable = true)\n",
            " |-- IntermediaryTransactions: integer (nullable = true)\n",
            " |-- OriginalSender: string (nullable = true)\n",
            " |-- FinalReceiver: string (nullable = true)\n",
            " |-- Flagged: integer (nullable = true)\n",
            " |-- OrderingCountryFreq: integer (nullable = true)\n",
            " |-- BeneficiaryCountryFreq: integer (nullable = true)\n",
            " |-- Hour: integer (nullable = true)\n",
            " |-- SenderHourFreq: integer (nullable = true)\n",
            " |-- SenderCurrencyFreq: integer (nullable = true)\n",
            " |-- SenderCurrencyAmtAvg: integer (nullable = true)\n",
            " |-- SenderFreq: integer (nullable = true)\n",
            " |-- ReceiverFreq: integer (nullable = true)\n",
            " |-- SenderReceiverFreq: integer (nullable = true)\n",
            " |-- Weight: double (nullable = true)\n",
            "\n"
          ]
        }
      ],
      "source": [
        "# Print schema of training dataframe\n",
        "print('train_df_full:')\n",
        "train_df_full.printSchema()"
      ]
    },
    {
      "cell_type": "code",
      "execution_count": null,
      "metadata": {
        "colab": {
          "base_uri": "https://localhost:8080/",
          "height": 428
        },
        "id": "SAlIlsWPVObJ",
        "outputId": "e28e1054-29cb-4c4d-de31-ebb4d0130f10"
      },
      "outputs": [
        {
          "data": {
            "text/html": [
              "\n",
              "    <style>\n",
              "      pre {\n",
              "          white-space: pre-wrap;\n",
              "      }\n",
              "    </style>\n",
              "    "
            ],
            "text/plain": [
              "<IPython.core.display.HTML object>"
            ]
          },
          "metadata": {},
          "output_type": "display_data"
        },
        {
          "name": "stdout",
          "output_type": "stream",
          "text": [
            "test_df_full:\n",
            "root\n",
            " |-- MessageId: string (nullable = true)\n",
            " |-- SettlementCurrency: string (nullable = true)\n",
            " |-- InstructedCurrency: string (nullable = true)\n",
            " |-- Label: integer (nullable = true)\n",
            " |-- OrderingCountry: string (nullable = true)\n",
            " |-- BeneficiaryCountry: string (nullable = true)\n",
            " |-- InstructedAmountUSD: integer (nullable = true)\n",
            " |-- IntermediaryTransactions: integer (nullable = true)\n",
            " |-- OriginalSender: string (nullable = true)\n",
            " |-- FinalReceiver: string (nullable = true)\n",
            " |-- Flagged: integer (nullable = true)\n",
            " |-- OrderingCountryFreq: integer (nullable = true)\n",
            " |-- BeneficiaryCountryFreq: integer (nullable = true)\n",
            " |-- Hour: integer (nullable = true)\n",
            " |-- SenderHourFreq: integer (nullable = true)\n",
            " |-- SenderCurrencyFreq: integer (nullable = true)\n",
            " |-- SenderCurrencyAmtAvg: integer (nullable = true)\n",
            " |-- SenderFreq: integer (nullable = true)\n",
            " |-- ReceiverFreq: integer (nullable = true)\n",
            " |-- SenderReceiverFreq: integer (nullable = true)\n",
            "\n"
          ]
        }
      ],
      "source": [
        "# Print schema of test dataframe\n",
        "print('test_df_full:')\n",
        "test_df_full.printSchema()"
      ]
    },
    {
      "cell_type": "code",
      "execution_count": 8,
      "metadata": {
        "colab": {
          "base_uri": "https://localhost:8080/",
          "height": 17
        },
        "id": "s7nTo2BMXmWS",
        "outputId": "3bc03cbc-c959-4aa5-b31b-655a5d9d92d5"
      },
      "outputs": [
        {
          "output_type": "display_data",
          "data": {
            "text/plain": [
              "<IPython.core.display.HTML object>"
            ],
            "text/html": [
              "\n",
              "    <style>\n",
              "      pre {\n",
              "          white-space: pre-wrap;\n",
              "      }\n",
              "    </style>\n",
              "    "
            ]
          },
          "metadata": {}
        }
      ],
      "source": [
        "# Drop 'MessageId' individual transaction identifier column - will not be used in modeling\n",
        "train_df_full = train_df_full.drop('MessageId')\n",
        "test_df_full = test_df_full.drop('MessageId')\n",
        "\n",
        "# Rename target variable 'Label' column to more descriptive 'Anomalous'\n",
        "train_df_full = train_df_full.withColumnRenamed('Label', 'Anomalous')\n",
        "test_df_full = test_df_full.withColumnRenamed('Label', 'Anomalous')"
      ]
    },
    {
      "cell_type": "code",
      "execution_count": null,
      "metadata": {
        "colab": {
          "base_uri": "https://localhost:8080/",
          "height": 428
        },
        "id": "B2jaFCBIwpiM",
        "outputId": "e6ce7e07-b995-4cdd-cd7c-871633b0dca5"
      },
      "outputs": [
        {
          "data": {
            "text/html": [
              "\n",
              "    <style>\n",
              "      pre {\n",
              "          white-space: pre-wrap;\n",
              "      }\n",
              "    </style>\n",
              "    "
            ],
            "text/plain": [
              "<IPython.core.display.HTML object>"
            ]
          },
          "metadata": {},
          "output_type": "display_data"
        },
        {
          "name": "stdout",
          "output_type": "stream",
          "text": [
            "-RECORD 0----------------------------\n",
            " SettlementCurrency       | EUR      \n",
            " InstructedCurrency       | EUR      \n",
            " Anomalous                | 0        \n",
            " OrderingCountry          | PE       \n",
            " BeneficiaryCountry       | EC       \n",
            " InstructedAmountUSD      | 519149   \n",
            " IntermediaryTransactions | 0        \n",
            " OriginalSender           | FAMAPEPL \n",
            " FinalReceiver            | KNPVECEQ \n",
            " Flagged                  | 0        \n",
            " OrderingCountryFreq      | 73733    \n",
            " BeneficiaryCountryFreq   | 40984    \n",
            " Hour                     | 8        \n",
            " SenderHourFreq           | 47559    \n",
            " SenderCurrencyFreq       | 73733    \n",
            " SenderCurrencyAmtAvg     | 1906631  \n",
            " SenderFreq               | 73733    \n",
            " ReceiverFreq             | 41012    \n",
            " SenderReceiverFreq       | 40984    \n",
            " Weight                   | 1.0      \n",
            "only showing top 1 row\n",
            "\n"
          ]
        }
      ],
      "source": [
        "# Display first row of train_df_full dataframe\n",
        "train_df_full.show(n=1, truncate=False, vertical=True)"
      ]
    },
    {
      "cell_type": "code",
      "execution_count": null,
      "metadata": {
        "colab": {
          "base_uri": "https://localhost:8080/",
          "height": 410
        },
        "id": "7WB9ibsFWhC3",
        "outputId": "eacda553-ad6f-4b48-d126-f01b32caa6ae"
      },
      "outputs": [
        {
          "data": {
            "text/html": [
              "\n",
              "    <style>\n",
              "      pre {\n",
              "          white-space: pre-wrap;\n",
              "      }\n",
              "    </style>\n",
              "    "
            ],
            "text/plain": [
              "<IPython.core.display.HTML object>"
            ]
          },
          "metadata": {},
          "output_type": "display_data"
        },
        {
          "name": "stdout",
          "output_type": "stream",
          "text": [
            "-RECORD 0----------------------------\n",
            " SettlementCurrency       | EUR      \n",
            " InstructedCurrency       | EUR      \n",
            " Anomalous                | 0        \n",
            " OrderingCountry          | PE       \n",
            " BeneficiaryCountry       | EC       \n",
            " InstructedAmountUSD      | 653958   \n",
            " IntermediaryTransactions | 0        \n",
            " OriginalSender           | FAMAPEPL \n",
            " FinalReceiver            | KNPVECEQ \n",
            " Flagged                  | 0        \n",
            " OrderingCountryFreq      | 73733    \n",
            " BeneficiaryCountryFreq   | 40984    \n",
            " Hour                     | 8        \n",
            " SenderHourFreq           | 47559    \n",
            " SenderCurrencyFreq       | 73733    \n",
            " SenderCurrencyAmtAvg     | 1906631  \n",
            " SenderFreq               | 73733    \n",
            " ReceiverFreq             | 41012    \n",
            " SenderReceiverFreq       | 40984    \n",
            "only showing top 1 row\n",
            "\n"
          ]
        }
      ],
      "source": [
        "# Display first row of test_df_full dataframe\n",
        "test_df_full.show(n=1, truncate=False, vertical=True)"
      ]
    },
    {
      "cell_type": "code",
      "execution_count": null,
      "metadata": {
        "colab": {
          "base_uri": "https://localhost:8080/",
          "height": 142
        },
        "id": "A4NBBo5Z8HcL",
        "outputId": "2accfaf2-a273-4a81-a1c2-10fd4c445228"
      },
      "outputs": [
        {
          "data": {
            "text/html": [
              "\n",
              "    <style>\n",
              "      pre {\n",
              "          white-space: pre-wrap;\n",
              "      }\n",
              "    </style>\n",
              "    "
            ],
            "text/plain": [
              "<IPython.core.display.HTML object>"
            ]
          },
          "metadata": {},
          "output_type": "display_data"
        },
        {
          "name": "stdout",
          "output_type": "stream",
          "text": [
            "+---------+-------+---------------------+\n",
            "|Anomalous|count  |percent              |\n",
            "+---------+-------+---------------------+\n",
            "|1        |4900   |0.0010443919880214632|\n",
            "|0        |4686825|0.9989556080119786   |\n",
            "+---------+-------+---------------------+\n",
            "\n"
          ]
        }
      ],
      "source": [
        "# Display value counts for 'Anomalous' column (classification target)\n",
        "class_counts = train_df_full.groupBy('Anomalous').count().withColumn('percent', F.col('count')/train_df_full.count())\n",
        "\n",
        "class_counts.show(truncate=False)"
      ]
    },
    {
      "cell_type": "markdown",
      "metadata": {
        "id": "jTFLL4FrXelJ"
      },
      "source": [
        "<br>"
      ]
    },
    {
      "cell_type": "markdown",
      "metadata": {
        "id": "eytS6s3lWXio"
      },
      "source": [
        "# Create `Pipeline` to Preprocess and Model `train_df_full` Data"
      ]
    },
    {
      "cell_type": "markdown",
      "metadata": {
        "id": "ndf2Vu3xWzKy"
      },
      "source": [
        "### Index string columns with `StringIndexer`"
      ]
    },
    {
      "cell_type": "code",
      "execution_count": 9,
      "metadata": {
        "colab": {
          "base_uri": "https://localhost:8080/",
          "height": 53
        },
        "id": "3YdFfLtdWzRd",
        "outputId": "1a109163-cbfb-4172-ce0f-8e3b94f900ce"
      },
      "outputs": [
        {
          "output_type": "display_data",
          "data": {
            "text/plain": [
              "<IPython.core.display.HTML object>"
            ],
            "text/html": [
              "\n",
              "    <style>\n",
              "      pre {\n",
              "          white-space: pre-wrap;\n",
              "      }\n",
              "    </style>\n",
              "    "
            ]
          },
          "metadata": {}
        },
        {
          "output_type": "stream",
          "name": "stdout",
          "text": [
            "Indexed nominal categorical features: 6\n",
            "['SettlementCurrency_index', 'InstructedCurrency_index', 'OrderingCountry_index', 'BeneficiaryCountry_index', 'OriginalSender_index', 'FinalReceiver_index']\n"
          ]
        }
      ],
      "source": [
        "stages = []\n",
        "\n",
        "categoricalCols = [item[0] for item in train_df_full.dtypes if item[1].startswith('string')]\n",
        "\n",
        "indexers = []\n",
        "for col in categoricalCols:\n",
        "    indexer = StringIndexer(inputCol=col, outputCol=col + '_index', handleInvalid='keep')\n",
        "    indexers.append(indexer)\n",
        "    \n",
        "indexed_features = []\n",
        "for si in indexers:\n",
        "    indexed_features.append(si.getOutputCol())\n",
        "    \n",
        "print(f\"Indexed nominal categorical features: {len(indexed_features)}\")\n",
        "print(indexed_features)"
      ]
    },
    {
      "cell_type": "markdown",
      "metadata": {
        "id": "s6X8UUZCWzXN"
      },
      "source": [
        "### Create a `OneHotEncoder` to encode the indexed string features"
      ]
    },
    {
      "cell_type": "code",
      "execution_count": 10,
      "metadata": {
        "colab": {
          "base_uri": "https://localhost:8080/",
          "height": 71
        },
        "id": "GEIvAPM5Wzcq",
        "outputId": "bac39d25-d756-4d52-8d61-3fa68293a434"
      },
      "outputs": [
        {
          "output_type": "display_data",
          "data": {
            "text/plain": [
              "<IPython.core.display.HTML object>"
            ],
            "text/html": [
              "\n",
              "    <style>\n",
              "      pre {\n",
              "          white-space: pre-wrap;\n",
              "      }\n",
              "    </style>\n",
              "    "
            ]
          },
          "metadata": {}
        },
        {
          "output_type": "stream",
          "name": "stdout",
          "text": [
            "One hot encoded nominal categorical features: 6\n",
            "['SettlementCurrency_index_ohe', 'InstructedCurrency_index_ohe', 'OrderingCountry_index_ohe', 'BeneficiaryCountry_index_ohe', 'OriginalSender_index_ohe', 'FinalReceiver_index_ohe']\n"
          ]
        }
      ],
      "source": [
        "encoder = OneHotEncoder(inputCols=indexed_features, \n",
        "                        outputCols=[col + '_ohe' for col in indexed_features], \n",
        "                        dropLast=True)\n",
        "\n",
        "print(f\"One hot encoded nominal categorical features: {len(encoder.getOutputCols())}\")\n",
        "print(encoder.getOutputCols())"
      ]
    },
    {
      "cell_type": "markdown",
      "metadata": {
        "id": "8EK2-6LwZa8L"
      },
      "source": [
        "### Compile numeric features, not including target or class weight columns"
      ]
    },
    {
      "cell_type": "code",
      "execution_count": 11,
      "metadata": {
        "colab": {
          "base_uri": "https://localhost:8080/",
          "height": 71
        },
        "id": "3s3zpOEkWzhu",
        "outputId": "e76e76b8-6ed8-45f1-8517-795c083e076e"
      },
      "outputs": [
        {
          "output_type": "display_data",
          "data": {
            "text/plain": [
              "<IPython.core.display.HTML object>"
            ],
            "text/html": [
              "\n",
              "    <style>\n",
              "      pre {\n",
              "          white-space: pre-wrap;\n",
              "      }\n",
              "    </style>\n",
              "    "
            ]
          },
          "metadata": {}
        },
        {
          "output_type": "stream",
          "name": "stdout",
          "text": [
            "Numeric features: 12\n",
            "['InstructedAmountUSD', 'IntermediaryTransactions', 'Flagged', 'OrderingCountryFreq', 'BeneficiaryCountryFreq', 'Hour', 'SenderHourFreq', 'SenderCurrencyFreq', 'SenderCurrencyAmtAvg', 'SenderFreq', 'ReceiverFreq', 'SenderReceiverFreq']\n"
          ]
        }
      ],
      "source": [
        "numeric_features = []\n",
        "for column, dtype in train_df_full.dtypes:\n",
        "    if column != 'Anomalous' and column != 'Weight' and dtype != 'string':\n",
        "        numeric_features.append(column)\n",
        "\n",
        "# Confirm equal column counts\n",
        "assert len(train_df_full.drop('Anomalous', 'Weight').columns) == len(indexed_features) + len(numeric_features)\n",
        "print(f\"Numeric features: {len(numeric_features)}\\n{numeric_features}\")"
      ]
    },
    {
      "cell_type": "code",
      "execution_count": 12,
      "metadata": {
        "colab": {
          "base_uri": "https://localhost:8080/",
          "height": 88
        },
        "id": "TJyrAkENWzmR",
        "outputId": "566c5519-038c-4d41-8138-6640d9a20770"
      },
      "outputs": [
        {
          "output_type": "display_data",
          "data": {
            "text/plain": [
              "<IPython.core.display.HTML object>"
            ],
            "text/html": [
              "\n",
              "    <style>\n",
              "      pre {\n",
              "          white-space: pre-wrap;\n",
              "      }\n",
              "    </style>\n",
              "    "
            ]
          },
          "metadata": {}
        },
        {
          "output_type": "stream",
          "name": "stdout",
          "text": [
            "Final features: \n",
            "['SettlementCurrency_index_ohe', 'InstructedCurrency_index_ohe', 'OrderingCountry_index_ohe', 'BeneficiaryCountry_index_ohe', 'OriginalSender_index_ohe', 'FinalReceiver_index_ohe', 'InstructedAmountUSD', 'IntermediaryTransactions', 'Flagged', 'OrderingCountryFreq', 'BeneficiaryCountryFreq', 'Hour', 'SenderHourFreq', 'SenderCurrencyFreq', 'SenderCurrencyAmtAvg', 'SenderFreq', 'ReceiverFreq', 'SenderReceiverFreq']\n"
          ]
        }
      ],
      "source": [
        "\n",
        "# Print names of final features going into the model\n",
        "features = encoder.getOutputCols() + numeric_features\n",
        "print(f\"Final features: \\n{features}\")"
      ]
    },
    {
      "cell_type": "markdown",
      "metadata": {
        "id": "8Iz7ulwAavec"
      },
      "source": [
        "### Create a `VectorAssembler` to combine all features"
      ]
    },
    {
      "cell_type": "code",
      "execution_count": 13,
      "metadata": {
        "colab": {
          "base_uri": "https://localhost:8080/",
          "height": 53
        },
        "id": "27pnqdyva17G",
        "outputId": "5a5b2061-c013-4801-c16d-e765f827507f"
      },
      "outputs": [
        {
          "output_type": "display_data",
          "data": {
            "text/plain": [
              "<IPython.core.display.HTML object>"
            ],
            "text/html": [
              "\n",
              "    <style>\n",
              "      pre {\n",
              "          white-space: pre-wrap;\n",
              "      }\n",
              "    </style>\n",
              "    "
            ]
          },
          "metadata": {}
        },
        {
          "output_type": "stream",
          "name": "stdout",
          "text": [
            "Stages: [StringIndexer_e4a576f50999, StringIndexer_5b3cfd19d15e, StringIndexer_acee7f3c2e1a, StringIndexer_052c8f6054c2, StringIndexer_6dbfd0210ed7, StringIndexer_fc0d6ff0c162, OneHotEncoder_0b91520eb623, VectorAssembler_df7d349e680b, StandardScaler_8799882329c9]\n"
          ]
        }
      ],
      "source": [
        "assembler = VectorAssembler(inputCols=features, outputCol='vectorized_features')\n",
        "\n",
        "# Assemble a list of stages that includes the vector assembler and standard scaler\n",
        "scaler = StandardScaler(inputCol='vectorized_features', outputCol='scaled_features')\n",
        "\n",
        "stages = indexers + [encoder, assembler, scaler]\n",
        "print(\"Stages:\", stages)"
      ]
    },
    {
      "cell_type": "markdown",
      "metadata": {
        "id": "ZYwGcc_dbciE"
      },
      "source": [
        "### Preview modeling pipeline"
      ]
    },
    {
      "cell_type": "code",
      "execution_count": 14,
      "metadata": {
        "colab": {
          "base_uri": "https://localhost:8080/",
          "height": 17
        },
        "id": "MlwoYrCKbjYB",
        "outputId": "b0e2b3a3-718d-4426-af57-093290de0137"
      },
      "outputs": [
        {
          "output_type": "display_data",
          "data": {
            "text/plain": [
              "<IPython.core.display.HTML object>"
            ],
            "text/html": [
              "\n",
              "    <style>\n",
              "      pre {\n",
              "          white-space: pre-wrap;\n",
              "      }\n",
              "    </style>\n",
              "    "
            ]
          },
          "metadata": {}
        }
      ],
      "source": [
        "pipeline = Pipeline(stages=stages)\n",
        "\n",
        "pipeline_model = pipeline.fit(train_df_full)\n",
        "\n",
        "pipeline_df = pipeline_model.transform(train_df_full)"
      ]
    },
    {
      "cell_type": "code",
      "execution_count": 28,
      "metadata": {
        "colab": {
          "base_uri": "https://localhost:8080/",
          "height": 751
        },
        "id": "STgdImWXbwSl",
        "outputId": "81177f32-7db2-4342-bc3b-50b711d2e5ff"
      },
      "outputs": [
        {
          "output_type": "display_data",
          "data": {
            "text/plain": [
              "<IPython.core.display.HTML object>"
            ],
            "text/html": [
              "\n",
              "    <style>\n",
              "      pre {\n",
              "          white-space: pre-wrap;\n",
              "      }\n",
              "    </style>\n",
              "    "
            ]
          },
          "metadata": {}
        },
        {
          "output_type": "stream",
          "name": "stdout",
          "text": [
            "-RECORD 0------------------------------------------------------------------------------------------------------------------------------------------------------------------------------------------------------------------------------------------------------------------------------------------------------------------------------------------------------------------------------------------------------\n",
            " SettlementCurrency           | EUR                                                                                                                                                                                                                                                                                                                                                                            \n",
            " InstructedCurrency           | EUR                                                                                                                                                                                                                                                                                                                                                                            \n",
            " Anomalous                    | 0                                                                                                                                                                                                                                                                                                                                                                              \n",
            " OrderingCountry              | PE                                                                                                                                                                                                                                                                                                                                                                             \n",
            " BeneficiaryCountry           | EC                                                                                                                                                                                                                                                                                                                                                                             \n",
            " InstructedAmountUSD          | 519149                                                                                                                                                                                                                                                                                                                                                                         \n",
            " IntermediaryTransactions     | 0                                                                                                                                                                                                                                                                                                                                                                              \n",
            " OriginalSender               | FAMAPEPL                                                                                                                                                                                                                                                                                                                                                                       \n",
            " FinalReceiver                | KNPVECEQ                                                                                                                                                                                                                                                                                                                                                                       \n",
            " Flagged                      | 0                                                                                                                                                                                                                                                                                                                                                                              \n",
            " OrderingCountryFreq          | 73733                                                                                                                                                                                                                                                                                                                                                                          \n",
            " BeneficiaryCountryFreq       | 40984                                                                                                                                                                                                                                                                                                                                                                          \n",
            " Hour                         | 8                                                                                                                                                                                                                                                                                                                                                                              \n",
            " SenderHourFreq               | 47559                                                                                                                                                                                                                                                                                                                                                                          \n",
            " SenderCurrencyFreq           | 73733                                                                                                                                                                                                                                                                                                                                                                          \n",
            " SenderCurrencyAmtAvg         | 1906631                                                                                                                                                                                                                                                                                                                                                                        \n",
            " SenderFreq                   | 73733                                                                                                                                                                                                                                                                                                                                                                          \n",
            " ReceiverFreq                 | 41012                                                                                                                                                                                                                                                                                                                                                                          \n",
            " SenderReceiverFreq           | 40984                                                                                                                                                                                                                                                                                                                                                                          \n",
            " SettlementCurrency_index     | 1.0                                                                                                                                                                                                                                                                                                                                                                            \n",
            " InstructedCurrency_index     | 0.0                                                                                                                                                                                                                                                                                                                                                                            \n",
            " OrderingCountry_index        | 7.0                                                                                                                                                                                                                                                                                                                                                                            \n",
            " BeneficiaryCountry_index     | 9.0                                                                                                                                                                                                                                                                                                                                                                            \n",
            " OriginalSender_index         | 7.0                                                                                                                                                                                                                                                                                                                                                                            \n",
            " FinalReceiver_index          | 10.0                                                                                                                                                                                                                                                                                                                                                                           \n",
            " SettlementCurrency_index_ohe | (4,[1],[1.0])                                                                                                                                                                                                                                                                                                                                                                  \n",
            " InstructedCurrency_index_ohe | (8,[0],[1.0])                                                                                                                                                                                                                                                                                                                                                                  \n",
            " OrderingCountry_index_ohe    | (14,[7],[1.0])                                                                                                                                                                                                                                                                                                                                                                 \n",
            " BeneficiaryCountry_index_ohe | (11,[9],[1.0])                                                                                                                                                                                                                                                                                                                                                                 \n",
            " OriginalSender_index_ohe     | (15,[7],[1.0])                                                                                                                                                                                                                                                                                                                                                                 \n",
            " FinalReceiver_index_ohe      | (27,[10],[1.0])                                                                                                                                                                                                                                                                                                                                                                \n",
            " vectorized_features          | (91,[1,4,19,35,44,62,79,82,83,84,85,86,87,88,89,90],[1.0,1.0,1.0,1.0,1.0,1.0,519149.0,73733.0,40984.0,8.0,47559.0,73733.0,1906631.0,73733.0,41012.0,40984.0])                                                                                                                                                                                                                  \n",
            " scaled_features              | (91,[1,4,19,35,44,62,79,82,83,84,85,86,87,88,89,90],[2.166527932778849,2.000003056008823,8.040350141791528,10.746430978015434,8.040350141791528,10.742794251130638,0.0016527706896438477,0.13872751524523558,0.06111503793353783,1.6209688519495993,0.29776888126869516,0.16018777672814158,0.022806394100742228,0.12929906160159638,0.06163677309549741,0.06264906278885214]) \n",
            "only showing top 1 row\n",
            "\n"
          ]
        }
      ],
      "source": [
        "# Display first row of train_df_full after running through pipeline\n",
        "pipeline_df.show(1, vertical=True, truncate=False)"
      ]
    },
    {
      "cell_type": "code",
      "execution_count": 17,
      "metadata": {
        "colab": {
          "base_uri": "https://localhost:8080/",
          "height": 35
        },
        "id": "lH2vg1cjbzij",
        "outputId": "c5c09ba4-9062-41a2-f556-e30cf5269f2a"
      },
      "outputs": [
        {
          "output_type": "display_data",
          "data": {
            "text/plain": [
              "<IPython.core.display.HTML object>"
            ],
            "text/html": [
              "\n",
              "    <style>\n",
              "      pre {\n",
              "          white-space: pre-wrap;\n",
              "      }\n",
              "    </style>\n",
              "    "
            ]
          },
          "metadata": {}
        },
        {
          "output_type": "execute_result",
          "data": {
            "text/plain": [
              "91"
            ]
          },
          "metadata": {},
          "execution_count": 17
        }
      ],
      "source": [
        "pipeline_test = pipeline.fit(test_df_full)\n",
        "\n",
        "pipeline_df_test = pipeline_model.transform(test_df_full)\n",
        "\n",
        "pipeline.fit(test_df_full).transform(test_df_full).head()['scaled_features'].size"
      ]
    },
    {
      "cell_type": "code",
      "execution_count": 18,
      "metadata": {
        "colab": {
          "base_uri": "https://localhost:8080/",
          "height": 751
        },
        "id": "1gZDYHp_c2Ea",
        "outputId": "75e34bd5-9bd5-4f35-e3f5-1d55a6ea29a1"
      },
      "outputs": [
        {
          "output_type": "display_data",
          "data": {
            "text/plain": [
              "<IPython.core.display.HTML object>"
            ],
            "text/html": [
              "\n",
              "    <style>\n",
              "      pre {\n",
              "          white-space: pre-wrap;\n",
              "      }\n",
              "    </style>\n",
              "    "
            ]
          },
          "metadata": {}
        },
        {
          "output_type": "stream",
          "name": "stdout",
          "text": [
            "-RECORD 0------------------------------------------------------------------------------------------------------------------------------------------------------------------------------------------------------------------------------------------------------------------------------------------------------------------------------------------------------------------------------------------------------\n",
            " SettlementCurrency           | EUR                                                                                                                                                                                                                                                                                                                                                                            \n",
            " InstructedCurrency           | EUR                                                                                                                                                                                                                                                                                                                                                                            \n",
            " Anomalous                    | 0                                                                                                                                                                                                                                                                                                                                                                              \n",
            " OrderingCountry              | PE                                                                                                                                                                                                                                                                                                                                                                             \n",
            " BeneficiaryCountry           | EC                                                                                                                                                                                                                                                                                                                                                                             \n",
            " InstructedAmountUSD          | 653958                                                                                                                                                                                                                                                                                                                                                                         \n",
            " IntermediaryTransactions     | 0                                                                                                                                                                                                                                                                                                                                                                              \n",
            " OriginalSender               | FAMAPEPL                                                                                                                                                                                                                                                                                                                                                                       \n",
            " FinalReceiver                | KNPVECEQ                                                                                                                                                                                                                                                                                                                                                                       \n",
            " Flagged                      | 0                                                                                                                                                                                                                                                                                                                                                                              \n",
            " OrderingCountryFreq          | 73733                                                                                                                                                                                                                                                                                                                                                                          \n",
            " BeneficiaryCountryFreq       | 40984                                                                                                                                                                                                                                                                                                                                                                          \n",
            " Hour                         | 8                                                                                                                                                                                                                                                                                                                                                                              \n",
            " SenderHourFreq               | 47559                                                                                                                                                                                                                                                                                                                                                                          \n",
            " SenderCurrencyFreq           | 73733                                                                                                                                                                                                                                                                                                                                                                          \n",
            " SenderCurrencyAmtAvg         | 1906631                                                                                                                                                                                                                                                                                                                                                                        \n",
            " SenderFreq                   | 73733                                                                                                                                                                                                                                                                                                                                                                          \n",
            " ReceiverFreq                 | 41012                                                                                                                                                                                                                                                                                                                                                                          \n",
            " SenderReceiverFreq           | 40984                                                                                                                                                                                                                                                                                                                                                                          \n",
            " SettlementCurrency_index     | 1.0                                                                                                                                                                                                                                                                                                                                                                            \n",
            " InstructedCurrency_index     | 0.0                                                                                                                                                                                                                                                                                                                                                                            \n",
            " OrderingCountry_index        | 7.0                                                                                                                                                                                                                                                                                                                                                                            \n",
            " BeneficiaryCountry_index     | 9.0                                                                                                                                                                                                                                                                                                                                                                            \n",
            " OriginalSender_index         | 7.0                                                                                                                                                                                                                                                                                                                                                                            \n",
            " FinalReceiver_index          | 10.0                                                                                                                                                                                                                                                                                                                                                                           \n",
            " SettlementCurrency_index_ohe | (4,[1],[1.0])                                                                                                                                                                                                                                                                                                                                                                  \n",
            " InstructedCurrency_index_ohe | (8,[0],[1.0])                                                                                                                                                                                                                                                                                                                                                                  \n",
            " OrderingCountry_index_ohe    | (14,[7],[1.0])                                                                                                                                                                                                                                                                                                                                                                 \n",
            " BeneficiaryCountry_index_ohe | (11,[9],[1.0])                                                                                                                                                                                                                                                                                                                                                                 \n",
            " OriginalSender_index_ohe     | (15,[7],[1.0])                                                                                                                                                                                                                                                                                                                                                                 \n",
            " FinalReceiver_index_ohe      | (27,[10],[1.0])                                                                                                                                                                                                                                                                                                                                                                \n",
            " vectorized_features          | (91,[1,4,19,35,44,62,79,82,83,84,85,86,87,88,89,90],[1.0,1.0,1.0,1.0,1.0,1.0,653958.0,73733.0,40984.0,8.0,47559.0,73733.0,1906631.0,73733.0,41012.0,40984.0])                                                                                                                                                                                                                  \n",
            " scaled_features              | (91,[1,4,19,35,44,62,79,82,83,84,85,86,87,88,89,90],[2.166527932778849,2.000003056008823,8.040350141791528,10.746430978015434,8.040350141791528,10.742794251130638,0.0020819506820934095,0.13872751524523558,0.06111503793353783,1.6209688519495993,0.29776888126869516,0.16018777672814158,0.022806394100742228,0.12929906160159638,0.06163677309549741,0.06264906278885214]) \n",
            "only showing top 1 row\n",
            "\n"
          ]
        }
      ],
      "source": [
        "# Display first row of test_df_full after running through pipeline\n",
        "pipeline_df_test.show(1, vertical=True, truncate=False)"
      ]
    },
    {
      "cell_type": "markdown",
      "metadata": {
        "id": "AB1-xUWMjSFn"
      },
      "source": [
        "<br>"
      ]
    },
    {
      "cell_type": "markdown",
      "metadata": {
        "id": "4wbyZc3Qj4Qu"
      },
      "source": [
        "# **Model 4.2**: Decision Tree Classifier, Oversampled, with Tuned Max Depth\n",
        "\n",
        "For our first model on the full training dataset, we'll use the best classifier from notebook-3, which was a `DecisionTreeClassifier`. For the dataset, we are going to use default class weights of 1.0 across all observations, but we're now going to try upsampling the positive class (anomalous transactions) 10x in the dataset. We'll keep the negative class observations as is. We'll use our function `spark_resample` in helper_functions to do the resampling."
      ]
    },
    {
      "cell_type": "code",
      "execution_count": null,
      "metadata": {
        "colab": {
          "base_uri": "https://localhost:8080/",
          "height": 589
        },
        "id": "BOKc6RNE-fuc",
        "outputId": "4b73d6fc-7525-41eb-ecce-cfced5ad61c2"
      },
      "outputs": [
        {
          "data": {
            "text/html": [
              "\n",
              "    <style>\n",
              "      pre {\n",
              "          white-space: pre-wrap;\n",
              "      }\n",
              "    </style>\n",
              "    "
            ],
            "text/plain": [
              "<IPython.core.display.HTML object>"
            ]
          },
          "metadata": {},
          "output_type": "display_data"
        },
        {
          "name": "stdout",
          "output_type": "stream",
          "text": [
            "\n",
            "    Resamples PySpark dataframe with an imbalanced binary \n",
            "    target class distribution through a combination of \n",
            "    undersampling the majority (negative) class and \n",
            "    oversampling the minority (positive) class.\n",
            "\n",
            "    Parameters\n",
            "    ----------\n",
            "    df : Spark `DataFrame`\n",
            "        The Spark `DataFrame` to resample\n",
            "    ratio : `float`\n",
            "        Desired ratio of positive (oversampled) class to \n",
            "        negative (undersampled) class in new `DataFrame`\n",
            "    new_count : `int`\n",
            "        Desired total count of observations (rows) in new\n",
            "        `DataFrame`\n",
            "    oversample_fraction : `float`\n",
            "        Fraction to oversample minority class\n",
            "    undersample_fraction : `float`\n",
            "        Fraction to undersample majority class\n",
            "    class_field : Spark `Column`\n",
            "        Name of `Column` in `DataFrame` to resample\n",
            "    pos_class : `DataType` of `class_field`\n",
            "        Label of positive class in `class_field`\n",
            "    shuffle : `bool`\n",
            "        Whether to shuffle `DataFrame` before returning \n",
            "        resampled `DataFrame`. If `False`, positive \n",
            "        class observations will all be distributed on \n",
            "        the bottom of the resampled `DataFrame`.\n",
            "    random_state : `int`\n",
            "        Random seed for reproducibility\n",
            "    \n"
          ]
        }
      ],
      "source": [
        "print(spark_resample.__doc__)"
      ]
    },
    {
      "cell_type": "code",
      "execution_count": null,
      "metadata": {
        "colab": {
          "base_uri": "https://localhost:8080/",
          "height": 160
        },
        "id": "QAi3b65V_C9b",
        "outputId": "4108e10a-2a29-48fb-bda9-59309d7e3987"
      },
      "outputs": [
        {
          "data": {
            "text/html": [
              "\n",
              "    <style>\n",
              "      pre {\n",
              "          white-space: pre-wrap;\n",
              "      }\n",
              "    </style>\n",
              "    "
            ],
            "text/plain": [
              "<IPython.core.display.HTML object>"
            ]
          },
          "metadata": {},
          "output_type": "display_data"
        },
        {
          "name": "stdout",
          "output_type": "stream",
          "text": [
            "train_df_full_resampled:  4,736,064 Rows, 19 Columns\n",
            "+---------+-------+----------+\n",
            "|Anomalous|  count|   percent|\n",
            "+---------+-------+----------+\n",
            "|        0|4686825|0.98960...|\n",
            "|        1|  49239|0.01039...|\n",
            "+---------+-------+----------+\n",
            "\n"
          ]
        }
      ],
      "source": [
        "train_df_full_resampled = spark_resample(df=train_df_full, oversample_fraction=10.0, undersample_fraction=1.0, \n",
        "                                         class_field='Anomalous', pos_class=1, shuffle=True, random_state=42)\n",
        "\n",
        "# Drop Weight column\n",
        "train_df_full_resampled = train_df_full_resampled.drop('Weight')\n",
        "# Print shape of resampled dataframe\n",
        "print(f\"train_df_full_resampled:  {train_df_full_resampled.count():,} Rows, {len(train_df_full_resampled.columns)} Columns\")\n",
        "# Display value counts for 'Label' column (classification target) of resampled dataframe\n",
        "upsampled_class_counts = train_df_full_resampled.groupBy('Anomalous').count()\\\n",
        "                         .withColumn('percent', F.col('count')/train_df_full_resampled.count())\n",
        "\n",
        "upsampled_class_counts.show(truncate=10)"
      ]
    },
    {
      "cell_type": "code",
      "execution_count": 61,
      "metadata": {
        "colab": {
          "base_uri": "https://localhost:8080/",
          "height": 17
        },
        "id": "jON0zgwYj4Yl",
        "outputId": "1179d090-b6d1-4f89-e1ab-05ab4a888f59"
      },
      "outputs": [
        {
          "output_type": "display_data",
          "data": {
            "text/plain": [
              "<IPython.core.display.HTML object>"
            ],
            "text/html": [
              "\n",
              "    <style>\n",
              "      pre {\n",
              "          white-space: pre-wrap;\n",
              "      }\n",
              "    </style>\n",
              "    "
            ]
          },
          "metadata": {}
        }
      ],
      "source": [
        "dt_1 = DecisionTreeClassifier(\n",
        "    featuresCol='scaled_features',\n",
        "    labelCol='Anomalous')\n",
        "\n",
        "dt_1_stages = stages + [dt_1]\n",
        "\n",
        "# Specify parameter grid\n",
        "dt_1_grid = ParamGridBuilder()\\\n",
        "            .addGrid(dt_1.maxDepth, [3, 4, 5, 6])\\\n",
        "            .build()"
      ]
    },
    {
      "cell_type": "code",
      "execution_count": null,
      "metadata": {
        "colab": {
          "base_uri": "https://localhost:8080/",
          "height": 88
        },
        "id": "5upLtn2yj4fY",
        "outputId": "7e43861b-1db5-43ce-e20a-a32b9cf3a96c"
      },
      "outputs": [
        {
          "data": {
            "text/html": [
              "\n",
              "    <style>\n",
              "      pre {\n",
              "          white-space: pre-wrap;\n",
              "      }\n",
              "    </style>\n",
              "    "
            ],
            "text/plain": [
              "<IPython.core.display.HTML object>"
            ]
          },
          "metadata": {},
          "output_type": "display_data"
        },
        {
          "name": "stdout",
          "output_type": "stream",
          "text": [
            "{Param(parent='DecisionTreeClassifier_73c1bdc61717', name='maxDepth', doc='Maximum depth of the tree. (>= 0) E.g., depth 0 means 1 leaf node; depth 1 means 1 internal node + 2 leaf nodes. Must be in range [0, 30].'): 3}\n",
            "CPU times: user 3.88 s, sys: 582 ms, total: 4.46 s\n",
            "Wall time: 7min 4s\n"
          ]
        }
      ],
      "source": [
        "# Run grid search using grid_search function\n",
        "if not os.path.isdir(drive_path + 'dt_1_model_full'):\n",
        "    dt_1_model = grid_search(stages_with_classifier=dt_1_stages, \n",
        "                             train_df=train_df_full_resampled, \n",
        "                             model_grid=dt_1_grid, \n",
        "                             parallelism=4)"
      ]
    },
    {
      "cell_type": "code",
      "execution_count": 62,
      "metadata": {
        "colab": {
          "base_uri": "https://localhost:8080/",
          "height": 53
        },
        "id": "D7GPF8pyj4lp",
        "outputId": "53cf5a12-6eee-4753-cf16-4af4d82823a8"
      },
      "outputs": [
        {
          "output_type": "display_data",
          "data": {
            "text/plain": [
              "<IPython.core.display.HTML object>"
            ],
            "text/html": [
              "\n",
              "    <style>\n",
              "      pre {\n",
              "          white-space: pre-wrap;\n",
              "      }\n",
              "    </style>\n",
              "    "
            ]
          },
          "metadata": {}
        },
        {
          "output_type": "stream",
          "name": "stdout",
          "text": [
            "{Param(parent='DecisionTreeClassifier_1f9154cca952', name='maxDepth', doc='Maximum depth of the tree. (>= 0) E.g., depth 0 means 1 leaf node; depth 1 means 1 internal node + 2 leaf nodes. Must be in range [0, 30].'): 3}\n"
          ]
        }
      ],
      "source": [
        "# Save model, or upload if already saved\n",
        "if not os.path.isdir(drive_path + 'dt_1_model_full'):\n",
        "    dt_1_model.save(drive_path + 'dt_1_model_full')\n",
        "else:\n",
        "    dt_1_model = TrainValidationSplitModel.load(drive_path + 'dt_1_model_full')\n",
        "    print(dt_1_grid[np.argmax(dt_1_model.validationMetrics)])"
      ]
    },
    {
      "cell_type": "code",
      "execution_count": null,
      "metadata": {
        "colab": {
          "base_uri": "https://localhost:8080/",
          "height": 499
        },
        "id": "RH-rOVRfj4sH",
        "outputId": "6f5a0ada-1f6c-4212-9a17-c5534c925d44"
      },
      "outputs": [
        {
          "data": {
            "text/html": [
              "\n",
              "    <style>\n",
              "      pre {\n",
              "          white-space: pre-wrap;\n",
              "      }\n",
              "    </style>\n",
              "    "
            ],
            "text/plain": [
              "<IPython.core.display.HTML object>"
            ]
          },
          "metadata": {},
          "output_type": "display_data"
        },
        {
          "name": "stdout",
          "output_type": "stream",
          "text": [
            "DecisionTreeClassificationModel\n",
            "------------------------------- \n",
            "\n",
            "Training data:\n",
            "\n",
            "                  precision    recall  f1-score   support\n",
            "\n",
            "0: Non-anomalous      0.994     1.000     0.997   4686825\n",
            "    1: Anomalous      1.000     0.406     0.578     49239\n",
            "\n",
            "        accuracy                          0.994   4736064\n",
            "       macro avg      0.997     0.703     0.787   4736064\n",
            "    weighted avg      0.994     0.994     0.993   4736064\n",
            "\n",
            "------------------------------------------------------------ \n",
            "\n",
            "Testing data:\n",
            "\n",
            "                  precision    recall  f1-score   support\n",
            "\n",
            "0: Non-anomalous      0.999     1.000     1.000    704347\n",
            "    1: Anomalous      1.000     0.384     0.555       761\n",
            "\n",
            "        accuracy                          0.999    705108\n",
            "       macro avg      1.000     0.692     0.777    705108\n",
            "    weighted avg      0.999     0.999     0.999    705108\n",
            "\n"
          ]
        }
      ],
      "source": [
        "# Print model scores\n",
        "score_model(dt_1_model, train_df_full_resampled, test_df_full)"
      ]
    },
    {
      "cell_type": "code",
      "execution_count": null,
      "metadata": {
        "colab": {
          "base_uri": "https://localhost:8080/",
          "height": 465
        },
        "id": "U1AYbQjzj4xw",
        "outputId": "fc8b7c30-a970-4ab6-fc7a-b802e3e8ea1b"
      },
      "outputs": [
        {
          "data": {
            "text/html": [
              "\n",
              "    <style>\n",
              "      pre {\n",
              "          white-space: pre-wrap;\n",
              "      }\n",
              "    </style>\n",
              "    "
            ],
            "text/plain": [
              "<IPython.core.display.HTML object>"
            ]
          },
          "metadata": {},
          "output_type": "display_data"
        },
        {
          "data": {
            "image/png": "[encoded data removed]",
            "text/plain": [
              "<Figure size 1296x504 with 2 Axes>"
            ]
          },
          "metadata": {
            "image/png": {
              "height": 448,
              "width": 643
            }
          },
          "output_type": "display_data"
        }
      ],
      "source": [
        "# Plot model confusion matrix\n",
        "plot_confusion_matrix(dt_1_model, test_df_full)"
      ]
    },
    {
      "cell_type": "markdown",
      "metadata": {
        "id": "FJTipsDBj43Y"
      },
      "source": [
        "**Remarks:**\n",
        "- Interesting, it looks like we matched our best decision tree tree in the previous notebook exactly, even after bringing in all categorical features and upsampling the minority class in the dataset. This will be our benchline for our next models going forward in this notebook."
      ]
    },
    {
      "cell_type": "markdown",
      "metadata": {
        "id": "dQyo1xZIj49O"
      },
      "source": [
        "<br>"
      ]
    },
    {
      "cell_type": "markdown",
      "metadata": {
        "id": "uDTNhaDXj5CH"
      },
      "source": [
        "# Model 6.1: **Random Forest Classifier**, Oversampled, with Tuned Max Depth and Information Gain Criterion (Impurity)\n",
        "\n",
        "For our first random forest model, we'll keep the upsampled dataset that we used in the last model, while tuning the max depth of the trees and the information gain criterion."
      ]
    },
    {
      "cell_type": "code",
      "execution_count": 16,
      "metadata": {
        "colab": {
          "base_uri": "https://localhost:8080/",
          "height": 17
        },
        "id": "XjQ5FGtaEsgF",
        "outputId": "9aeea801-b143-4b7e-f53a-0c71e2f26877"
      },
      "outputs": [
        {
          "output_type": "display_data",
          "data": {
            "text/plain": [
              "<IPython.core.display.HTML object>"
            ],
            "text/html": [
              "\n",
              "    <style>\n",
              "      pre {\n",
              "          white-space: pre-wrap;\n",
              "      }\n",
              "    </style>\n",
              "    "
            ]
          },
          "metadata": {}
        }
      ],
      "source": [
        "rf_1 = RandomForestClassifier(\n",
        "    featuresCol='scaled_features',\n",
        "    labelCol='Anomalous')\n",
        "\n",
        "rf_1_stages = stages + [rf_1]\n",
        "\n",
        "# Specify parameter grid\n",
        "rf_1_grid = ParamGridBuilder()\\\n",
        "            .addGrid(rf_1.maxDepth, [4, 5, 6, 7])\\\n",
        "            .addGrid(rf_1.impurity, ['gini', 'entropy'])\\\n",
        "            .build()"
      ]
    },
    {
      "cell_type": "code",
      "execution_count": null,
      "metadata": {
        "colab": {
          "base_uri": "https://localhost:8080/",
          "height": 17
        },
        "id": "rM7uWq-MFg76",
        "outputId": "5a30e631-653e-4d15-bc7e-095e4f4560a7"
      },
      "outputs": [
        {
          "data": {
            "text/html": [
              "\n",
              "    <style>\n",
              "      pre {\n",
              "          white-space: pre-wrap;\n",
              "      }\n",
              "    </style>\n",
              "    "
            ],
            "text/plain": [
              "<IPython.core.display.HTML object>"
            ]
          },
          "metadata": {},
          "output_type": "display_data"
        }
      ],
      "source": [
        "# Run grid search using grid_search function\n",
        "if not os.path.isdir(drive_path + 'rf_1_model_full'):\n",
        "    rf_1_model = grid_search(stages_with_classifier=rf_1_stages, \n",
        "                             train_df=train_df_full_resampled, \n",
        "                             model_grid=rf_1_grid, \n",
        "                             parallelism=5)"
      ]
    },
    {
      "cell_type": "code",
      "execution_count": 17,
      "metadata": {
        "colab": {
          "base_uri": "https://localhost:8080/",
          "height": 71
        },
        "id": "DLv09EbyF1rH",
        "outputId": "a5a283dd-799d-42ab-86af-bc66d17c01a5"
      },
      "outputs": [
        {
          "output_type": "display_data",
          "data": {
            "text/plain": [
              "<IPython.core.display.HTML object>"
            ],
            "text/html": [
              "\n",
              "    <style>\n",
              "      pre {\n",
              "          white-space: pre-wrap;\n",
              "      }\n",
              "    </style>\n",
              "    "
            ]
          },
          "metadata": {}
        },
        {
          "output_type": "stream",
          "name": "stdout",
          "text": [
            "{Param(parent='RandomForestClassifier_4f0f4a86d19b', name='maxDepth', doc='Maximum depth of the tree. (>= 0) E.g., depth 0 means 1 leaf node; depth 1 means 1 internal node + 2 leaf nodes. Must be in range [0, 30].'): 7, Param(parent='RandomForestClassifier_4f0f4a86d19b', name='impurity', doc='Criterion used for information gain calculation (case-insensitive). Supported options: entropy, gini'): 'entropy'}\n"
          ]
        }
      ],
      "source": [
        "# Save model, or upload if already saved\n",
        "if not os.path.isdir(drive_path + 'rf_1_model_full'):\n",
        "    rf_1_model.save(drive_path + 'rf_1_model_full')\n",
        "else:\n",
        "    rf_1_model = TrainValidationSplitModel.load(drive_path + 'rf_1_model_full')\n",
        "    print(rf_1_grid[np.argmax(rf_1_model.validationMetrics)])"
      ]
    },
    {
      "cell_type": "code",
      "execution_count": null,
      "metadata": {
        "colab": {
          "base_uri": "https://localhost:8080/",
          "height": 589
        },
        "id": "5oFAEUXFGMuZ",
        "outputId": "accaa8b0-01ae-4ec1-8461-472505a32b9a"
      },
      "outputs": [
        {
          "data": {
            "text/html": [
              "\n",
              "    <style>\n",
              "      pre {\n",
              "          white-space: pre-wrap;\n",
              "      }\n",
              "    </style>\n",
              "    "
            ],
            "text/plain": [
              "<IPython.core.display.HTML object>"
            ]
          },
          "metadata": {},
          "output_type": "display_data"
        },
        {
          "name": "stdout",
          "output_type": "stream",
          "text": [
            "RandomForestClassificationModel\n",
            "------------------------------- \n",
            "\n"
          ]
        },
        {
          "name": "stderr",
          "output_type": "stream",
          "text": [
            "Exception ignored in: <function JavaWrapper.__del__ at 0x7f58da448950>\n",
            "Traceback (most recent call last):\n",
            "  File \"/content/spark-3.3.0-bin-hadoop3/python/pyspark/ml/wrapper.py\", line 53, in __del__\n",
            "    if SparkContext._active_spark_context and self._java_obj is not None:\n",
            "AttributeError: 'RandomForestClassifier' object has no attribute '_java_obj'\n"
          ]
        },
        {
          "name": "stdout",
          "output_type": "stream",
          "text": [
            "Training data:\n",
            "\n",
            "                  precision    recall  f1-score   support\n",
            "\n",
            "0: Non-anomalous      0.993     1.000     0.996   4686825\n",
            "    1: Anomalous      1.000     0.312     0.476     49239\n",
            "\n",
            "        accuracy                          0.993   4736064\n",
            "       macro avg      0.996     0.656     0.736   4736064\n",
            "    weighted avg      0.993     0.993     0.991   4736064\n",
            "\n",
            "------------------------------------------------------------ \n",
            "\n",
            "Testing data:\n",
            "\n",
            "                  precision    recall  f1-score   support\n",
            "\n",
            "0: Non-anomalous      0.999     1.000     1.000    704347\n",
            "    1: Anomalous      1.000     0.322     0.487       761\n",
            "\n",
            "        accuracy                          0.999    705108\n",
            "       macro avg      1.000     0.661     0.743    705108\n",
            "    weighted avg      0.999     0.999     0.999    705108\n",
            "\n"
          ]
        }
      ],
      "source": [
        "# Print model scores\n",
        "score_model(rf_1_model, train_df_full_resampled, test_df_full)"
      ]
    },
    {
      "cell_type": "code",
      "execution_count": null,
      "metadata": {
        "colab": {
          "base_uri": "https://localhost:8080/",
          "height": 465
        },
        "id": "6z1etxxNGNBb",
        "outputId": "a6925de5-01dc-43e3-adf1-fbdecfa1e1d3"
      },
      "outputs": [
        {
          "data": {
            "text/html": [
              "\n",
              "    <style>\n",
              "      pre {\n",
              "          white-space: pre-wrap;\n",
              "      }\n",
              "    </style>\n",
              "    "
            ],
            "text/plain": [
              "<IPython.core.display.HTML object>"
            ]
          },
          "metadata": {},
          "output_type": "display_data"
        },
        {
          "data": {
            "image/png": "[encoded data removed]",
            "text/plain": [
              "<Figure size 1296x504 with 2 Axes>"
            ]
          },
          "metadata": {
            "image/png": {
              "height": 448,
              "width": 643
            }
          },
          "output_type": "display_data"
        }
      ],
      "source": [
        "# Plot model confusion matrix\n",
        "plot_confusion_matrix(rf_1_model, test_df_full)"
      ]
    },
    {
      "cell_type": "markdown",
      "metadata": {
        "id": "D7r58HQSGS37"
      },
      "source": [
        "**Remarks:**\n",
        "- The random forest came close to, but couldn't ultimately beat, the more basic decision tree model, achieiving a 0.487 F1 score on anomalous transactions and correctly classifying 245 out of 761 anomalous transactions. "
      ]
    },
    {
      "cell_type": "markdown",
      "metadata": {
        "id": "kdsuTYcJGTRX"
      },
      "source": [
        "<br>"
      ]
    },
    {
      "cell_type": "markdown",
      "metadata": {
        "id": "axXvcg-8GT2E"
      },
      "source": [
        "# Model 6.2: **Random Forest Classifier**, Over and Undersampled, with Tuned Max Depth\n",
        "\n",
        "Let's try another random forest, with the minority class still oversampled 10x, but let's also undersample the majority class 10x as well so it's even more balanced. There should be a distribution of about 90/10 majority to minority class observations now in the training data.\n",
        "\n",
        "We'll keep the `entropy` impurity criterion that the grid search found to be optimal in the last model, but grid search over the maximum depth again and also the number of trees in the random forest."
      ]
    },
    {
      "cell_type": "code",
      "execution_count": 18,
      "metadata": {
        "colab": {
          "base_uri": "https://localhost:8080/",
          "height": 160
        },
        "id": "liSAO1ELGUe3",
        "outputId": "284fb809-da08-49e1-c393-76da49269069"
      },
      "outputs": [
        {
          "output_type": "display_data",
          "data": {
            "text/plain": [
              "<IPython.core.display.HTML object>"
            ],
            "text/html": [
              "\n",
              "    <style>\n",
              "      pre {\n",
              "          white-space: pre-wrap;\n",
              "      }\n",
              "    </style>\n",
              "    "
            ]
          },
          "metadata": {}
        },
        {
          "output_type": "stream",
          "name": "stdout",
          "text": [
            "train_df_full_resampled:  517,567 Rows, 19 Columns\n",
            "+---------+------+----------+\n",
            "|Anomalous| count|   percent|\n",
            "+---------+------+----------+\n",
            "|        0|468328|0.90486...|\n",
            "|        1| 49239|0.09513...|\n",
            "+---------+------+----------+\n",
            "\n"
          ]
        }
      ],
      "source": [
        "train_df_full_resampled = spark_resample(df=train_df_full, oversample_fraction=10.0, undersample_fraction=0.1, \n",
        "                                         class_field='Anomalous', pos_class=1, shuffle=True, random_state=42)\n",
        "\n",
        "# Drop Weight column\n",
        "train_df_full_resampled = train_df_full_resampled.drop('Weight')\n",
        "# Print shape of resampled dataframe\n",
        "print(f\"train_df_full_resampled:  {train_df_full_resampled.count():,} Rows, {len(train_df_full_resampled.columns)} Columns\")\n",
        "# Display value counts for 'Label' column (classification target) of resampled dataframe\n",
        "resampled_class_counts = train_df_full_resampled.groupBy('Anomalous').count()\\\n",
        "                         .withColumn('percent', F.col('count')/train_df_full_resampled.count())\n",
        "\n",
        "resampled_class_counts.show(truncate=10)"
      ]
    },
    {
      "cell_type": "code",
      "execution_count": null,
      "metadata": {
        "colab": {
          "base_uri": "https://localhost:8080/",
          "height": 17
        },
        "id": "-LrN5TnqGUxG",
        "outputId": "19c99113-4cb1-4f1d-e222-1ef60691343b"
      },
      "outputs": [
        {
          "data": {
            "text/html": [
              "\n",
              "    <style>\n",
              "      pre {\n",
              "          white-space: pre-wrap;\n",
              "      }\n",
              "    </style>\n",
              "    "
            ],
            "text/plain": [
              "<IPython.core.display.HTML object>"
            ]
          },
          "metadata": {},
          "output_type": "display_data"
        }
      ],
      "source": [
        "rf_2 = RandomForestClassifier(\n",
        "    featuresCol='scaled_features',\n",
        "    labelCol='Anomalous', \n",
        "    impurity='entropy')\n",
        "\n",
        "rf_2_stages = stages + [rf_2]\n",
        "\n",
        "# Specify parameter grid\n",
        "rf_2_grid = ParamGridBuilder()\\\n",
        "            .addGrid(rf_2.maxDepth, [4, 5, 6, 7])\\\n",
        "            .addGrid(rf_2.numTrees, [20, 30])\\\n",
        "            .build()"
      ]
    },
    {
      "cell_type": "code",
      "execution_count": null,
      "metadata": {
        "colab": {
          "base_uri": "https://localhost:8080/",
          "height": 106
        },
        "id": "cvK-YvFhVpvY",
        "outputId": "0e85237a-a008-418d-c761-49227c32f7aa"
      },
      "outputs": [
        {
          "data": {
            "text/html": [
              "\n",
              "    <style>\n",
              "      pre {\n",
              "          white-space: pre-wrap;\n",
              "      }\n",
              "    </style>\n",
              "    "
            ],
            "text/plain": [
              "<IPython.core.display.HTML object>"
            ]
          },
          "metadata": {},
          "output_type": "display_data"
        },
        {
          "name": "stdout",
          "output_type": "stream",
          "text": [
            "{Param(parent='RandomForestClassifier_9267e9ec8672', name='maxDepth', doc='Maximum depth of the tree. (>= 0) E.g., depth 0 means 1 leaf node; depth 1 means 1 internal node + 2 leaf nodes. Must be in range [0, 30].'): 7, Param(parent='RandomForestClassifier_9267e9ec8672', name='numTrees', doc='Number of trees to train (>= 1).'): 20}\n",
            "CPU times: user 9.69 s, sys: 1.7 s, total: 11.4 s\n",
            "Wall time: 8min 19s\n"
          ]
        }
      ],
      "source": [
        "# Run grid search using grid_search function\n",
        "if not os.path.isdir(drive_path + 'rf_2_model_full'):\n",
        "    rf_2_model = grid_search(stages_with_classifier=rf_2_stages, \n",
        "                             train_df=train_df_full_resampled, \n",
        "                             model_grid=rf_2_grid, \n",
        "                             parallelism=5)"
      ]
    },
    {
      "cell_type": "code",
      "execution_count": null,
      "metadata": {
        "colab": {
          "base_uri": "https://localhost:8080/",
          "height": 17
        },
        "id": "4LupCvwaWDFl",
        "outputId": "3ed46e8a-61a9-466b-af0d-e9672afdfa5f"
      },
      "outputs": [
        {
          "data": {
            "text/html": [
              "\n",
              "    <style>\n",
              "      pre {\n",
              "          white-space: pre-wrap;\n",
              "      }\n",
              "    </style>\n",
              "    "
            ],
            "text/plain": [
              "<IPython.core.display.HTML object>"
            ]
          },
          "metadata": {},
          "output_type": "display_data"
        }
      ],
      "source": [
        "# Save model, or upload if already saved\n",
        "if not os.path.isdir(drive_path + 'rf_2_model_full'):\n",
        "    rf_2_model.save(drive_path + 'rf_2_model_full')\n",
        "else:\n",
        "    rf_2_model = TrainValidationSplitModel.load(drive_path + 'rf_2_model_full')\n",
        "    print(rf_2_grid[np.argmax(rf_2_model.validationMetrics)])"
      ]
    },
    {
      "cell_type": "code",
      "execution_count": null,
      "metadata": {
        "colab": {
          "base_uri": "https://localhost:8080/",
          "height": 499
        },
        "id": "7ppOnjg-YsWW",
        "outputId": "6b9adfe0-efe4-44a8-daa9-f7fc73903e43"
      },
      "outputs": [
        {
          "data": {
            "text/html": [
              "\n",
              "    <style>\n",
              "      pre {\n",
              "          white-space: pre-wrap;\n",
              "      }\n",
              "    </style>\n",
              "    "
            ],
            "text/plain": [
              "<IPython.core.display.HTML object>"
            ]
          },
          "metadata": {},
          "output_type": "display_data"
        },
        {
          "name": "stdout",
          "output_type": "stream",
          "text": [
            "RandomForestClassificationModel\n",
            "------------------------------- \n",
            "\n",
            "Training data:\n",
            "\n",
            "                  precision    recall  f1-score   support\n",
            "\n",
            "0: Non-anomalous      0.946     1.000     0.972    468328\n",
            "    1: Anomalous      1.000     0.460     0.630     49239\n",
            "\n",
            "        accuracy                          0.949    517567\n",
            "       macro avg      0.973     0.730     0.801    517567\n",
            "    weighted avg      0.951     0.949     0.940    517567\n",
            "\n",
            "------------------------------------------------------------ \n",
            "\n",
            "Testing data:\n",
            "\n",
            "                  precision    recall  f1-score   support\n",
            "\n",
            "0: Non-anomalous      0.999     0.980     0.989    704347\n",
            "    1: Anomalous      0.023     0.452     0.044       761\n",
            "\n",
            "        accuracy                          0.979    705108\n",
            "       macro avg      0.511     0.716     0.517    705108\n",
            "    weighted avg      0.998     0.979     0.988    705108\n",
            "\n"
          ]
        }
      ],
      "source": [
        "# Print model scores\n",
        "score_model(rf_2_model, train_df_full_resampled, test_df_full)"
      ]
    },
    {
      "cell_type": "code",
      "execution_count": null,
      "metadata": {
        "colab": {
          "base_uri": "https://localhost:8080/",
          "height": 465
        },
        "id": "XP9QM-BCYsiJ",
        "outputId": "71ad0f04-1fc5-4dca-c0e3-c453369245ed"
      },
      "outputs": [
        {
          "data": {
            "text/html": [
              "\n",
              "    <style>\n",
              "      pre {\n",
              "          white-space: pre-wrap;\n",
              "      }\n",
              "    </style>\n",
              "    "
            ],
            "text/plain": [
              "<IPython.core.display.HTML object>"
            ]
          },
          "metadata": {},
          "output_type": "display_data"
        },
        {
          "data": {
            "image/png": "[encoded data removed]",
            "text/plain": [
              "<Figure size 1296x504 with 2 Axes>"
            ]
          },
          "metadata": {
            "image/png": {
              "height": 448,
              "width": 643
            }
          },
          "output_type": "display_data"
        }
      ],
      "source": [
        "# Plot model confusion matrix\n",
        "plot_confusion_matrix(rf_2_model, test_df_full)"
      ]
    },
    {
      "cell_type": "markdown",
      "metadata": {
        "id": "6jG5JDt4Yy7x"
      },
      "source": [
        "**Remarks:**\n",
        "- It looks like the random forest was able to boost the recall score to 0.452, but, again, at a very high cost in terms of reduced precision on the positive class, which ultimately drags down the F1-score. While performing much better than the GBT model, it's nowhere near the previous decision tree model, at least in terms of the F1-score."
      ]
    },
    {
      "cell_type": "markdown",
      "metadata": {
        "id": "d1yZIdpwYzPe"
      },
      "source": [
        "<br>"
      ]
    },
    {
      "cell_type": "markdown",
      "metadata": {
        "id": "3G9eA-TBYzWL"
      },
      "source": [
        "# Model 6.3: **Random Forest** Classifier, Weighted, with Tuned Max Depth\n",
        "\n",
        "Let's try one more random forest model, but this time we'll heavily overweight the minority class 20x using the `set_weight_col` function - no resampling. We'll again tune the maximum depth of the trees. We'll also set a new `seed` in the `grid_search` function because - why not? With so few anomalous transactions, the draw of the sample could make a difference."
      ]
    },
    {
      "cell_type": "code",
      "execution_count": null,
      "metadata": {
        "colab": {
          "base_uri": "https://localhost:8080/",
          "height": 196
        },
        "id": "FpiL8Nh5Yzcr",
        "outputId": "6b15309b-1186-49f5-ec12-b9e9c25e208c"
      },
      "outputs": [
        {
          "data": {
            "text/html": [
              "\n",
              "    <style>\n",
              "      pre {\n",
              "          white-space: pre-wrap;\n",
              "      }\n",
              "    </style>\n",
              "    "
            ],
            "text/plain": [
              "<IPython.core.display.HTML object>"
            ]
          },
          "metadata": {},
          "output_type": "display_data"
        },
        {
          "name": "stdout",
          "output_type": "stream",
          "text": [
            "-RECORD 0--------\n",
            " Anomalous | 0   \n",
            " Weight    | 1.0 \n",
            "only showing top 1 row\n",
            "\n",
            "-RECORD 0---------\n",
            " Anomalous | 1    \n",
            " Weight    | 20.0 \n",
            "only showing top 1 row\n",
            "\n"
          ]
        }
      ],
      "source": [
        "train_df_full = set_weight_col(train_df_full, label_col='Anomalous', pos_class_weight=20.0, neg_class_weight=1.0)\n",
        "# Preview Weight column\n",
        "cols_to_show = ['Anomalous', 'Weight']\n",
        "train_df_full.select(cols_to_show).where(train_df_full.Anomalous == 0).show(1, truncate=False, vertical=True)\n",
        "train_df_full.select(cols_to_show).where(train_df_full.Anomalous == 1).show(1, truncate=False, vertical=True)"
      ]
    },
    {
      "cell_type": "code",
      "execution_count": null,
      "metadata": {
        "colab": {
          "base_uri": "https://localhost:8080/",
          "height": 17
        },
        "id": "vgTdwicAYzjE",
        "outputId": "d773be94-c2f2-40e3-f001-e14feb770a81"
      },
      "outputs": [
        {
          "data": {
            "text/html": [
              "\n",
              "    <style>\n",
              "      pre {\n",
              "          white-space: pre-wrap;\n",
              "      }\n",
              "    </style>\n",
              "    "
            ],
            "text/plain": [
              "<IPython.core.display.HTML object>"
            ]
          },
          "metadata": {},
          "output_type": "display_data"
        }
      ],
      "source": [
        "rf_3 = RandomForestClassifier(\n",
        "    featuresCol='scaled_features',\n",
        "    labelCol='Anomalous', \n",
        "    weightCol='Weight', \n",
        "    impurity='entropy')\n",
        "\n",
        "rf_3_stages = stages + [rf_3]\n",
        "\n",
        "# Specify parameter grid\n",
        "rf_3_grid = ParamGridBuilder()\\\n",
        "            .addGrid(rf_3.maxDepth, [4, 5, 6, 7])\\\n",
        "            .build()"
      ]
    },
    {
      "cell_type": "code",
      "execution_count": null,
      "metadata": {
        "colab": {
          "base_uri": "https://localhost:8080/",
          "height": 88
        },
        "id": "QYyi1EdZYzow",
        "outputId": "27bb2ae4-6b4e-4336-c8a9-0978e4134959"
      },
      "outputs": [
        {
          "data": {
            "text/html": [
              "\n",
              "    <style>\n",
              "      pre {\n",
              "          white-space: pre-wrap;\n",
              "      }\n",
              "    </style>\n",
              "    "
            ],
            "text/plain": [
              "<IPython.core.display.HTML object>"
            ]
          },
          "metadata": {},
          "output_type": "display_data"
        },
        {
          "name": "stdout",
          "output_type": "stream",
          "text": [
            "{Param(parent='RandomForestClassifier_e84dad7fc4fb', name='maxDepth', doc='Maximum depth of the tree. (>= 0) E.g., depth 0 means 1 leaf node; depth 1 means 1 internal node + 2 leaf nodes. Must be in range [0, 30].'): 6}\n",
            "CPU times: user 9.41 s, sys: 1.4 s, total: 10.8 s\n",
            "Wall time: 10min 8s\n"
          ]
        }
      ],
      "source": [
        "# Run grid search using grid_search function\n",
        "if not os.path.isdir(drive_path + 'rf_3_model_full'):\n",
        "    rf_3_model = grid_search(stages_with_classifier=rf_3_stages, \n",
        "                             train_df=train_df_full, \n",
        "                             model_grid=rf_3_grid, \n",
        "                             parallelism=4, \n",
        "                             seed=7)"
      ]
    },
    {
      "cell_type": "code",
      "execution_count": null,
      "metadata": {
        "colab": {
          "base_uri": "https://localhost:8080/",
          "height": 17
        },
        "id": "yXw0W31rbA7C",
        "outputId": "0ab60c01-4405-4621-8c90-94c0a3cd0406"
      },
      "outputs": [
        {
          "data": {
            "text/html": [
              "\n",
              "    <style>\n",
              "      pre {\n",
              "          white-space: pre-wrap;\n",
              "      }\n",
              "    </style>\n",
              "    "
            ],
            "text/plain": [
              "<IPython.core.display.HTML object>"
            ]
          },
          "metadata": {},
          "output_type": "display_data"
        }
      ],
      "source": [
        "# Save model, or upload if already saved\n",
        "if not os.path.isdir(drive_path + 'rf_3_model_full'):\n",
        "    rf_3_model.save(drive_path + 'rf_3_model_full')\n",
        "else:\n",
        "    rf_3_model = TrainValidationSplitModel.load(drive_path + 'rf_3_model_full')\n",
        "    print(rf_3_grid[np.argmax(rf_3_model.validationMetrics)])"
      ]
    },
    {
      "cell_type": "code",
      "execution_count": null,
      "metadata": {
        "colab": {
          "base_uri": "https://localhost:8080/",
          "height": 499
        },
        "id": "wdSgcSMob1-F",
        "outputId": "27e3f092-1bc8-489b-87e2-7ba401c482df"
      },
      "outputs": [
        {
          "data": {
            "text/html": [
              "\n",
              "    <style>\n",
              "      pre {\n",
              "          white-space: pre-wrap;\n",
              "      }\n",
              "    </style>\n",
              "    "
            ],
            "text/plain": [
              "<IPython.core.display.HTML object>"
            ]
          },
          "metadata": {},
          "output_type": "display_data"
        },
        {
          "name": "stdout",
          "output_type": "stream",
          "text": [
            "RandomForestClassificationModel\n",
            "------------------------------- \n",
            "\n",
            "Training data:\n",
            "\n",
            "                  precision    recall  f1-score   support\n",
            "\n",
            "0: Non-anomalous      0.999     1.000     1.000   4686825\n",
            "    1: Anomalous      1.000     0.460     0.630      4900\n",
            "\n",
            "        accuracy                          0.999   4691725\n",
            "       macro avg      1.000     0.730     0.815   4691725\n",
            "    weighted avg      0.999     0.999     0.999   4691725\n",
            "\n",
            "------------------------------------------------------------ \n",
            "\n",
            "Testing data:\n",
            "\n",
            "                  precision    recall  f1-score   support\n",
            "\n",
            "0: Non-anomalous      0.999     0.992     0.996    704347\n",
            "    1: Anomalous      0.055     0.440     0.097       761\n",
            "\n",
            "        accuracy                          0.991    705108\n",
            "       macro avg      0.527     0.716     0.546    705108\n",
            "    weighted avg      0.998     0.991     0.995    705108\n",
            "\n"
          ]
        }
      ],
      "source": [
        "# Print model scores\n",
        "score_model(rf_3_model, train_df_full, test_df_full)"
      ]
    },
    {
      "cell_type": "code",
      "execution_count": null,
      "metadata": {
        "colab": {
          "base_uri": "https://localhost:8080/",
          "height": 465
        },
        "id": "uqO9GKZNb2Jy",
        "outputId": "47973034-0ed1-45da-f9f6-8ab8bcdb984d"
      },
      "outputs": [
        {
          "data": {
            "text/html": [
              "\n",
              "    <style>\n",
              "      pre {\n",
              "          white-space: pre-wrap;\n",
              "      }\n",
              "    </style>\n",
              "    "
            ],
            "text/plain": [
              "<IPython.core.display.HTML object>"
            ]
          },
          "metadata": {},
          "output_type": "display_data"
        },
        {
          "data": {
            "image/png": "[encoded data removed]",
            "text/plain": [
              "<Figure size 1296x504 with 2 Axes>"
            ]
          },
          "metadata": {
            "image/png": {
              "height": 448,
              "width": 643
            }
          },
          "output_type": "display_data"
        }
      ],
      "source": [
        "# Plot model confusion matrix\n",
        "plot_confusion_matrix(rf_3_model, test_df_full)"
      ]
    },
    {
      "cell_type": "markdown",
      "metadata": {
        "id": "61anRQO4bHai"
      },
      "source": [
        "**Remarks:**\n",
        "- We got quite significant improvement with this random forest model in terms of improved precision in the minority class, but again, because the dataset is so imbalanced the F1 score is still overall far worse than the decision tree model with perfect precision.\n",
        "- Let's move on to our final model:  a multilayer perceptron classifier."
      ]
    },
    {
      "cell_type": "markdown",
      "metadata": {
        "id": "5sIuPjl3fkLx"
      },
      "source": [
        "<br>"
      ]
    },
    {
      "cell_type": "markdown",
      "metadata": {
        "id": "H3rqujUefraf"
      },
      "source": [
        "# Model 7.1: **Multilayer Perceptron Classifier**, Undersampled\n",
        "\n",
        "For our first multilayer perceptron (aka neural network) classifier, we'll use the unweighted, undersampled full dataset and go with a relatively middle-of-the-road one hidden layer with 30 nodes (to save time we won't grid search over this model)."
      ]
    },
    {
      "cell_type": "code",
      "source": [
        "train_df_full_resampled = spark_resample(df=train_df_full, oversample_fraction=1.0, undersample_fraction=0.1, \n",
        "                                         class_field='Anomalous', pos_class=1, shuffle=True, random_state=7)\n",
        "\n",
        "# Drop Weight column\n",
        "train_df_full_resampled = train_df_full_resampled.drop('Weight')\n",
        "# Print shape of resampled dataframe\n",
        "print(f\"train_df_full_resampled:  {train_df_full_resampled.count():,} Rows, {len(train_df_full_resampled.columns)} Columns\")\n",
        "# Display value counts for 'Label' column (classification target) of resampled dataframe\n",
        "resampled_class_counts = train_df_full_resampled.groupBy('Anomalous').count()\\\n",
        "                         .withColumn('percent', F.col('count')/train_df_full_resampled.count())\n",
        "\n",
        "resampled_class_counts.show(truncate=10)"
      ],
      "metadata": {
        "colab": {
          "base_uri": "https://localhost:8080/",
          "height": 160
        },
        "id": "gsjD0k8Sc7nA",
        "outputId": "e527baad-3494-4cbb-e2e4-d033ba63d605"
      },
      "execution_count": 15,
      "outputs": [
        {
          "output_type": "display_data",
          "data": {
            "text/plain": [
              "<IPython.core.display.HTML object>"
            ],
            "text/html": [
              "\n",
              "    <style>\n",
              "      pre {\n",
              "          white-space: pre-wrap;\n",
              "      }\n",
              "    </style>\n",
              "    "
            ]
          },
          "metadata": {}
        },
        {
          "output_type": "stream",
          "name": "stdout",
          "text": [
            "train_df_full_resampled:  473,988 Rows, 19 Columns\n",
            "+---------+------+----------+\n",
            "|Anomalous| count|   percent|\n",
            "+---------+------+----------+\n",
            "|        0|469088|0.98966...|\n",
            "|        1|  4900|0.01033...|\n",
            "+---------+------+----------+\n",
            "\n"
          ]
        }
      ]
    },
    {
      "cell_type": "code",
      "execution_count": 16,
      "metadata": {
        "colab": {
          "base_uri": "https://localhost:8080/",
          "height": 17
        },
        "id": "UAp0CuD4gQTt",
        "outputId": "ca64bd71-37ff-4120-d020-82ba1f8c6d74"
      },
      "outputs": [
        {
          "output_type": "display_data",
          "data": {
            "text/plain": [
              "<IPython.core.display.HTML object>"
            ],
            "text/html": [
              "\n",
              "    <style>\n",
              "      pre {\n",
              "          white-space: pre-wrap;\n",
              "      }\n",
              "    </style>\n",
              "    "
            ]
          },
          "metadata": {}
        }
      ],
      "source": [
        "# Set classifier hyperparameters\n",
        "mlp_1 = MultilayerPerceptronClassifier(\n",
        "    featuresCol='scaled_features',\n",
        "    labelCol='Anomalous', \n",
        "    layers=[91, 30, 2])"
      ]
    },
    {
      "cell_type": "code",
      "execution_count": 17,
      "metadata": {
        "id": "4lAWrYqzY5RE",
        "colab": {
          "base_uri": "https://localhost:8080/",
          "height": 17
        },
        "outputId": "bed96e6f-e456-4599-a390-77b402211a81"
      },
      "outputs": [
        {
          "output_type": "display_data",
          "data": {
            "text/plain": [
              "<IPython.core.display.HTML object>"
            ],
            "text/html": [
              "\n",
              "    <style>\n",
              "      pre {\n",
              "          white-space: pre-wrap;\n",
              "      }\n",
              "    </style>\n",
              "    "
            ]
          },
          "metadata": {}
        }
      ],
      "source": [
        "# Assign to pipeline\n",
        "mlp_1_pipeline = Pipeline(stages=stages + [mlp_1])\n",
        "\n",
        "# Fit to training data\n",
        "if not os.path.isdir(drive_path + 'mlp_1_model_full'):\n",
        "    mlp_1_model = mlp_1_pipeline.fit(train_df_full_resampled)"
      ]
    },
    {
      "cell_type": "code",
      "execution_count": 18,
      "metadata": {
        "id": "t3bPSaqGhidm",
        "colab": {
          "base_uri": "https://localhost:8080/",
          "height": 17
        },
        "outputId": "6ec29ceb-8ff4-472f-f0bf-cb7079a5f425"
      },
      "outputs": [
        {
          "output_type": "display_data",
          "data": {
            "text/plain": [
              "<IPython.core.display.HTML object>"
            ],
            "text/html": [
              "\n",
              "    <style>\n",
              "      pre {\n",
              "          white-space: pre-wrap;\n",
              "      }\n",
              "    </style>\n",
              "    "
            ]
          },
          "metadata": {}
        }
      ],
      "source": [
        "# Save model, or upload if already saved\n",
        "if not os.path.isdir(drive_path + 'mlp_1_model_full'):\n",
        "    mlp_1_model.save(drive_path + 'mlp_1_model_full')\n",
        "else:\n",
        "    mlp_1_model = PipelineModel.load(drive_path + 'mlp_1_model_full')"
      ]
    },
    {
      "cell_type": "code",
      "execution_count": 19,
      "metadata": {
        "colab": {
          "base_uri": "https://localhost:8080/",
          "height": 499
        },
        "id": "oEw0Y51zhr5l",
        "outputId": "8e535a91-0567-464a-800d-755b13a49026"
      },
      "outputs": [
        {
          "output_type": "display_data",
          "data": {
            "text/plain": [
              "<IPython.core.display.HTML object>"
            ],
            "text/html": [
              "\n",
              "    <style>\n",
              "      pre {\n",
              "          white-space: pre-wrap;\n",
              "      }\n",
              "    </style>\n",
              "    "
            ]
          },
          "metadata": {}
        },
        {
          "output_type": "stream",
          "name": "stdout",
          "text": [
            "MultilayerPerceptronClassificationModel\n",
            "--------------------------------------- \n",
            "\n",
            "Training data:\n",
            "\n",
            "                  precision    recall  f1-score   support\n",
            "\n",
            "0: Non-anomalous      0.997     1.000     0.998    469088\n",
            "    1: Anomalous      0.934     0.669     0.779      4900\n",
            "\n",
            "        accuracy                          0.996    473988\n",
            "       macro avg      0.965     0.834     0.889    473988\n",
            "    weighted avg      0.996     0.996     0.996    473988\n",
            "\n",
            "------------------------------------------------------------ \n",
            "\n",
            "Testing data:\n",
            "\n",
            "                  precision    recall  f1-score   support\n",
            "\n",
            "0: Non-anomalous      1.000     0.957     0.978    704347\n",
            "    1: Anomalous      0.017     0.669     0.032       761\n",
            "\n",
            "        accuracy                          0.957    705108\n",
            "       macro avg      0.508     0.813     0.505    705108\n",
            "    weighted avg      0.999     0.957     0.977    705108\n",
            "\n"
          ]
        }
      ],
      "source": [
        "# Print model scores\n",
        "score_model(mlp_1_model, train_df_full_resampled, test_df_full)"
      ]
    },
    {
      "cell_type": "code",
      "execution_count": 20,
      "metadata": {
        "id": "kekJWN9PhsBU",
        "colab": {
          "base_uri": "https://localhost:8080/",
          "height": 462
        },
        "outputId": "eee624a7-c468-4f3a-f744-f417064069b4"
      },
      "outputs": [
        {
          "output_type": "display_data",
          "data": {
            "text/plain": [
              "<IPython.core.display.HTML object>"
            ],
            "text/html": [
              "\n",
              "    <style>\n",
              "      pre {\n",
              "          white-space: pre-wrap;\n",
              "      }\n",
              "    </style>\n",
              "    "
            ]
          },
          "metadata": {}
        },
        {
          "output_type": "display_data",
          "data": {
            "text/plain": [
              "<Figure size 1296x504 with 2 Axes>"
            ],
            "image/png": "[encoded data removed]"
          },
          "metadata": {
            "image/png": {
              "width": 625,
              "height": 445
            },
            "needs_background": "light"
          }
        }
      ],
      "source": [
        "# Plot model confusion matrix\n",
        "plot_confusion_matrix(mlp_1_model, test_df_full)"
      ]
    },
    {
      "cell_type": "markdown",
      "source": [
        "**Remarks:**\n",
        "- Well we got a new high on positive class recall, but also a new high on positive class false positive rate which is dragging down the F1 score to a measly 0.032. It looks like the model is majorly overfitting, since the model did quite well on the training data with an F1-score of 0.779."
      ],
      "metadata": {
        "id": "74fjEL8dpJQg"
      }
    },
    {
      "cell_type": "markdown",
      "source": [
        "<br>"
      ],
      "metadata": {
        "id": "PSW3BNNlpKAS"
      }
    },
    {
      "cell_type": "markdown",
      "source": [
        "# Model 7.2: **Multilayer Perceptron Classifier** with Simpler Neural Network\n",
        "\n",
        "Let's try another MLP, but with more negative class observations this time and a simpler neural network in terms of number of nodes, but more layers, since our previous MLP was overfitting so heavily."
      ],
      "metadata": {
        "id": "5SSsue5vpKJ2"
      }
    },
    {
      "cell_type": "code",
      "source": [
        "train_df_full_resampled = spark_resample(df=train_df_full, oversample_fraction=1.0, undersample_fraction=0.5, \n",
        "                                         class_field='Anomalous', pos_class=1, shuffle=False, random_state=7)\n",
        "\n",
        "# Drop Weight column\n",
        "train_df_full_resampled = train_df_full_resampled.drop('Weight')\n",
        "# Print shape of resampled dataframe\n",
        "print(f\"train_df_full_resampled:  {train_df_full_resampled.count():,} Rows, {len(train_df_full_resampled.columns)} Columns\")\n",
        "# Display value counts for 'Label' column (classification target) of resampled dataframe\n",
        "resampled_class_counts = train_df_full_resampled.groupBy('Anomalous').count()\\\n",
        "                         .withColumn('percent', F.col('count')/train_df_full_resampled.count())\n",
        "\n",
        "resampled_class_counts.show(truncate=10)"
      ],
      "metadata": {
        "colab": {
          "base_uri": "https://localhost:8080/",
          "height": 160
        },
        "id": "wxXqP19uAIf5",
        "outputId": "d4a13bcc-2ace-4632-ea86-0d110679cf68"
      },
      "execution_count": 89,
      "outputs": [
        {
          "output_type": "display_data",
          "data": {
            "text/plain": [
              "<IPython.core.display.HTML object>"
            ],
            "text/html": [
              "\n",
              "    <style>\n",
              "      pre {\n",
              "          white-space: pre-wrap;\n",
              "      }\n",
              "    </style>\n",
              "    "
            ]
          },
          "metadata": {}
        },
        {
          "output_type": "stream",
          "name": "stdout",
          "text": [
            "train_df_full_resampled:  2,347,148 Rows, 19 Columns\n",
            "+---------+-------+----------+\n",
            "|Anomalous|  count|   percent|\n",
            "+---------+-------+----------+\n",
            "|        0|2342248|0.99791...|\n",
            "|        1|   4900|0.00208...|\n",
            "+---------+-------+----------+\n",
            "\n"
          ]
        }
      ]
    },
    {
      "cell_type": "code",
      "execution_count": 37,
      "metadata": {
        "id": "nWL3a8eIpKZf",
        "colab": {
          "base_uri": "https://localhost:8080/",
          "height": 17
        },
        "outputId": "5f15b37b-c3d2-4acd-f967-c3aa36c3d635"
      },
      "outputs": [
        {
          "output_type": "display_data",
          "data": {
            "text/plain": [
              "<IPython.core.display.HTML object>"
            ],
            "text/html": [
              "\n",
              "    <style>\n",
              "      pre {\n",
              "          white-space: pre-wrap;\n",
              "      }\n",
              "    </style>\n",
              "    "
            ]
          },
          "metadata": {}
        }
      ],
      "source": [
        "# Set classifier hyperparameters\n",
        "mlp_2 = MultilayerPerceptronClassifier(\n",
        "    featuresCol='scaled_features',\n",
        "    labelCol='Anomalous', \n",
        "    layers=[91, 15, 12, 8, 5, 2])"
      ]
    },
    {
      "cell_type": "code",
      "source": [
        "# Assign to pipeline\n",
        "mlp_2_pipeline = Pipeline(stages=stages + [mlp_2])\n",
        "\n",
        "# Fit to training data\n",
        "if not os.path.isdir(drive_path + 'mlp_2_model_full'):\n",
        "    mlp_2_model = mlp_2_pipeline.fit(train_df_full_resampled)"
      ],
      "metadata": {
        "colab": {
          "base_uri": "https://localhost:8080/",
          "height": 17
        },
        "id": "GbEVIXuV4za_",
        "outputId": "ccee5306-ad4a-4ccb-a512-930389378d5a"
      },
      "execution_count": 38,
      "outputs": [
        {
          "output_type": "display_data",
          "data": {
            "text/plain": [
              "<IPython.core.display.HTML object>"
            ],
            "text/html": [
              "\n",
              "    <style>\n",
              "      pre {\n",
              "          white-space: pre-wrap;\n",
              "      }\n",
              "    </style>\n",
              "    "
            ]
          },
          "metadata": {}
        }
      ]
    },
    {
      "cell_type": "code",
      "source": [
        "# Save model, or upload if already saved\n",
        "if not os.path.isdir(drive_path + 'mlp_2_model_full'):\n",
        "    mlp_2_model.save(drive_path + 'mlp_2_model_full')\n",
        "else:\n",
        "    mlp_2_model = PipelineModel.load(drive_path + 'mlp_2_model_full')"
      ],
      "metadata": {
        "colab": {
          "base_uri": "https://localhost:8080/",
          "height": 17
        },
        "id": "czzHMBAG4zq2",
        "outputId": "dfc9fb08-7c06-4313-cbb0-07da02981222"
      },
      "execution_count": 42,
      "outputs": [
        {
          "output_type": "display_data",
          "data": {
            "text/plain": [
              "<IPython.core.display.HTML object>"
            ],
            "text/html": [
              "\n",
              "    <style>\n",
              "      pre {\n",
              "          white-space: pre-wrap;\n",
              "      }\n",
              "    </style>\n",
              "    "
            ]
          },
          "metadata": {}
        }
      ]
    },
    {
      "cell_type": "code",
      "source": [
        "# Print model scores\n",
        "score_model(mlp_2_model, train_df_full_resampled, test_df_full)"
      ],
      "metadata": {
        "colab": {
          "base_uri": "https://localhost:8080/",
          "height": 499
        },
        "id": "M97zkits40DI",
        "outputId": "182c6c8e-78c3-49d5-83f9-a7b1454cd05d"
      },
      "execution_count": 39,
      "outputs": [
        {
          "output_type": "display_data",
          "data": {
            "text/plain": [
              "<IPython.core.display.HTML object>"
            ],
            "text/html": [
              "\n",
              "    <style>\n",
              "      pre {\n",
              "          white-space: pre-wrap;\n",
              "      }\n",
              "    </style>\n",
              "    "
            ]
          },
          "metadata": {}
        },
        {
          "output_type": "stream",
          "name": "stdout",
          "text": [
            "MultilayerPerceptronClassificationModel\n",
            "--------------------------------------- \n",
            "\n",
            "Training data:\n",
            "\n",
            "                  precision    recall  f1-score   support\n",
            "\n",
            "0: Non-anomalous      0.999     1.000     0.999   2342248\n",
            "    1: Anomalous      0.963     0.486     0.646      4900\n",
            "\n",
            "        accuracy                          0.999   2347148\n",
            "       macro avg      0.981     0.743     0.823   2347148\n",
            "    weighted avg      0.999     0.999     0.999   2347148\n",
            "\n",
            "------------------------------------------------------------ \n",
            "\n",
            "Testing data:\n",
            "\n",
            "                  precision    recall  f1-score   support\n",
            "\n",
            "0: Non-anomalous      0.999     0.999     0.999    704347\n",
            "    1: Anomalous      0.443     0.465     0.454       761\n",
            "\n",
            "        accuracy                          0.999    705108\n",
            "       macro avg      0.721     0.732     0.726    705108\n",
            "    weighted avg      0.999     0.999     0.999    705108\n",
            "\n"
          ]
        }
      ]
    },
    {
      "cell_type": "code",
      "source": [
        "# Plot model confusion matrix\n",
        "plot_confusion_matrix(mlp_2_model, test_df_full)"
      ],
      "metadata": {
        "colab": {
          "base_uri": "https://localhost:8080/",
          "height": 462
        },
        "id": "kh0B7NKW5Peb",
        "outputId": "7bda3b84-90cb-4604-a9bf-f66a598989b0"
      },
      "execution_count": 40,
      "outputs": [
        {
          "output_type": "display_data",
          "data": {
            "text/plain": [
              "<IPython.core.display.HTML object>"
            ],
            "text/html": [
              "\n",
              "    <style>\n",
              "      pre {\n",
              "          white-space: pre-wrap;\n",
              "      }\n",
              "    </style>\n",
              "    "
            ]
          },
          "metadata": {}
        },
        {
          "output_type": "display_data",
          "data": {
            "text/plain": [
              "<Figure size 1296x504 with 2 Axes>"
            ],
            "image/png": "[encoded data removed]"
          },
          "metadata": {
            "image/png": {
              "width": 625,
              "height": 445
            },
            "needs_background": "light"
          }
        }
      ]
    },
    {
      "cell_type": "markdown",
      "source": [
        "**Remarks:**\n",
        "- Interesting! We seem to be on to something here. Our recall is better than our best overall model so far, with only a very small handful of false positives. Let's take this model and ramp up what we changed: even more observations and layers."
      ],
      "metadata": {
        "id": "_nIbC59q8GGJ"
      }
    },
    {
      "cell_type": "markdown",
      "source": [
        "<br>"
      ],
      "metadata": {
        "id": "UzpSAvLjOA9d"
      }
    },
    {
      "cell_type": "markdown",
      "source": [
        "# Model 7.3: **Multilayer Perceptron Classifier** with More Hidden Layers\n",
        "\n",
        "We got some very promising results on our last MLP model after using lots of hidden layers with a small number of decreasing nodes in each. Let's continue down that road and see if we can get more improvement with the full dataset with even more hidden layers."
      ],
      "metadata": {
        "id": "QVlFBMpCOBI5"
      }
    },
    {
      "cell_type": "code",
      "source": [
        "# Set classifier hyperparameters\n",
        "mlp_3 = MultilayerPerceptronClassifier(\n",
        "    featuresCol='scaled_features',\n",
        "    labelCol='Anomalous', \n",
        "    layers=[91, 15, 12, 10, 8, 7, 5, 2])"
      ],
      "metadata": {
        "colab": {
          "base_uri": "https://localhost:8080/",
          "height": 17
        },
        "id": "ullhITiIOBR8",
        "outputId": "8259d33a-1d52-4670-9a0a-412006ea3b31"
      },
      "execution_count": 100,
      "outputs": [
        {
          "output_type": "display_data",
          "data": {
            "text/plain": [
              "<IPython.core.display.HTML object>"
            ],
            "text/html": [
              "\n",
              "    <style>\n",
              "      pre {\n",
              "          white-space: pre-wrap;\n",
              "      }\n",
              "    </style>\n",
              "    "
            ]
          },
          "metadata": {}
        }
      ]
    },
    {
      "cell_type": "code",
      "source": [
        "# Assign to pipeline\n",
        "mlp_3_pipeline = Pipeline(stages=stages + [mlp_3])\n",
        "\n",
        "# Fit to training data\n",
        "if not os.path.isdir(drive_path + 'mlp_3_model_full'):\n",
        "    mlp_3_model = mlp_3_pipeline.fit(train_df_full_resampled)"
      ],
      "metadata": {
        "colab": {
          "base_uri": "https://localhost:8080/",
          "height": 17
        },
        "id": "yX7RSftXOBaH",
        "outputId": "e76bf273-9470-4cd0-b9eb-9a6a48dd2664"
      },
      "execution_count": 105,
      "outputs": [
        {
          "output_type": "display_data",
          "data": {
            "text/plain": [
              "<IPython.core.display.HTML object>"
            ],
            "text/html": [
              "\n",
              "    <style>\n",
              "      pre {\n",
              "          white-space: pre-wrap;\n",
              "      }\n",
              "    </style>\n",
              "    "
            ]
          },
          "metadata": {}
        }
      ]
    },
    {
      "cell_type": "code",
      "source": [
        "# Save model, or upload if already saved\n",
        "if not os.path.isdir(drive_path + 'mlp_3_model_full'):\n",
        "    mlp_3_model.save(drive_path + 'mlp_3_model_full')\n",
        "else:\n",
        "    mlp_3_model = PipelineModel.load(drive_path + 'mlp_3_model_full')"
      ],
      "metadata": {
        "colab": {
          "base_uri": "https://localhost:8080/",
          "height": 17
        },
        "id": "v8xiROjpOBhm",
        "outputId": "d94e2c17-fe61-48c2-9093-84fabc7af655"
      },
      "execution_count": 106,
      "outputs": [
        {
          "output_type": "display_data",
          "data": {
            "text/plain": [
              "<IPython.core.display.HTML object>"
            ],
            "text/html": [
              "\n",
              "    <style>\n",
              "      pre {\n",
              "          white-space: pre-wrap;\n",
              "      }\n",
              "    </style>\n",
              "    "
            ]
          },
          "metadata": {}
        }
      ]
    },
    {
      "cell_type": "code",
      "source": [
        "# Print model scores\n",
        "score_model(mlp_3_model, train_df_full_resampled, test_df_full)"
      ],
      "metadata": {
        "colab": {
          "base_uri": "https://localhost:8080/",
          "height": 499
        },
        "id": "dVIIIB7AOBpL",
        "outputId": "38a2ccd9-701c-4870-ee18-c026d8e676f2"
      },
      "execution_count": 107,
      "outputs": [
        {
          "output_type": "display_data",
          "data": {
            "text/plain": [
              "<IPython.core.display.HTML object>"
            ],
            "text/html": [
              "\n",
              "    <style>\n",
              "      pre {\n",
              "          white-space: pre-wrap;\n",
              "      }\n",
              "    </style>\n",
              "    "
            ]
          },
          "metadata": {}
        },
        {
          "output_type": "stream",
          "name": "stdout",
          "text": [
            "MultilayerPerceptronClassificationModel\n",
            "--------------------------------------- \n",
            "\n",
            "Training data:\n",
            "\n",
            "                  precision    recall  f1-score   support\n",
            "\n",
            "0: Non-anomalous      0.999     1.000     0.999   2342248\n",
            "    1: Anomalous      0.972     0.422     0.589      4900\n",
            "\n",
            "        accuracy                          0.999   2347148\n",
            "       macro avg      0.985     0.711     0.794   2347148\n",
            "    weighted avg      0.999     0.999     0.999   2347148\n",
            "\n",
            "------------------------------------------------------------ \n",
            "\n",
            "Testing data:\n",
            "\n",
            "                  precision    recall  f1-score   support\n",
            "\n",
            "0: Non-anomalous      0.999     1.000     1.000    704347\n",
            "    1: Anomalous      0.711     0.407     0.518       761\n",
            "\n",
            "        accuracy                          0.999    705108\n",
            "       macro avg      0.855     0.704     0.759    705108\n",
            "    weighted avg      0.999     0.999     0.999    705108\n",
            "\n"
          ]
        }
      ]
    },
    {
      "cell_type": "code",
      "source": [
        "# Plot model confusion matrix\n",
        "plot_confusion_matrix(mlp_3_model, test_df_full)"
      ],
      "metadata": {
        "colab": {
          "base_uri": "https://localhost:8080/",
          "height": 462
        },
        "id": "hlzyi6UeOBwL",
        "outputId": "5bce2518-72ce-4e8a-9b79-84cc2c56803b"
      },
      "execution_count": 108,
      "outputs": [
        {
          "output_type": "display_data",
          "data": {
            "text/plain": [
              "<IPython.core.display.HTML object>"
            ],
            "text/html": [
              "\n",
              "    <style>\n",
              "      pre {\n",
              "          white-space: pre-wrap;\n",
              "      }\n",
              "    </style>\n",
              "    "
            ]
          },
          "metadata": {}
        },
        {
          "output_type": "display_data",
          "data": {
            "text/plain": [
              "<Figure size 1296x504 with 2 Axes>"
            ],
            "image/png": "[encoded data removed]"
          },
          "metadata": {
            "image/png": {
              "width": 625,
              "height": 445
            },
            "needs_background": "light"
          }
        }
      ]
    },
    {
      "cell_type": "markdown",
      "source": [
        "**Remarks:**\n",
        "- Our F1 score improved again! We're getting really close to our best model, but our recall is also approaching the best decision tree model now while we've still got a good deal of false positives. Let's try a bit more tuning to see if we can beat the decision tree."
      ],
      "metadata": {
        "id": "eYohRQiWOB3O"
      }
    },
    {
      "cell_type": "markdown",
      "source": [
        "<br>"
      ],
      "metadata": {
        "id": "JtjIA8t35IPQ"
      }
    },
    {
      "cell_type": "markdown",
      "source": [
        "# Model 7.4: **Multilayer Perceptron Classifier** with Even More Hidden Layers\n",
        "\n",
        "Let's try even more hidden layers with the same dataframe to see if we can keep improving the F1 score."
      ],
      "metadata": {
        "id": "qub_XsyF5IZQ"
      }
    },
    {
      "cell_type": "code",
      "source": [
        "# Set classifier hyperparameters\n",
        "mlp_4 = MultilayerPerceptronClassifier(\n",
        "    featuresCol='scaled_features',\n",
        "    labelCol='Anomalous', \n",
        "    layers=[91, 20, 15, 13, 12, 10, 8, 7, 5, 2])"
      ],
      "metadata": {
        "colab": {
          "base_uri": "https://localhost:8080/",
          "height": 17
        },
        "id": "zTp-EGVz5IgO",
        "outputId": "c84c77cc-2d79-462c-bce3-32596ad43ee8"
      },
      "execution_count": 117,
      "outputs": [
        {
          "output_type": "display_data",
          "data": {
            "text/plain": [
              "<IPython.core.display.HTML object>"
            ],
            "text/html": [
              "\n",
              "    <style>\n",
              "      pre {\n",
              "          white-space: pre-wrap;\n",
              "      }\n",
              "    </style>\n",
              "    "
            ]
          },
          "metadata": {}
        }
      ]
    },
    {
      "cell_type": "code",
      "source": [
        "# Assign to pipeline\n",
        "mlp_4_pipeline = Pipeline(stages=stages + [mlp_4])\n",
        "\n",
        "# Fit to training data\n",
        "if not os.path.isdir(drive_path + 'mlp_4_model_full'):\n",
        "    mlp_4_model = mlp_4_pipeline.fit(train_df_full_resampled)"
      ],
      "metadata": {
        "colab": {
          "base_uri": "https://localhost:8080/",
          "height": 17
        },
        "id": "7lZwDzHb5Il6",
        "outputId": "015d2eff-ce53-45a5-953e-323fbed0c09c"
      },
      "execution_count": 118,
      "outputs": [
        {
          "output_type": "display_data",
          "data": {
            "text/plain": [
              "<IPython.core.display.HTML object>"
            ],
            "text/html": [
              "\n",
              "    <style>\n",
              "      pre {\n",
              "          white-space: pre-wrap;\n",
              "      }\n",
              "    </style>\n",
              "    "
            ]
          },
          "metadata": {}
        }
      ]
    },
    {
      "cell_type": "code",
      "source": [
        "# Save model, or upload if already saved\n",
        "if not os.path.isdir(drive_path + 'mlp_4_model_full'):\n",
        "    mlp_4_model.save(drive_path + 'mlp_4_model_full')\n",
        "else:\n",
        "    mlp_4_model = PipelineModel.load(drive_path + 'mlp_4_model_full')"
      ],
      "metadata": {
        "colab": {
          "base_uri": "https://localhost:8080/",
          "height": 17
        },
        "id": "6iodSRQD5Iq9",
        "outputId": "093ebb7f-dadd-4f4e-ea51-c483725b1116"
      },
      "execution_count": 119,
      "outputs": [
        {
          "output_type": "display_data",
          "data": {
            "text/plain": [
              "<IPython.core.display.HTML object>"
            ],
            "text/html": [
              "\n",
              "    <style>\n",
              "      pre {\n",
              "          white-space: pre-wrap;\n",
              "      }\n",
              "    </style>\n",
              "    "
            ]
          },
          "metadata": {}
        }
      ]
    },
    {
      "cell_type": "code",
      "source": [
        "# Print model scores\n",
        "score_model(mlp_4_model, train_df_full_resampled, test_df_full)"
      ],
      "metadata": {
        "colab": {
          "base_uri": "https://localhost:8080/",
          "height": 499
        },
        "id": "aL1jc5Pg5IwW",
        "outputId": "40ac9ab0-c73c-4ee4-fb3f-e06cade381a7"
      },
      "execution_count": 120,
      "outputs": [
        {
          "output_type": "display_data",
          "data": {
            "text/plain": [
              "<IPython.core.display.HTML object>"
            ],
            "text/html": [
              "\n",
              "    <style>\n",
              "      pre {\n",
              "          white-space: pre-wrap;\n",
              "      }\n",
              "    </style>\n",
              "    "
            ]
          },
          "metadata": {}
        },
        {
          "output_type": "stream",
          "name": "stdout",
          "text": [
            "MultilayerPerceptronClassificationModel\n",
            "--------------------------------------- \n",
            "\n",
            "Training data:\n",
            "\n",
            "                  precision    recall  f1-score   support\n",
            "\n",
            "0: Non-anomalous      0.999     1.000     0.999   2342248\n",
            "    1: Anomalous      0.973     0.428     0.594      4900\n",
            "\n",
            "        accuracy                          0.999   2347148\n",
            "       macro avg      0.986     0.714     0.797   2347148\n",
            "    weighted avg      0.999     0.999     0.999   2347148\n",
            "\n",
            "------------------------------------------------------------ \n",
            "\n",
            "Testing data:\n",
            "\n",
            "                  precision    recall  f1-score   support\n",
            "\n",
            "0: Non-anomalous      0.999     1.000     1.000    704347\n",
            "    1: Anomalous      0.934     0.407     0.567       761\n",
            "\n",
            "        accuracy                          0.999    705108\n",
            "       macro avg      0.967     0.704     0.783    705108\n",
            "    weighted avg      0.999     0.999     0.999    705108\n",
            "\n"
          ]
        }
      ]
    },
    {
      "cell_type": "code",
      "source": [
        "# Plot model confusion matrix\n",
        "plot_confusion_matrix(mlp_4_model, test_df_full)"
      ],
      "metadata": {
        "colab": {
          "base_uri": "https://localhost:8080/",
          "height": 462
        },
        "id": "suF4PobZ5I0r",
        "outputId": "2ad65614-a255-436d-d775-2fa97feba18b"
      },
      "execution_count": 121,
      "outputs": [
        {
          "output_type": "display_data",
          "data": {
            "text/plain": [
              "<IPython.core.display.HTML object>"
            ],
            "text/html": [
              "\n",
              "    <style>\n",
              "      pre {\n",
              "          white-space: pre-wrap;\n",
              "      }\n",
              "    </style>\n",
              "    "
            ]
          },
          "metadata": {}
        },
        {
          "output_type": "display_data",
          "data": {
            "text/plain": [
              "<Figure size 1296x504 with 2 Axes>"
            ],
            "image/png": "[encoded data removed]"
          },
          "metadata": {
            "image/png": {
              "width": 625,
              "height": 445
            },
            "needs_background": "light"
          }
        }
      ]
    },
    {
      "cell_type": "markdown",
      "source": [
        "**Remarks:**\n",
        "- New high score! We didn't beat the previous best F1 score by much (0.017), but we got a new best. We correctly classified 310/761 anomalous transactions and got only 22 false positives."
      ],
      "metadata": {
        "id": "qD5HpiGj6BQk"
      }
    },
    {
      "cell_type": "markdown",
      "source": [
        "<br>"
      ],
      "metadata": {
        "id": "e9HDhw8N-Ds7"
      }
    },
    {
      "cell_type": "markdown",
      "source": [
        "# Results and Evaluation"
      ],
      "metadata": {
        "id": "pmFzL1aVG3sL"
      }
    },
    {
      "cell_type": "markdown",
      "source": [
        "## Dataframe of compiled model results - F1 scores\n",
        "\n",
        "Training and testing F1 scores for each model are compiled, along with testing precision and recall scores. Class weights and resampling method for each model are also included. Models are sorted by descending test F1 scores on anomalous transactions, with training F1 scores on anomalous transactions breaking the tie."
      ],
      "metadata": {
        "id": "fPIpyOSgG5-f"
      }
    },
    {
      "cell_type": "code",
      "source": [
        "columns = ['Model', 'Training F1 Score', 'Test F1 Score', 'Test Precision', 'Test Recall', 'Class Weights', 'Resampling']\n",
        "\n",
        "models = ['Model 0: Baseline Logistic Regression', 'Model 1.1: Logistic Regression 1', 'Model 1.2: Logistic Regression 2', \n",
        "          'Model 2.1: SVC 1', 'Model 2.2: SVC 2', 'Model 3.1: Naive Bayes Classifier 1', 'Model 4.1: Decision Tree Classifier 1', \n",
        "          'Model 5.1: GBT Classifier 1', 'Model 5.2: GBT Classifier 2', 'Model 4.2: Decision Tree Classifier 2', \n",
        "          'Model 6.1: Random Forest Classifier 1', 'Model 6.2: Random Forest Classifier 2', 'Model 6.3: Random Forest Classifier 3', \n",
        "          'Model 7.1: Multilayer Perceptron Classifier 1', 'Model 7.2: Multilayer Perceptron Classifier 2', \n",
        "          'Model 7.3: Multilayer Perceptron Classifier 3', 'Model 7.4: Multilayer Perceptron Classifier 4']\n",
        "\n",
        "train_f1_scores = [0.482, 0.314, 0.314, 0.314, 0.314, 0.031, 0.577, 0.671, 0.515, 0.578, 0.476, 0.630, 0.630, 0.779, 0.646, 0.589, 0.594]\n",
        "test_f1_scores = [0.019, 0.265, 0.265, 0.265, 0.265, 0.026, 0.555, 0.019, 0.015, 0.555, 0.487, 0.044, 0.097, 0.032, 0.454, 0.518, 0.567]\n",
        "test_precision_scores = [0.010, 1.000, 1.000, 1.000, 1.000, 0.014, 1.000, 0.010, 0.008, 1.000, 1.000, 0.023, 0.055, 0.017, 0.443, 0.711, 0.934]\n",
        "test_recall_scores = [0.294, 0.152, 0.152,0.152, 0.152, 0.180, 0.384, 0.562, 0.321, 0.384, 0.322, 0.452, 0.440, 0.669, 0.465, 0.407, 0.407]\n",
        "class_weights = ['Unweighted', 'Unweighted', 'Unweighted', 'Pos: 1.0, Neg: 0.1', 'Pos: 1.0, Neg: 0.5', 'Pos: 1.0, Neg: 0.01', 'Pos: 1.0, Neg: 0.1', \n",
        "                 'Pos: 1.0, Neg: 0.1', 'Unweighted', 'Unweighted', 'Unweighted', 'Unweighted', 'Unweighted', 'Unweighted', 'Unweighted', \n",
        "                 'Unweighted', 'Unweighted']\n",
        "resampling = ['Unsampled', 'Unsampled', 'Unsampled', 'Unsampled', 'Unsampled', 'Unsampled', 'Unsampled', 'Unsampled', 'Unsampled', 'Oversampled 10x', \n",
        "              'Oversampled 10x', 'Oversampled 10x, Undersampled 10x', 'Oversampled 20x', 'Undersampled 10x', 'Undersampled 2x', 'Undersampled 2x', \n",
        "              'Undersampled 2x']\n",
        "\n",
        "compiled_scores = list(zip(models, train_f1_scores, test_f1_scores, test_precision_scores, test_recall_scores, class_weights, resampling))\n",
        "\n",
        "compiled_f1_scores_df = pd.DataFrame(compiled_scores, columns=columns)\n",
        "compiled_f1_scores_df.sort_values(by=['Test F1 Score', 'Training F1 Score'], ascending=False)"
      ],
      "metadata": {
        "colab": {
          "base_uri": "https://localhost:8080/",
          "height": 582
        },
        "id": "ngLES-xOHr23",
        "outputId": "1f21bd5b-e87e-49dc-ce6e-4ca5e9e7fa0d"
      },
      "execution_count": 124,
      "outputs": [
        {
          "output_type": "display_data",
          "data": {
            "text/plain": [
              "<IPython.core.display.HTML object>"
            ],
            "text/html": [
              "\n",
              "    <style>\n",
              "      pre {\n",
              "          white-space: pre-wrap;\n",
              "      }\n",
              "    </style>\n",
              "    "
            ]
          },
          "metadata": {}
        },
        {
          "output_type": "execute_result",
          "data": {
            "text/plain": [
              "                                            Model  Training F1 Score  \\\n",
              "16  Model 7.4: Multilayer Perceptron Classifier 4              0.594   \n",
              "9           Model 4.2: Decision Tree Classifier 2              0.578   \n",
              "6           Model 4.1: Decision Tree Classifier 1              0.577   \n",
              "15  Model 7.3: Multilayer Perceptron Classifier 3              0.589   \n",
              "10          Model 6.1: Random Forest Classifier 1              0.476   \n",
              "14  Model 7.2: Multilayer Perceptron Classifier 2              0.646   \n",
              "1                Model 1.1: Logistic Regression 1              0.314   \n",
              "2                Model 1.2: Logistic Regression 2              0.314   \n",
              "3                                Model 2.1: SVC 1              0.314   \n",
              "4                                Model 2.2: SVC 2              0.314   \n",
              "12          Model 6.3: Random Forest Classifier 3              0.630   \n",
              "11          Model 6.2: Random Forest Classifier 2              0.630   \n",
              "13  Model 7.1: Multilayer Perceptron Classifier 1              0.779   \n",
              "5             Model 3.1: Naive Bayes Classifier 1              0.031   \n",
              "7                     Model 5.1: GBT Classifier 1              0.671   \n",
              "0           Model 0: Baseline Logistic Regression              0.482   \n",
              "8                     Model 5.2: GBT Classifier 2              0.515   \n",
              "\n",
              "    Test F1 Score  Test Precision  Test Recall        Class Weights  \\\n",
              "16          0.567           0.934        0.407           Unweighted   \n",
              "9           0.555           1.000        0.384           Unweighted   \n",
              "6           0.555           1.000        0.384   Pos: 1.0, Neg: 0.1   \n",
              "15          0.518           0.711        0.407           Unweighted   \n",
              "10          0.487           1.000        0.322           Unweighted   \n",
              "14          0.454           0.443        0.465           Unweighted   \n",
              "1           0.265           1.000        0.152           Unweighted   \n",
              "2           0.265           1.000        0.152           Unweighted   \n",
              "3           0.265           1.000        0.152   Pos: 1.0, Neg: 0.1   \n",
              "4           0.265           1.000        0.152   Pos: 1.0, Neg: 0.5   \n",
              "12          0.097           0.055        0.440           Unweighted   \n",
              "11          0.044           0.023        0.452           Unweighted   \n",
              "13          0.032           0.017        0.669           Unweighted   \n",
              "5           0.026           0.014        0.180  Pos: 1.0, Neg: 0.01   \n",
              "7           0.019           0.010        0.562   Pos: 1.0, Neg: 0.1   \n",
              "0           0.019           0.010        0.294           Unweighted   \n",
              "8           0.015           0.008        0.321           Unweighted   \n",
              "\n",
              "                           Resampling  \n",
              "16                    Undersampled 2x  \n",
              "9                     Oversampled 10x  \n",
              "6                           Unsampled  \n",
              "15                    Undersampled 2x  \n",
              "10                    Oversampled 10x  \n",
              "14                    Undersampled 2x  \n",
              "1                           Unsampled  \n",
              "2                           Unsampled  \n",
              "3                           Unsampled  \n",
              "4                           Unsampled  \n",
              "12                    Oversampled 20x  \n",
              "11  Oversampled 10x, Undersampled 10x  \n",
              "13                   Undersampled 10x  \n",
              "5                           Unsampled  \n",
              "7                           Unsampled  \n",
              "0                           Unsampled  \n",
              "8                           Unsampled  "
            ],
            "text/html": [
              "\n",
              "  <div id=\"df-741bbac1-f741-4c48-83a0-758293896900\">\n",
              "    <div class=\"colab-df-container\">\n",
              "      <div>\n",
              "<style scoped>\n",
              "    .dataframe tbody tr th:only-of-type {\n",
              "        vertical-align: middle;\n",
              "    }\n",
              "\n",
              "    .dataframe tbody tr th {\n",
              "        vertical-align: top;\n",
              "    }\n",
              "\n",
              "    .dataframe thead th {\n",
              "        text-align: right;\n",
              "    }\n",
              "</style>\n",
              "<table border=\"1\" class=\"dataframe\">\n",
              "  <thead>\n",
              "    <tr style=\"text-align: right;\">\n",
              "      <th></th>\n",
              "      <th>Model</th>\n",
              "      <th>Training F1 Score</th>\n",
              "      <th>Test F1 Score</th>\n",
              "      <th>Test Precision</th>\n",
              "      <th>Test Recall</th>\n",
              "      <th>Class Weights</th>\n",
              "      <th>Resampling</th>\n",
              "    </tr>\n",
              "  </thead>\n",
              "  <tbody>\n",
              "    <tr>\n",
              "      <th>16</th>\n",
              "      <td>Model 7.4: Multilayer Perceptron Classifier 4</td>\n",
              "      <td>0.594</td>\n",
              "      <td>0.567</td>\n",
              "      <td>0.934</td>\n",
              "      <td>0.407</td>\n",
              "      <td>Unweighted</td>\n",
              "      <td>Undersampled 2x</td>\n",
              "    </tr>\n",
              "    <tr>\n",
              "      <th>9</th>\n",
              "      <td>Model 4.2: Decision Tree Classifier 2</td>\n",
              "      <td>0.578</td>\n",
              "      <td>0.555</td>\n",
              "      <td>1.000</td>\n",
              "      <td>0.384</td>\n",
              "      <td>Unweighted</td>\n",
              "      <td>Oversampled 10x</td>\n",
              "    </tr>\n",
              "    <tr>\n",
              "      <th>6</th>\n",
              "      <td>Model 4.1: Decision Tree Classifier 1</td>\n",
              "      <td>0.577</td>\n",
              "      <td>0.555</td>\n",
              "      <td>1.000</td>\n",
              "      <td>0.384</td>\n",
              "      <td>Pos: 1.0, Neg: 0.1</td>\n",
              "      <td>Unsampled</td>\n",
              "    </tr>\n",
              "    <tr>\n",
              "      <th>15</th>\n",
              "      <td>Model 7.3: Multilayer Perceptron Classifier 3</td>\n",
              "      <td>0.589</td>\n",
              "      <td>0.518</td>\n",
              "      <td>0.711</td>\n",
              "      <td>0.407</td>\n",
              "      <td>Unweighted</td>\n",
              "      <td>Undersampled 2x</td>\n",
              "    </tr>\n",
              "    <tr>\n",
              "      <th>10</th>\n",
              "      <td>Model 6.1: Random Forest Classifier 1</td>\n",
              "      <td>0.476</td>\n",
              "      <td>0.487</td>\n",
              "      <td>1.000</td>\n",
              "      <td>0.322</td>\n",
              "      <td>Unweighted</td>\n",
              "      <td>Oversampled 10x</td>\n",
              "    </tr>\n",
              "    <tr>\n",
              "      <th>14</th>\n",
              "      <td>Model 7.2: Multilayer Perceptron Classifier 2</td>\n",
              "      <td>0.646</td>\n",
              "      <td>0.454</td>\n",
              "      <td>0.443</td>\n",
              "      <td>0.465</td>\n",
              "      <td>Unweighted</td>\n",
              "      <td>Undersampled 2x</td>\n",
              "    </tr>\n",
              "    <tr>\n",
              "      <th>1</th>\n",
              "      <td>Model 1.1: Logistic Regression 1</td>\n",
              "      <td>0.314</td>\n",
              "      <td>0.265</td>\n",
              "      <td>1.000</td>\n",
              "      <td>0.152</td>\n",
              "      <td>Unweighted</td>\n",
              "      <td>Unsampled</td>\n",
              "    </tr>\n",
              "    <tr>\n",
              "      <th>2</th>\n",
              "      <td>Model 1.2: Logistic Regression 2</td>\n",
              "      <td>0.314</td>\n",
              "      <td>0.265</td>\n",
              "      <td>1.000</td>\n",
              "      <td>0.152</td>\n",
              "      <td>Unweighted</td>\n",
              "      <td>Unsampled</td>\n",
              "    </tr>\n",
              "    <tr>\n",
              "      <th>3</th>\n",
              "      <td>Model 2.1: SVC 1</td>\n",
              "      <td>0.314</td>\n",
              "      <td>0.265</td>\n",
              "      <td>1.000</td>\n",
              "      <td>0.152</td>\n",
              "      <td>Pos: 1.0, Neg: 0.1</td>\n",
              "      <td>Unsampled</td>\n",
              "    </tr>\n",
              "    <tr>\n",
              "      <th>4</th>\n",
              "      <td>Model 2.2: SVC 2</td>\n",
              "      <td>0.314</td>\n",
              "      <td>0.265</td>\n",
              "      <td>1.000</td>\n",
              "      <td>0.152</td>\n",
              "      <td>Pos: 1.0, Neg: 0.5</td>\n",
              "      <td>Unsampled</td>\n",
              "    </tr>\n",
              "    <tr>\n",
              "      <th>12</th>\n",
              "      <td>Model 6.3: Random Forest Classifier 3</td>\n",
              "      <td>0.630</td>\n",
              "      <td>0.097</td>\n",
              "      <td>0.055</td>\n",
              "      <td>0.440</td>\n",
              "      <td>Unweighted</td>\n",
              "      <td>Oversampled 20x</td>\n",
              "    </tr>\n",
              "    <tr>\n",
              "      <th>11</th>\n",
              "      <td>Model 6.2: Random Forest Classifier 2</td>\n",
              "      <td>0.630</td>\n",
              "      <td>0.044</td>\n",
              "      <td>0.023</td>\n",
              "      <td>0.452</td>\n",
              "      <td>Unweighted</td>\n",
              "      <td>Oversampled 10x, Undersampled 10x</td>\n",
              "    </tr>\n",
              "    <tr>\n",
              "      <th>13</th>\n",
              "      <td>Model 7.1: Multilayer Perceptron Classifier 1</td>\n",
              "      <td>0.779</td>\n",
              "      <td>0.032</td>\n",
              "      <td>0.017</td>\n",
              "      <td>0.669</td>\n",
              "      <td>Unweighted</td>\n",
              "      <td>Undersampled 10x</td>\n",
              "    </tr>\n",
              "    <tr>\n",
              "      <th>5</th>\n",
              "      <td>Model 3.1: Naive Bayes Classifier 1</td>\n",
              "      <td>0.031</td>\n",
              "      <td>0.026</td>\n",
              "      <td>0.014</td>\n",
              "      <td>0.180</td>\n",
              "      <td>Pos: 1.0, Neg: 0.01</td>\n",
              "      <td>Unsampled</td>\n",
              "    </tr>\n",
              "    <tr>\n",
              "      <th>7</th>\n",
              "      <td>Model 5.1: GBT Classifier 1</td>\n",
              "      <td>0.671</td>\n",
              "      <td>0.019</td>\n",
              "      <td>0.010</td>\n",
              "      <td>0.562</td>\n",
              "      <td>Pos: 1.0, Neg: 0.1</td>\n",
              "      <td>Unsampled</td>\n",
              "    </tr>\n",
              "    <tr>\n",
              "      <th>0</th>\n",
              "      <td>Model 0: Baseline Logistic Regression</td>\n",
              "      <td>0.482</td>\n",
              "      <td>0.019</td>\n",
              "      <td>0.010</td>\n",
              "      <td>0.294</td>\n",
              "      <td>Unweighted</td>\n",
              "      <td>Unsampled</td>\n",
              "    </tr>\n",
              "    <tr>\n",
              "      <th>8</th>\n",
              "      <td>Model 5.2: GBT Classifier 2</td>\n",
              "      <td>0.515</td>\n",
              "      <td>0.015</td>\n",
              "      <td>0.008</td>\n",
              "      <td>0.321</td>\n",
              "      <td>Unweighted</td>\n",
              "      <td>Unsampled</td>\n",
              "    </tr>\n",
              "  </tbody>\n",
              "</table>\n",
              "</div>\n",
              "      <button class=\"colab-df-convert\" onclick=\"convertToInteractive('df-741bbac1-f741-4c48-83a0-758293896900')\"\n",
              "              title=\"Convert this dataframe to an interactive table.\"\n",
              "              style=\"display:none;\">\n",
              "        \n",
              "  <svg xmlns=\"http://www.w3.org/2000/svg\" height=\"24px\"viewBox=\"0 0 24 24\"\n",
              "       width=\"24px\">\n",
              "    <path d=\"M0 0h24v24H0V0z\" fill=\"none\"/>\n",
              "    <path d=\"M18.56 5.44l.94 2.06.94-2.06 2.06-.94-2.06-.94-.94-2.06-.94 2.06-2.06.94zm-11 1L8.5 8.5l.94-2.06 2.06-.94-2.06-.94L8.5 2.5l-.94 2.06-2.06.94zm10 10l.94 2.06.94-2.06 2.06-.94-2.06-.94-.94-2.06-.94 2.06-2.06.94z\"/><path d=\"M17.41 7.96l-1.37-1.37c-.4-.4-.92-.59-1.43-.59-.52 0-1.04.2-1.43.59L10.3 9.45l-7.72 7.72c-.78.78-.78 2.05 0 2.83L4 21.41c.39.39.9.59 1.41.59.51 0 1.02-.2 1.41-.59l7.78-7.78 2.81-2.81c.8-.78.8-2.07 0-2.86zM5.41 20L4 18.59l7.72-7.72 1.47 1.35L5.41 20z\"/>\n",
              "  </svg>\n",
              "      </button>\n",
              "      \n",
              "  <style>\n",
              "    .colab-df-container {\n",
              "      display:flex;\n",
              "      flex-wrap:wrap;\n",
              "      gap: 12px;\n",
              "    }\n",
              "\n",
              "    .colab-df-convert {\n",
              "      background-color: #E8F0FE;\n",
              "      border: none;\n",
              "      border-radius: 50%;\n",
              "      cursor: pointer;\n",
              "      display: none;\n",
              "      fill: #1967D2;\n",
              "      height: 32px;\n",
              "      padding: 0 0 0 0;\n",
              "      width: 32px;\n",
              "    }\n",
              "\n",
              "    .colab-df-convert:hover {\n",
              "      background-color: #E2EBFA;\n",
              "      box-shadow: 0px 1px 2px rgba(60, 64, 67, 0.3), 0px 1px 3px 1px rgba(60, 64, 67, 0.15);\n",
              "      fill: #174EA6;\n",
              "    }\n",
              "\n",
              "    [theme=dark] .colab-df-convert {\n",
              "      background-color: #3B4455;\n",
              "      fill: #D2E3FC;\n",
              "    }\n",
              "\n",
              "    [theme=dark] .colab-df-convert:hover {\n",
              "      background-color: #434B5C;\n",
              "      box-shadow: 0px 1px 3px 1px rgba(0, 0, 0, 0.15);\n",
              "      filter: drop-shadow(0px 1px 2px rgba(0, 0, 0, 0.3));\n",
              "      fill: #FFFFFF;\n",
              "    }\n",
              "  </style>\n",
              "\n",
              "      <script>\n",
              "        const buttonEl =\n",
              "          document.querySelector('#df-741bbac1-f741-4c48-83a0-758293896900 button.colab-df-convert');\n",
              "        buttonEl.style.display =\n",
              "          google.colab.kernel.accessAllowed ? 'block' : 'none';\n",
              "\n",
              "        async function convertToInteractive(key) {\n",
              "          const element = document.querySelector('#df-741bbac1-f741-4c48-83a0-758293896900');\n",
              "          const dataTable =\n",
              "            await google.colab.kernel.invokeFunction('convertToInteractive',\n",
              "                                                     [key], {});\n",
              "          if (!dataTable) return;\n",
              "\n",
              "          const docLinkHtml = 'Like what you see? Visit the ' +\n",
              "            '<a target=\"_blank\" href=https://colab.research.google.com/notebooks/data_table.ipynb>data table notebook</a>'\n",
              "            + ' to learn more about interactive tables.';\n",
              "          element.innerHTML = '';\n",
              "          dataTable['output_type'] = 'display_data';\n",
              "          await google.colab.output.renderOutput(dataTable, element);\n",
              "          const docLink = document.createElement('div');\n",
              "          docLink.innerHTML = docLinkHtml;\n",
              "          element.appendChild(docLink);\n",
              "        }\n",
              "      </script>\n",
              "    </div>\n",
              "  </div>\n",
              "  "
            ]
          },
          "metadata": {},
          "execution_count": 124
        }
      ]
    },
    {
      "cell_type": "markdown",
      "source": [
        "<br>"
      ],
      "metadata": {
        "id": "WUnlIo65BWA2"
      }
    },
    {
      "cell_type": "markdown",
      "source": [
        "## Compile and visualize feature importances\n",
        "\n",
        "Here we visualize feature importances for the best performing random forest model. We use the random forest model, even though it wasn't the best performing model overall, because as of now it appears to be the only classifier in PySpark that has functionality for extracting feature importances."
      ],
      "metadata": {
        "id": "MEVlwPlmBZh8"
      }
    },
    {
      "cell_type": "code",
      "source": [
        "# Assign random forest model vector assembler to variable to extract feature names\n",
        "va = rf_1_model.bestModel.stages[-3]\n",
        "# Assign random forest classifier to variable\n",
        "random_forest = rf_1_model.bestModel.stages[-1]\n",
        "\n",
        "# Print high-level classifier parameters\n",
        "display(random_forest)\n",
        "print()\n",
        "# Get feature importances\n",
        "feature_importances = list(zip(va.getInputCols(), random_forest.featureImportances))"
      ],
      "metadata": {
        "colab": {
          "base_uri": "https://localhost:8080/",
          "height": 53
        },
        "id": "y6zzI6M0MU9X",
        "outputId": "f237a8c6-b426-4869-df34-5982cba4ead8"
      },
      "execution_count": 130,
      "outputs": [
        {
          "output_type": "display_data",
          "data": {
            "text/plain": [
              "<IPython.core.display.HTML object>"
            ],
            "text/html": [
              "\n",
              "    <style>\n",
              "      pre {\n",
              "          white-space: pre-wrap;\n",
              "      }\n",
              "    </style>\n",
              "    "
            ]
          },
          "metadata": {}
        },
        {
          "output_type": "display_data",
          "data": {
            "text/plain": [
              "RandomForestClassificationModel: uid=RandomForestClassifier_7ad0f393a278, numTrees=20, numClasses=2, numFeatures=91"
            ]
          },
          "metadata": {}
        },
        {
          "output_type": "stream",
          "name": "stdout",
          "text": [
            "\n"
          ]
        }
      ]
    },
    {
      "cell_type": "code",
      "source": [
        "columns = ['Feature', 'Importance']\n",
        "feature_importances_df = pd.DataFrame(feature_importances, columns=columns).sort_values(by='Importance', ascending=False)\n",
        "feature_importances_df"
      ],
      "metadata": {
        "colab": {
          "base_uri": "https://localhost:8080/",
          "height": 614
        },
        "id": "yKlUtiSYCSg6",
        "outputId": "0318c703-a972-4c99-e458-bc65095bd156"
      },
      "execution_count": 139,
      "outputs": [
        {
          "output_type": "display_data",
          "data": {
            "text/plain": [
              "<IPython.core.display.HTML object>"
            ],
            "text/html": [
              "\n",
              "    <style>\n",
              "      pre {\n",
              "          white-space: pre-wrap;\n",
              "      }\n",
              "    </style>\n",
              "    "
            ]
          },
          "metadata": {}
        },
        {
          "output_type": "execute_result",
          "data": {
            "text/plain": [
              "                         Feature  Importance\n",
              "8                        Flagged    0.013399\n",
              "3   BeneficiaryCountry_index_ohe    0.013126\n",
              "9            OrderingCountryFreq    0.012029\n",
              "13            SenderCurrencyFreq    0.011976\n",
              "14          SenderCurrencyAmtAvg    0.010802\n",
              "10        BeneficiaryCountryFreq    0.010369\n",
              "16                  ReceiverFreq    0.008728\n",
              "1   InstructedCurrency_index_ohe    0.006837\n",
              "12                SenderHourFreq    0.004918\n",
              "5        FinalReceiver_index_ohe    0.004792\n",
              "7       IntermediaryTransactions    0.003764\n",
              "4       OriginalSender_index_ohe    0.003653\n",
              "6            InstructedAmountUSD    0.003525\n",
              "11                          Hour    0.002088\n",
              "2      OrderingCountry_index_ohe    0.000984\n",
              "17            SenderReceiverFreq    0.000006\n",
              "15                    SenderFreq    0.000000\n",
              "0   SettlementCurrency_index_ohe    0.000000"
            ],
            "text/html": [
              "\n",
              "  <div id=\"df-628145ef-3cb6-4f1d-a174-5722ea3bf1a6\">\n",
              "    <div class=\"colab-df-container\">\n",
              "      <div>\n",
              "<style scoped>\n",
              "    .dataframe tbody tr th:only-of-type {\n",
              "        vertical-align: middle;\n",
              "    }\n",
              "\n",
              "    .dataframe tbody tr th {\n",
              "        vertical-align: top;\n",
              "    }\n",
              "\n",
              "    .dataframe thead th {\n",
              "        text-align: right;\n",
              "    }\n",
              "</style>\n",
              "<table border=\"1\" class=\"dataframe\">\n",
              "  <thead>\n",
              "    <tr style=\"text-align: right;\">\n",
              "      <th></th>\n",
              "      <th>Feature</th>\n",
              "      <th>Importance</th>\n",
              "    </tr>\n",
              "  </thead>\n",
              "  <tbody>\n",
              "    <tr>\n",
              "      <th>8</th>\n",
              "      <td>Flagged</td>\n",
              "      <td>0.013399</td>\n",
              "    </tr>\n",
              "    <tr>\n",
              "      <th>3</th>\n",
              "      <td>BeneficiaryCountry_index_ohe</td>\n",
              "      <td>0.013126</td>\n",
              "    </tr>\n",
              "    <tr>\n",
              "      <th>9</th>\n",
              "      <td>OrderingCountryFreq</td>\n",
              "      <td>0.012029</td>\n",
              "    </tr>\n",
              "    <tr>\n",
              "      <th>13</th>\n",
              "      <td>SenderCurrencyFreq</td>\n",
              "      <td>0.011976</td>\n",
              "    </tr>\n",
              "    <tr>\n",
              "      <th>14</th>\n",
              "      <td>SenderCurrencyAmtAvg</td>\n",
              "      <td>0.010802</td>\n",
              "    </tr>\n",
              "    <tr>\n",
              "      <th>10</th>\n",
              "      <td>BeneficiaryCountryFreq</td>\n",
              "      <td>0.010369</td>\n",
              "    </tr>\n",
              "    <tr>\n",
              "      <th>16</th>\n",
              "      <td>ReceiverFreq</td>\n",
              "      <td>0.008728</td>\n",
              "    </tr>\n",
              "    <tr>\n",
              "      <th>1</th>\n",
              "      <td>InstructedCurrency_index_ohe</td>\n",
              "      <td>0.006837</td>\n",
              "    </tr>\n",
              "    <tr>\n",
              "      <th>12</th>\n",
              "      <td>SenderHourFreq</td>\n",
              "      <td>0.004918</td>\n",
              "    </tr>\n",
              "    <tr>\n",
              "      <th>5</th>\n",
              "      <td>FinalReceiver_index_ohe</td>\n",
              "      <td>0.004792</td>\n",
              "    </tr>\n",
              "    <tr>\n",
              "      <th>7</th>\n",
              "      <td>IntermediaryTransactions</td>\n",
              "      <td>0.003764</td>\n",
              "    </tr>\n",
              "    <tr>\n",
              "      <th>4</th>\n",
              "      <td>OriginalSender_index_ohe</td>\n",
              "      <td>0.003653</td>\n",
              "    </tr>\n",
              "    <tr>\n",
              "      <th>6</th>\n",
              "      <td>InstructedAmountUSD</td>\n",
              "      <td>0.003525</td>\n",
              "    </tr>\n",
              "    <tr>\n",
              "      <th>11</th>\n",
              "      <td>Hour</td>\n",
              "      <td>0.002088</td>\n",
              "    </tr>\n",
              "    <tr>\n",
              "      <th>2</th>\n",
              "      <td>OrderingCountry_index_ohe</td>\n",
              "      <td>0.000984</td>\n",
              "    </tr>\n",
              "    <tr>\n",
              "      <th>17</th>\n",
              "      <td>SenderReceiverFreq</td>\n",
              "      <td>0.000006</td>\n",
              "    </tr>\n",
              "    <tr>\n",
              "      <th>15</th>\n",
              "      <td>SenderFreq</td>\n",
              "      <td>0.000000</td>\n",
              "    </tr>\n",
              "    <tr>\n",
              "      <th>0</th>\n",
              "      <td>SettlementCurrency_index_ohe</td>\n",
              "      <td>0.000000</td>\n",
              "    </tr>\n",
              "  </tbody>\n",
              "</table>\n",
              "</div>\n",
              "      <button class=\"colab-df-convert\" onclick=\"convertToInteractive('df-628145ef-3cb6-4f1d-a174-5722ea3bf1a6')\"\n",
              "              title=\"Convert this dataframe to an interactive table.\"\n",
              "              style=\"display:none;\">\n",
              "        \n",
              "  <svg xmlns=\"http://www.w3.org/2000/svg\" height=\"24px\"viewBox=\"0 0 24 24\"\n",
              "       width=\"24px\">\n",
              "    <path d=\"M0 0h24v24H0V0z\" fill=\"none\"/>\n",
              "    <path d=\"M18.56 5.44l.94 2.06.94-2.06 2.06-.94-2.06-.94-.94-2.06-.94 2.06-2.06.94zm-11 1L8.5 8.5l.94-2.06 2.06-.94-2.06-.94L8.5 2.5l-.94 2.06-2.06.94zm10 10l.94 2.06.94-2.06 2.06-.94-2.06-.94-.94-2.06-.94 2.06-2.06.94z\"/><path d=\"M17.41 7.96l-1.37-1.37c-.4-.4-.92-.59-1.43-.59-.52 0-1.04.2-1.43.59L10.3 9.45l-7.72 7.72c-.78.78-.78 2.05 0 2.83L4 21.41c.39.39.9.59 1.41.59.51 0 1.02-.2 1.41-.59l7.78-7.78 2.81-2.81c.8-.78.8-2.07 0-2.86zM5.41 20L4 18.59l7.72-7.72 1.47 1.35L5.41 20z\"/>\n",
              "  </svg>\n",
              "      </button>\n",
              "      \n",
              "  <style>\n",
              "    .colab-df-container {\n",
              "      display:flex;\n",
              "      flex-wrap:wrap;\n",
              "      gap: 12px;\n",
              "    }\n",
              "\n",
              "    .colab-df-convert {\n",
              "      background-color: #E8F0FE;\n",
              "      border: none;\n",
              "      border-radius: 50%;\n",
              "      cursor: pointer;\n",
              "      display: none;\n",
              "      fill: #1967D2;\n",
              "      height: 32px;\n",
              "      padding: 0 0 0 0;\n",
              "      width: 32px;\n",
              "    }\n",
              "\n",
              "    .colab-df-convert:hover {\n",
              "      background-color: #E2EBFA;\n",
              "      box-shadow: 0px 1px 2px rgba(60, 64, 67, 0.3), 0px 1px 3px 1px rgba(60, 64, 67, 0.15);\n",
              "      fill: #174EA6;\n",
              "    }\n",
              "\n",
              "    [theme=dark] .colab-df-convert {\n",
              "      background-color: #3B4455;\n",
              "      fill: #D2E3FC;\n",
              "    }\n",
              "\n",
              "    [theme=dark] .colab-df-convert:hover {\n",
              "      background-color: #434B5C;\n",
              "      box-shadow: 0px 1px 3px 1px rgba(0, 0, 0, 0.15);\n",
              "      filter: drop-shadow(0px 1px 2px rgba(0, 0, 0, 0.3));\n",
              "      fill: #FFFFFF;\n",
              "    }\n",
              "  </style>\n",
              "\n",
              "      <script>\n",
              "        const buttonEl =\n",
              "          document.querySelector('#df-628145ef-3cb6-4f1d-a174-5722ea3bf1a6 button.colab-df-convert');\n",
              "        buttonEl.style.display =\n",
              "          google.colab.kernel.accessAllowed ? 'block' : 'none';\n",
              "\n",
              "        async function convertToInteractive(key) {\n",
              "          const element = document.querySelector('#df-628145ef-3cb6-4f1d-a174-5722ea3bf1a6');\n",
              "          const dataTable =\n",
              "            await google.colab.kernel.invokeFunction('convertToInteractive',\n",
              "                                                     [key], {});\n",
              "          if (!dataTable) return;\n",
              "\n",
              "          const docLinkHtml = 'Like what you see? Visit the ' +\n",
              "            '<a target=\"_blank\" href=https://colab.research.google.com/notebooks/data_table.ipynb>data table notebook</a>'\n",
              "            + ' to learn more about interactive tables.';\n",
              "          element.innerHTML = '';\n",
              "          dataTable['output_type'] = 'display_data';\n",
              "          await google.colab.output.renderOutput(dataTable, element);\n",
              "          const docLink = document.createElement('div');\n",
              "          docLink.innerHTML = docLinkHtml;\n",
              "          element.appendChild(docLink);\n",
              "        }\n",
              "      </script>\n",
              "    </div>\n",
              "  </div>\n",
              "  "
            ]
          },
          "metadata": {},
          "execution_count": 139
        }
      ]
    },
    {
      "cell_type": "code",
      "source": [
        "fig, ax = plt.subplots(figsize=(16, 10))\n",
        "\n",
        "# Plot horizontal lines\n",
        "plt.hlines(feature_importances_df['Feature'].iloc[::-1], linewidths=4, xmin=0, color='darkturquoise', \n",
        "           xmax=feature_importances_df['Importance'].iloc[::-1])\n",
        "\n",
        "# Plot circles\n",
        "plt.scatter(feature_importances_df['Importance'], feature_importances_df['Feature'],\n",
        "            color='red', alpha=1, s=80)\n",
        "\n",
        "# Annotate exact numerical values at end of lines\n",
        "for idx, row in feature_importances_df.iterrows():\n",
        "    ax.annotate(f\"{round(row['Importance'], 3)}\", (row['Importance'], row['Feature']), \n",
        "                weight='bold', fontsize=11, \n",
        "                xytext=(row['Importance'] + 0.00015, row['Feature'])) # offset annotate\n",
        "\n",
        "plt.title('Feature Importances - Random Forest Model', fontsize=18)\n",
        "plt.xlabel('Importance', fontsize=16)\n",
        "plt.ylabel('Feature', fontsize=16)\n",
        "plt.yticks(fontsize=12)\n",
        "ax.set_xticks(list(np.arange(0, .015, 0.001)))\n",
        "plt.xticks(fontsize=12)\n",
        "plt.tight_layout();"
      ],
      "metadata": {
        "colab": {
          "base_uri": "https://localhost:8080/",
          "height": 729
        },
        "id": "V2JAb4PiDiwp",
        "outputId": "5f32eae0-92f8-437c-9c6e-b2e8947fa248"
      },
      "execution_count": 170,
      "outputs": [
        {
          "output_type": "display_data",
          "data": {
            "text/plain": [
              "<IPython.core.display.HTML object>"
            ],
            "text/html": [
              "\n",
              "    <style>\n",
              "      pre {\n",
              "          white-space: pre-wrap;\n",
              "      }\n",
              "    </style>\n",
              "    "
            ]
          },
          "metadata": {}
        },
        {
          "output_type": "display_data",
          "data": {
            "text/plain": [
              "<Figure size 1152x720 with 1 Axes>"
            ],
            "image/png": "[encoded data removed]"
          },
          "metadata": {
            "image/png": {
              "width": 1144,
              "height": 712
            },
            "needs_background": "light"
          }
        }
      ]
    },
    {
      "cell_type": "code",
      "source": [
        ""
      ],
      "metadata": {
        "colab": {
          "base_uri": "https://localhost:8080/",
          "height": 17
        },
        "id": "-D5xvPAYgE7a",
        "outputId": "34aee886-8164-41c4-b619-183769bd8404"
      },
      "execution_count": 84,
      "outputs": [
        {
          "output_type": "display_data",
          "data": {
            "text/plain": [
              "<IPython.core.display.HTML object>"
            ],
            "text/html": [
              "\n",
              "    <style>\n",
              "      pre {\n",
              "          white-space: pre-wrap;\n",
              "      }\n",
              "    </style>\n",
              "    "
            ]
          },
          "metadata": {}
        }
      ]
    },
    {
      "cell_type": "code",
      "source": [
        ""
      ],
      "metadata": {
        "colab": {
          "base_uri": "https://localhost:8080/",
          "height": 17
        },
        "id": "CooTxH8Xj1tK",
        "outputId": "5736de99-11c9-4f9e-dabd-f1cb0e9e6a0d"
      },
      "execution_count": 85,
      "outputs": [
        {
          "output_type": "display_data",
          "data": {
            "text/plain": [
              "<IPython.core.display.HTML object>"
            ],
            "text/html": [
              "\n",
              "    <style>\n",
              "      pre {\n",
              "          white-space: pre-wrap;\n",
              "      }\n",
              "    </style>\n",
              "    "
            ]
          },
          "metadata": {}
        }
      ]
    },
    {
      "cell_type": "code",
      "source": [
        ""
      ],
      "metadata": {
        "id": "ch9qL_rwhVeB"
      },
      "execution_count": 170,
      "outputs": []
    },
    {
      "cell_type": "code",
      "source": [
        ""
      ],
      "metadata": {
        "id": "LlY_l5L3hV_O"
      },
      "execution_count": 86,
      "outputs": []
    },
    {
      "cell_type": "code",
      "source": [
        ""
      ],
      "metadata": {
        "id": "2z_LHpmWhunZ"
      },
      "execution_count": 60,
      "outputs": []
    },
    {
      "cell_type": "code",
      "source": [
        ""
      ],
      "metadata": {
        "id": "s1ee02CUhwiV"
      },
      "execution_count": 60,
      "outputs": []
    },
    {
      "cell_type": "code",
      "source": [
        ""
      ],
      "metadata": {
        "id": "BqdbWQqpkzyg"
      },
      "execution_count": null,
      "outputs": []
    }
  ],
  "metadata": {
    "colab": {
      "background_execution": "on",
      "collapsed_sections": [],
      "machine_shape": "hm",
      "name": "Notebook-4_Modeling-Pt2-Results",
      "provenance": [],
      "authorship_tag": "ABX9TyNmRf3SidwH0evRKV53IzrY",
      "include_colab_link": true
    },
    "gpuClass": "standard",
    "kernelspec": {
      "display_name": "Python 3",
      "name": "python3"
    },
    "language_info": {
      "name": "python"
    }
  },
  "nbformat": 4,
  "nbformat_minor": 0
}