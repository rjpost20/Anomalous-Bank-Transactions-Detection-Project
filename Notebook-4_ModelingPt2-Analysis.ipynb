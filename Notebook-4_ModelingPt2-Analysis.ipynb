{
  "cells": [
    {
      "cell_type": "markdown",
      "metadata": {
        "id": "_6bs9GYKTazR"
      },
      "source": [
        "<img src=\"https://github.com/rjpost20/Anomalous-Bank-Transactions-Detection-Project/blob/main/data/AdobeStock_319163865.jpeg?raw=true\">\n",
        "Image by <a href=\"https://stock.adobe.com/contributor/200768506/andsus?load_type=author&prev_url=detail\" >AndSus</a> on Adobe Stock"
      ]
    },
    {
      "cell_type": "markdown",
      "metadata": {
        "id": "7VB6bZymTwee"
      },
      "source": [
        "# Phase 5 Project: *Detecting Anomalous Financial Transactions*"
      ]
    },
    {
      "cell_type": "markdown",
      "metadata": {
        "id": "nCbcIwMIT8L2"
      },
      "source": [
        "## Notebook 4: Modeling Part 2, Results, Analysis and Inferences"
      ]
    },
    {
      "cell_type": "markdown",
      "metadata": {
        "id": "xIF5Rp36UDq8"
      },
      "source": [
        "### By Ryan Posternak"
      ]
    },
    {
      "cell_type": "markdown",
      "metadata": {
        "id": "02ym0eygUI_s"
      },
      "source": [
        "Flatiron School, Full-Time Live NYC<br>\n",
        "Project Presentation Date: August 25th, 2022<br>\n",
        "Instructor: Joseph Mata"
      ]
    },
    {
      "cell_type": "markdown",
      "metadata": {
        "id": "tITdkCs8UbQf"
      },
      "source": [
        "<br>"
      ]
    },
    {
      "cell_type": "markdown",
      "metadata": {
        "id": "YVvo7KHTUQbw"
      },
      "source": [
        "# Imports and Reading in Data"
      ]
    },
    {
      "cell_type": "markdown",
      "metadata": {
        "id": "xsGuZAD3URpn"
      },
      "source": [
        "### Google colab compatibility downloads"
      ]
    },
    {
      "cell_type": "code",
      "execution_count": 1,
      "metadata": {
        "colab": {
          "base_uri": "https://localhost:8080/"
        },
        "id": "5vbzjcsbUSJ1",
        "outputId": "fc1f990c-fc2d-476e-9081-f99f5fa81c1c"
      },
      "outputs": [
        {
          "output_type": "stream",
          "name": "stdout",
          "text": [
            "Get:1 https://cloud.r-project.org/bin/linux/ubuntu bionic-cran40/ InRelease [3,626 B]\n",
            "Get:2 http://security.ubuntu.com/ubuntu bionic-security InRelease [88.7 kB]\n",
            "Get:3 http://ppa.launchpad.net/c2d4u.team/c2d4u4.0+/ubuntu bionic InRelease [15.9 kB]\n",
            "Hit:4 http://archive.ubuntu.com/ubuntu bionic InRelease\n",
            "Get:5 http://archive.ubuntu.com/ubuntu bionic-updates InRelease [88.7 kB]\n",
            "Ign:6 https://developer.download.nvidia.com/compute/machine-learning/repos/ubuntu1804/x86_64  InRelease\n",
            "Get:7 https://developer.download.nvidia.com/compute/cuda/repos/ubuntu1804/x86_64  InRelease [1,581 B]\n",
            "Hit:8 https://developer.download.nvidia.com/compute/machine-learning/repos/ubuntu1804/x86_64  Release\n",
            "Get:9 https://developer.download.nvidia.com/compute/cuda/repos/ubuntu1804/x86_64  Packages [910 kB]\n",
            "Hit:11 http://ppa.launchpad.net/cran/libgit2/ubuntu bionic InRelease\n",
            "Get:12 http://archive.ubuntu.com/ubuntu bionic-backports InRelease [74.6 kB]\n",
            "Get:13 http://security.ubuntu.com/ubuntu bionic-security/main amd64 Packages [2,937 kB]\n",
            "Hit:14 http://ppa.launchpad.net/deadsnakes/ppa/ubuntu bionic InRelease\n",
            "Get:15 http://archive.ubuntu.com/ubuntu bionic-updates/main amd64 Packages [3,369 kB]\n",
            "Hit:16 http://ppa.launchpad.net/graphics-drivers/ppa/ubuntu bionic InRelease\n",
            "Get:17 http://ppa.launchpad.net/c2d4u.team/c2d4u4.0+/ubuntu bionic/main Sources [2,095 kB]\n",
            "Get:18 http://archive.ubuntu.com/ubuntu bionic-updates/universe amd64 Packages [2,311 kB]\n",
            "Get:19 http://security.ubuntu.com/ubuntu bionic-security/universe amd64 Packages [1,533 kB]\n",
            "Get:20 http://ppa.launchpad.net/c2d4u.team/c2d4u4.0+/ubuntu bionic/main amd64 Packages [1,073 kB]\n",
            "Fetched 14.5 MB in 6s (2,279 kB/s)\n",
            "Reading package lists... Done\n",
            "Building dependency tree       \n",
            "Reading state information... Done\n",
            "26 packages can be upgraded. Run 'apt list --upgradable' to see them.\n",
            "Looking in indexes: https://pypi.org/simple, https://us-python.pkg.dev/colab-wheels/public/simple/\n",
            "Collecting pyspark==3.3.0\n",
            "  Downloading pyspark-3.3.0.tar.gz (281.3 MB)\n",
            "\u001b[K     |████████████████████████████████| 281.3 MB 45 kB/s \n",
            "\u001b[?25hCollecting py4j==0.10.9.5\n",
            "  Downloading py4j-0.10.9.5-py2.py3-none-any.whl (199 kB)\n",
            "\u001b[K     |████████████████████████████████| 199 kB 55.7 MB/s \n",
            "\u001b[?25hBuilding wheels for collected packages: pyspark\n",
            "  Building wheel for pyspark (setup.py) ... \u001b[?25l\u001b[?25hdone\n",
            "  Created wheel for pyspark: filename=pyspark-3.3.0-py2.py3-none-any.whl size=281764026 sha256=aaa372c79c243c8eca01bf50e3b1941e6c392693c1bbc47036696544374e6228\n",
            "  Stored in directory: /root/.cache/pip/wheels/7a/8e/1b/f73a52650d2e5f337708d9f6a1750d451a7349a867f928b885\n",
            "Successfully built pyspark\n",
            "Installing collected packages: py4j, pyspark\n",
            "Successfully installed py4j-0.10.9.5 pyspark-3.3.0\n"
          ]
        }
      ],
      "source": [
        "!sudo apt update\n",
        "!apt-get install openjdk-8-jdk-headless -qq > /dev/null\n",
        "!wget -q https://dlcdn.apache.org/spark/spark-3.3.0/spark-3.3.0-bin-hadoop3.tgz \n",
        "!tar xf spark-3.3.0-bin-hadoop3.tgz\n",
        "import os\n",
        "os.environ[\"JAVA_HOME\"] = \"/usr/lib/jvm/java-8-openjdk-amd64\"\n",
        "os.environ[\"SPARK_HOME\"] = \"/content/spark-3.3.0-bin-hadoop3\"\n",
        "!pip install pyspark==3.3.0\n",
        "!pip install -q findspark\n",
        "import findspark\n",
        "findspark.init()"
      ]
    },
    {
      "cell_type": "code",
      "execution_count": 2,
      "metadata": {
        "id": "ZL5VI-6OUSmC",
        "colab": {
          "base_uri": "https://localhost:8080/"
        },
        "outputId": "bb6cb25f-507d-4de5-b9bf-8cedb17919e9"
      },
      "outputs": [
        {
          "output_type": "stream",
          "name": "stdout",
          "text": [
            "Mounted at /content/drive\n"
          ]
        }
      ],
      "source": [
        "# Connect to Google drive\n",
        "from google.colab import drive, files\n",
        "drive.mount('/content/drive')\n",
        "drive_path = '/content/drive/MyDrive/Colab Notebooks/'"
      ]
    },
    {
      "cell_type": "code",
      "execution_count": 3,
      "metadata": {
        "id": "rKWlJ4EbUTF0"
      },
      "outputs": [],
      "source": [
        "import numpy as np\n",
        "import pandas as pd\n",
        "pd.set_option('display.max_columns', None)\n",
        "\n",
        "from pyspark.sql import SparkSession\n",
        "import pyspark.sql.functions as F\n",
        "\n",
        "from pyspark.ml.feature import VectorAssembler, StandardScaler, StringIndexer, OneHotEncoder\n",
        "from pyspark.ml import Pipeline, PipelineModel\n",
        "from pyspark.ml.classification import DecisionTreeClassifier, RandomForestClassifier, \\\n",
        "MultilayerPerceptronClassifier\n",
        "from pyspark.ml.evaluation import BinaryClassificationEvaluator\n",
        "from pyspark.ml.tuning import ParamGridBuilder, TrainValidationSplit, TrainValidationSplitModel\n",
        "\n",
        "from sklearn.metrics import classification_report, confusion_matrix, ConfusionMatrixDisplay\n",
        "\n",
        "import matplotlib.pyplot as plt\n",
        "plt.style.use('seaborn')\n",
        "from IPython.display import HTML, display\n",
        "%matplotlib inline\n",
        "%config InlineBackend.figure_format='retina'"
      ]
    },
    {
      "cell_type": "code",
      "execution_count": 4,
      "metadata": {
        "id": "vc_V7XVRDx1U",
        "colab": {
          "resources": {
            "http://localhost:8080/nbextensions/google.colab/files.js": {
              "data": "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",
              "ok": true,
              "headers": [
                [
                  "content-type",
                  "application/javascript"
                ]
              ],
              "status": 200,
              "status_text": ""
            }
          },
          "base_uri": "https://localhost:8080/",
          "height": 74
        },
        "outputId": "83ba774b-c017-4169-aaeb-8f4eb312d85b"
      },
      "outputs": [
        {
          "output_type": "display_data",
          "data": {
            "text/plain": [
              "<IPython.core.display.HTML object>"
            ],
            "text/html": [
              "\n",
              "     <input type=\"file\" id=\"files-f65fa5b4-4af5-4245-be52-57beac701505\" name=\"files[]\" multiple disabled\n",
              "        style=\"border:none\" />\n",
              "     <output id=\"result-f65fa5b4-4af5-4245-be52-57beac701505\">\n",
              "      Upload widget is only available when the cell has been executed in the\n",
              "      current browser session. Please rerun this cell to enable.\n",
              "      </output>\n",
              "      <script src=\"/nbextensions/google.colab/files.js\"></script> "
            ]
          },
          "metadata": {}
        },
        {
          "output_type": "stream",
          "name": "stdout",
          "text": [
            "Saving helper_functions.py to helper_functions.py\n"
          ]
        }
      ],
      "source": [
        "# Import helper functions\n",
        "helper_functions = files.upload()\n",
        "from helper_functions import set_weight_col, spark_resample, grid_search, score_model, plot_confusion_matrix"
      ]
    },
    {
      "cell_type": "code",
      "execution_count": 5,
      "metadata": {
        "id": "PE0CcaaTrsP9",
        "colab": {
          "base_uri": "https://localhost:8080/"
        },
        "outputId": "f78d0209-09a2-479f-8dca-8fcd0a1cd378"
      },
      "outputs": [
        {
          "output_type": "stream",
          "name": "stdout",
          "text": [
            "Your runtime has 54.8 gigabytes of available RAM\n",
            "\n",
            "You are using a high-RAM runtime!\n"
          ]
        }
      ],
      "source": [
        "# Check Colab RAM info\n",
        "from psutil import virtual_memory\n",
        "ram_gb = virtual_memory().total / 1e9\n",
        "print('Your runtime has {:.1f} gigabytes of available RAM\\n'.format(ram_gb))\n",
        "\n",
        "if ram_gb < 20:\n",
        "  print('Not using a high-RAM runtime')\n",
        "else:\n",
        "  print('You are using a high-RAM runtime!')"
      ]
    },
    {
      "cell_type": "code",
      "execution_count": 6,
      "metadata": {
        "id": "7Q03mQqlVAa-"
      },
      "outputs": [],
      "source": [
        "# Set text to wrap in Google colab notebook\n",
        "def set_css():\n",
        "    display(HTML(\"\"\"\n",
        "    <style>\n",
        "      pre {\n",
        "          white-space: pre-wrap;\n",
        "      }\n",
        "    </style>\n",
        "    \"\"\"))\n",
        "get_ipython().events.register('pre_run_cell', set_css)"
      ]
    },
    {
      "cell_type": "code",
      "execution_count": 7,
      "metadata": {
        "id": "NLJkXpZlVAi5",
        "colab": {
          "base_uri": "https://localhost:8080/",
          "height": 221
        },
        "outputId": "8290e9f0-3f8d-4799-cf38-79a54541cbfe"
      },
      "outputs": [
        {
          "output_type": "display_data",
          "data": {
            "text/plain": [
              "<IPython.core.display.HTML object>"
            ],
            "text/html": [
              "\n",
              "    <style>\n",
              "      pre {\n",
              "          white-space: pre-wrap;\n",
              "      }\n",
              "    </style>\n",
              "    "
            ]
          },
          "metadata": {}
        },
        {
          "output_type": "execute_result",
          "data": {
            "text/plain": [
              "<pyspark.sql.session.SparkSession at 0x7f070002e2d0>"
            ],
            "text/html": [
              "\n",
              "            <div>\n",
              "                <p><b>SparkSession - in-memory</b></p>\n",
              "                \n",
              "        <div>\n",
              "            <p><b>SparkContext</b></p>\n",
              "\n",
              "            <p><a href=\"http://6094565039d3:4050\">Spark UI</a></p>\n",
              "\n",
              "            <dl>\n",
              "              <dt>Version</dt>\n",
              "                <dd><code>v3.3.0</code></dd>\n",
              "              <dt>Master</dt>\n",
              "                <dd><code>local[*]</code></dd>\n",
              "              <dt>AppName</dt>\n",
              "                <dd><code>Colab</code></dd>\n",
              "            </dl>\n",
              "        </div>\n",
              "        \n",
              "            </div>\n",
              "        "
            ]
          },
          "metadata": {},
          "execution_count": 7
        }
      ],
      "source": [
        "# Initialize Spark Session\n",
        "spark = SparkSession.builder\\\n",
        "        .master(\"local[*]\")\\\n",
        "        .appName(\"Colab\")\\\n",
        "        .config(\"spark.ui.port\", \"4050\")\\\n",
        "        .config(\"spark.driver.memory\", \"15g\")\\\n",
        "        .getOrCreate()\n",
        "\n",
        "spark"
      ]
    },
    {
      "cell_type": "markdown",
      "metadata": {
        "id": "b25f65a8-1444-468f-a5ee-9611e4d794ef"
      },
      "source": [
        "## Read in Data"
      ]
    },
    {
      "cell_type": "code",
      "execution_count": 8,
      "metadata": {
        "id": "2XuhVucTVAqb",
        "colab": {
          "base_uri": "https://localhost:8080/",
          "height": 17
        },
        "outputId": "c9cb3d00-f735-4804-f557-4e2746ae33d2"
      },
      "outputs": [
        {
          "output_type": "display_data",
          "data": {
            "text/plain": [
              "<IPython.core.display.HTML object>"
            ],
            "text/html": [
              "\n",
              "    <style>\n",
              "      pre {\n",
              "          white-space: pre-wrap;\n",
              "      }\n",
              "    </style>\n",
              "    "
            ]
          },
          "metadata": {}
        }
      ],
      "source": [
        "# Read in train_df_full and test_df_full data csv files as Spark DataFrames\n",
        "train_df_full = spark.read.csv(drive_path + 'train_df_full.csv', header=True, inferSchema=True)\n",
        "test_df_full = spark.read.csv(drive_path + 'test_df_full.csv', header=True, inferSchema=True)"
      ]
    },
    {
      "cell_type": "markdown",
      "metadata": {
        "id": "Z9ozj765PqrM"
      },
      "source": [
        "<br>"
      ]
    },
    {
      "cell_type": "markdown",
      "metadata": {
        "id": "09uu3jqXN0D3"
      },
      "source": [
        "## Add `Weight` column to dataframe\n",
        "\n",
        "As we've seen, the training dataset is extremely imbalanced in regards to target class distribution. In order to improve modeling performance, we'll add a new column `Weight` to `train_df_full` specifying the weights to use, which we pass in to PySpark models in the `weightCol` parameter. We'll create the new `Weight` column using the `set_weight_col` function in `helper_functions`.\n",
        "\n",
        "Our initial `Weight` column will specify equal weights across all observations, which is the default in PySpark."
      ]
    },
    {
      "cell_type": "code",
      "execution_count": 9,
      "metadata": {
        "id": "3uBAlM6OQgyg",
        "colab": {
          "base_uri": "https://localhost:8080/",
          "height": 463
        },
        "outputId": "871cfb1f-8d59-4163-94a4-3689bae15cd4"
      },
      "outputs": [
        {
          "output_type": "display_data",
          "data": {
            "text/plain": [
              "<IPython.core.display.HTML object>"
            ],
            "text/html": [
              "\n",
              "    <style>\n",
              "      pre {\n",
              "          white-space: pre-wrap;\n",
              "      }\n",
              "    </style>\n",
              "    "
            ]
          },
          "metadata": {}
        },
        {
          "output_type": "stream",
          "name": "stdout",
          "text": [
            "\n",
            "    Calculates and creates a column of class weights \n",
            "    in a PySpark dataframe with an imbalanced binary \n",
            "    target class distribution.\n",
            "\n",
            "    Parameters\n",
            "    ----------\n",
            "    df : Spark `DataFrame`\n",
            "        The Spark `DataFrame` to assign the \n",
            "        `ClassWeight` column to\n",
            "    label_col : Spark `Column`\n",
            "        Label column name\n",
            "    pos_class_weight : `float` or 'balanced'\n",
            "        Class weight to assign to positive class \n",
            "        (`1`) in weight column. If 'balanced', assigned \n",
            "        class weights will be equal to 1 - proportion of \n",
            "        class in dataframe. If `float`, positive class \n",
            "        will be assigned `pos_class_weight`.\n",
            "    neg_class_weight : '`float` or 'balanced'\n",
            "        Class weight to assign to negative class \n",
            "        (`0`) in weight column. If 'balanced', assigned \n",
            "        class weights will be equal to 1 - proportion of \n",
            "        class in dataframe. If `float`, negative class \n",
            "        will be assigned `neg_class_weight`.\n",
            "    \n"
          ]
        }
      ],
      "source": [
        "print(set_weight_col.__doc__)"
      ]
    },
    {
      "cell_type": "code",
      "execution_count": 10,
      "metadata": {
        "id": "gVqOxSzCP5r8",
        "colab": {
          "base_uri": "https://localhost:8080/",
          "height": 17
        },
        "outputId": "f1608775-7ff0-4945-bec8-38f987a994e7"
      },
      "outputs": [
        {
          "output_type": "display_data",
          "data": {
            "text/plain": [
              "<IPython.core.display.HTML object>"
            ],
            "text/html": [
              "\n",
              "    <style>\n",
              "      pre {\n",
              "          white-space: pre-wrap;\n",
              "      }\n",
              "    </style>\n",
              "    "
            ]
          },
          "metadata": {}
        }
      ],
      "source": [
        "train_df_full = set_weight_col(train_df_full, label_col='Label', pos_class_weight=1.0, neg_class_weight=1.0)"
      ]
    },
    {
      "cell_type": "code",
      "execution_count": 11,
      "metadata": {
        "id": "1yOERTKURGF2",
        "colab": {
          "base_uri": "https://localhost:8080/",
          "height": 231
        },
        "outputId": "7120aa92-fd30-4095-b877-367f3164f186"
      },
      "outputs": [
        {
          "output_type": "display_data",
          "data": {
            "text/plain": [
              "<IPython.core.display.HTML object>"
            ],
            "text/html": [
              "\n",
              "    <style>\n",
              "      pre {\n",
              "          white-space: pre-wrap;\n",
              "      }\n",
              "    </style>\n",
              "    "
            ]
          },
          "metadata": {}
        },
        {
          "output_type": "stream",
          "name": "stdout",
          "text": [
            "-RECORD 0---------------\n",
            " MessageId | TRFXV1O7R2 \n",
            " Label     | 0          \n",
            " Weight    | 1.0        \n",
            "only showing top 1 row\n",
            "\n",
            "-RECORD 0---------------\n",
            " MessageId | TR14I40JIT \n",
            " Label     | 1          \n",
            " Weight    | 1.0        \n",
            "only showing top 1 row\n",
            "\n"
          ]
        }
      ],
      "source": [
        "# Preview Weight column\n",
        "cols_to_show = ['MessageId', 'Label', 'Weight']\n",
        "train_df_full.select(cols_to_show).where(train_df_full.Label == 0).show(1, truncate=False, vertical=True)\n",
        "train_df_full.select(cols_to_show).where(train_df_full.Label == 1).show(1, truncate=False, vertical=True)"
      ]
    },
    {
      "cell_type": "code",
      "execution_count": 12,
      "metadata": {
        "id": "UcoMf27IVOLC",
        "colab": {
          "base_uri": "https://localhost:8080/",
          "height": 53
        },
        "outputId": "a3de832b-0f76-4207-acee-eb6044dee3ce"
      },
      "outputs": [
        {
          "output_type": "display_data",
          "data": {
            "text/plain": [
              "<IPython.core.display.HTML object>"
            ],
            "text/html": [
              "\n",
              "    <style>\n",
              "      pre {\n",
              "          white-space: pre-wrap;\n",
              "      }\n",
              "    </style>\n",
              "    "
            ]
          },
          "metadata": {}
        },
        {
          "output_type": "stream",
          "name": "stdout",
          "text": [
            "train_df_full:  4,691,725 Rows, 21 Columns\n",
            "test_df_full:  705,108 Rows, 20 Columns\n"
          ]
        }
      ],
      "source": [
        "# Print shape of dataframes\n",
        "print(f\"train_df_full:  {train_df_full.count():,} Rows, {len(train_df_full.columns)} Columns\")\n",
        "print(f\"test_df_full:  {test_df_full.count():,} Rows, {len(test_df_full.columns)} Columns\")"
      ]
    },
    {
      "cell_type": "code",
      "execution_count": 13,
      "metadata": {
        "id": "OWm1UBS1VOSH",
        "colab": {
          "base_uri": "https://localhost:8080/",
          "height": 446
        },
        "outputId": "c7a62e47-3625-4da1-ca31-e295608210b4"
      },
      "outputs": [
        {
          "output_type": "display_data",
          "data": {
            "text/plain": [
              "<IPython.core.display.HTML object>"
            ],
            "text/html": [
              "\n",
              "    <style>\n",
              "      pre {\n",
              "          white-space: pre-wrap;\n",
              "      }\n",
              "    </style>\n",
              "    "
            ]
          },
          "metadata": {}
        },
        {
          "output_type": "stream",
          "name": "stdout",
          "text": [
            "train_df_full:\n",
            "root\n",
            " |-- MessageId: string (nullable = true)\n",
            " |-- SettlementCurrency: string (nullable = true)\n",
            " |-- InstructedCurrency: string (nullable = true)\n",
            " |-- Label: integer (nullable = true)\n",
            " |-- OrderingCountry: string (nullable = true)\n",
            " |-- BeneficiaryCountry: string (nullable = true)\n",
            " |-- InstructedAmountUSD: integer (nullable = true)\n",
            " |-- IntermediaryTransactions: integer (nullable = true)\n",
            " |-- OriginalSender: string (nullable = true)\n",
            " |-- FinalReceiver: string (nullable = true)\n",
            " |-- Flagged: integer (nullable = true)\n",
            " |-- OrderingCountryFreq: integer (nullable = true)\n",
            " |-- BeneficiaryCountryFreq: integer (nullable = true)\n",
            " |-- Hour: integer (nullable = true)\n",
            " |-- SenderHourFreq: integer (nullable = true)\n",
            " |-- SenderCurrencyFreq: integer (nullable = true)\n",
            " |-- SenderCurrencyAmtAvg: integer (nullable = true)\n",
            " |-- SenderFreq: integer (nullable = true)\n",
            " |-- ReceiverFreq: integer (nullable = true)\n",
            " |-- SenderReceiverFreq: integer (nullable = true)\n",
            " |-- Weight: double (nullable = true)\n",
            "\n"
          ]
        }
      ],
      "source": [
        "# Print schema of training dataframe\n",
        "print('train_df_full:')\n",
        "train_df_full.printSchema()"
      ]
    },
    {
      "cell_type": "code",
      "execution_count": 14,
      "metadata": {
        "id": "SAlIlsWPVObJ",
        "colab": {
          "base_uri": "https://localhost:8080/",
          "height": 428
        },
        "outputId": "7734d357-ee61-4c31-b06d-8acc14490729"
      },
      "outputs": [
        {
          "output_type": "display_data",
          "data": {
            "text/plain": [
              "<IPython.core.display.HTML object>"
            ],
            "text/html": [
              "\n",
              "    <style>\n",
              "      pre {\n",
              "          white-space: pre-wrap;\n",
              "      }\n",
              "    </style>\n",
              "    "
            ]
          },
          "metadata": {}
        },
        {
          "output_type": "stream",
          "name": "stdout",
          "text": [
            "test_df_full:\n",
            "root\n",
            " |-- MessageId: string (nullable = true)\n",
            " |-- SettlementCurrency: string (nullable = true)\n",
            " |-- InstructedCurrency: string (nullable = true)\n",
            " |-- Label: integer (nullable = true)\n",
            " |-- OrderingCountry: string (nullable = true)\n",
            " |-- BeneficiaryCountry: string (nullable = true)\n",
            " |-- InstructedAmountUSD: integer (nullable = true)\n",
            " |-- IntermediaryTransactions: integer (nullable = true)\n",
            " |-- OriginalSender: string (nullable = true)\n",
            " |-- FinalReceiver: string (nullable = true)\n",
            " |-- Flagged: integer (nullable = true)\n",
            " |-- OrderingCountryFreq: integer (nullable = true)\n",
            " |-- BeneficiaryCountryFreq: integer (nullable = true)\n",
            " |-- Hour: integer (nullable = true)\n",
            " |-- SenderHourFreq: integer (nullable = true)\n",
            " |-- SenderCurrencyFreq: integer (nullable = true)\n",
            " |-- SenderCurrencyAmtAvg: integer (nullable = true)\n",
            " |-- SenderFreq: integer (nullable = true)\n",
            " |-- ReceiverFreq: integer (nullable = true)\n",
            " |-- SenderReceiverFreq: integer (nullable = true)\n",
            "\n"
          ]
        }
      ],
      "source": [
        "# Print schema of test dataframe\n",
        "print('test_df_full:')\n",
        "test_df_full.printSchema()"
      ]
    },
    {
      "cell_type": "code",
      "execution_count": 15,
      "metadata": {
        "id": "s7nTo2BMXmWS",
        "colab": {
          "base_uri": "https://localhost:8080/",
          "height": 17
        },
        "outputId": "bf699f1f-1509-42e5-b5e3-5701e8652b94"
      },
      "outputs": [
        {
          "output_type": "display_data",
          "data": {
            "text/plain": [
              "<IPython.core.display.HTML object>"
            ],
            "text/html": [
              "\n",
              "    <style>\n",
              "      pre {\n",
              "          white-space: pre-wrap;\n",
              "      }\n",
              "    </style>\n",
              "    "
            ]
          },
          "metadata": {}
        }
      ],
      "source": [
        "# Drop 'MessageId' individual transaction identifier column - will not be used in modeling\n",
        "train_df_full = train_df_full.drop('MessageId')\n",
        "test_df_full = test_df_full.drop('MessageId')\n",
        "\n",
        "# Rename target variable 'Label' column to more descriptive 'Anomalous'\n",
        "train_df_full = train_df_full.withColumnRenamed('Label', 'Anomalous')\n",
        "test_df_full = test_df_full.withColumnRenamed('Label', 'Anomalous')"
      ]
    },
    {
      "cell_type": "code",
      "execution_count": 16,
      "metadata": {
        "id": "B2jaFCBIwpiM",
        "colab": {
          "base_uri": "https://localhost:8080/",
          "height": 428
        },
        "outputId": "36baee48-83c1-4b7d-fdf0-c566498872d2"
      },
      "outputs": [
        {
          "output_type": "display_data",
          "data": {
            "text/plain": [
              "<IPython.core.display.HTML object>"
            ],
            "text/html": [
              "\n",
              "    <style>\n",
              "      pre {\n",
              "          white-space: pre-wrap;\n",
              "      }\n",
              "    </style>\n",
              "    "
            ]
          },
          "metadata": {}
        },
        {
          "output_type": "stream",
          "name": "stdout",
          "text": [
            "-RECORD 0----------------------------\n",
            " SettlementCurrency       | EUR      \n",
            " InstructedCurrency       | EUR      \n",
            " Anomalous                | 0        \n",
            " OrderingCountry          | PE       \n",
            " BeneficiaryCountry       | EC       \n",
            " InstructedAmountUSD      | 519149   \n",
            " IntermediaryTransactions | 0        \n",
            " OriginalSender           | FAMAPEPL \n",
            " FinalReceiver            | KNPVECEQ \n",
            " Flagged                  | 0        \n",
            " OrderingCountryFreq      | 73733    \n",
            " BeneficiaryCountryFreq   | 40984    \n",
            " Hour                     | 8        \n",
            " SenderHourFreq           | 47559    \n",
            " SenderCurrencyFreq       | 73733    \n",
            " SenderCurrencyAmtAvg     | 1906631  \n",
            " SenderFreq               | 73733    \n",
            " ReceiverFreq             | 41012    \n",
            " SenderReceiverFreq       | 40984    \n",
            " Weight                   | 1.0      \n",
            "only showing top 1 row\n",
            "\n"
          ]
        }
      ],
      "source": [
        "# Display first row of train_df_full dataframe\n",
        "train_df_full.show(n=1, truncate=False, vertical=True)"
      ]
    },
    {
      "cell_type": "code",
      "execution_count": 17,
      "metadata": {
        "id": "7WB9ibsFWhC3",
        "colab": {
          "base_uri": "https://localhost:8080/",
          "height": 410
        },
        "outputId": "7f6caa63-67c0-4e36-8812-c2521393491f"
      },
      "outputs": [
        {
          "output_type": "display_data",
          "data": {
            "text/plain": [
              "<IPython.core.display.HTML object>"
            ],
            "text/html": [
              "\n",
              "    <style>\n",
              "      pre {\n",
              "          white-space: pre-wrap;\n",
              "      }\n",
              "    </style>\n",
              "    "
            ]
          },
          "metadata": {}
        },
        {
          "output_type": "stream",
          "name": "stdout",
          "text": [
            "-RECORD 0----------------------------\n",
            " SettlementCurrency       | EUR      \n",
            " InstructedCurrency       | EUR      \n",
            " Anomalous                | 0        \n",
            " OrderingCountry          | PE       \n",
            " BeneficiaryCountry       | EC       \n",
            " InstructedAmountUSD      | 653958   \n",
            " IntermediaryTransactions | 0        \n",
            " OriginalSender           | FAMAPEPL \n",
            " FinalReceiver            | KNPVECEQ \n",
            " Flagged                  | 0        \n",
            " OrderingCountryFreq      | 73733    \n",
            " BeneficiaryCountryFreq   | 40984    \n",
            " Hour                     | 8        \n",
            " SenderHourFreq           | 47559    \n",
            " SenderCurrencyFreq       | 73733    \n",
            " SenderCurrencyAmtAvg     | 1906631  \n",
            " SenderFreq               | 73733    \n",
            " ReceiverFreq             | 41012    \n",
            " SenderReceiverFreq       | 40984    \n",
            "only showing top 1 row\n",
            "\n"
          ]
        }
      ],
      "source": [
        "# Display first row of test_df_full dataframe\n",
        "test_df_full.show(n=1, truncate=False, vertical=True)"
      ]
    },
    {
      "cell_type": "code",
      "execution_count": 18,
      "metadata": {
        "id": "A4NBBo5Z8HcL",
        "colab": {
          "base_uri": "https://localhost:8080/",
          "height": 142
        },
        "outputId": "9545c58c-12cd-4ba8-e1a5-778f798481ce"
      },
      "outputs": [
        {
          "output_type": "display_data",
          "data": {
            "text/plain": [
              "<IPython.core.display.HTML object>"
            ],
            "text/html": [
              "\n",
              "    <style>\n",
              "      pre {\n",
              "          white-space: pre-wrap;\n",
              "      }\n",
              "    </style>\n",
              "    "
            ]
          },
          "metadata": {}
        },
        {
          "output_type": "stream",
          "name": "stdout",
          "text": [
            "+---------+-------+---------------------+\n",
            "|Anomalous|count  |percent              |\n",
            "+---------+-------+---------------------+\n",
            "|1        |4900   |0.0010443919880214632|\n",
            "|0        |4686825|0.9989556080119786   |\n",
            "+---------+-------+---------------------+\n",
            "\n"
          ]
        }
      ],
      "source": [
        "# Display value counts for 'Anomalous' column (classification target)\n",
        "class_counts = train_df_full.groupBy('Anomalous').count().withColumn('percent', F.col('count')/train_df_full.count())\n",
        "\n",
        "class_counts.show(truncate=False)"
      ]
    },
    {
      "cell_type": "markdown",
      "metadata": {
        "id": "jTFLL4FrXelJ"
      },
      "source": [
        "<br>"
      ]
    },
    {
      "cell_type": "markdown",
      "metadata": {
        "id": "eytS6s3lWXio"
      },
      "source": [
        "# Create `Pipeline` to Preprocess and Model `train_df_full` Data"
      ]
    },
    {
      "cell_type": "markdown",
      "metadata": {
        "id": "ndf2Vu3xWzKy"
      },
      "source": [
        "### Index string columns with `StringIndexer`"
      ]
    },
    {
      "cell_type": "code",
      "execution_count": 19,
      "metadata": {
        "id": "3YdFfLtdWzRd",
        "colab": {
          "base_uri": "https://localhost:8080/",
          "height": 53
        },
        "outputId": "1050cfb6-4e43-487a-a618-ea0363578007"
      },
      "outputs": [
        {
          "output_type": "display_data",
          "data": {
            "text/plain": [
              "<IPython.core.display.HTML object>"
            ],
            "text/html": [
              "\n",
              "    <style>\n",
              "      pre {\n",
              "          white-space: pre-wrap;\n",
              "      }\n",
              "    </style>\n",
              "    "
            ]
          },
          "metadata": {}
        },
        {
          "output_type": "stream",
          "name": "stdout",
          "text": [
            "Indexed nominal categorical features: 6\n",
            "['SettlementCurrency_index', 'InstructedCurrency_index', 'OrderingCountry_index', 'BeneficiaryCountry_index', 'OriginalSender_index', 'FinalReceiver_index']\n"
          ]
        }
      ],
      "source": [
        "stages = []\n",
        "\n",
        "categoricalCols = [item[0] for item in train_df_full.dtypes if item[1].startswith('string')]\n",
        "\n",
        "indexers = []\n",
        "for col in categoricalCols:\n",
        "    indexer = StringIndexer(inputCol=col, outputCol=col + '_index', handleInvalid='keep')\n",
        "    indexers.append(indexer)\n",
        "    \n",
        "indexed_features = []\n",
        "for si in indexers:\n",
        "    indexed_features.append(si.getOutputCol())\n",
        "    \n",
        "print(f\"Indexed nominal categorical features: {len(indexed_features)}\")\n",
        "print(indexed_features)"
      ]
    },
    {
      "cell_type": "markdown",
      "metadata": {
        "id": "s6X8UUZCWzXN"
      },
      "source": [
        "### Create a `OneHotEncoder` to encode the indexed string features"
      ]
    },
    {
      "cell_type": "code",
      "execution_count": 20,
      "metadata": {
        "id": "GEIvAPM5Wzcq",
        "colab": {
          "base_uri": "https://localhost:8080/",
          "height": 71
        },
        "outputId": "4e7fcf4b-7465-4ed8-a2da-d1c7700cc20e"
      },
      "outputs": [
        {
          "output_type": "display_data",
          "data": {
            "text/plain": [
              "<IPython.core.display.HTML object>"
            ],
            "text/html": [
              "\n",
              "    <style>\n",
              "      pre {\n",
              "          white-space: pre-wrap;\n",
              "      }\n",
              "    </style>\n",
              "    "
            ]
          },
          "metadata": {}
        },
        {
          "output_type": "stream",
          "name": "stdout",
          "text": [
            "One hot encoded nominal categorical features: 6\n",
            "['SettlementCurrency_index_ohe', 'InstructedCurrency_index_ohe', 'OrderingCountry_index_ohe', 'BeneficiaryCountry_index_ohe', 'OriginalSender_index_ohe', 'FinalReceiver_index_ohe']\n"
          ]
        }
      ],
      "source": [
        "encoder = OneHotEncoder(inputCols=indexed_features, \n",
        "                        outputCols=[col + '_ohe' for col in indexed_features], \n",
        "                        dropLast=True)\n",
        "\n",
        "print(f\"One hot encoded nominal categorical features: {len(encoder.getOutputCols())}\")\n",
        "print(encoder.getOutputCols())"
      ]
    },
    {
      "cell_type": "markdown",
      "metadata": {
        "id": "8EK2-6LwZa8L"
      },
      "source": [
        "### Compile numeric features, not including target or class weight columns"
      ]
    },
    {
      "cell_type": "code",
      "execution_count": 21,
      "metadata": {
        "id": "3s3zpOEkWzhu",
        "colab": {
          "base_uri": "https://localhost:8080/",
          "height": 71
        },
        "outputId": "c14d8e73-2a7b-4079-8e20-70a95aaac557"
      },
      "outputs": [
        {
          "output_type": "display_data",
          "data": {
            "text/plain": [
              "<IPython.core.display.HTML object>"
            ],
            "text/html": [
              "\n",
              "    <style>\n",
              "      pre {\n",
              "          white-space: pre-wrap;\n",
              "      }\n",
              "    </style>\n",
              "    "
            ]
          },
          "metadata": {}
        },
        {
          "output_type": "stream",
          "name": "stdout",
          "text": [
            "Numeric features: 12\n",
            "['InstructedAmountUSD', 'IntermediaryTransactions', 'Flagged', 'OrderingCountryFreq', 'BeneficiaryCountryFreq', 'Hour', 'SenderHourFreq', 'SenderCurrencyFreq', 'SenderCurrencyAmtAvg', 'SenderFreq', 'ReceiverFreq', 'SenderReceiverFreq']\n"
          ]
        }
      ],
      "source": [
        "numeric_features = []\n",
        "for column, dtype in train_df_full.dtypes:\n",
        "    if column != 'Anomalous' and column != 'Weight' and dtype != 'string':\n",
        "        numeric_features.append(column)\n",
        "\n",
        "# Confirm equal column counts\n",
        "assert len(train_df_full.drop('Anomalous', 'Weight').columns) == len(indexed_features) + len(numeric_features)\n",
        "print(f\"Numeric features: {len(numeric_features)}\\n{numeric_features}\")"
      ]
    },
    {
      "cell_type": "code",
      "execution_count": 22,
      "metadata": {
        "id": "TJyrAkENWzmR",
        "colab": {
          "base_uri": "https://localhost:8080/",
          "height": 88
        },
        "outputId": "a1735e0c-b36e-4807-98fe-56cfc3c88bf6"
      },
      "outputs": [
        {
          "output_type": "display_data",
          "data": {
            "text/plain": [
              "<IPython.core.display.HTML object>"
            ],
            "text/html": [
              "\n",
              "    <style>\n",
              "      pre {\n",
              "          white-space: pre-wrap;\n",
              "      }\n",
              "    </style>\n",
              "    "
            ]
          },
          "metadata": {}
        },
        {
          "output_type": "stream",
          "name": "stdout",
          "text": [
            "Final features: \n",
            "['SettlementCurrency_index_ohe', 'InstructedCurrency_index_ohe', 'OrderingCountry_index_ohe', 'BeneficiaryCountry_index_ohe', 'OriginalSender_index_ohe', 'FinalReceiver_index_ohe', 'InstructedAmountUSD', 'IntermediaryTransactions', 'Flagged', 'OrderingCountryFreq', 'BeneficiaryCountryFreq', 'Hour', 'SenderHourFreq', 'SenderCurrencyFreq', 'SenderCurrencyAmtAvg', 'SenderFreq', 'ReceiverFreq', 'SenderReceiverFreq']\n"
          ]
        }
      ],
      "source": [
        "\n",
        "# Print names of final features going into the model\n",
        "features = encoder.getOutputCols() + numeric_features\n",
        "print(f\"Final features: \\n{features}\")"
      ]
    },
    {
      "cell_type": "markdown",
      "metadata": {
        "id": "8Iz7ulwAavec"
      },
      "source": [
        "### Create a `VectorAssembler` to combine all features"
      ]
    },
    {
      "cell_type": "code",
      "execution_count": 23,
      "metadata": {
        "id": "27pnqdyva17G",
        "colab": {
          "base_uri": "https://localhost:8080/",
          "height": 53
        },
        "outputId": "175180c1-1f47-4a70-936e-23f7d699b203"
      },
      "outputs": [
        {
          "output_type": "display_data",
          "data": {
            "text/plain": [
              "<IPython.core.display.HTML object>"
            ],
            "text/html": [
              "\n",
              "    <style>\n",
              "      pre {\n",
              "          white-space: pre-wrap;\n",
              "      }\n",
              "    </style>\n",
              "    "
            ]
          },
          "metadata": {}
        },
        {
          "output_type": "stream",
          "name": "stdout",
          "text": [
            "Stages: [StringIndexer_e119d6fbbcf4, StringIndexer_a3933164a529, StringIndexer_f0e539fa03f5, StringIndexer_568d383f1dc6, StringIndexer_160ce51f9205, StringIndexer_763485010873, OneHotEncoder_77451f637b47, VectorAssembler_741b96bcaca0, StandardScaler_0310a8534e59]\n"
          ]
        }
      ],
      "source": [
        "assembler = VectorAssembler(inputCols=features, outputCol='vectorized_features')\n",
        "\n",
        "# Assemble a list of stages that includes the vector assembler and standard scaler\n",
        "scaler = StandardScaler(inputCol='vectorized_features', outputCol='scaled_features')\n",
        "\n",
        "stages = indexers + [encoder, assembler, scaler]\n",
        "print(\"Stages:\", stages)"
      ]
    },
    {
      "cell_type": "markdown",
      "metadata": {
        "id": "ZYwGcc_dbciE"
      },
      "source": [
        "### Preview modeling pipeline"
      ]
    },
    {
      "cell_type": "code",
      "execution_count": 24,
      "metadata": {
        "id": "MlwoYrCKbjYB",
        "colab": {
          "base_uri": "https://localhost:8080/",
          "height": 17
        },
        "outputId": "84cba346-4ade-4529-91c0-3f659ca447eb"
      },
      "outputs": [
        {
          "output_type": "display_data",
          "data": {
            "text/plain": [
              "<IPython.core.display.HTML object>"
            ],
            "text/html": [
              "\n",
              "    <style>\n",
              "      pre {\n",
              "          white-space: pre-wrap;\n",
              "      }\n",
              "    </style>\n",
              "    "
            ]
          },
          "metadata": {}
        }
      ],
      "source": [
        "pipeline = Pipeline(stages=stages)\n",
        "\n",
        "pipeline_model = pipeline.fit(train_df_full)\n",
        "\n",
        "pipeline_df = pipeline_model.transform(train_df_full)"
      ]
    },
    {
      "cell_type": "code",
      "execution_count": 25,
      "metadata": {
        "id": "STgdImWXbwSl",
        "colab": {
          "base_uri": "https://localhost:8080/",
          "height": 769
        },
        "outputId": "bf7a5c62-5a85-446b-d886-ede2dd48fc06"
      },
      "outputs": [
        {
          "output_type": "display_data",
          "data": {
            "text/plain": [
              "<IPython.core.display.HTML object>"
            ],
            "text/html": [
              "\n",
              "    <style>\n",
              "      pre {\n",
              "          white-space: pre-wrap;\n",
              "      }\n",
              "    </style>\n",
              "    "
            ]
          },
          "metadata": {}
        },
        {
          "output_type": "stream",
          "name": "stdout",
          "text": [
            "-RECORD 0------------------------------------------------------------------------------------------------------------------------------------------------------------------------------------------------------------------------------------------------------------------------------------------------------------------------------------------------------------------------------------------------------\n",
            " SettlementCurrency           | EUR                                                                                                                                                                                                                                                                                                                                                                            \n",
            " InstructedCurrency           | EUR                                                                                                                                                                                                                                                                                                                                                                            \n",
            " Anomalous                    | 0                                                                                                                                                                                                                                                                                                                                                                              \n",
            " OrderingCountry              | PE                                                                                                                                                                                                                                                                                                                                                                             \n",
            " BeneficiaryCountry           | EC                                                                                                                                                                                                                                                                                                                                                                             \n",
            " InstructedAmountUSD          | 519149                                                                                                                                                                                                                                                                                                                                                                         \n",
            " IntermediaryTransactions     | 0                                                                                                                                                                                                                                                                                                                                                                              \n",
            " OriginalSender               | FAMAPEPL                                                                                                                                                                                                                                                                                                                                                                       \n",
            " FinalReceiver                | KNPVECEQ                                                                                                                                                                                                                                                                                                                                                                       \n",
            " Flagged                      | 0                                                                                                                                                                                                                                                                                                                                                                              \n",
            " OrderingCountryFreq          | 73733                                                                                                                                                                                                                                                                                                                                                                          \n",
            " BeneficiaryCountryFreq       | 40984                                                                                                                                                                                                                                                                                                                                                                          \n",
            " Hour                         | 8                                                                                                                                                                                                                                                                                                                                                                              \n",
            " SenderHourFreq               | 47559                                                                                                                                                                                                                                                                                                                                                                          \n",
            " SenderCurrencyFreq           | 73733                                                                                                                                                                                                                                                                                                                                                                          \n",
            " SenderCurrencyAmtAvg         | 1906631                                                                                                                                                                                                                                                                                                                                                                        \n",
            " SenderFreq                   | 73733                                                                                                                                                                                                                                                                                                                                                                          \n",
            " ReceiverFreq                 | 41012                                                                                                                                                                                                                                                                                                                                                                          \n",
            " SenderReceiverFreq           | 40984                                                                                                                                                                                                                                                                                                                                                                          \n",
            " Weight                       | 1.0                                                                                                                                                                                                                                                                                                                                                                            \n",
            " SettlementCurrency_index     | 1.0                                                                                                                                                                                                                                                                                                                                                                            \n",
            " InstructedCurrency_index     | 0.0                                                                                                                                                                                                                                                                                                                                                                            \n",
            " OrderingCountry_index        | 7.0                                                                                                                                                                                                                                                                                                                                                                            \n",
            " BeneficiaryCountry_index     | 9.0                                                                                                                                                                                                                                                                                                                                                                            \n",
            " OriginalSender_index         | 7.0                                                                                                                                                                                                                                                                                                                                                                            \n",
            " FinalReceiver_index          | 10.0                                                                                                                                                                                                                                                                                                                                                                           \n",
            " SettlementCurrency_index_ohe | (4,[1],[1.0])                                                                                                                                                                                                                                                                                                                                                                  \n",
            " InstructedCurrency_index_ohe | (8,[0],[1.0])                                                                                                                                                                                                                                                                                                                                                                  \n",
            " OrderingCountry_index_ohe    | (14,[7],[1.0])                                                                                                                                                                                                                                                                                                                                                                 \n",
            " BeneficiaryCountry_index_ohe | (11,[9],[1.0])                                                                                                                                                                                                                                                                                                                                                                 \n",
            " OriginalSender_index_ohe     | (15,[7],[1.0])                                                                                                                                                                                                                                                                                                                                                                 \n",
            " FinalReceiver_index_ohe      | (27,[10],[1.0])                                                                                                                                                                                                                                                                                                                                                                \n",
            " vectorized_features          | (91,[1,4,19,35,44,62,79,82,83,84,85,86,87,88,89,90],[1.0,1.0,1.0,1.0,1.0,1.0,519149.0,73733.0,40984.0,8.0,47559.0,73733.0,1906631.0,73733.0,41012.0,40984.0])                                                                                                                                                                                                                  \n",
            " scaled_features              | (91,[1,4,19,35,44,62,79,82,83,84,85,86,87,88,89,90],[2.166527932778849,2.000003056008823,8.040350141791528,10.746430978015434,8.040350141791528,10.742794251130638,0.0016527706896438477,0.13872751524523558,0.06111503793353783,1.6209688519495993,0.29776888126869516,0.16018777672814158,0.022806394100742228,0.12929906160159638,0.06163677309549741,0.06264906278885214]) \n",
            "only showing top 1 row\n",
            "\n"
          ]
        }
      ],
      "source": [
        "# Display first row of train_df_full after running through pipeline\n",
        "pipeline_df.show(1, vertical=True, truncate=False)"
      ]
    },
    {
      "cell_type": "code",
      "execution_count": 26,
      "metadata": {
        "id": "lH2vg1cjbzij",
        "colab": {
          "base_uri": "https://localhost:8080/",
          "height": 35
        },
        "outputId": "48b5aba8-d0a1-4505-ac86-28ead23241aa"
      },
      "outputs": [
        {
          "output_type": "display_data",
          "data": {
            "text/plain": [
              "<IPython.core.display.HTML object>"
            ],
            "text/html": [
              "\n",
              "    <style>\n",
              "      pre {\n",
              "          white-space: pre-wrap;\n",
              "      }\n",
              "    </style>\n",
              "    "
            ]
          },
          "metadata": {}
        },
        {
          "output_type": "execute_result",
          "data": {
            "text/plain": [
              "91"
            ]
          },
          "metadata": {},
          "execution_count": 26
        }
      ],
      "source": [
        "pipeline_test = pipeline.fit(test_df_full)\n",
        "\n",
        "pipeline_df_test = pipeline_model.transform(test_df_full)\n",
        "\n",
        "pipeline.fit(test_df_full).transform(test_df_full).head()['scaled_features'].size"
      ]
    },
    {
      "cell_type": "code",
      "execution_count": 27,
      "metadata": {
        "id": "1gZDYHp_c2Ea",
        "colab": {
          "base_uri": "https://localhost:8080/",
          "height": 751
        },
        "outputId": "14d573f9-3042-492e-ac80-07ee667d1e03"
      },
      "outputs": [
        {
          "output_type": "display_data",
          "data": {
            "text/plain": [
              "<IPython.core.display.HTML object>"
            ],
            "text/html": [
              "\n",
              "    <style>\n",
              "      pre {\n",
              "          white-space: pre-wrap;\n",
              "      }\n",
              "    </style>\n",
              "    "
            ]
          },
          "metadata": {}
        },
        {
          "output_type": "stream",
          "name": "stdout",
          "text": [
            "-RECORD 0------------------------------------------------------------------------------------------------------------------------------------------------------------------------------------------------------------------------------------------------------------------------------------------------------------------------------------------------------------------------------------------------------\n",
            " SettlementCurrency           | EUR                                                                                                                                                                                                                                                                                                                                                                            \n",
            " InstructedCurrency           | EUR                                                                                                                                                                                                                                                                                                                                                                            \n",
            " Anomalous                    | 0                                                                                                                                                                                                                                                                                                                                                                              \n",
            " OrderingCountry              | PE                                                                                                                                                                                                                                                                                                                                                                             \n",
            " BeneficiaryCountry           | EC                                                                                                                                                                                                                                                                                                                                                                             \n",
            " InstructedAmountUSD          | 653958                                                                                                                                                                                                                                                                                                                                                                         \n",
            " IntermediaryTransactions     | 0                                                                                                                                                                                                                                                                                                                                                                              \n",
            " OriginalSender               | FAMAPEPL                                                                                                                                                                                                                                                                                                                                                                       \n",
            " FinalReceiver                | KNPVECEQ                                                                                                                                                                                                                                                                                                                                                                       \n",
            " Flagged                      | 0                                                                                                                                                                                                                                                                                                                                                                              \n",
            " OrderingCountryFreq          | 73733                                                                                                                                                                                                                                                                                                                                                                          \n",
            " BeneficiaryCountryFreq       | 40984                                                                                                                                                                                                                                                                                                                                                                          \n",
            " Hour                         | 8                                                                                                                                                                                                                                                                                                                                                                              \n",
            " SenderHourFreq               | 47559                                                                                                                                                                                                                                                                                                                                                                          \n",
            " SenderCurrencyFreq           | 73733                                                                                                                                                                                                                                                                                                                                                                          \n",
            " SenderCurrencyAmtAvg         | 1906631                                                                                                                                                                                                                                                                                                                                                                        \n",
            " SenderFreq                   | 73733                                                                                                                                                                                                                                                                                                                                                                          \n",
            " ReceiverFreq                 | 41012                                                                                                                                                                                                                                                                                                                                                                          \n",
            " SenderReceiverFreq           | 40984                                                                                                                                                                                                                                                                                                                                                                          \n",
            " SettlementCurrency_index     | 1.0                                                                                                                                                                                                                                                                                                                                                                            \n",
            " InstructedCurrency_index     | 0.0                                                                                                                                                                                                                                                                                                                                                                            \n",
            " OrderingCountry_index        | 7.0                                                                                                                                                                                                                                                                                                                                                                            \n",
            " BeneficiaryCountry_index     | 9.0                                                                                                                                                                                                                                                                                                                                                                            \n",
            " OriginalSender_index         | 7.0                                                                                                                                                                                                                                                                                                                                                                            \n",
            " FinalReceiver_index          | 10.0                                                                                                                                                                                                                                                                                                                                                                           \n",
            " SettlementCurrency_index_ohe | (4,[1],[1.0])                                                                                                                                                                                                                                                                                                                                                                  \n",
            " InstructedCurrency_index_ohe | (8,[0],[1.0])                                                                                                                                                                                                                                                                                                                                                                  \n",
            " OrderingCountry_index_ohe    | (14,[7],[1.0])                                                                                                                                                                                                                                                                                                                                                                 \n",
            " BeneficiaryCountry_index_ohe | (11,[9],[1.0])                                                                                                                                                                                                                                                                                                                                                                 \n",
            " OriginalSender_index_ohe     | (15,[7],[1.0])                                                                                                                                                                                                                                                                                                                                                                 \n",
            " FinalReceiver_index_ohe      | (27,[10],[1.0])                                                                                                                                                                                                                                                                                                                                                                \n",
            " vectorized_features          | (91,[1,4,19,35,44,62,79,82,83,84,85,86,87,88,89,90],[1.0,1.0,1.0,1.0,1.0,1.0,653958.0,73733.0,40984.0,8.0,47559.0,73733.0,1906631.0,73733.0,41012.0,40984.0])                                                                                                                                                                                                                  \n",
            " scaled_features              | (91,[1,4,19,35,44,62,79,82,83,84,85,86,87,88,89,90],[2.166527932778849,2.000003056008823,8.040350141791528,10.746430978015434,8.040350141791528,10.742794251130638,0.0020819506820934095,0.13872751524523558,0.06111503793353783,1.6209688519495993,0.29776888126869516,0.16018777672814158,0.022806394100742228,0.12929906160159638,0.06163677309549741,0.06264906278885214]) \n",
            "only showing top 1 row\n",
            "\n"
          ]
        }
      ],
      "source": [
        "# Display first row of test_df_full after running through pipeline\n",
        "pipeline_df_test.show(1, vertical=True, truncate=False)"
      ]
    },
    {
      "cell_type": "markdown",
      "metadata": {
        "id": "AB1-xUWMjSFn"
      },
      "source": [
        "<br>"
      ]
    },
    {
      "cell_type": "markdown",
      "metadata": {
        "id": "4wbyZc3Qj4Qu"
      },
      "source": [
        "# **Model 4.2**: Decision Tree Classifier, Oversampled, with Tuned Max Depth\n",
        "\n",
        "For our first model on the full training dataset, we'll use the best classifier from notebook-3, which was a `DecisionTreeClassifier`. For the dataset, we are going to use default class weights of 1.0 across all observations, but we're now going to try upsampling the positive class (anomalous transactions) 10x in the dataset. We'll keep the negative class observations as is. We'll use our function `spark_resample` in helper_functions to do the resampling."
      ]
    },
    {
      "cell_type": "code",
      "execution_count": 28,
      "metadata": {
        "id": "BOKc6RNE-fuc",
        "colab": {
          "base_uri": "https://localhost:8080/",
          "height": 589
        },
        "outputId": "9524b694-2425-43c9-f420-83746dd46ddb"
      },
      "outputs": [
        {
          "output_type": "display_data",
          "data": {
            "text/plain": [
              "<IPython.core.display.HTML object>"
            ],
            "text/html": [
              "\n",
              "    <style>\n",
              "      pre {\n",
              "          white-space: pre-wrap;\n",
              "      }\n",
              "    </style>\n",
              "    "
            ]
          },
          "metadata": {}
        },
        {
          "output_type": "stream",
          "name": "stdout",
          "text": [
            "\n",
            "    Resamples PySpark dataframe with an imbalanced binary \n",
            "    target class distribution through a combination of \n",
            "    undersampling the majority (negative) class and \n",
            "    oversampling the minority (positive) class.\n",
            "\n",
            "    Parameters\n",
            "    ----------\n",
            "    df : Spark `DataFrame`\n",
            "        The Spark `DataFrame` to resample\n",
            "    ratio : `float`\n",
            "        Desired ratio of positive (oversampled) class to \n",
            "        negative (undersampled) class in new `DataFrame`\n",
            "    new_count : `int`\n",
            "        Desired total count of observations (rows) in new\n",
            "        `DataFrame`\n",
            "    oversample_fraction : `float`\n",
            "        Fraction to oversample minority class\n",
            "    undersample_fraction : `float`\n",
            "        Fraction to undersample majority class\n",
            "    class_field : Spark `Column`\n",
            "        Name of `Column` in `DataFrame` to resample\n",
            "    pos_class : `DataType` of `class_field`\n",
            "        Label of positive class in `class_field`\n",
            "    shuffle : `bool`\n",
            "        Whether to shuffle `DataFrame` before returning \n",
            "        resampled `DataFrame`. If `False`, positive \n",
            "        class observations will all be distributed on \n",
            "        the bottom of the resampled `DataFrame`.\n",
            "    random_state : `int`\n",
            "        Random seed for reproducibility\n",
            "    \n"
          ]
        }
      ],
      "source": [
        "print(spark_resample.__doc__)"
      ]
    },
    {
      "cell_type": "code",
      "execution_count": 29,
      "metadata": {
        "id": "QAi3b65V_C9b",
        "colab": {
          "base_uri": "https://localhost:8080/",
          "height": 160
        },
        "outputId": "f02f4291-2a0c-4ccc-c817-ef8c0e2f21a9"
      },
      "outputs": [
        {
          "output_type": "display_data",
          "data": {
            "text/plain": [
              "<IPython.core.display.HTML object>"
            ],
            "text/html": [
              "\n",
              "    <style>\n",
              "      pre {\n",
              "          white-space: pre-wrap;\n",
              "      }\n",
              "    </style>\n",
              "    "
            ]
          },
          "metadata": {}
        },
        {
          "output_type": "stream",
          "name": "stdout",
          "text": [
            "train_df_full_resampled:  4,736,064 Rows, 19 Columns\n",
            "+---------+-------+----------+\n",
            "|Anomalous|  count|   percent|\n",
            "+---------+-------+----------+\n",
            "|        0|4686825|0.98960...|\n",
            "|        1|  49239|0.01039...|\n",
            "+---------+-------+----------+\n",
            "\n"
          ]
        }
      ],
      "source": [
        "train_df_full_resampled = spark_resample(df=train_df_full, oversample_fraction=10.0, undersample_fraction=1.0, \n",
        "                                         class_field='Anomalous', pos_class=1, shuffle=True, random_state=42)\n",
        "\n",
        "# Drop Weight column\n",
        "train_df_full_resampled = train_df_full_resampled.drop('Weight')\n",
        "# Print shape of resampled dataframe\n",
        "print(f\"train_df_full_resampled:  {train_df_full_resampled.count():,} Rows, {len(train_df_full_resampled.columns)} Columns\")\n",
        "# Display value counts for 'Label' column (classification target) of resampled dataframe\n",
        "upsampled_class_counts = train_df_full_resampled.groupBy('Anomalous').count()\\\n",
        "                         .withColumn('percent', F.col('count')/train_df_full_resampled.count())\n",
        "\n",
        "upsampled_class_counts.show(truncate=10)"
      ]
    },
    {
      "cell_type": "code",
      "execution_count": 30,
      "metadata": {
        "id": "jON0zgwYj4Yl",
        "colab": {
          "base_uri": "https://localhost:8080/",
          "height": 17
        },
        "outputId": "d3a1b395-a14f-4960-b56a-59bbdeb64089"
      },
      "outputs": [
        {
          "output_type": "display_data",
          "data": {
            "text/plain": [
              "<IPython.core.display.HTML object>"
            ],
            "text/html": [
              "\n",
              "    <style>\n",
              "      pre {\n",
              "          white-space: pre-wrap;\n",
              "      }\n",
              "    </style>\n",
              "    "
            ]
          },
          "metadata": {}
        }
      ],
      "source": [
        "dt_1 = DecisionTreeClassifier(\n",
        "    featuresCol='scaled_features',\n",
        "    labelCol='Anomalous')\n",
        "\n",
        "dt_1_stages = stages + [dt_1]\n",
        "\n",
        "# Specify parameter grid\n",
        "dt_1_grid = ParamGridBuilder()\\\n",
        "            .addGrid(dt_1.maxDepth, [3, 4, 5, 6])\\\n",
        "            .build()"
      ]
    },
    {
      "cell_type": "code",
      "execution_count": 31,
      "metadata": {
        "id": "5upLtn2yj4fY",
        "colab": {
          "base_uri": "https://localhost:8080/",
          "height": 17
        },
        "outputId": "14264466-5826-4d04-ed1c-f887f06d673b"
      },
      "outputs": [
        {
          "output_type": "display_data",
          "data": {
            "text/plain": [
              "<IPython.core.display.HTML object>"
            ],
            "text/html": [
              "\n",
              "    <style>\n",
              "      pre {\n",
              "          white-space: pre-wrap;\n",
              "      }\n",
              "    </style>\n",
              "    "
            ]
          },
          "metadata": {}
        }
      ],
      "source": [
        "# Run grid search using grid_search function\n",
        "if not os.path.isdir(drive_path + 'dt_1_model_full'):\n",
        "    dt_1_model = grid_search(stages_with_classifier=dt_1_stages, \n",
        "                             train_df=train_df_full_resampled, \n",
        "                             model_grid=dt_1_grid, \n",
        "                             parallelism=4)"
      ]
    },
    {
      "cell_type": "code",
      "execution_count": 32,
      "metadata": {
        "id": "D7GPF8pyj4lp",
        "colab": {
          "base_uri": "https://localhost:8080/",
          "height": 53
        },
        "outputId": "4474e379-562e-4713-b180-485f7dbe8c5d"
      },
      "outputs": [
        {
          "output_type": "display_data",
          "data": {
            "text/plain": [
              "<IPython.core.display.HTML object>"
            ],
            "text/html": [
              "\n",
              "    <style>\n",
              "      pre {\n",
              "          white-space: pre-wrap;\n",
              "      }\n",
              "    </style>\n",
              "    "
            ]
          },
          "metadata": {}
        },
        {
          "output_type": "stream",
          "name": "stdout",
          "text": [
            "{Param(parent='DecisionTreeClassifier_277cd5d26974', name='maxDepth', doc='Maximum depth of the tree. (>= 0) E.g., depth 0 means 1 leaf node; depth 1 means 1 internal node + 2 leaf nodes. Must be in range [0, 30].'): 3}\n"
          ]
        }
      ],
      "source": [
        "# Save model, or upload if already saved\n",
        "if not os.path.isdir(drive_path + 'dt_1_model_full'):\n",
        "    dt_1_model.save(drive_path + 'dt_1_model_full')\n",
        "else:\n",
        "    dt_1_model = TrainValidationSplitModel.load(drive_path + 'dt_1_model_full')\n",
        "    print(dt_1_grid[np.argmax(dt_1_model.validationMetrics)])"
      ]
    },
    {
      "cell_type": "code",
      "execution_count": 33,
      "metadata": {
        "id": "RH-rOVRfj4sH",
        "colab": {
          "base_uri": "https://localhost:8080/",
          "height": 499
        },
        "outputId": "64a9768a-f615-44a5-a6a7-cbfe7dc1eaf6"
      },
      "outputs": [
        {
          "output_type": "display_data",
          "data": {
            "text/plain": [
              "<IPython.core.display.HTML object>"
            ],
            "text/html": [
              "\n",
              "    <style>\n",
              "      pre {\n",
              "          white-space: pre-wrap;\n",
              "      }\n",
              "    </style>\n",
              "    "
            ]
          },
          "metadata": {}
        },
        {
          "output_type": "stream",
          "name": "stdout",
          "text": [
            "DecisionTreeClassificationModel\n",
            "------------------------------- \n",
            "\n",
            "Training data:\n",
            "\n",
            "                  precision    recall  f1-score   support\n",
            "\n",
            "0: Non-anomalous      0.994     1.000     0.997   4686825\n",
            "    1: Anomalous      1.000     0.406     0.578     49239\n",
            "\n",
            "        accuracy                          0.994   4736064\n",
            "       macro avg      0.997     0.703     0.787   4736064\n",
            "    weighted avg      0.994     0.994     0.993   4736064\n",
            "\n",
            "------------------------------------------------------------ \n",
            "\n",
            "Testing data:\n",
            "\n",
            "                  precision    recall  f1-score   support\n",
            "\n",
            "0: Non-anomalous      0.999     1.000     1.000    704347\n",
            "    1: Anomalous      1.000     0.384     0.555       761\n",
            "\n",
            "        accuracy                          0.999    705108\n",
            "       macro avg      1.000     0.692     0.777    705108\n",
            "    weighted avg      0.999     0.999     0.999    705108\n",
            "\n"
          ]
        }
      ],
      "source": [
        "# Print model scores\n",
        "score_model(dt_1_model, train_df_full_resampled, test_df_full)"
      ]
    },
    {
      "cell_type": "code",
      "execution_count": 34,
      "metadata": {
        "id": "U1AYbQjzj4xw",
        "colab": {
          "base_uri": "https://localhost:8080/",
          "height": 462
        },
        "outputId": "fa852721-9b07-43c3-d114-08d9347bafc3"
      },
      "outputs": [
        {
          "output_type": "display_data",
          "data": {
            "text/plain": [
              "<IPython.core.display.HTML object>"
            ],
            "text/html": [
              "\n",
              "    <style>\n",
              "      pre {\n",
              "          white-space: pre-wrap;\n",
              "      }\n",
              "    </style>\n",
              "    "
            ]
          },
          "metadata": {}
        },
        {
          "output_type": "display_data",
          "data": {
            "text/plain": [
              "<Figure size 1296x504 with 2 Axes>"
            ],
            "image/png": "[encoded data removed]"
          },
          "metadata": {
            "image/png": {
              "width": 625,
              "height": 445
            },
            "needs_background": "light"
          }
        }
      ],
      "source": [
        "# Plot model confusion matrix\n",
        "plot_confusion_matrix(dt_1_model, test_df_full)"
      ]
    },
    {
      "cell_type": "markdown",
      "metadata": {
        "id": "FJTipsDBj43Y"
      },
      "source": [
        "**Remarks:**\n",
        "- Interesting, it looks like we matched our best decision tree tree in the previous notebook exactly, even after bringing in all categorical features and upsampling the minority class in the dataset. This will be our benchline for our next models going forward in this notebook."
      ]
    },
    {
      "cell_type": "markdown",
      "metadata": {
        "id": "dQyo1xZIj49O"
      },
      "source": [
        "<br>"
      ]
    },
    {
      "cell_type": "markdown",
      "metadata": {
        "id": "uDTNhaDXj5CH"
      },
      "source": [
        "# Model 6.1: **Random Forest Classifier**, Oversampled, with Tuned Max Depth and Information Gain Criterion\n",
        "\n",
        "For our first random forest model, we'll keep the upsampled dataset that we used in the last model, while tuning the max depth of the trees and the information gain criterion (`impurity`)."
      ]
    },
    {
      "cell_type": "code",
      "execution_count": 35,
      "metadata": {
        "id": "XjQ5FGtaEsgF",
        "colab": {
          "base_uri": "https://localhost:8080/",
          "height": 17
        },
        "outputId": "e9acf2ca-e276-47c7-d9a1-28f797ef196b"
      },
      "outputs": [
        {
          "output_type": "display_data",
          "data": {
            "text/plain": [
              "<IPython.core.display.HTML object>"
            ],
            "text/html": [
              "\n",
              "    <style>\n",
              "      pre {\n",
              "          white-space: pre-wrap;\n",
              "      }\n",
              "    </style>\n",
              "    "
            ]
          },
          "metadata": {}
        }
      ],
      "source": [
        "rf_1 = RandomForestClassifier(\n",
        "    featuresCol='scaled_features',\n",
        "    labelCol='Anomalous')\n",
        "\n",
        "rf_1_stages = stages + [rf_1]\n",
        "\n",
        "# Specify parameter grid\n",
        "rf_1_grid = ParamGridBuilder()\\\n",
        "            .addGrid(rf_1.maxDepth, [4, 5, 6, 7])\\\n",
        "            .addGrid(rf_1.impurity, ['gini', 'entropy'])\\\n",
        "            .build()"
      ]
    },
    {
      "cell_type": "code",
      "execution_count": 36,
      "metadata": {
        "id": "rM7uWq-MFg76",
        "colab": {
          "base_uri": "https://localhost:8080/",
          "height": 17
        },
        "outputId": "e9b661ee-8413-4501-e9ee-d28aa2b91d2b"
      },
      "outputs": [
        {
          "output_type": "display_data",
          "data": {
            "text/plain": [
              "<IPython.core.display.HTML object>"
            ],
            "text/html": [
              "\n",
              "    <style>\n",
              "      pre {\n",
              "          white-space: pre-wrap;\n",
              "      }\n",
              "    </style>\n",
              "    "
            ]
          },
          "metadata": {}
        }
      ],
      "source": [
        "# Run grid search using grid_search function\n",
        "if not os.path.isdir(drive_path + 'rf_1_model_full'):\n",
        "    rf_1_model = grid_search(stages_with_classifier=rf_1_stages, \n",
        "                             train_df=train_df_full_resampled, \n",
        "                             model_grid=rf_1_grid, \n",
        "                             parallelism=5)"
      ]
    },
    {
      "cell_type": "code",
      "execution_count": 37,
      "metadata": {
        "id": "DLv09EbyF1rH",
        "colab": {
          "base_uri": "https://localhost:8080/",
          "height": 71
        },
        "outputId": "a0e32a1d-df89-4d2e-e38d-eff30b8b761e"
      },
      "outputs": [
        {
          "output_type": "display_data",
          "data": {
            "text/plain": [
              "<IPython.core.display.HTML object>"
            ],
            "text/html": [
              "\n",
              "    <style>\n",
              "      pre {\n",
              "          white-space: pre-wrap;\n",
              "      }\n",
              "    </style>\n",
              "    "
            ]
          },
          "metadata": {}
        },
        {
          "output_type": "stream",
          "name": "stdout",
          "text": [
            "{Param(parent='RandomForestClassifier_bce1d069b48b', name='maxDepth', doc='Maximum depth of the tree. (>= 0) E.g., depth 0 means 1 leaf node; depth 1 means 1 internal node + 2 leaf nodes. Must be in range [0, 30].'): 7, Param(parent='RandomForestClassifier_bce1d069b48b', name='impurity', doc='Criterion used for information gain calculation (case-insensitive). Supported options: entropy, gini'): 'entropy'}\n"
          ]
        }
      ],
      "source": [
        "# Save model, or upload if already saved\n",
        "if not os.path.isdir(drive_path + 'rf_1_model_full'):\n",
        "    rf_1_model.save(drive_path + 'rf_1_model_full')\n",
        "else:\n",
        "    rf_1_model = TrainValidationSplitModel.load(drive_path + 'rf_1_model_full')\n",
        "    print(rf_1_grid[np.argmax(rf_1_model.validationMetrics)])"
      ]
    },
    {
      "cell_type": "code",
      "execution_count": 38,
      "metadata": {
        "id": "5oFAEUXFGMuZ",
        "colab": {
          "base_uri": "https://localhost:8080/",
          "height": 499
        },
        "outputId": "3668ebc7-3162-4602-b9e7-1fab70166933"
      },
      "outputs": [
        {
          "output_type": "display_data",
          "data": {
            "text/plain": [
              "<IPython.core.display.HTML object>"
            ],
            "text/html": [
              "\n",
              "    <style>\n",
              "      pre {\n",
              "          white-space: pre-wrap;\n",
              "      }\n",
              "    </style>\n",
              "    "
            ]
          },
          "metadata": {}
        },
        {
          "output_type": "stream",
          "name": "stdout",
          "text": [
            "RandomForestClassificationModel\n",
            "------------------------------- \n",
            "\n",
            "Training data:\n",
            "\n",
            "                  precision    recall  f1-score   support\n",
            "\n",
            "0: Non-anomalous      0.993     1.000     0.996   4686825\n",
            "    1: Anomalous      1.000     0.312     0.476     49239\n",
            "\n",
            "        accuracy                          0.993   4736064\n",
            "       macro avg      0.996     0.656     0.736   4736064\n",
            "    weighted avg      0.993     0.993     0.991   4736064\n",
            "\n",
            "------------------------------------------------------------ \n",
            "\n",
            "Testing data:\n",
            "\n",
            "                  precision    recall  f1-score   support\n",
            "\n",
            "0: Non-anomalous      0.999     1.000     1.000    704347\n",
            "    1: Anomalous      1.000     0.322     0.487       761\n",
            "\n",
            "        accuracy                          0.999    705108\n",
            "       macro avg      1.000     0.661     0.743    705108\n",
            "    weighted avg      0.999     0.999     0.999    705108\n",
            "\n"
          ]
        }
      ],
      "source": [
        "# Print model scores\n",
        "score_model(rf_1_model, train_df_full_resampled, test_df_full)"
      ]
    },
    {
      "cell_type": "code",
      "execution_count": 39,
      "metadata": {
        "id": "6z1etxxNGNBb",
        "colab": {
          "base_uri": "https://localhost:8080/",
          "height": 462
        },
        "outputId": "3c85a586-527a-4435-c727-270c95918895"
      },
      "outputs": [
        {
          "output_type": "display_data",
          "data": {
            "text/plain": [
              "<IPython.core.display.HTML object>"
            ],
            "text/html": [
              "\n",
              "    <style>\n",
              "      pre {\n",
              "          white-space: pre-wrap;\n",
              "      }\n",
              "    </style>\n",
              "    "
            ]
          },
          "metadata": {}
        },
        {
          "output_type": "display_data",
          "data": {
            "text/plain": [
              "<Figure size 1296x504 with 2 Axes>"
            ],
            "image/png": "[encoded data removed]"
          },
          "metadata": {
            "image/png": {
              "width": 625,
              "height": 445
            },
            "needs_background": "light"
          }
        }
      ],
      "source": [
        "# Plot model confusion matrix\n",
        "plot_confusion_matrix(rf_1_model, test_df_full)"
      ]
    },
    {
      "cell_type": "markdown",
      "metadata": {
        "id": "D7r58HQSGS37"
      },
      "source": [
        "**Remarks:**\n",
        "- The random forest came close to, but couldn't ultimately beat, the more basic decision tree model, achieiving a 0.487 F1 score on anomalous transactions and correctly classifying 245 out of 761 anomalous transactions. "
      ]
    },
    {
      "cell_type": "markdown",
      "metadata": {
        "id": "kdsuTYcJGTRX"
      },
      "source": [
        "<br>"
      ]
    },
    {
      "cell_type": "markdown",
      "metadata": {
        "id": "axXvcg-8GT2E"
      },
      "source": [
        "# Model 6.2: **Random Forest Classifier**, Over and Undersampled, with Tuned Max Depth\n",
        "\n",
        "Let's try another random forest, with the minority class still oversampled 10x, but let's also undersample the majority class 10x as well so it's even more balanced. There should be a distribution of about 90/10 majority to minority class observations now in the training data.\n",
        "\n",
        "We'll keep the `entropy` impurity criterion that the grid search found to be optimal in the last model, but grid search over the maximum depth again and also the number of trees in the random forest."
      ]
    },
    {
      "cell_type": "code",
      "execution_count": 40,
      "metadata": {
        "id": "liSAO1ELGUe3",
        "colab": {
          "base_uri": "https://localhost:8080/",
          "height": 160
        },
        "outputId": "aaef2f29-1620-4036-b579-dfb1dd3c437f"
      },
      "outputs": [
        {
          "output_type": "display_data",
          "data": {
            "text/plain": [
              "<IPython.core.display.HTML object>"
            ],
            "text/html": [
              "\n",
              "    <style>\n",
              "      pre {\n",
              "          white-space: pre-wrap;\n",
              "      }\n",
              "    </style>\n",
              "    "
            ]
          },
          "metadata": {}
        },
        {
          "output_type": "stream",
          "name": "stdout",
          "text": [
            "train_df_full_resampled:  517,567 Rows, 19 Columns\n",
            "+---------+------+----------+\n",
            "|Anomalous| count|   percent|\n",
            "+---------+------+----------+\n",
            "|        0|468328|0.90486...|\n",
            "|        1| 49239|0.09513...|\n",
            "+---------+------+----------+\n",
            "\n"
          ]
        }
      ],
      "source": [
        "train_df_full_resampled = spark_resample(df=train_df_full, oversample_fraction=10.0, undersample_fraction=0.1, \n",
        "                                         class_field='Anomalous', pos_class=1, shuffle=True, random_state=42)\n",
        "\n",
        "# Drop Weight column\n",
        "train_df_full_resampled = train_df_full_resampled.drop('Weight')\n",
        "# Print shape of resampled dataframe\n",
        "print(f\"train_df_full_resampled:  {train_df_full_resampled.count():,} Rows, {len(train_df_full_resampled.columns)} Columns\")\n",
        "# Display value counts for 'Label' column (classification target) of resampled dataframe\n",
        "resampled_class_counts = train_df_full_resampled.groupBy('Anomalous').count()\\\n",
        "                         .withColumn('percent', F.col('count')/train_df_full_resampled.count())\n",
        "\n",
        "resampled_class_counts.show(truncate=10)"
      ]
    },
    {
      "cell_type": "code",
      "execution_count": 41,
      "metadata": {
        "id": "-LrN5TnqGUxG",
        "colab": {
          "base_uri": "https://localhost:8080/",
          "height": 17
        },
        "outputId": "408bb363-9484-4e53-ff21-6b6fa0954efc"
      },
      "outputs": [
        {
          "output_type": "display_data",
          "data": {
            "text/plain": [
              "<IPython.core.display.HTML object>"
            ],
            "text/html": [
              "\n",
              "    <style>\n",
              "      pre {\n",
              "          white-space: pre-wrap;\n",
              "      }\n",
              "    </style>\n",
              "    "
            ]
          },
          "metadata": {}
        }
      ],
      "source": [
        "rf_2 = RandomForestClassifier(\n",
        "    featuresCol='scaled_features',\n",
        "    labelCol='Anomalous', \n",
        "    impurity='entropy')\n",
        "\n",
        "rf_2_stages = stages + [rf_2]\n",
        "\n",
        "# Specify parameter grid\n",
        "rf_2_grid = ParamGridBuilder()\\\n",
        "            .addGrid(rf_2.maxDepth, [4, 5, 6, 7])\\\n",
        "            .addGrid(rf_2.numTrees, [20, 30])\\\n",
        "            .build()"
      ]
    },
    {
      "cell_type": "code",
      "execution_count": 42,
      "metadata": {
        "id": "cvK-YvFhVpvY",
        "colab": {
          "base_uri": "https://localhost:8080/",
          "height": 17
        },
        "outputId": "fb309b95-85f7-4eb7-f4b2-8ca362c88447"
      },
      "outputs": [
        {
          "output_type": "display_data",
          "data": {
            "text/plain": [
              "<IPython.core.display.HTML object>"
            ],
            "text/html": [
              "\n",
              "    <style>\n",
              "      pre {\n",
              "          white-space: pre-wrap;\n",
              "      }\n",
              "    </style>\n",
              "    "
            ]
          },
          "metadata": {}
        }
      ],
      "source": [
        "# Run grid search using grid_search function\n",
        "if not os.path.isdir(drive_path + 'rf_2_model_full'):\n",
        "    rf_2_model = grid_search(stages_with_classifier=rf_2_stages, \n",
        "                             train_df=train_df_full_resampled, \n",
        "                             model_grid=rf_2_grid, \n",
        "                             parallelism=5)"
      ]
    },
    {
      "cell_type": "code",
      "execution_count": 43,
      "metadata": {
        "id": "4LupCvwaWDFl",
        "colab": {
          "base_uri": "https://localhost:8080/",
          "height": 71
        },
        "outputId": "62e68801-497c-4e98-ba9d-0928034d3f2d"
      },
      "outputs": [
        {
          "output_type": "display_data",
          "data": {
            "text/plain": [
              "<IPython.core.display.HTML object>"
            ],
            "text/html": [
              "\n",
              "    <style>\n",
              "      pre {\n",
              "          white-space: pre-wrap;\n",
              "      }\n",
              "    </style>\n",
              "    "
            ]
          },
          "metadata": {}
        },
        {
          "output_type": "stream",
          "name": "stdout",
          "text": [
            "{Param(parent='RandomForestClassifier_748140e5ee58', name='maxDepth', doc='Maximum depth of the tree. (>= 0) E.g., depth 0 means 1 leaf node; depth 1 means 1 internal node + 2 leaf nodes. Must be in range [0, 30].'): 7, Param(parent='RandomForestClassifier_748140e5ee58', name='numTrees', doc='Number of trees to train (>= 1).'): 20}\n"
          ]
        }
      ],
      "source": [
        "# Save model, or upload if already saved\n",
        "if not os.path.isdir(drive_path + 'rf_2_model_full'):\n",
        "    rf_2_model.save(drive_path + 'rf_2_model_full')\n",
        "else:\n",
        "    rf_2_model = TrainValidationSplitModel.load(drive_path + 'rf_2_model_full')\n",
        "    print(rf_2_grid[np.argmax(rf_2_model.validationMetrics)])"
      ]
    },
    {
      "cell_type": "code",
      "execution_count": 44,
      "metadata": {
        "id": "7ppOnjg-YsWW",
        "colab": {
          "base_uri": "https://localhost:8080/",
          "height": 499
        },
        "outputId": "59fdfba4-4ebd-42b2-f092-f318b9cc8d55"
      },
      "outputs": [
        {
          "output_type": "display_data",
          "data": {
            "text/plain": [
              "<IPython.core.display.HTML object>"
            ],
            "text/html": [
              "\n",
              "    <style>\n",
              "      pre {\n",
              "          white-space: pre-wrap;\n",
              "      }\n",
              "    </style>\n",
              "    "
            ]
          },
          "metadata": {}
        },
        {
          "output_type": "stream",
          "name": "stdout",
          "text": [
            "RandomForestClassificationModel\n",
            "------------------------------- \n",
            "\n",
            "Training data:\n",
            "\n",
            "                  precision    recall  f1-score   support\n",
            "\n",
            "0: Non-anomalous      0.946     1.000     0.972    468328\n",
            "    1: Anomalous      1.000     0.460     0.630     49239\n",
            "\n",
            "        accuracy                          0.949    517567\n",
            "       macro avg      0.973     0.730     0.801    517567\n",
            "    weighted avg      0.951     0.949     0.940    517567\n",
            "\n",
            "------------------------------------------------------------ \n",
            "\n",
            "Testing data:\n",
            "\n",
            "                  precision    recall  f1-score   support\n",
            "\n",
            "0: Non-anomalous      0.999     0.980     0.989    704347\n",
            "    1: Anomalous      0.023     0.452     0.044       761\n",
            "\n",
            "        accuracy                          0.979    705108\n",
            "       macro avg      0.511     0.716     0.517    705108\n",
            "    weighted avg      0.998     0.979     0.988    705108\n",
            "\n"
          ]
        }
      ],
      "source": [
        "# Print model scores\n",
        "score_model(rf_2_model, train_df_full_resampled, test_df_full)"
      ]
    },
    {
      "cell_type": "code",
      "execution_count": 45,
      "metadata": {
        "id": "XP9QM-BCYsiJ",
        "colab": {
          "base_uri": "https://localhost:8080/",
          "height": 462
        },
        "outputId": "66f5d181-a680-40b2-e319-3749a843c13a"
      },
      "outputs": [
        {
          "output_type": "display_data",
          "data": {
            "text/plain": [
              "<IPython.core.display.HTML object>"
            ],
            "text/html": [
              "\n",
              "    <style>\n",
              "      pre {\n",
              "          white-space: pre-wrap;\n",
              "      }\n",
              "    </style>\n",
              "    "
            ]
          },
          "metadata": {}
        },
        {
          "output_type": "display_data",
          "data": {
            "text/plain": [
              "<Figure size 1296x504 with 2 Axes>"
            ],
            "image/png": "[encoded data removed]"
          },
          "metadata": {
            "image/png": {
              "width": 625,
              "height": 445
            },
            "needs_background": "light"
          }
        }
      ],
      "source": [
        "# Plot model confusion matrix\n",
        "plot_confusion_matrix(rf_2_model, test_df_full)"
      ]
    },
    {
      "cell_type": "markdown",
      "metadata": {
        "id": "6jG5JDt4Yy7x"
      },
      "source": [
        "**Remarks:**\n",
        "- It looks like the random forest was able to boost the recall score to 0.452, but, again, at a very high cost in terms of reduced precision on the positive class, which ultimately drags down the F1 score. While performing much better than the GBT model, it's nowhere near the previous decision tree model, at least in terms of the F1 score."
      ]
    },
    {
      "cell_type": "markdown",
      "metadata": {
        "id": "d1yZIdpwYzPe"
      },
      "source": [
        "<br>"
      ]
    },
    {
      "cell_type": "markdown",
      "metadata": {
        "id": "3G9eA-TBYzWL"
      },
      "source": [
        "# Model 6.3: **Random Forest** Classifier, Weighted, with Tuned Max Depth\n",
        "\n",
        "Let's try one more random forest model, but this time we'll heavily overweight the minority class 20x using the `set_weight_col` function - no resampling. We'll again tune the maximum depth of the trees. We'll also set a new `seed` in the `grid_search` function because - why not? With so few anomalous transactions, the draw of the sample could make a difference."
      ]
    },
    {
      "cell_type": "code",
      "execution_count": 46,
      "metadata": {
        "id": "FpiL8Nh5Yzcr",
        "colab": {
          "base_uri": "https://localhost:8080/",
          "height": 196
        },
        "outputId": "7d78f023-5009-4b86-e2ab-4206c1cd8407"
      },
      "outputs": [
        {
          "output_type": "display_data",
          "data": {
            "text/plain": [
              "<IPython.core.display.HTML object>"
            ],
            "text/html": [
              "\n",
              "    <style>\n",
              "      pre {\n",
              "          white-space: pre-wrap;\n",
              "      }\n",
              "    </style>\n",
              "    "
            ]
          },
          "metadata": {}
        },
        {
          "output_type": "stream",
          "name": "stdout",
          "text": [
            "-RECORD 0--------\n",
            " Anomalous | 0   \n",
            " Weight    | 1.0 \n",
            "only showing top 1 row\n",
            "\n",
            "-RECORD 0---------\n",
            " Anomalous | 1    \n",
            " Weight    | 20.0 \n",
            "only showing top 1 row\n",
            "\n"
          ]
        }
      ],
      "source": [
        "train_df_full = set_weight_col(train_df_full, label_col='Anomalous', pos_class_weight=20.0, neg_class_weight=1.0)\n",
        "# Preview Weight column\n",
        "cols_to_show = ['Anomalous', 'Weight']\n",
        "train_df_full.select(cols_to_show).where(train_df_full.Anomalous == 0).show(1, truncate=False, vertical=True)\n",
        "train_df_full.select(cols_to_show).where(train_df_full.Anomalous == 1).show(1, truncate=False, vertical=True)"
      ]
    },
    {
      "cell_type": "code",
      "execution_count": 47,
      "metadata": {
        "id": "vgTdwicAYzjE",
        "colab": {
          "base_uri": "https://localhost:8080/",
          "height": 17
        },
        "outputId": "20b8df58-d71f-423a-d4f9-f830b0cbc3d6"
      },
      "outputs": [
        {
          "output_type": "display_data",
          "data": {
            "text/plain": [
              "<IPython.core.display.HTML object>"
            ],
            "text/html": [
              "\n",
              "    <style>\n",
              "      pre {\n",
              "          white-space: pre-wrap;\n",
              "      }\n",
              "    </style>\n",
              "    "
            ]
          },
          "metadata": {}
        }
      ],
      "source": [
        "rf_3 = RandomForestClassifier(\n",
        "    featuresCol='scaled_features',\n",
        "    labelCol='Anomalous', \n",
        "    weightCol='Weight', \n",
        "    impurity='entropy')\n",
        "\n",
        "rf_3_stages = stages + [rf_3]\n",
        "\n",
        "# Specify parameter grid\n",
        "rf_3_grid = ParamGridBuilder()\\\n",
        "            .addGrid(rf_3.maxDepth, [4, 5, 6, 7])\\\n",
        "            .build()"
      ]
    },
    {
      "cell_type": "code",
      "execution_count": 48,
      "metadata": {
        "id": "QYyi1EdZYzow",
        "colab": {
          "base_uri": "https://localhost:8080/",
          "height": 17
        },
        "outputId": "406ca112-90c4-4cb2-a30a-87bb7a3ce19c"
      },
      "outputs": [
        {
          "output_type": "display_data",
          "data": {
            "text/plain": [
              "<IPython.core.display.HTML object>"
            ],
            "text/html": [
              "\n",
              "    <style>\n",
              "      pre {\n",
              "          white-space: pre-wrap;\n",
              "      }\n",
              "    </style>\n",
              "    "
            ]
          },
          "metadata": {}
        }
      ],
      "source": [
        "# Run grid search using grid_search function\n",
        "if not os.path.isdir(drive_path + 'rf_3_model_full'):\n",
        "    rf_3_model = grid_search(stages_with_classifier=rf_3_stages, \n",
        "                             train_df=train_df_full, \n",
        "                             model_grid=rf_3_grid, \n",
        "                             parallelism=4, \n",
        "                             seed=7)"
      ]
    },
    {
      "cell_type": "code",
      "execution_count": 49,
      "metadata": {
        "id": "yXw0W31rbA7C",
        "colab": {
          "base_uri": "https://localhost:8080/",
          "height": 53
        },
        "outputId": "5ddbf9de-4022-4d64-e7df-cf0cd305a554"
      },
      "outputs": [
        {
          "output_type": "display_data",
          "data": {
            "text/plain": [
              "<IPython.core.display.HTML object>"
            ],
            "text/html": [
              "\n",
              "    <style>\n",
              "      pre {\n",
              "          white-space: pre-wrap;\n",
              "      }\n",
              "    </style>\n",
              "    "
            ]
          },
          "metadata": {}
        },
        {
          "output_type": "stream",
          "name": "stdout",
          "text": [
            "{Param(parent='RandomForestClassifier_b054c27078ef', name='maxDepth', doc='Maximum depth of the tree. (>= 0) E.g., depth 0 means 1 leaf node; depth 1 means 1 internal node + 2 leaf nodes. Must be in range [0, 30].'): 6}\n"
          ]
        }
      ],
      "source": [
        "# Save model, or upload if already saved\n",
        "if not os.path.isdir(drive_path + 'rf_3_model_full'):\n",
        "    rf_3_model.save(drive_path + 'rf_3_model_full')\n",
        "else:\n",
        "    rf_3_model = TrainValidationSplitModel.load(drive_path + 'rf_3_model_full')\n",
        "    print(rf_3_grid[np.argmax(rf_3_model.validationMetrics)])"
      ]
    },
    {
      "cell_type": "code",
      "execution_count": 50,
      "metadata": {
        "id": "wdSgcSMob1-F",
        "colab": {
          "base_uri": "https://localhost:8080/",
          "height": 499
        },
        "outputId": "379ea2a5-cd44-4e88-cf88-ce673b57ab92"
      },
      "outputs": [
        {
          "output_type": "display_data",
          "data": {
            "text/plain": [
              "<IPython.core.display.HTML object>"
            ],
            "text/html": [
              "\n",
              "    <style>\n",
              "      pre {\n",
              "          white-space: pre-wrap;\n",
              "      }\n",
              "    </style>\n",
              "    "
            ]
          },
          "metadata": {}
        },
        {
          "output_type": "stream",
          "name": "stdout",
          "text": [
            "RandomForestClassificationModel\n",
            "------------------------------- \n",
            "\n",
            "Training data:\n",
            "\n",
            "                  precision    recall  f1-score   support\n",
            "\n",
            "0: Non-anomalous      0.999     1.000     1.000   4686825\n",
            "    1: Anomalous      1.000     0.460     0.630      4900\n",
            "\n",
            "        accuracy                          0.999   4691725\n",
            "       macro avg      1.000     0.730     0.815   4691725\n",
            "    weighted avg      0.999     0.999     0.999   4691725\n",
            "\n",
            "------------------------------------------------------------ \n",
            "\n",
            "Testing data:\n",
            "\n",
            "                  precision    recall  f1-score   support\n",
            "\n",
            "0: Non-anomalous      0.999     0.992     0.996    704347\n",
            "    1: Anomalous      0.055     0.440     0.097       761\n",
            "\n",
            "        accuracy                          0.991    705108\n",
            "       macro avg      0.527     0.716     0.546    705108\n",
            "    weighted avg      0.998     0.991     0.995    705108\n",
            "\n"
          ]
        }
      ],
      "source": [
        "# Print model scores\n",
        "score_model(rf_3_model, train_df_full, test_df_full)"
      ]
    },
    {
      "cell_type": "code",
      "execution_count": 51,
      "metadata": {
        "id": "uqO9GKZNb2Jy",
        "colab": {
          "base_uri": "https://localhost:8080/",
          "height": 462
        },
        "outputId": "ffc6e7dd-dacd-4892-d8b0-91f8e7c5fbd4"
      },
      "outputs": [
        {
          "output_type": "display_data",
          "data": {
            "text/plain": [
              "<IPython.core.display.HTML object>"
            ],
            "text/html": [
              "\n",
              "    <style>\n",
              "      pre {\n",
              "          white-space: pre-wrap;\n",
              "      }\n",
              "    </style>\n",
              "    "
            ]
          },
          "metadata": {}
        },
        {
          "output_type": "display_data",
          "data": {
            "text/plain": [
              "<Figure size 1296x504 with 2 Axes>"
            ],
            "image/png": "[encoded data removed]"
          },
          "metadata": {
            "image/png": {
              "width": 625,
              "height": 445
            },
            "needs_background": "light"
          }
        }
      ],
      "source": [
        "# Plot model confusion matrix\n",
        "plot_confusion_matrix(rf_3_model, test_df_full)"
      ]
    },
    {
      "cell_type": "markdown",
      "metadata": {
        "id": "61anRQO4bHai"
      },
      "source": [
        "**Remarks:**\n",
        "- We got quite significant improvement with this random forest model in terms of improved precision in the minority class, but again, because the dataset is so imbalanced the F1 score is still overall far worse than the decision tree model with perfect precision.\n",
        "- Let's move on to our final model:  a multilayer perceptron classifier."
      ]
    },
    {
      "cell_type": "markdown",
      "metadata": {
        "id": "5sIuPjl3fkLx"
      },
      "source": [
        "<br>"
      ]
    },
    {
      "cell_type": "markdown",
      "metadata": {
        "id": "H3rqujUefraf"
      },
      "source": [
        "# Model 7.1: **Multilayer Perceptron Classifier**, Undersampled\n",
        "\n",
        "For our first multilayer perceptron (aka neural network) classifier, we'll use the unweighted, undersampled full dataset and go with a relatively middle-of-the-road one hidden layer with 30 nodes (to save time we won't grid search over this model)."
      ]
    },
    {
      "cell_type": "code",
      "source": [
        "train_df_full_resampled = spark_resample(df=train_df_full, oversample_fraction=1.0, undersample_fraction=0.1, \n",
        "                                         class_field='Anomalous', pos_class=1, shuffle=True, random_state=7)\n",
        "\n",
        "# Drop Weight column\n",
        "train_df_full_resampled = train_df_full_resampled.drop('Weight')\n",
        "# Print shape of resampled dataframe\n",
        "print(f\"train_df_full_resampled:  {train_df_full_resampled.count():,} Rows, {len(train_df_full_resampled.columns)} Columns\")\n",
        "# Display value counts for 'Label' column (classification target) of resampled dataframe\n",
        "resampled_class_counts = train_df_full_resampled.groupBy('Anomalous').count()\\\n",
        "                         .withColumn('percent', F.col('count')/train_df_full_resampled.count())\n",
        "\n",
        "resampled_class_counts.show(truncate=10)"
      ],
      "metadata": {
        "id": "gsjD0k8Sc7nA",
        "colab": {
          "base_uri": "https://localhost:8080/",
          "height": 160
        },
        "outputId": "ae2f1cbb-3d81-4429-f1ab-e16c40775f0c"
      },
      "execution_count": 52,
      "outputs": [
        {
          "output_type": "display_data",
          "data": {
            "text/plain": [
              "<IPython.core.display.HTML object>"
            ],
            "text/html": [
              "\n",
              "    <style>\n",
              "      pre {\n",
              "          white-space: pre-wrap;\n",
              "      }\n",
              "    </style>\n",
              "    "
            ]
          },
          "metadata": {}
        },
        {
          "output_type": "stream",
          "name": "stdout",
          "text": [
            "train_df_full_resampled:  474,129 Rows, 19 Columns\n",
            "+---------+------+----------+\n",
            "|Anomalous| count|   percent|\n",
            "+---------+------+----------+\n",
            "|        0|469229|0.98966...|\n",
            "|        1|  4900|0.01033...|\n",
            "+---------+------+----------+\n",
            "\n"
          ]
        }
      ]
    },
    {
      "cell_type": "code",
      "execution_count": 53,
      "metadata": {
        "id": "UAp0CuD4gQTt",
        "colab": {
          "base_uri": "https://localhost:8080/",
          "height": 17
        },
        "outputId": "9475f1c1-f7c3-4079-f4e8-eb436ddedb31"
      },
      "outputs": [
        {
          "output_type": "display_data",
          "data": {
            "text/plain": [
              "<IPython.core.display.HTML object>"
            ],
            "text/html": [
              "\n",
              "    <style>\n",
              "      pre {\n",
              "          white-space: pre-wrap;\n",
              "      }\n",
              "    </style>\n",
              "    "
            ]
          },
          "metadata": {}
        }
      ],
      "source": [
        "# Set classifier hyperparameters\n",
        "mlp_1 = MultilayerPerceptronClassifier(\n",
        "    featuresCol='scaled_features',\n",
        "    labelCol='Anomalous', \n",
        "    layers=[91, 30, 2])"
      ]
    },
    {
      "cell_type": "code",
      "execution_count": 54,
      "metadata": {
        "id": "4lAWrYqzY5RE",
        "colab": {
          "base_uri": "https://localhost:8080/",
          "height": 17
        },
        "outputId": "c974028d-c85f-4961-f845-1247a3a000b3"
      },
      "outputs": [
        {
          "output_type": "display_data",
          "data": {
            "text/plain": [
              "<IPython.core.display.HTML object>"
            ],
            "text/html": [
              "\n",
              "    <style>\n",
              "      pre {\n",
              "          white-space: pre-wrap;\n",
              "      }\n",
              "    </style>\n",
              "    "
            ]
          },
          "metadata": {}
        }
      ],
      "source": [
        "# Assign to pipeline\n",
        "mlp_1_pipeline = Pipeline(stages=stages + [mlp_1])\n",
        "\n",
        "# Fit to training data\n",
        "if not os.path.isdir(drive_path + 'mlp_1_model_full'):\n",
        "    mlp_1_model = mlp_1_pipeline.fit(train_df_full_resampled)"
      ]
    },
    {
      "cell_type": "code",
      "execution_count": 55,
      "metadata": {
        "id": "t3bPSaqGhidm",
        "colab": {
          "base_uri": "https://localhost:8080/",
          "height": 17
        },
        "outputId": "6a2e093c-8c0b-4ed0-9bb6-9fd70956ef9d"
      },
      "outputs": [
        {
          "output_type": "display_data",
          "data": {
            "text/plain": [
              "<IPython.core.display.HTML object>"
            ],
            "text/html": [
              "\n",
              "    <style>\n",
              "      pre {\n",
              "          white-space: pre-wrap;\n",
              "      }\n",
              "    </style>\n",
              "    "
            ]
          },
          "metadata": {}
        }
      ],
      "source": [
        "# Save model, or upload if already saved\n",
        "if not os.path.isdir(drive_path + 'mlp_1_model_full'):\n",
        "    mlp_1_model.save(drive_path + 'mlp_1_model_full')\n",
        "else:\n",
        "    mlp_1_model = PipelineModel.load(drive_path + 'mlp_1_model_full')"
      ]
    },
    {
      "cell_type": "code",
      "execution_count": 56,
      "metadata": {
        "id": "oEw0Y51zhr5l",
        "colab": {
          "base_uri": "https://localhost:8080/",
          "height": 499
        },
        "outputId": "15f5e523-82d8-4809-ad3f-69e7a8bfe681"
      },
      "outputs": [
        {
          "output_type": "display_data",
          "data": {
            "text/plain": [
              "<IPython.core.display.HTML object>"
            ],
            "text/html": [
              "\n",
              "    <style>\n",
              "      pre {\n",
              "          white-space: pre-wrap;\n",
              "      }\n",
              "    </style>\n",
              "    "
            ]
          },
          "metadata": {}
        },
        {
          "output_type": "stream",
          "name": "stdout",
          "text": [
            "MultilayerPerceptronClassificationModel\n",
            "--------------------------------------- \n",
            "\n",
            "Training data:\n",
            "\n",
            "                  precision    recall  f1-score   support\n",
            "\n",
            "0: Non-anomalous      0.997     0.999     0.998    469229\n",
            "    1: Anomalous      0.928     0.669     0.777      4900\n",
            "\n",
            "        accuracy                          0.996    474129\n",
            "       macro avg      0.962     0.834     0.888    474129\n",
            "    weighted avg      0.996     0.996     0.996    474129\n",
            "\n",
            "------------------------------------------------------------ \n",
            "\n",
            "Testing data:\n",
            "\n",
            "                  precision    recall  f1-score   support\n",
            "\n",
            "0: Non-anomalous      1.000     0.957     0.978    704347\n",
            "    1: Anomalous      0.017     0.669     0.032       761\n",
            "\n",
            "        accuracy                          0.957    705108\n",
            "       macro avg      0.508     0.813     0.505    705108\n",
            "    weighted avg      0.999     0.957     0.977    705108\n",
            "\n"
          ]
        }
      ],
      "source": [
        "# Print model scores\n",
        "score_model(mlp_1_model, train_df_full_resampled, test_df_full)"
      ]
    },
    {
      "cell_type": "code",
      "execution_count": 57,
      "metadata": {
        "id": "kekJWN9PhsBU",
        "colab": {
          "base_uri": "https://localhost:8080/",
          "height": 462
        },
        "outputId": "9ea7b116-3ad0-43a6-9b62-d4f8469f1ede"
      },
      "outputs": [
        {
          "output_type": "display_data",
          "data": {
            "text/plain": [
              "<IPython.core.display.HTML object>"
            ],
            "text/html": [
              "\n",
              "    <style>\n",
              "      pre {\n",
              "          white-space: pre-wrap;\n",
              "      }\n",
              "    </style>\n",
              "    "
            ]
          },
          "metadata": {}
        },
        {
          "output_type": "display_data",
          "data": {
            "text/plain": [
              "<Figure size 1296x504 with 2 Axes>"
            ],
            "image/png": "[encoded data removed]"
          },
          "metadata": {
            "image/png": {
              "width": 625,
              "height": 445
            },
            "needs_background": "light"
          }
        }
      ],
      "source": [
        "# Plot model confusion matrix\n",
        "plot_confusion_matrix(mlp_1_model, test_df_full)"
      ]
    },
    {
      "cell_type": "markdown",
      "source": [
        "**Remarks:**\n",
        "- Well we got a new high on positive class recall, but also a new high on positive class false positive rate which is dragging down the F1 score to a measly 0.032. It looks like the model is majorly overfitting, since the model did quite well on the training data with an F1 score of 0.779."
      ],
      "metadata": {
        "id": "74fjEL8dpJQg"
      }
    },
    {
      "cell_type": "markdown",
      "source": [
        "<br>"
      ],
      "metadata": {
        "id": "PSW3BNNlpKAS"
      }
    },
    {
      "cell_type": "markdown",
      "source": [
        "# Model 7.2: **Multilayer Perceptron Classifier** with Simpler Neural Network\n",
        "\n",
        "Let's try another MLP, but with more negative class observations this time and a simpler neural network in terms of number of nodes, but more layers, since our previous MLP was overfitting so heavily."
      ],
      "metadata": {
        "id": "5SSsue5vpKJ2"
      }
    },
    {
      "cell_type": "code",
      "source": [
        "train_df_full_resampled = spark_resample(df=train_df_full, oversample_fraction=1.0, undersample_fraction=0.5, \n",
        "                                         class_field='Anomalous', pos_class=1, shuffle=False, random_state=7)\n",
        "\n",
        "# Drop Weight column\n",
        "train_df_full_resampled = train_df_full_resampled.drop('Weight')\n",
        "# Print shape of resampled dataframe\n",
        "print(f\"train_df_full_resampled:  {train_df_full_resampled.count():,} Rows, {len(train_df_full_resampled.columns)} Columns\")\n",
        "# Display value counts for 'Label' column (classification target) of resampled dataframe\n",
        "resampled_class_counts = train_df_full_resampled.groupBy('Anomalous').count()\\\n",
        "                         .withColumn('percent', F.col('count')/train_df_full_resampled.count())\n",
        "\n",
        "resampled_class_counts.show(truncate=10)"
      ],
      "metadata": {
        "id": "wxXqP19uAIf5",
        "colab": {
          "base_uri": "https://localhost:8080/",
          "height": 160
        },
        "outputId": "107bc645-5616-4c78-833e-da9f120335b9"
      },
      "execution_count": 58,
      "outputs": [
        {
          "output_type": "display_data",
          "data": {
            "text/plain": [
              "<IPython.core.display.HTML object>"
            ],
            "text/html": [
              "\n",
              "    <style>\n",
              "      pre {\n",
              "          white-space: pre-wrap;\n",
              "      }\n",
              "    </style>\n",
              "    "
            ]
          },
          "metadata": {}
        },
        {
          "output_type": "stream",
          "name": "stdout",
          "text": [
            "train_df_full_resampled:  2,347,148 Rows, 19 Columns\n",
            "+---------+-------+----------+\n",
            "|Anomalous|  count|   percent|\n",
            "+---------+-------+----------+\n",
            "|        0|2342248|0.99791...|\n",
            "|        1|   4900|0.00208...|\n",
            "+---------+-------+----------+\n",
            "\n"
          ]
        }
      ]
    },
    {
      "cell_type": "code",
      "execution_count": 59,
      "metadata": {
        "id": "nWL3a8eIpKZf",
        "colab": {
          "base_uri": "https://localhost:8080/",
          "height": 17
        },
        "outputId": "486d036b-d543-4be3-de1d-fea37244627e"
      },
      "outputs": [
        {
          "output_type": "display_data",
          "data": {
            "text/plain": [
              "<IPython.core.display.HTML object>"
            ],
            "text/html": [
              "\n",
              "    <style>\n",
              "      pre {\n",
              "          white-space: pre-wrap;\n",
              "      }\n",
              "    </style>\n",
              "    "
            ]
          },
          "metadata": {}
        }
      ],
      "source": [
        "# Set classifier hyperparameters\n",
        "mlp_2 = MultilayerPerceptronClassifier(\n",
        "    featuresCol='scaled_features',\n",
        "    labelCol='Anomalous', \n",
        "    layers=[91, 15, 12, 8, 5, 2])"
      ]
    },
    {
      "cell_type": "code",
      "source": [
        "# Assign to pipeline\n",
        "mlp_2_pipeline = Pipeline(stages=stages + [mlp_2])\n",
        "\n",
        "# Fit to training data\n",
        "if not os.path.isdir(drive_path + 'mlp_2_model_full'):\n",
        "    mlp_2_model = mlp_2_pipeline.fit(train_df_full_resampled)"
      ],
      "metadata": {
        "id": "GbEVIXuV4za_",
        "colab": {
          "base_uri": "https://localhost:8080/",
          "height": 17
        },
        "outputId": "b7a45475-e16f-4bca-c31d-ed78461e741e"
      },
      "execution_count": 60,
      "outputs": [
        {
          "output_type": "display_data",
          "data": {
            "text/plain": [
              "<IPython.core.display.HTML object>"
            ],
            "text/html": [
              "\n",
              "    <style>\n",
              "      pre {\n",
              "          white-space: pre-wrap;\n",
              "      }\n",
              "    </style>\n",
              "    "
            ]
          },
          "metadata": {}
        }
      ]
    },
    {
      "cell_type": "code",
      "source": [
        "# Save model, or upload if already saved\n",
        "if not os.path.isdir(drive_path + 'mlp_2_model_full'):\n",
        "    mlp_2_model.save(drive_path + 'mlp_2_model_full')\n",
        "else:\n",
        "    mlp_2_model = PipelineModel.load(drive_path + 'mlp_2_model_full')"
      ],
      "metadata": {
        "id": "czzHMBAG4zq2",
        "colab": {
          "base_uri": "https://localhost:8080/",
          "height": 17
        },
        "outputId": "6e6a4188-5d2f-449b-e06e-2095e3d297ad"
      },
      "execution_count": 61,
      "outputs": [
        {
          "output_type": "display_data",
          "data": {
            "text/plain": [
              "<IPython.core.display.HTML object>"
            ],
            "text/html": [
              "\n",
              "    <style>\n",
              "      pre {\n",
              "          white-space: pre-wrap;\n",
              "      }\n",
              "    </style>\n",
              "    "
            ]
          },
          "metadata": {}
        }
      ]
    },
    {
      "cell_type": "code",
      "source": [
        "# Print model scores\n",
        "score_model(mlp_2_model, train_df_full_resampled, test_df_full)"
      ],
      "metadata": {
        "id": "M97zkits40DI",
        "colab": {
          "base_uri": "https://localhost:8080/",
          "height": 499
        },
        "outputId": "1cfbd229-8a93-4c34-f6c9-686026522a7c"
      },
      "execution_count": 62,
      "outputs": [
        {
          "output_type": "display_data",
          "data": {
            "text/plain": [
              "<IPython.core.display.HTML object>"
            ],
            "text/html": [
              "\n",
              "    <style>\n",
              "      pre {\n",
              "          white-space: pre-wrap;\n",
              "      }\n",
              "    </style>\n",
              "    "
            ]
          },
          "metadata": {}
        },
        {
          "output_type": "stream",
          "name": "stdout",
          "text": [
            "MultilayerPerceptronClassificationModel\n",
            "--------------------------------------- \n",
            "\n",
            "Training data:\n",
            "\n",
            "                  precision    recall  f1-score   support\n",
            "\n",
            "0: Non-anomalous      0.999     1.000     0.999   2342248\n",
            "    1: Anomalous      0.963     0.486     0.646      4900\n",
            "\n",
            "        accuracy                          0.999   2347148\n",
            "       macro avg      0.981     0.743     0.823   2347148\n",
            "    weighted avg      0.999     0.999     0.999   2347148\n",
            "\n",
            "------------------------------------------------------------ \n",
            "\n",
            "Testing data:\n",
            "\n",
            "                  precision    recall  f1-score   support\n",
            "\n",
            "0: Non-anomalous      0.999     0.999     0.999    704347\n",
            "    1: Anomalous      0.443     0.465     0.454       761\n",
            "\n",
            "        accuracy                          0.999    705108\n",
            "       macro avg      0.721     0.732     0.726    705108\n",
            "    weighted avg      0.999     0.999     0.999    705108\n",
            "\n"
          ]
        }
      ]
    },
    {
      "cell_type": "code",
      "source": [
        "# Plot model confusion matrix\n",
        "plot_confusion_matrix(mlp_2_model, test_df_full)"
      ],
      "metadata": {
        "id": "kh0B7NKW5Peb",
        "colab": {
          "base_uri": "https://localhost:8080/",
          "height": 462
        },
        "outputId": "1ca6ec26-daa4-4807-c434-79458d17f130"
      },
      "execution_count": 63,
      "outputs": [
        {
          "output_type": "display_data",
          "data": {
            "text/plain": [
              "<IPython.core.display.HTML object>"
            ],
            "text/html": [
              "\n",
              "    <style>\n",
              "      pre {\n",
              "          white-space: pre-wrap;\n",
              "      }\n",
              "    </style>\n",
              "    "
            ]
          },
          "metadata": {}
        },
        {
          "output_type": "display_data",
          "data": {
            "text/plain": [
              "<Figure size 1296x504 with 2 Axes>"
            ],
            "image/png": "[encoded data removed]"
          },
          "metadata": {
            "image/png": {
              "width": 625,
              "height": 445
            },
            "needs_background": "light"
          }
        }
      ]
    },
    {
      "cell_type": "markdown",
      "source": [
        "**Remarks:**\n",
        "- Interesting! We seem to be on to something here. Our recall is better than our best overall model so far, with only a very small handful of false positives. Let's take this model and ramp up what we changed: even more observations and layers."
      ],
      "metadata": {
        "id": "_nIbC59q8GGJ"
      }
    },
    {
      "cell_type": "markdown",
      "source": [
        "<br>"
      ],
      "metadata": {
        "id": "UzpSAvLjOA9d"
      }
    },
    {
      "cell_type": "markdown",
      "source": [
        "# Model 7.3: **Multilayer Perceptron Classifier** with More Hidden Layers\n",
        "\n",
        "We got some very promising results on our last MLP model after using lots of hidden layers with a small number of decreasing nodes in each. Let's continue down that road and see if we can get more improvement with the full dataset with even more hidden layers."
      ],
      "metadata": {
        "id": "QVlFBMpCOBI5"
      }
    },
    {
      "cell_type": "code",
      "source": [
        "# Set classifier hyperparameters\n",
        "mlp_3 = MultilayerPerceptronClassifier(\n",
        "    featuresCol='scaled_features',\n",
        "    labelCol='Anomalous', \n",
        "    layers=[91, 15, 12, 10, 8, 7, 5, 2])"
      ],
      "metadata": {
        "id": "ullhITiIOBR8",
        "colab": {
          "base_uri": "https://localhost:8080/",
          "height": 17
        },
        "outputId": "05c4a644-7366-4cf6-d259-d0e8485d24cc"
      },
      "execution_count": 64,
      "outputs": [
        {
          "output_type": "display_data",
          "data": {
            "text/plain": [
              "<IPython.core.display.HTML object>"
            ],
            "text/html": [
              "\n",
              "    <style>\n",
              "      pre {\n",
              "          white-space: pre-wrap;\n",
              "      }\n",
              "    </style>\n",
              "    "
            ]
          },
          "metadata": {}
        }
      ]
    },
    {
      "cell_type": "code",
      "source": [
        "# Assign to pipeline\n",
        "mlp_3_pipeline = Pipeline(stages=stages + [mlp_3])\n",
        "\n",
        "# Fit to training data\n",
        "if not os.path.isdir(drive_path + 'mlp_3_model_full'):\n",
        "    mlp_3_model = mlp_3_pipeline.fit(train_df_full_resampled)"
      ],
      "metadata": {
        "id": "yX7RSftXOBaH",
        "colab": {
          "base_uri": "https://localhost:8080/",
          "height": 17
        },
        "outputId": "24994bfd-a2c0-446e-e1c1-bcd5d07e8bb4"
      },
      "execution_count": 65,
      "outputs": [
        {
          "output_type": "display_data",
          "data": {
            "text/plain": [
              "<IPython.core.display.HTML object>"
            ],
            "text/html": [
              "\n",
              "    <style>\n",
              "      pre {\n",
              "          white-space: pre-wrap;\n",
              "      }\n",
              "    </style>\n",
              "    "
            ]
          },
          "metadata": {}
        }
      ]
    },
    {
      "cell_type": "code",
      "source": [
        "# Save model, or upload if already saved\n",
        "if not os.path.isdir(drive_path + 'mlp_3_model_full'):\n",
        "    mlp_3_model.save(drive_path + 'mlp_3_model_full')\n",
        "else:\n",
        "    mlp_3_model = PipelineModel.load(drive_path + 'mlp_3_model_full')"
      ],
      "metadata": {
        "id": "v8xiROjpOBhm",
        "colab": {
          "base_uri": "https://localhost:8080/",
          "height": 17
        },
        "outputId": "aa806d18-44ee-4e67-e2e5-b68eaa90cf25"
      },
      "execution_count": 66,
      "outputs": [
        {
          "output_type": "display_data",
          "data": {
            "text/plain": [
              "<IPython.core.display.HTML object>"
            ],
            "text/html": [
              "\n",
              "    <style>\n",
              "      pre {\n",
              "          white-space: pre-wrap;\n",
              "      }\n",
              "    </style>\n",
              "    "
            ]
          },
          "metadata": {}
        }
      ]
    },
    {
      "cell_type": "code",
      "source": [
        "# Print model scores\n",
        "score_model(mlp_3_model, train_df_full_resampled, test_df_full)"
      ],
      "metadata": {
        "id": "dVIIIB7AOBpL",
        "colab": {
          "base_uri": "https://localhost:8080/",
          "height": 499
        },
        "outputId": "89edf224-65b2-4ac5-f562-234f7fc54f41"
      },
      "execution_count": 67,
      "outputs": [
        {
          "output_type": "display_data",
          "data": {
            "text/plain": [
              "<IPython.core.display.HTML object>"
            ],
            "text/html": [
              "\n",
              "    <style>\n",
              "      pre {\n",
              "          white-space: pre-wrap;\n",
              "      }\n",
              "    </style>\n",
              "    "
            ]
          },
          "metadata": {}
        },
        {
          "output_type": "stream",
          "name": "stdout",
          "text": [
            "MultilayerPerceptronClassificationModel\n",
            "--------------------------------------- \n",
            "\n",
            "Training data:\n",
            "\n",
            "                  precision    recall  f1-score   support\n",
            "\n",
            "0: Non-anomalous      0.999     1.000     0.999   2342248\n",
            "    1: Anomalous      0.972     0.422     0.589      4900\n",
            "\n",
            "        accuracy                          0.999   2347148\n",
            "       macro avg      0.985     0.711     0.794   2347148\n",
            "    weighted avg      0.999     0.999     0.999   2347148\n",
            "\n",
            "------------------------------------------------------------ \n",
            "\n",
            "Testing data:\n",
            "\n",
            "                  precision    recall  f1-score   support\n",
            "\n",
            "0: Non-anomalous      0.999     1.000     1.000    704347\n",
            "    1: Anomalous      0.711     0.407     0.518       761\n",
            "\n",
            "        accuracy                          0.999    705108\n",
            "       macro avg      0.855     0.704     0.759    705108\n",
            "    weighted avg      0.999     0.999     0.999    705108\n",
            "\n"
          ]
        }
      ]
    },
    {
      "cell_type": "code",
      "source": [
        "# Plot model confusion matrix\n",
        "plot_confusion_matrix(mlp_3_model, test_df_full)"
      ],
      "metadata": {
        "id": "hlzyi6UeOBwL",
        "colab": {
          "base_uri": "https://localhost:8080/",
          "height": 462
        },
        "outputId": "9c69d638-6085-445f-ce1e-f63138e9eb9a"
      },
      "execution_count": 68,
      "outputs": [
        {
          "output_type": "display_data",
          "data": {
            "text/plain": [
              "<IPython.core.display.HTML object>"
            ],
            "text/html": [
              "\n",
              "    <style>\n",
              "      pre {\n",
              "          white-space: pre-wrap;\n",
              "      }\n",
              "    </style>\n",
              "    "
            ]
          },
          "metadata": {}
        },
        {
          "output_type": "display_data",
          "data": {
            "text/plain": [
              "<Figure size 1296x504 with 2 Axes>"
            ],
            "image/png": "[encoded data removed]"
          },
          "metadata": {
            "image/png": {
              "width": 625,
              "height": 445
            },
            "needs_background": "light"
          }
        }
      ]
    },
    {
      "cell_type": "markdown",
      "source": [
        "**Remarks:**\n",
        "- Our F1 score improved again! We're getting really close to our best model, but our recall is also approaching the best decision tree model now while we've still got a good deal of false positives. Let's try a bit more tuning to see if we can beat the decision tree."
      ],
      "metadata": {
        "id": "eYohRQiWOB3O"
      }
    },
    {
      "cell_type": "markdown",
      "source": [
        "<br>"
      ],
      "metadata": {
        "id": "JtjIA8t35IPQ"
      }
    },
    {
      "cell_type": "markdown",
      "source": [
        "# Model 7.4: **Multilayer Perceptron Classifier** with Even More Hidden Layers\n",
        "\n",
        "Let's try even more hidden layers with the same dataframe to see if we can keep improving the F1 score."
      ],
      "metadata": {
        "id": "qub_XsyF5IZQ"
      }
    },
    {
      "cell_type": "code",
      "source": [
        "# Set classifier hyperparameters\n",
        "mlp_4 = MultilayerPerceptronClassifier(\n",
        "    featuresCol='scaled_features',\n",
        "    labelCol='Anomalous', \n",
        "    layers=[91, 20, 15, 13, 12, 10, 8, 7, 5, 2])"
      ],
      "metadata": {
        "id": "zTp-EGVz5IgO",
        "colab": {
          "base_uri": "https://localhost:8080/",
          "height": 17
        },
        "outputId": "d882d198-c898-4a54-d840-f479cc79744e"
      },
      "execution_count": 69,
      "outputs": [
        {
          "output_type": "display_data",
          "data": {
            "text/plain": [
              "<IPython.core.display.HTML object>"
            ],
            "text/html": [
              "\n",
              "    <style>\n",
              "      pre {\n",
              "          white-space: pre-wrap;\n",
              "      }\n",
              "    </style>\n",
              "    "
            ]
          },
          "metadata": {}
        }
      ]
    },
    {
      "cell_type": "code",
      "source": [
        "# Assign to pipeline\n",
        "mlp_4_pipeline = Pipeline(stages=stages + [mlp_4])\n",
        "\n",
        "# Fit to training data\n",
        "if not os.path.isdir(drive_path + 'mlp_4_model_full'):\n",
        "    mlp_4_model = mlp_4_pipeline.fit(train_df_full_resampled)"
      ],
      "metadata": {
        "id": "7lZwDzHb5Il6",
        "colab": {
          "base_uri": "https://localhost:8080/",
          "height": 17
        },
        "outputId": "429c9159-1ef5-4805-92d4-efa802ed134c"
      },
      "execution_count": 70,
      "outputs": [
        {
          "output_type": "display_data",
          "data": {
            "text/plain": [
              "<IPython.core.display.HTML object>"
            ],
            "text/html": [
              "\n",
              "    <style>\n",
              "      pre {\n",
              "          white-space: pre-wrap;\n",
              "      }\n",
              "    </style>\n",
              "    "
            ]
          },
          "metadata": {}
        }
      ]
    },
    {
      "cell_type": "code",
      "source": [
        "# Save model, or upload if already saved\n",
        "if not os.path.isdir(drive_path + 'mlp_4_model_full'):\n",
        "    mlp_4_model.save(drive_path + 'mlp_4_model_full')\n",
        "else:\n",
        "    mlp_4_model = PipelineModel.load(drive_path + 'mlp_4_model_full')"
      ],
      "metadata": {
        "id": "6iodSRQD5Iq9",
        "colab": {
          "base_uri": "https://localhost:8080/",
          "height": 17
        },
        "outputId": "9953311e-b21d-4742-b9e0-be71be3adbf1"
      },
      "execution_count": 71,
      "outputs": [
        {
          "output_type": "display_data",
          "data": {
            "text/plain": [
              "<IPython.core.display.HTML object>"
            ],
            "text/html": [
              "\n",
              "    <style>\n",
              "      pre {\n",
              "          white-space: pre-wrap;\n",
              "      }\n",
              "    </style>\n",
              "    "
            ]
          },
          "metadata": {}
        }
      ]
    },
    {
      "cell_type": "code",
      "source": [
        "# Print model scores\n",
        "score_model(mlp_4_model, train_df_full_resampled, test_df_full)"
      ],
      "metadata": {
        "id": "aL1jc5Pg5IwW",
        "colab": {
          "base_uri": "https://localhost:8080/",
          "height": 499
        },
        "outputId": "bb0438bc-0a8c-465f-9e06-46bae8b8ea3a"
      },
      "execution_count": 72,
      "outputs": [
        {
          "output_type": "display_data",
          "data": {
            "text/plain": [
              "<IPython.core.display.HTML object>"
            ],
            "text/html": [
              "\n",
              "    <style>\n",
              "      pre {\n",
              "          white-space: pre-wrap;\n",
              "      }\n",
              "    </style>\n",
              "    "
            ]
          },
          "metadata": {}
        },
        {
          "output_type": "stream",
          "name": "stdout",
          "text": [
            "MultilayerPerceptronClassificationModel\n",
            "--------------------------------------- \n",
            "\n",
            "Training data:\n",
            "\n",
            "                  precision    recall  f1-score   support\n",
            "\n",
            "0: Non-anomalous      0.999     1.000     0.999   2342248\n",
            "    1: Anomalous      0.973     0.428     0.594      4900\n",
            "\n",
            "        accuracy                          0.999   2347148\n",
            "       macro avg      0.986     0.714     0.797   2347148\n",
            "    weighted avg      0.999     0.999     0.999   2347148\n",
            "\n",
            "------------------------------------------------------------ \n",
            "\n",
            "Testing data:\n",
            "\n",
            "                  precision    recall  f1-score   support\n",
            "\n",
            "0: Non-anomalous      0.999     1.000     1.000    704347\n",
            "    1: Anomalous      0.934     0.407     0.567       761\n",
            "\n",
            "        accuracy                          0.999    705108\n",
            "       macro avg      0.967     0.704     0.783    705108\n",
            "    weighted avg      0.999     0.999     0.999    705108\n",
            "\n"
          ]
        }
      ]
    },
    {
      "cell_type": "code",
      "source": [
        "# Plot model confusion matrix\n",
        "plot_confusion_matrix(mlp_4_model, test_df_full)"
      ],
      "metadata": {
        "id": "suF4PobZ5I0r",
        "colab": {
          "base_uri": "https://localhost:8080/",
          "height": 462
        },
        "outputId": "85d090f7-5433-4765-b797-90ca874db6a6"
      },
      "execution_count": 73,
      "outputs": [
        {
          "output_type": "display_data",
          "data": {
            "text/plain": [
              "<IPython.core.display.HTML object>"
            ],
            "text/html": [
              "\n",
              "    <style>\n",
              "      pre {\n",
              "          white-space: pre-wrap;\n",
              "      }\n",
              "    </style>\n",
              "    "
            ]
          },
          "metadata": {}
        },
        {
          "output_type": "display_data",
          "data": {
            "text/plain": [
              "<Figure size 1296x504 with 2 Axes>"
            ],
            "image/png": "[encoded data removed]"
          },
          "metadata": {
            "image/png": {
              "width": 625,
              "height": 445
            },
            "needs_background": "light"
          }
        }
      ]
    },
    {
      "cell_type": "markdown",
      "source": [
        "**Remarks:**\n",
        "- New high score! We didn't beat the previous best F1 score by much (0.017), but we got a new best. We correctly classified 310/761 anomalous transactions and had only 22 false positives."
      ],
      "metadata": {
        "id": "qD5HpiGj6BQk"
      }
    },
    {
      "cell_type": "markdown",
      "source": [
        "<br>"
      ],
      "metadata": {
        "id": "e9HDhw8N-Ds7"
      }
    },
    {
      "cell_type": "markdown",
      "source": [
        "# Results and Evaluation"
      ],
      "metadata": {
        "id": "pmFzL1aVG3sL"
      }
    },
    {
      "cell_type": "markdown",
      "source": [
        "## Dataframe of compiled model results - F1 scores\n",
        "\n",
        "Training and testing F1 scores for each model are compiled, along with testing precision and recall scores. Class weights and resampling method for each model are also included. Models are sorted by descending test F1 scores on anomalous transactions, with training F1 scores on anomalous transactions breaking the tie."
      ],
      "metadata": {
        "id": "fPIpyOSgG5-f"
      }
    },
    {
      "cell_type": "code",
      "source": [
        "columns = ['Model', 'Training F1 Score', 'Test F1 Score', 'Test Precision', 'Test Recall', 'Class Weights', 'Resampling']\n",
        "\n",
        "models = ['Model 0: Baseline Logistic Regression', 'Model 1.1: Logistic Regression 1', 'Model 1.2: Logistic Regression 2', \n",
        "          'Model 2.1: SVC 1', 'Model 2.2: SVC 2', 'Model 3.1: Naive Bayes Classifier 1', 'Model 4.1: Decision Tree Classifier 1', \n",
        "          'Model 5.1: GBT Classifier 1', 'Model 5.2: GBT Classifier 2', 'Model 4.2: Decision Tree Classifier 2', \n",
        "          'Model 6.1: Random Forest Classifier 1', 'Model 6.2: Random Forest Classifier 2', 'Model 6.3: Random Forest Classifier 3', \n",
        "          'Model 7.1: Multilayer Perceptron Classifier 1', 'Model 7.2: Multilayer Perceptron Classifier 2', \n",
        "          'Model 7.3: Multilayer Perceptron Classifier 3', 'Model 7.4: Multilayer Perceptron Classifier 4']\n",
        "\n",
        "train_f1_scores = [0.482, 0.314, 0.314, 0.314, 0.314, 0.031, 0.577, 0.671, 0.515, 0.578, 0.476, 0.630, 0.630, 0.779, 0.646, 0.589, 0.594]\n",
        "test_f1_scores = [0.019, 0.265, 0.265, 0.265, 0.265, 0.026, 0.555, 0.019, 0.015, 0.555, 0.487, 0.044, 0.097, 0.032, 0.454, 0.518, 0.567]\n",
        "test_precision_scores = [0.010, 1.000, 1.000, 1.000, 1.000, 0.014, 1.000, 0.010, 0.008, 1.000, 1.000, 0.023, 0.055, 0.017, 0.443, 0.711, 0.934]\n",
        "test_recall_scores = [0.294, 0.152, 0.152,0.152, 0.152, 0.180, 0.384, 0.562, 0.321, 0.384, 0.322, 0.452, 0.440, 0.669, 0.465, 0.407, 0.407]\n",
        "class_weights = ['Unweighted', 'Unweighted', 'Unweighted', 'Pos: 1.0, Neg: 0.1', 'Pos: 1.0, Neg: 0.5', 'Pos: 1.0, Neg: 0.01', 'Pos: 1.0, Neg: 0.1', \n",
        "                 'Pos: 1.0, Neg: 0.1', 'Unweighted', 'Unweighted', 'Unweighted', 'Unweighted', 'Unweighted', 'Unweighted', 'Unweighted', \n",
        "                 'Unweighted', 'Unweighted']\n",
        "resampling = ['Unsampled', 'Unsampled', 'Unsampled', 'Unsampled', 'Unsampled', 'Unsampled', 'Unsampled', 'Unsampled', 'Unsampled', 'Oversampled 10x', \n",
        "              'Oversampled 10x', 'Oversampled 10x, Undersampled 10x', 'Oversampled 20x', 'Undersampled 10x', 'Undersampled 2x', 'Undersampled 2x', \n",
        "              'Undersampled 2x']\n",
        "\n",
        "compiled_scores = list(zip(models, train_f1_scores, test_f1_scores, test_precision_scores, test_recall_scores, class_weights, resampling))\n",
        "\n",
        "compiled_f1_scores_df = pd.DataFrame(compiled_scores, columns=columns)\n",
        "compiled_f1_scores_df.sort_values(by=['Test F1 Score', 'Training F1 Score'], ascending=False)"
      ],
      "metadata": {
        "id": "ngLES-xOHr23",
        "colab": {
          "base_uri": "https://localhost:8080/",
          "height": 582
        },
        "outputId": "deac0c09-ad93-4c57-c2d0-a7b7212c3891"
      },
      "execution_count": 74,
      "outputs": [
        {
          "output_type": "display_data",
          "data": {
            "text/plain": [
              "<IPython.core.display.HTML object>"
            ],
            "text/html": [
              "\n",
              "    <style>\n",
              "      pre {\n",
              "          white-space: pre-wrap;\n",
              "      }\n",
              "    </style>\n",
              "    "
            ]
          },
          "metadata": {}
        },
        {
          "output_type": "execute_result",
          "data": {
            "text/plain": [
              "                                            Model  Training F1 Score  \\\n",
              "16  Model 7.4: Multilayer Perceptron Classifier 4              0.594   \n",
              "9           Model 4.2: Decision Tree Classifier 2              0.578   \n",
              "6           Model 4.1: Decision Tree Classifier 1              0.577   \n",
              "15  Model 7.3: Multilayer Perceptron Classifier 3              0.589   \n",
              "10          Model 6.1: Random Forest Classifier 1              0.476   \n",
              "14  Model 7.2: Multilayer Perceptron Classifier 2              0.646   \n",
              "1                Model 1.1: Logistic Regression 1              0.314   \n",
              "2                Model 1.2: Logistic Regression 2              0.314   \n",
              "3                                Model 2.1: SVC 1              0.314   \n",
              "4                                Model 2.2: SVC 2              0.314   \n",
              "12          Model 6.3: Random Forest Classifier 3              0.630   \n",
              "11          Model 6.2: Random Forest Classifier 2              0.630   \n",
              "13  Model 7.1: Multilayer Perceptron Classifier 1              0.779   \n",
              "5             Model 3.1: Naive Bayes Classifier 1              0.031   \n",
              "7                     Model 5.1: GBT Classifier 1              0.671   \n",
              "0           Model 0: Baseline Logistic Regression              0.482   \n",
              "8                     Model 5.2: GBT Classifier 2              0.515   \n",
              "\n",
              "    Test F1 Score  Test Precision  Test Recall        Class Weights  \\\n",
              "16          0.567           0.934        0.407           Unweighted   \n",
              "9           0.555           1.000        0.384           Unweighted   \n",
              "6           0.555           1.000        0.384   Pos: 1.0, Neg: 0.1   \n",
              "15          0.518           0.711        0.407           Unweighted   \n",
              "10          0.487           1.000        0.322           Unweighted   \n",
              "14          0.454           0.443        0.465           Unweighted   \n",
              "1           0.265           1.000        0.152           Unweighted   \n",
              "2           0.265           1.000        0.152           Unweighted   \n",
              "3           0.265           1.000        0.152   Pos: 1.0, Neg: 0.1   \n",
              "4           0.265           1.000        0.152   Pos: 1.0, Neg: 0.5   \n",
              "12          0.097           0.055        0.440           Unweighted   \n",
              "11          0.044           0.023        0.452           Unweighted   \n",
              "13          0.032           0.017        0.669           Unweighted   \n",
              "5           0.026           0.014        0.180  Pos: 1.0, Neg: 0.01   \n",
              "7           0.019           0.010        0.562   Pos: 1.0, Neg: 0.1   \n",
              "0           0.019           0.010        0.294           Unweighted   \n",
              "8           0.015           0.008        0.321           Unweighted   \n",
              "\n",
              "                           Resampling  \n",
              "16                    Undersampled 2x  \n",
              "9                     Oversampled 10x  \n",
              "6                           Unsampled  \n",
              "15                    Undersampled 2x  \n",
              "10                    Oversampled 10x  \n",
              "14                    Undersampled 2x  \n",
              "1                           Unsampled  \n",
              "2                           Unsampled  \n",
              "3                           Unsampled  \n",
              "4                           Unsampled  \n",
              "12                    Oversampled 20x  \n",
              "11  Oversampled 10x, Undersampled 10x  \n",
              "13                   Undersampled 10x  \n",
              "5                           Unsampled  \n",
              "7                           Unsampled  \n",
              "0                           Unsampled  \n",
              "8                           Unsampled  "
            ],
            "text/html": [
              "\n",
              "  <div id=\"df-85a833ec-b3dd-4135-a9df-ed398f6dd4e3\">\n",
              "    <div class=\"colab-df-container\">\n",
              "      <div>\n",
              "<style scoped>\n",
              "    .dataframe tbody tr th:only-of-type {\n",
              "        vertical-align: middle;\n",
              "    }\n",
              "\n",
              "    .dataframe tbody tr th {\n",
              "        vertical-align: top;\n",
              "    }\n",
              "\n",
              "    .dataframe thead th {\n",
              "        text-align: right;\n",
              "    }\n",
              "</style>\n",
              "<table border=\"1\" class=\"dataframe\">\n",
              "  <thead>\n",
              "    <tr style=\"text-align: right;\">\n",
              "      <th></th>\n",
              "      <th>Model</th>\n",
              "      <th>Training F1 Score</th>\n",
              "      <th>Test F1 Score</th>\n",
              "      <th>Test Precision</th>\n",
              "      <th>Test Recall</th>\n",
              "      <th>Class Weights</th>\n",
              "      <th>Resampling</th>\n",
              "    </tr>\n",
              "  </thead>\n",
              "  <tbody>\n",
              "    <tr>\n",
              "      <th>16</th>\n",
              "      <td>Model 7.4: Multilayer Perceptron Classifier 4</td>\n",
              "      <td>0.594</td>\n",
              "      <td>0.567</td>\n",
              "      <td>0.934</td>\n",
              "      <td>0.407</td>\n",
              "      <td>Unweighted</td>\n",
              "      <td>Undersampled 2x</td>\n",
              "    </tr>\n",
              "    <tr>\n",
              "      <th>9</th>\n",
              "      <td>Model 4.2: Decision Tree Classifier 2</td>\n",
              "      <td>0.578</td>\n",
              "      <td>0.555</td>\n",
              "      <td>1.000</td>\n",
              "      <td>0.384</td>\n",
              "      <td>Unweighted</td>\n",
              "      <td>Oversampled 10x</td>\n",
              "    </tr>\n",
              "    <tr>\n",
              "      <th>6</th>\n",
              "      <td>Model 4.1: Decision Tree Classifier 1</td>\n",
              "      <td>0.577</td>\n",
              "      <td>0.555</td>\n",
              "      <td>1.000</td>\n",
              "      <td>0.384</td>\n",
              "      <td>Pos: 1.0, Neg: 0.1</td>\n",
              "      <td>Unsampled</td>\n",
              "    </tr>\n",
              "    <tr>\n",
              "      <th>15</th>\n",
              "      <td>Model 7.3: Multilayer Perceptron Classifier 3</td>\n",
              "      <td>0.589</td>\n",
              "      <td>0.518</td>\n",
              "      <td>0.711</td>\n",
              "      <td>0.407</td>\n",
              "      <td>Unweighted</td>\n",
              "      <td>Undersampled 2x</td>\n",
              "    </tr>\n",
              "    <tr>\n",
              "      <th>10</th>\n",
              "      <td>Model 6.1: Random Forest Classifier 1</td>\n",
              "      <td>0.476</td>\n",
              "      <td>0.487</td>\n",
              "      <td>1.000</td>\n",
              "      <td>0.322</td>\n",
              "      <td>Unweighted</td>\n",
              "      <td>Oversampled 10x</td>\n",
              "    </tr>\n",
              "    <tr>\n",
              "      <th>14</th>\n",
              "      <td>Model 7.2: Multilayer Perceptron Classifier 2</td>\n",
              "      <td>0.646</td>\n",
              "      <td>0.454</td>\n",
              "      <td>0.443</td>\n",
              "      <td>0.465</td>\n",
              "      <td>Unweighted</td>\n",
              "      <td>Undersampled 2x</td>\n",
              "    </tr>\n",
              "    <tr>\n",
              "      <th>1</th>\n",
              "      <td>Model 1.1: Logistic Regression 1</td>\n",
              "      <td>0.314</td>\n",
              "      <td>0.265</td>\n",
              "      <td>1.000</td>\n",
              "      <td>0.152</td>\n",
              "      <td>Unweighted</td>\n",
              "      <td>Unsampled</td>\n",
              "    </tr>\n",
              "    <tr>\n",
              "      <th>2</th>\n",
              "      <td>Model 1.2: Logistic Regression 2</td>\n",
              "      <td>0.314</td>\n",
              "      <td>0.265</td>\n",
              "      <td>1.000</td>\n",
              "      <td>0.152</td>\n",
              "      <td>Unweighted</td>\n",
              "      <td>Unsampled</td>\n",
              "    </tr>\n",
              "    <tr>\n",
              "      <th>3</th>\n",
              "      <td>Model 2.1: SVC 1</td>\n",
              "      <td>0.314</td>\n",
              "      <td>0.265</td>\n",
              "      <td>1.000</td>\n",
              "      <td>0.152</td>\n",
              "      <td>Pos: 1.0, Neg: 0.1</td>\n",
              "      <td>Unsampled</td>\n",
              "    </tr>\n",
              "    <tr>\n",
              "      <th>4</th>\n",
              "      <td>Model 2.2: SVC 2</td>\n",
              "      <td>0.314</td>\n",
              "      <td>0.265</td>\n",
              "      <td>1.000</td>\n",
              "      <td>0.152</td>\n",
              "      <td>Pos: 1.0, Neg: 0.5</td>\n",
              "      <td>Unsampled</td>\n",
              "    </tr>\n",
              "    <tr>\n",
              "      <th>12</th>\n",
              "      <td>Model 6.3: Random Forest Classifier 3</td>\n",
              "      <td>0.630</td>\n",
              "      <td>0.097</td>\n",
              "      <td>0.055</td>\n",
              "      <td>0.440</td>\n",
              "      <td>Unweighted</td>\n",
              "      <td>Oversampled 20x</td>\n",
              "    </tr>\n",
              "    <tr>\n",
              "      <th>11</th>\n",
              "      <td>Model 6.2: Random Forest Classifier 2</td>\n",
              "      <td>0.630</td>\n",
              "      <td>0.044</td>\n",
              "      <td>0.023</td>\n",
              "      <td>0.452</td>\n",
              "      <td>Unweighted</td>\n",
              "      <td>Oversampled 10x, Undersampled 10x</td>\n",
              "    </tr>\n",
              "    <tr>\n",
              "      <th>13</th>\n",
              "      <td>Model 7.1: Multilayer Perceptron Classifier 1</td>\n",
              "      <td>0.779</td>\n",
              "      <td>0.032</td>\n",
              "      <td>0.017</td>\n",
              "      <td>0.669</td>\n",
              "      <td>Unweighted</td>\n",
              "      <td>Undersampled 10x</td>\n",
              "    </tr>\n",
              "    <tr>\n",
              "      <th>5</th>\n",
              "      <td>Model 3.1: Naive Bayes Classifier 1</td>\n",
              "      <td>0.031</td>\n",
              "      <td>0.026</td>\n",
              "      <td>0.014</td>\n",
              "      <td>0.180</td>\n",
              "      <td>Pos: 1.0, Neg: 0.01</td>\n",
              "      <td>Unsampled</td>\n",
              "    </tr>\n",
              "    <tr>\n",
              "      <th>7</th>\n",
              "      <td>Model 5.1: GBT Classifier 1</td>\n",
              "      <td>0.671</td>\n",
              "      <td>0.019</td>\n",
              "      <td>0.010</td>\n",
              "      <td>0.562</td>\n",
              "      <td>Pos: 1.0, Neg: 0.1</td>\n",
              "      <td>Unsampled</td>\n",
              "    </tr>\n",
              "    <tr>\n",
              "      <th>0</th>\n",
              "      <td>Model 0: Baseline Logistic Regression</td>\n",
              "      <td>0.482</td>\n",
              "      <td>0.019</td>\n",
              "      <td>0.010</td>\n",
              "      <td>0.294</td>\n",
              "      <td>Unweighted</td>\n",
              "      <td>Unsampled</td>\n",
              "    </tr>\n",
              "    <tr>\n",
              "      <th>8</th>\n",
              "      <td>Model 5.2: GBT Classifier 2</td>\n",
              "      <td>0.515</td>\n",
              "      <td>0.015</td>\n",
              "      <td>0.008</td>\n",
              "      <td>0.321</td>\n",
              "      <td>Unweighted</td>\n",
              "      <td>Unsampled</td>\n",
              "    </tr>\n",
              "  </tbody>\n",
              "</table>\n",
              "</div>\n",
              "      <button class=\"colab-df-convert\" onclick=\"convertToInteractive('df-85a833ec-b3dd-4135-a9df-ed398f6dd4e3')\"\n",
              "              title=\"Convert this dataframe to an interactive table.\"\n",
              "              style=\"display:none;\">\n",
              "        \n",
              "  <svg xmlns=\"http://www.w3.org/2000/svg\" height=\"24px\"viewBox=\"0 0 24 24\"\n",
              "       width=\"24px\">\n",
              "    <path d=\"M0 0h24v24H0V0z\" fill=\"none\"/>\n",
              "    <path d=\"M18.56 5.44l.94 2.06.94-2.06 2.06-.94-2.06-.94-.94-2.06-.94 2.06-2.06.94zm-11 1L8.5 8.5l.94-2.06 2.06-.94-2.06-.94L8.5 2.5l-.94 2.06-2.06.94zm10 10l.94 2.06.94-2.06 2.06-.94-2.06-.94-.94-2.06-.94 2.06-2.06.94z\"/><path d=\"M17.41 7.96l-1.37-1.37c-.4-.4-.92-.59-1.43-.59-.52 0-1.04.2-1.43.59L10.3 9.45l-7.72 7.72c-.78.78-.78 2.05 0 2.83L4 21.41c.39.39.9.59 1.41.59.51 0 1.02-.2 1.41-.59l7.78-7.78 2.81-2.81c.8-.78.8-2.07 0-2.86zM5.41 20L4 18.59l7.72-7.72 1.47 1.35L5.41 20z\"/>\n",
              "  </svg>\n",
              "      </button>\n",
              "      \n",
              "  <style>\n",
              "    .colab-df-container {\n",
              "      display:flex;\n",
              "      flex-wrap:wrap;\n",
              "      gap: 12px;\n",
              "    }\n",
              "\n",
              "    .colab-df-convert {\n",
              "      background-color: #E8F0FE;\n",
              "      border: none;\n",
              "      border-radius: 50%;\n",
              "      cursor: pointer;\n",
              "      display: none;\n",
              "      fill: #1967D2;\n",
              "      height: 32px;\n",
              "      padding: 0 0 0 0;\n",
              "      width: 32px;\n",
              "    }\n",
              "\n",
              "    .colab-df-convert:hover {\n",
              "      background-color: #E2EBFA;\n",
              "      box-shadow: 0px 1px 2px rgba(60, 64, 67, 0.3), 0px 1px 3px 1px rgba(60, 64, 67, 0.15);\n",
              "      fill: #174EA6;\n",
              "    }\n",
              "\n",
              "    [theme=dark] .colab-df-convert {\n",
              "      background-color: #3B4455;\n",
              "      fill: #D2E3FC;\n",
              "    }\n",
              "\n",
              "    [theme=dark] .colab-df-convert:hover {\n",
              "      background-color: #434B5C;\n",
              "      box-shadow: 0px 1px 3px 1px rgba(0, 0, 0, 0.15);\n",
              "      filter: drop-shadow(0px 1px 2px rgba(0, 0, 0, 0.3));\n",
              "      fill: #FFFFFF;\n",
              "    }\n",
              "  </style>\n",
              "\n",
              "      <script>\n",
              "        const buttonEl =\n",
              "          document.querySelector('#df-85a833ec-b3dd-4135-a9df-ed398f6dd4e3 button.colab-df-convert');\n",
              "        buttonEl.style.display =\n",
              "          google.colab.kernel.accessAllowed ? 'block' : 'none';\n",
              "\n",
              "        async function convertToInteractive(key) {\n",
              "          const element = document.querySelector('#df-85a833ec-b3dd-4135-a9df-ed398f6dd4e3');\n",
              "          const dataTable =\n",
              "            await google.colab.kernel.invokeFunction('convertToInteractive',\n",
              "                                                     [key], {});\n",
              "          if (!dataTable) return;\n",
              "\n",
              "          const docLinkHtml = 'Like what you see? Visit the ' +\n",
              "            '<a target=\"_blank\" href=https://colab.research.google.com/notebooks/data_table.ipynb>data table notebook</a>'\n",
              "            + ' to learn more about interactive tables.';\n",
              "          element.innerHTML = '';\n",
              "          dataTable['output_type'] = 'display_data';\n",
              "          await google.colab.output.renderOutput(dataTable, element);\n",
              "          const docLink = document.createElement('div');\n",
              "          docLink.innerHTML = docLinkHtml;\n",
              "          element.appendChild(docLink);\n",
              "        }\n",
              "      </script>\n",
              "    </div>\n",
              "  </div>\n",
              "  "
            ]
          },
          "metadata": {},
          "execution_count": 74
        }
      ]
    },
    {
      "cell_type": "markdown",
      "source": [
        "<br>"
      ],
      "metadata": {
        "id": "WUnlIo65BWA2"
      }
    },
    {
      "cell_type": "markdown",
      "source": [
        "## Compile and visualize feature importances\n",
        "\n",
        "Here we visualize feature importances for the best performing random forest model. We use the random forest model, even though it wasn't the best performing model overall, because as of now it appears to be the only classifier in PySpark that has functionality for extracting feature importances."
      ],
      "metadata": {
        "id": "MEVlwPlmBZh8"
      }
    },
    {
      "cell_type": "code",
      "source": [
        "# Assign random forest model vector assembler to variable to extract feature names\n",
        "va = rf_1_model.bestModel.stages[-3]\n",
        "# Assign random forest classifier to variable\n",
        "random_forest = rf_1_model.bestModel.stages[-1]\n",
        "\n",
        "# Print high-level classifier parameters\n",
        "display(random_forest)\n",
        "print()\n",
        "# Get feature importances\n",
        "feature_importances = list(zip(va.getInputCols(), random_forest.featureImportances))"
      ],
      "metadata": {
        "id": "y6zzI6M0MU9X",
        "colab": {
          "base_uri": "https://localhost:8080/",
          "height": 53
        },
        "outputId": "41c8d9f8-097e-4c07-85fe-6dc2e6557232"
      },
      "execution_count": 75,
      "outputs": [
        {
          "output_type": "display_data",
          "data": {
            "text/plain": [
              "<IPython.core.display.HTML object>"
            ],
            "text/html": [
              "\n",
              "    <style>\n",
              "      pre {\n",
              "          white-space: pre-wrap;\n",
              "      }\n",
              "    </style>\n",
              "    "
            ]
          },
          "metadata": {}
        },
        {
          "output_type": "display_data",
          "data": {
            "text/plain": [
              "RandomForestClassificationModel: uid=RandomForestClassifier_7ad0f393a278, numTrees=20, numClasses=2, numFeatures=91"
            ]
          },
          "metadata": {}
        },
        {
          "output_type": "stream",
          "name": "stdout",
          "text": [
            "\n"
          ]
        }
      ]
    },
    {
      "cell_type": "code",
      "source": [
        "columns = ['Feature', 'Importance']\n",
        "feature_importances_df = pd.DataFrame(feature_importances, columns=columns).sort_values(by='Importance', ascending=False)\n",
        "feature_importances_df"
      ],
      "metadata": {
        "id": "yKlUtiSYCSg6",
        "colab": {
          "base_uri": "https://localhost:8080/",
          "height": 614
        },
        "outputId": "4764b110-e30c-42da-c972-1173e76cf4f0"
      },
      "execution_count": 76,
      "outputs": [
        {
          "output_type": "display_data",
          "data": {
            "text/plain": [
              "<IPython.core.display.HTML object>"
            ],
            "text/html": [
              "\n",
              "    <style>\n",
              "      pre {\n",
              "          white-space: pre-wrap;\n",
              "      }\n",
              "    </style>\n",
              "    "
            ]
          },
          "metadata": {}
        },
        {
          "output_type": "execute_result",
          "data": {
            "text/plain": [
              "                         Feature  Importance\n",
              "8                        Flagged    0.013399\n",
              "3   BeneficiaryCountry_index_ohe    0.013126\n",
              "9            OrderingCountryFreq    0.012029\n",
              "13            SenderCurrencyFreq    0.011976\n",
              "14          SenderCurrencyAmtAvg    0.010802\n",
              "10        BeneficiaryCountryFreq    0.010369\n",
              "16                  ReceiverFreq    0.008728\n",
              "1   InstructedCurrency_index_ohe    0.006837\n",
              "12                SenderHourFreq    0.004918\n",
              "5        FinalReceiver_index_ohe    0.004792\n",
              "7       IntermediaryTransactions    0.003764\n",
              "4       OriginalSender_index_ohe    0.003653\n",
              "6            InstructedAmountUSD    0.003525\n",
              "11                          Hour    0.002088\n",
              "2      OrderingCountry_index_ohe    0.000984\n",
              "17            SenderReceiverFreq    0.000006\n",
              "15                    SenderFreq    0.000000\n",
              "0   SettlementCurrency_index_ohe    0.000000"
            ],
            "text/html": [
              "\n",
              "  <div id=\"df-93612b23-6828-48bf-ac65-dd1ee57e6bfb\">\n",
              "    <div class=\"colab-df-container\">\n",
              "      <div>\n",
              "<style scoped>\n",
              "    .dataframe tbody tr th:only-of-type {\n",
              "        vertical-align: middle;\n",
              "    }\n",
              "\n",
              "    .dataframe tbody tr th {\n",
              "        vertical-align: top;\n",
              "    }\n",
              "\n",
              "    .dataframe thead th {\n",
              "        text-align: right;\n",
              "    }\n",
              "</style>\n",
              "<table border=\"1\" class=\"dataframe\">\n",
              "  <thead>\n",
              "    <tr style=\"text-align: right;\">\n",
              "      <th></th>\n",
              "      <th>Feature</th>\n",
              "      <th>Importance</th>\n",
              "    </tr>\n",
              "  </thead>\n",
              "  <tbody>\n",
              "    <tr>\n",
              "      <th>8</th>\n",
              "      <td>Flagged</td>\n",
              "      <td>0.013399</td>\n",
              "    </tr>\n",
              "    <tr>\n",
              "      <th>3</th>\n",
              "      <td>BeneficiaryCountry_index_ohe</td>\n",
              "      <td>0.013126</td>\n",
              "    </tr>\n",
              "    <tr>\n",
              "      <th>9</th>\n",
              "      <td>OrderingCountryFreq</td>\n",
              "      <td>0.012029</td>\n",
              "    </tr>\n",
              "    <tr>\n",
              "      <th>13</th>\n",
              "      <td>SenderCurrencyFreq</td>\n",
              "      <td>0.011976</td>\n",
              "    </tr>\n",
              "    <tr>\n",
              "      <th>14</th>\n",
              "      <td>SenderCurrencyAmtAvg</td>\n",
              "      <td>0.010802</td>\n",
              "    </tr>\n",
              "    <tr>\n",
              "      <th>10</th>\n",
              "      <td>BeneficiaryCountryFreq</td>\n",
              "      <td>0.010369</td>\n",
              "    </tr>\n",
              "    <tr>\n",
              "      <th>16</th>\n",
              "      <td>ReceiverFreq</td>\n",
              "      <td>0.008728</td>\n",
              "    </tr>\n",
              "    <tr>\n",
              "      <th>1</th>\n",
              "      <td>InstructedCurrency_index_ohe</td>\n",
              "      <td>0.006837</td>\n",
              "    </tr>\n",
              "    <tr>\n",
              "      <th>12</th>\n",
              "      <td>SenderHourFreq</td>\n",
              "      <td>0.004918</td>\n",
              "    </tr>\n",
              "    <tr>\n",
              "      <th>5</th>\n",
              "      <td>FinalReceiver_index_ohe</td>\n",
              "      <td>0.004792</td>\n",
              "    </tr>\n",
              "    <tr>\n",
              "      <th>7</th>\n",
              "      <td>IntermediaryTransactions</td>\n",
              "      <td>0.003764</td>\n",
              "    </tr>\n",
              "    <tr>\n",
              "      <th>4</th>\n",
              "      <td>OriginalSender_index_ohe</td>\n",
              "      <td>0.003653</td>\n",
              "    </tr>\n",
              "    <tr>\n",
              "      <th>6</th>\n",
              "      <td>InstructedAmountUSD</td>\n",
              "      <td>0.003525</td>\n",
              "    </tr>\n",
              "    <tr>\n",
              "      <th>11</th>\n",
              "      <td>Hour</td>\n",
              "      <td>0.002088</td>\n",
              "    </tr>\n",
              "    <tr>\n",
              "      <th>2</th>\n",
              "      <td>OrderingCountry_index_ohe</td>\n",
              "      <td>0.000984</td>\n",
              "    </tr>\n",
              "    <tr>\n",
              "      <th>17</th>\n",
              "      <td>SenderReceiverFreq</td>\n",
              "      <td>0.000006</td>\n",
              "    </tr>\n",
              "    <tr>\n",
              "      <th>15</th>\n",
              "      <td>SenderFreq</td>\n",
              "      <td>0.000000</td>\n",
              "    </tr>\n",
              "    <tr>\n",
              "      <th>0</th>\n",
              "      <td>SettlementCurrency_index_ohe</td>\n",
              "      <td>0.000000</td>\n",
              "    </tr>\n",
              "  </tbody>\n",
              "</table>\n",
              "</div>\n",
              "      <button class=\"colab-df-convert\" onclick=\"convertToInteractive('df-93612b23-6828-48bf-ac65-dd1ee57e6bfb')\"\n",
              "              title=\"Convert this dataframe to an interactive table.\"\n",
              "              style=\"display:none;\">\n",
              "        \n",
              "  <svg xmlns=\"http://www.w3.org/2000/svg\" height=\"24px\"viewBox=\"0 0 24 24\"\n",
              "       width=\"24px\">\n",
              "    <path d=\"M0 0h24v24H0V0z\" fill=\"none\"/>\n",
              "    <path d=\"M18.56 5.44l.94 2.06.94-2.06 2.06-.94-2.06-.94-.94-2.06-.94 2.06-2.06.94zm-11 1L8.5 8.5l.94-2.06 2.06-.94-2.06-.94L8.5 2.5l-.94 2.06-2.06.94zm10 10l.94 2.06.94-2.06 2.06-.94-2.06-.94-.94-2.06-.94 2.06-2.06.94z\"/><path d=\"M17.41 7.96l-1.37-1.37c-.4-.4-.92-.59-1.43-.59-.52 0-1.04.2-1.43.59L10.3 9.45l-7.72 7.72c-.78.78-.78 2.05 0 2.83L4 21.41c.39.39.9.59 1.41.59.51 0 1.02-.2 1.41-.59l7.78-7.78 2.81-2.81c.8-.78.8-2.07 0-2.86zM5.41 20L4 18.59l7.72-7.72 1.47 1.35L5.41 20z\"/>\n",
              "  </svg>\n",
              "      </button>\n",
              "      \n",
              "  <style>\n",
              "    .colab-df-container {\n",
              "      display:flex;\n",
              "      flex-wrap:wrap;\n",
              "      gap: 12px;\n",
              "    }\n",
              "\n",
              "    .colab-df-convert {\n",
              "      background-color: #E8F0FE;\n",
              "      border: none;\n",
              "      border-radius: 50%;\n",
              "      cursor: pointer;\n",
              "      display: none;\n",
              "      fill: #1967D2;\n",
              "      height: 32px;\n",
              "      padding: 0 0 0 0;\n",
              "      width: 32px;\n",
              "    }\n",
              "\n",
              "    .colab-df-convert:hover {\n",
              "      background-color: #E2EBFA;\n",
              "      box-shadow: 0px 1px 2px rgba(60, 64, 67, 0.3), 0px 1px 3px 1px rgba(60, 64, 67, 0.15);\n",
              "      fill: #174EA6;\n",
              "    }\n",
              "\n",
              "    [theme=dark] .colab-df-convert {\n",
              "      background-color: #3B4455;\n",
              "      fill: #D2E3FC;\n",
              "    }\n",
              "\n",
              "    [theme=dark] .colab-df-convert:hover {\n",
              "      background-color: #434B5C;\n",
              "      box-shadow: 0px 1px 3px 1px rgba(0, 0, 0, 0.15);\n",
              "      filter: drop-shadow(0px 1px 2px rgba(0, 0, 0, 0.3));\n",
              "      fill: #FFFFFF;\n",
              "    }\n",
              "  </style>\n",
              "\n",
              "      <script>\n",
              "        const buttonEl =\n",
              "          document.querySelector('#df-93612b23-6828-48bf-ac65-dd1ee57e6bfb button.colab-df-convert');\n",
              "        buttonEl.style.display =\n",
              "          google.colab.kernel.accessAllowed ? 'block' : 'none';\n",
              "\n",
              "        async function convertToInteractive(key) {\n",
              "          const element = document.querySelector('#df-93612b23-6828-48bf-ac65-dd1ee57e6bfb');\n",
              "          const dataTable =\n",
              "            await google.colab.kernel.invokeFunction('convertToInteractive',\n",
              "                                                     [key], {});\n",
              "          if (!dataTable) return;\n",
              "\n",
              "          const docLinkHtml = 'Like what you see? Visit the ' +\n",
              "            '<a target=\"_blank\" href=https://colab.research.google.com/notebooks/data_table.ipynb>data table notebook</a>'\n",
              "            + ' to learn more about interactive tables.';\n",
              "          element.innerHTML = '';\n",
              "          dataTable['output_type'] = 'display_data';\n",
              "          await google.colab.output.renderOutput(dataTable, element);\n",
              "          const docLink = document.createElement('div');\n",
              "          docLink.innerHTML = docLinkHtml;\n",
              "          element.appendChild(docLink);\n",
              "        }\n",
              "      </script>\n",
              "    </div>\n",
              "  </div>\n",
              "  "
            ]
          },
          "metadata": {},
          "execution_count": 76
        }
      ]
    },
    {
      "cell_type": "code",
      "source": [
        "fig, ax = plt.subplots(figsize=(16, 10))\n",
        "\n",
        "# Plot horizontal lines\n",
        "plt.hlines(feature_importances_df['Feature'].iloc[::-1], linewidths=4, xmin=0, color='royalblue', \n",
        "           xmax=feature_importances_df['Importance'].iloc[::-1])\n",
        "\n",
        "# Plot circles\n",
        "plt.scatter(feature_importances_df['Importance'], feature_importances_df['Feature'],\n",
        "            color='red', alpha=1, s=90)\n",
        "\n",
        "# Annotate exact numerical values at end of lines\n",
        "for idx, row in feature_importances_df.iterrows():\n",
        "    ax.annotate(f\"{round(row['Importance'], 3)}\", (row['Importance'], row['Feature']), \n",
        "                weight='bold', fontsize=11, \n",
        "                xytext=(row['Importance'] + 0.00015, row['Feature'])) # offset annotate\n",
        "\n",
        "plt.title('Feature Importances - Random Forest Model', fontsize=18, fontweight='bold')\n",
        "plt.xlabel('Importance', fontsize=16)\n",
        "plt.ylabel('Feature', fontsize=16)\n",
        "plt.yticks(fontsize=12, rotation=15)\n",
        "ax.set_xticks(list(np.arange(0, .015, 0.001)))\n",
        "plt.xticks(fontsize=12)\n",
        "plt.tight_layout();"
      ],
      "metadata": {
        "id": "V2JAb4PiDiwp",
        "colab": {
          "base_uri": "https://localhost:8080/",
          "height": 729
        },
        "outputId": "3f24b42a-c100-4962-b2a1-67326a75411d"
      },
      "execution_count": 77,
      "outputs": [
        {
          "output_type": "display_data",
          "data": {
            "text/plain": [
              "<IPython.core.display.HTML object>"
            ],
            "text/html": [
              "\n",
              "    <style>\n",
              "      pre {\n",
              "          white-space: pre-wrap;\n",
              "      }\n",
              "    </style>\n",
              "    "
            ]
          },
          "metadata": {}
        },
        {
          "output_type": "display_data",
          "data": {
            "text/plain": [
              "<Figure size 1152x720 with 1 Axes>"
            ],
            "image/png": "[encoded data removed]"
          },
          "metadata": {
            "image/png": {
              "width": 1144,
              "height": 712
            },
            "needs_background": "light"
          }
        }
      ]
    },
    {
      "cell_type": "markdown",
      "source": [
        "<br>"
      ],
      "metadata": {
        "id": "-D5xvPAYgE7a"
      }
    },
    {
      "cell_type": "markdown",
      "source": [
        "# Conclusions, Recommendations, and Next Steps"
      ],
      "metadata": {
        "id": "CooTxH8Xj1tK"
      }
    },
    {
      "cell_type": "markdown",
      "source": [
        "***Conclusions:***\n",
        "\n",
        "- **Final model strengths and weaknesses:** Our highest scoring model, model 7.4 - multilayer perceptron (artifical neural network), achieved a test F1 score of 0.567, beating the previous best model, a decision tree, by 0.017. The model correctly classified approximately 41% of the anomalous transactions (recall) and had a positive predictive value (precision) of over 93%, meaning over 93% of its predictions of anomalous transactions are in fact anomalous. While correctly identifying less than half of the anomalous transactions may seem mediocre, given that the model essentially needs to find needles in a haystack (761 anomalous transactions out of over 705k) with near surgical precision, it is no small feat.<br>\n",
        "<br>\n",
        "\n",
        "- **After a certain point, it is difficult to increase recall without substantially reducing precision.** As we outlined in the business understanding section, because this dataset is so imbalanced, even a 1% loss in precision on the testing data means ~700 additional false positives, nearly the entire amount of true positives. This means that increasing recall tends to come at a heavy cost in terms of reduced precision and more false positives, which ultimately seriously degrades the value of the model.<br>\n",
        "<br>\n",
        "\n",
        "- **The most important features for the model include whether the account is flagged, the country of the beneficiary account, and the frequency of the country of the ordering entity.** Sender currency frequency and beneficiary country frequency round out the top five. It's not surprising that the `Flagged` feature was important, given that we saw it was perfectly correlated with anomalous transactions in the EDA section. The country of the beneficiary account is also a logical feature to contain a good deal of predictive value. Perhaps surprisingly, `SenderReceiverFreq` was a very poor predictor, at least for the random forest model. `SenderFreq` and `SettlementCurrency` also did not seem to contain much predictive value.<br>\n",
        "<br>\n",
        "\n",
        "***Recommendations and Use Cases:***\n",
        "- **Use the models as a guide on where to focus investigatory resources.** The limited time and resources of investigators should be wisely spent so as to limit time chasing false leads or annoying law-abiding customers. A model which can identify truly anomalous/potentially illicit transactions has a lot of value in terms of providing a signpost for where stakeholders should focus their resources for maximum benefit.<br>\n",
        "<br>\n",
        "\n",
        "- **Improve precision scores before using one of the models with a higher recall but lower F1 score.** As we saw, some models had higher recall than the best perceptron or decision tree models, but came with much lower precision. These models may have potential given additional tuning, but as is they likely carry more downside than upside in terms of false positives and have the potantial to lead to time chasing dead ends.<br>\n",
        "<br>\n",
        "\n",
        "- **Non-linear models appear to outperform linear ones for this use case.** Many of our initial linear models suffered from overreliance on one or a few features, likely because they were the only ones with a clear linear correlation with the target variable. As we saw in the EDA section though, many of the features do not have a linear relationship with anomalous transactions. Better results will likely be achieved with models which can pick up on these more complex relationships, such as decision tree-based models and neural networks.<br>\n",
        "<br>\n",
        " \n",
        "***Next Steps and Remaining Questions:***\n",
        "- **Obtain more positive class observations.** While synthetic adjustment to the dataset can be made to even out the class imbalance, such as over or undersampling, SMOTE, or adjusting class weights, the best option is almost always to obtain more observations of the minority class. The models could likely perform better if they have more data of the positive class to go off of.<br>\n",
        "<br>\n",
        "- **Experiment with synthetic minority oversampling technique (SMOTE).** SMOTE was not used as part of this project because it does not appear to be supported by PySpark at the time of writing. While we did oversample the minority class with some models, SMOTE may have done a better job preventing overfitting, as simple oversampling can tend to cause models to overfit to noise that happens to be present in the minority class observations.<br>\n",
        "<br>\n",
        "- **Why did the model fail to improve substantially after the inclusion of six additional categorical variables?** Despite the feature importances of the random forest model telling us that multiple one hot encoded features had high importance, the model barely budged in F1 score between the best numeric dataset model and the best full dataset model. Did the numeric features we engineered capture all or most of the signal in the categorical features? Or maybe some of the categorical features were indeed valuable, but others introduced noise into the model that drowned out the signal of the valuable predictors. Investigating this further could yield valuable insights."
      ],
      "metadata": {
        "id": "ch9qL_rwhVeB"
      }
    }
  ],
  "metadata": {
    "colab": {
      "background_execution": "on",
      "collapsed_sections": [],
      "machine_shape": "hm",
      "name": "Notebook-4_Modeling-Pt2-Results",
      "provenance": [],
      "authorship_tag": "ABX9TyMQI4mnoSYPFvfmgg8TYPZP"
    },
    "gpuClass": "standard",
    "kernelspec": {
      "display_name": "Python 3",
      "name": "python3"
    },
    "language_info": {
      "name": "python"
    }
  },
  "nbformat": 4,
  "nbformat_minor": 0
}