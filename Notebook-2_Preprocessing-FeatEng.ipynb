{
  "nbformat": 4,
  "nbformat_minor": 0,
  "metadata": {
    "colab": {
      "name": "Notebook-2_Preprocessing-FeatEng",
      "provenance": [],
      "collapsed_sections": [],
      "machine_shape": "hm",
      "authorship_tag": "ABX9TyOHwzu5DexuIGSBk7byDEZH"
    },
    "kernelspec": {
      "name": "python3",
      "display_name": "Python 3"
    },
    "language_info": {
      "name": "python"
    },
    "gpuClass": "standard"
  },
  "cells": [
    {
      "cell_type": "markdown",
      "metadata": {
        "id": "6Kwcbs5bBIV2"
      },
      "source": [
        "<img src=\"https://github.com/rjpost20/Anomalous-Bank-Transactions-Detection-Project/blob/main/data/AdobeStock_319163865.jpeg?raw=true\">\n",
        "Image by <a href=\"https://stock.adobe.com/contributor/200768506/andsus?load_type=author&prev_url=detail\" >AndSus</a> on Adobe Stock"
      ]
    },
    {
      "cell_type": "markdown",
      "metadata": {
        "id": "1853614c-bb9b-4feb-9c74-dd82342eae6a"
      },
      "source": [
        "# Phase 5 Project: *Detecting Anomalous Financial Transactions*"
      ]
    },
    {
      "cell_type": "markdown",
      "metadata": {
        "id": "7d4f907d-ec9f-4226-940a-a649a5decf3a"
      },
      "source": [
        "## Notebook 2: Preprocessing and Feature Engineering"
      ]
    },
    {
      "cell_type": "markdown",
      "metadata": {
        "id": "55a18e8c-9808-4a71-b98f-97f2d040dbc3"
      },
      "source": [
        "### By Ryan Posternak"
      ]
    },
    {
      "cell_type": "markdown",
      "metadata": {
        "id": "f4d4f196-97af-4b2a-beab-2288fd5327ae"
      },
      "source": [
        "Flatiron School, Full-Time Live NYC<br>\n",
        "Project Presentation Date: August 25th, 2022<br>\n",
        "Instructor: Joseph Mata"
      ]
    },
    {
      "cell_type": "markdown",
      "metadata": {
        "id": "9b5ec167-a06b-4ae7-9813-ffe0d77bc69b"
      },
      "source": [
        "## Goal: Build a model for FinCEN that can accurately identify anomalous financial transactions, as measured by area under the precision-recall curve (AUPRC)\n",
        "\n",
        "*This is a project for learning purposes. FinCEN is not involved with this project in any way.*"
      ]
    },
    {
      "cell_type": "markdown",
      "metadata": {
        "id": "2da9320e-b8f3-469d-b4f9-7438fde1d655"
      },
      "source": [
        "<br>"
      ]
    },
    {
      "cell_type": "markdown",
      "metadata": {
        "id": "776806df-5137-44ac-8d76-c06d7906e0c1"
      },
      "source": [
        "# Imports and Reading in Data"
      ]
    },
    {
      "cell_type": "markdown",
      "metadata": {
        "id": "50a628d4-f6f7-46d4-a6d4-4a54f51a02c1"
      },
      "source": [
        "### Google colab compatibility downloads"
      ]
    },
    {
      "cell_type": "code",
      "execution_count": 1,
      "metadata": {
        "id": "2b9a80a0-0e96-4cd3-9ad0-e86cfd27090b",
        "colab": {
          "base_uri": "https://localhost:8080/"
        },
        "outputId": "f8e60c35-dbc7-4b5b-c11c-c5461fee0569"
      },
      "outputs": [
        {
          "output_type": "stream",
          "name": "stdout",
          "text": [
            "Ign:1 https://developer.download.nvidia.com/compute/machine-learning/repos/ubuntu1804/x86_64  InRelease\n",
            "Get:2 http://security.ubuntu.com/ubuntu bionic-security InRelease [88.7 kB]\n",
            "Get:3 https://developer.download.nvidia.com/compute/cuda/repos/ubuntu1804/x86_64  InRelease [1,581 B]\n",
            "Hit:4 https://developer.download.nvidia.com/compute/machine-learning/repos/ubuntu1804/x86_64  Release\n",
            "Get:5 http://ppa.launchpad.net/c2d4u.team/c2d4u4.0+/ubuntu bionic InRelease [15.9 kB]\n",
            "Get:6 https://cloud.r-project.org/bin/linux/ubuntu bionic-cran40/ InRelease [3,626 B]\n",
            "Get:7 https://developer.download.nvidia.com/compute/cuda/repos/ubuntu1804/x86_64  Packages [910 kB]\n",
            "Hit:9 http://archive.ubuntu.com/ubuntu bionic InRelease\n",
            "Get:10 http://archive.ubuntu.com/ubuntu bionic-updates InRelease [88.7 kB]\n",
            "Hit:11 http://ppa.launchpad.net/cran/libgit2/ubuntu bionic InRelease\n",
            "Get:12 http://security.ubuntu.com/ubuntu bionic-security/universe amd64 Packages [1,533 kB]\n",
            "Hit:13 http://ppa.launchpad.net/deadsnakes/ppa/ubuntu bionic InRelease\n",
            "Get:14 http://archive.ubuntu.com/ubuntu bionic-backports InRelease [74.6 kB]\n",
            "Hit:15 http://ppa.launchpad.net/graphics-drivers/ppa/ubuntu bionic InRelease\n",
            "Get:16 http://archive.ubuntu.com/ubuntu bionic-updates/main amd64 Packages [3,369 kB]\n",
            "Get:17 http://security.ubuntu.com/ubuntu bionic-security/main amd64 Packages [2,937 kB]\n",
            "Get:18 http://ppa.launchpad.net/c2d4u.team/c2d4u4.0+/ubuntu bionic/main Sources [2,095 kB]\n",
            "Get:19 http://archive.ubuntu.com/ubuntu bionic-updates/universe amd64 Packages [2,311 kB]\n",
            "Get:20 http://ppa.launchpad.net/c2d4u.team/c2d4u4.0+/ubuntu bionic/main amd64 Packages [1,073 kB]\n",
            "Fetched 14.5 MB in 6s (2,357 kB/s)\n",
            "Reading package lists... Done\n",
            "Building dependency tree       \n",
            "Reading state information... Done\n",
            "25 packages can be upgraded. Run 'apt list --upgradable' to see them.\n",
            "Looking in indexes: https://pypi.org/simple, https://us-python.pkg.dev/colab-wheels/public/simple/\n",
            "Collecting pyspark==3.3.0\n",
            "  Downloading pyspark-3.3.0.tar.gz (281.3 MB)\n",
            "\u001b[K     |████████████████████████████████| 281.3 MB 31 kB/s \n",
            "\u001b[?25hCollecting py4j==0.10.9.5\n",
            "  Downloading py4j-0.10.9.5-py2.py3-none-any.whl (199 kB)\n",
            "\u001b[K     |████████████████████████████████| 199 kB 67.7 MB/s \n",
            "\u001b[?25hBuilding wheels for collected packages: pyspark\n",
            "  Building wheel for pyspark (setup.py) ... \u001b[?25l\u001b[?25hdone\n",
            "  Created wheel for pyspark: filename=pyspark-3.3.0-py2.py3-none-any.whl size=281764026 sha256=a1ff1156b8f21e1ac89591bb5ada959321335a8f2e762684662e363f70307158\n",
            "  Stored in directory: /root/.cache/pip/wheels/7a/8e/1b/f73a52650d2e5f337708d9f6a1750d451a7349a867f928b885\n",
            "Successfully built pyspark\n",
            "Installing collected packages: py4j, pyspark\n",
            "Successfully installed py4j-0.10.9.5 pyspark-3.3.0\n"
          ]
        }
      ],
      "source": [
        "!sudo apt update\n",
        "!apt-get install openjdk-8-jdk-headless -qq > /dev/null\n",
        "!wget -q https://dlcdn.apache.org/spark/spark-3.3.0/spark-3.3.0-bin-hadoop3.tgz \n",
        "!tar xf spark-3.3.0-bin-hadoop3.tgz\n",
        "import os\n",
        "os.environ[\"JAVA_HOME\"] = \"/usr/lib/jvm/java-8-openjdk-amd64\"\n",
        "os.environ[\"SPARK_HOME\"] = \"/content/spark-3.3.0-bin-hadoop3\"\n",
        "!pip install pyspark==3.3.0\n",
        "!pip install -q findspark\n",
        "import findspark\n",
        "findspark.init()"
      ]
    },
    {
      "cell_type": "code",
      "execution_count": 2,
      "metadata": {
        "id": "_EJVZLDUCRdy",
        "colab": {
          "base_uri": "https://localhost:8080/"
        },
        "outputId": "f1d0b71a-80c8-4363-c7b7-687ec5623d67"
      },
      "outputs": [
        {
          "output_type": "stream",
          "name": "stdout",
          "text": [
            "Mounted at /content/drive\n"
          ]
        }
      ],
      "source": [
        "# Connect to Google drive\n",
        "from google.colab import drive, files\n",
        "drive.mount('/content/drive')\n",
        "drive_path = '/content/drive/MyDrive/Colab Notebooks/'"
      ]
    },
    {
      "cell_type": "markdown",
      "metadata": {
        "id": "a1f82477-fb1f-4bc6-9de8-07d8ee0486c2"
      },
      "source": [
        "### Import libraries, packages and modules"
      ]
    },
    {
      "cell_type": "code",
      "execution_count": 3,
      "metadata": {
        "id": "3ec43d7d-2077-4d43-bd12-cc6c351f746d"
      },
      "outputs": [],
      "source": [
        "import numpy as np\n",
        "import pandas as pd\n",
        "from itertools import chain\n",
        "\n",
        "from pyspark.sql import SparkSession\n",
        "import pyspark.sql.functions as F\n",
        "from pyspark.sql.types import StringType, IntegerType, DoubleType\n",
        "\n",
        "import matplotlib.pyplot as plt\n",
        "import seaborn as sns\n",
        "from IPython.display import HTML, display\n",
        "%matplotlib inline\n",
        "%config InlineBackend.figure_format='retina'"
      ]
    },
    {
      "cell_type": "code",
      "source": [
        "# Check Colab RAM info\n",
        "from psutil import virtual_memory\n",
        "ram_gb = virtual_memory().total / 1e9\n",
        "print('Your runtime has {:.1f} gigabytes of available RAM\\n'.format(ram_gb))\n",
        "\n",
        "if ram_gb < 20:\n",
        "  print('Not using a high-RAM runtime')\n",
        "else:\n",
        "  print('You are using a high-RAM runtime!')"
      ],
      "metadata": {
        "id": "8RdtiSPt22Qe",
        "colab": {
          "base_uri": "https://localhost:8080/"
        },
        "outputId": "ca2843e6-6548-4311-db5e-34f92f7ab99e"
      },
      "execution_count": 4,
      "outputs": [
        {
          "output_type": "stream",
          "name": "stdout",
          "text": [
            "Your runtime has 54.8 gigabytes of available RAM\n",
            "\n",
            "You are using a high-RAM runtime!\n"
          ]
        }
      ]
    },
    {
      "cell_type": "code",
      "execution_count": 5,
      "metadata": {
        "id": "aa3b4878-4efd-472f-9c10-61710c893d10"
      },
      "outputs": [],
      "source": [
        "# Set text to wrap in Google colab notebook\n",
        "def set_css():\n",
        "    display(HTML(\"\"\"\n",
        "    <style>\n",
        "      pre {\n",
        "          white-space: pre-wrap;\n",
        "      }\n",
        "    </style>\n",
        "    \"\"\"))\n",
        "get_ipython().events.register('pre_run_cell', set_css)"
      ]
    },
    {
      "cell_type": "code",
      "execution_count": 6,
      "metadata": {
        "id": "2d54949d-dc79-446b-bc2a-cce6e6ae92da",
        "colab": {
          "base_uri": "https://localhost:8080/",
          "height": 221
        },
        "outputId": "06ee0e77-3f6a-4043-f896-ecb07bd824a2"
      },
      "outputs": [
        {
          "output_type": "display_data",
          "data": {
            "text/plain": [
              "<IPython.core.display.HTML object>"
            ],
            "text/html": [
              "\n",
              "    <style>\n",
              "      pre {\n",
              "          white-space: pre-wrap;\n",
              "      }\n",
              "    </style>\n",
              "    "
            ]
          },
          "metadata": {}
        },
        {
          "output_type": "execute_result",
          "data": {
            "text/plain": [
              "<pyspark.sql.session.SparkSession at 0x7f85dd84fe90>"
            ],
            "text/html": [
              "\n",
              "            <div>\n",
              "                <p><b>SparkSession - in-memory</b></p>\n",
              "                \n",
              "        <div>\n",
              "            <p><b>SparkContext</b></p>\n",
              "\n",
              "            <p><a href=\"http://8d9d608a1cb9:4050\">Spark UI</a></p>\n",
              "\n",
              "            <dl>\n",
              "              <dt>Version</dt>\n",
              "                <dd><code>v3.3.0</code></dd>\n",
              "              <dt>Master</dt>\n",
              "                <dd><code>local[*]</code></dd>\n",
              "              <dt>AppName</dt>\n",
              "                <dd><code>Colab</code></dd>\n",
              "            </dl>\n",
              "        </div>\n",
              "        \n",
              "            </div>\n",
              "        "
            ]
          },
          "metadata": {},
          "execution_count": 6
        }
      ],
      "source": [
        "# Initialize Spark Session\n",
        "spark = SparkSession.builder\\\n",
        "        .master(\"local[*]\")\\\n",
        "        .appName(\"Colab\")\\\n",
        "        .config(\"spark.ui.port\", \"4050\")\\\n",
        "        .config(\"spark.driver.memory\", \"15g\")\\\n",
        "        .getOrCreate()\n",
        "\n",
        "spark"
      ]
    },
    {
      "cell_type": "markdown",
      "metadata": {
        "id": "4c45c0da-3252-4fc8-89c6-4d8260418fc9"
      },
      "source": [
        "### Description of Features"
      ]
    },
    {
      "cell_type": "markdown",
      "metadata": {
        "id": "8590747c-e25c-405c-815b-3c83f10309ea"
      },
      "source": [
        "**Dataset 1 – Transactions:**\n",
        "\n",
        "`MessageId` - Globally unique identifier within this dataset for individual transactions<br>\n",
        "`UETR` - The Unique End-to-end Transaction Reference—a 36-character string enabling traceability of all individual transactions associated with a single end-to-end transaction<br>\n",
        "`TransactionReference` - Unique identifier for an individual transaction<br>\n",
        "`Timestamp` - Time at which the individual transaction was initiated<br>\n",
        "`Sender` - Institution (bank) initiating/sending the individual transaction<br>\n",
        "`Receiver` - Institution (bank) receiving the individual transaction<br>\n",
        "`OrderingAccount` - Account identifier for the originating ordering entity (individual or organization) for end-to-end transaction<br>\n",
        "`OrderingName` - Name for the originating ordering entity<br>\n",
        "`OrderingStreet` - Street address for the originating ordering entity<br>\n",
        "`OrderingCountryCityZip` - Remaining address details for the originating ordering entity<br>\n",
        "`BeneficiaryAccount` - Account identifier for the final beneficiary entity (individual or organization) for end-to-end transaction<br>\n",
        "`BeneficiaryName` - Name for the final beneficiary entity<br>\n",
        "`BeneficiaryStreet` - Street address for the final beneficiary entity<br>\n",
        "`BeneficiaryCountryCityZip` - Remaining address details for the final beneficiary entity<br>\n",
        "`SettlementDate` - Date the individual transaction was settled<br>\n",
        "`SettlementCurrency` - Currency used for transaction<br>\n",
        "`SettlementAmount` - Value of the transaction net of fees/transfer charges/forex<br>\n",
        "`InstructedCurrency` - Currency of the individual transaction as instructed to be paid by the Sender<br>\n",
        "`InstructedAmount` - Value of the individual transaction as instructed to be paid by the Sender<br>\n",
        "`Label` - Boolean indicator of whether the transaction is anomalous or not. This is the target variable for the prediction task.<br>\n",
        "<br>\n",
        "**Dataset 2 – Banks:**\n",
        "\n",
        "`Bank` - Identifier for the bank<br>\n",
        "`Account` - Identifier for the account<br>\n",
        "`Name` - Name of the account<br>\n",
        "`Street` - Street address associated with the account<br>\n",
        "`CountryCityZip` - Remaining address details associated with the account<br>\n",
        "`Flags` - Enumerated data type indicating potential issues or special features that have been associated with an account. Flag definitions are below:<br>\n",
        "00 - No flags<br>\n",
        "01 - Account closed<br>\n",
        "03 - Account recently opened<br>\n",
        "04 - Name mismatch<br>\n",
        "05 - Account under monitoring<br>\n",
        "06 - Account suspended<br>\n",
        "07 - Account frozen<br>\n",
        "08 - Non-transaction account<br>\n",
        "09 - Beneficiary deceased<br>\n",
        "10 - Invalid company ID<br>\n",
        "11 - Invalid individual ID<br>\n",
        "<br>\n",
        "Additional information from data providers:<br>\n",
        "\"Because each end-to-end transaction is defined by one originating orderer and one final beneficiary, the `OrderingAccount` and `BeneficiaryAccount` in a given row may not necessarily belong to the bank in that row's `Sender` and the bank in that row's `Receiver`, respectively. The correct way to associate an `OrderingAccount` to the correct bank is to identify the `Sender` bank in the originating (first) individual transaction in that end-to-end transaction, and the correct way to associate a `BeneficiaryAccount` to the correct bank is to identify the `Receiver` bank in the final (last) individual transaction in that end-to-end transaction.\""
      ]
    },
    {
      "cell_type": "markdown",
      "metadata": {
        "id": "b25f65a8-1444-468f-a5ee-9611e4d794ef"
      },
      "source": [
        "## Read in Data"
      ]
    },
    {
      "cell_type": "code",
      "execution_count": 7,
      "metadata": {
        "id": "dd295db2-0718-42c6-8a70-df41e93e72fa",
        "colab": {
          "base_uri": "https://localhost:8080/",
          "height": 17
        },
        "outputId": "f1e000fb-b0ab-499d-eccf-0de2b34012b6"
      },
      "outputs": [
        {
          "output_type": "display_data",
          "data": {
            "text/plain": [
              "<IPython.core.display.HTML object>"
            ],
            "text/html": [
              "\n",
              "    <style>\n",
              "      pre {\n",
              "          white-space: pre-wrap;\n",
              "      }\n",
              "    </style>\n",
              "    "
            ]
          },
          "metadata": {}
        }
      ],
      "source": [
        "# Read in transactions training and testing data csv files as Spark DataFrames\n",
        "train_df = spark.read.csv(drive_path + 'transaction_train_dataset.csv', header=True, inferSchema=True)\n",
        "test_df = spark.read.csv(drive_path + 'transaction_test_dataset.csv', header=True, inferSchema=True)\n",
        "\n",
        "# Read in banks data csv file to a Spark DataFrame\n",
        "banks_df = spark.read.csv(drive_path + 'bank_dataset.csv', header=True, inferSchema=True)"
      ]
    },
    {
      "cell_type": "markdown",
      "source": [
        "<br>"
      ],
      "metadata": {
        "id": "x_TRgs-i5mX4"
      }
    },
    {
      "cell_type": "markdown",
      "metadata": {
        "id": "c7188a23-a1c8-492f-8167-eb0e6f42fbf4"
      },
      "source": [
        "# Preprocessing & Feature Engineering"
      ]
    },
    {
      "cell_type": "markdown",
      "metadata": {
        "id": "528ffb7d-1150-4903-9294-4f34ef1c22f3"
      },
      "source": [
        "Steps:\n",
        "1. Create `OrderingCountry` and `BeneficiaryCountry` features to be used for `OrderingCountryFreq` and `BeneficiaryCountryFreq`\n",
        "2. Create `InstructedAmountUSD` feature by converting all currencies in `InstructedAmount` to USD-scale\n",
        "3. Create `IntermediaryTransactions` feature by counting number of repeated UETRs for each end-to-end transaction\n",
        "4. Create `OriginalSender` and `FinalReceiver` features\n",
        "5. Create `Flagged` feature by joining `Flags` column of `banks_df`\n",
        "6. Create `OrderingCountryFreq` and `BeneficiaryCountryFreq` features\n",
        "7. Create `SenderHourFreq` feature\n",
        "8. Create `SenderCurrencyFreq` and `SenderCurrencyAmtAvg` features\n",
        "9. Create `SenderFreq` and `ReceiverFreq` features\n",
        "9. Create `SenderReceiverFreq` feature"
      ]
    },
    {
      "cell_type": "markdown",
      "source": [
        "## Create `OrderingCountry` and `BeneficiaryCountry` features"
      ],
      "metadata": {
        "id": "MGYjYVm_7WGt"
      }
    },
    {
      "cell_type": "code",
      "source": [
        "# Split the content of OrderingCountryCityZip and BeneficiaryCountryCityZip on the forward-slash character ('/')\n",
        "split_cols_ordering_train = F.split(train_df['OrderingCountryCityZip'], '/')\n",
        "split_cols_beneficiary_train = F.split(train_df['BeneficiaryCountryCityZip'], '/')\n",
        "\n",
        "# Add the OrderingCountry as a column to train_df and test_df\n",
        "train_df = train_df.withColumn('OrderingCountry', split_cols_ordering_train.getItem(0))\n",
        "train_df = train_df.withColumn('BeneficiaryCountry', split_cols_beneficiary_train.getItem(0))\n",
        "\n",
        "# Repeat for test_df\n",
        "split_cols_ordering_test = F.split(test_df['OrderingCountryCityZip'], '/')\n",
        "split_cols_beneficiary_test = F.split(test_df['BeneficiaryCountryCityZip'], '/')\n",
        "test_df = test_df.withColumn('OrderingCountry', split_cols_ordering_test.getItem(0))\n",
        "test_df = test_df.withColumn('BeneficiaryCountry', split_cols_beneficiary_test.getItem(0))"
      ],
      "metadata": {
        "colab": {
          "base_uri": "https://localhost:8080/",
          "height": 17
        },
        "id": "SaJuwALY4A5S",
        "outputId": "bd26258d-6e15-49dd-e038-59a6ff19227f"
      },
      "execution_count": 8,
      "outputs": [
        {
          "output_type": "display_data",
          "data": {
            "text/plain": [
              "<IPython.core.display.HTML object>"
            ],
            "text/html": [
              "\n",
              "    <style>\n",
              "      pre {\n",
              "          white-space: pre-wrap;\n",
              "      }\n",
              "    </style>\n",
              "    "
            ]
          },
          "metadata": {}
        }
      ]
    },
    {
      "cell_type": "markdown",
      "source": [
        "### Accuracy check"
      ],
      "metadata": {
        "id": "ZozO_v1K74kx"
      }
    },
    {
      "cell_type": "code",
      "source": [
        "# Retrieve three random UETR codes\n",
        "sample = train_df.sample(False, 0.00001).limit(3).collect()\n",
        "UETRs = [sample[row]['UETR'] for row in range(3)]\n",
        "\n",
        "# Only show relevant columns\n",
        "cols_to_show = ['UETR', 'OrderingCountryCityZip', 'OrderingCountry', 'BeneficiaryCountryCityZip', 'BeneficiaryCountry']\n",
        "\n",
        "# Preview transactions\n",
        "train_df.filter(train_df.UETR.isin(UETRs)).select(cols_to_show).show(truncate=False)"
      ],
      "metadata": {
        "id": "0-kAKEwA4BH1"
      },
      "execution_count": null,
      "outputs": []
    },
    {
      "cell_type": "code",
      "source": [
        "# Display value counts for new 'OrderingCountry' and 'BeneficiaryCountry' features of train_df\n",
        "ordering_country_counts = train_df.groupBy('OrderingCountry').count().withColumn('percent', F.col('count')/train_df.count())\n",
        "beneficiary_country_counts = train_df.groupBy('BeneficiaryCountry').count().withColumn('percent', F.col('count')/train_df.count())\n",
        "\n",
        "ordering_country_counts.show(28, truncate=False)\n",
        "beneficiary_country_counts.show(truncate=False)"
      ],
      "metadata": {
        "id": "rjw4keRn4BSZ"
      },
      "execution_count": null,
      "outputs": []
    },
    {
      "cell_type": "markdown",
      "source": [
        "**Remarks:**\n",
        "- It looks like there are some rows with incorrect/unusual values, but for most of them it looks pretty obvious what the intended value was supposed to be. A couple are a bit ambiguous, e.g. 'E' in `OrderingCountries` could be either `DE`, `ES`, `EC` or `PE`. For these ones, we'll just impute the most frequent likely intended value."
      ],
      "metadata": {
        "id": "a8Y0r4cXHgdl"
      }
    },
    {
      "cell_type": "code",
      "source": [
        "# Replace incorrect/unusual ordering country values with most likely intended value\n",
        "train_df = train_df.replace('F', 'FR', subset='OrderingCountry')\n",
        "train_df = train_df.replace('GBS1 1TD', 'GB', subset='OrderingCountry')\n",
        "train_df = train_df.replace('B', 'GB', subset='OrderingCountry')\n",
        "train_df = train_df.replace('GBE5C 7TG', 'GB', subset='OrderingCountry')\n",
        "train_df = train_df.replace('U', 'US', subset='OrderingCountry')\n",
        "train_df = train_df.replace('D', 'DE', subset='OrderingCountry')\n",
        "train_df = train_df.replace('R', 'FR', subset='OrderingCountry')\n",
        "train_df = train_df.replace('GBBD6 2YA', 'GB', subset='OrderingCountry')\n",
        "train_df = train_df.replace('E', 'ES', subset='OrderingCountry')\n",
        "train_df = train_df.replace('FR46216 JOSEPH', 'FR', subset='OrderingCountry')\n",
        "train_df = train_df.replace('FR97705 PEREIRA', 'FR', subset='OrderingCountry')\n",
        "train_df = train_df.replace('G', 'GB', subset='OrderingCountry')\n",
        "train_df = train_df.replace('S', 'US', subset='OrderingCountry')\n",
        "train_df = train_df.replace('DE51111 WITTSTOCK', 'DE', subset='OrderingCountry')\n",
        "\n",
        "# Replace incorrect/unusual beneficiary country values with most likely intended value\n",
        "train_df = train_df.replace('E', 'ES', subset='BeneficiaryCountry')\n",
        "train_df = train_df.replace('D', 'DE', subset='BeneficiaryCountry')\n",
        "train_df = train_df.replace('USMACKENZIESTAD| KS 08333', 'US', subset='BeneficiaryCountry')\n",
        "train_df = train_df.replace('USMICHAELVIEW| NH 97912', 'US', subset='BeneficiaryCountry')\n",
        "train_df = train_df.replace('U', 'US', subset='BeneficiaryCountry')\n",
        "train_df = train_df.replace('G', 'GB', subset='BeneficiaryCountry')\n",
        "train_df = train_df.replace('USEMILYVIEW| KS 16890', 'US', subset='BeneficiaryCountry')\n",
        "train_df = train_df.replace('USAGUILARSIDE| KY 08409', 'US', subset='BeneficiaryCountry')\n",
        "\n",
        "# Display new value counts for 'OrderingCountry' and 'BeneficiaryCountry' features of train_df\n",
        "ordering_country_counts = train_df.groupBy('OrderingCountry').count().withColumn('percent', F.col('count')/train_df.count())\n",
        "beneficiary_country_counts = train_df.groupBy('BeneficiaryCountry').count().withColumn('percent', F.col('count')/train_df.count())\n",
        "\n",
        "ordering_country_counts.show(truncate=False)\n",
        "beneficiary_country_counts.show(truncate=False)"
      ],
      "metadata": {
        "colab": {
          "base_uri": "https://localhost:8080/",
          "height": 642
        },
        "id": "jmYz8WA34BnH",
        "outputId": "b1cbd467-1711-4588-bfb0-3722010d531e"
      },
      "execution_count": 9,
      "outputs": [
        {
          "output_type": "display_data",
          "data": {
            "text/plain": [
              "<IPython.core.display.HTML object>"
            ],
            "text/html": [
              "\n",
              "    <style>\n",
              "      pre {\n",
              "          white-space: pre-wrap;\n",
              "      }\n",
              "    </style>\n",
              "    "
            ]
          },
          "metadata": {}
        },
        {
          "output_type": "stream",
          "name": "stdout",
          "text": [
            "+---------------+-------+--------------------+\n",
            "|OrderingCountry|count  |percent             |\n",
            "+---------------+-------+--------------------+\n",
            "|PT             |36690  |0.007820151436838263|\n",
            "|GB             |529859 |0.11293479477164582 |\n",
            "|DE             |603157 |0.12855762006511465 |\n",
            "|ES             |80991  |0.017262520714662517|\n",
            "|EC             |9547   |0.002034859246865492|\n",
            "|TR             |2699   |5.752681582999856E-4|\n",
            "|ZA             |514627 |0.10968822767745338 |\n",
            "|US             |1002612|0.21369794691717864 |\n",
            "|FR             |1621628|0.3456357736227081  |\n",
            "|CH             |25027  |0.005334285364125135|\n",
            "|IT             |49092  |0.010463528872642791|\n",
            "|PE             |73733  |0.01571554172505848 |\n",
            "|JP             |75057  |0.015997740703046322|\n",
            "|ZW             |67006  |0.014281740724360443|\n",
            "+---------------+-------+--------------------+\n",
            "\n",
            "+------------------+-------+--------------------+\n",
            "|BeneficiaryCountry|count  |percent             |\n",
            "+------------------+-------+--------------------+\n",
            "|ID                |4362   |9.297220105611476E-4|\n",
            "|GB                |541932 |0.11550804874539748 |\n",
            "|DE                |174885 |0.03727520261737421 |\n",
            "|ES                |381476 |0.08130826082091341 |\n",
            "|EC                |40984  |0.008735379844300338|\n",
            "|TR                |56642  |0.012072745099084025|\n",
            "|US                |1816792|0.38723326708193684 |\n",
            "|FR                |357092 |0.07611102526256334 |\n",
            "|CH                |116098 |0.024745269597003235|\n",
            "|JP                |684901 |0.1459806361199772  |\n",
            "|ZW                |516561 |0.11010044280088879 |\n",
            "+------------------+-------+--------------------+\n",
            "\n"
          ]
        }
      ]
    },
    {
      "cell_type": "markdown",
      "source": [
        "### Repeat for `test_df`"
      ],
      "metadata": {
        "id": "5jI84zzN4BxT"
      }
    },
    {
      "cell_type": "code",
      "source": [
        "# Display value counts for new 'OrderingCountry' and 'BeneficiaryCountry' features of test_df\n",
        "ordering_country_counts = test_df.groupBy('OrderingCountry').count().withColumn('percent', F.col('count')/test_df.count())\n",
        "beneficiary_country_counts = test_df.groupBy('BeneficiaryCountry').count().withColumn('percent', F.col('count')/test_df.count())\n",
        "\n",
        "ordering_country_counts.show(28, truncate=False)\n",
        "beneficiary_country_counts.show(truncate=False)"
      ],
      "metadata": {
        "id": "ndHvpECvPO8B"
      },
      "execution_count": null,
      "outputs": []
    },
    {
      "cell_type": "code",
      "source": [
        "# Replace incorrect/unusual ordering country values with most likely intended value\n",
        "test_df = test_df.replace('F', 'FR', subset='OrderingCountry')\n",
        "test_df = test_df.replace('R', 'FR', subset='OrderingCountry')\n",
        "test_df = test_df.replace('D', 'DE', subset='OrderingCountry')\n",
        "test_df = test_df.replace('S', 'US', subset='OrderingCountry')\n",
        "\n",
        "# Replace incorrect/unusual beneficiary country values with most likely intended value\n",
        "test_df = test_df.replace('U', 'US', subset='BeneficiaryCountry')\n",
        "test_df = test_df.replace('USDPO AA 17341', 'US', subset='BeneficiaryCountry')\n",
        "test_df = test_df.replace('USFPO AE 29185', 'US', subset='BeneficiaryCountry')\n",
        "test_df = test_df.replace('S', 'US', subset='BeneficiaryCountry')\n",
        "\n",
        "# Display new value counts for 'OrderingCountry' and 'BeneficiaryCountry' features of test_df\n",
        "ordering_country_counts = test_df.groupBy('OrderingCountry').count().withColumn('percent', F.col('count')/test_df.count())\n",
        "beneficiary_country_counts = test_df.groupBy('BeneficiaryCountry').count().withColumn('percent', F.col('count')/test_df.count())\n",
        "\n",
        "ordering_country_counts.show(truncate=False)\n",
        "beneficiary_country_counts.show(truncate=False)"
      ],
      "metadata": {
        "colab": {
          "base_uri": "https://localhost:8080/",
          "height": 642
        },
        "id": "G1FXHbSLPVbo",
        "outputId": "9be41c12-eb33-46c7-f16d-9bec4fc5523e"
      },
      "execution_count": 10,
      "outputs": [
        {
          "output_type": "display_data",
          "data": {
            "text/plain": [
              "<IPython.core.display.HTML object>"
            ],
            "text/html": [
              "\n",
              "    <style>\n",
              "      pre {\n",
              "          white-space: pre-wrap;\n",
              "      }\n",
              "    </style>\n",
              "    "
            ]
          },
          "metadata": {}
        },
        {
          "output_type": "stream",
          "name": "stdout",
          "text": [
            "+---------------+------+---------------------+\n",
            "|OrderingCountry|count |percent              |\n",
            "+---------------+------+---------------------+\n",
            "|PT             |5861  |0.008312201818728479 |\n",
            "|GB             |79044 |0.11210197586752668  |\n",
            "|DE             |90322 |0.1280966887342081   |\n",
            "|ES             |11998 |0.017015833035506616 |\n",
            "|EC             |1361  |0.0019302007635709707|\n",
            "|TR             |413   |5.85725874617789E-4  |\n",
            "|ZA             |76718 |0.10880319043323859  |\n",
            "|US             |150911|0.21402536916330547  |\n",
            "|FR             |245026|0.347501375675783    |\n",
            "|CH             |3798  |0.005386408890552937 |\n",
            "|IT             |7369  |0.010450881283434594 |\n",
            "|PE             |11095 |0.015735178157105012 |\n",
            "|JP             |11150 |0.015813180392223604 |\n",
            "|ZW             |10042 |0.014241789910198154 |\n",
            "+---------------+------+---------------------+\n",
            "\n",
            "+------------------+------+--------------------+\n",
            "|BeneficiaryCountry|count |percent             |\n",
            "+------------------+------+--------------------+\n",
            "|ID                |646   |9.161717070292778E-4|\n",
            "|GB                |80873 |0.11469590474083403 |\n",
            "|DE                |25995 |0.03686669276195987 |\n",
            "|ES                |57220 |0.08115068897246946 |\n",
            "|EC                |6199  |0.008791561009093642|\n",
            "|TR                |8404  |0.01191874152612082 |\n",
            "|US                |274181|0.38884965140092015 |\n",
            "|FR                |53614 |0.07603657879360325 |\n",
            "|CH                |17411 |0.024692671193632748|\n",
            "|JP                |103551|0.14685835361391447 |\n",
            "|ZW                |77014 |0.10922298428042229 |\n",
            "+------------------+------+--------------------+\n",
            "\n"
          ]
        }
      ]
    },
    {
      "cell_type": "markdown",
      "source": [
        "### Visualize target class distributions or ordering countries and beneficiary countries of ordering and beneficiary entities"
      ],
      "metadata": {
        "id": "H-Mrrwz0PVuA"
      }
    },
    {
      "cell_type": "code",
      "source": [
        "# Sample 5% of train_df for visualizations (approximately 235k observations) for efficiency\n",
        "viz_cols = ['OrderingCountry', 'BeneficiaryCountry', 'Label']\n",
        "viz_df = train_df.select(viz_cols).sample(withReplacement=False, fraction=0.05, seed=42).toPandas()"
      ],
      "metadata": {
        "id": "ZveJ5oHpU-1R"
      },
      "execution_count": null,
      "outputs": []
    },
    {
      "cell_type": "code",
      "source": [
        "# Define figure and axes\n",
        "fig, (ax1, ax2) = plt.subplots(nrows=1, ncols=2, figsize=(22, 9))\n",
        "\n",
        "# Set consistent color palette where y-axis values in both axes, otherwise silver\n",
        "palette = sns.color_palette('muted', as_cmap=True)*2\n",
        "palette_map = {}\n",
        "for val, color in zip(viz_df['OrderingCountry'].value_counts().index, palette):\n",
        "    if val in viz_df[viz_df.Label == 0]['OrderingCountry'].value_counts().index \\\n",
        "    and val in viz_df[viz_df.Label == 1]['OrderingCountry'].value_counts().index:\n",
        "        palette_map[val] = color\n",
        "    else:\n",
        "        palette_map[val]= 'silver'\n",
        "\n",
        "# Plot countplot of non-anomalous transactions\n",
        "sns.countplot(x='OrderingCountry', data=viz_df[viz_df.Label == 0], ax=ax1, \n",
        "              order=viz_df[viz_df.Label == 0]['OrderingCountry'].value_counts().index,  # Order descending\n",
        "              palette=palette_map)\n",
        "\n",
        "# Plot countplot of anomalous transactions\n",
        "sns.countplot(x='OrderingCountry', data=viz_df[viz_df.Label == 1], ax=ax2, \n",
        "              order=viz_df[viz_df.Label == 1]['OrderingCountry'].value_counts().index,  # Order descending\n",
        "              palette=palette_map)\n",
        "\n",
        "# Print percentages on top of bars (ax1)\n",
        "for p in ax1.patches:\n",
        "    txt = str(round(p.get_height() / viz_df[viz_df.Label == 0].shape[0]*100, 1)) + '%'\n",
        "    txt_x = p.get_x()+0.05\n",
        "    txt_y = p.get_height()+350\n",
        "    ax1.text(txt_x, txt_y, txt, fontsize=12)\n",
        "\n",
        "# Print percentages on top of bars (ax2)\n",
        "for p in ax2.patches:\n",
        "    txt = str(round(p.get_height() / viz_df[viz_df.Label == 1].shape[0]*100, 1)) + '%'\n",
        "    txt_x = p.get_x()+0.29\n",
        "    txt_y = p.get_height()+0.7\n",
        "    ax2.text(txt_x, txt_y, txt, fontsize=12)\n",
        "\n",
        "ax1.set_title('Ordering Entity Countries of Non-Anomalous Transactions (Label 0)', fontsize=17)\n",
        "ax1.set_xlabel('Ordering Entity Country', fontsize=16)\n",
        "ax1.set_xticklabels(ax1.get_xticklabels(), fontsize=12)\n",
        "ax1.set_ylabel('Count (5% Sample)', fontsize=16)\n",
        "ax1.set_yticklabels(['{:,}'.format(int(x)) for x in ax1.get_yticks()], fontsize=12)\n",
        "ax2.set_title('Ordering Entity Countries of Anomalous Transactions (Label 1)', fontsize=17)\n",
        "ax2.set_xlabel('Ordering Entity Country', fontsize=16)\n",
        "ax2.set_xticklabels(ax2.get_xticklabels(), fontsize=12)\n",
        "ax2.set_ylabel('Count (5% Sample)', fontsize=16)\n",
        "ax2.set_yticklabels(ax2.get_yticks().astype(int), fontsize=12);"
      ],
      "metadata": {
        "id": "s4SbkQ1FPV9y"
      },
      "execution_count": null,
      "outputs": []
    },
    {
      "cell_type": "code",
      "source": [
        "# Define figure and axes\n",
        "fig, (ax1, ax2) = plt.subplots(nrows=1, ncols=2, figsize=(22, 9))\n",
        "\n",
        "# Set consistent color palette where y-axis values in both axes, otherwise silver\n",
        "palette = sns.color_palette('muted', as_cmap=True)*2\n",
        "palette_map = {}\n",
        "for val, color in zip(viz_df['BeneficiaryCountry'].value_counts().index, palette):\n",
        "    if val in viz_df[viz_df.Label == 0]['BeneficiaryCountry'].value_counts().index \\\n",
        "    and val in viz_df[viz_df.Label == 1]['BeneficiaryCountry'].value_counts().index:\n",
        "        palette_map[val] = color\n",
        "    else:\n",
        "        palette_map[val]= 'silver'\n",
        "\n",
        "# Plot countplot of non-anomalous transactions\n",
        "sns.countplot(x='BeneficiaryCountry', data=viz_df[viz_df.Label == 0], ax=ax1, \n",
        "              order=viz_df[viz_df.Label == 0]['BeneficiaryCountry'].value_counts().index,  # Order descending\n",
        "              palette=palette_map)\n",
        "\n",
        "# Plot countplot of anomalous transactions\n",
        "sns.countplot(x='BeneficiaryCountry', data=viz_df[viz_df.Label == 1], ax=ax2, \n",
        "              order=viz_df[viz_df.Label == 1]['BeneficiaryCountry'].value_counts().index,  # Order descending\n",
        "              palette=palette_map)\n",
        "\n",
        "# Print percentages on top of bars (ax1)\n",
        "for p in ax1.patches:\n",
        "    txt = str(round(p.get_height() / viz_df[viz_df.Label == 0].shape[0]*100, 1)) + '%'\n",
        "    txt_x = p.get_x()+0.12\n",
        "    txt_y = p.get_height()+350\n",
        "    ax1.text(txt_x, txt_y, txt, fontsize=12)\n",
        "\n",
        "# Print percentages on top of bars (ax2)\n",
        "for p in ax2.patches:\n",
        "    txt = str(round(p.get_height() / viz_df[viz_df.Label == 1].shape[0]*100, 1)) + '%'\n",
        "    txt_x = p.get_x()+0.29\n",
        "    txt_y = p.get_height()+0.7\n",
        "    ax2.text(txt_x, txt_y, txt, fontsize=12)\n",
        "\n",
        "ax1.set_title('Beneficiary Entity Countries of Non-Anomalous Transactions (Label 0)', fontsize=17)\n",
        "ax1.set_xlabel('Beneficiary Entity Country', fontsize=16)\n",
        "ax1.set_xticklabels(ax1.get_xticklabels(), fontsize=12)\n",
        "ax1.set_ylabel('Count (5% Sample)', fontsize=16)\n",
        "ax1.set_yticklabels(['{:,}'.format(int(x)) for x in ax1.get_yticks()], fontsize=12)\n",
        "ax2.set_title('Beneficiary Entity Countries of Anomalous Transactions (Label 1)', fontsize=17)\n",
        "ax2.set_xlabel('Beneficiary Entity Country', fontsize=16)\n",
        "ax2.set_xticklabels(ax2.get_xticklabels(), fontsize=12)\n",
        "ax2.set_ylabel('Count (5% Sample)', fontsize=16)\n",
        "ax2.set_yticklabels(ax2.get_yticks().astype(int), fontsize=12);"
      ],
      "metadata": {
        "id": "1k_aXayXWuVv"
      },
      "execution_count": null,
      "outputs": []
    },
    {
      "cell_type": "markdown",
      "source": [
        "**Remarks**:\n",
        "- These visualizations bear resemblance to the sender banks visualization, where we have a large selection of values (countries in this case) among non-anomalous transactions and a much smaller subset of values among anomalous transactions. It does look like there is signal in this feature, given the marked difference between non-anomalous and anomalous transactions for both ordering and beneficiary entity countries."
      ],
      "metadata": {
        "id": "pyPBbfykYVGN"
      }
    },
    {
      "cell_type": "markdown",
      "source": [
        "<br>"
      ],
      "metadata": {
        "id": "qja5DZhqUWVE"
      }
    },
    {
      "cell_type": "markdown",
      "source": [
        "## Create `InstructedAmountUSD` feature\n",
        "\n",
        "Here we are going to create a new column with standardized instructed transaction amounts, as it wouldn't make much sense to leave the amounts in completely different scales. We'll scale all amounts to their USD conversion rates on 2022/01/12, the median transaction date in `train_df`.\n",
        "\n",
        "Exchange rates were obtained from <a href='https://www.xe.com/currencytables/' >xe.com</a>."
      ],
      "metadata": {
        "id": "dIJtcRwffYNy"
      }
    },
    {
      "cell_type": "code",
      "source": [
        "# Exchange rate values on 2022/01/12 (median date of transactions in dataframe)\n",
        "'1 NZD = 0.6845945591 USD'\n",
        "'1 GBP = 1.3696247772 USD'\n",
        "'1 CAD = 0.7999730579 USD'\n",
        "'1 EUR = 1.1431474656 USD'\n",
        "'1 AUD = 0.7277363105 USD'\n",
        "'1 JPY = 0.0087157154 USD'\n",
        "'1 INR = 0.0135530538 USD'\n",
        "\n",
        "conversion_rates = {'NZD': 0.6845945591, 'GBP': 1.3696247772, 'CAD': 0.7999730579, 'EUR': 1.1431474656, \\\n",
        "                    'AUD': 0.7277363105, 'JPY': 0.0087157154, 'INR': 0.0135530538, 'USD': 1.0}\n",
        "\n",
        "# Create new column in train and test dataframes with conversion_rates dictionary\n",
        "mapping_expr = F.create_map([F.lit(x) for x in chain(*conversion_rates.items())])\n",
        "\n",
        "train_df = train_df.withColumn('InstructedAmountUSD', \\\n",
        "                               mapping_expr[F.col('InstructedCurrency')]*F.col('InstructedAmount'))\n",
        "test_df = test_df.withColumn('InstructedAmountUSD', \\\n",
        "                             mapping_expr[F.col('InstructedCurrency')]*F.col('InstructedAmount'))\n",
        "\n",
        "# Convert column to integer type\n",
        "train_df = train_df.withColumn('InstructedAmountUSD', F.round(train_df['InstructedAmountUSD']).cast(IntegerType()))\n",
        "test_df = test_df.withColumn('InstructedAmountUSD', F.round(test_df['InstructedAmountUSD']).cast(IntegerType()))"
      ],
      "metadata": {
        "id": "RV99fdyYhoEi",
        "colab": {
          "base_uri": "https://localhost:8080/",
          "height": 17
        },
        "outputId": "b08d5855-3dc6-46d5-d225-4163f3e7d08b"
      },
      "execution_count": 11,
      "outputs": [
        {
          "output_type": "display_data",
          "data": {
            "text/plain": [
              "<IPython.core.display.HTML object>"
            ],
            "text/html": [
              "\n",
              "    <style>\n",
              "      pre {\n",
              "          white-space: pre-wrap;\n",
              "      }\n",
              "    </style>\n",
              "    "
            ]
          },
          "metadata": {}
        }
      ]
    },
    {
      "cell_type": "code",
      "source": [
        "# Display 10 transactions to verify accuracy of InstructedAmountUSD column\n",
        "train_df.select('InstructedCurrency', 'InstructedAmount', 'InstructedAmountUSD').show(10, truncate=False)"
      ],
      "metadata": {
        "id": "XJpQC56Jq4y9"
      },
      "execution_count": null,
      "outputs": []
    },
    {
      "cell_type": "markdown",
      "source": [
        "### Visualize target class distributions of instructed transaction amounts in USD\n",
        "\n",
        "We'll only plot instructed transaction amounts, since settlement amounts are essentially equivalent to instructed amounts less deductions for fees and transfer/forex charges. We'll also only plot the `InstructedAmountUSD` column values, i.e. instructed amounts that have been standardized to the USD exchange rate, as it wouldn't be very informative to plot the wildly varying scales of the different currencies together."
      ],
      "metadata": {
        "id": "0LS-Q_MKP-Z8"
      }
    },
    {
      "cell_type": "code",
      "source": [
        "# Sample 5% of train_df for visualizations (approximately 235k observations) for efficiency\n",
        "viz_cols = ['InstructedAmountUSD', 'Label']\n",
        "viz_df = train_df.select(viz_cols).sample(withReplacement=False, fraction=0.05, seed=42).toPandas()"
      ],
      "metadata": {
        "id": "tQzkGhCqxlbZ"
      },
      "execution_count": null,
      "outputs": []
    },
    {
      "cell_type": "code",
      "source": [
        "# Define figure and axes\n",
        "fig, (ax1, ax2) = plt.subplots(nrows=1, ncols=2, figsize=(22, 9))\n",
        "\n",
        "# Plot histogram of non-anomalous transactions; log x-axis due to extreme right-skew\n",
        "sns.histplot(x='InstructedAmountUSD', data=viz_df[viz_df.Label == 0], ax=ax1, bins=10, log_scale=True, color='#85bb65')\n",
        "\n",
        "# Plot histogram of anomalous transactions; log x-axis due to extreme right-skew\n",
        "sns.histplot(x='InstructedAmountUSD', data=viz_df[viz_df.Label == 1], ax=ax2, bins=10, log_scale=True, color='#85bb65')\n",
        "\n",
        "ax1.set_title('Instructed Transaction Amounts of Non-Anomalous Transactions (Label 0)', fontsize=17)\n",
        "ax1.set_xlabel('Instructed Amount USD (Log-Scale)', fontsize=16)\n",
        "ax1.set_ylabel('Count (5% Sample)', fontsize=16)\n",
        "ax2.set_title('Instructed Transaction Amounts of Anomalous Transactions (Label 1)', fontsize=17)\n",
        "ax2.set_xlabel('Instructed Amount USD (Log-Scale)', fontsize=16)\n",
        "ax2.set_ylabel('Count (5% Sample)', fontsize=16);\n",
        "\n",
        "# Set xticks to match bin widths\n",
        "ax1.set_xticks([bin.get_x() for bin in ax1.patches] + [viz_df[viz_df.Label == 0]['InstructedAmountUSD'].max()])\n",
        "ax2.set_xticks([bin.get_x() for bin in ax2.patches] + [viz_df[viz_df.Label == 1]['InstructedAmountUSD'].max()]);\n",
        "# Change xtick labels to more readable format\n",
        "ax1.set_xticklabels(['$1', '$10', '$200', '$2.8k', '$41k', '$590k', '$8.6M', '$125M', '$1.8B', '$26B', '$380B'], fontsize=12)\n",
        "ax1.set_yticklabels(['{:,}'.format(int(x)) for x in ax1.get_yticks()], fontsize=12)\n",
        "ax2.set_xticklabels(['$14k', '$51k', '$180k', '$640k', '$2.3M', '$8.0M', '$28M', '$100M', '$350M', '$1.3B', '$4.4B'], fontsize=12)\n",
        "ax2.set_yticklabels(ax2.get_yticks().astype(int), fontsize=12);"
      ],
      "metadata": {
        "id": "A_RVSEVPP_C9"
      },
      "execution_count": null,
      "outputs": []
    },
    {
      "cell_type": "markdown",
      "source": [
        "**Remarks:**\n",
        "- The distributions of instructed transaction amounts for both non-anomalous and anomalous transactions are both extremely right-skewed, which we can tell because the distributions look more or less normal after log-scaling.\n",
        "- Non-anomalous transactions appear to have a much larger range of values, ranging from \\$1 all the way to over \\$380B. The range for anomalous transactions is much more narrow, ranging from \\$14k to just under $4.5B."
      ],
      "metadata": {
        "id": "WuV-8cQ6Mkrn"
      }
    },
    {
      "cell_type": "markdown",
      "source": [
        "<br>"
      ],
      "metadata": {
        "id": "vAAgzvMkPo6r"
      }
    },
    {
      "cell_type": "markdown",
      "source": [
        "## Create `IntermediaryTransactions` feature by counting number of duplicate UETR occurrences for each unique UETR code\n",
        "\n",
        "This feature will tell us the number of intermediary transactions conducted in each end-to-end transaction. This can be calculated for each end-to-end transaction by counting how many times the UETR for that end-to-end transaction code appears."
      ],
      "metadata": {
        "id": "cbFubaRbM93B"
      }
    },
    {
      "cell_type": "code",
      "source": [
        "# Create temporary table to use for SQL query\n",
        "train_df.createOrReplaceTempView('train_df_sql')\n",
        "\n",
        "# Create new feature using SQL\n",
        "join_sql = \"\"\"\n",
        "WITH UETRCounts AS (\n",
        "SELECT UETR, \n",
        "COUNT(UETR)-1 AS IntermediaryTransactions\n",
        "FROM train_df_sql\n",
        "GROUP BY UETR\n",
        ")\n",
        "SELECT train_df_sql.*, \n",
        "UETRCounts.IntermediaryTransactions\n",
        "FROM train_df_sql\n",
        "LEFT JOIN UETRCounts\n",
        "    ON train_df_sql.UETR = UETRCounts.UETR\n",
        "\"\"\"\n",
        "\n",
        "train_df = spark.sql(join_sql)"
      ],
      "metadata": {
        "colab": {
          "base_uri": "https://localhost:8080/",
          "height": 17
        },
        "id": "_b5ZaGXFKO7n",
        "outputId": "826cfd54-4977-4103-e8cd-4a6cc1f8b1b9"
      },
      "execution_count": 12,
      "outputs": [
        {
          "output_type": "display_data",
          "data": {
            "text/plain": [
              "<IPython.core.display.HTML object>"
            ],
            "text/html": [
              "\n",
              "    <style>\n",
              "      pre {\n",
              "          white-space: pre-wrap;\n",
              "      }\n",
              "    </style>\n",
              "    "
            ]
          },
          "metadata": {}
        }
      ]
    },
    {
      "cell_type": "markdown",
      "source": [
        "### Accuracy check"
      ],
      "metadata": {
        "id": "d_jUjLAuPs06"
      }
    },
    {
      "cell_type": "code",
      "source": [
        "# Retrieve random UETR codes of transactions where entity used 0, 1 and 2 intermediary banks\n",
        "sample1_UETR = train_df.filter(train_df.IntermediaryTransactions == 0).sample(False, 0.00001).limit(1).collect()[0]['UETR']\n",
        "sample2_UETR = train_df.filter(train_df.IntermediaryTransactions == 1).sample(False, 0.00001).limit(1).collect()[0]['UETR']\n",
        "sample3_UETR = train_df.filter(train_df.IntermediaryTransactions == 2).sample(False, 0.0001).limit(1).collect()[0]['UETR']\n",
        "\n",
        "# Display sample of transactions to verify accuracy of OriginalSender and FinalReceiver\n",
        "# columns; IntermediaryTransactions value should match number of rows in sample - 1\n",
        "cols_to_show = ['MessageId', 'UETR', 'Sender', 'Receiver', 'IntermediaryTransactions']\n",
        "train_df.filter(train_df.UETR == sample1_UETR).select(cols_to_show).show(truncate=False)\n",
        "train_df.filter(train_df.UETR == sample2_UETR).select(cols_to_show).show(truncate=False)\n",
        "train_df.filter(train_df.UETR == sample3_UETR).select(cols_to_show).show(truncate=False)"
      ],
      "metadata": {
        "id": "LkfTn9ffPe_g"
      },
      "execution_count": null,
      "outputs": []
    },
    {
      "cell_type": "markdown",
      "source": [
        "### Repeat for `test_df`"
      ],
      "metadata": {
        "id": "z5d2N12eNUZr"
      }
    },
    {
      "cell_type": "code",
      "source": [
        "# Create temporary table to use for SQL query\n",
        "test_df.createOrReplaceTempView('test_df_sql')\n",
        "\n",
        "# Create new features using SQL\n",
        "join_sql = \"\"\"\n",
        "WITH UETRCounts AS (\n",
        "SELECT UETR, \n",
        "COUNT(UETR)-1 AS IntermediaryTransactions\n",
        "FROM test_df_sql\n",
        "GROUP BY UETR\n",
        ")\n",
        "SELECT test_df_sql.*, \n",
        "UETRCounts.IntermediaryTransactions\n",
        "FROM test_df_sql\n",
        "LEFT JOIN UETRCounts\n",
        "    ON test_df_sql.UETR = UETRCounts.UETR\n",
        "\"\"\"\n",
        "\n",
        "test_df = spark.sql(join_sql)"
      ],
      "metadata": {
        "colab": {
          "base_uri": "https://localhost:8080/",
          "height": 17
        },
        "id": "hy_mi5XwNXGu",
        "outputId": "a14d4770-2abd-42ea-fbe5-c4ca5cf57251"
      },
      "execution_count": 13,
      "outputs": [
        {
          "output_type": "display_data",
          "data": {
            "text/plain": [
              "<IPython.core.display.HTML object>"
            ],
            "text/html": [
              "\n",
              "    <style>\n",
              "      pre {\n",
              "          white-space: pre-wrap;\n",
              "      }\n",
              "    </style>\n",
              "    "
            ]
          },
          "metadata": {}
        }
      ]
    },
    {
      "cell_type": "markdown",
      "source": [
        "<br>"
      ],
      "metadata": {
        "id": "V-zwi4-VOySw"
      }
    },
    {
      "cell_type": "markdown",
      "source": [
        "## Create `OriginalSender` and `FinalReceiver` features by identifying original `Sender` and final `Receiver` for each end-to-end transaction\n",
        "\n",
        "As described in the preliminary EDA section, the correct way to associate ordering and beneficiary accounts with their proper banks is to identify the `Sender` bank in the first transaction of the end-to-end transaction and the `Receiver` bank in the last transaction of the end-to-end transaction. Below, we'll create new columns which do just that."
      ],
      "metadata": {
        "id": "1hNM-s9Jt6gJ"
      }
    },
    {
      "cell_type": "code",
      "source": [
        "# Create temporary table to use for SQL query\n",
        "train_df.createOrReplaceTempView('train_df_sql')\n",
        "\n",
        "# Create new features using SQL\n",
        "join_sql = \"\"\"\n",
        "WITH EarliestTransaction AS (\n",
        "SELECT UETR, \n",
        "Sender, \n",
        "Timestamp\n",
        "FROM train_df_sql \n",
        "WHERE (UETR, Timestamp) IN\n",
        "    (SELECT UETR, MIN(Timestamp) \n",
        "    FROM train_df_sql \n",
        "    GROUP BY UETR)\n",
        "), \n",
        "LatestTransaction AS (\n",
        "SELECT UETR, \n",
        "Receiver, \n",
        "Timestamp\n",
        "FROM train_df_sql \n",
        "WHERE (UETR, Timestamp) IN\n",
        "    (SELECT UETR, MAX(Timestamp) \n",
        "    FROM train_df_sql \n",
        "    GROUP BY UETR)\n",
        ")\n",
        "SELECT train_df_sql.*, \n",
        "EarliestTransaction.Sender AS OriginalSender, \n",
        "LatestTransaction.Receiver AS FinalReceiver\n",
        "FROM train_df_sql\n",
        "LEFT JOIN EarliestTransaction\n",
        "    ON train_df_sql.UETR = EarliestTransaction.UETR\n",
        "LEFT JOIN LatestTransaction\n",
        "    ON train_df_sql.UETR = LatestTransaction.UETR\n",
        "\"\"\"\n",
        "\n",
        "train_df = spark.sql(join_sql)"
      ],
      "metadata": {
        "id": "gRk-mbypt61M",
        "colab": {
          "base_uri": "https://localhost:8080/",
          "height": 17
        },
        "outputId": "bb52d1c8-0283-43aa-da90-7a6e4c6ea6c7"
      },
      "execution_count": 14,
      "outputs": [
        {
          "output_type": "display_data",
          "data": {
            "text/plain": [
              "<IPython.core.display.HTML object>"
            ],
            "text/html": [
              "\n",
              "    <style>\n",
              "      pre {\n",
              "          white-space: pre-wrap;\n",
              "      }\n",
              "    </style>\n",
              "    "
            ]
          },
          "metadata": {}
        }
      ]
    },
    {
      "cell_type": "markdown",
      "source": [
        "### Accuracy check"
      ],
      "metadata": {
        "id": "Qh-DOM0uPgpk"
      }
    },
    {
      "cell_type": "code",
      "source": [
        "# Retrieve three random UETR codes of transactions where entity used intermediary banks\n",
        "sample = train_df.filter(train_df.IntermediaryTransactions > 0).sample(False, 0.0001).limit(3).collect()\n",
        "UETRs = [sample[row]['UETR'] for row in range(3)]\n",
        "\n",
        "# Display sample of transactions to verify accuracy of OriginalSender and FinalReceiver columns\n",
        "cols_to_show = ['Timestamp', 'UETR', 'Sender', 'Receiver', 'OriginalSender', 'FinalReceiver']\n",
        "train_df.filter(train_df.UETR == UETRs[0]).select(cols_to_show).show(truncate=False)\n",
        "train_df.filter(train_df.UETR == UETRs[1]).select(cols_to_show).show(truncate=False)\n",
        "train_df.filter(train_df.UETR == UETRs[2]).select(cols_to_show).show(truncate=False)"
      ],
      "metadata": {
        "id": "OMFQEpbbvUXF"
      },
      "execution_count": null,
      "outputs": []
    },
    {
      "cell_type": "markdown",
      "source": [
        "### Repeat for `test_df`"
      ],
      "metadata": {
        "id": "3tKAQvb1D5fv"
      }
    },
    {
      "cell_type": "code",
      "source": [
        "# Create temporary table to use for SQL query\n",
        "test_df.createOrReplaceTempView('test_df_sql')\n",
        "\n",
        "# Create new features using SQL\n",
        "join_sql = \"\"\"\n",
        "WITH EarliestTransaction AS (\n",
        "SELECT UETR, \n",
        "Sender, \n",
        "Timestamp\n",
        "FROM test_df_sql \n",
        "WHERE (UETR, Timestamp) IN\n",
        "    (SELECT UETR, MIN(Timestamp) \n",
        "    FROM test_df_sql \n",
        "    GROUP BY UETR)\n",
        "), \n",
        "LatestTransaction AS (\n",
        "SELECT UETR, \n",
        "Receiver, \n",
        "Timestamp\n",
        "FROM test_df_sql \n",
        "WHERE (UETR, Timestamp) IN\n",
        "    (SELECT UETR, MAX(Timestamp) \n",
        "    FROM test_df_sql \n",
        "    GROUP BY UETR)\n",
        ")\n",
        "SELECT test_df_sql.*, \n",
        "EarliestTransaction.Sender AS OriginalSender, \n",
        "LatestTransaction.Receiver AS FinalReceiver\n",
        "FROM test_df_sql\n",
        "LEFT JOIN EarliestTransaction\n",
        "    ON test_df_sql.UETR = EarliestTransaction.UETR\n",
        "LEFT JOIN LatestTransaction\n",
        "    ON test_df_sql.UETR = LatestTransaction.UETR\n",
        "\"\"\"\n",
        "\n",
        "test_df = spark.sql(join_sql)"
      ],
      "metadata": {
        "id": "i8y8H-yIDw9i",
        "colab": {
          "base_uri": "https://localhost:8080/",
          "height": 17
        },
        "outputId": "495a9dee-1163-4e6a-e99f-19b9b8b24ed6"
      },
      "execution_count": 15,
      "outputs": [
        {
          "output_type": "display_data",
          "data": {
            "text/plain": [
              "<IPython.core.display.HTML object>"
            ],
            "text/html": [
              "\n",
              "    <style>\n",
              "      pre {\n",
              "          white-space: pre-wrap;\n",
              "      }\n",
              "    </style>\n",
              "    "
            ]
          },
          "metadata": {}
        }
      ]
    },
    {
      "cell_type": "markdown",
      "source": [
        "### Visualize target class distributions of senders, final senders, receivers, and final receivers\n",
        "\n",
        "Here we will do a similar visualization as we did in the EDA section, except instead of comparing the same banks across non-anomalous and anomalous transactions, the primary comparison here will be the difference in frequency between how often a given bank is a regular sender vs. original sender, and regular receiver vs. final receiver.\n",
        "\n",
        "If these visualizations show a great deal of difference between the two across multiple banks, it'll tell us that these features carry a lot of signal and are worth bringing into the final dataframe as one hot encoded features."
      ],
      "metadata": {
        "id": "_oNxWqbyuz8l"
      }
    },
    {
      "cell_type": "code",
      "source": [
        "# Sample 5% of train_df for visualizations (approximately 235k observations) for efficiency\n",
        "viz_cols = ['Sender', 'OriginalSender', 'Label']\n",
        "viz_df = train_df.select(viz_cols).sample(withReplacement=False, fraction=0.05, seed=42).toPandas()\n",
        "# Melt dataframe so original/final senders and receivers and can be plotted side-by-side\n",
        "viz_df = pd.melt(viz_df, id_vars=['Label'], value_vars=['Sender', 'OriginalSender'], var_name='Type', value_name='Bank')"
      ],
      "metadata": {
        "id": "nlb0elVNbqiG"
      },
      "execution_count": null,
      "outputs": []
    },
    {
      "cell_type": "code",
      "source": [
        "# Define figure and axes\n",
        "fig, (ax1, ax2) = plt.subplots(nrows=1, ncols=2, figsize=(23, 14))\n",
        "\n",
        "# Plot countplot of non-anomalous transactions\n",
        "sns.countplot(y='Bank', data=viz_df[viz_df.Label == 0], ax=ax1, hue='Type', \n",
        "              order=viz_df[viz_df.Label == 0]['Bank'].value_counts().index,  # Order descending\n",
        "              palette='tab10')\n",
        "\n",
        "# Plot countplot of anomalous transactions\n",
        "sns.countplot(y='Bank', data=viz_df[viz_df.Label == 1], ax=ax2, hue='Type', \n",
        "              order=viz_df[viz_df.Label == 1]['Bank'].value_counts().index,  # Order descending\n",
        "              palette='tab10')\n",
        "\n",
        "# # Print percentages to the right of bars (ax1)\n",
        "for p in ax1.patches:\n",
        "    percentage = '{:.1f}%'.format(100 * p.get_width()/viz_df[viz_df.Label == 0].shape[0])\n",
        "    x = p.get_x() + p.get_width()+100\n",
        "    y = p.get_y() + p.get_height()-0.15\n",
        "    ax1.annotate(percentage, (x, y))\n",
        "\n",
        "# # Print percentages to the right of bars (ax2)\n",
        "for p in ax2.patches:\n",
        "    percentage = '{:.1f}%'.format(100 * p.get_width()/viz_df[viz_df.Label == 1].shape[0])\n",
        "    x = p.get_x() + p.get_width()+0.3\n",
        "    y = p.get_y() + p.get_height()-0.18\n",
        "    ax2.annotate(percentage, (x, y))\n",
        "\n",
        "ax1.set_title('Sender Banks of Non-Anomalous Transactions (Label 0)', fontsize=17)\n",
        "ax1.set_xlabel('Count (5% Sample)', fontsize=16)\n",
        "ax1.set_xticklabels(['{:,}'.format(int(x)) for x in ax1.get_xticks()], fontsize=12)\n",
        "ax1.set_ylabel('Institution (Bank)', fontsize=16)\n",
        "ax1.set_yticklabels(ax1.get_yticklabels(), fontsize=11)\n",
        "ax1.legend(title='Type', loc='center right', fontsize=12, title_fontsize=13)\n",
        "ax2.set_title('Sender Banks of Anomalous Transactions (Label 1)', fontsize=17)\n",
        "ax2.set_xlabel('Count (5% Sample)', fontsize=16)\n",
        "ax2.set_xticklabels(ax2.get_xticks().astype(int), fontsize=12)\n",
        "ax2.set_ylabel('Institution (Bank)', fontsize=16)\n",
        "ax2.set_yticklabels(ax2.get_yticklabels(), fontsize=11)\n",
        "ax2.legend(title='Type', loc='center right', fontsize=12, title_fontsize=13);"
      ],
      "metadata": {
        "id": "T6Gm3B51bwee"
      },
      "execution_count": null,
      "outputs": []
    },
    {
      "cell_type": "code",
      "source": [
        "# Sample 5% of train_df for visualizations (approximately 235k observations) for efficiency\n",
        "viz_cols = ['Receiver', 'FinalReceiver', 'Label']\n",
        "viz_df = train_df.select(viz_cols).sample(withReplacement=False, fraction=0.05, seed=42).toPandas()\n",
        "viz_df = pd.melt(viz_df, id_vars=['Label'], value_vars=['Receiver', 'FinalReceiver'], var_name='Type', value_name='Bank')"
      ],
      "metadata": {
        "id": "g_YuWoqJt_M4"
      },
      "execution_count": null,
      "outputs": []
    },
    {
      "cell_type": "code",
      "source": [
        "# Define figure and axes\n",
        "fig, (ax1, ax2) = plt.subplots(nrows=1, ncols=2, figsize=(23, 14))\n",
        "\n",
        "# Plot countplot of non-anomalous transactions\n",
        "sns.countplot(y='Bank', data=viz_df[viz_df.Label == 0], ax=ax1, hue='Type', \n",
        "              order=viz_df[viz_df.Label == 0]['Bank'].value_counts().index,  # Order descending\n",
        "              palette='tab10')\n",
        "\n",
        "# Plot countplot of anomalous transactions\n",
        "sns.countplot(y='Bank', data=viz_df[viz_df.Label == 1], ax=ax2, hue='Type', \n",
        "              order=viz_df[viz_df.Label == 1]['Bank'].value_counts().index,  # Order descending\n",
        "              palette='tab10')\n",
        "\n",
        "# # Print percentages to the right of bars (ax1)\n",
        "for p in ax1.patches:\n",
        "    percentage = '{:.1f}%'.format(100 * p.get_width()/viz_df[viz_df.Label == 0].shape[0])\n",
        "    x = p.get_x() + p.get_width()+100\n",
        "    y = p.get_y() + p.get_height()-0.15\n",
        "    ax1.annotate(percentage, (x, y))\n",
        "\n",
        "# # Print percentages to the right of bars (ax2)\n",
        "for p in ax2.patches:\n",
        "    percentage = '{:.1f}%'.format(100 * p.get_width()/viz_df[viz_df.Label == 1].shape[0])\n",
        "    x = p.get_x() + p.get_width()+0.3\n",
        "    y = p.get_y() + p.get_height()-0.1\n",
        "    ax2.annotate(percentage, (x, y))\n",
        "\n",
        "ax1.set_title('Receiver Banks of Non-Anomalous Transactions (Label 0)', fontsize=17)\n",
        "ax1.set_xlabel('Count (5% Sample)', fontsize=16)\n",
        "ax1.set_xticklabels(['{:,}'.format(int(x)) for x in ax1.get_xticks()], fontsize=12)\n",
        "ax1.set_ylabel('Institution (Bank)', fontsize=16)\n",
        "ax1.set_yticklabels(ax1.get_yticklabels(), fontsize=11)\n",
        "ax1.legend(title='Type', loc='center right', fontsize=12, title_fontsize=13)\n",
        "ax2.set_title('Receiver Banks of Anomalous Transactions (Label 1)', fontsize=17)\n",
        "ax2.set_xlabel('Count (5% Sample)', fontsize=16)\n",
        "ax2.set_xticklabels(ax2.get_xticks().astype(int), fontsize=12)\n",
        "ax2.set_ylabel('Institution (Bank)', fontsize=16)\n",
        "ax2.set_yticklabels(ax2.get_yticklabels(), fontsize=11)\n",
        "ax2.legend(title='Type', loc='center right', fontsize=12, title_fontsize=13);"
      ],
      "metadata": {
        "id": "AGQMrlYbtmqS"
      },
      "execution_count": null,
      "outputs": []
    },
    {
      "cell_type": "markdown",
      "source": [
        "**Remarks**\n",
        "- While there is definitely a noticeable difference in frequency between original vs. final sender/receiver for some banks, overall the difference is minor for the majority. However, we see an interesting trend where original senders appear to be concentrated among four banks for anomalous transactions, while non-anomalous transactions include many more. This trend reverses though for receiver banks, where there is a greater variety of banks among anomalous transactions than among non-anomalous ones."
      ],
      "metadata": {
        "id": "dGR4R2Piv1mD"
      }
    },
    {
      "cell_type": "markdown",
      "source": [
        "<br>"
      ],
      "metadata": {
        "id": "FbDrx_YM09YZ"
      }
    },
    {
      "cell_type": "markdown",
      "source": [
        "## Create `Flagged` feature by joining `Flags` column of `banks_df`\n",
        "\n",
        "As we saw in the preliminary EDA section, none of the accounts with non-zero flags are associated with `OrderingAccount`s; they are all associated with `BeneficiaryAccount`s. It therefore wouldn't make any sense to create a column of `OrderingAccontFlag`s as every value in it would be `0`. We'll only make a column of `BeneficiaryAccountFlag`s."
      ],
      "metadata": {
        "id": "wYeuL8b51iGn"
      }
    },
    {
      "cell_type": "code",
      "source": [
        "# Create temporary tables to use for SQL query\n",
        "train_df.createOrReplaceTempView('train_df_sql')\n",
        "banks_df.createOrReplaceTempView('banks_df_sql')\n",
        "\n",
        "# Create new feature using SQL\n",
        "join_sql = \"\"\"\n",
        "SELECT train_df_sql.*, \n",
        "banks_df_sql.Account AS MatchingBeneficiaryAccount, \n",
        "banks_df_sql.Flags AS BeneficiaryAccountFlag\n",
        "FROM train_df_sql\n",
        "LEFT JOIN banks_df_sql\n",
        "    ON train_df_sql.BeneficiaryAccount = banks_df_sql.Account\n",
        "\"\"\"\n",
        "\n",
        "train_df = spark.sql(join_sql)"
      ],
      "metadata": {
        "id": "fLOzGMds5K77",
        "colab": {
          "base_uri": "https://localhost:8080/",
          "height": 17
        },
        "outputId": "b89d7974-e500-4469-a172-e9448480c6fd"
      },
      "execution_count": 16,
      "outputs": [
        {
          "output_type": "display_data",
          "data": {
            "text/plain": [
              "<IPython.core.display.HTML object>"
            ],
            "text/html": [
              "\n",
              "    <style>\n",
              "      pre {\n",
              "          white-space: pre-wrap;\n",
              "      }\n",
              "    </style>\n",
              "    "
            ]
          },
          "metadata": {}
        }
      ]
    },
    {
      "cell_type": "markdown",
      "source": [
        "### Accuracy check"
      ],
      "metadata": {
        "id": "jO1i-_EpPktA"
      }
    },
    {
      "cell_type": "code",
      "source": [
        "# Retrieve three random UETR codes of transactions with non-zero flags\n",
        "sample = train_df.filter(train_df.BeneficiaryAccountFlag != 0).sample(False, 0.1).limit(3).collect()\n",
        "UETRs = [sample[row]['UETR'] for row in range(3)]\n",
        "\n",
        "# Only show relevant columns of train_df\n",
        "cols_to_show_train = ['Timestamp', 'UETR', 'OrderingAccount', 'BeneficiaryAccount', \\\n",
        "                      'MatchingBeneficiaryAccount', 'BeneficiaryAccountFlag']\n",
        "\n",
        "# Only show relevant columns of banks_df\n",
        "cols_to_show_bank = ['Account', 'Flags']\n",
        "\n",
        "# Get selected beneficiary accounts of train_df to display side-by-side with matching account in banks_df\n",
        "first_account = train_df.filter(train_df.UETR == UETRs[0]).collect()[0]['BeneficiaryAccount']\n",
        "second_account = train_df.filter(train_df.UETR == UETRs[1]).collect()[0]['BeneficiaryAccount']\n",
        "third_account = train_df.filter(train_df.UETR == UETRs[2]).collect()[0]['BeneficiaryAccount']\n",
        "\n",
        "train_df.filter(train_df.UETR == UETRs[0]).select(cols_to_show_train).show(truncate=False, vertical=True)\n",
        "banks_df.filter(banks_df.Account == first_account).select(cols_to_show_bank).show(truncate=False, vertical=True)\n",
        "print('\\n')\n",
        "train_df.filter(train_df.UETR == UETRs[1]).select(cols_to_show_train).show(truncate=False, vertical=True)\n",
        "banks_df.filter(banks_df.Account == second_account).select(cols_to_show_bank).show(truncate=False, vertical=True)\n",
        "print('\\n')\n",
        "train_df.filter(train_df.UETR == UETRs[2]).select(cols_to_show_train).show(truncate=False, vertical=True)\n",
        "banks_df.filter(banks_df.Account == third_account).select(cols_to_show_bank).show(truncate=False, vertical=True)"
      ],
      "metadata": {
        "id": "GUyncvPdsHUV"
      },
      "execution_count": null,
      "outputs": []
    },
    {
      "cell_type": "markdown",
      "source": [
        "### Repeat for `test_df`"
      ],
      "metadata": {
        "id": "HnKfgguueMyG"
      }
    },
    {
      "cell_type": "code",
      "source": [
        "# Create temporary table to use for SQL query\n",
        "test_df.createOrReplaceTempView('test_df_sql')\n",
        "\n",
        "# Create new feature using SQL\n",
        "join_sql = \"\"\"\n",
        "SELECT test_df_sql.*, \n",
        "banks_df_sql.Account AS MatchingBeneficiaryAccount, \n",
        "banks_df_sql.Flags AS BeneficiaryAccountFlag\n",
        "FROM test_df_sql\n",
        "LEFT JOIN banks_df_sql\n",
        "    ON test_df_sql.BeneficiaryAccount = banks_df_sql.Account\n",
        "\"\"\"\n",
        "\n",
        "test_df = spark.sql(join_sql)"
      ],
      "metadata": {
        "id": "v39V4pGZsmxS",
        "colab": {
          "base_uri": "https://localhost:8080/",
          "height": 17
        },
        "outputId": "1fd0ab09-0c3f-4714-b171-93e528d4ed75"
      },
      "execution_count": 17,
      "outputs": [
        {
          "output_type": "display_data",
          "data": {
            "text/plain": [
              "<IPython.core.display.HTML object>"
            ],
            "text/html": [
              "\n",
              "    <style>\n",
              "      pre {\n",
              "          white-space: pre-wrap;\n",
              "      }\n",
              "    </style>\n",
              "    "
            ]
          },
          "metadata": {}
        }
      ]
    },
    {
      "cell_type": "code",
      "source": [
        "# Check for null values in new BeneficiaryAccountFlag column\n",
        "train_df.where(F.col('BeneficiaryAccountFlag').isNull() | F.isnan('BeneficiaryAccountFlag')).count()"
      ],
      "metadata": {
        "id": "NTWhPJNGuS5M"
      },
      "execution_count": null,
      "outputs": []
    },
    {
      "cell_type": "code",
      "source": [
        "# Replace null values in BeneficiaryAccountFlag with value of '2' which will signify that there is no \n",
        "# matching account in banks_df\n",
        "train_df = train_df.fillna(value=2, subset='BeneficiaryAccountFlag')\n",
        "test_df = test_df.fillna(value=2, subset='BeneficiaryAccountFlag')\n",
        "\n",
        "assert train_df.where(F.col('BeneficiaryAccountFlag').isNull() | F.isnan('BeneficiaryAccountFlag')).count() == 0\n",
        "assert test_df.where(F.col('BeneficiaryAccountFlag').isNull() | F.isnan('BeneficiaryAccountFlag')).count() == 0"
      ],
      "metadata": {
        "colab": {
          "base_uri": "https://localhost:8080/",
          "height": 17
        },
        "id": "9wBHF1LAugQX",
        "outputId": "d165bf3e-86bf-4a26-df40-9cebda9ad8c1"
      },
      "execution_count": 18,
      "outputs": [
        {
          "output_type": "display_data",
          "data": {
            "text/plain": [
              "<IPython.core.display.HTML object>"
            ],
            "text/html": [
              "\n",
              "    <style>\n",
              "      pre {\n",
              "          white-space: pre-wrap;\n",
              "      }\n",
              "    </style>\n",
              "    "
            ]
          },
          "metadata": {}
        }
      ]
    },
    {
      "cell_type": "code",
      "source": [
        "# Check distribution of flagged beneficiary accounts in train_df\n",
        "train_df.groupBy('Label', 'BeneficiaryAccountFlag').agg({'Label': 'count'}).show()"
      ],
      "metadata": {
        "id": "GWkwLBiyixkN"
      },
      "execution_count": null,
      "outputs": []
    },
    {
      "cell_type": "markdown",
      "source": [
        "**Remarks:**\n",
        "- The math checks out on the number of flagged beneficiary accounts - we saw 800 flagged accounts in the EDA section, and after filling in the 111 missing values with 2s, we have 4,100 zero-flagged anomalous transactions and 800 non-zero-flagged anomalous transactions.\n",
        "- It looks like there are no non-anomalous beneficiary accounts that are non-zero-flagged. In other words, every single non-anomalous transaction has a flag of 0 associated with the beneficiary account. This doesn't mean the classification will be easy now though; 3,989 out of 4,900 anomalous transactions are also zero-flagged.\n",
        "- Since every single non-zero-flagged account, regardless of the type of flag, is anomalous, it actually doesn't matter what kind of flag it is as far as predictive modeling goes, so to one hot encode this feature would pointlessly add excess dimensionality to the dataset. Let's replace `BeneficiaryAccountFlag` with a simple binary categorical `Flagged` column: `0` if zero-flagged and `1` if non-zero-flagged."
      ],
      "metadata": {
        "id": "HgwCI3bgxK8F"
      }
    },
    {
      "cell_type": "code",
      "source": [
        "train_df = train_df.withColumn('Flagged', F.when(train_df.BeneficiaryAccountFlag != 0, 1).otherwise(0))\n",
        "test_df = test_df.withColumn('Flagged', F.when(test_df.BeneficiaryAccountFlag != 0, 1).otherwise(0))\n",
        "\n",
        "# Check distribution of new Flagged feature of train_df\n",
        "train_df.groupBy('Label', 'Flagged').agg({'Label': 'count'}).show()"
      ],
      "metadata": {
        "colab": {
          "base_uri": "https://localhost:8080/",
          "height": 160
        },
        "id": "4JSFiGLeRhCJ",
        "outputId": "6b369e14-98d3-4772-b9cc-63d104f5db39"
      },
      "execution_count": 19,
      "outputs": [
        {
          "output_type": "display_data",
          "data": {
            "text/plain": [
              "<IPython.core.display.HTML object>"
            ],
            "text/html": [
              "\n",
              "    <style>\n",
              "      pre {\n",
              "          white-space: pre-wrap;\n",
              "      }\n",
              "    </style>\n",
              "    "
            ]
          },
          "metadata": {}
        },
        {
          "output_type": "stream",
          "name": "stdout",
          "text": [
            "+-----+-------+------------+\n",
            "|Label|Flagged|count(Label)|\n",
            "+-----+-------+------------+\n",
            "|    1|      0|        3989|\n",
            "|    1|      1|         911|\n",
            "|    0|      0|     4686825|\n",
            "+-----+-------+------------+\n",
            "\n"
          ]
        }
      ]
    },
    {
      "cell_type": "markdown",
      "source": [
        "<br>"
      ],
      "metadata": {
        "id": "bwfiKQIhoHjs"
      }
    },
    {
      "cell_type": "markdown",
      "source": [
        "## Create `OrderingCountryFreq` and `BeneficiaryCountryFreq` features\n",
        "\n",
        "We saw in the creation of `OrderingCountry` and `BeneficiaryCountry` above that there are noticeable difference between non-anomalous and anomalous transactions in the frequency of ordering and beneficiary countries. Let's create numerical features here which capture that difference."
      ],
      "metadata": {
        "id": "U57gyMnjoHpl"
      }
    },
    {
      "cell_type": "code",
      "source": [
        "# Create dictionary of ordering country frequency values to map from sender country values\n",
        "ordering_country_freq = {}\n",
        "# Create dictionary of beneficiary country currency values to map from beneficiary country values\n",
        "beneficiary_country_freq = {}\n",
        "\n",
        "pd_train_df = train_df.select('OrderingCountry', 'BeneficiaryCountry').toPandas()\n",
        "pd_test_df = test_df.select('OrderingCountry', 'BeneficiaryCountry').toPandas()\n",
        "\n",
        "for oc in set(\n",
        "    list(pd_train_df['OrderingCountry'].unique()) + list(pd_test_df['OrderingCountry'].unique())\n",
        "):\n",
        "    ordering_country_freq[oc] = len(pd_train_df[pd_train_df['OrderingCountry'] == oc])\n",
        "\n",
        "for bc in set(\n",
        "    list(pd_train_df['BeneficiaryCountry'].unique()) + list(pd_test_df['BeneficiaryCountry'].unique())\n",
        "):\n",
        "    beneficiary_country_freq[bc] = len(pd_train_df[pd_train_df['BeneficiaryCountry'] == bc])\n",
        "\n",
        "# Create new column in train and test dataframes with ordering_country_freq dictionary\n",
        "mapping_expr = F.create_map([F.lit(x) for x in chain(*ordering_country_freq.items())])\n",
        "\n",
        "train_df = train_df.withColumn('OrderingCountryFreq', mapping_expr[F.col('OrderingCountry')])\n",
        "test_df = test_df.withColumn('OrderingCountryFreq', mapping_expr[F.col('OrderingCountry')])\n",
        "\n",
        "# Create new column in train and test dataframes with beneficiary_country_freq dictionary\n",
        "mapping_expr = F.create_map([F.lit(x) for x in chain(*beneficiary_country_freq.items())])\n",
        "\n",
        "train_df = train_df.withColumn('BeneficiaryCountryFreq', mapping_expr[F.col('BeneficiaryCountry')])\n",
        "test_df = test_df.withColumn('BeneficiaryCountryFreq', mapping_expr[F.col('BeneficiaryCountry')])"
      ],
      "metadata": {
        "colab": {
          "base_uri": "https://localhost:8080/",
          "height": 17
        },
        "id": "NNsCHNW2oHu3",
        "outputId": "f045d07f-e0ac-48a6-e821-5bad64365023"
      },
      "execution_count": 20,
      "outputs": [
        {
          "output_type": "display_data",
          "data": {
            "text/plain": [
              "<IPython.core.display.HTML object>"
            ],
            "text/html": [
              "\n",
              "    <style>\n",
              "      pre {\n",
              "          white-space: pre-wrap;\n",
              "      }\n",
              "    </style>\n",
              "    "
            ]
          },
          "metadata": {}
        }
      ]
    },
    {
      "cell_type": "code",
      "source": [
        "# Retrieve five random UETR codes of transactions\n",
        "sample = train_df.sample(False, 0.00001).limit(5).collect()\n",
        "UETRs = [sample[row]['UETR'] for row in range(5)]\n",
        "\n",
        "# Display sample of transactions to verify accuracy of new columns\n",
        "cols_to_show = ['UETR', 'OrderingCountry', 'OrderingCountryFreq', 'BeneficiaryCountry', 'BeneficiaryCountryFreq', 'Label']\n",
        "train_df.select(cols_to_show).filter(F.col('UETR').isin(UETRs)).show(truncate=15)"
      ],
      "metadata": {
        "id": "q69kySd2oHyw"
      },
      "execution_count": null,
      "outputs": []
    },
    {
      "cell_type": "markdown",
      "source": [
        "<br>"
      ],
      "metadata": {
        "id": "M2wCEEddPksM"
      }
    },
    {
      "cell_type": "markdown",
      "metadata": {
        "id": "NyY21cvovTXM"
      },
      "source": [
        "## Create `SenderHourFreq` feature: transaction hour frequency for each `OriginalSender`\n",
        "\n",
        "This feature will tell us the frequency with which each sender initiated transactions for each hour of the day. This should capture some of the signal of the correlation between the sender and target class as well as the correlation between transaction hour and target class.\n",
        "\n",
        "For this feature, it was not immediately apparent whether we should use the individual transaction sender (`Sender`) or the end-to-end transaction sender (`OriginalSender`). On the one hand, the transaction sender is the actual bank that is associated with the hour with which that transaction was initiated; on the other hand, the `OriginalSender` is the \"correct\" bank to associate with the account-holder. In the end, we ended up trying both and doing a correlation analysis, and we found that the `OriginalSender` had a higher correlation with the `Label` column in the training data, so we used the end-to-end `OriginalSender`.\n",
        "\n",
        "For the testing dataset, we will map the sender hour frequencies from the training dataset; if we were to repeat the process entirely it would result in data leakage."
      ]
    },
    {
      "cell_type": "code",
      "execution_count": 21,
      "metadata": {
        "id": "4kz9zFgrR5Nj",
        "colab": {
          "base_uri": "https://localhost:8080/",
          "height": 17
        },
        "outputId": "277c2d69-6712-4c26-8798-438c3709ff01"
      },
      "outputs": [
        {
          "output_type": "display_data",
          "data": {
            "text/plain": [
              "<IPython.core.display.HTML object>"
            ],
            "text/html": [
              "\n",
              "    <style>\n",
              "      pre {\n",
              "          white-space: pre-wrap;\n",
              "      }\n",
              "    </style>\n",
              "    "
            ]
          },
          "metadata": {}
        }
      ],
      "source": [
        "# Define UDF to extract hour from timestamp\n",
        "hour = F.udf(lambda x: x.hour, IntegerType())\n",
        "\n",
        "# Create new column of transaction hours\n",
        "train_df = train_df.withColumn('Hour', hour(train_df.Timestamp))\n",
        "test_df = test_df.withColumn('Hour', hour(test_df.Timestamp))\n",
        "\n",
        "# Create list of unique original senders\n",
        "senders = train_df.select('OriginalSender').toPandas()['OriginalSender'].unique()\n",
        "\n",
        "# Create column of senders concatenated with hours\n",
        "train_df = train_df.withColumn('SenderHour', F.concat(F.col('OriginalSender'), F.col('Hour').cast(StringType())))\n",
        "test_df = test_df.withColumn('SenderHour', F.concat(F.col('OriginalSender'), F.col('Hour').cast(StringType())))\n",
        "\n",
        "pd_df = train_df.select('OriginalSender', 'Hour').toPandas()\n",
        "\n",
        "# Create dictionary of sender hour frequency values to map from sender hour values\n",
        "sender_hour_frequency = {}\n",
        "\n",
        "for sender in senders:\n",
        "    sender_rows = pd_df[pd_df['OriginalSender'] == sender]\n",
        "    for hour in range(24):\n",
        "        sender_hour_frequency[sender + str(hour)] = len(sender_rows[sender_rows['Hour'] == hour])\n",
        "\n",
        "# Create new column in train and test dataframes with sender_hour_frequency dictionary\n",
        "mapping_expr = F.create_map([F.lit(x) for x in chain(*sender_hour_frequency.items())])\n",
        "\n",
        "train_df = train_df.withColumn('SenderHourFreq', mapping_expr[F.col('SenderHour')])\n",
        "test_df = test_df.withColumn('SenderHourFreq', mapping_expr[F.col('SenderHour')])"
      ]
    },
    {
      "cell_type": "code",
      "source": [
        "# Retrieve five random UETR codes of transactions\n",
        "sample = train_df.sample(False, 0.00001).limit(5).collect()\n",
        "UETRs = [sample[row]['UETR'] for row in range(5)]\n",
        "\n",
        "# Display sample of transactions to verify accuracy of new columns\n",
        "cols_to_show = ['UETR', 'OriginalSender', 'Hour', 'SenderHour', 'SenderHourFreq', 'Label']\n",
        "train_df.select(cols_to_show).filter(F.col('UETR').isin(UETRs)).show(truncate=15)"
      ],
      "metadata": {
        "id": "uyWRm5kBs42e"
      },
      "execution_count": null,
      "outputs": []
    },
    {
      "cell_type": "markdown",
      "source": [
        "<br>"
      ],
      "metadata": {
        "id": "vyYKWfRaPicy"
      }
    },
    {
      "cell_type": "markdown",
      "metadata": {
        "id": "iKfj2pFGQGOW"
      },
      "source": [
        "## Create `SenderCurrencyFreq` and `SenderCurrencyAmtAvg` features: transaction currency frequency and average transaction amount per currency for each sender\n",
        "\n",
        "These features will tell us the frequency with which each sender initiated transactions for each currency, in the case of the first feature. For the second feature, it will tell us the average amount with which each sender sent each currency. These features may also be correlated with anomalous transactions.\n",
        "\n",
        "We'll make sure to use `InstructedAmountUSD` and not `InstructedAmount` to keep a consistent scale. Like before, we will use the `OriginalSender` as we know that the correct way to identify an account with its `Sender` bank is to look at the original sender in the end-to-end transaction.\n",
        "\n",
        "Additionally, we'll use the training data to map values to the testing data to avoid data leakage (the testing data is converted to a Pandas dataframe and used in the `for` loop only to retrieve `Sender`-currency combinations that might not be in the training data)."
      ]
    },
    {
      "cell_type": "code",
      "execution_count": 22,
      "metadata": {
        "id": "ZINrnCpHQjkN",
        "colab": {
          "base_uri": "https://localhost:8080/",
          "height": 17
        },
        "outputId": "316be28b-090b-43df-ee1b-7fddfb0fe9fd"
      },
      "outputs": [
        {
          "output_type": "display_data",
          "data": {
            "text/plain": [
              "<IPython.core.display.HTML object>"
            ],
            "text/html": [
              "\n",
              "    <style>\n",
              "      pre {\n",
              "          white-space: pre-wrap;\n",
              "      }\n",
              "    </style>\n",
              "    "
            ]
          },
          "metadata": {}
        }
      ],
      "source": [
        "# Create column of senders concatenated with instructed currencies\n",
        "train_df = train_df.withColumn('SenderCurrency', F.concat(F.col('OriginalSender'), F.col('InstructedCurrency')))\n",
        "test_df = test_df.withColumn('SenderCurrency', F.concat(F.col('OriginalSender'), F.col('InstructedCurrency')))\n",
        "\n",
        "# Create temporary Pandas dataframes of sender currencies and amounts in USD\n",
        "pd_train_df = train_df.select('SenderCurrency', 'InstructedAmountUSD').toPandas()\n",
        "pd_test_df = test_df.select('SenderCurrency', 'InstructedAmountUSD').toPandas()\n",
        "\n",
        "# Create dictionary of sender currency frequency values to map from sender currency values\n",
        "sender_currency_freq = {}\n",
        "# Create dictionary of average sender currency values to map from sender currency values\n",
        "sender_currency_avg = {}\n",
        "\n",
        "for sc in set(\n",
        "    list(pd_train_df['SenderCurrency'].unique()) + list(pd_test_df['SenderCurrency'].unique())\n",
        "):\n",
        "    sender_currency_freq[sc] = len(pd_train_df[pd_train_df['SenderCurrency'] == sc])\n",
        "    sender_currency_avg[sc] = pd_train_df[pd_train_df['SenderCurrency'] == sc][\n",
        "        'InstructedAmountUSD'\n",
        "    ].mean()\n",
        "\n",
        "# Create new column in train and test dataframes with sender_currency_freq dictionary\n",
        "mapping_expr = F.create_map([F.lit(x) for x in chain(*sender_currency_freq.items())])\n",
        "\n",
        "train_df = train_df.withColumn('SenderCurrencyFreq', mapping_expr[F.col('SenderCurrency')])\n",
        "test_df = test_df.withColumn('SenderCurrencyFreq', mapping_expr[F.col('SenderCurrency')])\n",
        "\n",
        "# Create new column in train and test dataframes with sender_currency_avg dictionary\n",
        "mapping_expr = F.create_map([F.lit(x) for x in chain(*sender_currency_avg.items())])\n",
        "\n",
        "train_df = train_df.withColumn('SenderCurrencyAmtAvg', mapping_expr[F.col('SenderCurrency')])\n",
        "test_df = test_df.withColumn('SenderCurrencyAmtAvg', mapping_expr[F.col('SenderCurrency')])\n",
        "\n",
        "# Convert column to integer type\n",
        "train_df = train_df.withColumn('SenderCurrencyAmtAvg', F.round(train_df['SenderCurrencyAmtAvg']).cast(IntegerType()))\n",
        "test_df = test_df.withColumn('SenderCurrencyAmtAvg', F.round(test_df['SenderCurrencyAmtAvg']).cast(IntegerType()))"
      ]
    },
    {
      "cell_type": "code",
      "source": [
        "# Retrieve five random UETR codes of transactions\n",
        "sample = train_df.sample(False, 0.00001).limit(5).collect()\n",
        "UETRs = [sample[row]['UETR'] for row in range(5)]\n",
        "\n",
        "# Display sample of transactions to verify accuracy of new columns\n",
        "cols_to_show = ['UETR', 'OriginalSender', 'InstructedCurrency', 'InstructedAmountUSD', 'SenderCurrencyFreq', 'SenderCurrencyAmtAvg', 'Label']\n",
        "train_df.select(cols_to_show).filter(F.col('UETR').isin(UETRs)).show(truncate=20)"
      ],
      "metadata": {
        "id": "WAdRMi91vbE6"
      },
      "execution_count": null,
      "outputs": []
    },
    {
      "cell_type": "markdown",
      "source": [
        "<br>"
      ],
      "metadata": {
        "id": "hZ9qYnOISRj-"
      }
    },
    {
      "cell_type": "markdown",
      "source": [
        "## Create `SenderFreq` and `ReceiverFreq` features: `OriginalSender` and `FinalReceiver` frequencies for each unique `OriginalSender` and `FinalReceiver`"
      ],
      "metadata": {
        "id": "aIKIKGgAm_gX"
      }
    },
    {
      "cell_type": "code",
      "source": [
        "# Create dictionary of sender bank frequency values to map from original sender banks\n",
        "sender_freq = {}\n",
        "# Create dictionary of receiver bank frequency values to map from final receiver banks\n",
        "receiver_freq = {}\n",
        "\n",
        "pd_train_df = train_df.select('OriginalSender', 'FinalReceiver').toPandas()\n",
        "pd_test_df = test_df.select('OriginalSender', 'FinalReceiver').toPandas()\n",
        "\n",
        "for os in set(\n",
        "    list(pd_train_df['OriginalSender'].unique()) + list(pd_test_df['OriginalSender'].unique())\n",
        "):\n",
        "    sender_freq[os] = len(pd_train_df[pd_train_df['OriginalSender'] == os])\n",
        "\n",
        "for fr in set(\n",
        "    list(pd_train_df['FinalReceiver'].unique()) + list(pd_test_df['FinalReceiver'].unique())\n",
        "):\n",
        "    receiver_freq[fr] = len(pd_train_df[pd_train_df['FinalReceiver'] == fr])\n",
        "\n",
        "# Create new column in train and test dataframes with sender_freq dictionary\n",
        "mapping_expr = F.create_map([F.lit(x) for x in chain(*sender_freq.items())])\n",
        "\n",
        "train_df = train_df.withColumn('SenderFreq', mapping_expr[F.col('OriginalSender')])\n",
        "test_df = test_df.withColumn('SenderFreq', mapping_expr[F.col('OriginalSender')])\n",
        "\n",
        "# Create new column in train and test dataframes with receiver_freq dictionary\n",
        "mapping_expr = F.create_map([F.lit(x) for x in chain(*receiver_freq.items())])\n",
        "\n",
        "train_df = train_df.withColumn('ReceiverFreq', mapping_expr[F.col('FinalReceiver')])\n",
        "test_df = test_df.withColumn('ReceiverFreq', mapping_expr[F.col('FinalReceiver')])"
      ],
      "metadata": {
        "colab": {
          "base_uri": "https://localhost:8080/",
          "height": 17
        },
        "id": "XGxY9nGmm_Tx",
        "outputId": "31c8c124-5261-4314-dd81-ea454742d068"
      },
      "execution_count": 23,
      "outputs": [
        {
          "output_type": "display_data",
          "data": {
            "text/plain": [
              "<IPython.core.display.HTML object>"
            ],
            "text/html": [
              "\n",
              "    <style>\n",
              "      pre {\n",
              "          white-space: pre-wrap;\n",
              "      }\n",
              "    </style>\n",
              "    "
            ]
          },
          "metadata": {}
        }
      ]
    },
    {
      "cell_type": "code",
      "source": [
        "# Retrieve five random UETR codes of transactions\n",
        "sample = train_df.sample(False, 0.00001).limit(5).collect()\n",
        "UETRs = [sample[row]['UETR'] for row in range(5)]\n",
        "\n",
        "# Display sample of transactions to verify accuracy of new columns\n",
        "cols_to_show = ['UETR', 'OriginalSender', 'SenderFreq', 'FinalReceiver', 'ReceiverFreq', 'Label']\n",
        "train_df.select(cols_to_show).filter(F.col('UETR').isin(UETRs)).show(truncate=20)"
      ],
      "metadata": {
        "id": "bItEwXpHm_HQ"
      },
      "execution_count": null,
      "outputs": []
    },
    {
      "cell_type": "markdown",
      "source": [
        "<br>"
      ],
      "metadata": {
        "id": "lcBEuIMcm-Fh"
      }
    },
    {
      "cell_type": "markdown",
      "metadata": {
        "id": "3lRfKQqI51Il"
      },
      "source": [
        "## Create `SenderReceiverFreq` feature: `OriginalSender`-`FinalReceiver` combination frequency for each sender and receiver pair\n",
        "\n",
        "This feature will tell us the frequency with which each original sender and final receiver executed transactions to one another. This should capture some of the signal in the `FinalReceiver` column that we haven't captured yet up to this point, since we've mostly been focused on the senders in the transactions.\n",
        "\n",
        "Once again, we will use the training data to map the values to the testing data. The testing data is only used to retrieve any `Sender`-`Receiver` pairs that might not be in the training data."
      ]
    },
    {
      "cell_type": "code",
      "execution_count": 24,
      "metadata": {
        "id": "GNPtx7aS50ic",
        "colab": {
          "base_uri": "https://localhost:8080/",
          "height": 17
        },
        "outputId": "6ad71e98-a8bd-420a-e915-c30d86129966"
      },
      "outputs": [
        {
          "output_type": "display_data",
          "data": {
            "text/plain": [
              "<IPython.core.display.HTML object>"
            ],
            "text/html": [
              "\n",
              "    <style>\n",
              "      pre {\n",
              "          white-space: pre-wrap;\n",
              "      }\n",
              "    </style>\n",
              "    "
            ]
          },
          "metadata": {}
        }
      ],
      "source": [
        "# Create column of senders concatenated with receivers\n",
        "train_df = train_df.withColumn('SenderReceiver', F.concat(F.col('OriginalSender'), F.col('FinalReceiver')))\n",
        "test_df = test_df.withColumn('SenderReceiver', F.concat(F.col('OriginalSender'), F.col('FinalReceiver')))\n",
        "\n",
        "# Create dictionary of sender receiver frequency values to map from sender receiver values\n",
        "sender_receiver_freq = {}\n",
        "\n",
        "pd_train_df = train_df.select('SenderReceiver').toPandas()\n",
        "pd_test_df = test_df.select('SenderReceiver').toPandas()\n",
        "\n",
        "for sr in set(\n",
        "    list(pd_train_df['SenderReceiver'].unique()) + list(pd_test_df['SenderReceiver'].unique())\n",
        "):\n",
        "    sender_receiver_freq[sr] = len(pd_train_df[pd_train_df['SenderReceiver'] == sr])\n",
        "\n",
        "# Create new column in train and test dataframes with sender_receiver_freq dictionary\n",
        "mapping_expr = F.create_map([F.lit(x) for x in chain(*sender_receiver_freq.items())])\n",
        "\n",
        "train_df = train_df.withColumn('SenderReceiverFreq', mapping_expr[F.col('SenderReceiver')])\n",
        "test_df = test_df.withColumn('SenderReceiverFreq', mapping_expr[F.col('SenderReceiver')])"
      ]
    },
    {
      "cell_type": "code",
      "source": [
        "# Retrieve five random UETR codes of transactions\n",
        "sample = train_df.sample(False, 0.00001).limit(5).collect()\n",
        "UETRs = [sample[row]['UETR'] for row in range(5)]\n",
        "\n",
        "# Display sample of transactions to verify accuracy of new columns\n",
        "cols_to_show = ['UETR', 'OriginalSender', 'FinalReceiver', 'SenderReceiver', 'SenderReceiverFreq', 'Label']\n",
        "train_df.select(cols_to_show).filter(F.col('UETR').isin(UETRs)).show(truncate=20)"
      ],
      "metadata": {
        "id": "nuYUP__h59Rn"
      },
      "execution_count": null,
      "outputs": []
    },
    {
      "cell_type": "markdown",
      "source": [
        "<br>"
      ],
      "metadata": {
        "id": "fzLlb62cee_w"
      }
    },
    {
      "cell_type": "markdown",
      "source": [
        "# Final Steps"
      ],
      "metadata": {
        "id": "Ah-nAnEo71V3"
      }
    },
    {
      "cell_type": "markdown",
      "metadata": {
        "id": "gFkdce4XbMAi"
      },
      "source": [
        "## Dataset 1, `train_df_numeric`: Numeric features only\n",
        "\n",
        "For our first dataset we're going to drop all categorical columns. Rathan using the full dataset with all categorical features, we might be able to get as good a score with a more minimalist model with only numeric features.\n",
        "\n",
        "We'll also drop `InstructedAmount` since it was supplanted with `InstructedAmountUSD`, as well as `SettlementAmount` for the reasons already mentioned.\n",
        "\n",
        "We'll keep `MessageId` for now as an index to identify unique transactions, but we're going to drop it before modeling."
      ]
    },
    {
      "cell_type": "code",
      "source": [
        "cols_to_drop = [\n",
        "    'Timestamp',\n",
        "    'UETR',\n",
        "    'Sender',\n",
        "    'Receiver',\n",
        "    'TransactionReference',\n",
        "    'OrderingAccount',\n",
        "    'OrderingName',\n",
        "    'OrderingStreet',\n",
        "    'OrderingCountryCityZip',\n",
        "    'BeneficiaryAccount',\n",
        "    'BeneficiaryName',\n",
        "    'BeneficiaryStreet',\n",
        "    'BeneficiaryCountryCityZip',\n",
        "    'SettlementDate',\n",
        "    'SettlementCurrency',\n",
        "    'SettlementAmount', \n",
        "    'InstructedCurrency', \n",
        "    'InstructedAmount', \n",
        "    'OrderingCountry', \n",
        "    'BeneficiaryCountry', \n",
        "    'SenderHour',\n",
        "    'SenderCurrency',\n",
        "    'SenderReceiver', \n",
        "    'OriginalSender', \n",
        "    'FinalReceiver', \n",
        "    'MatchingBeneficiaryAccount', \n",
        "    'BeneficiaryAccountFlag'\n",
        "]\n",
        "\n",
        "train_df_numeric = train_df.drop(*cols_to_drop)\n",
        "test_df_numeric = test_df.drop(*cols_to_drop)"
      ],
      "metadata": {
        "id": "_Qki9kYKS5Hr",
        "colab": {
          "base_uri": "https://localhost:8080/",
          "height": 17
        },
        "outputId": "aa3953dd-83e8-4919-d18c-db9e191bff58"
      },
      "execution_count": 25,
      "outputs": [
        {
          "output_type": "display_data",
          "data": {
            "text/plain": [
              "<IPython.core.display.HTML object>"
            ],
            "text/html": [
              "\n",
              "    <style>\n",
              "      pre {\n",
              "          white-space: pre-wrap;\n",
              "      }\n",
              "    </style>\n",
              "    "
            ]
          },
          "metadata": {}
        }
      ]
    },
    {
      "cell_type": "markdown",
      "source": [
        "## Review dataframes before saving"
      ],
      "metadata": {
        "id": "KwvPrpeCehpo"
      }
    },
    {
      "cell_type": "code",
      "source": [
        "# Verify we didn't forget to repeat any steps for test_df_numeric\n",
        "assert train_df_numeric.columns == test_df_numeric.columns"
      ],
      "metadata": {
        "colab": {
          "base_uri": "https://localhost:8080/",
          "height": 17
        },
        "id": "Ck5sIrNTfygj",
        "outputId": "951fba1b-426c-40a0-90de-114eb8a19931"
      },
      "execution_count": 26,
      "outputs": [
        {
          "output_type": "display_data",
          "data": {
            "text/plain": [
              "<IPython.core.display.HTML object>"
            ],
            "text/html": [
              "\n",
              "    <style>\n",
              "      pre {\n",
              "          white-space: pre-wrap;\n",
              "      }\n",
              "    </style>\n",
              "    "
            ]
          },
          "metadata": {}
        }
      ]
    },
    {
      "cell_type": "code",
      "source": [
        "# Display random row of train_df_numeric\n",
        "train_df_numeric.sample(False, 0.000001).limit(1).show(truncate=False, vertical=True)"
      ],
      "metadata": {
        "colab": {
          "base_uri": "https://localhost:8080/",
          "height": 303
        },
        "id": "mgpciYdaFdae",
        "outputId": "d7a62a4e-7497-479f-af49-89ad20821d32"
      },
      "execution_count": 27,
      "outputs": [
        {
          "output_type": "display_data",
          "data": {
            "text/plain": [
              "<IPython.core.display.HTML object>"
            ],
            "text/html": [
              "\n",
              "    <style>\n",
              "      pre {\n",
              "          white-space: pre-wrap;\n",
              "      }\n",
              "    </style>\n",
              "    "
            ]
          },
          "metadata": {}
        },
        {
          "output_type": "stream",
          "name": "stdout",
          "text": [
            "-RECORD 0------------------------------\n",
            " MessageId                | TRI2QFQLK0 \n",
            " Label                    | 0          \n",
            " InstructedAmountUSD      | 156675792  \n",
            " IntermediaryTransactions | 0          \n",
            " Flagged                  | 0          \n",
            " OrderingCountryFreq      | 1621628    \n",
            " BeneficiaryCountryFreq   | 1816792    \n",
            " Hour                     | 11         \n",
            " SenderHourFreq           | 536485     \n",
            " SenderCurrencyFreq       | 1402249    \n",
            " SenderCurrencyAmtAvg     | 201824855  \n",
            " SenderFreq               | 1646846    \n",
            " ReceiverFreq             | 1788788    \n",
            " SenderReceiverFreq       | 1621169    \n",
            "\n"
          ]
        }
      ]
    },
    {
      "cell_type": "code",
      "source": [
        "# Display random row of test_df_numeric\n",
        "test_df_numeric.sample(False, 0.00001).limit(1).show(truncate=False, vertical=True)"
      ],
      "metadata": {
        "colab": {
          "base_uri": "https://localhost:8080/",
          "height": 303
        },
        "id": "JWYsNKzQFiAL",
        "outputId": "eddca5fe-06ea-474b-b7c0-59ee7e0076b1"
      },
      "execution_count": 28,
      "outputs": [
        {
          "output_type": "display_data",
          "data": {
            "text/plain": [
              "<IPython.core.display.HTML object>"
            ],
            "text/html": [
              "\n",
              "    <style>\n",
              "      pre {\n",
              "          white-space: pre-wrap;\n",
              "      }\n",
              "    </style>\n",
              "    "
            ]
          },
          "metadata": {}
        },
        {
          "output_type": "stream",
          "name": "stdout",
          "text": [
            "-RECORD 0------------------------------\n",
            " MessageId                | TET6EKZEIS \n",
            " Label                    | 0          \n",
            " InstructedAmountUSD      | 17858596   \n",
            " IntermediaryTransactions | 0          \n",
            " Flagged                  | 0          \n",
            " OrderingCountryFreq      | 603157     \n",
            " BeneficiaryCountryFreq   | 684901     \n",
            " Hour                     | 6          \n",
            " SenderHourFreq           | 114677     \n",
            " SenderCurrencyFreq       | 603071     \n",
            " SenderCurrencyAmtAvg     | 64489888   \n",
            " SenderFreq               | 612164     \n",
            " ReceiverFreq             | 381548     \n",
            " SenderReceiverFreq       | 109156     \n",
            "\n"
          ]
        }
      ]
    },
    {
      "cell_type": "code",
      "source": [
        "# Check for null/NaN values in train_df and test_df\n",
        "train_df_numeric_null = train_df_numeric.select([F.count(F.when(F.col(c).isNull() | F.isnan(c), c))\\\n",
        "                                                 .alias(c) for c in train_df_numeric.columns])\n",
        "\n",
        "test_df_numeric_null = test_df_numeric.select([F.count(F.when(F.col(c).isNull() | F.isnan(c), c))\\\n",
        "                                               .alias(c) for c in test_df_numeric.columns])\n",
        "\n",
        "print('Number of null/NaN values per column, train_df_numeric:\\n')\n",
        "train_df_numeric_null.show(truncate=False, vertical=True)\n",
        "\n",
        "print('Number of null/NaN values per column, test_df_numeric:\\n')\n",
        "test_df_numeric_null.show(truncate=False, vertical=True)"
      ],
      "metadata": {
        "colab": {
          "base_uri": "https://localhost:8080/",
          "height": 660
        },
        "id": "rrOkHQ_lzM8t",
        "outputId": "4661e2e5-a9e1-4f6d-c909-684214daaf89"
      },
      "execution_count": 29,
      "outputs": [
        {
          "output_type": "display_data",
          "data": {
            "text/plain": [
              "<IPython.core.display.HTML object>"
            ],
            "text/html": [
              "\n",
              "    <style>\n",
              "      pre {\n",
              "          white-space: pre-wrap;\n",
              "      }\n",
              "    </style>\n",
              "    "
            ]
          },
          "metadata": {}
        },
        {
          "output_type": "stream",
          "name": "stdout",
          "text": [
            "Number of null/NaN values per column, train_df:\n",
            "\n",
            "-RECORD 0-----------------------\n",
            " MessageId                | 0   \n",
            " Label                    | 0   \n",
            " InstructedAmountUSD      | 0   \n",
            " IntermediaryTransactions | 0   \n",
            " Flagged                  | 0   \n",
            " OrderingCountryFreq      | 0   \n",
            " BeneficiaryCountryFreq   | 0   \n",
            " Hour                     | 0   \n",
            " SenderHourFreq           | 0   \n",
            " SenderCurrencyFreq       | 0   \n",
            " SenderCurrencyAmtAvg     | 0   \n",
            " SenderFreq               | 0   \n",
            " ReceiverFreq             | 0   \n",
            " SenderReceiverFreq       | 0   \n",
            "\n",
            "Number of null/NaN values per column, test_df:\n",
            "\n",
            "-RECORD 0-----------------------\n",
            " MessageId                | 0   \n",
            " Label                    | 0   \n",
            " InstructedAmountUSD      | 0   \n",
            " IntermediaryTransactions | 0   \n",
            " Flagged                  | 0   \n",
            " OrderingCountryFreq      | 0   \n",
            " BeneficiaryCountryFreq   | 0   \n",
            " Hour                     | 0   \n",
            " SenderHourFreq           | 0   \n",
            " SenderCurrencyFreq       | 0   \n",
            " SenderCurrencyAmtAvg     | 0   \n",
            " SenderFreq               | 0   \n",
            " ReceiverFreq             | 0   \n",
            " SenderReceiverFreq       | 0   \n",
            "\n"
          ]
        }
      ]
    },
    {
      "cell_type": "markdown",
      "source": [
        "<br>"
      ],
      "metadata": {
        "id": "Y68-FqrYGq6K"
      }
    },
    {
      "cell_type": "markdown",
      "source": [
        "## Dataset 2, `train_df_full`: Full dataset including relevant categorical features\n",
        "\n",
        "For our second dataset, we're going to include all (relevant) nominal categorical features that we dropped in the numeric dataset. There are still many categorical features that we are still going to drop that we did not do any preprocessing on and likely carry little to no value.\n",
        "\n",
        "The additional categorical features we're keeping are: `InstructedCurrency`, `SettlementCurrency`, `OriginalSender`, `FinalReceiver`, `OrderingCountry`, and `BeneficiaryCountry`."
      ],
      "metadata": {
        "id": "Oh1-31_4GtUr"
      }
    },
    {
      "cell_type": "code",
      "source": [
        "cols_to_drop = [\n",
        "    'Timestamp',\n",
        "    'UETR',\n",
        "    'Sender',\n",
        "    'Receiver',\n",
        "    'TransactionReference',\n",
        "    'OrderingAccount',\n",
        "    'OrderingName',\n",
        "    'OrderingStreet',\n",
        "    'OrderingCountryCityZip',\n",
        "    'BeneficiaryAccount',\n",
        "    'BeneficiaryName',\n",
        "    'BeneficiaryStreet',\n",
        "    'BeneficiaryCountryCityZip',\n",
        "    'SettlementDate',\n",
        "    'SettlementAmount', \n",
        "    'InstructedAmount', \n",
        "    'SenderHour',\n",
        "    'SenderCurrency',\n",
        "    'SenderReceiver', \n",
        "    'MatchingBeneficiaryAccount', \n",
        "    'BeneficiaryAccountFlag'\n",
        "]\n",
        "\n",
        "train_df_full = train_df.drop(*cols_to_drop)\n",
        "test_df_full = test_df.drop(*cols_to_drop)"
      ],
      "metadata": {
        "colab": {
          "base_uri": "https://localhost:8080/",
          "height": 17
        },
        "id": "IEgb5q10HaTK",
        "outputId": "8771466d-bdab-4637-a86e-0be2c8cad5ea"
      },
      "execution_count": 30,
      "outputs": [
        {
          "output_type": "display_data",
          "data": {
            "text/plain": [
              "<IPython.core.display.HTML object>"
            ],
            "text/html": [
              "\n",
              "    <style>\n",
              "      pre {\n",
              "          white-space: pre-wrap;\n",
              "      }\n",
              "    </style>\n",
              "    "
            ]
          },
          "metadata": {}
        }
      ]
    },
    {
      "cell_type": "code",
      "source": [
        "# Verify we didn't forget to repeat any steps for test_df_full\n",
        "assert train_df_full.columns == test_df_full.columns"
      ],
      "metadata": {
        "colab": {
          "base_uri": "https://localhost:8080/",
          "height": 17
        },
        "id": "V1xL-WuvHe1w",
        "outputId": "8c9f5f5c-dcff-4486-cc86-79f92f5b2539"
      },
      "execution_count": 31,
      "outputs": [
        {
          "output_type": "display_data",
          "data": {
            "text/plain": [
              "<IPython.core.display.HTML object>"
            ],
            "text/html": [
              "\n",
              "    <style>\n",
              "      pre {\n",
              "          white-space: pre-wrap;\n",
              "      }\n",
              "    </style>\n",
              "    "
            ]
          },
          "metadata": {}
        }
      ]
    },
    {
      "cell_type": "code",
      "source": [
        "# Display random row of train_df_full\n",
        "train_df_full.sample(False, 0.000001).limit(1).show(truncate=False, vertical=True)"
      ],
      "metadata": {
        "colab": {
          "base_uri": "https://localhost:8080/",
          "height": 410
        },
        "id": "GFtJHWtYHfOD",
        "outputId": "b0e80079-90c2-4bf4-d5cf-92b9995f7ed3"
      },
      "execution_count": 32,
      "outputs": [
        {
          "output_type": "display_data",
          "data": {
            "text/plain": [
              "<IPython.core.display.HTML object>"
            ],
            "text/html": [
              "\n",
              "    <style>\n",
              "      pre {\n",
              "          white-space: pre-wrap;\n",
              "      }\n",
              "    </style>\n",
              "    "
            ]
          },
          "metadata": {}
        },
        {
          "output_type": "stream",
          "name": "stdout",
          "text": [
            "-RECORD 0------------------------------\n",
            " MessageId                | TRAD78EBQE \n",
            " SettlementCurrency       | USD        \n",
            " InstructedCurrency       | EUR        \n",
            " Label                    | 0          \n",
            " OrderingCountry          | FR         \n",
            " BeneficiaryCountry       | US         \n",
            " InstructedAmountUSD      | 2382189    \n",
            " IntermediaryTransactions | 0          \n",
            " OriginalSender           | DPSUFRPP   \n",
            " FinalReceiver            | ABVVUS6S   \n",
            " Flagged                  | 0          \n",
            " OrderingCountryFreq      | 1621628    \n",
            " BeneficiaryCountryFreq   | 1816792    \n",
            " Hour                     | 11         \n",
            " SenderHourFreq           | 536485     \n",
            " SenderCurrencyFreq       | 1402249    \n",
            " SenderCurrencyAmtAvg     | 201824855  \n",
            " SenderFreq               | 1646846    \n",
            " ReceiverFreq             | 1788788    \n",
            " SenderReceiverFreq       | 1621169    \n",
            "\n"
          ]
        }
      ]
    },
    {
      "cell_type": "code",
      "source": [
        "# Display random row of test_df_full\n",
        "test_df_full.sample(False, 0.00001).limit(1).show(truncate=False, vertical=True)"
      ],
      "metadata": {
        "colab": {
          "base_uri": "https://localhost:8080/",
          "height": 410
        },
        "id": "Lr_noNdKKbvN",
        "outputId": "fb1b4958-4855-4ada-9027-a9eb42798e07"
      },
      "execution_count": 33,
      "outputs": [
        {
          "output_type": "display_data",
          "data": {
            "text/plain": [
              "<IPython.core.display.HTML object>"
            ],
            "text/html": [
              "\n",
              "    <style>\n",
              "      pre {\n",
              "          white-space: pre-wrap;\n",
              "      }\n",
              "    </style>\n",
              "    "
            ]
          },
          "metadata": {}
        },
        {
          "output_type": "stream",
          "name": "stdout",
          "text": [
            "-RECORD 0------------------------------\n",
            " MessageId                | TE9PUB8UU7 \n",
            " SettlementCurrency       | GBP        \n",
            " InstructedCurrency       | GBP        \n",
            " Label                    | 0          \n",
            " OrderingCountry          | GB         \n",
            " BeneficiaryCountry       | GB         \n",
            " InstructedAmountUSD      | 1444456    \n",
            " IntermediaryTransactions | 0          \n",
            " OriginalSender           | ZOUOGB22   \n",
            " FinalReceiver            | WMVZGB2L   \n",
            " Flagged                  | 0          \n",
            " OrderingCountryFreq      | 529859     \n",
            " BeneficiaryCountryFreq   | 541932     \n",
            " Hour                     | 16         \n",
            " SenderHourFreq           | 16891      \n",
            " SenderCurrencyFreq       | 529744     \n",
            " SenderCurrencyAmtAvg     | 2292840    \n",
            " SenderFreq               | 529859     \n",
            " ReceiverFreq             | 541837     \n",
            " SenderReceiverFreq       | 267752     \n",
            "\n"
          ]
        }
      ]
    },
    {
      "cell_type": "code",
      "source": [
        "# Check for null/NaN values in train_df_full and test_df_full\n",
        "train_df_full_null = train_df_full.select([F.count(F.when(F.col(c).isNull() | F.isnan(c), c))\\\n",
        "                                                 .alias(c) for c in train_df_full.columns])\n",
        "\n",
        "test_df_full_null = test_df_full.select([F.count(F.when(F.col(c).isNull() | F.isnan(c), c))\\\n",
        "                                               .alias(c) for c in test_df_full.columns])\n",
        "\n",
        "print('Number of null/NaN values per column, train_df_full:\\n')\n",
        "train_df_full_null.show(truncate=False, vertical=True)\n",
        "\n",
        "print('Number of null/NaN values per column, test_df_full:\\n')\n",
        "test_df_full_null.show(truncate=False, vertical=True)"
      ],
      "metadata": {
        "colab": {
          "base_uri": "https://localhost:8080/",
          "height": 874
        },
        "id": "A2D0NnMrKmpw",
        "outputId": "4f79e6f3-935d-43db-a847-1b62bc8502e0"
      },
      "execution_count": 34,
      "outputs": [
        {
          "output_type": "display_data",
          "data": {
            "text/plain": [
              "<IPython.core.display.HTML object>"
            ],
            "text/html": [
              "\n",
              "    <style>\n",
              "      pre {\n",
              "          white-space: pre-wrap;\n",
              "      }\n",
              "    </style>\n",
              "    "
            ]
          },
          "metadata": {}
        },
        {
          "output_type": "stream",
          "name": "stdout",
          "text": [
            "Number of null/NaN values per column, train_df:\n",
            "\n",
            "-RECORD 0-----------------------\n",
            " MessageId                | 0   \n",
            " SettlementCurrency       | 0   \n",
            " InstructedCurrency       | 0   \n",
            " Label                    | 0   \n",
            " OrderingCountry          | 0   \n",
            " BeneficiaryCountry       | 0   \n",
            " InstructedAmountUSD      | 0   \n",
            " IntermediaryTransactions | 0   \n",
            " OriginalSender           | 0   \n",
            " FinalReceiver            | 0   \n",
            " Flagged                  | 0   \n",
            " OrderingCountryFreq      | 0   \n",
            " BeneficiaryCountryFreq   | 0   \n",
            " Hour                     | 0   \n",
            " SenderHourFreq           | 0   \n",
            " SenderCurrencyFreq       | 0   \n",
            " SenderCurrencyAmtAvg     | 0   \n",
            " SenderFreq               | 0   \n",
            " ReceiverFreq             | 0   \n",
            " SenderReceiverFreq       | 0   \n",
            "\n",
            "Number of null/NaN values per column, test_df:\n",
            "\n",
            "-RECORD 0-----------------------\n",
            " MessageId                | 0   \n",
            " SettlementCurrency       | 0   \n",
            " InstructedCurrency       | 0   \n",
            " Label                    | 0   \n",
            " OrderingCountry          | 0   \n",
            " BeneficiaryCountry       | 0   \n",
            " InstructedAmountUSD      | 0   \n",
            " IntermediaryTransactions | 0   \n",
            " OriginalSender           | 0   \n",
            " FinalReceiver            | 0   \n",
            " Flagged                  | 0   \n",
            " OrderingCountryFreq      | 0   \n",
            " BeneficiaryCountryFreq   | 0   \n",
            " Hour                     | 0   \n",
            " SenderHourFreq           | 0   \n",
            " SenderCurrencyFreq       | 0   \n",
            " SenderCurrencyAmtAvg     | 0   \n",
            " SenderFreq               | 0   \n",
            " ReceiverFreq             | 0   \n",
            " SenderReceiverFreq       | 0   \n",
            "\n"
          ]
        }
      ]
    },
    {
      "cell_type": "markdown",
      "source": [
        "**Remarks**:\n",
        "- No null/NaN values - good to go!"
      ],
      "metadata": {
        "id": "wmvSjExHuazz"
      }
    },
    {
      "cell_type": "markdown",
      "source": [
        "<br>"
      ],
      "metadata": {
        "id": "9_ZAOfg1J187"
      }
    },
    {
      "cell_type": "markdown",
      "source": [
        "### Save preprocessed numeric dataframes as CSV files"
      ],
      "metadata": {
        "id": "FzpRyH28OEUG"
      }
    },
    {
      "cell_type": "code",
      "execution_count": 35,
      "metadata": {
        "colab": {
          "base_uri": "https://localhost:8080/",
          "height": 17
        },
        "id": "wkunOiddOEUH",
        "outputId": "a1c48d98-a474-43f0-a6b1-cfd93f1d6955"
      },
      "outputs": [
        {
          "output_type": "display_data",
          "data": {
            "text/plain": [
              "<IPython.core.display.HTML object>"
            ],
            "text/html": [
              "\n",
              "    <style>\n",
              "      pre {\n",
              "          white-space: pre-wrap;\n",
              "      }\n",
              "    </style>\n",
              "    "
            ]
          },
          "metadata": {}
        }
      ],
      "source": [
        "train_df_numeric.coalesce(1).write.csv(drive_path + 'train_df_numeric.csv', header=True)\n",
        "test_df_numeric.coalesce(1).write.csv(drive_path + 'test_df_numeric.csv', header=True)"
      ]
    },
    {
      "cell_type": "markdown",
      "source": [
        "### Save preprocessed full dataframes as CSV files"
      ],
      "metadata": {
        "id": "GeL_WaomERRx"
      }
    },
    {
      "cell_type": "code",
      "source": [
        "train_df_full.coalesce(1).write.csv(drive_path + 'train_df_full.csv', header=True)\n",
        "test_df_full.coalesce(1).write.csv(drive_path + 'test_df_full.csv', header=True)"
      ],
      "metadata": {
        "colab": {
          "base_uri": "https://localhost:8080/",
          "height": 17
        },
        "id": "PqoITI23Ekma",
        "outputId": "daf1cd66-e73f-4fcc-818b-8c4ef9743e46"
      },
      "execution_count": 36,
      "outputs": [
        {
          "output_type": "display_data",
          "data": {
            "text/plain": [
              "<IPython.core.display.HTML object>"
            ],
            "text/html": [
              "\n",
              "    <style>\n",
              "      pre {\n",
              "          white-space: pre-wrap;\n",
              "      }\n",
              "    </style>\n",
              "    "
            ]
          },
          "metadata": {}
        }
      ]
    },
    {
      "cell_type": "markdown",
      "source": [
        "<br>"
      ],
      "metadata": {
        "id": "MyvCtWOUd8bv"
      }
    },
    {
      "cell_type": "markdown",
      "source": [
        "<br>"
      ],
      "metadata": {
        "id": "EbS0Jq6md-Kq"
      }
    },
    {
      "cell_type": "markdown",
      "source": [
        "# Modeling Dataframe 1: `weighted_df`\n",
        "\n",
        "As we saw above, the training dataset is extremely imbalanced in regards to target class distribution. In order to improve modeling performance, we'll create two different dataframes for modeling: one that sets class weights to use in modeling, which is done through a new column specifying the weights to use in `Weight`, and another that we resample through a combination of over and undersampling.\n",
        "\n",
        "We'll create the new `Weight` column using the `set_weight_col` function in helper_functions.\n",
        "\n"
      ],
      "metadata": {
        "id": "09uu3jqXN0D3"
      }
    },
    {
      "cell_type": "code",
      "source": [
        "def set_weight_col(df, label_col, neg_class_weight):\n",
        "    \"\"\"\n",
        "    Calculates and creates a column of class weights \n",
        "    in a PySpark dataframe with an imbalanced binary \n",
        "    target class distribution.\n",
        "\n",
        "    Parameters\n",
        "    ----------\n",
        "    df : Spark `DataFrame`\n",
        "        The Spark `DataFrame` to assign the \n",
        "        `ClassWeight` column to\n",
        "    label_col : Spark `Column`\n",
        "        Label column name\n",
        "    neg_class_weight : '`float` or 'balanced'\n",
        "        New class weight to assign to negative class \n",
        "        (`0`) in weight column. If 'balanced', assigned \n",
        "        class weights will be equal to 1 - proportion of \n",
        "        class in dataframe. If `float`, negative class \n",
        "        will be assigned `neg_class_weight` and positive \n",
        "        class weights remain at 1.0.\n",
        "    \"\"\"\n",
        "    if neg_class_weight == 'balanced':\n",
        "        balancing_ratio = df.filter(F.col(label_col) == 1).count() / df.count()\n",
        "        calculate_weights = F.udf(lambda x: balancing_ratio if x == 0 \n",
        "                                  else 1.0 - balancing_ratio, DoubleType())\n",
        "    else:\n",
        "        calculate_weights = F.udf(lambda x: neg_class_weight if x == 0 \n",
        "                                  else 1.0, DoubleType())\n",
        "\n",
        "    df = df.withColumn('Weight', calculate_weights(label_col))\n",
        "\n",
        "    return df"
      ],
      "metadata": {
        "id": "Ag8L-m7Y6_ns"
      },
      "execution_count": null,
      "outputs": []
    },
    {
      "cell_type": "code",
      "source": [
        "print(set_weight_col.__doc__)"
      ],
      "metadata": {
        "id": "3ALqIE_qrg5J"
      },
      "execution_count": null,
      "outputs": []
    },
    {
      "cell_type": "code",
      "source": [
        "train_df = set_weight_col(train_df, label_col='Label')"
      ],
      "metadata": {
        "id": "AiuEdyF5z73i"
      },
      "execution_count": null,
      "outputs": []
    },
    {
      "cell_type": "code",
      "source": [
        "cols_to_show = ['MessageId', 'Label', 'ClassWeight']\n",
        "train_df.select(cols_to_show).where(train_df.Label == 0).show(1, truncate=False, vertical=True)\n",
        "train_df.select(cols_to_show).where(train_df.Label == 1).show(1, truncate=False, vertical=True)"
      ],
      "metadata": {
        "id": "OcJYBPAm0CL8"
      },
      "execution_count": null,
      "outputs": []
    },
    {
      "cell_type": "markdown",
      "source": [
        "<br>"
      ],
      "metadata": {
        "id": "D894x7_bNzVu"
      }
    },
    {
      "cell_type": "markdown",
      "metadata": {
        "id": "iyxiNwEpbYsD"
      },
      "source": [
        "# Modeling Dataframe 2: `resampled_df`\n",
        "\n",
        "For the second dataset, we'll rebalance the data through a combination of undersampling the majority class (non-amomalous transactions) and oversampling the minority class (anomalous transactions). Using the function I wrote in helper_functions.py, we'll specify a more balanced positive to negative class ratio of 0.25 in the new resampled dataframe, with 4,690,000 observations (roughly equivalent to the number of rows in the original training dataset)."
      ]
    },
    {
      "cell_type": "code",
      "source": [
        "print(spark_resample.__doc__)"
      ],
      "metadata": {
        "id": "Lf4Ww6LtPD7o"
      },
      "execution_count": null,
      "outputs": []
    },
    {
      "cell_type": "code",
      "execution_count": null,
      "metadata": {
        "id": "hJkpUEvM-uc5"
      },
      "outputs": [],
      "source": [
        "# Drop ClassWeight column of train_df\n",
        "train_df = train_df.drop('ClassWeight')\n",
        "\n",
        "# Resample train_df; specify approximately 4,690,000 observations in new resampled dataframe, \n",
        "# with more balanced (0.25) ratio of positive target class (1) to negative target class (0)\n",
        "train_df = spark_resample(train_df, ratio=0.25, new_count=4690000, \n",
        "                          class_field='Label', pos_class=1, shuffle=True, random_state=42)"
      ]
    },
    {
      "cell_type": "code",
      "execution_count": null,
      "metadata": {
        "id": "7efDPlelAE7W"
      },
      "outputs": [],
      "source": [
        "# Print shape of resampled dataframe\n",
        "print(f\"Resampled train_df:  {train_df.count():,} Rows, {len(train_df.columns)} Columns\")"
      ]
    },
    {
      "cell_type": "code",
      "execution_count": null,
      "metadata": {
        "id": "86041fe4-e330-4402-bdac-8b7bf0eac6c8"
      },
      "outputs": [],
      "source": [
        "# Preview resampled dataframe\n",
        "train_df.show(3, truncate=False, vertical=True)"
      ]
    },
    {
      "cell_type": "code",
      "execution_count": null,
      "metadata": {
        "id": "XmckUs8hfF5r"
      },
      "outputs": [],
      "source": [
        "# Display value counts for 'Label' column (classification target) of resampled dataframe\n",
        "resampled_class_counts = train_df.groupBy('Label')\\\n",
        "                                 .count()\\\n",
        "                                 .withColumn('percent', F.col('count')/train_df.count())\n",
        "\n",
        "resampled_class_counts.show(truncate=10)"
      ]
    },
    {
      "cell_type": "markdown",
      "source": [
        "### Save resampled training dataframe as CSV file"
      ],
      "metadata": {
        "id": "dNen6kOq3P17"
      }
    },
    {
      "cell_type": "code",
      "execution_count": null,
      "metadata": {
        "id": "dOsBhtSO6QUw"
      },
      "outputs": [],
      "source": [
        "train_df.coalesce(1).write.csv('/content/drive/MyDrive/Colab Notebooks/train_df_resampled.csv', header=True)"
      ]
    }
  ]
}